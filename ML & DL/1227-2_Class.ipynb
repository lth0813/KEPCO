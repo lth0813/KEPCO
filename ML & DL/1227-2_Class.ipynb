{
 "cells": [
  {
   "cell_type": "code",
   "execution_count": 1,
   "id": "ddff4ea0-cb14-414e-9ddd-b9dfff276a9b",
   "metadata": {
    "tags": []
   },
   "outputs": [],
   "source": [
    "import numpy as np\n",
    "import pandas as pd"
   ]
  },
  {
   "cell_type": "code",
   "execution_count": 21,
   "id": "9430ab11-3b49-4bba-9930-1d7bbb09f89a",
   "metadata": {
    "tags": []
   },
   "outputs": [],
   "source": [
    "# 1. data\n",
    "sample = pd.read_csv(\"sample.csv\")"
   ]
  },
  {
   "cell_type": "code",
   "execution_count": 22,
   "id": "b79f3bce-41f4-44d7-ab04-85fe983ff131",
   "metadata": {
    "tags": []
   },
   "outputs": [],
   "source": [
    "sample = sample.iloc[:,1:]"
   ]
  },
  {
   "cell_type": "code",
   "execution_count": 23,
   "id": "270a5e7d-be76-4aca-a6ab-4df4516cb5d7",
   "metadata": {
    "tags": []
   },
   "outputs": [
    {
     "data": {
      "text/html": [
       "<div>\n",
       "<style scoped>\n",
       "    .dataframe tbody tr th:only-of-type {\n",
       "        vertical-align: middle;\n",
       "    }\n",
       "\n",
       "    .dataframe tbody tr th {\n",
       "        vertical-align: top;\n",
       "    }\n",
       "\n",
       "    .dataframe thead th {\n",
       "        text-align: right;\n",
       "    }\n",
       "</style>\n",
       "<table border=\"1\" class=\"dataframe\">\n",
       "  <thead>\n",
       "    <tr style=\"text-align: right;\">\n",
       "      <th></th>\n",
       "      <th>outlook</th>\n",
       "      <th>temp</th>\n",
       "      <th>humidity</th>\n",
       "      <th>windy</th>\n",
       "      <th>play</th>\n",
       "    </tr>\n",
       "  </thead>\n",
       "  <tbody>\n",
       "    <tr>\n",
       "      <th>0</th>\n",
       "      <td>overcast</td>\n",
       "      <td>hot</td>\n",
       "      <td>high</td>\n",
       "      <td>False</td>\n",
       "      <td>yes</td>\n",
       "    </tr>\n",
       "    <tr>\n",
       "      <th>1</th>\n",
       "      <td>overcast</td>\n",
       "      <td>cool</td>\n",
       "      <td>normal</td>\n",
       "      <td>True</td>\n",
       "      <td>yes</td>\n",
       "    </tr>\n",
       "    <tr>\n",
       "      <th>2</th>\n",
       "      <td>overcast</td>\n",
       "      <td>mild</td>\n",
       "      <td>high</td>\n",
       "      <td>True</td>\n",
       "      <td>yes</td>\n",
       "    </tr>\n",
       "    <tr>\n",
       "      <th>3</th>\n",
       "      <td>overcast</td>\n",
       "      <td>hot</td>\n",
       "      <td>normal</td>\n",
       "      <td>False</td>\n",
       "      <td>yes</td>\n",
       "    </tr>\n",
       "    <tr>\n",
       "      <th>4</th>\n",
       "      <td>rainy</td>\n",
       "      <td>mild</td>\n",
       "      <td>high</td>\n",
       "      <td>False</td>\n",
       "      <td>yes</td>\n",
       "    </tr>\n",
       "    <tr>\n",
       "      <th>5</th>\n",
       "      <td>rainy</td>\n",
       "      <td>cool</td>\n",
       "      <td>normal</td>\n",
       "      <td>False</td>\n",
       "      <td>yes</td>\n",
       "    </tr>\n",
       "    <tr>\n",
       "      <th>6</th>\n",
       "      <td>rainy</td>\n",
       "      <td>cool</td>\n",
       "      <td>normal</td>\n",
       "      <td>True</td>\n",
       "      <td>no</td>\n",
       "    </tr>\n",
       "    <tr>\n",
       "      <th>7</th>\n",
       "      <td>rainy</td>\n",
       "      <td>mild</td>\n",
       "      <td>normal</td>\n",
       "      <td>False</td>\n",
       "      <td>yes</td>\n",
       "    </tr>\n",
       "    <tr>\n",
       "      <th>8</th>\n",
       "      <td>rainy</td>\n",
       "      <td>mild</td>\n",
       "      <td>high</td>\n",
       "      <td>True</td>\n",
       "      <td>no</td>\n",
       "    </tr>\n",
       "    <tr>\n",
       "      <th>9</th>\n",
       "      <td>sunny</td>\n",
       "      <td>hot</td>\n",
       "      <td>high</td>\n",
       "      <td>False</td>\n",
       "      <td>no</td>\n",
       "    </tr>\n",
       "    <tr>\n",
       "      <th>10</th>\n",
       "      <td>sunny</td>\n",
       "      <td>hot</td>\n",
       "      <td>high</td>\n",
       "      <td>True</td>\n",
       "      <td>no</td>\n",
       "    </tr>\n",
       "    <tr>\n",
       "      <th>11</th>\n",
       "      <td>sunny</td>\n",
       "      <td>mild</td>\n",
       "      <td>high</td>\n",
       "      <td>False</td>\n",
       "      <td>no</td>\n",
       "    </tr>\n",
       "    <tr>\n",
       "      <th>12</th>\n",
       "      <td>sunny</td>\n",
       "      <td>cool</td>\n",
       "      <td>normal</td>\n",
       "      <td>False</td>\n",
       "      <td>yes</td>\n",
       "    </tr>\n",
       "    <tr>\n",
       "      <th>13</th>\n",
       "      <td>sunny</td>\n",
       "      <td>mild</td>\n",
       "      <td>normal</td>\n",
       "      <td>True</td>\n",
       "      <td>yes</td>\n",
       "    </tr>\n",
       "  </tbody>\n",
       "</table>\n",
       "</div>"
      ],
      "text/plain": [
       "     outlook  temp humidity  windy play\n",
       "0   overcast   hot     high  False  yes\n",
       "1   overcast  cool   normal   True  yes\n",
       "2   overcast  mild     high   True  yes\n",
       "3   overcast   hot   normal  False  yes\n",
       "4      rainy  mild     high  False  yes\n",
       "5      rainy  cool   normal  False  yes\n",
       "6      rainy  cool   normal   True   no\n",
       "7      rainy  mild   normal  False  yes\n",
       "8      rainy  mild     high   True   no\n",
       "9      sunny   hot     high  False   no\n",
       "10     sunny   hot     high   True   no\n",
       "11     sunny  mild     high  False   no\n",
       "12     sunny  cool   normal  False  yes\n",
       "13     sunny  mild   normal   True  yes"
      ]
     },
     "execution_count": 23,
     "metadata": {},
     "output_type": "execute_result"
    }
   ],
   "source": [
    "sample"
   ]
  },
  {
   "cell_type": "code",
   "execution_count": 24,
   "id": "9a25d64c-975d-4cb9-978d-616263dacfc8",
   "metadata": {
    "tags": []
   },
   "outputs": [
    {
     "data": {
      "text/plain": [
       "0.6428571428571429"
      ]
     },
     "execution_count": 24,
     "metadata": {},
     "output_type": "execute_result"
    }
   ],
   "source": [
    "len(sample.loc[sample.play == 'yes',:])/len(sample)"
   ]
  },
  {
   "cell_type": "code",
   "execution_count": 25,
   "id": "7d8f61e7-4239-4002-b41c-c1ded7241cf3",
   "metadata": {
    "tags": []
   },
   "outputs": [
    {
     "data": {
      "text/plain": [
       "0.35714285714285715"
      ]
     },
     "execution_count": 25,
     "metadata": {},
     "output_type": "execute_result"
    }
   ],
   "source": [
    "len(sample.loc[sample.play == 'no',:])/len(sample)"
   ]
  },
  {
   "cell_type": "code",
   "execution_count": 26,
   "id": "4d7d2862-9427-4d71-b369-0cb509eebca7",
   "metadata": {
    "tags": []
   },
   "outputs": [],
   "source": [
    "pk_yes = np.sum(sample.play == 'yes')/len(sample)\n",
    "pk_no = np.sum(sample.play == 'no')/len(sample)"
   ]
  },
  {
   "cell_type": "code",
   "execution_count": 27,
   "id": "607bdf9d-daf6-4f27-884d-e6f5cc02766d",
   "metadata": {
    "tags": []
   },
   "outputs": [
    {
     "data": {
      "text/plain": [
       "0.9402859586706311"
      ]
     },
     "execution_count": 27,
     "metadata": {},
     "output_type": "execute_result"
    }
   ],
   "source": [
    "-(pk_yes*np.log2(pk_yes) + pk_no*np.log2(pk_no))"
   ]
  },
  {
   "cell_type": "code",
   "execution_count": 30,
   "id": "6f025479-726d-471c-82bc-c048f4748e3e",
   "metadata": {
    "tags": []
   },
   "outputs": [],
   "source": [
    "overcast_ = sample.loc[sample.outlook == 'overcast',:]"
   ]
  },
  {
   "cell_type": "code",
   "execution_count": 39,
   "id": "4a9be04b-f28f-4884-8712-b83e139a6697",
   "metadata": {
    "tags": []
   },
   "outputs": [],
   "source": [
    "def entropy(x):\n",
    "    px = np.unique(x,return_counts = True)[1]/len(x)\n",
    "    entropy_ = -np.sum(px * np.log2(px))\n",
    "    return entropy_"
   ]
  },
  {
   "cell_type": "code",
   "execution_count": 49,
   "id": "00f2a335-072e-46c0-8537-8b5982f1c9ec",
   "metadata": {
    "tags": []
   },
   "outputs": [],
   "source": [
    "# y = play\n",
    "total = entropy(sample.play)\n",
    "# x = sample 독립변수"
   ]
  },
  {
   "cell_type": "code",
   "execution_count": 86,
   "id": "08947fd5-0605-47af-8953-2acb02698716",
   "metadata": {
    "tags": []
   },
   "outputs": [],
   "source": [
    "def info_gain(data,x,y):\n",
    "    total = entropy(data[y])\n",
    "    vals, counts = np.unique(data[x],return_counts=True)\n",
    "    gain = [ count/len(data)*entropy(data.loc[data[x] == val, y ]) for val, count in zip(vals,counts)]\n",
    "    return total - np.sum(gain)"
   ]
  },
  {
   "cell_type": "code",
   "execution_count": 67,
   "id": "91a6fc82-1d31-4b1c-8f66-9502a7f3ab54",
   "metadata": {
    "tags": []
   },
   "outputs": [
    {
     "data": {
      "text/plain": [
       "-0.0"
      ]
     },
     "execution_count": 67,
     "metadata": {},
     "output_type": "execute_result"
    }
   ],
   "source": [
    "counts[0]/len(sample)*entropy(sample.loc[sample.outlook == vals[0],'play'])"
   ]
  },
  {
   "cell_type": "code",
   "execution_count": 68,
   "id": "34a24102-df4c-4ab3-bcb5-49e7e3fc351b",
   "metadata": {
    "tags": []
   },
   "outputs": [
    {
     "data": {
      "text/plain": [
       "0.3467680694480959"
      ]
     },
     "execution_count": 68,
     "metadata": {},
     "output_type": "execute_result"
    }
   ],
   "source": [
    "counts[1]/len(sample)*entropy(sample.loc[sample.outlook == vals[1],'play'])"
   ]
  },
  {
   "cell_type": "code",
   "execution_count": 69,
   "id": "0dcd83f5-0851-46cf-bb12-12dd18f92f41",
   "metadata": {
    "tags": []
   },
   "outputs": [
    {
     "data": {
      "text/plain": [
       "0.3467680694480959"
      ]
     },
     "execution_count": 69,
     "metadata": {},
     "output_type": "execute_result"
    }
   ],
   "source": [
    "counts[2]/len(sample)*entropy(sample.loc[sample.outlook == vals[2],'play'])"
   ]
  },
  {
   "cell_type": "code",
   "execution_count": 78,
   "id": "30598c6c-e145-4063-83da-6f81b8220c09",
   "metadata": {
    "tags": []
   },
   "outputs": [
    {
     "data": {
      "text/plain": [
       "0.24674981977443933"
      ]
     },
     "execution_count": 78,
     "metadata": {},
     "output_type": "execute_result"
    }
   ],
   "source": [
    "gain = 0\n",
    "for i in range(len(counts)):\n",
    "    gain += counts[i]/len(sample)*entropy(sample.loc[sample.outlook == vals[i],'play'])\n",
    "total - gain"
   ]
  },
  {
   "cell_type": "code",
   "execution_count": 87,
   "id": "2cad1d56-19e2-4a9b-b757-5a58ca2f8bb7",
   "metadata": {
    "tags": []
   },
   "outputs": [
    {
     "data": {
      "text/plain": [
       "0.24674981977443933"
      ]
     },
     "execution_count": 87,
     "metadata": {},
     "output_type": "execute_result"
    }
   ],
   "source": [
    "info_gain(sample,'outlook','play')"
   ]
  },
  {
   "cell_type": "code",
   "execution_count": 88,
   "id": "8fcae0e3-e1c8-4f83-93c4-82a2af0ed3a6",
   "metadata": {
    "tags": []
   },
   "outputs": [
    {
     "data": {
      "text/plain": [
       "0.02922256565895487"
      ]
     },
     "execution_count": 88,
     "metadata": {},
     "output_type": "execute_result"
    }
   ],
   "source": [
    "info_gain(sample,'temp','play')"
   ]
  },
  {
   "cell_type": "code",
   "execution_count": 89,
   "id": "3d7a58a5-fdcc-4be8-9b2c-fd4e6a00f25f",
   "metadata": {
    "tags": []
   },
   "outputs": [
    {
     "data": {
      "text/plain": [
       "0.15183550136234159"
      ]
     },
     "execution_count": 89,
     "metadata": {},
     "output_type": "execute_result"
    }
   ],
   "source": [
    "info_gain(sample,'humidity','play')"
   ]
  },
  {
   "cell_type": "code",
   "execution_count": 90,
   "id": "4401a6b8-53ef-489f-8a09-849b5d79c0a6",
   "metadata": {
    "tags": []
   },
   "outputs": [
    {
     "data": {
      "text/plain": [
       "0.04812703040826949"
      ]
     },
     "execution_count": 90,
     "metadata": {},
     "output_type": "execute_result"
    }
   ],
   "source": [
    "info_gain(sample,'windy','play')"
   ]
  },
  {
   "cell_type": "code",
   "execution_count": null,
   "id": "759e147e-1946-42a1-ac4d-b313b9fe076c",
   "metadata": {},
   "outputs": [],
   "source": []
  }
 ],
 "metadata": {
  "kernelspec": {
   "display_name": "Python 3 (ipykernel)",
   "language": "python",
   "name": "python3"
  },
  "language_info": {
   "codemirror_mode": {
    "name": "ipython",
    "version": 3
   },
   "file_extension": ".py",
   "mimetype": "text/x-python",
   "name": "python",
   "nbconvert_exporter": "python",
   "pygments_lexer": "ipython3",
   "version": "3.11.4"
  }
 },
 "nbformat": 4,
 "nbformat_minor": 5
}
