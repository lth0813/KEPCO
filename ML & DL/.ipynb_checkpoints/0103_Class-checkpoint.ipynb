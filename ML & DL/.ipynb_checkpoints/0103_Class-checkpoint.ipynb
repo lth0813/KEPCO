{
 "cells": [
  {
   "cell_type": "code",
   "execution_count": 7,
   "id": "8243f256-1652-4c2d-b125-2daffb302b3c",
   "metadata": {
    "tags": []
   },
   "outputs": [],
   "source": [
    "import numpy as np\n",
    "import pandas as pd\n",
    "from sklearn.ensemble import RandomForestClassifier\n",
    "from sklearn.datasets import load_iris\n",
    "from sklearn.model_selection import train_test_split"
   ]
  },
  {
   "cell_type": "code",
   "execution_count": 3,
   "id": "018e26a1-ee5f-40b3-a263-bd5b84074615",
   "metadata": {
    "tags": []
   },
   "outputs": [],
   "source": [
    "rf = RandomForestClassifier()"
   ]
  },
  {
   "cell_type": "code",
   "execution_count": 5,
   "id": "3b67cff4-3446-4294-811b-37a2f6546f10",
   "metadata": {
    "tags": []
   },
   "outputs": [],
   "source": [
    "X = load_iris()['data']\n",
    "y = load_iris()['target']"
   ]
  },
  {
   "cell_type": "code",
   "execution_count": 8,
   "id": "2096a653-e645-4c90-865a-e1622ef84cda",
   "metadata": {
    "tags": []
   },
   "outputs": [],
   "source": [
    "X_train, X_test, y_train, y_test = train_test_split(X,y)"
   ]
  },
  {
   "cell_type": "code",
   "execution_count": 9,
   "id": "58bed3d4-0938-4908-9bb8-542a8cd9374f",
   "metadata": {
    "tags": []
   },
   "outputs": [
    {
     "data": {
      "text/html": [
       "<style>#sk-container-id-1 {color: black;}#sk-container-id-1 pre{padding: 0;}#sk-container-id-1 div.sk-toggleable {background-color: white;}#sk-container-id-1 label.sk-toggleable__label {cursor: pointer;display: block;width: 100%;margin-bottom: 0;padding: 0.3em;box-sizing: border-box;text-align: center;}#sk-container-id-1 label.sk-toggleable__label-arrow:before {content: \"▸\";float: left;margin-right: 0.25em;color: #696969;}#sk-container-id-1 label.sk-toggleable__label-arrow:hover:before {color: black;}#sk-container-id-1 div.sk-estimator:hover label.sk-toggleable__label-arrow:before {color: black;}#sk-container-id-1 div.sk-toggleable__content {max-height: 0;max-width: 0;overflow: hidden;text-align: left;background-color: #f0f8ff;}#sk-container-id-1 div.sk-toggleable__content pre {margin: 0.2em;color: black;border-radius: 0.25em;background-color: #f0f8ff;}#sk-container-id-1 input.sk-toggleable__control:checked~div.sk-toggleable__content {max-height: 200px;max-width: 100%;overflow: auto;}#sk-container-id-1 input.sk-toggleable__control:checked~label.sk-toggleable__label-arrow:before {content: \"▾\";}#sk-container-id-1 div.sk-estimator input.sk-toggleable__control:checked~label.sk-toggleable__label {background-color: #d4ebff;}#sk-container-id-1 div.sk-label input.sk-toggleable__control:checked~label.sk-toggleable__label {background-color: #d4ebff;}#sk-container-id-1 input.sk-hidden--visually {border: 0;clip: rect(1px 1px 1px 1px);clip: rect(1px, 1px, 1px, 1px);height: 1px;margin: -1px;overflow: hidden;padding: 0;position: absolute;width: 1px;}#sk-container-id-1 div.sk-estimator {font-family: monospace;background-color: #f0f8ff;border: 1px dotted black;border-radius: 0.25em;box-sizing: border-box;margin-bottom: 0.5em;}#sk-container-id-1 div.sk-estimator:hover {background-color: #d4ebff;}#sk-container-id-1 div.sk-parallel-item::after {content: \"\";width: 100%;border-bottom: 1px solid gray;flex-grow: 1;}#sk-container-id-1 div.sk-label:hover label.sk-toggleable__label {background-color: #d4ebff;}#sk-container-id-1 div.sk-serial::before {content: \"\";position: absolute;border-left: 1px solid gray;box-sizing: border-box;top: 0;bottom: 0;left: 50%;z-index: 0;}#sk-container-id-1 div.sk-serial {display: flex;flex-direction: column;align-items: center;background-color: white;padding-right: 0.2em;padding-left: 0.2em;position: relative;}#sk-container-id-1 div.sk-item {position: relative;z-index: 1;}#sk-container-id-1 div.sk-parallel {display: flex;align-items: stretch;justify-content: center;background-color: white;position: relative;}#sk-container-id-1 div.sk-item::before, #sk-container-id-1 div.sk-parallel-item::before {content: \"\";position: absolute;border-left: 1px solid gray;box-sizing: border-box;top: 0;bottom: 0;left: 50%;z-index: -1;}#sk-container-id-1 div.sk-parallel-item {display: flex;flex-direction: column;z-index: 1;position: relative;background-color: white;}#sk-container-id-1 div.sk-parallel-item:first-child::after {align-self: flex-end;width: 50%;}#sk-container-id-1 div.sk-parallel-item:last-child::after {align-self: flex-start;width: 50%;}#sk-container-id-1 div.sk-parallel-item:only-child::after {width: 0;}#sk-container-id-1 div.sk-dashed-wrapped {border: 1px dashed gray;margin: 0 0.4em 0.5em 0.4em;box-sizing: border-box;padding-bottom: 0.4em;background-color: white;}#sk-container-id-1 div.sk-label label {font-family: monospace;font-weight: bold;display: inline-block;line-height: 1.2em;}#sk-container-id-1 div.sk-label-container {text-align: center;}#sk-container-id-1 div.sk-container {/* jupyter's `normalize.less` sets `[hidden] { display: none; }` but bootstrap.min.css set `[hidden] { display: none !important; }` so we also need the `!important` here to be able to override the default hidden behavior on the sphinx rendered scikit-learn.org. See: https://github.com/scikit-learn/scikit-learn/issues/21755 */display: inline-block !important;position: relative;}#sk-container-id-1 div.sk-text-repr-fallback {display: none;}</style><div id=\"sk-container-id-1\" class=\"sk-top-container\"><div class=\"sk-text-repr-fallback\"><pre>RandomForestClassifier()</pre><b>In a Jupyter environment, please rerun this cell to show the HTML representation or trust the notebook. <br />On GitHub, the HTML representation is unable to render, please try loading this page with nbviewer.org.</b></div><div class=\"sk-container\" hidden><div class=\"sk-item\"><div class=\"sk-estimator sk-toggleable\"><input class=\"sk-toggleable__control sk-hidden--visually\" id=\"sk-estimator-id-1\" type=\"checkbox\" checked><label for=\"sk-estimator-id-1\" class=\"sk-toggleable__label sk-toggleable__label-arrow\">RandomForestClassifier</label><div class=\"sk-toggleable__content\"><pre>RandomForestClassifier()</pre></div></div></div></div></div>"
      ],
      "text/plain": [
       "RandomForestClassifier()"
      ]
     },
     "execution_count": 9,
     "metadata": {},
     "output_type": "execute_result"
    }
   ],
   "source": [
    "rf.fit(X_train,y_train)"
   ]
  },
  {
   "cell_type": "code",
   "execution_count": 10,
   "id": "2e57e9e3-6288-4500-bf0a-ffa8365ac60e",
   "metadata": {
    "tags": []
   },
   "outputs": [
    {
     "data": {
      "text/plain": [
       "0.7631578947368421"
      ]
     },
     "execution_count": 10,
     "metadata": {},
     "output_type": "execute_result"
    }
   ],
   "source": [
    "rf1 = RandomForestClassifier()\n",
    "rf1.fit(X_train[:,0:2],y_train)\n",
    "rf1.score(X_test[:,0:2],y_test)"
   ]
  },
  {
   "cell_type": "code",
   "execution_count": 11,
   "id": "bfa8b3ef-6637-4b4c-bc18-fbec254d4f38",
   "metadata": {
    "tags": []
   },
   "outputs": [
    {
     "data": {
      "text/plain": [
       "0.9736842105263158"
      ]
     },
     "execution_count": 11,
     "metadata": {},
     "output_type": "execute_result"
    }
   ],
   "source": [
    "rf2 = RandomForestClassifier()\n",
    "rf2.fit(X_train[:,2:4],y_train)\n",
    "rf2.score(X_test[:,2:4],y_test)"
   ]
  },
  {
   "cell_type": "code",
   "execution_count": 12,
   "id": "eb7272ac-aaf9-4879-983f-7595fcdb5cde",
   "metadata": {
    "tags": []
   },
   "outputs": [
    {
     "data": {
      "text/plain": [
       "array([4.4, 3.2, 1.3, 0.2])"
      ]
     },
     "execution_count": 12,
     "metadata": {},
     "output_type": "execute_result"
    }
   ],
   "source": [
    "X_train[0]"
   ]
  },
  {
   "cell_type": "code",
   "execution_count": 46,
   "id": "654845fd-dc0d-4fec-affd-34028f25e7e8",
   "metadata": {
    "tags": []
   },
   "outputs": [],
   "source": [
    "a = np.array([5.,7.2,6.7,1.3]).reshape(1,4)"
   ]
  },
  {
   "cell_type": "code",
   "execution_count": 47,
   "id": "7edbc32d-e9bc-44af-842a-db19a0426d91",
   "metadata": {
    "tags": []
   },
   "outputs": [
    {
     "data": {
      "text/plain": [
       "(112, 4)"
      ]
     },
     "execution_count": 47,
     "metadata": {},
     "output_type": "execute_result"
    }
   ],
   "source": [
    "X_train.shape"
   ]
  },
  {
   "cell_type": "code",
   "execution_count": 48,
   "id": "37cf1bd1-6492-4325-9195-d1dd4118f36b",
   "metadata": {
    "tags": []
   },
   "outputs": [],
   "source": [
    "from scipy.spatial import distance"
   ]
  },
  {
   "cell_type": "code",
   "execution_count": 50,
   "id": "111f4b7e-a7fa-4bc9-8fa6-0760e9e2dec2",
   "metadata": {
    "tags": []
   },
   "outputs": [
    {
     "data": {
      "text/plain": [
       "array([2, 2, 2, 2, 2, 1, 2, 1, 2, 1, 2, 2, 2, 2, 2, 2, 2, 2, 1, 2, 1, 1,\n",
       "       2, 2, 1, 2, 2, 2, 2, 1])"
      ]
     },
     "execution_count": 50,
     "metadata": {},
     "output_type": "execute_result"
    }
   ],
   "source": [
    "y_train[np.argsort(np.sum(np.square(X_train - a),1))[:30]]"
   ]
  },
  {
   "cell_type": "code",
   "execution_count": 58,
   "id": "20fc4793-b5cf-4071-8f4e-4191d9d5e47d",
   "metadata": {
    "tags": []
   },
   "outputs": [],
   "source": [
    "def knn(X, y, data, k=5):\n",
    "    dist = np.sum(np.square(X - data),1) # data로부터 각 X값의 거리\n",
    "    close_dist = np.argsort(dist)[:k] # 상위 k개 근접 찾기\n",
    "    class_, cnt = np.unique(y[close_dist],return_counts=True)\n",
    "    return class_[np.argmax(cnt)]"
   ]
  },
  {
   "cell_type": "code",
   "execution_count": 71,
   "id": "fabe0f14-0546-4408-b559-bdf2fc9ced09",
   "metadata": {
    "tags": []
   },
   "outputs": [],
   "source": [
    "x = np.abs(np.random.randn(1,4))*5"
   ]
  },
  {
   "cell_type": "code",
   "execution_count": 72,
   "id": "f5cf52ac-8e8b-4ffa-a08a-28861c6ca9ea",
   "metadata": {
    "tags": []
   },
   "outputs": [
    {
     "data": {
      "text/plain": [
       "2"
      ]
     },
     "execution_count": 72,
     "metadata": {},
     "output_type": "execute_result"
    }
   ],
   "source": [
    "knn(X_train,y_train,x)"
   ]
  },
  {
   "cell_type": "code",
   "execution_count": 82,
   "id": "f1c8b8b6-0898-4c1d-a68b-d10ead7217e5",
   "metadata": {
    "tags": []
   },
   "outputs": [],
   "source": [
    "from sklearn.tree import DecisionTreeClassifier"
   ]
  },
  {
   "cell_type": "code",
   "execution_count": 104,
   "id": "fef765d5-df8c-4e76-811e-b99331309f49",
   "metadata": {
    "tags": []
   },
   "outputs": [
    {
     "data": {
      "text/html": [
       "<style>#sk-container-id-3 {color: black;}#sk-container-id-3 pre{padding: 0;}#sk-container-id-3 div.sk-toggleable {background-color: white;}#sk-container-id-3 label.sk-toggleable__label {cursor: pointer;display: block;width: 100%;margin-bottom: 0;padding: 0.3em;box-sizing: border-box;text-align: center;}#sk-container-id-3 label.sk-toggleable__label-arrow:before {content: \"▸\";float: left;margin-right: 0.25em;color: #696969;}#sk-container-id-3 label.sk-toggleable__label-arrow:hover:before {color: black;}#sk-container-id-3 div.sk-estimator:hover label.sk-toggleable__label-arrow:before {color: black;}#sk-container-id-3 div.sk-toggleable__content {max-height: 0;max-width: 0;overflow: hidden;text-align: left;background-color: #f0f8ff;}#sk-container-id-3 div.sk-toggleable__content pre {margin: 0.2em;color: black;border-radius: 0.25em;background-color: #f0f8ff;}#sk-container-id-3 input.sk-toggleable__control:checked~div.sk-toggleable__content {max-height: 200px;max-width: 100%;overflow: auto;}#sk-container-id-3 input.sk-toggleable__control:checked~label.sk-toggleable__label-arrow:before {content: \"▾\";}#sk-container-id-3 div.sk-estimator input.sk-toggleable__control:checked~label.sk-toggleable__label {background-color: #d4ebff;}#sk-container-id-3 div.sk-label input.sk-toggleable__control:checked~label.sk-toggleable__label {background-color: #d4ebff;}#sk-container-id-3 input.sk-hidden--visually {border: 0;clip: rect(1px 1px 1px 1px);clip: rect(1px, 1px, 1px, 1px);height: 1px;margin: -1px;overflow: hidden;padding: 0;position: absolute;width: 1px;}#sk-container-id-3 div.sk-estimator {font-family: monospace;background-color: #f0f8ff;border: 1px dotted black;border-radius: 0.25em;box-sizing: border-box;margin-bottom: 0.5em;}#sk-container-id-3 div.sk-estimator:hover {background-color: #d4ebff;}#sk-container-id-3 div.sk-parallel-item::after {content: \"\";width: 100%;border-bottom: 1px solid gray;flex-grow: 1;}#sk-container-id-3 div.sk-label:hover label.sk-toggleable__label {background-color: #d4ebff;}#sk-container-id-3 div.sk-serial::before {content: \"\";position: absolute;border-left: 1px solid gray;box-sizing: border-box;top: 0;bottom: 0;left: 50%;z-index: 0;}#sk-container-id-3 div.sk-serial {display: flex;flex-direction: column;align-items: center;background-color: white;padding-right: 0.2em;padding-left: 0.2em;position: relative;}#sk-container-id-3 div.sk-item {position: relative;z-index: 1;}#sk-container-id-3 div.sk-parallel {display: flex;align-items: stretch;justify-content: center;background-color: white;position: relative;}#sk-container-id-3 div.sk-item::before, #sk-container-id-3 div.sk-parallel-item::before {content: \"\";position: absolute;border-left: 1px solid gray;box-sizing: border-box;top: 0;bottom: 0;left: 50%;z-index: -1;}#sk-container-id-3 div.sk-parallel-item {display: flex;flex-direction: column;z-index: 1;position: relative;background-color: white;}#sk-container-id-3 div.sk-parallel-item:first-child::after {align-self: flex-end;width: 50%;}#sk-container-id-3 div.sk-parallel-item:last-child::after {align-self: flex-start;width: 50%;}#sk-container-id-3 div.sk-parallel-item:only-child::after {width: 0;}#sk-container-id-3 div.sk-dashed-wrapped {border: 1px dashed gray;margin: 0 0.4em 0.5em 0.4em;box-sizing: border-box;padding-bottom: 0.4em;background-color: white;}#sk-container-id-3 div.sk-label label {font-family: monospace;font-weight: bold;display: inline-block;line-height: 1.2em;}#sk-container-id-3 div.sk-label-container {text-align: center;}#sk-container-id-3 div.sk-container {/* jupyter's `normalize.less` sets `[hidden] { display: none; }` but bootstrap.min.css set `[hidden] { display: none !important; }` so we also need the `!important` here to be able to override the default hidden behavior on the sphinx rendered scikit-learn.org. See: https://github.com/scikit-learn/scikit-learn/issues/21755 */display: inline-block !important;position: relative;}#sk-container-id-3 div.sk-text-repr-fallback {display: none;}</style><div id=\"sk-container-id-3\" class=\"sk-top-container\"><div class=\"sk-text-repr-fallback\"><pre>DecisionTreeClassifier()</pre><b>In a Jupyter environment, please rerun this cell to show the HTML representation or trust the notebook. <br />On GitHub, the HTML representation is unable to render, please try loading this page with nbviewer.org.</b></div><div class=\"sk-container\" hidden><div class=\"sk-item\"><div class=\"sk-estimator sk-toggleable\"><input class=\"sk-toggleable__control sk-hidden--visually\" id=\"sk-estimator-id-3\" type=\"checkbox\" checked><label for=\"sk-estimator-id-3\" class=\"sk-toggleable__label sk-toggleable__label-arrow\">DecisionTreeClassifier</label><div class=\"sk-toggleable__content\"><pre>DecisionTreeClassifier()</pre></div></div></div></div></div>"
      ],
      "text/plain": [
       "DecisionTreeClassifier()"
      ]
     },
     "execution_count": 104,
     "metadata": {},
     "output_type": "execute_result"
    }
   ],
   "source": [
    "length = X_train.shape[0]\n",
    "choice = int(length * 0.6)\n",
    "n_trees = 100\n",
    "meta_X = np.zeros(1)\n",
    "meta_y = np.zeros(1)\n",
    "for _ in range(n_trees):\n",
    "    idx = np.random.choice(np.arange(length),choice,replace=False)\n",
    "    y_ = y_train[idx]\n",
    "    tree_model = DecisionTreeClassifier()\n",
    "    tree_model.fit(X_train[idx],y_train[idx])\n",
    "    pred = tree_model.predict(X_train[idx])\n",
    "    meta_X = np.concatenate([meta_X,pred])\n",
    "    meta_y = np.concatenate([meta_y,y_])\n",
    "meta_X = meta_X[1:].reshape(-1,1)\n",
    "meta_y = meta_y[1:]\n",
    "meta_model = DecisionTreeClassifier()\n",
    "meta_model.fit(meta_X,meta_y)"
   ]
  },
  {
   "cell_type": "code",
   "execution_count": 103,
   "id": "8ae7e398-28e6-4b78-a787-efc9f5d6b1ca",
   "metadata": {
    "tags": []
   },
   "outputs": [
    {
     "data": {
      "text/plain": [
       "(6700, 1)"
      ]
     },
     "execution_count": 103,
     "metadata": {},
     "output_type": "execute_result"
    }
   ],
   "source": [
    "meta_X.shape"
   ]
  },
  {
   "cell_type": "code",
   "execution_count": 141,
   "id": "4ff4ee4f-4191-468b-9b34-8a26fa86d1b9",
   "metadata": {
    "tags": []
   },
   "outputs": [],
   "source": [
    "length = X_train.shape[0]\n",
    "choice = int(length * 0.6)\n",
    "n_trees = 100\n",
    "models = []\n",
    "meta_X = np.zeros(1)\n",
    "meta_y = np.zeros(1)\n",
    "\n",
    "for _ in range(n_trees):\n",
    "    idx = np.random.choice(np.arange(length),choice,replace=False)\n",
    "    y_ = y_train[idx]\n",
    "    tree_model = DecisionTreeClassifier()\n",
    "    tree_model.fit(X_train[idx],y_train[idx])\n",
    "    models.append(tree_model)\n",
    "    pred = tree_model.predict(X_train[idx])\n",
    "    meta_X = np.concatenate([meta_X,pred])\n",
    "    meta_y = np.concatenate([meta_y,y_])\n",
    "\n",
    "meta_model = DecisionTreeClassifier()\n",
    "meta_X = meta_X.reshape(-1,1)\n",
    "meta_model.fit(meta_X, meta_y)\n",
    "test_data = np.zeros(1)\n",
    "\n",
    "y_test_ = np.zeros(1)\n",
    "for i in range(n_trees):\n",
    "    pred = models[i].predict(X_test)\n",
    "    test_data = np.concatenate([test_data,pred])\n",
    "    y_test_ = np.concatenate([y_test_,y_test])\n",
    "    \n",
    "test_data = test_data[1:].reshape(-1,1)\n",
    "y_test_ = y_test_[1:]\n",
    "pred = meta_model.predict(test_data)\n",
    "\n"
   ]
  },
  {
   "cell_type": "code",
   "execution_count": 136,
   "id": "0c84aac8-4aaa-4a61-9b8c-5896c138bb01",
   "metadata": {
    "tags": []
   },
   "outputs": [
    {
     "data": {
      "text/plain": [
       "0.9736842105263158"
      ]
     },
     "execution_count": 136,
     "metadata": {},
     "output_type": "execute_result"
    }
   ],
   "source": [
    "models[0].score(X_test,y_test)"
   ]
  },
  {
   "cell_type": "code",
   "execution_count": 135,
   "id": "672c6733-1883-482d-a872-2fcfc4eff747",
   "metadata": {
    "tags": []
   },
   "outputs": [
    {
     "data": {
      "text/plain": [
       "array([[0., 0., 1.]])"
      ]
     },
     "execution_count": 135,
     "metadata": {},
     "output_type": "execute_result"
    }
   ],
   "source": [
    "models[99].predict_proba(X_test[[1],:])"
   ]
  },
  {
   "cell_type": "code",
   "execution_count": 145,
   "id": "1192403d-8411-443c-ad38-38e256a85c55",
   "metadata": {
    "tags": []
   },
   "outputs": [
    {
     "data": {
      "text/plain": [
       "0.9578947368421052"
      ]
     },
     "execution_count": 145,
     "metadata": {},
     "output_type": "execute_result"
    }
   ],
   "source": [
    "from sklearn.metrics import accuracy_score\n",
    "accuracy_score(pred,y_test_)"
   ]
  },
  {
   "cell_type": "code",
   "execution_count": 143,
   "id": "c7cbfb4b-dc2a-4707-90f6-696d31125672",
   "metadata": {
    "tags": []
   },
   "outputs": [
    {
     "data": {
      "text/plain": [
       "array([1., 2., 0., ..., 1., 0., 2.])"
      ]
     },
     "execution_count": 143,
     "metadata": {},
     "output_type": "execute_result"
    }
   ],
   "source": [
    "y_test_"
   ]
  },
  {
   "cell_type": "code",
   "execution_count": 147,
   "id": "b01745f8-b343-4068-8f75-b09f8679f728",
   "metadata": {
    "collapsed": true,
    "jupyter": {
     "outputs_hidden": true
    },
    "tags": []
   },
   "outputs": [
    {
     "name": "stdout",
     "output_type": "stream",
     "text": [
      "Collecting xgboost\n",
      "  Obtaining dependency information for xgboost from https://files.pythonhosted.org/packages/24/ec/ad387100fa3cc2b9b81af0829b5ecfe75ec5bb19dd7c19d4fea06fb81802/xgboost-2.0.3-py3-none-win_amd64.whl.metadata\n",
      "  Downloading xgboost-2.0.3-py3-none-win_amd64.whl.metadata (2.0 kB)\n",
      "Requirement already satisfied: numpy in c:\\users\\user\\anaconda3\\lib\\site-packages (from xgboost) (1.24.3)\n",
      "Requirement already satisfied: scipy in c:\\users\\user\\anaconda3\\lib\\site-packages (from xgboost) (1.10.1)\n",
      "Downloading xgboost-2.0.3-py3-none-win_amd64.whl (99.8 MB)\n",
      "   ---------------------------------------- 0.0/99.8 MB ? eta -:--:--\n",
      "   ---------------------------------------- 0.4/99.8 MB 11.2 MB/s eta 0:00:09\n",
      "   ---------------------------------------- 0.9/99.8 MB 9.9 MB/s eta 0:00:10\n",
      "    --------------------------------------- 1.5/99.8 MB 10.5 MB/s eta 0:00:10\n",
      "    --------------------------------------- 2.1/99.8 MB 11.0 MB/s eta 0:00:09\n",
      "   - -------------------------------------- 2.6/99.8 MB 11.2 MB/s eta 0:00:09\n",
      "   - -------------------------------------- 3.2/99.8 MB 11.3 MB/s eta 0:00:09\n",
      "   - -------------------------------------- 3.7/99.8 MB 11.3 MB/s eta 0:00:09\n",
      "   - -------------------------------------- 4.3/99.8 MB 11.4 MB/s eta 0:00:09\n",
      "   - -------------------------------------- 4.8/99.8 MB 11.4 MB/s eta 0:00:09\n",
      "   -- ------------------------------------- 5.4/99.8 MB 11.5 MB/s eta 0:00:09\n",
      "   -- ------------------------------------- 5.9/99.8 MB 11.5 MB/s eta 0:00:09\n",
      "   -- ------------------------------------- 6.5/99.8 MB 11.6 MB/s eta 0:00:09\n",
      "   -- ------------------------------------- 7.0/99.8 MB 11.5 MB/s eta 0:00:09\n",
      "   --- ------------------------------------ 7.6/99.8 MB 11.6 MB/s eta 0:00:08\n",
      "   --- ------------------------------------ 8.2/99.8 MB 11.6 MB/s eta 0:00:08\n",
      "   --- ------------------------------------ 8.7/99.8 MB 11.6 MB/s eta 0:00:08\n",
      "   --- ------------------------------------ 9.3/99.8 MB 11.6 MB/s eta 0:00:08\n",
      "   --- ------------------------------------ 9.8/99.8 MB 11.6 MB/s eta 0:00:08\n",
      "   ---- ----------------------------------- 10.4/99.8 MB 11.9 MB/s eta 0:00:08\n",
      "   ---- ----------------------------------- 11.0/99.8 MB 11.7 MB/s eta 0:00:08\n",
      "   ---- ----------------------------------- 11.5/99.8 MB 11.9 MB/s eta 0:00:08\n",
      "   ---- ----------------------------------- 12.1/99.8 MB 11.9 MB/s eta 0:00:08\n",
      "   ----- ---------------------------------- 12.7/99.8 MB 11.7 MB/s eta 0:00:08\n",
      "   ----- ---------------------------------- 13.2/99.8 MB 11.7 MB/s eta 0:00:08\n",
      "   ----- ---------------------------------- 13.7/99.8 MB 11.9 MB/s eta 0:00:08\n",
      "   ----- ---------------------------------- 14.2/99.8 MB 11.9 MB/s eta 0:00:08\n",
      "   ----- ---------------------------------- 14.8/99.8 MB 11.9 MB/s eta 0:00:08\n",
      "   ------ --------------------------------- 15.3/99.8 MB 11.9 MB/s eta 0:00:08\n",
      "   ------ --------------------------------- 15.9/99.8 MB 11.9 MB/s eta 0:00:08\n",
      "   ------ --------------------------------- 16.5/99.8 MB 11.9 MB/s eta 0:00:07\n",
      "   ------ --------------------------------- 17.0/99.8 MB 11.9 MB/s eta 0:00:07\n",
      "   ------- -------------------------------- 17.6/99.8 MB 11.7 MB/s eta 0:00:08\n",
      "   ------- -------------------------------- 18.1/99.8 MB 11.9 MB/s eta 0:00:07\n",
      "   ------- -------------------------------- 18.6/99.8 MB 11.9 MB/s eta 0:00:07\n",
      "   ------- -------------------------------- 19.2/99.8 MB 11.9 MB/s eta 0:00:07\n",
      "   ------- -------------------------------- 19.7/99.8 MB 11.7 MB/s eta 0:00:07\n",
      "   -------- ------------------------------- 20.2/99.8 MB 11.5 MB/s eta 0:00:07\n",
      "   -------- ------------------------------- 20.6/99.8 MB 11.5 MB/s eta 0:00:07\n",
      "   -------- ------------------------------- 21.2/99.8 MB 11.7 MB/s eta 0:00:07\n",
      "   -------- ------------------------------- 21.6/99.8 MB 11.3 MB/s eta 0:00:07\n",
      "   -------- ------------------------------- 22.1/99.8 MB 11.5 MB/s eta 0:00:07\n",
      "   --------- ------------------------------ 22.6/99.8 MB 11.3 MB/s eta 0:00:07\n",
      "   --------- ------------------------------ 23.1/99.8 MB 11.1 MB/s eta 0:00:07\n",
      "   --------- ------------------------------ 23.7/99.8 MB 10.9 MB/s eta 0:00:07\n",
      "   --------- ------------------------------ 24.2/99.8 MB 11.1 MB/s eta 0:00:07\n",
      "   --------- ------------------------------ 24.8/99.8 MB 11.1 MB/s eta 0:00:07\n",
      "   ---------- ----------------------------- 25.4/99.8 MB 11.1 MB/s eta 0:00:07\n",
      "   ---------- ----------------------------- 25.9/99.8 MB 11.1 MB/s eta 0:00:07\n",
      "   ---------- ----------------------------- 26.5/99.8 MB 11.1 MB/s eta 0:00:07\n",
      "   ---------- ----------------------------- 27.1/99.8 MB 11.1 MB/s eta 0:00:07\n",
      "   ----------- ---------------------------- 27.6/99.8 MB 11.1 MB/s eta 0:00:07\n",
      "   ----------- ---------------------------- 28.2/99.8 MB 11.3 MB/s eta 0:00:07\n",
      "   ----------- ---------------------------- 28.7/99.8 MB 11.1 MB/s eta 0:00:07\n",
      "   ----------- ---------------------------- 29.3/99.8 MB 11.1 MB/s eta 0:00:07\n",
      "   ----------- ---------------------------- 29.9/99.8 MB 11.1 MB/s eta 0:00:07\n",
      "   ------------ --------------------------- 30.4/99.8 MB 11.5 MB/s eta 0:00:07\n",
      "   ------------ --------------------------- 31.0/99.8 MB 11.3 MB/s eta 0:00:07\n",
      "   ------------ --------------------------- 31.6/99.8 MB 11.5 MB/s eta 0:00:06\n",
      "   ------------ --------------------------- 32.1/99.8 MB 11.5 MB/s eta 0:00:06\n",
      "   ------------- -------------------------- 32.7/99.8 MB 11.5 MB/s eta 0:00:06\n",
      "   ------------- -------------------------- 33.2/99.8 MB 11.7 MB/s eta 0:00:06\n",
      "   ------------- -------------------------- 33.8/99.8 MB 11.7 MB/s eta 0:00:06\n",
      "   ------------- -------------------------- 34.4/99.8 MB 11.9 MB/s eta 0:00:06\n",
      "   -------------- ------------------------- 34.9/99.8 MB 11.9 MB/s eta 0:00:06\n",
      "   -------------- ------------------------- 35.5/99.8 MB 11.9 MB/s eta 0:00:06\n",
      "   -------------- ------------------------- 36.1/99.8 MB 11.9 MB/s eta 0:00:06\n",
      "   -------------- ------------------------- 36.6/99.8 MB 11.9 MB/s eta 0:00:06\n",
      "   -------------- ------------------------- 37.2/99.8 MB 11.9 MB/s eta 0:00:06\n",
      "   --------------- ------------------------ 37.8/99.8 MB 11.9 MB/s eta 0:00:06\n",
      "   --------------- ------------------------ 38.3/99.8 MB 11.9 MB/s eta 0:00:06\n",
      "   --------------- ------------------------ 38.9/99.8 MB 11.9 MB/s eta 0:00:06\n",
      "   --------------- ------------------------ 39.4/99.8 MB 11.9 MB/s eta 0:00:06\n",
      "   ---------------- ----------------------- 40.0/99.8 MB 11.9 MB/s eta 0:00:06\n",
      "   ---------------- ----------------------- 40.5/99.8 MB 11.7 MB/s eta 0:00:06\n",
      "   ---------------- ----------------------- 41.1/99.8 MB 11.9 MB/s eta 0:00:05\n",
      "   ---------------- ----------------------- 41.6/99.8 MB 11.9 MB/s eta 0:00:05\n",
      "   ---------------- ----------------------- 42.2/99.8 MB 11.7 MB/s eta 0:00:05\n",
      "   ----------------- ---------------------- 42.7/99.8 MB 11.9 MB/s eta 0:00:05\n",
      "   ----------------- ---------------------- 43.3/99.8 MB 11.7 MB/s eta 0:00:05\n",
      "   ----------------- ---------------------- 43.8/99.8 MB 11.7 MB/s eta 0:00:05\n",
      "   ----------------- ---------------------- 44.4/99.8 MB 11.7 MB/s eta 0:00:05\n",
      "   ------------------ --------------------- 45.0/99.8 MB 11.7 MB/s eta 0:00:05\n",
      "   ------------------ --------------------- 45.5/99.8 MB 11.7 MB/s eta 0:00:05\n",
      "   ------------------ --------------------- 46.1/99.8 MB 11.7 MB/s eta 0:00:05\n",
      "   ------------------ --------------------- 46.6/99.8 MB 11.7 MB/s eta 0:00:05\n",
      "   ------------------ --------------------- 47.2/99.8 MB 11.7 MB/s eta 0:00:05\n",
      "   ------------------- -------------------- 47.8/99.8 MB 11.7 MB/s eta 0:00:05\n",
      "   ------------------- -------------------- 48.3/99.8 MB 11.7 MB/s eta 0:00:05\n",
      "   ------------------- -------------------- 48.7/99.8 MB 11.7 MB/s eta 0:00:05\n",
      "   ------------------- -------------------- 49.2/99.8 MB 11.7 MB/s eta 0:00:05\n",
      "   ------------------- -------------------- 49.8/99.8 MB 11.9 MB/s eta 0:00:05\n",
      "   -------------------- ------------------- 50.4/99.8 MB 11.9 MB/s eta 0:00:05\n",
      "   -------------------- ------------------- 51.0/99.8 MB 11.9 MB/s eta 0:00:05\n",
      "   -------------------- ------------------- 51.5/99.8 MB 11.9 MB/s eta 0:00:05\n",
      "   -------------------- ------------------- 52.1/99.8 MB 11.9 MB/s eta 0:00:05\n",
      "   --------------------- ------------------ 52.7/99.8 MB 11.7 MB/s eta 0:00:05\n",
      "   --------------------- ------------------ 53.2/99.8 MB 11.7 MB/s eta 0:00:04\n",
      "   --------------------- ------------------ 53.8/99.8 MB 11.9 MB/s eta 0:00:04\n",
      "   --------------------- ------------------ 54.4/99.8 MB 11.7 MB/s eta 0:00:04\n",
      "   ---------------------- ----------------- 54.9/99.8 MB 11.7 MB/s eta 0:00:04\n",
      "   ---------------------- ----------------- 55.5/99.8 MB 11.7 MB/s eta 0:00:04\n",
      "   ---------------------- ----------------- 55.9/99.8 MB 11.7 MB/s eta 0:00:04\n",
      "   ---------------------- ----------------- 56.5/99.8 MB 11.7 MB/s eta 0:00:04\n",
      "   ---------------------- ----------------- 56.9/99.8 MB 11.5 MB/s eta 0:00:04\n",
      "   ----------------------- ---------------- 57.4/99.8 MB 11.5 MB/s eta 0:00:04\n",
      "   ----------------------- ---------------- 58.0/99.8 MB 11.5 MB/s eta 0:00:04\n",
      "   ----------------------- ---------------- 58.5/99.8 MB 11.5 MB/s eta 0:00:04\n",
      "   ----------------------- ---------------- 59.0/99.8 MB 11.5 MB/s eta 0:00:04\n",
      "   ----------------------- ---------------- 59.6/99.8 MB 11.3 MB/s eta 0:00:04\n",
      "   ------------------------ --------------- 60.1/99.8 MB 11.5 MB/s eta 0:00:04\n",
      "   ------------------------ --------------- 60.7/99.8 MB 11.5 MB/s eta 0:00:04\n",
      "   ------------------------ --------------- 61.3/99.8 MB 11.5 MB/s eta 0:00:04\n",
      "   ------------------------ --------------- 61.8/99.8 MB 11.5 MB/s eta 0:00:04\n",
      "   ------------------------- -------------- 62.4/99.8 MB 11.5 MB/s eta 0:00:04\n",
      "   ------------------------- -------------- 62.9/99.8 MB 11.5 MB/s eta 0:00:04\n",
      "   ------------------------- -------------- 63.4/99.8 MB 11.5 MB/s eta 0:00:04\n",
      "   ------------------------- -------------- 64.0/99.8 MB 11.3 MB/s eta 0:00:04\n",
      "   ------------------------- -------------- 64.6/99.8 MB 11.5 MB/s eta 0:00:04\n",
      "   -------------------------- ------------- 65.1/99.8 MB 11.5 MB/s eta 0:00:04\n",
      "   -------------------------- ------------- 65.7/99.8 MB 11.5 MB/s eta 0:00:03\n",
      "   -------------------------- ------------- 66.2/99.8 MB 11.5 MB/s eta 0:00:03\n",
      "   -------------------------- ------------- 66.8/99.8 MB 11.7 MB/s eta 0:00:03\n",
      "   --------------------------- ------------ 67.4/99.8 MB 11.9 MB/s eta 0:00:03\n",
      "   --------------------------- ------------ 67.9/99.8 MB 11.7 MB/s eta 0:00:03\n",
      "   --------------------------- ------------ 68.5/99.8 MB 11.9 MB/s eta 0:00:03\n",
      "   --------------------------- ------------ 69.1/99.8 MB 11.7 MB/s eta 0:00:03\n",
      "   --------------------------- ------------ 69.7/99.8 MB 11.7 MB/s eta 0:00:03\n",
      "   ---------------------------- ----------- 70.2/99.8 MB 11.9 MB/s eta 0:00:03\n",
      "   ---------------------------- ----------- 70.8/99.8 MB 11.7 MB/s eta 0:00:03\n",
      "   ---------------------------- ----------- 71.4/99.8 MB 11.9 MB/s eta 0:00:03\n",
      "   ---------------------------- ----------- 71.8/99.8 MB 11.9 MB/s eta 0:00:03\n",
      "   ---------------------------- ----------- 72.3/99.8 MB 11.9 MB/s eta 0:00:03\n",
      "   ----------------------------- ---------- 72.9/99.8 MB 11.9 MB/s eta 0:00:03\n",
      "   ----------------------------- ---------- 73.4/99.8 MB 11.9 MB/s eta 0:00:03\n",
      "   ----------------------------- ---------- 73.9/99.8 MB 11.9 MB/s eta 0:00:03\n",
      "   ----------------------------- ---------- 74.5/99.8 MB 11.9 MB/s eta 0:00:03\n",
      "   ------------------------------ --------- 75.0/99.8 MB 11.9 MB/s eta 0:00:03\n",
      "   ------------------------------ --------- 75.6/99.8 MB 11.9 MB/s eta 0:00:03\n",
      "   ------------------------------ --------- 76.1/99.8 MB 11.7 MB/s eta 0:00:03\n",
      "   ------------------------------ --------- 76.7/99.8 MB 11.9 MB/s eta 0:00:02\n",
      "   ------------------------------ --------- 77.3/99.8 MB 11.7 MB/s eta 0:00:02\n",
      "   ------------------------------- -------- 77.8/99.8 MB 11.9 MB/s eta 0:00:02\n",
      "   ------------------------------- -------- 78.4/99.8 MB 11.9 MB/s eta 0:00:02\n",
      "   ------------------------------- -------- 78.9/99.8 MB 11.7 MB/s eta 0:00:02\n",
      "   ------------------------------- -------- 79.5/99.8 MB 11.9 MB/s eta 0:00:02\n",
      "   ------------------------------- -------- 79.7/99.8 MB 11.5 MB/s eta 0:00:02\n",
      "   ------------------------------- -------- 79.7/99.8 MB 11.5 MB/s eta 0:00:02\n",
      "   ------------------------------- -------- 79.7/99.8 MB 11.5 MB/s eta 0:00:02\n",
      "   ------------------------------- -------- 79.7/99.8 MB 11.5 MB/s eta 0:00:02\n",
      "   ------------------------------- -------- 79.7/99.8 MB 11.5 MB/s eta 0:00:02\n",
      "   -------------------------------- ------- 79.9/99.8 MB 9.1 MB/s eta 0:00:03\n",
      "   -------------------------------- ------- 80.3/99.8 MB 9.1 MB/s eta 0:00:03\n",
      "   -------------------------------- ------- 80.8/99.8 MB 9.1 MB/s eta 0:00:03\n",
      "   -------------------------------- ------- 81.4/99.8 MB 9.1 MB/s eta 0:00:03\n",
      "   -------------------------------- ------- 82.0/99.8 MB 9.0 MB/s eta 0:00:02\n",
      "   --------------------------------- ------ 82.5/99.8 MB 9.1 MB/s eta 0:00:02\n",
      "   --------------------------------- ------ 83.1/99.8 MB 9.2 MB/s eta 0:00:02\n",
      "   --------------------------------- ------ 83.6/99.8 MB 9.0 MB/s eta 0:00:02\n",
      "   --------------------------------- ------ 84.2/99.8 MB 9.2 MB/s eta 0:00:02\n",
      "   --------------------------------- ------ 84.8/99.8 MB 9.1 MB/s eta 0:00:02\n",
      "   ---------------------------------- ----- 85.3/99.8 MB 9.1 MB/s eta 0:00:02\n",
      "   ---------------------------------- ----- 85.9/99.8 MB 9.2 MB/s eta 0:00:02\n",
      "   ---------------------------------- ----- 86.5/99.8 MB 9.2 MB/s eta 0:00:02\n",
      "   ---------------------------------- ----- 87.0/99.8 MB 9.1 MB/s eta 0:00:02\n",
      "   ----------------------------------- ---- 87.6/99.8 MB 9.2 MB/s eta 0:00:02\n",
      "   ----------------------------------- ---- 88.2/99.8 MB 9.1 MB/s eta 0:00:02\n",
      "   ----------------------------------- ---- 88.7/99.8 MB 9.1 MB/s eta 0:00:02\n",
      "   ----------------------------------- ---- 89.2/99.8 MB 9.2 MB/s eta 0:00:02\n",
      "   ------------------------------------ --- 89.8/99.8 MB 9.1 MB/s eta 0:00:02\n",
      "   ------------------------------------ --- 90.2/99.8 MB 11.7 MB/s eta 0:00:01\n",
      "   ------------------------------------ --- 90.6/99.8 MB 11.5 MB/s eta 0:00:01\n",
      "   ------------------------------------ --- 91.1/99.8 MB 11.3 MB/s eta 0:00:01\n",
      "   ------------------------------------ --- 91.4/99.8 MB 11.1 MB/s eta 0:00:01\n",
      "   ------------------------------------ --- 91.5/99.8 MB 10.9 MB/s eta 0:00:01\n",
      "   ------------------------------------ --- 91.8/99.8 MB 10.4 MB/s eta 0:00:01\n",
      "   ------------------------------------ --- 92.0/99.8 MB 9.9 MB/s eta 0:00:01\n",
      "   ------------------------------------ --- 92.2/99.8 MB 9.8 MB/s eta 0:00:01\n",
      "   ------------------------------------- -- 92.4/99.8 MB 9.4 MB/s eta 0:00:01\n",
      "   ------------------------------------- -- 92.6/99.8 MB 9.1 MB/s eta 0:00:01\n",
      "   ------------------------------------- -- 92.8/99.8 MB 8.8 MB/s eta 0:00:01\n",
      "   ------------------------------------- -- 92.9/99.8 MB 8.8 MB/s eta 0:00:01\n",
      "   ------------------------------------- -- 93.1/99.8 MB 8.5 MB/s eta 0:00:01\n",
      "   ------------------------------------- -- 93.3/99.8 MB 8.4 MB/s eta 0:00:01\n",
      "   ------------------------------------- -- 93.6/99.8 MB 8.2 MB/s eta 0:00:01\n",
      "   ------------------------------------- -- 93.7/99.8 MB 7.9 MB/s eta 0:00:01\n",
      "   ------------------------------------- -- 93.9/99.8 MB 7.7 MB/s eta 0:00:01\n",
      "   ------------------------------------- -- 94.1/99.8 MB 7.5 MB/s eta 0:00:01\n",
      "   ------------------------------------- -- 94.3/99.8 MB 7.4 MB/s eta 0:00:01\n",
      "   ------------------------------------- -- 94.5/99.8 MB 7.3 MB/s eta 0:00:01\n",
      "   ------------------------------------- -- 94.7/99.8 MB 7.0 MB/s eta 0:00:01\n",
      "   -------------------------------------- - 94.9/99.8 MB 6.9 MB/s eta 0:00:01\n",
      "   -------------------------------------- - 95.1/99.8 MB 6.7 MB/s eta 0:00:01\n",
      "   -------------------------------------- - 95.3/99.8 MB 6.5 MB/s eta 0:00:01\n",
      "   -------------------------------------- - 95.5/99.8 MB 6.5 MB/s eta 0:00:01\n",
      "   -------------------------------------- - 95.7/99.8 MB 6.4 MB/s eta 0:00:01\n",
      "   -------------------------------------- - 95.9/99.8 MB 6.2 MB/s eta 0:00:01\n",
      "   -------------------------------------- - 96.1/99.8 MB 6.1 MB/s eta 0:00:01\n",
      "   -------------------------------------- - 96.3/99.8 MB 6.1 MB/s eta 0:00:01\n",
      "   -------------------------------------- - 96.4/99.8 MB 6.0 MB/s eta 0:00:01\n",
      "   -------------------------------------- - 96.6/99.8 MB 5.8 MB/s eta 0:00:01\n",
      "   -------------------------------------- - 96.7/99.8 MB 5.7 MB/s eta 0:00:01\n",
      "   -------------------------------------- - 96.9/99.8 MB 5.6 MB/s eta 0:00:01\n",
      "   -------------------------------------- - 97.1/99.8 MB 5.5 MB/s eta 0:00:01\n",
      "   -------------------------------------- - 97.2/99.8 MB 5.4 MB/s eta 0:00:01\n",
      "   ---------------------------------------  97.4/99.8 MB 5.3 MB/s eta 0:00:01\n",
      "   ---------------------------------------  97.6/99.8 MB 5.2 MB/s eta 0:00:01\n",
      "   ---------------------------------------  97.8/99.8 MB 5.1 MB/s eta 0:00:01\n",
      "   ---------------------------------------  98.0/99.8 MB 5.1 MB/s eta 0:00:01\n",
      "   ---------------------------------------  98.2/99.8 MB 5.0 MB/s eta 0:00:01\n",
      "   ---------------------------------------  98.4/99.8 MB 4.9 MB/s eta 0:00:01\n",
      "   ---------------------------------------  98.6/99.8 MB 4.8 MB/s eta 0:00:01\n",
      "   ---------------------------------------  98.9/99.8 MB 4.7 MB/s eta 0:00:01\n",
      "   ---------------------------------------  99.1/99.8 MB 4.7 MB/s eta 0:00:01\n",
      "   ---------------------------------------  99.3/99.8 MB 4.6 MB/s eta 0:00:01\n",
      "   ---------------------------------------  99.5/99.8 MB 4.6 MB/s eta 0:00:01\n",
      "   ---------------------------------------  99.7/99.8 MB 4.5 MB/s eta 0:00:01\n",
      "   ---------------------------------------  99.7/99.8 MB 4.5 MB/s eta 0:00:01\n",
      "   ---------------------------------------  99.7/99.8 MB 4.5 MB/s eta 0:00:01\n",
      "   ---------------------------------------  99.7/99.8 MB 4.5 MB/s eta 0:00:01\n",
      "   ---------------------------------------  99.7/99.8 MB 4.5 MB/s eta 0:00:01\n",
      "   ---------------------------------------- 99.8/99.8 MB 4.1 MB/s eta 0:00:00\n",
      "Installing collected packages: xgboost\n",
      "Successfully installed xgboost-2.0.3\n"
     ]
    }
   ],
   "source": [
    "# XGBoost\n",
    "!pip install xgboost"
   ]
  },
  {
   "cell_type": "code",
   "execution_count": 148,
   "id": "9edf3702-cf8c-4c75-b5a8-16640bb5aa72",
   "metadata": {
    "tags": []
   },
   "outputs": [],
   "source": [
    "import xgboost"
   ]
  },
  {
   "cell_type": "code",
   "execution_count": 150,
   "id": "7833e470-cc66-41c9-89da-58f411fbb464",
   "metadata": {
    "tags": []
   },
   "outputs": [],
   "source": [
    "from xgboost import XGBClassifier"
   ]
  },
  {
   "cell_type": "code",
   "execution_count": 151,
   "id": "2962ab8d-a29c-4e85-ab1d-dbb19e0c4052",
   "metadata": {
    "tags": []
   },
   "outputs": [
    {
     "data": {
      "text/html": [
       "<style>#sk-container-id-4 {color: black;}#sk-container-id-4 pre{padding: 0;}#sk-container-id-4 div.sk-toggleable {background-color: white;}#sk-container-id-4 label.sk-toggleable__label {cursor: pointer;display: block;width: 100%;margin-bottom: 0;padding: 0.3em;box-sizing: border-box;text-align: center;}#sk-container-id-4 label.sk-toggleable__label-arrow:before {content: \"▸\";float: left;margin-right: 0.25em;color: #696969;}#sk-container-id-4 label.sk-toggleable__label-arrow:hover:before {color: black;}#sk-container-id-4 div.sk-estimator:hover label.sk-toggleable__label-arrow:before {color: black;}#sk-container-id-4 div.sk-toggleable__content {max-height: 0;max-width: 0;overflow: hidden;text-align: left;background-color: #f0f8ff;}#sk-container-id-4 div.sk-toggleable__content pre {margin: 0.2em;color: black;border-radius: 0.25em;background-color: #f0f8ff;}#sk-container-id-4 input.sk-toggleable__control:checked~div.sk-toggleable__content {max-height: 200px;max-width: 100%;overflow: auto;}#sk-container-id-4 input.sk-toggleable__control:checked~label.sk-toggleable__label-arrow:before {content: \"▾\";}#sk-container-id-4 div.sk-estimator input.sk-toggleable__control:checked~label.sk-toggleable__label {background-color: #d4ebff;}#sk-container-id-4 div.sk-label input.sk-toggleable__control:checked~label.sk-toggleable__label {background-color: #d4ebff;}#sk-container-id-4 input.sk-hidden--visually {border: 0;clip: rect(1px 1px 1px 1px);clip: rect(1px, 1px, 1px, 1px);height: 1px;margin: -1px;overflow: hidden;padding: 0;position: absolute;width: 1px;}#sk-container-id-4 div.sk-estimator {font-family: monospace;background-color: #f0f8ff;border: 1px dotted black;border-radius: 0.25em;box-sizing: border-box;margin-bottom: 0.5em;}#sk-container-id-4 div.sk-estimator:hover {background-color: #d4ebff;}#sk-container-id-4 div.sk-parallel-item::after {content: \"\";width: 100%;border-bottom: 1px solid gray;flex-grow: 1;}#sk-container-id-4 div.sk-label:hover label.sk-toggleable__label {background-color: #d4ebff;}#sk-container-id-4 div.sk-serial::before {content: \"\";position: absolute;border-left: 1px solid gray;box-sizing: border-box;top: 0;bottom: 0;left: 50%;z-index: 0;}#sk-container-id-4 div.sk-serial {display: flex;flex-direction: column;align-items: center;background-color: white;padding-right: 0.2em;padding-left: 0.2em;position: relative;}#sk-container-id-4 div.sk-item {position: relative;z-index: 1;}#sk-container-id-4 div.sk-parallel {display: flex;align-items: stretch;justify-content: center;background-color: white;position: relative;}#sk-container-id-4 div.sk-item::before, #sk-container-id-4 div.sk-parallel-item::before {content: \"\";position: absolute;border-left: 1px solid gray;box-sizing: border-box;top: 0;bottom: 0;left: 50%;z-index: -1;}#sk-container-id-4 div.sk-parallel-item {display: flex;flex-direction: column;z-index: 1;position: relative;background-color: white;}#sk-container-id-4 div.sk-parallel-item:first-child::after {align-self: flex-end;width: 50%;}#sk-container-id-4 div.sk-parallel-item:last-child::after {align-self: flex-start;width: 50%;}#sk-container-id-4 div.sk-parallel-item:only-child::after {width: 0;}#sk-container-id-4 div.sk-dashed-wrapped {border: 1px dashed gray;margin: 0 0.4em 0.5em 0.4em;box-sizing: border-box;padding-bottom: 0.4em;background-color: white;}#sk-container-id-4 div.sk-label label {font-family: monospace;font-weight: bold;display: inline-block;line-height: 1.2em;}#sk-container-id-4 div.sk-label-container {text-align: center;}#sk-container-id-4 div.sk-container {/* jupyter's `normalize.less` sets `[hidden] { display: none; }` but bootstrap.min.css set `[hidden] { display: none !important; }` so we also need the `!important` here to be able to override the default hidden behavior on the sphinx rendered scikit-learn.org. See: https://github.com/scikit-learn/scikit-learn/issues/21755 */display: inline-block !important;position: relative;}#sk-container-id-4 div.sk-text-repr-fallback {display: none;}</style><div id=\"sk-container-id-4\" class=\"sk-top-container\"><div class=\"sk-text-repr-fallback\"><pre>XGBClassifier(base_score=None, booster=None, callbacks=None,\n",
       "              colsample_bylevel=None, colsample_bynode=None,\n",
       "              colsample_bytree=None, device=None, early_stopping_rounds=None,\n",
       "              enable_categorical=False, eval_metric=None, feature_types=None,\n",
       "              gamma=None, grow_policy=None, importance_type=None,\n",
       "              interaction_constraints=None, learning_rate=None, max_bin=None,\n",
       "              max_cat_threshold=None, max_cat_to_onehot=None,\n",
       "              max_delta_step=None, max_depth=None, max_leaves=None,\n",
       "              min_child_weight=None, missing=nan, monotone_constraints=None,\n",
       "              multi_strategy=None, n_estimators=None, n_jobs=None,\n",
       "              num_parallel_tree=None, objective=&#x27;multi:softprob&#x27;, ...)</pre><b>In a Jupyter environment, please rerun this cell to show the HTML representation or trust the notebook. <br />On GitHub, the HTML representation is unable to render, please try loading this page with nbviewer.org.</b></div><div class=\"sk-container\" hidden><div class=\"sk-item\"><div class=\"sk-estimator sk-toggleable\"><input class=\"sk-toggleable__control sk-hidden--visually\" id=\"sk-estimator-id-4\" type=\"checkbox\" checked><label for=\"sk-estimator-id-4\" class=\"sk-toggleable__label sk-toggleable__label-arrow\">XGBClassifier</label><div class=\"sk-toggleable__content\"><pre>XGBClassifier(base_score=None, booster=None, callbacks=None,\n",
       "              colsample_bylevel=None, colsample_bynode=None,\n",
       "              colsample_bytree=None, device=None, early_stopping_rounds=None,\n",
       "              enable_categorical=False, eval_metric=None, feature_types=None,\n",
       "              gamma=None, grow_policy=None, importance_type=None,\n",
       "              interaction_constraints=None, learning_rate=None, max_bin=None,\n",
       "              max_cat_threshold=None, max_cat_to_onehot=None,\n",
       "              max_delta_step=None, max_depth=None, max_leaves=None,\n",
       "              min_child_weight=None, missing=nan, monotone_constraints=None,\n",
       "              multi_strategy=None, n_estimators=None, n_jobs=None,\n",
       "              num_parallel_tree=None, objective=&#x27;multi:softprob&#x27;, ...)</pre></div></div></div></div></div>"
      ],
      "text/plain": [
       "XGBClassifier(base_score=None, booster=None, callbacks=None,\n",
       "              colsample_bylevel=None, colsample_bynode=None,\n",
       "              colsample_bytree=None, device=None, early_stopping_rounds=None,\n",
       "              enable_categorical=False, eval_metric=None, feature_types=None,\n",
       "              gamma=None, grow_policy=None, importance_type=None,\n",
       "              interaction_constraints=None, learning_rate=None, max_bin=None,\n",
       "              max_cat_threshold=None, max_cat_to_onehot=None,\n",
       "              max_delta_step=None, max_depth=None, max_leaves=None,\n",
       "              min_child_weight=None, missing=nan, monotone_constraints=None,\n",
       "              multi_strategy=None, n_estimators=None, n_jobs=None,\n",
       "              num_parallel_tree=None, objective='multi:softprob', ...)"
      ]
     },
     "execution_count": 151,
     "metadata": {},
     "output_type": "execute_result"
    }
   ],
   "source": [
    "xgb_model = XGBClassifier()\n",
    "xgb_model.fit(X_train,y_train)"
   ]
  },
  {
   "cell_type": "code",
   "execution_count": 152,
   "id": "c7227892-06b5-4750-b09b-6b862f893787",
   "metadata": {
    "tags": []
   },
   "outputs": [
    {
     "data": {
      "text/plain": [
       "0.9736842105263158"
      ]
     },
     "execution_count": 152,
     "metadata": {},
     "output_type": "execute_result"
    }
   ],
   "source": [
    "xgb_model.score(X_test,y_test)"
   ]
  },
  {
   "cell_type": "code",
   "execution_count": 153,
   "id": "a1277ed8-fbbc-4150-b300-5dc3a2f39829",
   "metadata": {
    "collapsed": true,
    "jupyter": {
     "outputs_hidden": true
    },
    "tags": []
   },
   "outputs": [
    {
     "name": "stdout",
     "output_type": "stream",
     "text": [
      "Collecting catboost\n",
      "  Obtaining dependency information for catboost from https://files.pythonhosted.org/packages/e2/63/379617e3d982e8a66c9d66ebf4621d3357c7c18ad356473c335bffd5aba6/catboost-1.2.2-cp311-cp311-win_amd64.whl.metadata\n",
      "  Downloading catboost-1.2.2-cp311-cp311-win_amd64.whl.metadata (1.2 kB)\n",
      "Collecting graphviz (from catboost)\n",
      "  Downloading graphviz-0.20.1-py3-none-any.whl (47 kB)\n",
      "     ---------------------------------------- 0.0/47.0 kB ? eta -:--:--\n",
      "     ---------------------------------------- 47.0/47.0 kB 2.3 MB/s eta 0:00:00\n",
      "Requirement already satisfied: matplotlib in c:\\users\\user\\anaconda3\\lib\\site-packages (from catboost) (3.7.1)\n",
      "Requirement already satisfied: numpy>=1.16.0 in c:\\users\\user\\anaconda3\\lib\\site-packages (from catboost) (1.24.3)\n",
      "Requirement already satisfied: pandas>=0.24 in c:\\users\\user\\anaconda3\\lib\\site-packages (from catboost) (1.5.3)\n",
      "Requirement already satisfied: scipy in c:\\users\\user\\anaconda3\\lib\\site-packages (from catboost) (1.10.1)\n",
      "Requirement already satisfied: plotly in c:\\users\\user\\anaconda3\\lib\\site-packages (from catboost) (5.9.0)\n",
      "Requirement already satisfied: six in c:\\users\\user\\appdata\\roaming\\python\\python311\\site-packages (from catboost) (1.16.0)\n",
      "Requirement already satisfied: python-dateutil>=2.8.1 in c:\\users\\user\\appdata\\roaming\\python\\python311\\site-packages (from pandas>=0.24->catboost) (2.8.2)\n",
      "Requirement already satisfied: pytz>=2020.1 in c:\\users\\user\\anaconda3\\lib\\site-packages (from pandas>=0.24->catboost) (2022.7)\n",
      "Requirement already satisfied: contourpy>=1.0.1 in c:\\users\\user\\anaconda3\\lib\\site-packages (from matplotlib->catboost) (1.0.5)\n",
      "Requirement already satisfied: cycler>=0.10 in c:\\users\\user\\anaconda3\\lib\\site-packages (from matplotlib->catboost) (0.11.0)\n",
      "Requirement already satisfied: fonttools>=4.22.0 in c:\\users\\user\\anaconda3\\lib\\site-packages (from matplotlib->catboost) (4.25.0)\n",
      "Requirement already satisfied: kiwisolver>=1.0.1 in c:\\users\\user\\anaconda3\\lib\\site-packages (from matplotlib->catboost) (1.4.4)\n",
      "Requirement already satisfied: packaging>=20.0 in c:\\users\\user\\appdata\\roaming\\python\\python311\\site-packages (from matplotlib->catboost) (23.1)\n",
      "Requirement already satisfied: pillow>=6.2.0 in c:\\users\\user\\anaconda3\\lib\\site-packages (from matplotlib->catboost) (9.4.0)\n",
      "Requirement already satisfied: pyparsing>=2.3.1 in c:\\users\\user\\anaconda3\\lib\\site-packages (from matplotlib->catboost) (3.0.9)\n",
      "Requirement already satisfied: tenacity>=6.2.0 in c:\\users\\user\\anaconda3\\lib\\site-packages (from plotly->catboost) (8.2.2)\n",
      "Downloading catboost-1.2.2-cp311-cp311-win_amd64.whl (101.0 MB)\n",
      "   ---------------------------------------- 0.0/101.0 MB ? eta -:--:--\n",
      "   ---------------------------------------- 0.4/101.0 MB 12.9 MB/s eta 0:00:08\n",
      "   ---------------------------------------- 1.0/101.0 MB 12.2 MB/s eta 0:00:09\n",
      "    --------------------------------------- 1.6/101.0 MB 11.2 MB/s eta 0:00:09\n",
      "    --------------------------------------- 2.2/101.0 MB 11.4 MB/s eta 0:00:09\n",
      "   - -------------------------------------- 2.7/101.0 MB 11.5 MB/s eta 0:00:09\n",
      "   - -------------------------------------- 3.3/101.0 MB 11.6 MB/s eta 0:00:09\n",
      "   - -------------------------------------- 3.7/101.0 MB 11.7 MB/s eta 0:00:09\n",
      "   - -------------------------------------- 4.2/101.0 MB 11.7 MB/s eta 0:00:09\n",
      "   - -------------------------------------- 4.8/101.0 MB 11.8 MB/s eta 0:00:09\n",
      "   -- ------------------------------------- 5.3/101.0 MB 12.0 MB/s eta 0:00:09\n",
      "   -- ------------------------------------- 5.9/101.0 MB 11.7 MB/s eta 0:00:09\n",
      "   -- ------------------------------------- 6.4/101.0 MB 11.7 MB/s eta 0:00:09\n",
      "   -- ------------------------------------- 7.0/101.0 MB 11.7 MB/s eta 0:00:09\n",
      "   -- ------------------------------------- 7.6/101.0 MB 11.5 MB/s eta 0:00:09\n",
      "   --- ------------------------------------ 8.1/101.0 MB 11.8 MB/s eta 0:00:08\n",
      "   --- ------------------------------------ 8.7/101.0 MB 11.6 MB/s eta 0:00:08\n",
      "   --- ------------------------------------ 9.3/101.0 MB 11.6 MB/s eta 0:00:08\n",
      "   --- ------------------------------------ 9.7/101.0 MB 11.7 MB/s eta 0:00:08\n",
      "   ---- ----------------------------------- 10.3/101.0 MB 11.5 MB/s eta 0:00:08\n",
      "   ---- ----------------------------------- 10.7/101.0 MB 11.5 MB/s eta 0:00:08\n",
      "   ---- ----------------------------------- 11.2/101.0 MB 11.7 MB/s eta 0:00:08\n",
      "   ---- ----------------------------------- 11.7/101.0 MB 11.3 MB/s eta 0:00:08\n",
      "   ---- ----------------------------------- 12.1/101.0 MB 11.3 MB/s eta 0:00:08\n",
      "   ---- ----------------------------------- 12.6/101.0 MB 11.1 MB/s eta 0:00:08\n",
      "   ----- ---------------------------------- 13.0/101.0 MB 10.9 MB/s eta 0:00:09\n",
      "   ----- ---------------------------------- 13.5/101.0 MB 10.9 MB/s eta 0:00:09\n",
      "   ----- ---------------------------------- 14.0/101.0 MB 10.7 MB/s eta 0:00:09\n",
      "   ----- ---------------------------------- 14.3/101.0 MB 10.9 MB/s eta 0:00:08\n",
      "   ----- ---------------------------------- 14.8/101.0 MB 10.7 MB/s eta 0:00:09\n",
      "   ------ --------------------------------- 15.3/101.0 MB 10.7 MB/s eta 0:00:08\n",
      "   ------ --------------------------------- 15.8/101.0 MB 10.7 MB/s eta 0:00:08\n",
      "   ------ --------------------------------- 16.2/101.0 MB 10.6 MB/s eta 0:00:09\n",
      "   ------ --------------------------------- 16.6/101.0 MB 10.4 MB/s eta 0:00:09\n",
      "   ------ --------------------------------- 16.8/101.0 MB 10.1 MB/s eta 0:00:09\n",
      "   ------ --------------------------------- 17.1/101.0 MB 9.9 MB/s eta 0:00:09\n",
      "   ------ --------------------------------- 17.3/101.0 MB 9.6 MB/s eta 0:00:09\n",
      "   ------ --------------------------------- 17.6/101.0 MB 9.4 MB/s eta 0:00:09\n",
      "   ------- -------------------------------- 17.8/101.0 MB 9.2 MB/s eta 0:00:10\n",
      "   ------- -------------------------------- 18.1/101.0 MB 9.0 MB/s eta 0:00:10\n",
      "   ------- -------------------------------- 18.3/101.0 MB 8.7 MB/s eta 0:00:10\n",
      "   ------- -------------------------------- 18.6/101.0 MB 8.5 MB/s eta 0:00:10\n",
      "   ------- -------------------------------- 18.9/101.0 MB 8.3 MB/s eta 0:00:10\n",
      "   ------- -------------------------------- 19.1/101.0 MB 8.3 MB/s eta 0:00:10\n",
      "   ------- -------------------------------- 19.4/101.0 MB 8.0 MB/s eta 0:00:11\n",
      "   ------- -------------------------------- 19.6/101.0 MB 7.9 MB/s eta 0:00:11\n",
      "   ------- -------------------------------- 19.9/101.0 MB 7.7 MB/s eta 0:00:11\n",
      "   ------- -------------------------------- 20.1/101.0 MB 7.5 MB/s eta 0:00:11\n",
      "   -------- ------------------------------- 20.4/101.0 MB 7.4 MB/s eta 0:00:11\n",
      "   -------- ------------------------------- 20.6/101.0 MB 7.4 MB/s eta 0:00:11\n",
      "   -------- ------------------------------- 20.8/101.0 MB 7.3 MB/s eta 0:00:12\n",
      "   -------- ------------------------------- 21.1/101.0 MB 7.1 MB/s eta 0:00:12\n",
      "   -------- ------------------------------- 21.3/101.0 MB 7.0 MB/s eta 0:00:12\n",
      "   -------- ------------------------------- 21.5/101.0 MB 6.9 MB/s eta 0:00:12\n",
      "   -------- ------------------------------- 21.6/101.0 MB 6.9 MB/s eta 0:00:12\n",
      "   -------- ------------------------------- 21.9/101.0 MB 6.7 MB/s eta 0:00:12\n",
      "   -------- ------------------------------- 22.1/101.0 MB 6.6 MB/s eta 0:00:12\n",
      "   -------- ------------------------------- 22.4/101.0 MB 6.5 MB/s eta 0:00:13\n",
      "   -------- ------------------------------- 22.6/101.0 MB 6.5 MB/s eta 0:00:13\n",
      "   --------- ------------------------------ 22.8/101.0 MB 6.4 MB/s eta 0:00:13\n",
      "   --------- ------------------------------ 22.9/101.0 MB 6.3 MB/s eta 0:00:13\n",
      "   --------- ------------------------------ 23.2/101.0 MB 6.2 MB/s eta 0:00:13\n",
      "   --------- ------------------------------ 23.3/101.0 MB 6.1 MB/s eta 0:00:13\n",
      "   --------- ------------------------------ 23.5/101.0 MB 6.1 MB/s eta 0:00:13\n",
      "   --------- ------------------------------ 23.7/101.0 MB 6.0 MB/s eta 0:00:13\n",
      "   --------- ------------------------------ 23.8/101.0 MB 5.9 MB/s eta 0:00:14\n",
      "   --------- ------------------------------ 24.0/101.0 MB 5.8 MB/s eta 0:00:14\n",
      "   --------- ------------------------------ 24.1/101.0 MB 5.7 MB/s eta 0:00:14\n",
      "   --------- ------------------------------ 24.3/101.0 MB 5.6 MB/s eta 0:00:14\n",
      "   --------- ------------------------------ 24.5/101.0 MB 5.5 MB/s eta 0:00:14\n",
      "   --------- ------------------------------ 24.6/101.0 MB 5.5 MB/s eta 0:00:15\n",
      "   --------- ------------------------------ 24.8/101.0 MB 5.3 MB/s eta 0:00:15\n",
      "   --------- ------------------------------ 24.9/101.0 MB 5.2 MB/s eta 0:00:15\n",
      "   --------- ------------------------------ 25.2/101.0 MB 5.2 MB/s eta 0:00:15\n",
      "   ---------- ----------------------------- 25.4/101.0 MB 5.1 MB/s eta 0:00:15\n",
      "   ---------- ----------------------------- 25.7/101.0 MB 5.1 MB/s eta 0:00:15\n",
      "   ---------- ----------------------------- 25.9/101.0 MB 5.0 MB/s eta 0:00:16\n",
      "   ---------- ----------------------------- 26.0/101.0 MB 4.9 MB/s eta 0:00:16\n",
      "   ---------- ----------------------------- 26.1/101.0 MB 4.8 MB/s eta 0:00:16\n",
      "   ---------- ----------------------------- 26.2/101.0 MB 4.7 MB/s eta 0:00:16\n",
      "   ---------- ----------------------------- 26.4/101.0 MB 4.7 MB/s eta 0:00:16\n",
      "   ---------- ----------------------------- 26.6/101.0 MB 4.7 MB/s eta 0:00:16\n",
      "   ---------- ----------------------------- 26.7/101.0 MB 4.6 MB/s eta 0:00:17\n",
      "   ---------- ----------------------------- 26.9/101.0 MB 4.5 MB/s eta 0:00:17\n",
      "   ---------- ----------------------------- 27.0/101.0 MB 4.5 MB/s eta 0:00:17\n",
      "   ---------- ----------------------------- 27.2/101.0 MB 4.5 MB/s eta 0:00:17\n",
      "   ---------- ----------------------------- 27.3/101.0 MB 4.4 MB/s eta 0:00:17\n",
      "   ---------- ----------------------------- 27.4/101.0 MB 4.4 MB/s eta 0:00:17\n",
      "   ---------- ----------------------------- 27.6/101.0 MB 4.3 MB/s eta 0:00:17\n",
      "   ---------- ----------------------------- 27.7/101.0 MB 4.3 MB/s eta 0:00:18\n",
      "   ----------- ---------------------------- 27.8/101.0 MB 4.3 MB/s eta 0:00:18\n",
      "   ----------- ---------------------------- 27.9/101.0 MB 4.2 MB/s eta 0:00:18\n",
      "   ----------- ---------------------------- 28.1/101.0 MB 4.2 MB/s eta 0:00:18\n",
      "   ----------- ---------------------------- 28.1/101.0 MB 4.1 MB/s eta 0:00:18\n",
      "   ----------- ---------------------------- 28.2/101.0 MB 4.1 MB/s eta 0:00:18\n",
      "   ----------- ---------------------------- 28.3/101.0 MB 4.0 MB/s eta 0:00:18\n",
      "   ----------- ---------------------------- 28.4/101.0 MB 4.0 MB/s eta 0:00:19\n",
      "   ----------- ---------------------------- 28.5/101.0 MB 3.9 MB/s eta 0:00:19\n",
      "   ----------- ---------------------------- 28.6/101.0 MB 3.9 MB/s eta 0:00:19\n",
      "   ----------- ---------------------------- 28.7/101.0 MB 3.8 MB/s eta 0:00:19\n",
      "   ----------- ---------------------------- 28.7/101.0 MB 3.8 MB/s eta 0:00:19\n",
      "   ----------- ---------------------------- 28.8/101.0 MB 3.8 MB/s eta 0:00:20\n",
      "   ----------- ---------------------------- 28.9/101.0 MB 3.7 MB/s eta 0:00:20\n",
      "   ----------- ---------------------------- 29.0/101.0 MB 3.7 MB/s eta 0:00:20\n",
      "   ----------- ---------------------------- 29.2/101.0 MB 3.6 MB/s eta 0:00:20\n",
      "   ----------- ---------------------------- 29.3/101.0 MB 3.6 MB/s eta 0:00:20\n",
      "   ----------- ---------------------------- 29.4/101.0 MB 3.6 MB/s eta 0:00:21\n",
      "   ----------- ---------------------------- 29.5/101.0 MB 3.5 MB/s eta 0:00:21\n",
      "   ----------- ---------------------------- 29.6/101.0 MB 3.5 MB/s eta 0:00:21\n",
      "   ----------- ---------------------------- 29.7/101.0 MB 3.5 MB/s eta 0:00:21\n",
      "   ----------- ---------------------------- 29.8/101.0 MB 3.4 MB/s eta 0:00:21\n",
      "   ----------- ---------------------------- 29.9/101.0 MB 3.4 MB/s eta 0:00:21\n",
      "   ----------- ---------------------------- 30.0/101.0 MB 3.4 MB/s eta 0:00:22\n",
      "   ----------- ---------------------------- 30.1/101.0 MB 3.3 MB/s eta 0:00:22\n",
      "   ----------- ---------------------------- 30.2/101.0 MB 3.3 MB/s eta 0:00:22\n",
      "   ------------ --------------------------- 30.3/101.0 MB 3.3 MB/s eta 0:00:22\n",
      "   ------------ --------------------------- 30.5/101.0 MB 3.3 MB/s eta 0:00:22\n",
      "   ------------ --------------------------- 30.6/101.0 MB 3.3 MB/s eta 0:00:22\n",
      "   ------------ --------------------------- 30.7/101.0 MB 3.2 MB/s eta 0:00:22\n",
      "   ------------ --------------------------- 30.9/101.0 MB 3.2 MB/s eta 0:00:22\n",
      "   ------------ --------------------------- 31.0/101.0 MB 3.2 MB/s eta 0:00:22\n",
      "   ------------ --------------------------- 31.2/101.0 MB 3.2 MB/s eta 0:00:22\n",
      "   ------------ --------------------------- 31.3/101.0 MB 3.2 MB/s eta 0:00:23\n",
      "   ------------ --------------------------- 31.5/101.0 MB 3.1 MB/s eta 0:00:23\n",
      "   ------------ --------------------------- 31.6/101.0 MB 3.1 MB/s eta 0:00:23\n",
      "   ------------ --------------------------- 31.7/101.0 MB 3.1 MB/s eta 0:00:23\n",
      "   ------------ --------------------------- 31.9/101.0 MB 3.1 MB/s eta 0:00:23\n",
      "   ------------ --------------------------- 32.0/101.0 MB 3.1 MB/s eta 0:00:23\n",
      "   ------------ --------------------------- 32.2/101.0 MB 3.1 MB/s eta 0:00:23\n",
      "   ------------ --------------------------- 32.3/101.0 MB 3.0 MB/s eta 0:00:23\n",
      "   ------------ --------------------------- 32.5/101.0 MB 3.0 MB/s eta 0:00:23\n",
      "   ------------ --------------------------- 32.6/101.0 MB 3.0 MB/s eta 0:00:23\n",
      "   ------------ --------------------------- 32.7/101.0 MB 3.0 MB/s eta 0:00:23\n",
      "   ------------- -------------------------- 32.8/101.0 MB 3.0 MB/s eta 0:00:24\n",
      "   ------------- -------------------------- 33.0/101.0 MB 2.9 MB/s eta 0:00:24\n",
      "   ------------- -------------------------- 33.1/101.0 MB 2.9 MB/s eta 0:00:24\n",
      "   ------------- -------------------------- 33.2/101.0 MB 2.9 MB/s eta 0:00:24\n",
      "   ------------- -------------------------- 33.3/101.0 MB 2.9 MB/s eta 0:00:24\n",
      "   ------------- -------------------------- 33.5/101.0 MB 2.9 MB/s eta 0:00:24\n",
      "   ------------- -------------------------- 33.6/101.0 MB 2.9 MB/s eta 0:00:24\n",
      "   ------------- -------------------------- 33.7/101.0 MB 2.8 MB/s eta 0:00:24\n",
      "   ------------- -------------------------- 33.8/101.0 MB 2.8 MB/s eta 0:00:24\n",
      "   ------------- -------------------------- 33.9/101.0 MB 2.8 MB/s eta 0:00:24\n",
      "   ------------- -------------------------- 34.0/101.0 MB 2.8 MB/s eta 0:00:24\n",
      "   ------------- -------------------------- 34.2/101.0 MB 2.8 MB/s eta 0:00:24\n",
      "   ------------- -------------------------- 34.3/101.0 MB 2.8 MB/s eta 0:00:25\n",
      "   ------------- -------------------------- 34.4/101.0 MB 2.8 MB/s eta 0:00:25\n",
      "   ------------- -------------------------- 34.5/101.0 MB 2.8 MB/s eta 0:00:24\n",
      "   ------------- -------------------------- 34.7/101.0 MB 2.8 MB/s eta 0:00:25\n",
      "   ------------- -------------------------- 34.8/101.0 MB 2.8 MB/s eta 0:00:25\n",
      "   ------------- -------------------------- 34.9/101.0 MB 2.7 MB/s eta 0:00:25\n",
      "   ------------- -------------------------- 35.1/101.0 MB 2.7 MB/s eta 0:00:25\n",
      "   ------------- -------------------------- 35.2/101.0 MB 2.7 MB/s eta 0:00:25\n",
      "   ------------- -------------------------- 35.3/101.0 MB 2.7 MB/s eta 0:00:25\n",
      "   -------------- ------------------------- 35.4/101.0 MB 2.7 MB/s eta 0:00:25\n",
      "   -------------- ------------------------- 35.6/101.0 MB 2.7 MB/s eta 0:00:25\n",
      "   -------------- ------------------------- 35.7/101.0 MB 2.7 MB/s eta 0:00:25\n",
      "   -------------- ------------------------- 35.8/101.0 MB 2.6 MB/s eta 0:00:25\n",
      "   -------------- ------------------------- 35.9/101.0 MB 2.6 MB/s eta 0:00:25\n",
      "   -------------- ------------------------- 36.1/101.0 MB 2.6 MB/s eta 0:00:25\n",
      "   -------------- ------------------------- 36.2/101.0 MB 2.6 MB/s eta 0:00:25\n",
      "   -------------- ------------------------- 36.3/101.0 MB 2.6 MB/s eta 0:00:25\n",
      "   -------------- ------------------------- 36.4/101.0 MB 2.6 MB/s eta 0:00:25\n",
      "   -------------- ------------------------- 36.5/101.0 MB 2.6 MB/s eta 0:00:25\n",
      "   -------------- ------------------------- 36.6/101.0 MB 2.6 MB/s eta 0:00:25\n",
      "   -------------- ------------------------- 36.7/101.0 MB 2.6 MB/s eta 0:00:25\n",
      "   -------------- ------------------------- 36.8/101.0 MB 2.6 MB/s eta 0:00:26\n",
      "   -------------- ------------------------- 36.9/101.0 MB 2.5 MB/s eta 0:00:26\n",
      "   -------------- ------------------------- 37.1/101.0 MB 2.5 MB/s eta 0:00:26\n",
      "   -------------- ------------------------- 37.2/101.0 MB 2.5 MB/s eta 0:00:26\n",
      "   -------------- ------------------------- 37.3/101.0 MB 2.5 MB/s eta 0:00:26\n",
      "   -------------- ------------------------- 37.4/101.0 MB 2.5 MB/s eta 0:00:26\n",
      "   -------------- ------------------------- 37.6/101.0 MB 2.5 MB/s eta 0:00:26\n",
      "   -------------- ------------------------- 37.7/101.0 MB 2.5 MB/s eta 0:00:25\n",
      "   -------------- ------------------------- 37.8/101.0 MB 2.5 MB/s eta 0:00:25\n",
      "   --------------- ------------------------ 37.9/101.0 MB 2.5 MB/s eta 0:00:25\n",
      "   --------------- ------------------------ 38.0/101.0 MB 2.5 MB/s eta 0:00:25\n",
      "   --------------- ------------------------ 38.1/101.0 MB 2.5 MB/s eta 0:00:25\n",
      "   --------------- ------------------------ 38.3/101.0 MB 2.5 MB/s eta 0:00:25\n",
      "   --------------- ------------------------ 38.3/101.0 MB 2.5 MB/s eta 0:00:25\n",
      "   --------------- ------------------------ 38.5/101.0 MB 2.5 MB/s eta 0:00:25\n",
      "   --------------- ------------------------ 38.6/101.0 MB 2.5 MB/s eta 0:00:25\n",
      "   --------------- ------------------------ 38.7/101.0 MB 2.5 MB/s eta 0:00:25\n",
      "   --------------- ------------------------ 38.8/101.0 MB 2.6 MB/s eta 0:00:25\n",
      "   --------------- ------------------------ 38.9/101.0 MB 2.6 MB/s eta 0:00:25\n",
      "   --------------- ------------------------ 39.0/101.0 MB 2.6 MB/s eta 0:00:25\n",
      "   --------------- ------------------------ 39.1/101.0 MB 2.6 MB/s eta 0:00:25\n",
      "   --------------- ------------------------ 39.2/101.0 MB 2.6 MB/s eta 0:00:25\n",
      "   --------------- ------------------------ 39.3/101.0 MB 2.6 MB/s eta 0:00:25\n",
      "   --------------- ------------------------ 39.4/101.0 MB 2.6 MB/s eta 0:00:25\n",
      "   --------------- ------------------------ 39.5/101.0 MB 2.6 MB/s eta 0:00:25\n",
      "   --------------- ------------------------ 39.5/101.0 MB 2.5 MB/s eta 0:00:25\n",
      "   --------------- ------------------------ 39.6/101.0 MB 2.5 MB/s eta 0:00:25\n",
      "   --------------- ------------------------ 39.7/101.0 MB 2.5 MB/s eta 0:00:25\n",
      "   --------------- ------------------------ 39.8/101.0 MB 2.5 MB/s eta 0:00:25\n",
      "   --------------- ------------------------ 39.9/101.0 MB 2.5 MB/s eta 0:00:25\n",
      "   --------------- ------------------------ 40.0/101.0 MB 2.5 MB/s eta 0:00:25\n",
      "   --------------- ------------------------ 40.0/101.0 MB 2.5 MB/s eta 0:00:25\n",
      "   --------------- ------------------------ 40.1/101.0 MB 2.5 MB/s eta 0:00:25\n",
      "   --------------- ------------------------ 40.2/101.0 MB 2.5 MB/s eta 0:00:25\n",
      "   --------------- ------------------------ 40.3/101.0 MB 2.5 MB/s eta 0:00:25\n",
      "   ---------------- ----------------------- 40.4/101.0 MB 2.5 MB/s eta 0:00:25\n",
      "   ---------------- ----------------------- 40.5/101.0 MB 2.5 MB/s eta 0:00:25\n",
      "   ---------------- ----------------------- 40.6/101.0 MB 2.5 MB/s eta 0:00:25\n",
      "   ---------------- ----------------------- 40.8/101.0 MB 2.5 MB/s eta 0:00:25\n",
      "   ---------------- ----------------------- 40.9/101.0 MB 2.5 MB/s eta 0:00:25\n",
      "   ---------------- ----------------------- 41.0/101.0 MB 2.5 MB/s eta 0:00:25\n",
      "   ---------------- ----------------------- 41.2/101.0 MB 2.5 MB/s eta 0:00:25\n",
      "   ---------------- ----------------------- 41.3/101.0 MB 2.5 MB/s eta 0:00:25\n",
      "   ---------------- ----------------------- 41.4/101.0 MB 2.5 MB/s eta 0:00:25\n",
      "   ---------------- ----------------------- 41.5/101.0 MB 2.5 MB/s eta 0:00:25\n",
      "   ---------------- ----------------------- 41.6/101.0 MB 2.5 MB/s eta 0:00:25\n",
      "   ---------------- ----------------------- 41.8/101.0 MB 2.4 MB/s eta 0:00:25\n",
      "   ---------------- ----------------------- 41.9/101.0 MB 2.4 MB/s eta 0:00:25\n",
      "   ---------------- ----------------------- 42.0/101.0 MB 2.5 MB/s eta 0:00:24\n",
      "   ---------------- ----------------------- 42.2/101.0 MB 2.5 MB/s eta 0:00:24\n",
      "   ---------------- ----------------------- 42.3/101.0 MB 2.5 MB/s eta 0:00:24\n",
      "   ---------------- ----------------------- 42.5/101.0 MB 2.5 MB/s eta 0:00:24\n",
      "   ---------------- ----------------------- 42.6/101.0 MB 2.5 MB/s eta 0:00:24\n",
      "   ---------------- ----------------------- 42.7/101.0 MB 2.5 MB/s eta 0:00:24\n",
      "   ---------------- ----------------------- 42.8/101.0 MB 2.4 MB/s eta 0:00:24\n",
      "   ----------------- ---------------------- 42.9/101.0 MB 2.4 MB/s eta 0:00:24\n",
      "   ----------------- ---------------------- 43.0/101.0 MB 2.4 MB/s eta 0:00:24\n",
      "   ----------------- ---------------------- 43.2/101.0 MB 2.4 MB/s eta 0:00:24\n",
      "   ----------------- ---------------------- 43.3/101.0 MB 2.4 MB/s eta 0:00:24\n",
      "   ----------------- ---------------------- 43.4/101.0 MB 2.4 MB/s eta 0:00:24\n",
      "   ----------------- ---------------------- 43.5/101.0 MB 2.4 MB/s eta 0:00:24\n",
      "   ----------------- ---------------------- 43.6/101.0 MB 2.4 MB/s eta 0:00:24\n",
      "   ----------------- ---------------------- 43.8/101.0 MB 2.4 MB/s eta 0:00:24\n",
      "   ----------------- ---------------------- 43.9/101.0 MB 2.4 MB/s eta 0:00:24\n",
      "   ----------------- ---------------------- 44.0/101.0 MB 2.4 MB/s eta 0:00:24\n",
      "   ----------------- ---------------------- 44.1/101.0 MB 2.4 MB/s eta 0:00:24\n",
      "   ----------------- ---------------------- 44.2/101.0 MB 2.4 MB/s eta 0:00:24\n",
      "   ----------------- ---------------------- 44.3/101.0 MB 2.4 MB/s eta 0:00:24\n",
      "   ----------------- ---------------------- 44.4/101.0 MB 2.4 MB/s eta 0:00:24\n",
      "   ----------------- ---------------------- 44.5/101.0 MB 2.4 MB/s eta 0:00:24\n",
      "   ----------------- ---------------------- 44.6/101.0 MB 2.4 MB/s eta 0:00:24\n",
      "   ----------------- ---------------------- 44.7/101.0 MB 2.4 MB/s eta 0:00:24\n",
      "   ----------------- ---------------------- 44.8/101.0 MB 2.4 MB/s eta 0:00:24\n",
      "   ----------------- ---------------------- 44.9/101.0 MB 2.4 MB/s eta 0:00:24\n",
      "   ----------------- ---------------------- 45.0/101.0 MB 2.4 MB/s eta 0:00:24\n",
      "   ----------------- ---------------------- 45.1/101.0 MB 2.4 MB/s eta 0:00:24\n",
      "   ----------------- ---------------------- 45.2/101.0 MB 2.4 MB/s eta 0:00:24\n",
      "   ----------------- ---------------------- 45.3/101.0 MB 2.4 MB/s eta 0:00:24\n",
      "   ----------------- ---------------------- 45.4/101.0 MB 2.4 MB/s eta 0:00:24\n",
      "   ------------------ --------------------- 45.5/101.0 MB 2.4 MB/s eta 0:00:24\n",
      "   ------------------ --------------------- 45.7/101.0 MB 2.4 MB/s eta 0:00:24\n",
      "   ------------------ --------------------- 45.8/101.0 MB 2.4 MB/s eta 0:00:24\n",
      "   ------------------ --------------------- 45.9/101.0 MB 2.4 MB/s eta 0:00:24\n",
      "   ------------------ --------------------- 46.0/101.0 MB 2.4 MB/s eta 0:00:24\n",
      "   ------------------ --------------------- 46.1/101.0 MB 2.4 MB/s eta 0:00:24\n",
      "   ------------------ --------------------- 46.2/101.0 MB 2.4 MB/s eta 0:00:24\n",
      "   ------------------ --------------------- 46.3/101.0 MB 2.4 MB/s eta 0:00:24\n",
      "   ------------------ --------------------- 46.4/101.0 MB 2.3 MB/s eta 0:00:24\n",
      "   ------------------ --------------------- 46.5/101.0 MB 2.3 MB/s eta 0:00:24\n",
      "   ------------------ --------------------- 46.6/101.0 MB 2.3 MB/s eta 0:00:24\n",
      "   ------------------ --------------------- 46.7/101.0 MB 2.3 MB/s eta 0:00:24\n",
      "   ------------------ --------------------- 46.8/101.0 MB 2.3 MB/s eta 0:00:24\n",
      "   ------------------ --------------------- 46.9/101.0 MB 2.3 MB/s eta 0:00:24\n",
      "   ------------------ --------------------- 47.0/101.0 MB 2.3 MB/s eta 0:00:24\n",
      "   ------------------ --------------------- 47.1/101.0 MB 2.3 MB/s eta 0:00:24\n",
      "   ------------------ --------------------- 47.2/101.0 MB 2.3 MB/s eta 0:00:24\n",
      "   ------------------ --------------------- 47.3/101.0 MB 2.3 MB/s eta 0:00:24\n",
      "   ------------------ --------------------- 47.4/101.0 MB 2.3 MB/s eta 0:00:24\n",
      "   ------------------ --------------------- 47.5/101.0 MB 2.3 MB/s eta 0:00:24\n",
      "   ------------------ --------------------- 47.6/101.0 MB 2.3 MB/s eta 0:00:24\n",
      "   ------------------ --------------------- 47.7/101.0 MB 2.3 MB/s eta 0:00:24\n",
      "   ------------------ --------------------- 47.7/101.0 MB 2.3 MB/s eta 0:00:24\n",
      "   ------------------ --------------------- 47.8/101.0 MB 2.3 MB/s eta 0:00:24\n",
      "   ------------------ --------------------- 47.9/101.0 MB 2.3 MB/s eta 0:00:24\n",
      "   ------------------- -------------------- 48.0/101.0 MB 2.2 MB/s eta 0:00:24\n",
      "   ------------------- -------------------- 48.1/101.0 MB 2.2 MB/s eta 0:00:24\n",
      "   ------------------- -------------------- 48.2/101.0 MB 2.2 MB/s eta 0:00:24\n",
      "   ------------------- -------------------- 48.3/101.0 MB 2.2 MB/s eta 0:00:24\n",
      "   ------------------- -------------------- 48.3/101.0 MB 2.2 MB/s eta 0:00:24\n",
      "   ------------------- -------------------- 48.4/101.0 MB 2.2 MB/s eta 0:00:24\n",
      "   ------------------- -------------------- 48.5/101.0 MB 2.2 MB/s eta 0:00:24\n",
      "   ------------------- -------------------- 48.6/101.0 MB 2.2 MB/s eta 0:00:24\n",
      "   ------------------- -------------------- 48.7/101.0 MB 2.2 MB/s eta 0:00:24\n",
      "   ------------------- -------------------- 48.9/101.0 MB 2.2 MB/s eta 0:00:24\n",
      "   ------------------- -------------------- 49.0/101.0 MB 2.2 MB/s eta 0:00:24\n",
      "   ------------------- -------------------- 49.1/101.0 MB 2.2 MB/s eta 0:00:24\n",
      "   ------------------- -------------------- 49.2/101.0 MB 2.2 MB/s eta 0:00:24\n",
      "   ------------------- -------------------- 49.3/101.0 MB 2.2 MB/s eta 0:00:24\n",
      "   ------------------- -------------------- 49.4/101.0 MB 2.2 MB/s eta 0:00:24\n",
      "   ------------------- -------------------- 49.5/101.0 MB 2.2 MB/s eta 0:00:24\n",
      "   ------------------- -------------------- 49.6/101.0 MB 2.2 MB/s eta 0:00:24\n",
      "   ------------------- -------------------- 49.7/101.0 MB 2.2 MB/s eta 0:00:23\n",
      "   ------------------- -------------------- 49.8/101.0 MB 2.2 MB/s eta 0:00:23\n",
      "   ------------------- -------------------- 49.9/101.0 MB 2.2 MB/s eta 0:00:23\n",
      "   ------------------- -------------------- 50.0/101.0 MB 2.2 MB/s eta 0:00:23\n",
      "   ------------------- -------------------- 50.1/101.0 MB 2.3 MB/s eta 0:00:23\n",
      "   ------------------- -------------------- 50.2/101.0 MB 2.3 MB/s eta 0:00:23\n",
      "   ------------------- -------------------- 50.3/101.0 MB 2.3 MB/s eta 0:00:23\n",
      "   ------------------- -------------------- 50.4/101.0 MB 2.3 MB/s eta 0:00:23\n",
      "   -------------------- ------------------- 50.5/101.0 MB 2.3 MB/s eta 0:00:23\n",
      "   -------------------- ------------------- 50.6/101.0 MB 2.3 MB/s eta 0:00:23\n",
      "   -------------------- ------------------- 50.7/101.0 MB 2.3 MB/s eta 0:00:23\n",
      "   -------------------- ------------------- 50.9/101.0 MB 2.3 MB/s eta 0:00:22\n",
      "   -------------------- ------------------- 51.0/101.0 MB 2.3 MB/s eta 0:00:22\n",
      "   -------------------- ------------------- 51.1/101.0 MB 2.3 MB/s eta 0:00:22\n",
      "   -------------------- ------------------- 51.3/101.0 MB 2.3 MB/s eta 0:00:22\n",
      "   -------------------- ------------------- 51.4/101.0 MB 2.3 MB/s eta 0:00:22\n",
      "   -------------------- ------------------- 51.5/101.0 MB 2.3 MB/s eta 0:00:22\n",
      "   -------------------- ------------------- 51.7/101.0 MB 2.3 MB/s eta 0:00:22\n",
      "   -------------------- ------------------- 51.8/101.0 MB 2.3 MB/s eta 0:00:22\n",
      "   -------------------- ------------------- 51.9/101.0 MB 2.3 MB/s eta 0:00:22\n",
      "   -------------------- ------------------- 52.0/101.0 MB 2.3 MB/s eta 0:00:22\n",
      "   -------------------- ------------------- 52.1/101.0 MB 2.3 MB/s eta 0:00:22\n",
      "   -------------------- ------------------- 52.1/101.0 MB 2.3 MB/s eta 0:00:22\n",
      "   -------------------- ------------------- 52.2/101.0 MB 2.2 MB/s eta 0:00:22\n",
      "   -------------------- ------------------- 52.3/101.0 MB 2.2 MB/s eta 0:00:22\n",
      "   -------------------- ------------------- 52.4/101.0 MB 2.2 MB/s eta 0:00:22\n",
      "   -------------------- ------------------- 52.5/101.0 MB 2.2 MB/s eta 0:00:22\n",
      "   -------------------- ------------------- 52.6/101.0 MB 2.2 MB/s eta 0:00:22\n",
      "   -------------------- ------------------- 52.7/101.0 MB 2.2 MB/s eta 0:00:22\n",
      "   -------------------- ------------------- 52.8/101.0 MB 2.2 MB/s eta 0:00:22\n",
      "   -------------------- ------------------- 53.0/101.0 MB 2.2 MB/s eta 0:00:22\n",
      "   --------------------- ------------------ 53.1/101.0 MB 2.2 MB/s eta 0:00:22\n",
      "   --------------------- ------------------ 53.2/101.0 MB 2.2 MB/s eta 0:00:22\n",
      "   --------------------- ------------------ 53.3/101.0 MB 2.2 MB/s eta 0:00:22\n",
      "   --------------------- ------------------ 53.5/101.0 MB 2.2 MB/s eta 0:00:22\n",
      "   --------------------- ------------------ 53.6/101.0 MB 2.2 MB/s eta 0:00:22\n",
      "   --------------------- ------------------ 53.7/101.0 MB 2.2 MB/s eta 0:00:22\n",
      "   --------------------- ------------------ 53.8/101.0 MB 2.2 MB/s eta 0:00:22\n",
      "   --------------------- ------------------ 54.0/101.0 MB 2.2 MB/s eta 0:00:22\n",
      "   --------------------- ------------------ 54.1/101.0 MB 2.2 MB/s eta 0:00:22\n",
      "   --------------------- ------------------ 54.2/101.0 MB 2.2 MB/s eta 0:00:21\n",
      "   --------------------- ------------------ 54.4/101.0 MB 2.2 MB/s eta 0:00:21\n",
      "   --------------------- ------------------ 54.5/101.0 MB 2.2 MB/s eta 0:00:21\n",
      "   --------------------- ------------------ 54.6/101.0 MB 2.3 MB/s eta 0:00:21\n",
      "   --------------------- ------------------ 54.8/101.0 MB 2.3 MB/s eta 0:00:21\n",
      "   --------------------- ------------------ 54.9/101.0 MB 2.3 MB/s eta 0:00:21\n",
      "   --------------------- ------------------ 55.1/101.0 MB 2.3 MB/s eta 0:00:21\n",
      "   --------------------- ------------------ 55.3/101.0 MB 2.3 MB/s eta 0:00:20\n",
      "   --------------------- ------------------ 55.4/101.0 MB 2.3 MB/s eta 0:00:20\n",
      "   ---------------------- ----------------- 55.6/101.0 MB 2.3 MB/s eta 0:00:20\n",
      "   ---------------------- ----------------- 55.7/101.0 MB 2.3 MB/s eta 0:00:20\n",
      "   ---------------------- ----------------- 55.9/101.0 MB 2.3 MB/s eta 0:00:20\n",
      "   ---------------------- ----------------- 56.0/101.0 MB 2.3 MB/s eta 0:00:20\n",
      "   ---------------------- ----------------- 56.2/101.0 MB 2.3 MB/s eta 0:00:20\n",
      "   ---------------------- ----------------- 56.3/101.0 MB 2.4 MB/s eta 0:00:19\n",
      "   ---------------------- ----------------- 56.5/101.0 MB 2.4 MB/s eta 0:00:19\n",
      "   ---------------------- ----------------- 56.6/101.0 MB 2.4 MB/s eta 0:00:19\n",
      "   ---------------------- ----------------- 56.8/101.0 MB 2.4 MB/s eta 0:00:19\n",
      "   ---------------------- ----------------- 56.9/101.0 MB 2.4 MB/s eta 0:00:19\n",
      "   ---------------------- ----------------- 57.0/101.0 MB 2.4 MB/s eta 0:00:19\n",
      "   ---------------------- ----------------- 57.2/101.0 MB 2.4 MB/s eta 0:00:18\n",
      "   ---------------------- ----------------- 57.4/101.0 MB 2.4 MB/s eta 0:00:18\n",
      "   ---------------------- ----------------- 57.5/101.0 MB 2.5 MB/s eta 0:00:18\n",
      "   ---------------------- ----------------- 57.7/101.0 MB 2.5 MB/s eta 0:00:18\n",
      "   ---------------------- ----------------- 57.8/101.0 MB 2.5 MB/s eta 0:00:18\n",
      "   ---------------------- ----------------- 57.9/101.0 MB 2.5 MB/s eta 0:00:18\n",
      "   ----------------------- ---------------- 58.1/101.0 MB 2.6 MB/s eta 0:00:17\n",
      "   ----------------------- ---------------- 58.3/101.0 MB 2.6 MB/s eta 0:00:17\n",
      "   ----------------------- ---------------- 58.4/101.0 MB 2.6 MB/s eta 0:00:17\n",
      "   ----------------------- ---------------- 58.6/101.0 MB 2.7 MB/s eta 0:00:16\n",
      "   ----------------------- ---------------- 58.8/101.0 MB 2.7 MB/s eta 0:00:16\n",
      "   ----------------------- ---------------- 58.9/101.0 MB 2.7 MB/s eta 0:00:16\n",
      "   ----------------------- ---------------- 59.1/101.0 MB 2.7 MB/s eta 0:00:16\n",
      "   ----------------------- ---------------- 59.4/101.0 MB 2.7 MB/s eta 0:00:16\n",
      "   ----------------------- ---------------- 59.5/101.0 MB 2.8 MB/s eta 0:00:15\n",
      "   ----------------------- ---------------- 59.7/101.0 MB 2.8 MB/s eta 0:00:15\n",
      "   ----------------------- ---------------- 60.0/101.0 MB 2.8 MB/s eta 0:00:15\n",
      "   ----------------------- ---------------- 60.1/101.0 MB 2.9 MB/s eta 0:00:15\n",
      "   ----------------------- ---------------- 60.3/101.0 MB 2.9 MB/s eta 0:00:14\n",
      "   ----------------------- ---------------- 60.5/101.0 MB 2.9 MB/s eta 0:00:14\n",
      "   ------------------------ --------------- 60.7/101.0 MB 3.0 MB/s eta 0:00:14\n",
      "   ------------------------ --------------- 60.8/101.0 MB 3.0 MB/s eta 0:00:14\n",
      "   ------------------------ --------------- 61.0/101.0 MB 3.0 MB/s eta 0:00:14\n",
      "   ------------------------ --------------- 61.2/101.0 MB 3.0 MB/s eta 0:00:14\n",
      "   ------------------------ --------------- 61.3/101.0 MB 3.0 MB/s eta 0:00:14\n",
      "   ------------------------ --------------- 61.4/101.0 MB 3.0 MB/s eta 0:00:14\n",
      "   ------------------------ --------------- 61.6/101.0 MB 3.0 MB/s eta 0:00:14\n",
      "   ------------------------ --------------- 61.7/101.0 MB 3.0 MB/s eta 0:00:13\n",
      "   ------------------------ --------------- 61.8/101.0 MB 3.0 MB/s eta 0:00:13\n",
      "   ------------------------ --------------- 62.0/101.0 MB 3.0 MB/s eta 0:00:13\n",
      "   ------------------------ --------------- 62.2/101.0 MB 3.1 MB/s eta 0:00:13\n",
      "   ------------------------ --------------- 62.3/101.0 MB 3.1 MB/s eta 0:00:13\n",
      "   ------------------------ --------------- 62.5/101.0 MB 3.1 MB/s eta 0:00:13\n",
      "   ------------------------ --------------- 62.6/101.0 MB 3.2 MB/s eta 0:00:13\n",
      "   ------------------------ --------------- 62.8/101.0 MB 3.2 MB/s eta 0:00:13\n",
      "   ------------------------ --------------- 62.9/101.0 MB 3.2 MB/s eta 0:00:12\n",
      "   ------------------------ --------------- 63.0/101.0 MB 3.2 MB/s eta 0:00:12\n",
      "   ------------------------- -------------- 63.2/101.0 MB 3.2 MB/s eta 0:00:12\n",
      "   ------------------------- -------------- 63.3/101.0 MB 3.2 MB/s eta 0:00:12\n",
      "   ------------------------- -------------- 63.4/101.0 MB 3.2 MB/s eta 0:00:12\n",
      "   ------------------------- -------------- 63.5/101.0 MB 3.2 MB/s eta 0:00:12\n",
      "   ------------------------- -------------- 63.6/101.0 MB 3.2 MB/s eta 0:00:12\n",
      "   ------------------------- -------------- 63.7/101.0 MB 3.2 MB/s eta 0:00:12\n",
      "   ------------------------- -------------- 63.7/101.0 MB 3.1 MB/s eta 0:00:12\n",
      "   ------------------------- -------------- 63.8/101.0 MB 3.1 MB/s eta 0:00:12\n",
      "   ------------------------- -------------- 63.8/101.0 MB 3.1 MB/s eta 0:00:12\n",
      "   ------------------------- -------------- 63.9/101.0 MB 3.1 MB/s eta 0:00:13\n",
      "   ------------------------- -------------- 64.0/101.0 MB 3.0 MB/s eta 0:00:13\n",
      "   ------------------------- -------------- 64.0/101.0 MB 3.0 MB/s eta 0:00:13\n",
      "   ------------------------- -------------- 64.1/101.0 MB 3.0 MB/s eta 0:00:13\n",
      "   ------------------------- -------------- 64.2/101.0 MB 3.0 MB/s eta 0:00:13\n",
      "   ------------------------- -------------- 64.2/101.0 MB 3.0 MB/s eta 0:00:13\n",
      "   ------------------------- -------------- 64.3/101.0 MB 2.9 MB/s eta 0:00:13\n",
      "   ------------------------- -------------- 64.4/101.0 MB 2.9 MB/s eta 0:00:13\n",
      "   ------------------------- -------------- 64.4/101.0 MB 2.9 MB/s eta 0:00:13\n",
      "   ------------------------- -------------- 64.5/101.0 MB 2.9 MB/s eta 0:00:13\n",
      "   ------------------------- -------------- 64.6/101.0 MB 2.9 MB/s eta 0:00:13\n",
      "   ------------------------- -------------- 64.7/101.0 MB 2.9 MB/s eta 0:00:13\n",
      "   ------------------------- -------------- 64.7/101.0 MB 2.8 MB/s eta 0:00:13\n",
      "   ------------------------- -------------- 64.8/101.0 MB 2.8 MB/s eta 0:00:13\n",
      "   ------------------------- -------------- 64.9/101.0 MB 2.8 MB/s eta 0:00:13\n",
      "   ------------------------- -------------- 65.0/101.0 MB 2.8 MB/s eta 0:00:13\n",
      "   ------------------------- -------------- 65.1/101.0 MB 2.8 MB/s eta 0:00:13\n",
      "   ------------------------- -------------- 65.1/101.0 MB 2.8 MB/s eta 0:00:13\n",
      "   ------------------------- -------------- 65.2/101.0 MB 2.8 MB/s eta 0:00:14\n",
      "   ------------------------- -------------- 65.3/101.0 MB 2.7 MB/s eta 0:00:14\n",
      "   ------------------------- -------------- 65.3/101.0 MB 2.7 MB/s eta 0:00:14\n",
      "   ------------------------- -------------- 65.4/101.0 MB 2.7 MB/s eta 0:00:14\n",
      "   ------------------------- -------------- 65.5/101.0 MB 2.7 MB/s eta 0:00:14\n",
      "   ------------------------- -------------- 65.6/101.0 MB 2.7 MB/s eta 0:00:14\n",
      "   ------------------------- -------------- 65.6/101.0 MB 2.6 MB/s eta 0:00:14\n",
      "   -------------------------- ------------- 65.7/101.0 MB 2.6 MB/s eta 0:00:14\n",
      "   -------------------------- ------------- 65.8/101.0 MB 2.6 MB/s eta 0:00:14\n",
      "   -------------------------- ------------- 65.9/101.0 MB 2.6 MB/s eta 0:00:14\n",
      "   -------------------------- ------------- 66.0/101.0 MB 2.6 MB/s eta 0:00:14\n",
      "   -------------------------- ------------- 66.1/101.0 MB 2.6 MB/s eta 0:00:14\n",
      "   -------------------------- ------------- 66.2/101.0 MB 2.6 MB/s eta 0:00:14\n",
      "   -------------------------- ------------- 66.3/101.0 MB 2.6 MB/s eta 0:00:14\n",
      "   -------------------------- ------------- 66.4/101.0 MB 2.5 MB/s eta 0:00:14\n",
      "   -------------------------- ------------- 66.5/101.0 MB 2.5 MB/s eta 0:00:14\n",
      "   -------------------------- ------------- 66.7/101.0 MB 2.5 MB/s eta 0:00:14\n",
      "   -------------------------- ------------- 66.7/101.0 MB 2.5 MB/s eta 0:00:14\n",
      "   -------------------------- ------------- 66.8/101.0 MB 2.5 MB/s eta 0:00:14\n",
      "   -------------------------- ------------- 66.9/101.0 MB 2.5 MB/s eta 0:00:14\n",
      "   -------------------------- ------------- 67.1/101.0 MB 2.5 MB/s eta 0:00:14\n",
      "   -------------------------- ------------- 67.1/101.0 MB 2.5 MB/s eta 0:00:14\n",
      "   -------------------------- ------------- 67.2/101.0 MB 2.5 MB/s eta 0:00:14\n",
      "   -------------------------- ------------- 67.3/101.0 MB 2.5 MB/s eta 0:00:14\n",
      "   -------------------------- ------------- 67.3/101.0 MB 2.4 MB/s eta 0:00:14\n",
      "   -------------------------- ------------- 67.4/101.0 MB 2.4 MB/s eta 0:00:14\n",
      "   -------------------------- ------------- 67.4/101.0 MB 2.4 MB/s eta 0:00:14\n",
      "   -------------------------- ------------- 67.5/101.0 MB 2.4 MB/s eta 0:00:15\n",
      "   -------------------------- ------------- 67.5/101.0 MB 2.4 MB/s eta 0:00:15\n",
      "   -------------------------- ------------- 67.6/101.0 MB 2.3 MB/s eta 0:00:15\n",
      "   -------------------------- ------------- 67.6/101.0 MB 2.3 MB/s eta 0:00:15\n",
      "   -------------------------- ------------- 67.6/101.0 MB 2.3 MB/s eta 0:00:15\n",
      "   -------------------------- ------------- 67.7/101.0 MB 2.3 MB/s eta 0:00:15\n",
      "   -------------------------- ------------- 67.8/101.0 MB 2.3 MB/s eta 0:00:15\n",
      "   -------------------------- ------------- 67.8/101.0 MB 2.3 MB/s eta 0:00:15\n",
      "   -------------------------- ------------- 67.9/101.0 MB 2.3 MB/s eta 0:00:15\n",
      "   -------------------------- ------------- 68.0/101.0 MB 2.2 MB/s eta 0:00:15\n",
      "   -------------------------- ------------- 68.1/101.0 MB 2.2 MB/s eta 0:00:15\n",
      "   -------------------------- ------------- 68.1/101.0 MB 2.2 MB/s eta 0:00:15\n",
      "   --------------------------- ------------ 68.2/101.0 MB 2.2 MB/s eta 0:00:15\n",
      "   --------------------------- ------------ 68.3/101.0 MB 2.2 MB/s eta 0:00:15\n",
      "   --------------------------- ------------ 68.4/101.0 MB 2.2 MB/s eta 0:00:15\n",
      "   --------------------------- ------------ 68.5/101.0 MB 2.2 MB/s eta 0:00:15\n",
      "   --------------------------- ------------ 68.6/101.0 MB 2.2 MB/s eta 0:00:15\n",
      "   --------------------------- ------------ 68.7/101.0 MB 2.2 MB/s eta 0:00:15\n",
      "   --------------------------- ------------ 68.7/101.0 MB 2.2 MB/s eta 0:00:15\n",
      "   --------------------------- ------------ 68.8/101.0 MB 2.1 MB/s eta 0:00:16\n",
      "   --------------------------- ------------ 68.9/101.0 MB 2.1 MB/s eta 0:00:16\n",
      "   --------------------------- ------------ 69.0/101.0 MB 2.1 MB/s eta 0:00:16\n",
      "   --------------------------- ------------ 69.1/101.0 MB 2.1 MB/s eta 0:00:16\n",
      "   --------------------------- ------------ 69.2/101.0 MB 2.1 MB/s eta 0:00:16\n",
      "   --------------------------- ------------ 69.3/101.0 MB 2.1 MB/s eta 0:00:16\n",
      "   --------------------------- ------------ 69.4/101.0 MB 2.1 MB/s eta 0:00:16\n",
      "   --------------------------- ------------ 69.5/101.0 MB 2.1 MB/s eta 0:00:16\n",
      "   --------------------------- ------------ 69.7/101.0 MB 2.1 MB/s eta 0:00:16\n",
      "   --------------------------- ------------ 69.8/101.0 MB 2.1 MB/s eta 0:00:16\n",
      "   --------------------------- ------------ 69.9/101.0 MB 2.1 MB/s eta 0:00:16\n",
      "   --------------------------- ------------ 70.1/101.0 MB 2.0 MB/s eta 0:00:16\n",
      "   --------------------------- ------------ 70.2/101.0 MB 2.0 MB/s eta 0:00:16\n",
      "   --------------------------- ------------ 70.4/101.0 MB 2.0 MB/s eta 0:00:16\n",
      "   --------------------------- ------------ 70.6/101.0 MB 2.0 MB/s eta 0:00:15\n",
      "   ---------------------------- ----------- 70.7/101.0 MB 2.0 MB/s eta 0:00:15\n",
      "   ---------------------------- ----------- 70.9/101.0 MB 2.0 MB/s eta 0:00:15\n",
      "   ---------------------------- ----------- 71.1/101.0 MB 2.0 MB/s eta 0:00:15\n",
      "   ---------------------------- ----------- 71.3/101.0 MB 2.0 MB/s eta 0:00:15\n",
      "   ---------------------------- ----------- 71.4/101.0 MB 2.0 MB/s eta 0:00:15\n",
      "   ---------------------------- ----------- 71.6/101.0 MB 2.0 MB/s eta 0:00:15\n",
      "   ---------------------------- ----------- 71.7/101.0 MB 2.0 MB/s eta 0:00:15\n",
      "   ---------------------------- ----------- 71.8/101.0 MB 2.0 MB/s eta 0:00:15\n",
      "   ---------------------------- ----------- 72.0/101.0 MB 2.0 MB/s eta 0:00:15\n",
      "   ---------------------------- ----------- 72.1/101.0 MB 2.0 MB/s eta 0:00:15\n",
      "   ---------------------------- ----------- 72.2/101.0 MB 2.0 MB/s eta 0:00:15\n",
      "   ---------------------------- ----------- 72.3/101.0 MB 2.0 MB/s eta 0:00:15\n",
      "   ---------------------------- ----------- 72.4/101.0 MB 2.0 MB/s eta 0:00:15\n",
      "   ---------------------------- ----------- 72.5/101.0 MB 2.0 MB/s eta 0:00:15\n",
      "   ---------------------------- ----------- 72.6/101.0 MB 2.0 MB/s eta 0:00:15\n",
      "   ---------------------------- ----------- 72.7/101.0 MB 2.0 MB/s eta 0:00:15\n",
      "   ---------------------------- ----------- 72.8/101.0 MB 2.0 MB/s eta 0:00:15\n",
      "   ---------------------------- ----------- 72.9/101.0 MB 2.0 MB/s eta 0:00:15\n",
      "   ---------------------------- ----------- 73.0/101.0 MB 2.0 MB/s eta 0:00:15\n",
      "   ---------------------------- ----------- 73.1/101.0 MB 2.0 MB/s eta 0:00:15\n",
      "   ---------------------------- ----------- 73.2/101.0 MB 2.0 MB/s eta 0:00:15\n",
      "   ----------------------------- ---------- 73.3/101.0 MB 2.0 MB/s eta 0:00:15\n",
      "   ----------------------------- ---------- 73.3/101.0 MB 2.0 MB/s eta 0:00:15\n",
      "   ----------------------------- ---------- 73.4/101.0 MB 1.9 MB/s eta 0:00:15\n",
      "   ----------------------------- ---------- 73.5/101.0 MB 1.9 MB/s eta 0:00:15\n",
      "   ----------------------------- ---------- 73.6/101.0 MB 1.9 MB/s eta 0:00:15\n",
      "   ----------------------------- ---------- 73.7/101.0 MB 1.9 MB/s eta 0:00:15\n",
      "   ----------------------------- ---------- 73.7/101.0 MB 1.9 MB/s eta 0:00:15\n",
      "   ----------------------------- ---------- 73.9/101.0 MB 1.9 MB/s eta 0:00:14\n",
      "   ----------------------------- ---------- 73.9/101.0 MB 1.9 MB/s eta 0:00:14\n",
      "   ----------------------------- ---------- 74.0/101.0 MB 1.9 MB/s eta 0:00:14\n",
      "   ----------------------------- ---------- 74.1/101.0 MB 2.0 MB/s eta 0:00:14\n",
      "   ----------------------------- ---------- 74.2/101.0 MB 2.0 MB/s eta 0:00:14\n",
      "   ----------------------------- ---------- 74.3/101.0 MB 2.0 MB/s eta 0:00:14\n",
      "   ----------------------------- ---------- 74.4/101.0 MB 2.0 MB/s eta 0:00:14\n",
      "   ----------------------------- ---------- 74.5/101.0 MB 2.0 MB/s eta 0:00:14\n",
      "   ----------------------------- ---------- 74.6/101.0 MB 2.0 MB/s eta 0:00:14\n",
      "   ----------------------------- ---------- 74.7/101.0 MB 2.0 MB/s eta 0:00:14\n",
      "   ----------------------------- ---------- 74.7/101.0 MB 2.0 MB/s eta 0:00:14\n",
      "   ----------------------------- ---------- 74.8/101.0 MB 2.0 MB/s eta 0:00:14\n",
      "   ----------------------------- ---------- 74.9/101.0 MB 2.0 MB/s eta 0:00:14\n",
      "   ----------------------------- ---------- 75.0/101.0 MB 2.0 MB/s eta 0:00:13\n",
      "   ----------------------------- ---------- 75.0/101.0 MB 2.0 MB/s eta 0:00:13\n",
      "   ----------------------------- ---------- 75.1/101.0 MB 2.0 MB/s eta 0:00:13\n",
      "   ----------------------------- ---------- 75.1/101.0 MB 2.0 MB/s eta 0:00:14\n",
      "   ----------------------------- ---------- 75.2/101.0 MB 2.0 MB/s eta 0:00:14\n",
      "   ----------------------------- ---------- 75.2/101.0 MB 2.0 MB/s eta 0:00:14\n",
      "   ----------------------------- ---------- 75.2/101.0 MB 2.0 MB/s eta 0:00:14\n",
      "   ----------------------------- ---------- 75.3/101.0 MB 1.9 MB/s eta 0:00:14\n",
      "   ----------------------------- ---------- 75.3/101.0 MB 1.9 MB/s eta 0:00:14\n",
      "   ----------------------------- ---------- 75.3/101.0 MB 1.9 MB/s eta 0:00:14\n",
      "   ----------------------------- ---------- 75.4/101.0 MB 1.9 MB/s eta 0:00:14\n",
      "   ----------------------------- ---------- 75.4/101.0 MB 1.9 MB/s eta 0:00:14\n",
      "   ----------------------------- ---------- 75.4/101.0 MB 1.9 MB/s eta 0:00:14\n",
      "   ----------------------------- ---------- 75.5/101.0 MB 1.9 MB/s eta 0:00:14\n",
      "   ----------------------------- ---------- 75.5/101.0 MB 1.9 MB/s eta 0:00:14\n",
      "   ----------------------------- ---------- 75.6/101.0 MB 1.9 MB/s eta 0:00:14\n",
      "   ----------------------------- ---------- 75.6/101.0 MB 1.9 MB/s eta 0:00:14\n",
      "   ----------------------------- ---------- 75.6/101.0 MB 1.9 MB/s eta 0:00:14\n",
      "   ----------------------------- ---------- 75.7/101.0 MB 1.9 MB/s eta 0:00:14\n",
      "   ----------------------------- ---------- 75.7/101.0 MB 1.8 MB/s eta 0:00:14\n",
      "   ------------------------------ --------- 75.8/101.0 MB 1.8 MB/s eta 0:00:14\n",
      "   ------------------------------ --------- 75.8/101.0 MB 1.8 MB/s eta 0:00:14\n",
      "   ------------------------------ --------- 75.9/101.0 MB 1.8 MB/s eta 0:00:14\n",
      "   ------------------------------ --------- 75.9/101.0 MB 1.8 MB/s eta 0:00:14\n",
      "   ------------------------------ --------- 76.0/101.0 MB 1.8 MB/s eta 0:00:14\n",
      "   ------------------------------ --------- 76.0/101.0 MB 1.8 MB/s eta 0:00:14\n",
      "   ------------------------------ --------- 76.1/101.0 MB 1.8 MB/s eta 0:00:14\n",
      "   ------------------------------ --------- 76.2/101.0 MB 1.8 MB/s eta 0:00:14\n",
      "   ------------------------------ --------- 76.2/101.0 MB 1.8 MB/s eta 0:00:14\n",
      "   ------------------------------ --------- 76.3/101.0 MB 1.8 MB/s eta 0:00:14\n",
      "   ------------------------------ --------- 76.4/101.0 MB 1.8 MB/s eta 0:00:14\n",
      "   ------------------------------ --------- 76.4/101.0 MB 1.8 MB/s eta 0:00:14\n",
      "   ------------------------------ --------- 76.5/101.0 MB 1.8 MB/s eta 0:00:14\n",
      "   ------------------------------ --------- 76.6/101.0 MB 1.8 MB/s eta 0:00:14\n",
      "   ------------------------------ --------- 76.6/101.0 MB 1.8 MB/s eta 0:00:14\n",
      "   ------------------------------ --------- 76.7/101.0 MB 1.8 MB/s eta 0:00:14\n",
      "   ------------------------------ --------- 76.8/101.0 MB 1.8 MB/s eta 0:00:14\n",
      "   ------------------------------ --------- 76.9/101.0 MB 1.8 MB/s eta 0:00:14\n",
      "   ------------------------------ --------- 77.0/101.0 MB 1.8 MB/s eta 0:00:14\n",
      "   ------------------------------ --------- 77.0/101.0 MB 1.8 MB/s eta 0:00:14\n",
      "   ------------------------------ --------- 77.1/101.0 MB 1.8 MB/s eta 0:00:14\n",
      "   ------------------------------ --------- 77.2/101.0 MB 1.7 MB/s eta 0:00:14\n",
      "   ------------------------------ --------- 77.3/101.0 MB 1.7 MB/s eta 0:00:14\n",
      "   ------------------------------ --------- 77.3/101.0 MB 1.7 MB/s eta 0:00:14\n",
      "   ------------------------------ --------- 77.4/101.0 MB 1.7 MB/s eta 0:00:14\n",
      "   ------------------------------ --------- 77.4/101.0 MB 1.7 MB/s eta 0:00:14\n",
      "   ------------------------------ --------- 77.5/101.0 MB 1.7 MB/s eta 0:00:14\n",
      "   ------------------------------ --------- 77.6/101.0 MB 1.7 MB/s eta 0:00:14\n",
      "   ------------------------------ --------- 77.6/101.0 MB 1.7 MB/s eta 0:00:14\n",
      "   ------------------------------ --------- 77.7/101.0 MB 1.8 MB/s eta 0:00:14\n",
      "   ------------------------------ --------- 77.8/101.0 MB 1.8 MB/s eta 0:00:14\n",
      "   ------------------------------ --------- 77.9/101.0 MB 1.8 MB/s eta 0:00:13\n",
      "   ------------------------------ --------- 78.0/101.0 MB 1.8 MB/s eta 0:00:13\n",
      "   ------------------------------ --------- 78.1/101.0 MB 1.8 MB/s eta 0:00:13\n",
      "   ------------------------------ --------- 78.2/101.0 MB 1.8 MB/s eta 0:00:13\n",
      "   ------------------------------ --------- 78.2/101.0 MB 1.8 MB/s eta 0:00:13\n",
      "   ------------------------------- -------- 78.3/101.0 MB 1.8 MB/s eta 0:00:13\n",
      "   ------------------------------- -------- 78.4/101.0 MB 1.8 MB/s eta 0:00:13\n",
      "   ------------------------------- -------- 78.5/101.0 MB 1.8 MB/s eta 0:00:13\n",
      "   ------------------------------- -------- 78.6/101.0 MB 1.8 MB/s eta 0:00:13\n",
      "   ------------------------------- -------- 78.7/101.0 MB 1.8 MB/s eta 0:00:13\n",
      "   ------------------------------- -------- 78.8/101.0 MB 1.8 MB/s eta 0:00:13\n",
      "   ------------------------------- -------- 78.8/101.0 MB 1.8 MB/s eta 0:00:13\n",
      "   ------------------------------- -------- 78.9/101.0 MB 1.8 MB/s eta 0:00:13\n",
      "   ------------------------------- -------- 78.9/101.0 MB 1.8 MB/s eta 0:00:13\n",
      "   ------------------------------- -------- 79.0/101.0 MB 1.8 MB/s eta 0:00:13\n",
      "   ------------------------------- -------- 79.1/101.0 MB 1.8 MB/s eta 0:00:13\n",
      "   ------------------------------- -------- 79.1/101.0 MB 1.8 MB/s eta 0:00:13\n",
      "   ------------------------------- -------- 79.2/101.0 MB 1.8 MB/s eta 0:00:13\n",
      "   ------------------------------- -------- 79.3/101.0 MB 1.8 MB/s eta 0:00:13\n",
      "   ------------------------------- -------- 79.4/101.0 MB 1.8 MB/s eta 0:00:13\n",
      "   ------------------------------- -------- 79.5/101.0 MB 1.8 MB/s eta 0:00:13\n",
      "   ------------------------------- -------- 79.5/101.0 MB 1.8 MB/s eta 0:00:13\n",
      "   ------------------------------- -------- 79.6/101.0 MB 1.8 MB/s eta 0:00:13\n",
      "   ------------------------------- -------- 79.7/101.0 MB 1.8 MB/s eta 0:00:13\n",
      "   ------------------------------- -------- 79.7/101.0 MB 1.8 MB/s eta 0:00:13\n",
      "   ------------------------------- -------- 79.8/101.0 MB 1.8 MB/s eta 0:00:13\n",
      "   ------------------------------- -------- 79.9/101.0 MB 1.7 MB/s eta 0:00:13\n",
      "   ------------------------------- -------- 80.0/101.0 MB 1.7 MB/s eta 0:00:13\n",
      "   ------------------------------- -------- 80.1/101.0 MB 1.7 MB/s eta 0:00:13\n",
      "   ------------------------------- -------- 80.2/101.0 MB 1.7 MB/s eta 0:00:12\n",
      "   ------------------------------- -------- 80.3/101.0 MB 1.7 MB/s eta 0:00:13\n",
      "   ------------------------------- -------- 80.4/101.0 MB 1.7 MB/s eta 0:00:13\n",
      "   ------------------------------- -------- 80.4/101.0 MB 1.7 MB/s eta 0:00:13\n",
      "   ------------------------------- -------- 80.5/101.0 MB 1.7 MB/s eta 0:00:13\n",
      "   ------------------------------- -------- 80.6/101.0 MB 1.7 MB/s eta 0:00:13\n",
      "   ------------------------------- -------- 80.7/101.0 MB 1.7 MB/s eta 0:00:12\n",
      "   ------------------------------- -------- 80.8/101.0 MB 1.7 MB/s eta 0:00:12\n",
      "   -------------------------------- ------- 80.8/101.0 MB 1.7 MB/s eta 0:00:13\n",
      "   -------------------------------- ------- 80.9/101.0 MB 1.7 MB/s eta 0:00:13\n",
      "   -------------------------------- ------- 80.9/101.0 MB 1.7 MB/s eta 0:00:13\n",
      "   -------------------------------- ------- 81.0/101.0 MB 1.7 MB/s eta 0:00:13\n",
      "   -------------------------------- ------- 81.1/101.0 MB 1.6 MB/s eta 0:00:13\n",
      "   -------------------------------- ------- 81.2/101.0 MB 1.6 MB/s eta 0:00:13\n",
      "   -------------------------------- ------- 81.2/101.0 MB 1.6 MB/s eta 0:00:13\n",
      "   -------------------------------- ------- 81.3/101.0 MB 1.6 MB/s eta 0:00:13\n",
      "   -------------------------------- ------- 81.3/101.0 MB 1.6 MB/s eta 0:00:13\n",
      "   -------------------------------- ------- 81.4/101.0 MB 1.6 MB/s eta 0:00:13\n",
      "   -------------------------------- ------- 81.5/101.0 MB 1.6 MB/s eta 0:00:13\n",
      "   -------------------------------- ------- 81.5/101.0 MB 1.6 MB/s eta 0:00:13\n",
      "   -------------------------------- ------- 81.6/101.0 MB 1.6 MB/s eta 0:00:13\n",
      "   -------------------------------- ------- 81.7/101.0 MB 1.6 MB/s eta 0:00:13\n",
      "   -------------------------------- ------- 81.8/101.0 MB 1.6 MB/s eta 0:00:13\n",
      "   -------------------------------- ------- 81.9/101.0 MB 1.6 MB/s eta 0:00:13\n",
      "   -------------------------------- ------- 82.0/101.0 MB 1.6 MB/s eta 0:00:13\n",
      "   -------------------------------- ------- 82.1/101.0 MB 1.6 MB/s eta 0:00:13\n",
      "   -------------------------------- ------- 82.2/101.0 MB 1.6 MB/s eta 0:00:12\n",
      "   -------------------------------- ------- 82.3/101.0 MB 1.6 MB/s eta 0:00:12\n",
      "   -------------------------------- ------- 82.4/101.0 MB 1.6 MB/s eta 0:00:12\n",
      "   -------------------------------- ------- 82.5/101.0 MB 1.6 MB/s eta 0:00:12\n",
      "   -------------------------------- ------- 82.6/101.0 MB 1.6 MB/s eta 0:00:12\n",
      "   -------------------------------- ------- 82.6/101.0 MB 1.6 MB/s eta 0:00:12\n",
      "   -------------------------------- ------- 82.7/101.0 MB 1.6 MB/s eta 0:00:12\n",
      "   -------------------------------- ------- 82.9/101.0 MB 1.6 MB/s eta 0:00:12\n",
      "   -------------------------------- ------- 82.9/101.0 MB 1.6 MB/s eta 0:00:12\n",
      "   -------------------------------- ------- 83.0/101.0 MB 1.6 MB/s eta 0:00:12\n",
      "   -------------------------------- ------- 83.1/101.0 MB 1.5 MB/s eta 0:00:12\n",
      "   -------------------------------- ------- 83.2/101.0 MB 1.6 MB/s eta 0:00:12\n",
      "   -------------------------------- ------- 83.3/101.0 MB 1.6 MB/s eta 0:00:12\n",
      "   --------------------------------- ------ 83.4/101.0 MB 1.6 MB/s eta 0:00:12\n",
      "   --------------------------------- ------ 83.4/101.0 MB 1.6 MB/s eta 0:00:12\n",
      "   --------------------------------- ------ 83.5/101.0 MB 1.6 MB/s eta 0:00:12\n",
      "   --------------------------------- ------ 83.6/101.0 MB 1.6 MB/s eta 0:00:12\n",
      "   --------------------------------- ------ 83.7/101.0 MB 1.5 MB/s eta 0:00:12\n",
      "   --------------------------------- ------ 83.8/101.0 MB 1.6 MB/s eta 0:00:12\n",
      "   --------------------------------- ------ 83.9/101.0 MB 1.6 MB/s eta 0:00:12\n",
      "   --------------------------------- ------ 84.0/101.0 MB 1.6 MB/s eta 0:00:11\n",
      "   --------------------------------- ------ 84.1/101.0 MB 1.6 MB/s eta 0:00:11\n",
      "   --------------------------------- ------ 84.1/101.0 MB 1.6 MB/s eta 0:00:11\n",
      "   --------------------------------- ------ 84.2/101.0 MB 1.6 MB/s eta 0:00:11\n",
      "   --------------------------------- ------ 84.3/101.0 MB 1.6 MB/s eta 0:00:11\n",
      "   --------------------------------- ------ 84.4/101.0 MB 1.6 MB/s eta 0:00:11\n",
      "   --------------------------------- ------ 84.5/101.0 MB 1.6 MB/s eta 0:00:11\n",
      "   --------------------------------- ------ 84.6/101.0 MB 1.6 MB/s eta 0:00:11\n",
      "   --------------------------------- ------ 84.7/101.0 MB 1.6 MB/s eta 0:00:11\n",
      "   --------------------------------- ------ 84.8/101.0 MB 1.6 MB/s eta 0:00:11\n",
      "   --------------------------------- ------ 84.9/101.0 MB 1.6 MB/s eta 0:00:11\n",
      "   --------------------------------- ------ 85.1/101.0 MB 1.6 MB/s eta 0:00:11\n",
      "   --------------------------------- ------ 85.2/101.0 MB 1.6 MB/s eta 0:00:11\n",
      "   --------------------------------- ------ 85.3/101.0 MB 1.6 MB/s eta 0:00:10\n",
      "   --------------------------------- ------ 85.5/101.0 MB 1.6 MB/s eta 0:00:10\n",
      "   --------------------------------- ------ 85.6/101.0 MB 1.6 MB/s eta 0:00:10\n",
      "   --------------------------------- ------ 85.7/101.0 MB 1.7 MB/s eta 0:00:10\n",
      "   --------------------------------- ------ 85.7/101.0 MB 1.7 MB/s eta 0:00:10\n",
      "   --------------------------------- ------ 85.8/101.0 MB 1.7 MB/s eta 0:00:09\n",
      "   ---------------------------------- ----- 85.9/101.0 MB 1.7 MB/s eta 0:00:09\n",
      "   ---------------------------------- ----- 86.0/101.0 MB 1.7 MB/s eta 0:00:09\n",
      "   ---------------------------------- ----- 86.1/101.0 MB 1.7 MB/s eta 0:00:09\n",
      "   ---------------------------------- ----- 86.2/101.0 MB 1.8 MB/s eta 0:00:09\n",
      "   ---------------------------------- ----- 86.2/101.0 MB 1.8 MB/s eta 0:00:09\n",
      "   ---------------------------------- ----- 86.3/101.0 MB 1.8 MB/s eta 0:00:09\n",
      "   ---------------------------------- ----- 86.4/101.0 MB 1.8 MB/s eta 0:00:09\n",
      "   ---------------------------------- ----- 86.4/101.0 MB 1.8 MB/s eta 0:00:09\n",
      "   ---------------------------------- ----- 86.5/101.0 MB 1.8 MB/s eta 0:00:09\n",
      "   ---------------------------------- ----- 86.6/101.0 MB 1.8 MB/s eta 0:00:09\n",
      "   ---------------------------------- ----- 86.7/101.0 MB 1.8 MB/s eta 0:00:09\n",
      "   ---------------------------------- ----- 86.8/101.0 MB 1.8 MB/s eta 0:00:08\n",
      "   ---------------------------------- ----- 86.9/101.0 MB 1.8 MB/s eta 0:00:08\n",
      "   ---------------------------------- ----- 87.0/101.0 MB 1.8 MB/s eta 0:00:08\n",
      "   ---------------------------------- ----- 87.1/101.0 MB 1.8 MB/s eta 0:00:08\n",
      "   ---------------------------------- ----- 87.2/101.0 MB 1.8 MB/s eta 0:00:08\n",
      "   ---------------------------------- ----- 87.3/101.0 MB 1.8 MB/s eta 0:00:08\n",
      "   ---------------------------------- ----- 87.4/101.0 MB 1.8 MB/s eta 0:00:08\n",
      "   ---------------------------------- ----- 87.5/101.0 MB 1.8 MB/s eta 0:00:08\n",
      "   ---------------------------------- ----- 87.6/101.0 MB 1.8 MB/s eta 0:00:08\n",
      "   ---------------------------------- ----- 87.7/101.0 MB 1.8 MB/s eta 0:00:08\n",
      "   ---------------------------------- ----- 87.8/101.0 MB 1.8 MB/s eta 0:00:08\n",
      "   ---------------------------------- ----- 87.9/101.0 MB 1.8 MB/s eta 0:00:08\n",
      "   ---------------------------------- ----- 88.0/101.0 MB 1.8 MB/s eta 0:00:08\n",
      "   ---------------------------------- ----- 88.1/101.0 MB 1.8 MB/s eta 0:00:07\n",
      "   ---------------------------------- ----- 88.2/101.0 MB 1.8 MB/s eta 0:00:07\n",
      "   ---------------------------------- ----- 88.3/101.0 MB 1.9 MB/s eta 0:00:07\n",
      "   ----------------------------------- ---- 88.4/101.0 MB 1.9 MB/s eta 0:00:07\n",
      "   ----------------------------------- ---- 88.5/101.0 MB 1.9 MB/s eta 0:00:07\n",
      "   ----------------------------------- ---- 88.6/101.0 MB 1.9 MB/s eta 0:00:07\n",
      "   ----------------------------------- ---- 88.7/101.0 MB 1.9 MB/s eta 0:00:07\n",
      "   ----------------------------------- ---- 88.7/101.0 MB 1.8 MB/s eta 0:00:07\n",
      "   ----------------------------------- ---- 88.8/101.0 MB 1.8 MB/s eta 0:00:07\n",
      "   ----------------------------------- ---- 88.9/101.0 MB 1.9 MB/s eta 0:00:07\n",
      "   ----------------------------------- ---- 89.0/101.0 MB 1.9 MB/s eta 0:00:07\n",
      "   ----------------------------------- ---- 89.1/101.0 MB 1.9 MB/s eta 0:00:07\n",
      "   ----------------------------------- ---- 89.1/101.0 MB 1.9 MB/s eta 0:00:07\n",
      "   ----------------------------------- ---- 89.2/101.0 MB 1.9 MB/s eta 0:00:07\n",
      "   ----------------------------------- ---- 89.3/101.0 MB 1.9 MB/s eta 0:00:07\n",
      "   ----------------------------------- ---- 89.3/101.0 MB 1.9 MB/s eta 0:00:07\n",
      "   ----------------------------------- ---- 89.4/101.0 MB 1.9 MB/s eta 0:00:07\n",
      "   ----------------------------------- ---- 89.4/101.0 MB 1.8 MB/s eta 0:00:07\n",
      "   ----------------------------------- ---- 89.5/101.0 MB 1.8 MB/s eta 0:00:07\n",
      "   ----------------------------------- ---- 89.5/101.0 MB 1.8 MB/s eta 0:00:07\n",
      "   ----------------------------------- ---- 89.6/101.0 MB 1.8 MB/s eta 0:00:07\n",
      "   ----------------------------------- ---- 89.7/101.0 MB 1.8 MB/s eta 0:00:07\n",
      "   ----------------------------------- ---- 89.7/101.0 MB 1.8 MB/s eta 0:00:07\n",
      "   ----------------------------------- ---- 89.8/101.0 MB 1.8 MB/s eta 0:00:07\n",
      "   ----------------------------------- ---- 89.9/101.0 MB 1.8 MB/s eta 0:00:07\n",
      "   ----------------------------------- ---- 89.9/101.0 MB 1.8 MB/s eta 0:00:07\n",
      "   ----------------------------------- ---- 90.0/101.0 MB 1.8 MB/s eta 0:00:07\n",
      "   ----------------------------------- ---- 90.1/101.0 MB 1.8 MB/s eta 0:00:07\n",
      "   ----------------------------------- ---- 90.2/101.0 MB 1.8 MB/s eta 0:00:06\n",
      "   ----------------------------------- ---- 90.3/101.0 MB 1.8 MB/s eta 0:00:06\n",
      "   ----------------------------------- ---- 90.4/101.0 MB 1.8 MB/s eta 0:00:06\n",
      "   ----------------------------------- ---- 90.5/101.0 MB 1.8 MB/s eta 0:00:06\n",
      "   ----------------------------------- ---- 90.7/101.0 MB 1.8 MB/s eta 0:00:06\n",
      "   ----------------------------------- ---- 90.8/101.0 MB 1.9 MB/s eta 0:00:06\n",
      "   ------------------------------------ --- 90.9/101.0 MB 1.9 MB/s eta 0:00:06\n",
      "   ------------------------------------ --- 91.0/101.0 MB 1.9 MB/s eta 0:00:06\n",
      "   ------------------------------------ --- 91.1/101.0 MB 1.9 MB/s eta 0:00:06\n",
      "   ------------------------------------ --- 91.2/101.0 MB 1.9 MB/s eta 0:00:06\n",
      "   ------------------------------------ --- 91.3/101.0 MB 1.9 MB/s eta 0:00:06\n",
      "   ------------------------------------ --- 91.4/101.0 MB 1.9 MB/s eta 0:00:06\n",
      "   ------------------------------------ --- 91.5/101.0 MB 1.9 MB/s eta 0:00:06\n",
      "   ------------------------------------ --- 91.5/101.0 MB 1.9 MB/s eta 0:00:06\n",
      "   ------------------------------------ --- 91.6/101.0 MB 1.9 MB/s eta 0:00:05\n",
      "   ------------------------------------ --- 91.7/101.0 MB 1.9 MB/s eta 0:00:05\n",
      "   ------------------------------------ --- 91.7/101.0 MB 1.9 MB/s eta 0:00:05\n",
      "   ------------------------------------ --- 91.8/101.0 MB 1.9 MB/s eta 0:00:05\n",
      "   ------------------------------------ --- 91.9/101.0 MB 1.9 MB/s eta 0:00:05\n",
      "   ------------------------------------ --- 91.9/101.0 MB 1.9 MB/s eta 0:00:05\n",
      "   ------------------------------------ --- 92.0/101.0 MB 1.9 MB/s eta 0:00:05\n",
      "   ------------------------------------ --- 92.1/101.0 MB 1.9 MB/s eta 0:00:05\n",
      "   ------------------------------------ --- 92.2/101.0 MB 1.9 MB/s eta 0:00:05\n",
      "   ------------------------------------ --- 92.3/101.0 MB 1.9 MB/s eta 0:00:05\n",
      "   ------------------------------------ --- 92.4/101.0 MB 1.9 MB/s eta 0:00:05\n",
      "   ------------------------------------ --- 92.5/101.0 MB 1.9 MB/s eta 0:00:05\n",
      "   ------------------------------------ --- 92.6/101.0 MB 1.9 MB/s eta 0:00:05\n",
      "   ------------------------------------ --- 92.8/101.0 MB 1.9 MB/s eta 0:00:05\n",
      "   ------------------------------------ --- 92.9/101.0 MB 1.9 MB/s eta 0:00:05\n",
      "   ------------------------------------ --- 93.0/101.0 MB 1.9 MB/s eta 0:00:05\n",
      "   ------------------------------------ --- 93.1/101.0 MB 1.9 MB/s eta 0:00:05\n",
      "   ------------------------------------ --- 93.2/101.0 MB 1.9 MB/s eta 0:00:05\n",
      "   ------------------------------------ --- 93.3/101.0 MB 1.9 MB/s eta 0:00:04\n",
      "   ------------------------------------ --- 93.4/101.0 MB 1.9 MB/s eta 0:00:04\n",
      "   ------------------------------------- -- 93.5/101.0 MB 1.9 MB/s eta 0:00:04\n",
      "   ------------------------------------- -- 93.5/101.0 MB 1.9 MB/s eta 0:00:04\n",
      "   ------------------------------------- -- 93.6/101.0 MB 1.9 MB/s eta 0:00:04\n",
      "   ------------------------------------- -- 93.6/101.0 MB 1.9 MB/s eta 0:00:04\n",
      "   ------------------------------------- -- 93.6/101.0 MB 1.9 MB/s eta 0:00:04\n",
      "   ------------------------------------- -- 93.7/101.0 MB 1.9 MB/s eta 0:00:04\n",
      "   ------------------------------------- -- 93.7/101.0 MB 1.9 MB/s eta 0:00:04\n",
      "   ------------------------------------- -- 93.7/101.0 MB 1.9 MB/s eta 0:00:04\n",
      "   ------------------------------------- -- 93.8/101.0 MB 1.9 MB/s eta 0:00:04\n",
      "   ------------------------------------- -- 93.8/101.0 MB 1.8 MB/s eta 0:00:04\n",
      "   ------------------------------------- -- 93.9/101.0 MB 1.8 MB/s eta 0:00:04\n",
      "   ------------------------------------- -- 93.9/101.0 MB 1.8 MB/s eta 0:00:04\n",
      "   ------------------------------------- -- 94.0/101.0 MB 1.8 MB/s eta 0:00:04\n",
      "   ------------------------------------- -- 94.1/101.0 MB 1.8 MB/s eta 0:00:04\n",
      "   ------------------------------------- -- 94.1/101.0 MB 1.8 MB/s eta 0:00:04\n",
      "   ------------------------------------- -- 94.2/101.0 MB 1.8 MB/s eta 0:00:04\n",
      "   ------------------------------------- -- 94.2/101.0 MB 1.8 MB/s eta 0:00:04\n",
      "   ------------------------------------- -- 94.3/101.0 MB 1.8 MB/s eta 0:00:04\n",
      "   ------------------------------------- -- 94.4/101.0 MB 1.8 MB/s eta 0:00:04\n",
      "   ------------------------------------- -- 94.4/101.0 MB 1.8 MB/s eta 0:00:04\n",
      "   ------------------------------------- -- 94.5/101.0 MB 1.8 MB/s eta 0:00:04\n",
      "   ------------------------------------- -- 94.6/101.0 MB 1.8 MB/s eta 0:00:04\n",
      "   ------------------------------------- -- 94.6/101.0 MB 1.8 MB/s eta 0:00:04\n",
      "   ------------------------------------- -- 94.7/101.0 MB 1.8 MB/s eta 0:00:04\n",
      "   ------------------------------------- -- 94.7/101.0 MB 1.8 MB/s eta 0:00:04\n",
      "   ------------------------------------- -- 94.8/101.0 MB 1.8 MB/s eta 0:00:04\n",
      "   ------------------------------------- -- 94.8/101.0 MB 1.8 MB/s eta 0:00:04\n",
      "   ------------------------------------- -- 94.9/101.0 MB 1.8 MB/s eta 0:00:04\n",
      "   ------------------------------------- -- 95.0/101.0 MB 1.7 MB/s eta 0:00:04\n",
      "   ------------------------------------- -- 95.0/101.0 MB 1.7 MB/s eta 0:00:04\n",
      "   ------------------------------------- -- 95.1/101.0 MB 1.7 MB/s eta 0:00:04\n",
      "   ------------------------------------- -- 95.2/101.0 MB 1.7 MB/s eta 0:00:04\n",
      "   ------------------------------------- -- 95.3/101.0 MB 1.7 MB/s eta 0:00:04\n",
      "   ------------------------------------- -- 95.4/101.0 MB 1.7 MB/s eta 0:00:04\n",
      "   ------------------------------------- -- 95.4/101.0 MB 1.7 MB/s eta 0:00:04\n",
      "   ------------------------------------- -- 95.5/101.0 MB 1.7 MB/s eta 0:00:04\n",
      "   ------------------------------------- -- 95.6/101.0 MB 1.7 MB/s eta 0:00:04\n",
      "   ------------------------------------- -- 95.6/101.0 MB 1.7 MB/s eta 0:00:04\n",
      "   ------------------------------------- -- 95.7/101.0 MB 1.7 MB/s eta 0:00:04\n",
      "   ------------------------------------- -- 95.8/101.0 MB 1.7 MB/s eta 0:00:04\n",
      "   ------------------------------------- -- 95.9/101.0 MB 1.7 MB/s eta 0:00:04\n",
      "   -------------------------------------- - 96.0/101.0 MB 1.7 MB/s eta 0:00:03\n",
      "   -------------------------------------- - 96.1/101.0 MB 1.7 MB/s eta 0:00:03\n",
      "   -------------------------------------- - 96.1/101.0 MB 1.7 MB/s eta 0:00:03\n",
      "   -------------------------------------- - 96.2/101.0 MB 1.7 MB/s eta 0:00:03\n",
      "   -------------------------------------- - 96.3/101.0 MB 1.7 MB/s eta 0:00:03\n",
      "   -------------------------------------- - 96.3/101.0 MB 1.7 MB/s eta 0:00:03\n",
      "   -------------------------------------- - 96.4/101.0 MB 1.7 MB/s eta 0:00:03\n",
      "   -------------------------------------- - 96.5/101.0 MB 1.7 MB/s eta 0:00:03\n",
      "   -------------------------------------- - 96.5/101.0 MB 1.7 MB/s eta 0:00:03\n",
      "   -------------------------------------- - 96.6/101.0 MB 1.7 MB/s eta 0:00:03\n",
      "   -------------------------------------- - 96.7/101.0 MB 1.7 MB/s eta 0:00:03\n",
      "   -------------------------------------- - 96.8/101.0 MB 1.7 MB/s eta 0:00:03\n",
      "   -------------------------------------- - 96.9/101.0 MB 1.7 MB/s eta 0:00:03\n",
      "   -------------------------------------- - 97.0/101.0 MB 1.7 MB/s eta 0:00:03\n",
      "   -------------------------------------- - 97.1/101.0 MB 1.7 MB/s eta 0:00:03\n",
      "   -------------------------------------- - 97.2/101.0 MB 1.7 MB/s eta 0:00:03\n",
      "   -------------------------------------- - 97.3/101.0 MB 1.7 MB/s eta 0:00:03\n",
      "   -------------------------------------- - 97.4/101.0 MB 1.7 MB/s eta 0:00:03\n",
      "   -------------------------------------- - 97.5/101.0 MB 1.7 MB/s eta 0:00:03\n",
      "   -------------------------------------- - 97.6/101.0 MB 1.7 MB/s eta 0:00:03\n",
      "   -------------------------------------- - 97.7/101.0 MB 1.7 MB/s eta 0:00:02\n",
      "   -------------------------------------- - 97.8/101.0 MB 1.7 MB/s eta 0:00:02\n",
      "   -------------------------------------- - 97.8/101.0 MB 1.7 MB/s eta 0:00:02\n",
      "   -------------------------------------- - 97.9/101.0 MB 1.7 MB/s eta 0:00:02\n",
      "   -------------------------------------- - 98.0/101.0 MB 1.7 MB/s eta 0:00:02\n",
      "   -------------------------------------- - 98.1/101.0 MB 1.7 MB/s eta 0:00:02\n",
      "   -------------------------------------- - 98.1/101.0 MB 1.7 MB/s eta 0:00:02\n",
      "   -------------------------------------- - 98.2/101.0 MB 1.7 MB/s eta 0:00:02\n",
      "   -------------------------------------- - 98.3/101.0 MB 1.6 MB/s eta 0:00:02\n",
      "   -------------------------------------- - 98.4/101.0 MB 1.7 MB/s eta 0:00:02\n",
      "   ---------------------------------------  98.5/101.0 MB 1.7 MB/s eta 0:00:02\n",
      "   ---------------------------------------  98.7/101.0 MB 1.7 MB/s eta 0:00:02\n",
      "   ---------------------------------------  98.8/101.0 MB 1.7 MB/s eta 0:00:02\n",
      "   ---------------------------------------  98.9/101.0 MB 1.7 MB/s eta 0:00:02\n",
      "   ---------------------------------------  99.0/101.0 MB 1.7 MB/s eta 0:00:02\n",
      "   ---------------------------------------  99.1/101.0 MB 1.7 MB/s eta 0:00:02\n",
      "   ---------------------------------------  99.2/101.0 MB 1.7 MB/s eta 0:00:02\n",
      "   ---------------------------------------  99.3/101.0 MB 1.7 MB/s eta 0:00:02\n",
      "   ---------------------------------------  99.4/101.0 MB 1.7 MB/s eta 0:00:01\n",
      "   ---------------------------------------  99.5/101.0 MB 1.7 MB/s eta 0:00:01\n",
      "   ---------------------------------------  99.7/101.0 MB 1.7 MB/s eta 0:00:01\n",
      "   ---------------------------------------  99.8/101.0 MB 1.7 MB/s eta 0:00:01\n",
      "   ---------------------------------------  99.9/101.0 MB 1.8 MB/s eta 0:00:01\n",
      "   ---------------------------------------  100.1/101.0 MB 1.8 MB/s eta 0:00:01\n",
      "   ---------------------------------------  100.2/101.0 MB 1.8 MB/s eta 0:00:01\n",
      "   ---------------------------------------  100.4/101.0 MB 1.8 MB/s eta 0:00:01\n",
      "   ---------------------------------------  100.5/101.0 MB 1.8 MB/s eta 0:00:01\n",
      "   ---------------------------------------  100.6/101.0 MB 1.8 MB/s eta 0:00:01\n",
      "   ---------------------------------------  100.8/101.0 MB 1.8 MB/s eta 0:00:01\n",
      "   ---------------------------------------  100.8/101.0 MB 1.8 MB/s eta 0:00:01\n",
      "   ---------------------------------------  100.9/101.0 MB 1.8 MB/s eta 0:00:01\n",
      "   ---------------------------------------  100.9/101.0 MB 1.8 MB/s eta 0:00:01\n",
      "   ---------------------------------------  101.0/101.0 MB 1.8 MB/s eta 0:00:01\n",
      "   ---------------------------------------  101.0/101.0 MB 1.8 MB/s eta 0:00:01\n",
      "   ---------------------------------------  101.0/101.0 MB 1.8 MB/s eta 0:00:01\n",
      "   ---------------------------------------  101.0/101.0 MB 1.8 MB/s eta 0:00:01\n",
      "   ---------------------------------------- 101.0/101.0 MB 1.7 MB/s eta 0:00:00\n",
      "Installing collected packages: graphviz, catboost\n",
      "Successfully installed catboost-1.2.2 graphviz-0.20.1\n"
     ]
    }
   ],
   "source": [
    "!pip install catboost"
   ]
  },
  {
   "cell_type": "code",
   "execution_count": 328,
   "id": "36f91b06-9293-4a06-8b92-1f1da7dd203a",
   "metadata": {
    "tags": []
   },
   "outputs": [],
   "source": [
    "from catboost import CatBoostClassifier\n",
    "from sklearn.tree import DecisionTreeRegressor\n",
    "from sklearn.model_selection import train_test_split\n",
    "from sklearn.preprocessing import LabelEncoder"
   ]
  },
  {
   "cell_type": "code",
   "execution_count": 329,
   "id": "a2ef623d-cefd-41c9-ac60-7eae3f99eba2",
   "metadata": {
    "tags": []
   },
   "outputs": [],
   "source": [
    "data = pd.read_csv(\"jobs_in_data.csv\")\n",
    "features = ['work_year', 'job_category', 'employee_residence','experience_level','employment_type','work_setting','company_location','company_size']\n",
    "target = ['salary_in_usd']\n",
    "X = data[features]\n",
    "y = data[target]"
   ]
  },
  {
   "cell_type": "code",
   "execution_count": 330,
   "id": "1c9258ec-ed10-4e8e-bbc8-d10ae8a0dba2",
   "metadata": {
    "tags": []
   },
   "outputs": [],
   "source": [
    "X_train, X_test, y_train, y_test = train_test_split(X,y)"
   ]
  },
  {
   "cell_type": "code",
   "execution_count": 331,
   "id": "aca0dd8a-5504-4272-bce5-dfa7bbf267d9",
   "metadata": {
    "tags": []
   },
   "outputs": [
    {
     "data": {
      "text/plain": [
       "work_year              int64\n",
       "job_category          object\n",
       "employee_residence    object\n",
       "experience_level      object\n",
       "employment_type       object\n",
       "work_setting          object\n",
       "company_location      object\n",
       "company_size          object\n",
       "dtype: object"
      ]
     },
     "execution_count": 331,
     "metadata": {},
     "output_type": "execute_result"
    }
   ],
   "source": [
    "# 타입을 바꿔줘야함\n",
    "X.dtypes"
   ]
  },
  {
   "cell_type": "code",
   "execution_count": 332,
   "id": "68d987a5-9736-4adb-846a-e6d5f3abc8c9",
   "metadata": {
    "tags": []
   },
   "outputs": [
    {
     "data": {
      "text/plain": [
       "array([4, 3, 3, ..., 7, 7, 2])"
      ]
     },
     "execution_count": 332,
     "metadata": {},
     "output_type": "execute_result"
    }
   ],
   "source": [
    "# 하나씩 만들기\n",
    "job_category_le = LabelEncoder()\n",
    "job_category_le.fit(X.job_category)\n",
    "new_job_category = job_category_le.transform(X.job_category)\n",
    "new_job_category"
   ]
  },
  {
   "cell_type": "code",
   "execution_count": 333,
   "id": "3391a163-a9a2-4a9d-88d7-d9ff7c694b2a",
   "metadata": {
    "tags": []
   },
   "outputs": [],
   "source": [
    "# for i in X.columns:\n",
    "#     le = LabelEncoder()\n",
    "#     le.fit(X[i])\n",
    "#     X[i] = le.transform(X[i])"
   ]
  },
  {
   "cell_type": "code",
   "execution_count": 334,
   "id": "d9fedd54-e6eb-403e-ad77-3914c4b9be34",
   "metadata": {
    "tags": []
   },
   "outputs": [],
   "source": [
    "def make_encode(data):\n",
    "    encoder = []\n",
    "    x = np.zeros(data.shape[0])\n",
    "    for i in data.columns:\n",
    "        le = LabelEncoder()\n",
    "        le.fit(data[i])\n",
    "        x = np.c_[x,le.transform(data[i])]\n",
    "        encoder.append(le)\n",
    "    return x[:,1:], encoder"
   ]
  },
  {
   "cell_type": "code",
   "execution_count": 335,
   "id": "cdfbd34e-6a77-4907-8966-2eb725901323",
   "metadata": {
    "tags": []
   },
   "outputs": [],
   "source": [
    "X_trans, encoder = make_encode(X)"
   ]
  },
  {
   "cell_type": "code",
   "execution_count": 336,
   "id": "67c60353-6671-4394-b197-5c7bc3eb61a9",
   "metadata": {
    "tags": []
   },
   "outputs": [],
   "source": [
    "X_train, X_test, y_train, y_test = train_test_split(X_trans,y)"
   ]
  },
  {
   "cell_type": "code",
   "execution_count": 337,
   "id": "b4690c7a-5974-4c1a-a651-c7571c9e9339",
   "metadata": {
    "tags": []
   },
   "outputs": [],
   "source": [
    "tree_model = DecisionTreeRegressor()"
   ]
  },
  {
   "cell_type": "code",
   "execution_count": 338,
   "id": "ad17bb75-95df-47d2-879f-04f96104f01e",
   "metadata": {
    "tags": []
   },
   "outputs": [
    {
     "data": {
      "text/html": [
       "<style>#sk-container-id-10 {color: black;}#sk-container-id-10 pre{padding: 0;}#sk-container-id-10 div.sk-toggleable {background-color: white;}#sk-container-id-10 label.sk-toggleable__label {cursor: pointer;display: block;width: 100%;margin-bottom: 0;padding: 0.3em;box-sizing: border-box;text-align: center;}#sk-container-id-10 label.sk-toggleable__label-arrow:before {content: \"▸\";float: left;margin-right: 0.25em;color: #696969;}#sk-container-id-10 label.sk-toggleable__label-arrow:hover:before {color: black;}#sk-container-id-10 div.sk-estimator:hover label.sk-toggleable__label-arrow:before {color: black;}#sk-container-id-10 div.sk-toggleable__content {max-height: 0;max-width: 0;overflow: hidden;text-align: left;background-color: #f0f8ff;}#sk-container-id-10 div.sk-toggleable__content pre {margin: 0.2em;color: black;border-radius: 0.25em;background-color: #f0f8ff;}#sk-container-id-10 input.sk-toggleable__control:checked~div.sk-toggleable__content {max-height: 200px;max-width: 100%;overflow: auto;}#sk-container-id-10 input.sk-toggleable__control:checked~label.sk-toggleable__label-arrow:before {content: \"▾\";}#sk-container-id-10 div.sk-estimator input.sk-toggleable__control:checked~label.sk-toggleable__label {background-color: #d4ebff;}#sk-container-id-10 div.sk-label input.sk-toggleable__control:checked~label.sk-toggleable__label {background-color: #d4ebff;}#sk-container-id-10 input.sk-hidden--visually {border: 0;clip: rect(1px 1px 1px 1px);clip: rect(1px, 1px, 1px, 1px);height: 1px;margin: -1px;overflow: hidden;padding: 0;position: absolute;width: 1px;}#sk-container-id-10 div.sk-estimator {font-family: monospace;background-color: #f0f8ff;border: 1px dotted black;border-radius: 0.25em;box-sizing: border-box;margin-bottom: 0.5em;}#sk-container-id-10 div.sk-estimator:hover {background-color: #d4ebff;}#sk-container-id-10 div.sk-parallel-item::after {content: \"\";width: 100%;border-bottom: 1px solid gray;flex-grow: 1;}#sk-container-id-10 div.sk-label:hover label.sk-toggleable__label {background-color: #d4ebff;}#sk-container-id-10 div.sk-serial::before {content: \"\";position: absolute;border-left: 1px solid gray;box-sizing: border-box;top: 0;bottom: 0;left: 50%;z-index: 0;}#sk-container-id-10 div.sk-serial {display: flex;flex-direction: column;align-items: center;background-color: white;padding-right: 0.2em;padding-left: 0.2em;position: relative;}#sk-container-id-10 div.sk-item {position: relative;z-index: 1;}#sk-container-id-10 div.sk-parallel {display: flex;align-items: stretch;justify-content: center;background-color: white;position: relative;}#sk-container-id-10 div.sk-item::before, #sk-container-id-10 div.sk-parallel-item::before {content: \"\";position: absolute;border-left: 1px solid gray;box-sizing: border-box;top: 0;bottom: 0;left: 50%;z-index: -1;}#sk-container-id-10 div.sk-parallel-item {display: flex;flex-direction: column;z-index: 1;position: relative;background-color: white;}#sk-container-id-10 div.sk-parallel-item:first-child::after {align-self: flex-end;width: 50%;}#sk-container-id-10 div.sk-parallel-item:last-child::after {align-self: flex-start;width: 50%;}#sk-container-id-10 div.sk-parallel-item:only-child::after {width: 0;}#sk-container-id-10 div.sk-dashed-wrapped {border: 1px dashed gray;margin: 0 0.4em 0.5em 0.4em;box-sizing: border-box;padding-bottom: 0.4em;background-color: white;}#sk-container-id-10 div.sk-label label {font-family: monospace;font-weight: bold;display: inline-block;line-height: 1.2em;}#sk-container-id-10 div.sk-label-container {text-align: center;}#sk-container-id-10 div.sk-container {/* jupyter's `normalize.less` sets `[hidden] { display: none; }` but bootstrap.min.css set `[hidden] { display: none !important; }` so we also need the `!important` here to be able to override the default hidden behavior on the sphinx rendered scikit-learn.org. See: https://github.com/scikit-learn/scikit-learn/issues/21755 */display: inline-block !important;position: relative;}#sk-container-id-10 div.sk-text-repr-fallback {display: none;}</style><div id=\"sk-container-id-10\" class=\"sk-top-container\"><div class=\"sk-text-repr-fallback\"><pre>DecisionTreeRegressor()</pre><b>In a Jupyter environment, please rerun this cell to show the HTML representation or trust the notebook. <br />On GitHub, the HTML representation is unable to render, please try loading this page with nbviewer.org.</b></div><div class=\"sk-container\" hidden><div class=\"sk-item\"><div class=\"sk-estimator sk-toggleable\"><input class=\"sk-toggleable__control sk-hidden--visually\" id=\"sk-estimator-id-10\" type=\"checkbox\" checked><label for=\"sk-estimator-id-10\" class=\"sk-toggleable__label sk-toggleable__label-arrow\">DecisionTreeRegressor</label><div class=\"sk-toggleable__content\"><pre>DecisionTreeRegressor()</pre></div></div></div></div></div>"
      ],
      "text/plain": [
       "DecisionTreeRegressor()"
      ]
     },
     "execution_count": 338,
     "metadata": {},
     "output_type": "execute_result"
    }
   ],
   "source": [
    "tree_model.fit(X_train,y_train)"
   ]
  },
  {
   "cell_type": "code",
   "execution_count": 339,
   "id": "54f79d4b-d428-4dc1-8ad0-a81946b1b35a",
   "metadata": {
    "tags": []
   },
   "outputs": [
    {
     "data": {
      "text/plain": [
       "(0.4212798650070311, 0.3518595208079338)"
      ]
     },
     "execution_count": 339,
     "metadata": {},
     "output_type": "execute_result"
    }
   ],
   "source": [
    "tree_model.score(X_train,y_train), tree_model.score(X_test,y_test)"
   ]
  },
  {
   "cell_type": "code",
   "execution_count": 340,
   "id": "839377df-6b55-415d-b08e-436da3321088",
   "metadata": {
    "tags": []
   },
   "outputs": [],
   "source": [
    "from sklearn.svm import SVR"
   ]
  },
  {
   "cell_type": "code",
   "execution_count": 341,
   "id": "53dc0230-74b7-4cf5-afe0-895bcbc423fb",
   "metadata": {
    "tags": []
   },
   "outputs": [
    {
     "name": "stderr",
     "output_type": "stream",
     "text": [
      "C:\\Users\\user\\anaconda3\\Lib\\site-packages\\sklearn\\utils\\validation.py:1184: DataConversionWarning: A column-vector y was passed when a 1d array was expected. Please change the shape of y to (n_samples, ), for example using ravel().\n",
      "  y = column_or_1d(y, warn=True)\n"
     ]
    },
    {
     "data": {
      "text/plain": [
       "(-0.011545895841636789, -0.009385128861685743)"
      ]
     },
     "execution_count": 341,
     "metadata": {},
     "output_type": "execute_result"
    }
   ],
   "source": [
    "svm_model = SVR()\n",
    "svm_model.fit(X_train,y_train)\n",
    "svm_model.score(X_train,y_train), svm_model.score(X_test,y_test)"
   ]
  },
  {
   "cell_type": "code",
   "execution_count": 342,
   "id": "7ccc6d0c-14a3-493f-a302-59371891edf2",
   "metadata": {
    "tags": []
   },
   "outputs": [],
   "source": [
    "from sklearn.ensemble import RandomForestRegressor"
   ]
  },
  {
   "cell_type": "code",
   "execution_count": 343,
   "id": "ae824447-69cc-4a9a-8c12-6e36ce0d8112",
   "metadata": {
    "tags": []
   },
   "outputs": [
    {
     "name": "stderr",
     "output_type": "stream",
     "text": [
      "C:\\Users\\user\\anaconda3\\Lib\\site-packages\\sklearn\\base.py:1151: DataConversionWarning: A column-vector y was passed when a 1d array was expected. Please change the shape of y to (n_samples,), for example using ravel().\n",
      "  return fit_method(estimator, *args, **kwargs)\n"
     ]
    },
    {
     "data": {
      "text/plain": [
       "(0.4135672743411589, 0.3633339695620441)"
      ]
     },
     "execution_count": 343,
     "metadata": {},
     "output_type": "execute_result"
    }
   ],
   "source": [
    "rf_model = RandomForestRegressor()\n",
    "rf_model.fit(X_train,y_train)\n",
    "rf_model.score(X_train,y_train), rf_model.score(X_test,y_test)"
   ]
  },
  {
   "cell_type": "code",
   "execution_count": 344,
   "id": "12b35f6d-d61c-4547-a5b0-601b71f49159",
   "metadata": {
    "tags": []
   },
   "outputs": [],
   "source": [
    "from sklearn.linear_model import LinearRegression"
   ]
  },
  {
   "cell_type": "code",
   "execution_count": 345,
   "id": "d4189b7c-2219-48d2-aa06-f1ec36858fc3",
   "metadata": {
    "tags": []
   },
   "outputs": [
    {
     "data": {
      "text/plain": [
       "(0.1938720923693802, 0.21205323415306776)"
      ]
     },
     "execution_count": 345,
     "metadata": {},
     "output_type": "execute_result"
    }
   ],
   "source": [
    "lm_model = LinearRegression()\n",
    "lm_model.fit(X_train, y_train)\n",
    "lm_model.score(X_train,y_train), lm_model.score(X_test, y_test)"
   ]
  },
  {
   "cell_type": "code",
   "execution_count": 346,
   "id": "4f24526b-2d44-40af-b300-e90ac2aca928",
   "metadata": {
    "tags": []
   },
   "outputs": [],
   "source": [
    "from xgboost import XGBRegressor"
   ]
  },
  {
   "cell_type": "code",
   "execution_count": 347,
   "id": "6abe41a3-86fc-4ed1-b48f-df730c5a5775",
   "metadata": {
    "tags": []
   },
   "outputs": [
    {
     "data": {
      "text/plain": [
       "(0.41675571642256604, 0.3549188986403621)"
      ]
     },
     "execution_count": 347,
     "metadata": {},
     "output_type": "execute_result"
    }
   ],
   "source": [
    "xg_model = XGBRegressor()\n",
    "xg_model.fit(X_train, y_train)\n",
    "xg_model.score(X_train, y_train), xg_model.score(X_test, y_test)"
   ]
  },
  {
   "cell_type": "code",
   "execution_count": 348,
   "id": "86b722dc-bfb5-4d18-ad98-7a93c472096a",
   "metadata": {
    "tags": []
   },
   "outputs": [
    {
     "data": {
      "text/plain": [
       "work_year                         2023\n",
       "job_category          Data Engineering\n",
       "employee_residence             Germany\n",
       "experience_level             Mid-level\n",
       "employment_type              Full-time\n",
       "work_setting                    Hybrid\n",
       "company_location               Germany\n",
       "company_size                         L\n",
       "Name: 0, dtype: object"
      ]
     },
     "execution_count": 348,
     "metadata": {},
     "output_type": "execute_result"
    }
   ],
   "source": [
    "X.iloc[0,:]"
   ]
  },
  {
   "cell_type": "code",
   "execution_count": 353,
   "id": "b725fd8c-2988-4d16-b8d1-0b608610b12d",
   "metadata": {
    "tags": []
   },
   "outputs": [],
   "source": [
    "def predict(*args):\n",
    "    dt = []\n",
    "    for idx,arg in enumerate(args[0]):\n",
    "        encoded = encoder[idx].transform([arg])[0]\n",
    "        dt.append(encoded)\n",
    "    dt = np.array(dt).reshape(1,-1)   \n",
    "    return xg_model.predict(dt)[0]"
   ]
  },
  {
   "cell_type": "code",
   "execution_count": 371,
   "id": "d1a2ddcd-80ab-41b1-bde4-5e7c0a019265",
   "metadata": {
    "tags": []
   },
   "outputs": [
    {
     "data": {
      "text/plain": [
       "47881.82"
      ]
     },
     "execution_count": 371,
     "metadata": {},
     "output_type": "execute_result"
    }
   ],
   "source": [
    "d = [2023, 'Data Analysis', 'Germany','Senior','Full-time','Remote','Germany','L']\n",
    "predict(d)"
   ]
  },
  {
   "cell_type": "code",
   "execution_count": 351,
   "id": "1ac6d334-c3e4-4e51-af79-06b0c8604eca",
   "metadata": {
    "tags": []
   },
   "outputs": [
    {
     "data": {
      "text/plain": [
       "salary_in_usd    95012\n",
       "Name: 0, dtype: int64"
      ]
     },
     "execution_count": 351,
     "metadata": {},
     "output_type": "execute_result"
    }
   ],
   "source": [
    "y.iloc[0,:]"
   ]
  },
  {
   "cell_type": "code",
   "execution_count": 358,
   "id": "7f43bdc1-bb0b-4577-85d3-056aed17f6c6",
   "metadata": {
    "tags": []
   },
   "outputs": [
    {
     "data": {
      "text/html": [
       "<div>\n",
       "<style scoped>\n",
       "    .dataframe tbody tr th:only-of-type {\n",
       "        vertical-align: middle;\n",
       "    }\n",
       "\n",
       "    .dataframe tbody tr th {\n",
       "        vertical-align: top;\n",
       "    }\n",
       "\n",
       "    .dataframe thead th {\n",
       "        text-align: right;\n",
       "    }\n",
       "</style>\n",
       "<table border=\"1\" class=\"dataframe\">\n",
       "  <thead>\n",
       "    <tr style=\"text-align: right;\">\n",
       "      <th></th>\n",
       "      <th>work_year</th>\n",
       "      <th>job_category</th>\n",
       "      <th>employee_residence</th>\n",
       "      <th>experience_level</th>\n",
       "      <th>employment_type</th>\n",
       "      <th>work_setting</th>\n",
       "      <th>company_location</th>\n",
       "      <th>company_size</th>\n",
       "    </tr>\n",
       "  </thead>\n",
       "  <tbody>\n",
       "    <tr>\n",
       "      <th>0</th>\n",
       "      <td>2023</td>\n",
       "      <td>Data Engineering</td>\n",
       "      <td>Germany</td>\n",
       "      <td>Mid-level</td>\n",
       "      <td>Full-time</td>\n",
       "      <td>Hybrid</td>\n",
       "      <td>Germany</td>\n",
       "      <td>L</td>\n",
       "    </tr>\n",
       "    <tr>\n",
       "      <th>1</th>\n",
       "      <td>2023</td>\n",
       "      <td>Data Architecture and Modeling</td>\n",
       "      <td>United States</td>\n",
       "      <td>Senior</td>\n",
       "      <td>Full-time</td>\n",
       "      <td>In-person</td>\n",
       "      <td>United States</td>\n",
       "      <td>M</td>\n",
       "    </tr>\n",
       "    <tr>\n",
       "      <th>2</th>\n",
       "      <td>2023</td>\n",
       "      <td>Data Architecture and Modeling</td>\n",
       "      <td>United States</td>\n",
       "      <td>Senior</td>\n",
       "      <td>Full-time</td>\n",
       "      <td>In-person</td>\n",
       "      <td>United States</td>\n",
       "      <td>M</td>\n",
       "    </tr>\n",
       "    <tr>\n",
       "      <th>3</th>\n",
       "      <td>2023</td>\n",
       "      <td>Data Science and Research</td>\n",
       "      <td>United States</td>\n",
       "      <td>Senior</td>\n",
       "      <td>Full-time</td>\n",
       "      <td>In-person</td>\n",
       "      <td>United States</td>\n",
       "      <td>M</td>\n",
       "    </tr>\n",
       "    <tr>\n",
       "      <th>4</th>\n",
       "      <td>2023</td>\n",
       "      <td>Data Science and Research</td>\n",
       "      <td>United States</td>\n",
       "      <td>Senior</td>\n",
       "      <td>Full-time</td>\n",
       "      <td>In-person</td>\n",
       "      <td>United States</td>\n",
       "      <td>M</td>\n",
       "    </tr>\n",
       "    <tr>\n",
       "      <th>...</th>\n",
       "      <td>...</td>\n",
       "      <td>...</td>\n",
       "      <td>...</td>\n",
       "      <td>...</td>\n",
       "      <td>...</td>\n",
       "      <td>...</td>\n",
       "      <td>...</td>\n",
       "      <td>...</td>\n",
       "    </tr>\n",
       "    <tr>\n",
       "      <th>9350</th>\n",
       "      <td>2021</td>\n",
       "      <td>Data Management and Strategy</td>\n",
       "      <td>United States</td>\n",
       "      <td>Senior</td>\n",
       "      <td>Full-time</td>\n",
       "      <td>Remote</td>\n",
       "      <td>United States</td>\n",
       "      <td>L</td>\n",
       "    </tr>\n",
       "    <tr>\n",
       "      <th>9351</th>\n",
       "      <td>2020</td>\n",
       "      <td>Data Science and Research</td>\n",
       "      <td>United States</td>\n",
       "      <td>Senior</td>\n",
       "      <td>Full-time</td>\n",
       "      <td>Remote</td>\n",
       "      <td>United States</td>\n",
       "      <td>L</td>\n",
       "    </tr>\n",
       "    <tr>\n",
       "      <th>9352</th>\n",
       "      <td>2021</td>\n",
       "      <td>Data Science and Research</td>\n",
       "      <td>United States</td>\n",
       "      <td>Mid-level</td>\n",
       "      <td>Full-time</td>\n",
       "      <td>Remote</td>\n",
       "      <td>United States</td>\n",
       "      <td>L</td>\n",
       "    </tr>\n",
       "    <tr>\n",
       "      <th>9353</th>\n",
       "      <td>2020</td>\n",
       "      <td>Data Science and Research</td>\n",
       "      <td>United States</td>\n",
       "      <td>Entry-level</td>\n",
       "      <td>Full-time</td>\n",
       "      <td>Remote</td>\n",
       "      <td>United States</td>\n",
       "      <td>S</td>\n",
       "    </tr>\n",
       "    <tr>\n",
       "      <th>9354</th>\n",
       "      <td>2020</td>\n",
       "      <td>Data Analysis</td>\n",
       "      <td>United States</td>\n",
       "      <td>Entry-level</td>\n",
       "      <td>Contract</td>\n",
       "      <td>Remote</td>\n",
       "      <td>United States</td>\n",
       "      <td>L</td>\n",
       "    </tr>\n",
       "  </tbody>\n",
       "</table>\n",
       "<p>9355 rows × 8 columns</p>\n",
       "</div>"
      ],
      "text/plain": [
       "      work_year                    job_category employee_residence  \\\n",
       "0          2023                Data Engineering            Germany   \n",
       "1          2023  Data Architecture and Modeling      United States   \n",
       "2          2023  Data Architecture and Modeling      United States   \n",
       "3          2023       Data Science and Research      United States   \n",
       "4          2023       Data Science and Research      United States   \n",
       "...         ...                             ...                ...   \n",
       "9350       2021    Data Management and Strategy      United States   \n",
       "9351       2020       Data Science and Research      United States   \n",
       "9352       2021       Data Science and Research      United States   \n",
       "9353       2020       Data Science and Research      United States   \n",
       "9354       2020                   Data Analysis      United States   \n",
       "\n",
       "     experience_level employment_type work_setting company_location  \\\n",
       "0           Mid-level       Full-time       Hybrid          Germany   \n",
       "1              Senior       Full-time    In-person    United States   \n",
       "2              Senior       Full-time    In-person    United States   \n",
       "3              Senior       Full-time    In-person    United States   \n",
       "4              Senior       Full-time    In-person    United States   \n",
       "...               ...             ...          ...              ...   \n",
       "9350           Senior       Full-time       Remote    United States   \n",
       "9351           Senior       Full-time       Remote    United States   \n",
       "9352        Mid-level       Full-time       Remote    United States   \n",
       "9353      Entry-level       Full-time       Remote    United States   \n",
       "9354      Entry-level        Contract       Remote    United States   \n",
       "\n",
       "     company_size  \n",
       "0               L  \n",
       "1               M  \n",
       "2               M  \n",
       "3               M  \n",
       "4               M  \n",
       "...           ...  \n",
       "9350            L  \n",
       "9351            L  \n",
       "9352            L  \n",
       "9353            S  \n",
       "9354            L  \n",
       "\n",
       "[9355 rows x 8 columns]"
      ]
     },
     "execution_count": 358,
     "metadata": {},
     "output_type": "execute_result"
    }
   ],
   "source": [
    "X"
   ]
  },
  {
   "cell_type": "code",
   "execution_count": 372,
   "id": "996fded7-e00e-40e5-a242-00d3c1a033cd",
   "metadata": {
    "tags": []
   },
   "outputs": [],
   "source": [
    "from catboost import CatBoostRegressor"
   ]
  },
  {
   "cell_type": "code",
   "execution_count": 374,
   "id": "0ec4ea0e-2217-4c9e-8060-a8888b3bec3f",
   "metadata": {
    "tags": []
   },
   "outputs": [],
   "source": [
    "X_train, X_test, y_train, y_test = train_test_split(X,y)"
   ]
  },
  {
   "cell_type": "code",
   "execution_count": 385,
   "id": "937a7794-7c45-455e-be27-ee76de202493",
   "metadata": {
    "tags": []
   },
   "outputs": [],
   "source": [
    "cat_cols = ['job_category','employee_residence','experience_level','employment_type','work_setting','company_location','company_size']"
   ]
  },
  {
   "cell_type": "code",
   "execution_count": 395,
   "id": "8884315b-3dc1-4fd6-9a8a-b24f93b17b75",
   "metadata": {
    "tags": []
   },
   "outputs": [],
   "source": [
    "cat_cols2 = X.dtypes.index[X.dtypes == 'object'].to_list()"
   ]
  },
  {
   "cell_type": "code",
   "execution_count": 396,
   "id": "98c83522-1ab3-461b-a5c0-7562bb599459",
   "metadata": {
    "tags": []
   },
   "outputs": [],
   "source": [
    "cat_model = CatBoostRegressor(cat_features=cat_cols2)"
   ]
  },
  {
   "cell_type": "code",
   "execution_count": 397,
   "id": "4ebb20c4-208d-480b-a597-b0e16521c021",
   "metadata": {
    "collapsed": true,
    "jupyter": {
     "outputs_hidden": true
    },
    "tags": []
   },
   "outputs": [
    {
     "name": "stdout",
     "output_type": "stream",
     "text": [
      "Learning rate set to 0.055701\n",
      "0:\tlearn: 62667.8650981\ttotal: 17.2ms\tremaining: 17.2s\n",
      "1:\tlearn: 61899.7196863\ttotal: 36.8ms\tremaining: 18.4s\n",
      "2:\tlearn: 61211.7414379\ttotal: 54ms\tremaining: 18s\n",
      "3:\tlearn: 60569.9867842\ttotal: 71.6ms\tremaining: 17.8s\n",
      "4:\tlearn: 60040.7877049\ttotal: 85.9ms\tremaining: 17.1s\n",
      "5:\tlearn: 59282.2389004\ttotal: 99.3ms\tremaining: 16.4s\n",
      "6:\tlearn: 58601.9627808\ttotal: 113ms\tremaining: 16.1s\n",
      "7:\tlearn: 57990.4066131\ttotal: 127ms\tremaining: 15.8s\n",
      "8:\tlearn: 57466.2829801\ttotal: 141ms\tremaining: 15.5s\n",
      "9:\tlearn: 56964.2521160\ttotal: 153ms\tremaining: 15.2s\n",
      "10:\tlearn: 56483.7854141\ttotal: 168ms\tremaining: 15.1s\n",
      "11:\tlearn: 56066.1422930\ttotal: 182ms\tremaining: 14.9s\n",
      "12:\tlearn: 55681.4642253\ttotal: 196ms\tremaining: 14.9s\n",
      "13:\tlearn: 55324.8090012\ttotal: 217ms\tremaining: 15.3s\n",
      "14:\tlearn: 55010.0686381\ttotal: 233ms\tremaining: 15.3s\n",
      "15:\tlearn: 54700.2583633\ttotal: 247ms\tremaining: 15.2s\n",
      "16:\tlearn: 54456.6655332\ttotal: 261ms\tremaining: 15.1s\n",
      "17:\tlearn: 54218.2924804\ttotal: 274ms\tremaining: 15s\n",
      "18:\tlearn: 53996.0920708\ttotal: 287ms\tremaining: 14.8s\n",
      "19:\tlearn: 53800.2758701\ttotal: 300ms\tremaining: 14.7s\n",
      "20:\tlearn: 53599.6940017\ttotal: 314ms\tremaining: 14.6s\n",
      "21:\tlearn: 53419.8318061\ttotal: 329ms\tremaining: 14.6s\n",
      "22:\tlearn: 53280.5095639\ttotal: 342ms\tremaining: 14.5s\n",
      "23:\tlearn: 53131.8868066\ttotal: 355ms\tremaining: 14.4s\n",
      "24:\tlearn: 53008.3892868\ttotal: 370ms\tremaining: 14.4s\n",
      "25:\tlearn: 52886.1988272\ttotal: 384ms\tremaining: 14.4s\n",
      "26:\tlearn: 52738.9660675\ttotal: 398ms\tremaining: 14.3s\n",
      "27:\tlearn: 52610.7678829\ttotal: 421ms\tremaining: 14.6s\n",
      "28:\tlearn: 52524.1806824\ttotal: 434ms\tremaining: 14.5s\n",
      "29:\tlearn: 52452.2741239\ttotal: 448ms\tremaining: 14.5s\n",
      "30:\tlearn: 52360.9948717\ttotal: 461ms\tremaining: 14.4s\n",
      "31:\tlearn: 52276.6101154\ttotal: 476ms\tremaining: 14.4s\n",
      "32:\tlearn: 52204.2990328\ttotal: 490ms\tremaining: 14.4s\n",
      "33:\tlearn: 52140.5793302\ttotal: 503ms\tremaining: 14.3s\n",
      "34:\tlearn: 52059.5027031\ttotal: 517ms\tremaining: 14.3s\n",
      "35:\tlearn: 51995.6624795\ttotal: 530ms\tremaining: 14.2s\n",
      "36:\tlearn: 51927.3742294\ttotal: 544ms\tremaining: 14.2s\n",
      "37:\tlearn: 51874.6841790\ttotal: 560ms\tremaining: 14.2s\n",
      "38:\tlearn: 51809.8827948\ttotal: 576ms\tremaining: 14.2s\n",
      "39:\tlearn: 51750.8840968\ttotal: 591ms\tremaining: 14.2s\n",
      "40:\tlearn: 51692.7688437\ttotal: 605ms\tremaining: 14.1s\n",
      "41:\tlearn: 51649.9698298\ttotal: 624ms\tremaining: 14.2s\n",
      "42:\tlearn: 51597.7615078\ttotal: 641ms\tremaining: 14.3s\n",
      "43:\tlearn: 51540.4582540\ttotal: 657ms\tremaining: 14.3s\n",
      "44:\tlearn: 51498.8659314\ttotal: 671ms\tremaining: 14.2s\n",
      "45:\tlearn: 51464.4219146\ttotal: 684ms\tremaining: 14.2s\n",
      "46:\tlearn: 51431.4979402\ttotal: 698ms\tremaining: 14.1s\n",
      "47:\tlearn: 51403.2111932\ttotal: 713ms\tremaining: 14.1s\n",
      "48:\tlearn: 51378.3153927\ttotal: 729ms\tremaining: 14.1s\n",
      "49:\tlearn: 51350.8043096\ttotal: 745ms\tremaining: 14.1s\n",
      "50:\tlearn: 51319.1646621\ttotal: 760ms\tremaining: 14.1s\n",
      "51:\tlearn: 51289.6974668\ttotal: 775ms\tremaining: 14.1s\n",
      "52:\tlearn: 51262.7092577\ttotal: 791ms\tremaining: 14.1s\n",
      "53:\tlearn: 51233.6375431\ttotal: 805ms\tremaining: 14.1s\n",
      "54:\tlearn: 51199.0582595\ttotal: 821ms\tremaining: 14.1s\n",
      "55:\tlearn: 51172.8948453\ttotal: 835ms\tremaining: 14.1s\n",
      "56:\tlearn: 51153.5580297\ttotal: 858ms\tremaining: 14.2s\n",
      "57:\tlearn: 51139.6499493\ttotal: 875ms\tremaining: 14.2s\n",
      "58:\tlearn: 51116.7078819\ttotal: 890ms\tremaining: 14.2s\n",
      "59:\tlearn: 51113.4986890\ttotal: 900ms\tremaining: 14.1s\n",
      "60:\tlearn: 51099.5380619\ttotal: 917ms\tremaining: 14.1s\n",
      "61:\tlearn: 51085.1031597\ttotal: 933ms\tremaining: 14.1s\n",
      "62:\tlearn: 51061.2436058\ttotal: 950ms\tremaining: 14.1s\n",
      "63:\tlearn: 51044.1716376\ttotal: 967ms\tremaining: 14.1s\n",
      "64:\tlearn: 51024.2722892\ttotal: 985ms\tremaining: 14.2s\n",
      "65:\tlearn: 51009.1014260\ttotal: 1s\tremaining: 14.2s\n",
      "66:\tlearn: 50996.5871265\ttotal: 1.02s\tremaining: 14.2s\n",
      "67:\tlearn: 50987.5085604\ttotal: 1.03s\tremaining: 14.2s\n",
      "68:\tlearn: 50979.7566430\ttotal: 1.05s\tremaining: 14.1s\n",
      "69:\tlearn: 50962.5130729\ttotal: 1.07s\tremaining: 14.2s\n",
      "70:\tlearn: 50935.9676071\ttotal: 1.08s\tremaining: 14.2s\n",
      "71:\tlearn: 50903.3276032\ttotal: 1.1s\tremaining: 14.2s\n",
      "72:\tlearn: 50885.8693017\ttotal: 1.12s\tremaining: 14.2s\n",
      "73:\tlearn: 50867.2474793\ttotal: 1.14s\tremaining: 14.3s\n",
      "74:\tlearn: 50849.1477375\ttotal: 1.16s\tremaining: 14.3s\n",
      "75:\tlearn: 50831.1118135\ttotal: 1.17s\tremaining: 14.3s\n",
      "76:\tlearn: 50816.9877260\ttotal: 1.19s\tremaining: 14.2s\n",
      "77:\tlearn: 50800.3733477\ttotal: 1.2s\tremaining: 14.2s\n",
      "78:\tlearn: 50789.8150115\ttotal: 1.22s\tremaining: 14.2s\n",
      "79:\tlearn: 50784.7702541\ttotal: 1.23s\tremaining: 14.2s\n",
      "80:\tlearn: 50772.0132483\ttotal: 1.25s\tremaining: 14.1s\n",
      "81:\tlearn: 50749.5717666\ttotal: 1.27s\tremaining: 14.2s\n",
      "82:\tlearn: 50740.2476958\ttotal: 1.29s\tremaining: 14.3s\n",
      "83:\tlearn: 50729.7395699\ttotal: 1.31s\tremaining: 14.3s\n",
      "84:\tlearn: 50714.7837144\ttotal: 1.33s\tremaining: 14.3s\n",
      "85:\tlearn: 50700.8814233\ttotal: 1.34s\tremaining: 14.3s\n",
      "86:\tlearn: 50686.1458841\ttotal: 1.36s\tremaining: 14.3s\n",
      "87:\tlearn: 50678.0307179\ttotal: 1.38s\tremaining: 14.3s\n",
      "88:\tlearn: 50665.7967947\ttotal: 1.4s\tremaining: 14.3s\n",
      "89:\tlearn: 50661.9879977\ttotal: 1.41s\tremaining: 14.3s\n",
      "90:\tlearn: 50650.5693467\ttotal: 1.43s\tremaining: 14.3s\n",
      "91:\tlearn: 50638.1533428\ttotal: 1.44s\tremaining: 14.2s\n",
      "92:\tlearn: 50633.6542387\ttotal: 1.46s\tremaining: 14.2s\n",
      "93:\tlearn: 50624.8428765\ttotal: 1.48s\tremaining: 14.2s\n",
      "94:\tlearn: 50613.2613389\ttotal: 1.5s\tremaining: 14.3s\n",
      "95:\tlearn: 50608.1179617\ttotal: 1.52s\tremaining: 14.3s\n",
      "96:\tlearn: 50594.4247119\ttotal: 1.53s\tremaining: 14.3s\n",
      "97:\tlearn: 50587.3737662\ttotal: 1.55s\tremaining: 14.3s\n",
      "98:\tlearn: 50572.4429864\ttotal: 1.56s\tremaining: 14.2s\n",
      "99:\tlearn: 50565.7236278\ttotal: 1.58s\tremaining: 14.2s\n",
      "100:\tlearn: 50553.0995983\ttotal: 1.59s\tremaining: 14.2s\n",
      "101:\tlearn: 50542.0106536\ttotal: 1.6s\tremaining: 14.1s\n",
      "102:\tlearn: 50536.0925031\ttotal: 1.62s\tremaining: 14.1s\n",
      "103:\tlearn: 50529.4103294\ttotal: 1.64s\tremaining: 14.1s\n",
      "104:\tlearn: 50525.5767464\ttotal: 1.65s\tremaining: 14.1s\n",
      "105:\tlearn: 50518.0825101\ttotal: 1.67s\tremaining: 14.1s\n",
      "106:\tlearn: 50511.9791870\ttotal: 1.68s\tremaining: 14s\n",
      "107:\tlearn: 50507.2323897\ttotal: 1.7s\tremaining: 14s\n",
      "108:\tlearn: 50503.7529277\ttotal: 1.72s\tremaining: 14.1s\n",
      "109:\tlearn: 50499.6070086\ttotal: 1.74s\tremaining: 14.1s\n",
      "110:\tlearn: 50498.5776440\ttotal: 1.75s\tremaining: 14s\n",
      "111:\tlearn: 50495.5901602\ttotal: 1.76s\tremaining: 14s\n",
      "112:\tlearn: 50486.5594654\ttotal: 1.78s\tremaining: 14s\n",
      "113:\tlearn: 50471.3194831\ttotal: 1.79s\tremaining: 14s\n",
      "114:\tlearn: 50466.8121056\ttotal: 1.81s\tremaining: 14s\n",
      "115:\tlearn: 50466.4424607\ttotal: 1.82s\tremaining: 13.9s\n",
      "116:\tlearn: 50465.2712639\ttotal: 1.83s\tremaining: 13.8s\n",
      "117:\tlearn: 50457.2275770\ttotal: 1.84s\tremaining: 13.8s\n",
      "118:\tlearn: 50448.8499827\ttotal: 1.86s\tremaining: 13.8s\n",
      "119:\tlearn: 50444.4970225\ttotal: 1.87s\tremaining: 13.7s\n",
      "120:\tlearn: 50434.0386897\ttotal: 1.89s\tremaining: 13.7s\n",
      "121:\tlearn: 50429.0074878\ttotal: 1.9s\tremaining: 13.7s\n",
      "122:\tlearn: 50426.0189334\ttotal: 1.92s\tremaining: 13.7s\n",
      "123:\tlearn: 50421.2562669\ttotal: 1.94s\tremaining: 13.7s\n",
      "124:\tlearn: 50414.0545293\ttotal: 1.96s\tremaining: 13.7s\n",
      "125:\tlearn: 50412.5998945\ttotal: 1.97s\tremaining: 13.6s\n",
      "126:\tlearn: 50402.0633799\ttotal: 1.98s\tremaining: 13.6s\n",
      "127:\tlearn: 50398.7285715\ttotal: 2s\tremaining: 13.6s\n",
      "128:\tlearn: 50398.0524504\ttotal: 2.01s\tremaining: 13.6s\n",
      "129:\tlearn: 50394.0440255\ttotal: 2.02s\tremaining: 13.5s\n",
      "130:\tlearn: 50389.7432047\ttotal: 2.04s\tremaining: 13.5s\n",
      "131:\tlearn: 50386.2709478\ttotal: 2.05s\tremaining: 13.5s\n",
      "132:\tlearn: 50381.5061495\ttotal: 2.07s\tremaining: 13.5s\n",
      "133:\tlearn: 50373.3099237\ttotal: 2.09s\tremaining: 13.5s\n",
      "134:\tlearn: 50355.3039773\ttotal: 2.1s\tremaining: 13.5s\n",
      "135:\tlearn: 50353.8858786\ttotal: 2.12s\tremaining: 13.5s\n",
      "136:\tlearn: 50351.8974408\ttotal: 2.14s\tremaining: 13.5s\n",
      "137:\tlearn: 50345.0847809\ttotal: 2.16s\tremaining: 13.5s\n",
      "138:\tlearn: 50342.8385807\ttotal: 2.17s\tremaining: 13.5s\n",
      "139:\tlearn: 50336.0799710\ttotal: 2.19s\tremaining: 13.4s\n",
      "140:\tlearn: 50323.6847269\ttotal: 2.21s\tremaining: 13.5s\n",
      "141:\tlearn: 50317.5732468\ttotal: 2.23s\tremaining: 13.5s\n",
      "142:\tlearn: 50315.8343874\ttotal: 2.24s\tremaining: 13.4s\n",
      "143:\tlearn: 50303.8114017\ttotal: 2.26s\tremaining: 13.4s\n",
      "144:\tlearn: 50297.7884234\ttotal: 2.27s\tremaining: 13.4s\n",
      "145:\tlearn: 50296.8368635\ttotal: 2.29s\tremaining: 13.4s\n",
      "146:\tlearn: 50290.8167333\ttotal: 2.31s\tremaining: 13.4s\n",
      "147:\tlearn: 50282.9804331\ttotal: 2.32s\tremaining: 13.4s\n",
      "148:\tlearn: 50280.3659045\ttotal: 2.34s\tremaining: 13.4s\n",
      "149:\tlearn: 50271.4002033\ttotal: 2.36s\tremaining: 13.4s\n",
      "150:\tlearn: 50266.6673499\ttotal: 2.38s\tremaining: 13.4s\n",
      "151:\tlearn: 50261.4217067\ttotal: 2.39s\tremaining: 13.4s\n",
      "152:\tlearn: 50259.0762410\ttotal: 2.41s\tremaining: 13.4s\n",
      "153:\tlearn: 50254.3921259\ttotal: 2.43s\tremaining: 13.3s\n",
      "154:\tlearn: 50249.0281249\ttotal: 2.44s\tremaining: 13.3s\n",
      "155:\tlearn: 50241.8180025\ttotal: 2.46s\tremaining: 13.3s\n",
      "156:\tlearn: 50239.4601470\ttotal: 2.48s\tremaining: 13.3s\n",
      "157:\tlearn: 50233.5875384\ttotal: 2.49s\tremaining: 13.3s\n",
      "158:\tlearn: 50229.8513363\ttotal: 2.51s\tremaining: 13.3s\n",
      "159:\tlearn: 50213.1887888\ttotal: 2.52s\tremaining: 13.3s\n",
      "160:\tlearn: 50208.6903307\ttotal: 2.54s\tremaining: 13.3s\n",
      "161:\tlearn: 50200.8460591\ttotal: 2.56s\tremaining: 13.2s\n",
      "162:\tlearn: 50195.0865968\ttotal: 2.58s\tremaining: 13.2s\n",
      "163:\tlearn: 50191.2226405\ttotal: 2.59s\tremaining: 13.2s\n",
      "164:\tlearn: 50183.2424599\ttotal: 2.61s\tremaining: 13.2s\n",
      "165:\tlearn: 50181.2611287\ttotal: 2.63s\tremaining: 13.2s\n",
      "166:\tlearn: 50173.4499740\ttotal: 2.64s\tremaining: 13.2s\n",
      "167:\tlearn: 50169.3802381\ttotal: 2.66s\tremaining: 13.2s\n",
      "168:\tlearn: 50166.7767577\ttotal: 2.67s\tremaining: 13.2s\n",
      "169:\tlearn: 50164.1528384\ttotal: 2.69s\tremaining: 13.1s\n",
      "170:\tlearn: 50154.7073975\ttotal: 2.71s\tremaining: 13.1s\n",
      "171:\tlearn: 50153.3632356\ttotal: 2.73s\tremaining: 13.1s\n",
      "172:\tlearn: 50148.9984181\ttotal: 2.74s\tremaining: 13.1s\n",
      "173:\tlearn: 50144.2412614\ttotal: 2.76s\tremaining: 13.1s\n",
      "174:\tlearn: 50137.1876428\ttotal: 2.77s\tremaining: 13.1s\n",
      "175:\tlearn: 50133.8104137\ttotal: 2.79s\tremaining: 13.1s\n",
      "176:\tlearn: 50130.3650220\ttotal: 2.81s\tremaining: 13.1s\n",
      "177:\tlearn: 50127.3031695\ttotal: 2.83s\tremaining: 13.1s\n",
      "178:\tlearn: 50125.2487293\ttotal: 2.84s\tremaining: 13s\n",
      "179:\tlearn: 50121.5943796\ttotal: 2.86s\tremaining: 13s\n",
      "180:\tlearn: 50117.9039808\ttotal: 2.87s\tremaining: 13s\n",
      "181:\tlearn: 50116.3509817\ttotal: 2.89s\tremaining: 13s\n",
      "182:\tlearn: 50113.5362990\ttotal: 2.9s\tremaining: 12.9s\n",
      "183:\tlearn: 50104.6640352\ttotal: 2.91s\tremaining: 12.9s\n",
      "184:\tlearn: 50099.2314314\ttotal: 2.93s\tremaining: 12.9s\n",
      "185:\tlearn: 50092.3461098\ttotal: 2.95s\tremaining: 12.9s\n",
      "186:\tlearn: 50091.5682746\ttotal: 2.96s\tremaining: 12.9s\n",
      "187:\tlearn: 50084.1759744\ttotal: 2.98s\tremaining: 12.9s\n",
      "188:\tlearn: 50075.9493239\ttotal: 3s\tremaining: 12.9s\n",
      "189:\tlearn: 50070.5272556\ttotal: 3.01s\tremaining: 12.8s\n",
      "190:\tlearn: 50069.5845711\ttotal: 3.03s\tremaining: 12.9s\n",
      "191:\tlearn: 50067.9615043\ttotal: 3.06s\tremaining: 12.9s\n",
      "192:\tlearn: 50060.7091183\ttotal: 3.08s\tremaining: 12.9s\n",
      "193:\tlearn: 50054.7047266\ttotal: 3.1s\tremaining: 12.9s\n",
      "194:\tlearn: 50052.0619357\ttotal: 3.12s\tremaining: 12.9s\n",
      "195:\tlearn: 50048.0260367\ttotal: 3.13s\tremaining: 12.8s\n",
      "196:\tlearn: 50041.5263922\ttotal: 3.17s\tremaining: 12.9s\n",
      "197:\tlearn: 50035.7583256\ttotal: 3.19s\tremaining: 12.9s\n",
      "198:\tlearn: 50031.5609684\ttotal: 3.21s\tremaining: 12.9s\n",
      "199:\tlearn: 50021.6565829\ttotal: 3.22s\tremaining: 12.9s\n",
      "200:\tlearn: 50015.3410659\ttotal: 3.24s\tremaining: 12.9s\n",
      "201:\tlearn: 50012.2123274\ttotal: 3.26s\tremaining: 12.9s\n",
      "202:\tlearn: 50011.2396121\ttotal: 3.28s\tremaining: 12.9s\n",
      "203:\tlearn: 50007.2855949\ttotal: 3.3s\tremaining: 12.9s\n",
      "204:\tlearn: 50000.4774579\ttotal: 3.34s\tremaining: 12.9s\n",
      "205:\tlearn: 49992.0107961\ttotal: 3.35s\tremaining: 12.9s\n",
      "206:\tlearn: 49983.1171438\ttotal: 3.37s\tremaining: 12.9s\n",
      "207:\tlearn: 49982.3022835\ttotal: 3.39s\tremaining: 12.9s\n",
      "208:\tlearn: 49980.9477722\ttotal: 3.41s\tremaining: 12.9s\n",
      "209:\tlearn: 49980.0025357\ttotal: 3.43s\tremaining: 12.9s\n",
      "210:\tlearn: 49972.5518986\ttotal: 3.45s\tremaining: 12.9s\n",
      "211:\tlearn: 49959.7860988\ttotal: 3.47s\tremaining: 12.9s\n",
      "212:\tlearn: 49957.0683470\ttotal: 3.48s\tremaining: 12.9s\n",
      "213:\tlearn: 49948.2093728\ttotal: 3.5s\tremaining: 12.9s\n",
      "214:\tlearn: 49942.6564512\ttotal: 3.52s\tremaining: 12.8s\n",
      "215:\tlearn: 49934.4850471\ttotal: 3.54s\tremaining: 12.8s\n",
      "216:\tlearn: 49925.7542450\ttotal: 3.55s\tremaining: 12.8s\n",
      "217:\tlearn: 49916.2254890\ttotal: 3.57s\tremaining: 12.8s\n",
      "218:\tlearn: 49915.1704437\ttotal: 3.61s\tremaining: 12.9s\n",
      "219:\tlearn: 49914.6050247\ttotal: 3.63s\tremaining: 12.9s\n",
      "220:\tlearn: 49907.1576764\ttotal: 3.64s\tremaining: 12.8s\n",
      "221:\tlearn: 49905.9607103\ttotal: 3.66s\tremaining: 12.8s\n",
      "222:\tlearn: 49901.4445927\ttotal: 3.67s\tremaining: 12.8s\n",
      "223:\tlearn: 49898.0338566\ttotal: 3.69s\tremaining: 12.8s\n",
      "224:\tlearn: 49894.0989419\ttotal: 3.71s\tremaining: 12.8s\n",
      "225:\tlearn: 49890.6282744\ttotal: 3.72s\tremaining: 12.7s\n",
      "226:\tlearn: 49883.4286817\ttotal: 3.74s\tremaining: 12.7s\n",
      "227:\tlearn: 49880.7666343\ttotal: 3.75s\tremaining: 12.7s\n",
      "228:\tlearn: 49879.7737577\ttotal: 3.76s\tremaining: 12.7s\n",
      "229:\tlearn: 49877.4119421\ttotal: 3.78s\tremaining: 12.7s\n",
      "230:\tlearn: 49874.9531452\ttotal: 3.79s\tremaining: 12.6s\n",
      "231:\tlearn: 49869.7572506\ttotal: 3.81s\tremaining: 12.6s\n",
      "232:\tlearn: 49867.3031091\ttotal: 3.82s\tremaining: 12.6s\n",
      "233:\tlearn: 49858.1982214\ttotal: 3.84s\tremaining: 12.6s\n",
      "234:\tlearn: 49852.4471332\ttotal: 3.85s\tremaining: 12.5s\n",
      "235:\tlearn: 49852.1921183\ttotal: 3.87s\tremaining: 12.5s\n",
      "236:\tlearn: 49849.1510902\ttotal: 3.89s\tremaining: 12.5s\n",
      "237:\tlearn: 49845.5711230\ttotal: 3.9s\tremaining: 12.5s\n",
      "238:\tlearn: 49843.4683013\ttotal: 3.92s\tremaining: 12.5s\n",
      "239:\tlearn: 49841.1973218\ttotal: 3.94s\tremaining: 12.5s\n",
      "240:\tlearn: 49839.5753081\ttotal: 3.95s\tremaining: 12.4s\n",
      "241:\tlearn: 49839.1907581\ttotal: 3.97s\tremaining: 12.4s\n",
      "242:\tlearn: 49830.3359811\ttotal: 3.99s\tremaining: 12.4s\n",
      "243:\tlearn: 49830.0129729\ttotal: 4s\tremaining: 12.4s\n",
      "244:\tlearn: 49827.1566588\ttotal: 4.02s\tremaining: 12.4s\n",
      "245:\tlearn: 49818.4255242\ttotal: 4.03s\tremaining: 12.4s\n",
      "246:\tlearn: 49815.8299756\ttotal: 4.05s\tremaining: 12.4s\n",
      "247:\tlearn: 49812.2492436\ttotal: 4.07s\tremaining: 12.3s\n",
      "248:\tlearn: 49809.9542853\ttotal: 4.08s\tremaining: 12.3s\n",
      "249:\tlearn: 49805.3687396\ttotal: 4.1s\tremaining: 12.3s\n",
      "250:\tlearn: 49799.3093827\ttotal: 4.11s\tremaining: 12.3s\n",
      "251:\tlearn: 49789.2719583\ttotal: 4.13s\tremaining: 12.3s\n",
      "252:\tlearn: 49783.6078354\ttotal: 4.14s\tremaining: 12.2s\n",
      "253:\tlearn: 49779.8949369\ttotal: 4.16s\tremaining: 12.2s\n",
      "254:\tlearn: 49778.8808246\ttotal: 4.17s\tremaining: 12.2s\n",
      "255:\tlearn: 49776.9434976\ttotal: 4.19s\tremaining: 12.2s\n",
      "256:\tlearn: 49771.8475919\ttotal: 4.21s\tremaining: 12.2s\n",
      "257:\tlearn: 49764.4388210\ttotal: 4.22s\tremaining: 12.1s\n",
      "258:\tlearn: 49757.8794887\ttotal: 4.24s\tremaining: 12.1s\n",
      "259:\tlearn: 49754.1678867\ttotal: 4.25s\tremaining: 12.1s\n",
      "260:\tlearn: 49749.7164200\ttotal: 4.26s\tremaining: 12.1s\n",
      "261:\tlearn: 49745.8047077\ttotal: 4.28s\tremaining: 12.1s\n",
      "262:\tlearn: 49741.4109915\ttotal: 4.29s\tremaining: 12s\n",
      "263:\tlearn: 49735.6129413\ttotal: 4.31s\tremaining: 12s\n",
      "264:\tlearn: 49735.4577718\ttotal: 4.33s\tremaining: 12s\n",
      "265:\tlearn: 49731.3407111\ttotal: 4.34s\tremaining: 12s\n",
      "266:\tlearn: 49730.1289080\ttotal: 4.36s\tremaining: 12s\n",
      "267:\tlearn: 49728.9528537\ttotal: 4.37s\tremaining: 11.9s\n",
      "268:\tlearn: 49722.9376162\ttotal: 4.39s\tremaining: 11.9s\n",
      "269:\tlearn: 49721.7969967\ttotal: 4.4s\tremaining: 11.9s\n",
      "270:\tlearn: 49719.8615420\ttotal: 4.42s\tremaining: 11.9s\n",
      "271:\tlearn: 49714.6289574\ttotal: 4.43s\tremaining: 11.9s\n",
      "272:\tlearn: 49713.7252097\ttotal: 4.45s\tremaining: 11.8s\n",
      "273:\tlearn: 49708.7453473\ttotal: 4.46s\tremaining: 11.8s\n",
      "274:\tlearn: 49706.1826665\ttotal: 4.48s\tremaining: 11.8s\n",
      "275:\tlearn: 49704.1306937\ttotal: 4.49s\tremaining: 11.8s\n",
      "276:\tlearn: 49702.4095595\ttotal: 4.51s\tremaining: 11.8s\n",
      "277:\tlearn: 49695.7885720\ttotal: 4.53s\tremaining: 11.8s\n",
      "278:\tlearn: 49688.9603525\ttotal: 4.54s\tremaining: 11.7s\n",
      "279:\tlearn: 49683.6823848\ttotal: 4.56s\tremaining: 11.7s\n",
      "280:\tlearn: 49681.0449785\ttotal: 4.57s\tremaining: 11.7s\n",
      "281:\tlearn: 49675.3276313\ttotal: 4.59s\tremaining: 11.7s\n",
      "282:\tlearn: 49674.8130744\ttotal: 4.61s\tremaining: 11.7s\n",
      "283:\tlearn: 49669.3885226\ttotal: 4.62s\tremaining: 11.7s\n",
      "284:\tlearn: 49658.1409669\ttotal: 4.64s\tremaining: 11.6s\n",
      "285:\tlearn: 49654.9052952\ttotal: 4.66s\tremaining: 11.6s\n",
      "286:\tlearn: 49652.7725544\ttotal: 4.67s\tremaining: 11.6s\n",
      "287:\tlearn: 49646.1278635\ttotal: 4.68s\tremaining: 11.6s\n",
      "288:\tlearn: 49641.8998507\ttotal: 4.7s\tremaining: 11.6s\n",
      "289:\tlearn: 49630.2080961\ttotal: 4.72s\tremaining: 11.6s\n",
      "290:\tlearn: 49630.0205604\ttotal: 4.73s\tremaining: 11.5s\n",
      "291:\tlearn: 49629.5073703\ttotal: 4.75s\tremaining: 11.5s\n",
      "292:\tlearn: 49626.2414452\ttotal: 4.76s\tremaining: 11.5s\n",
      "293:\tlearn: 49621.7196554\ttotal: 4.78s\tremaining: 11.5s\n",
      "294:\tlearn: 49621.0187033\ttotal: 4.79s\tremaining: 11.4s\n",
      "295:\tlearn: 49618.3003559\ttotal: 4.8s\tremaining: 11.4s\n",
      "296:\tlearn: 49617.8946146\ttotal: 4.82s\tremaining: 11.4s\n",
      "297:\tlearn: 49617.5675479\ttotal: 4.83s\tremaining: 11.4s\n",
      "298:\tlearn: 49614.0467681\ttotal: 4.85s\tremaining: 11.4s\n",
      "299:\tlearn: 49610.5299831\ttotal: 4.87s\tremaining: 11.4s\n",
      "300:\tlearn: 49608.8789682\ttotal: 4.88s\tremaining: 11.3s\n",
      "301:\tlearn: 49606.7050750\ttotal: 4.9s\tremaining: 11.3s\n",
      "302:\tlearn: 49606.1692997\ttotal: 4.92s\tremaining: 11.3s\n",
      "303:\tlearn: 49603.5205807\ttotal: 4.93s\tremaining: 11.3s\n",
      "304:\tlearn: 49593.1224925\ttotal: 4.95s\tremaining: 11.3s\n",
      "305:\tlearn: 49591.1740036\ttotal: 4.97s\tremaining: 11.3s\n",
      "306:\tlearn: 49589.8951926\ttotal: 4.98s\tremaining: 11.3s\n",
      "307:\tlearn: 49586.2068915\ttotal: 5s\tremaining: 11.2s\n",
      "308:\tlearn: 49585.9754482\ttotal: 5.01s\tremaining: 11.2s\n",
      "309:\tlearn: 49583.7705953\ttotal: 5.03s\tremaining: 11.2s\n",
      "310:\tlearn: 49578.5440170\ttotal: 5.04s\tremaining: 11.2s\n",
      "311:\tlearn: 49578.1231988\ttotal: 5.06s\tremaining: 11.2s\n",
      "312:\tlearn: 49577.8847249\ttotal: 5.07s\tremaining: 11.1s\n",
      "313:\tlearn: 49575.7938679\ttotal: 5.08s\tremaining: 11.1s\n",
      "314:\tlearn: 49573.6984959\ttotal: 5.1s\tremaining: 11.1s\n",
      "315:\tlearn: 49572.2473519\ttotal: 5.12s\tremaining: 11.1s\n",
      "316:\tlearn: 49571.6729693\ttotal: 5.13s\tremaining: 11.1s\n",
      "317:\tlearn: 49566.5148772\ttotal: 5.15s\tremaining: 11s\n",
      "318:\tlearn: 49561.6747540\ttotal: 5.16s\tremaining: 11s\n",
      "319:\tlearn: 49560.2587273\ttotal: 5.18s\tremaining: 11s\n",
      "320:\tlearn: 49556.1873234\ttotal: 5.2s\tremaining: 11s\n",
      "321:\tlearn: 49553.9117945\ttotal: 5.21s\tremaining: 11s\n",
      "322:\tlearn: 49549.8353472\ttotal: 5.23s\tremaining: 11s\n",
      "323:\tlearn: 49548.8711664\ttotal: 5.24s\tremaining: 10.9s\n",
      "324:\tlearn: 49544.9038383\ttotal: 5.26s\tremaining: 10.9s\n",
      "325:\tlearn: 49539.9654550\ttotal: 5.28s\tremaining: 10.9s\n",
      "326:\tlearn: 49539.7339198\ttotal: 5.29s\tremaining: 10.9s\n",
      "327:\tlearn: 49529.3940079\ttotal: 5.31s\tremaining: 10.9s\n",
      "328:\tlearn: 49527.3997432\ttotal: 5.32s\tremaining: 10.9s\n",
      "329:\tlearn: 49527.1746748\ttotal: 5.34s\tremaining: 10.8s\n",
      "330:\tlearn: 49524.4935232\ttotal: 5.35s\tremaining: 10.8s\n",
      "331:\tlearn: 49524.0864243\ttotal: 5.37s\tremaining: 10.8s\n",
      "332:\tlearn: 49513.5410824\ttotal: 5.38s\tremaining: 10.8s\n",
      "333:\tlearn: 49509.8300422\ttotal: 5.4s\tremaining: 10.8s\n",
      "334:\tlearn: 49508.5241956\ttotal: 5.42s\tremaining: 10.8s\n",
      "335:\tlearn: 49503.1048021\ttotal: 5.43s\tremaining: 10.7s\n",
      "336:\tlearn: 49493.5052056\ttotal: 5.45s\tremaining: 10.7s\n",
      "337:\tlearn: 49492.3201281\ttotal: 5.47s\tremaining: 10.7s\n",
      "338:\tlearn: 49489.3876723\ttotal: 5.48s\tremaining: 10.7s\n",
      "339:\tlearn: 49488.9298891\ttotal: 5.5s\tremaining: 10.7s\n",
      "340:\tlearn: 49488.1746522\ttotal: 5.52s\tremaining: 10.7s\n",
      "341:\tlearn: 49479.5356694\ttotal: 5.53s\tremaining: 10.6s\n",
      "342:\tlearn: 49479.1742711\ttotal: 5.55s\tremaining: 10.6s\n",
      "343:\tlearn: 49477.5408823\ttotal: 5.56s\tremaining: 10.6s\n",
      "344:\tlearn: 49477.1079868\ttotal: 5.58s\tremaining: 10.6s\n",
      "345:\tlearn: 49472.6445939\ttotal: 5.59s\tremaining: 10.6s\n",
      "346:\tlearn: 49469.2513281\ttotal: 5.61s\tremaining: 10.6s\n",
      "347:\tlearn: 49467.0943970\ttotal: 5.63s\tremaining: 10.5s\n",
      "348:\tlearn: 49466.9512710\ttotal: 5.64s\tremaining: 10.5s\n",
      "349:\tlearn: 49466.6154306\ttotal: 5.66s\tremaining: 10.5s\n",
      "350:\tlearn: 49464.8118962\ttotal: 5.67s\tremaining: 10.5s\n",
      "351:\tlearn: 49458.8214330\ttotal: 5.69s\tremaining: 10.5s\n",
      "352:\tlearn: 49448.5362914\ttotal: 5.7s\tremaining: 10.5s\n",
      "353:\tlearn: 49441.1690900\ttotal: 5.72s\tremaining: 10.4s\n",
      "354:\tlearn: 49437.7659634\ttotal: 5.73s\tremaining: 10.4s\n",
      "355:\tlearn: 49435.4213051\ttotal: 5.75s\tremaining: 10.4s\n",
      "356:\tlearn: 49434.7635342\ttotal: 5.77s\tremaining: 10.4s\n",
      "357:\tlearn: 49433.7049997\ttotal: 5.78s\tremaining: 10.4s\n",
      "358:\tlearn: 49431.0888815\ttotal: 5.8s\tremaining: 10.4s\n",
      "359:\tlearn: 49428.9764251\ttotal: 5.82s\tremaining: 10.3s\n",
      "360:\tlearn: 49425.3782108\ttotal: 5.83s\tremaining: 10.3s\n",
      "361:\tlearn: 49423.3677928\ttotal: 5.85s\tremaining: 10.3s\n",
      "362:\tlearn: 49422.4823466\ttotal: 5.87s\tremaining: 10.3s\n",
      "363:\tlearn: 49416.6514408\ttotal: 5.88s\tremaining: 10.3s\n",
      "364:\tlearn: 49416.4120820\ttotal: 5.9s\tremaining: 10.3s\n",
      "365:\tlearn: 49416.1927790\ttotal: 5.91s\tremaining: 10.2s\n",
      "366:\tlearn: 49409.9131007\ttotal: 5.93s\tremaining: 10.2s\n",
      "367:\tlearn: 49406.7356336\ttotal: 5.95s\tremaining: 10.2s\n",
      "368:\tlearn: 49399.2333684\ttotal: 5.96s\tremaining: 10.2s\n",
      "369:\tlearn: 49393.8890277\ttotal: 5.98s\tremaining: 10.2s\n",
      "370:\tlearn: 49392.8989186\ttotal: 5.99s\tremaining: 10.2s\n",
      "371:\tlearn: 49390.4517216\ttotal: 6.01s\tremaining: 10.1s\n",
      "372:\tlearn: 49383.2186836\ttotal: 6.03s\tremaining: 10.1s\n",
      "373:\tlearn: 49382.2475674\ttotal: 6.04s\tremaining: 10.1s\n",
      "374:\tlearn: 49377.0537078\ttotal: 6.05s\tremaining: 10.1s\n",
      "375:\tlearn: 49374.3987295\ttotal: 6.07s\tremaining: 10.1s\n",
      "376:\tlearn: 49369.8947499\ttotal: 6.08s\tremaining: 10.1s\n",
      "377:\tlearn: 49364.8207537\ttotal: 6.1s\tremaining: 10s\n",
      "378:\tlearn: 49359.3158757\ttotal: 6.11s\tremaining: 10s\n",
      "379:\tlearn: 49357.4036384\ttotal: 6.13s\tremaining: 10s\n",
      "380:\tlearn: 49350.4483022\ttotal: 6.14s\tremaining: 9.98s\n",
      "381:\tlearn: 49339.5758060\ttotal: 6.16s\tremaining: 9.97s\n",
      "382:\tlearn: 49339.4617274\ttotal: 6.18s\tremaining: 9.95s\n",
      "383:\tlearn: 49336.0026788\ttotal: 6.19s\tremaining: 9.93s\n",
      "384:\tlearn: 49334.8860591\ttotal: 6.21s\tremaining: 9.92s\n",
      "385:\tlearn: 49331.8584456\ttotal: 6.23s\tremaining: 9.9s\n",
      "386:\tlearn: 49329.4945396\ttotal: 6.24s\tremaining: 9.89s\n",
      "387:\tlearn: 49327.2830976\ttotal: 6.26s\tremaining: 9.87s\n",
      "388:\tlearn: 49321.8007921\ttotal: 6.27s\tremaining: 9.85s\n",
      "389:\tlearn: 49320.9032167\ttotal: 6.29s\tremaining: 9.83s\n",
      "390:\tlearn: 49316.8468605\ttotal: 6.3s\tremaining: 9.82s\n",
      "391:\tlearn: 49316.2413124\ttotal: 6.32s\tremaining: 9.8s\n",
      "392:\tlearn: 49313.7988462\ttotal: 6.33s\tremaining: 9.78s\n",
      "393:\tlearn: 49311.0650862\ttotal: 6.35s\tremaining: 9.76s\n",
      "394:\tlearn: 49310.8329918\ttotal: 6.36s\tremaining: 9.74s\n",
      "395:\tlearn: 49309.5851568\ttotal: 6.38s\tremaining: 9.73s\n",
      "396:\tlearn: 49308.2282012\ttotal: 6.4s\tremaining: 9.72s\n",
      "397:\tlearn: 49304.3234908\ttotal: 6.41s\tremaining: 9.7s\n",
      "398:\tlearn: 49296.7732265\ttotal: 6.43s\tremaining: 9.68s\n",
      "399:\tlearn: 49296.3597398\ttotal: 6.44s\tremaining: 9.66s\n",
      "400:\tlearn: 49292.9123375\ttotal: 6.46s\tremaining: 9.65s\n",
      "401:\tlearn: 49291.7359327\ttotal: 6.47s\tremaining: 9.63s\n",
      "402:\tlearn: 49288.6789538\ttotal: 6.49s\tremaining: 9.61s\n",
      "403:\tlearn: 49288.3010046\ttotal: 6.5s\tremaining: 9.6s\n",
      "404:\tlearn: 49285.7995076\ttotal: 6.52s\tremaining: 9.58s\n",
      "405:\tlearn: 49285.0331443\ttotal: 6.54s\tremaining: 9.56s\n",
      "406:\tlearn: 49284.9542678\ttotal: 6.55s\tremaining: 9.55s\n",
      "407:\tlearn: 49284.7250166\ttotal: 6.57s\tremaining: 9.53s\n",
      "408:\tlearn: 49281.0516648\ttotal: 6.58s\tremaining: 9.51s\n",
      "409:\tlearn: 49276.4766001\ttotal: 6.6s\tremaining: 9.49s\n",
      "410:\tlearn: 49276.1296021\ttotal: 6.61s\tremaining: 9.48s\n",
      "411:\tlearn: 49270.3795331\ttotal: 6.63s\tremaining: 9.46s\n",
      "412:\tlearn: 49265.4649272\ttotal: 6.65s\tremaining: 9.45s\n",
      "413:\tlearn: 49263.9713402\ttotal: 6.66s\tremaining: 9.43s\n",
      "414:\tlearn: 49262.2420680\ttotal: 6.68s\tremaining: 9.41s\n",
      "415:\tlearn: 49259.5443466\ttotal: 6.69s\tremaining: 9.4s\n",
      "416:\tlearn: 49259.1854690\ttotal: 6.71s\tremaining: 9.38s\n",
      "417:\tlearn: 49253.5430445\ttotal: 6.72s\tremaining: 9.36s\n",
      "418:\tlearn: 49251.7965621\ttotal: 6.75s\tremaining: 9.36s\n",
      "419:\tlearn: 49249.1302085\ttotal: 6.76s\tremaining: 9.34s\n",
      "420:\tlearn: 49248.0797603\ttotal: 6.78s\tremaining: 9.32s\n",
      "421:\tlearn: 49247.5263710\ttotal: 6.79s\tremaining: 9.3s\n",
      "422:\tlearn: 49242.5524618\ttotal: 6.81s\tremaining: 9.29s\n",
      "423:\tlearn: 49239.5113475\ttotal: 6.82s\tremaining: 9.27s\n",
      "424:\tlearn: 49239.2605075\ttotal: 6.84s\tremaining: 9.25s\n",
      "425:\tlearn: 49239.1801835\ttotal: 6.85s\tremaining: 9.23s\n",
      "426:\tlearn: 49232.1549046\ttotal: 6.87s\tremaining: 9.22s\n",
      "427:\tlearn: 49232.0089075\ttotal: 6.89s\tremaining: 9.2s\n",
      "428:\tlearn: 49229.6837849\ttotal: 6.91s\tremaining: 9.19s\n",
      "429:\tlearn: 49228.1624161\ttotal: 6.92s\tremaining: 9.18s\n",
      "430:\tlearn: 49221.4327455\ttotal: 6.94s\tremaining: 9.16s\n",
      "431:\tlearn: 49214.8811171\ttotal: 6.96s\tremaining: 9.15s\n",
      "432:\tlearn: 49209.2155714\ttotal: 6.97s\tremaining: 9.13s\n",
      "433:\tlearn: 49202.2725652\ttotal: 6.99s\tremaining: 9.11s\n",
      "434:\tlearn: 49200.7439298\ttotal: 7s\tremaining: 9.1s\n",
      "435:\tlearn: 49198.4695854\ttotal: 7.02s\tremaining: 9.08s\n",
      "436:\tlearn: 49195.3576161\ttotal: 7.04s\tremaining: 9.06s\n",
      "437:\tlearn: 49195.1857857\ttotal: 7.05s\tremaining: 9.05s\n",
      "438:\tlearn: 49192.9868631\ttotal: 7.07s\tremaining: 9.03s\n",
      "439:\tlearn: 49192.4183675\ttotal: 7.08s\tremaining: 9.01s\n",
      "440:\tlearn: 49192.0856826\ttotal: 7.1s\tremaining: 9s\n",
      "441:\tlearn: 49185.8824186\ttotal: 7.12s\tremaining: 8.98s\n",
      "442:\tlearn: 49184.9654651\ttotal: 7.13s\tremaining: 8.97s\n",
      "443:\tlearn: 49184.8936614\ttotal: 7.15s\tremaining: 8.96s\n",
      "444:\tlearn: 49181.1849479\ttotal: 7.17s\tremaining: 8.94s\n",
      "445:\tlearn: 49180.1284232\ttotal: 7.18s\tremaining: 8.92s\n",
      "446:\tlearn: 49178.2701845\ttotal: 7.2s\tremaining: 8.91s\n",
      "447:\tlearn: 49176.1224352\ttotal: 7.21s\tremaining: 8.89s\n",
      "448:\tlearn: 49171.9426705\ttotal: 7.23s\tremaining: 8.87s\n",
      "449:\tlearn: 49166.0846596\ttotal: 7.25s\tremaining: 8.86s\n",
      "450:\tlearn: 49159.3022271\ttotal: 7.26s\tremaining: 8.84s\n",
      "451:\tlearn: 49156.8436831\ttotal: 7.28s\tremaining: 8.82s\n",
      "452:\tlearn: 49155.3161635\ttotal: 7.3s\tremaining: 8.81s\n",
      "453:\tlearn: 49155.2102102\ttotal: 7.32s\tremaining: 8.8s\n",
      "454:\tlearn: 49153.8011572\ttotal: 7.33s\tremaining: 8.78s\n",
      "455:\tlearn: 49150.5660306\ttotal: 7.34s\tremaining: 8.76s\n",
      "456:\tlearn: 49146.7070853\ttotal: 7.36s\tremaining: 8.74s\n",
      "457:\tlearn: 49142.6124796\ttotal: 7.37s\tremaining: 8.73s\n",
      "458:\tlearn: 49140.2897651\ttotal: 7.39s\tremaining: 8.71s\n",
      "459:\tlearn: 49137.6341301\ttotal: 7.41s\tremaining: 8.7s\n",
      "460:\tlearn: 49134.7795654\ttotal: 7.43s\tremaining: 8.68s\n",
      "461:\tlearn: 49128.9743956\ttotal: 7.44s\tremaining: 8.67s\n",
      "462:\tlearn: 49128.9583655\ttotal: 7.46s\tremaining: 8.65s\n",
      "463:\tlearn: 49127.2003260\ttotal: 7.47s\tremaining: 8.63s\n",
      "464:\tlearn: 49123.5981068\ttotal: 7.49s\tremaining: 8.62s\n",
      "465:\tlearn: 49122.8540577\ttotal: 7.51s\tremaining: 8.6s\n",
      "466:\tlearn: 49113.6486844\ttotal: 7.52s\tremaining: 8.59s\n",
      "467:\tlearn: 49111.1809828\ttotal: 7.54s\tremaining: 8.57s\n",
      "468:\tlearn: 49108.2077278\ttotal: 7.55s\tremaining: 8.55s\n",
      "469:\tlearn: 49104.1735403\ttotal: 7.57s\tremaining: 8.54s\n",
      "470:\tlearn: 49104.0218264\ttotal: 7.58s\tremaining: 8.52s\n",
      "471:\tlearn: 49100.7872764\ttotal: 7.6s\tremaining: 8.5s\n",
      "472:\tlearn: 49098.4223808\ttotal: 7.62s\tremaining: 8.48s\n",
      "473:\tlearn: 49097.6640489\ttotal: 7.63s\tremaining: 8.47s\n",
      "474:\tlearn: 49095.9298354\ttotal: 7.65s\tremaining: 8.45s\n",
      "475:\tlearn: 49095.7854331\ttotal: 7.66s\tremaining: 8.43s\n",
      "476:\tlearn: 49091.5245150\ttotal: 7.68s\tremaining: 8.42s\n",
      "477:\tlearn: 49090.1286371\ttotal: 7.69s\tremaining: 8.4s\n",
      "478:\tlearn: 49088.7518051\ttotal: 7.71s\tremaining: 8.38s\n",
      "479:\tlearn: 49087.4276445\ttotal: 7.72s\tremaining: 8.37s\n",
      "480:\tlearn: 49080.7682187\ttotal: 7.74s\tremaining: 8.35s\n",
      "481:\tlearn: 49078.4823663\ttotal: 7.76s\tremaining: 8.34s\n",
      "482:\tlearn: 49073.4519522\ttotal: 7.77s\tremaining: 8.32s\n",
      "483:\tlearn: 49069.4835060\ttotal: 7.79s\tremaining: 8.3s\n",
      "484:\tlearn: 49066.1554692\ttotal: 7.8s\tremaining: 8.29s\n",
      "485:\tlearn: 49065.1088411\ttotal: 7.82s\tremaining: 8.27s\n",
      "486:\tlearn: 49062.4447485\ttotal: 7.83s\tremaining: 8.25s\n",
      "487:\tlearn: 49060.7410126\ttotal: 7.85s\tremaining: 8.24s\n",
      "488:\tlearn: 49060.6788467\ttotal: 7.87s\tremaining: 8.22s\n",
      "489:\tlearn: 49060.4389770\ttotal: 7.88s\tremaining: 8.2s\n",
      "490:\tlearn: 49058.4410511\ttotal: 7.9s\tremaining: 8.19s\n",
      "491:\tlearn: 49058.2159246\ttotal: 7.92s\tremaining: 8.17s\n",
      "492:\tlearn: 49053.5324740\ttotal: 7.93s\tremaining: 8.16s\n",
      "493:\tlearn: 49051.2580883\ttotal: 7.95s\tremaining: 8.15s\n",
      "494:\tlearn: 49049.4829990\ttotal: 7.97s\tremaining: 8.13s\n",
      "495:\tlearn: 49048.8158226\ttotal: 7.99s\tremaining: 8.12s\n",
      "496:\tlearn: 49044.2145469\ttotal: 8s\tremaining: 8.1s\n",
      "497:\tlearn: 49040.7368956\ttotal: 8.02s\tremaining: 8.08s\n",
      "498:\tlearn: 49034.6020649\ttotal: 8.03s\tremaining: 8.07s\n",
      "499:\tlearn: 49027.4660047\ttotal: 8.05s\tremaining: 8.05s\n",
      "500:\tlearn: 49022.0721722\ttotal: 8.06s\tremaining: 8.03s\n",
      "501:\tlearn: 49016.6995923\ttotal: 8.08s\tremaining: 8.02s\n",
      "502:\tlearn: 49005.9124698\ttotal: 8.09s\tremaining: 8s\n",
      "503:\tlearn: 49004.8737981\ttotal: 8.11s\tremaining: 7.98s\n",
      "504:\tlearn: 49004.7903621\ttotal: 8.12s\tremaining: 7.96s\n",
      "505:\tlearn: 49004.6161980\ttotal: 8.14s\tremaining: 7.95s\n",
      "506:\tlearn: 49001.8998592\ttotal: 8.16s\tremaining: 7.93s\n",
      "507:\tlearn: 49001.6356749\ttotal: 8.17s\tremaining: 7.92s\n",
      "508:\tlearn: 49001.5257318\ttotal: 8.19s\tremaining: 7.9s\n",
      "509:\tlearn: 48999.9919994\ttotal: 8.21s\tremaining: 7.88s\n",
      "510:\tlearn: 48995.4701429\ttotal: 8.22s\tremaining: 7.87s\n",
      "511:\tlearn: 48989.2840326\ttotal: 8.24s\tremaining: 7.85s\n",
      "512:\tlearn: 48988.7987577\ttotal: 8.26s\tremaining: 7.84s\n",
      "513:\tlearn: 48985.2003911\ttotal: 8.27s\tremaining: 7.82s\n",
      "514:\tlearn: 48982.4392388\ttotal: 8.29s\tremaining: 7.8s\n",
      "515:\tlearn: 48982.1897346\ttotal: 8.3s\tremaining: 7.79s\n",
      "516:\tlearn: 48982.1771376\ttotal: 8.32s\tremaining: 7.77s\n",
      "517:\tlearn: 48976.4144747\ttotal: 8.33s\tremaining: 7.75s\n",
      "518:\tlearn: 48975.2321843\ttotal: 8.35s\tremaining: 7.74s\n",
      "519:\tlearn: 48970.6521601\ttotal: 8.37s\tremaining: 7.72s\n",
      "520:\tlearn: 48970.4494729\ttotal: 8.38s\tremaining: 7.71s\n",
      "521:\tlearn: 48966.9403386\ttotal: 8.4s\tremaining: 7.69s\n",
      "522:\tlearn: 48965.7846222\ttotal: 8.42s\tremaining: 7.68s\n",
      "523:\tlearn: 48963.9540538\ttotal: 8.44s\tremaining: 7.66s\n",
      "524:\tlearn: 48961.1904802\ttotal: 8.45s\tremaining: 7.64s\n",
      "525:\tlearn: 48957.4747946\ttotal: 8.46s\tremaining: 7.63s\n",
      "526:\tlearn: 48957.3395639\ttotal: 8.48s\tremaining: 7.61s\n",
      "527:\tlearn: 48956.8757317\ttotal: 8.5s\tremaining: 7.6s\n",
      "528:\tlearn: 48953.1663463\ttotal: 8.51s\tremaining: 7.58s\n",
      "529:\tlearn: 48953.0037431\ttotal: 8.53s\tremaining: 7.56s\n",
      "530:\tlearn: 48952.6892414\ttotal: 8.54s\tremaining: 7.55s\n",
      "531:\tlearn: 48952.4819933\ttotal: 8.56s\tremaining: 7.53s\n",
      "532:\tlearn: 48951.5449072\ttotal: 8.58s\tremaining: 7.51s\n",
      "533:\tlearn: 48948.0996295\ttotal: 8.59s\tremaining: 7.5s\n",
      "534:\tlearn: 48944.9171555\ttotal: 8.61s\tremaining: 7.48s\n",
      "535:\tlearn: 48944.2462379\ttotal: 8.62s\tremaining: 7.46s\n",
      "536:\tlearn: 48942.8329615\ttotal: 8.64s\tremaining: 7.45s\n",
      "537:\tlearn: 48942.6287286\ttotal: 8.65s\tremaining: 7.43s\n",
      "538:\tlearn: 48936.1911221\ttotal: 8.67s\tremaining: 7.41s\n",
      "539:\tlearn: 48933.6265365\ttotal: 8.68s\tremaining: 7.4s\n",
      "540:\tlearn: 48930.0820996\ttotal: 8.7s\tremaining: 7.38s\n",
      "541:\tlearn: 48921.9899014\ttotal: 8.72s\tremaining: 7.37s\n",
      "542:\tlearn: 48916.0032730\ttotal: 8.73s\tremaining: 7.35s\n",
      "543:\tlearn: 48915.1674970\ttotal: 8.75s\tremaining: 7.33s\n",
      "544:\tlearn: 48912.2020482\ttotal: 8.76s\tremaining: 7.32s\n",
      "545:\tlearn: 48908.1533383\ttotal: 8.78s\tremaining: 7.3s\n",
      "546:\tlearn: 48905.5254009\ttotal: 8.8s\tremaining: 7.29s\n",
      "547:\tlearn: 48904.6707906\ttotal: 8.82s\tremaining: 7.27s\n",
      "548:\tlearn: 48904.2924061\ttotal: 8.83s\tremaining: 7.25s\n",
      "549:\tlearn: 48892.8209908\ttotal: 8.85s\tremaining: 7.24s\n",
      "550:\tlearn: 48892.2559114\ttotal: 8.87s\tremaining: 7.23s\n",
      "551:\tlearn: 48891.8502797\ttotal: 8.88s\tremaining: 7.21s\n",
      "552:\tlearn: 48885.4900361\ttotal: 8.9s\tremaining: 7.2s\n",
      "553:\tlearn: 48884.9510588\ttotal: 8.92s\tremaining: 7.18s\n",
      "554:\tlearn: 48882.9554720\ttotal: 8.93s\tremaining: 7.16s\n",
      "555:\tlearn: 48879.1303038\ttotal: 8.95s\tremaining: 7.15s\n",
      "556:\tlearn: 48875.6948082\ttotal: 8.96s\tremaining: 7.13s\n",
      "557:\tlearn: 48873.7979875\ttotal: 8.98s\tremaining: 7.11s\n",
      "558:\tlearn: 48870.5285608\ttotal: 9s\tremaining: 7.1s\n",
      "559:\tlearn: 48867.0833093\ttotal: 9.01s\tremaining: 7.08s\n",
      "560:\tlearn: 48862.2054089\ttotal: 9.03s\tremaining: 7.07s\n",
      "561:\tlearn: 48859.1997820\ttotal: 9.05s\tremaining: 7.05s\n",
      "562:\tlearn: 48856.4235097\ttotal: 9.06s\tremaining: 7.03s\n",
      "563:\tlearn: 48852.2237895\ttotal: 9.07s\tremaining: 7.01s\n",
      "564:\tlearn: 48850.8064628\ttotal: 9.09s\tremaining: 7s\n",
      "565:\tlearn: 48844.1774722\ttotal: 9.1s\tremaining: 6.98s\n",
      "566:\tlearn: 48842.0681154\ttotal: 9.12s\tremaining: 6.96s\n",
      "567:\tlearn: 48841.9216980\ttotal: 9.13s\tremaining: 6.95s\n",
      "568:\tlearn: 48838.1538312\ttotal: 9.15s\tremaining: 6.93s\n",
      "569:\tlearn: 48834.9501426\ttotal: 9.17s\tremaining: 6.92s\n",
      "570:\tlearn: 48834.0023042\ttotal: 9.18s\tremaining: 6.9s\n",
      "571:\tlearn: 48832.1816025\ttotal: 9.2s\tremaining: 6.88s\n",
      "572:\tlearn: 48827.5386780\ttotal: 9.21s\tremaining: 6.87s\n",
      "573:\tlearn: 48827.2949942\ttotal: 9.23s\tremaining: 6.85s\n",
      "574:\tlearn: 48825.0720505\ttotal: 9.24s\tremaining: 6.83s\n",
      "575:\tlearn: 48824.2231390\ttotal: 9.26s\tremaining: 6.82s\n",
      "576:\tlearn: 48822.7036595\ttotal: 9.28s\tremaining: 6.8s\n",
      "577:\tlearn: 48820.0283115\ttotal: 9.29s\tremaining: 6.78s\n",
      "578:\tlearn: 48817.4605743\ttotal: 9.31s\tremaining: 6.77s\n",
      "579:\tlearn: 48815.1734878\ttotal: 9.32s\tremaining: 6.75s\n",
      "580:\tlearn: 48814.3215838\ttotal: 9.34s\tremaining: 6.73s\n",
      "581:\tlearn: 48812.9671500\ttotal: 9.35s\tremaining: 6.72s\n",
      "582:\tlearn: 48805.9531394\ttotal: 9.37s\tremaining: 6.7s\n",
      "583:\tlearn: 48802.2822211\ttotal: 9.39s\tremaining: 6.69s\n",
      "584:\tlearn: 48801.6775887\ttotal: 9.4s\tremaining: 6.67s\n",
      "585:\tlearn: 48798.0339325\ttotal: 9.42s\tremaining: 6.65s\n",
      "586:\tlearn: 48797.6354597\ttotal: 9.43s\tremaining: 6.64s\n",
      "587:\tlearn: 48793.8427656\ttotal: 9.45s\tremaining: 6.62s\n",
      "588:\tlearn: 48789.9619102\ttotal: 9.47s\tremaining: 6.61s\n",
      "589:\tlearn: 48786.9666823\ttotal: 9.48s\tremaining: 6.59s\n",
      "590:\tlearn: 48784.1361042\ttotal: 9.5s\tremaining: 6.58s\n",
      "591:\tlearn: 48779.5844687\ttotal: 9.52s\tremaining: 6.56s\n",
      "592:\tlearn: 48776.1121772\ttotal: 9.53s\tremaining: 6.54s\n",
      "593:\tlearn: 48772.2764280\ttotal: 9.55s\tremaining: 6.53s\n",
      "594:\tlearn: 48767.6875160\ttotal: 9.56s\tremaining: 6.51s\n",
      "595:\tlearn: 48765.5084992\ttotal: 9.58s\tremaining: 6.49s\n",
      "596:\tlearn: 48762.7387889\ttotal: 9.59s\tremaining: 6.48s\n",
      "597:\tlearn: 48761.3370011\ttotal: 9.61s\tremaining: 6.46s\n",
      "598:\tlearn: 48758.1262556\ttotal: 9.63s\tremaining: 6.44s\n",
      "599:\tlearn: 48757.4328700\ttotal: 9.64s\tremaining: 6.43s\n",
      "600:\tlearn: 48754.3866931\ttotal: 9.66s\tremaining: 6.41s\n",
      "601:\tlearn: 48751.5799808\ttotal: 9.67s\tremaining: 6.39s\n",
      "602:\tlearn: 48749.2221920\ttotal: 9.69s\tremaining: 6.38s\n",
      "603:\tlearn: 48748.7999864\ttotal: 9.7s\tremaining: 6.36s\n",
      "604:\tlearn: 48744.6983616\ttotal: 9.72s\tremaining: 6.35s\n",
      "605:\tlearn: 48741.6967992\ttotal: 9.74s\tremaining: 6.33s\n",
      "606:\tlearn: 48739.9118571\ttotal: 9.76s\tremaining: 6.32s\n",
      "607:\tlearn: 48735.5749843\ttotal: 9.78s\tremaining: 6.3s\n",
      "608:\tlearn: 48733.7310543\ttotal: 9.79s\tremaining: 6.29s\n",
      "609:\tlearn: 48732.9930474\ttotal: 9.81s\tremaining: 6.27s\n",
      "610:\tlearn: 48732.8898715\ttotal: 9.83s\tremaining: 6.26s\n",
      "611:\tlearn: 48728.7261961\ttotal: 9.84s\tremaining: 6.24s\n",
      "612:\tlearn: 48728.5741413\ttotal: 9.86s\tremaining: 6.22s\n",
      "613:\tlearn: 48714.1219111\ttotal: 9.88s\tremaining: 6.21s\n",
      "614:\tlearn: 48712.3425102\ttotal: 9.9s\tremaining: 6.2s\n",
      "615:\tlearn: 48710.6600329\ttotal: 9.92s\tremaining: 6.18s\n",
      "616:\tlearn: 48703.8543815\ttotal: 9.94s\tremaining: 6.17s\n",
      "617:\tlearn: 48699.0904641\ttotal: 9.96s\tremaining: 6.16s\n",
      "618:\tlearn: 48696.7871058\ttotal: 9.98s\tremaining: 6.14s\n",
      "619:\tlearn: 48692.0273471\ttotal: 9.99s\tremaining: 6.13s\n",
      "620:\tlearn: 48691.8949048\ttotal: 10s\tremaining: 6.11s\n",
      "621:\tlearn: 48690.8529982\ttotal: 10s\tremaining: 6.09s\n",
      "622:\tlearn: 48690.8185192\ttotal: 10s\tremaining: 6.08s\n",
      "623:\tlearn: 48689.0897932\ttotal: 10.1s\tremaining: 6.06s\n",
      "624:\tlearn: 48687.8572580\ttotal: 10.1s\tremaining: 6.05s\n",
      "625:\tlearn: 48685.8283061\ttotal: 10.1s\tremaining: 6.03s\n",
      "626:\tlearn: 48682.7844645\ttotal: 10.1s\tremaining: 6.02s\n",
      "627:\tlearn: 48682.0769818\ttotal: 10.1s\tremaining: 6s\n",
      "628:\tlearn: 48679.2635519\ttotal: 10.2s\tremaining: 5.99s\n",
      "629:\tlearn: 48674.1409720\ttotal: 10.2s\tremaining: 5.98s\n",
      "630:\tlearn: 48671.1240365\ttotal: 10.2s\tremaining: 5.96s\n",
      "631:\tlearn: 48669.6617472\ttotal: 10.2s\tremaining: 5.95s\n",
      "632:\tlearn: 48669.6081507\ttotal: 10.2s\tremaining: 5.93s\n",
      "633:\tlearn: 48669.5050096\ttotal: 10.2s\tremaining: 5.91s\n",
      "634:\tlearn: 48660.7496483\ttotal: 10.3s\tremaining: 5.89s\n",
      "635:\tlearn: 48658.5257446\ttotal: 10.3s\tremaining: 5.88s\n",
      "636:\tlearn: 48653.0517170\ttotal: 10.3s\tremaining: 5.87s\n",
      "637:\tlearn: 48651.8331093\ttotal: 10.3s\tremaining: 5.85s\n",
      "638:\tlearn: 48647.3921272\ttotal: 10.3s\tremaining: 5.83s\n",
      "639:\tlearn: 48646.6749774\ttotal: 10.3s\tremaining: 5.82s\n",
      "640:\tlearn: 48644.7931088\ttotal: 10.4s\tremaining: 5.8s\n",
      "641:\tlearn: 48641.4640456\ttotal: 10.4s\tremaining: 5.79s\n",
      "642:\tlearn: 48639.3237774\ttotal: 10.4s\tremaining: 5.78s\n",
      "643:\tlearn: 48635.6114328\ttotal: 10.4s\tremaining: 5.76s\n",
      "644:\tlearn: 48634.1559301\ttotal: 10.4s\tremaining: 5.75s\n",
      "645:\tlearn: 48632.0800050\ttotal: 10.5s\tremaining: 5.74s\n",
      "646:\tlearn: 48629.8084352\ttotal: 10.5s\tremaining: 5.72s\n",
      "647:\tlearn: 48627.6618854\ttotal: 10.5s\tremaining: 5.72s\n",
      "648:\tlearn: 48626.3001333\ttotal: 10.6s\tremaining: 5.71s\n",
      "649:\tlearn: 48623.1642418\ttotal: 10.6s\tremaining: 5.7s\n",
      "650:\tlearn: 48623.0459159\ttotal: 10.6s\tremaining: 5.69s\n",
      "651:\tlearn: 48621.5201491\ttotal: 10.6s\tremaining: 5.67s\n",
      "652:\tlearn: 48618.9917905\ttotal: 10.7s\tremaining: 5.67s\n",
      "653:\tlearn: 48618.5452876\ttotal: 10.7s\tremaining: 5.66s\n",
      "654:\tlearn: 48616.0356711\ttotal: 10.7s\tremaining: 5.64s\n",
      "655:\tlearn: 48614.6961624\ttotal: 10.7s\tremaining: 5.63s\n",
      "656:\tlearn: 48613.7566420\ttotal: 10.8s\tremaining: 5.62s\n",
      "657:\tlearn: 48613.1529072\ttotal: 10.8s\tremaining: 5.6s\n",
      "658:\tlearn: 48611.9993669\ttotal: 10.8s\tremaining: 5.58s\n",
      "659:\tlearn: 48610.3520096\ttotal: 10.8s\tremaining: 5.58s\n",
      "660:\tlearn: 48609.2626519\ttotal: 10.8s\tremaining: 5.56s\n",
      "661:\tlearn: 48607.3543960\ttotal: 10.9s\tremaining: 5.55s\n",
      "662:\tlearn: 48605.6642444\ttotal: 10.9s\tremaining: 5.53s\n",
      "663:\tlearn: 48601.9000154\ttotal: 10.9s\tremaining: 5.52s\n",
      "664:\tlearn: 48599.0642248\ttotal: 10.9s\tremaining: 5.5s\n",
      "665:\tlearn: 48597.5949884\ttotal: 10.9s\tremaining: 5.49s\n",
      "666:\tlearn: 48596.4508458\ttotal: 11s\tremaining: 5.47s\n",
      "667:\tlearn: 48592.0129451\ttotal: 11s\tremaining: 5.46s\n",
      "668:\tlearn: 48587.1616244\ttotal: 11s\tremaining: 5.44s\n",
      "669:\tlearn: 48585.8674650\ttotal: 11s\tremaining: 5.42s\n",
      "670:\tlearn: 48582.9646510\ttotal: 11s\tremaining: 5.41s\n",
      "671:\tlearn: 48581.1796559\ttotal: 11s\tremaining: 5.39s\n",
      "672:\tlearn: 48577.1301354\ttotal: 11.1s\tremaining: 5.38s\n",
      "673:\tlearn: 48567.3588407\ttotal: 11.1s\tremaining: 5.36s\n",
      "674:\tlearn: 48565.5825985\ttotal: 11.1s\tremaining: 5.34s\n",
      "675:\tlearn: 48561.7950816\ttotal: 11.1s\tremaining: 5.33s\n",
      "676:\tlearn: 48560.5545557\ttotal: 11.1s\tremaining: 5.31s\n",
      "677:\tlearn: 48558.2573762\ttotal: 11.2s\tremaining: 5.3s\n",
      "678:\tlearn: 48556.0974516\ttotal: 11.2s\tremaining: 5.28s\n",
      "679:\tlearn: 48556.0575313\ttotal: 11.2s\tremaining: 5.26s\n",
      "680:\tlearn: 48554.5534837\ttotal: 11.2s\tremaining: 5.25s\n",
      "681:\tlearn: 48552.2495751\ttotal: 11.2s\tremaining: 5.23s\n",
      "682:\tlearn: 48551.6815807\ttotal: 11.2s\tremaining: 5.21s\n",
      "683:\tlearn: 48548.6912978\ttotal: 11.2s\tremaining: 5.2s\n",
      "684:\tlearn: 48548.2966176\ttotal: 11.3s\tremaining: 5.18s\n",
      "685:\tlearn: 48545.9562151\ttotal: 11.3s\tremaining: 5.16s\n",
      "686:\tlearn: 48537.1710708\ttotal: 11.3s\tremaining: 5.15s\n",
      "687:\tlearn: 48534.3856956\ttotal: 11.3s\tremaining: 5.13s\n",
      "688:\tlearn: 48527.3985397\ttotal: 11.3s\tremaining: 5.11s\n",
      "689:\tlearn: 48525.8897000\ttotal: 11.3s\tremaining: 5.1s\n",
      "690:\tlearn: 48521.6326779\ttotal: 11.4s\tremaining: 5.08s\n",
      "691:\tlearn: 48521.5838592\ttotal: 11.4s\tremaining: 5.07s\n",
      "692:\tlearn: 48521.2975894\ttotal: 11.4s\tremaining: 5.05s\n",
      "693:\tlearn: 48515.3120459\ttotal: 11.4s\tremaining: 5.04s\n",
      "694:\tlearn: 48513.3542277\ttotal: 11.4s\tremaining: 5.02s\n",
      "695:\tlearn: 48509.9908550\ttotal: 11.5s\tremaining: 5s\n",
      "696:\tlearn: 48509.3806896\ttotal: 11.5s\tremaining: 4.99s\n",
      "697:\tlearn: 48506.3677106\ttotal: 11.5s\tremaining: 4.97s\n",
      "698:\tlearn: 48502.3169988\ttotal: 11.5s\tremaining: 4.95s\n",
      "699:\tlearn: 48497.4294671\ttotal: 11.5s\tremaining: 4.93s\n",
      "700:\tlearn: 48496.9738053\ttotal: 11.5s\tremaining: 4.92s\n",
      "701:\tlearn: 48492.2766910\ttotal: 11.5s\tremaining: 4.9s\n",
      "702:\tlearn: 48490.7335579\ttotal: 11.6s\tremaining: 4.89s\n",
      "703:\tlearn: 48488.2523114\ttotal: 11.6s\tremaining: 4.87s\n",
      "704:\tlearn: 48485.3250940\ttotal: 11.6s\tremaining: 4.85s\n",
      "705:\tlearn: 48484.1461494\ttotal: 11.6s\tremaining: 4.84s\n",
      "706:\tlearn: 48481.7936887\ttotal: 11.6s\tremaining: 4.82s\n",
      "707:\tlearn: 48481.4723215\ttotal: 11.6s\tremaining: 4.8s\n",
      "708:\tlearn: 48481.4542630\ttotal: 11.7s\tremaining: 4.79s\n",
      "709:\tlearn: 48478.9345307\ttotal: 11.7s\tremaining: 4.77s\n",
      "710:\tlearn: 48477.3763548\ttotal: 11.7s\tremaining: 4.75s\n",
      "711:\tlearn: 48475.7163074\ttotal: 11.7s\tremaining: 4.74s\n",
      "712:\tlearn: 48474.1016921\ttotal: 11.7s\tremaining: 4.72s\n",
      "713:\tlearn: 48470.3551639\ttotal: 11.7s\tremaining: 4.71s\n",
      "714:\tlearn: 48469.9010128\ttotal: 11.8s\tremaining: 4.69s\n",
      "715:\tlearn: 48468.2844354\ttotal: 11.8s\tremaining: 4.67s\n",
      "716:\tlearn: 48463.6374103\ttotal: 11.8s\tremaining: 4.66s\n",
      "717:\tlearn: 48460.9184140\ttotal: 11.8s\tremaining: 4.64s\n",
      "718:\tlearn: 48457.9963196\ttotal: 11.8s\tremaining: 4.62s\n",
      "719:\tlearn: 48453.0309703\ttotal: 11.8s\tremaining: 4.61s\n",
      "720:\tlearn: 48448.4063122\ttotal: 11.9s\tremaining: 4.59s\n",
      "721:\tlearn: 48445.2795466\ttotal: 11.9s\tremaining: 4.57s\n",
      "722:\tlearn: 48441.7279160\ttotal: 11.9s\tremaining: 4.56s\n",
      "723:\tlearn: 48437.5816476\ttotal: 11.9s\tremaining: 4.54s\n",
      "724:\tlearn: 48435.8498663\ttotal: 11.9s\tremaining: 4.53s\n",
      "725:\tlearn: 48433.9677948\ttotal: 11.9s\tremaining: 4.51s\n",
      "726:\tlearn: 48429.7893923\ttotal: 12s\tremaining: 4.49s\n",
      "727:\tlearn: 48426.1098184\ttotal: 12s\tremaining: 4.47s\n",
      "728:\tlearn: 48422.1528852\ttotal: 12s\tremaining: 4.46s\n",
      "729:\tlearn: 48420.3727238\ttotal: 12s\tremaining: 4.44s\n",
      "730:\tlearn: 48417.5856238\ttotal: 12s\tremaining: 4.42s\n",
      "731:\tlearn: 48415.5832615\ttotal: 12s\tremaining: 4.41s\n",
      "732:\tlearn: 48413.7876682\ttotal: 12.1s\tremaining: 4.39s\n",
      "733:\tlearn: 48413.5569638\ttotal: 12.1s\tremaining: 4.38s\n",
      "734:\tlearn: 48413.5195792\ttotal: 12.1s\tremaining: 4.36s\n",
      "735:\tlearn: 48412.1581764\ttotal: 12.1s\tremaining: 4.34s\n",
      "736:\tlearn: 48409.4435913\ttotal: 12.1s\tremaining: 4.33s\n",
      "737:\tlearn: 48407.9185799\ttotal: 12.1s\tremaining: 4.31s\n",
      "738:\tlearn: 48403.1683794\ttotal: 12.2s\tremaining: 4.29s\n",
      "739:\tlearn: 48403.0354028\ttotal: 12.2s\tremaining: 4.28s\n",
      "740:\tlearn: 48401.8760317\ttotal: 12.2s\tremaining: 4.26s\n",
      "741:\tlearn: 48395.9800295\ttotal: 12.2s\tremaining: 4.25s\n",
      "742:\tlearn: 48393.3899825\ttotal: 12.2s\tremaining: 4.23s\n",
      "743:\tlearn: 48391.2862801\ttotal: 12.2s\tremaining: 4.21s\n",
      "744:\tlearn: 48390.5424991\ttotal: 12.3s\tremaining: 4.2s\n",
      "745:\tlearn: 48388.4856595\ttotal: 12.3s\tremaining: 4.18s\n",
      "746:\tlearn: 48387.0098896\ttotal: 12.3s\tremaining: 4.16s\n",
      "747:\tlearn: 48385.0020541\ttotal: 12.3s\tremaining: 4.15s\n",
      "748:\tlearn: 48383.5309143\ttotal: 12.3s\tremaining: 4.13s\n",
      "749:\tlearn: 48381.8733270\ttotal: 12.3s\tremaining: 4.12s\n",
      "750:\tlearn: 48376.3173184\ttotal: 12.4s\tremaining: 4.1s\n",
      "751:\tlearn: 48372.6184075\ttotal: 12.4s\tremaining: 4.09s\n",
      "752:\tlearn: 48369.7855111\ttotal: 12.4s\tremaining: 4.07s\n",
      "753:\tlearn: 48367.8160598\ttotal: 12.4s\tremaining: 4.06s\n",
      "754:\tlearn: 48363.0706971\ttotal: 12.5s\tremaining: 4.04s\n",
      "755:\tlearn: 48357.4707895\ttotal: 12.5s\tremaining: 4.03s\n",
      "756:\tlearn: 48357.1364668\ttotal: 12.5s\tremaining: 4.01s\n",
      "757:\tlearn: 48355.1848345\ttotal: 12.5s\tremaining: 3.99s\n",
      "758:\tlearn: 48352.9552428\ttotal: 12.5s\tremaining: 3.98s\n",
      "759:\tlearn: 48350.9852054\ttotal: 12.5s\tremaining: 3.96s\n",
      "760:\tlearn: 48347.4329068\ttotal: 12.6s\tremaining: 3.94s\n",
      "761:\tlearn: 48346.6953186\ttotal: 12.6s\tremaining: 3.93s\n",
      "762:\tlearn: 48345.2405354\ttotal: 12.6s\tremaining: 3.91s\n",
      "763:\tlearn: 48343.3859127\ttotal: 12.6s\tremaining: 3.89s\n",
      "764:\tlearn: 48343.3107201\ttotal: 12.6s\tremaining: 3.88s\n",
      "765:\tlearn: 48340.6600379\ttotal: 12.6s\tremaining: 3.86s\n",
      "766:\tlearn: 48336.1516259\ttotal: 12.7s\tremaining: 3.84s\n",
      "767:\tlearn: 48334.7416995\ttotal: 12.7s\tremaining: 3.83s\n",
      "768:\tlearn: 48333.9229506\ttotal: 12.7s\tremaining: 3.81s\n",
      "769:\tlearn: 48332.0193619\ttotal: 12.7s\tremaining: 3.79s\n",
      "770:\tlearn: 48330.8238185\ttotal: 12.7s\tremaining: 3.78s\n",
      "771:\tlearn: 48326.8418601\ttotal: 12.7s\tremaining: 3.76s\n",
      "772:\tlearn: 48323.1729753\ttotal: 12.8s\tremaining: 3.75s\n",
      "773:\tlearn: 48323.0690876\ttotal: 12.8s\tremaining: 3.73s\n",
      "774:\tlearn: 48322.3870790\ttotal: 12.8s\tremaining: 3.71s\n",
      "775:\tlearn: 48322.2753607\ttotal: 12.8s\tremaining: 3.69s\n",
      "776:\tlearn: 48320.5848726\ttotal: 12.8s\tremaining: 3.68s\n",
      "777:\tlearn: 48319.2565303\ttotal: 12.8s\tremaining: 3.66s\n",
      "778:\tlearn: 48315.8835864\ttotal: 12.9s\tremaining: 3.65s\n",
      "779:\tlearn: 48310.9074196\ttotal: 12.9s\tremaining: 3.63s\n",
      "780:\tlearn: 48307.9174975\ttotal: 12.9s\tremaining: 3.62s\n",
      "781:\tlearn: 48303.8712248\ttotal: 12.9s\tremaining: 3.6s\n",
      "782:\tlearn: 48300.1576602\ttotal: 12.9s\tremaining: 3.58s\n",
      "783:\tlearn: 48299.4652305\ttotal: 12.9s\tremaining: 3.57s\n",
      "784:\tlearn: 48298.9191526\ttotal: 13s\tremaining: 3.55s\n",
      "785:\tlearn: 48294.8095886\ttotal: 13s\tremaining: 3.53s\n",
      "786:\tlearn: 48290.7491680\ttotal: 13s\tremaining: 3.52s\n",
      "787:\tlearn: 48289.2449575\ttotal: 13s\tremaining: 3.5s\n",
      "788:\tlearn: 48285.8677088\ttotal: 13s\tremaining: 3.48s\n",
      "789:\tlearn: 48284.7258605\ttotal: 13.1s\tremaining: 3.47s\n",
      "790:\tlearn: 48284.4316282\ttotal: 13.1s\tremaining: 3.45s\n",
      "791:\tlearn: 48284.0079890\ttotal: 13.1s\tremaining: 3.44s\n",
      "792:\tlearn: 48278.6319211\ttotal: 13.1s\tremaining: 3.42s\n",
      "793:\tlearn: 48278.5168286\ttotal: 13.1s\tremaining: 3.4s\n",
      "794:\tlearn: 48275.6528767\ttotal: 13.1s\tremaining: 3.39s\n",
      "795:\tlearn: 48274.8435388\ttotal: 13.1s\tremaining: 3.37s\n",
      "796:\tlearn: 48273.6646317\ttotal: 13.2s\tremaining: 3.35s\n",
      "797:\tlearn: 48273.2539452\ttotal: 13.2s\tremaining: 3.34s\n",
      "798:\tlearn: 48272.3978154\ttotal: 13.2s\tremaining: 3.32s\n",
      "799:\tlearn: 48271.5559336\ttotal: 13.2s\tremaining: 3.3s\n",
      "800:\tlearn: 48270.5142084\ttotal: 13.2s\tremaining: 3.29s\n",
      "801:\tlearn: 48267.7574104\ttotal: 13.2s\tremaining: 3.27s\n",
      "802:\tlearn: 48258.7426363\ttotal: 13.3s\tremaining: 3.25s\n",
      "803:\tlearn: 48255.6007940\ttotal: 13.3s\tremaining: 3.24s\n",
      "804:\tlearn: 48253.5304751\ttotal: 13.3s\tremaining: 3.22s\n",
      "805:\tlearn: 48251.9994298\ttotal: 13.3s\tremaining: 3.2s\n",
      "806:\tlearn: 48249.2290629\ttotal: 13.3s\tremaining: 3.19s\n",
      "807:\tlearn: 48248.6124759\ttotal: 13.3s\tremaining: 3.17s\n",
      "808:\tlearn: 48247.5922501\ttotal: 13.4s\tremaining: 3.15s\n",
      "809:\tlearn: 48245.6857004\ttotal: 13.4s\tremaining: 3.14s\n",
      "810:\tlearn: 48243.5514403\ttotal: 13.4s\tremaining: 3.12s\n",
      "811:\tlearn: 48241.9331532\ttotal: 13.4s\tremaining: 3.1s\n",
      "812:\tlearn: 48234.4257306\ttotal: 13.4s\tremaining: 3.09s\n",
      "813:\tlearn: 48230.9278596\ttotal: 13.4s\tremaining: 3.07s\n",
      "814:\tlearn: 48225.5110476\ttotal: 13.5s\tremaining: 3.06s\n",
      "815:\tlearn: 48221.1385541\ttotal: 13.5s\tremaining: 3.04s\n",
      "816:\tlearn: 48218.6312303\ttotal: 13.5s\tremaining: 3.02s\n",
      "817:\tlearn: 48215.1135625\ttotal: 13.5s\tremaining: 3.01s\n",
      "818:\tlearn: 48213.0084567\ttotal: 13.5s\tremaining: 2.99s\n",
      "819:\tlearn: 48211.9289496\ttotal: 13.5s\tremaining: 2.97s\n",
      "820:\tlearn: 48208.4411568\ttotal: 13.6s\tremaining: 2.96s\n",
      "821:\tlearn: 48206.6363890\ttotal: 13.6s\tremaining: 2.94s\n",
      "822:\tlearn: 48205.2962782\ttotal: 13.6s\tremaining: 2.92s\n",
      "823:\tlearn: 48203.2061461\ttotal: 13.6s\tremaining: 2.91s\n",
      "824:\tlearn: 48201.3502740\ttotal: 13.6s\tremaining: 2.89s\n",
      "825:\tlearn: 48200.4458922\ttotal: 13.6s\tremaining: 2.87s\n",
      "826:\tlearn: 48199.2477000\ttotal: 13.7s\tremaining: 2.86s\n",
      "827:\tlearn: 48196.7199343\ttotal: 13.7s\tremaining: 2.85s\n",
      "828:\tlearn: 48196.3959753\ttotal: 13.7s\tremaining: 2.83s\n",
      "829:\tlearn: 48196.1535327\ttotal: 13.7s\tremaining: 2.81s\n",
      "830:\tlearn: 48194.5918792\ttotal: 13.8s\tremaining: 2.8s\n",
      "831:\tlearn: 48191.2759844\ttotal: 13.8s\tremaining: 2.78s\n",
      "832:\tlearn: 48190.4668473\ttotal: 13.8s\tremaining: 2.76s\n",
      "833:\tlearn: 48189.6359272\ttotal: 13.8s\tremaining: 2.75s\n",
      "834:\tlearn: 48185.0945932\ttotal: 13.8s\tremaining: 2.73s\n",
      "835:\tlearn: 48182.1084465\ttotal: 13.8s\tremaining: 2.71s\n",
      "836:\tlearn: 48181.0245656\ttotal: 13.9s\tremaining: 2.7s\n",
      "837:\tlearn: 48179.1754317\ttotal: 13.9s\tremaining: 2.68s\n",
      "838:\tlearn: 48176.6632471\ttotal: 13.9s\tremaining: 2.67s\n",
      "839:\tlearn: 48175.3205453\ttotal: 13.9s\tremaining: 2.65s\n",
      "840:\tlearn: 48174.8104190\ttotal: 13.9s\tremaining: 2.63s\n",
      "841:\tlearn: 48172.1056416\ttotal: 13.9s\tremaining: 2.62s\n",
      "842:\tlearn: 48171.7834320\ttotal: 14s\tremaining: 2.6s\n",
      "843:\tlearn: 48167.3286781\ttotal: 14s\tremaining: 2.58s\n",
      "844:\tlearn: 48167.0986671\ttotal: 14s\tremaining: 2.57s\n",
      "845:\tlearn: 48166.8243258\ttotal: 14s\tremaining: 2.55s\n",
      "846:\tlearn: 48165.0197225\ttotal: 14s\tremaining: 2.53s\n",
      "847:\tlearn: 48162.7462789\ttotal: 14s\tremaining: 2.52s\n",
      "848:\tlearn: 48162.5937648\ttotal: 14.1s\tremaining: 2.5s\n",
      "849:\tlearn: 48160.0196226\ttotal: 14.1s\tremaining: 2.48s\n",
      "850:\tlearn: 48158.7794520\ttotal: 14.1s\tremaining: 2.47s\n",
      "851:\tlearn: 48156.1542523\ttotal: 14.1s\tremaining: 2.45s\n",
      "852:\tlearn: 48154.8741612\ttotal: 14.1s\tremaining: 2.43s\n",
      "853:\tlearn: 48153.4699140\ttotal: 14.1s\tremaining: 2.42s\n",
      "854:\tlearn: 48152.9809118\ttotal: 14.2s\tremaining: 2.4s\n",
      "855:\tlearn: 48152.8946138\ttotal: 14.2s\tremaining: 2.38s\n",
      "856:\tlearn: 48151.6083686\ttotal: 14.2s\tremaining: 2.37s\n",
      "857:\tlearn: 48151.1131397\ttotal: 14.2s\tremaining: 2.35s\n",
      "858:\tlearn: 48149.1430753\ttotal: 14.2s\tremaining: 2.33s\n",
      "859:\tlearn: 48148.1740162\ttotal: 14.2s\tremaining: 2.32s\n",
      "860:\tlearn: 48142.6240287\ttotal: 14.3s\tremaining: 2.3s\n",
      "861:\tlearn: 48140.9674446\ttotal: 14.3s\tremaining: 2.29s\n",
      "862:\tlearn: 48140.5946108\ttotal: 14.3s\tremaining: 2.27s\n",
      "863:\tlearn: 48138.5843183\ttotal: 14.3s\tremaining: 2.25s\n",
      "864:\tlearn: 48136.8726320\ttotal: 14.3s\tremaining: 2.24s\n",
      "865:\tlearn: 48136.4262017\ttotal: 14.4s\tremaining: 2.22s\n",
      "866:\tlearn: 48133.2754205\ttotal: 14.4s\tremaining: 2.2s\n",
      "867:\tlearn: 48131.5760470\ttotal: 14.4s\tremaining: 2.19s\n",
      "868:\tlearn: 48131.4260188\ttotal: 14.4s\tremaining: 2.17s\n",
      "869:\tlearn: 48129.1363950\ttotal: 14.4s\tremaining: 2.15s\n",
      "870:\tlearn: 48128.1428606\ttotal: 14.4s\tremaining: 2.14s\n",
      "871:\tlearn: 48127.1257200\ttotal: 14.5s\tremaining: 2.12s\n",
      "872:\tlearn: 48126.2654666\ttotal: 14.5s\tremaining: 2.1s\n",
      "873:\tlearn: 48125.1600915\ttotal: 14.5s\tremaining: 2.09s\n",
      "874:\tlearn: 48123.1616051\ttotal: 14.5s\tremaining: 2.07s\n",
      "875:\tlearn: 48119.0015963\ttotal: 14.5s\tremaining: 2.05s\n",
      "876:\tlearn: 48117.2557941\ttotal: 14.5s\tremaining: 2.04s\n",
      "877:\tlearn: 48116.3975910\ttotal: 14.5s\tremaining: 2.02s\n",
      "878:\tlearn: 48114.1361224\ttotal: 14.6s\tremaining: 2s\n",
      "879:\tlearn: 48113.1209372\ttotal: 14.6s\tremaining: 1.99s\n",
      "880:\tlearn: 48112.5510056\ttotal: 14.6s\tremaining: 1.97s\n",
      "881:\tlearn: 48111.4132458\ttotal: 14.6s\tremaining: 1.96s\n",
      "882:\tlearn: 48110.0366489\ttotal: 14.6s\tremaining: 1.94s\n",
      "883:\tlearn: 48109.7411617\ttotal: 14.7s\tremaining: 1.92s\n",
      "884:\tlearn: 48107.9876255\ttotal: 14.7s\tremaining: 1.91s\n",
      "885:\tlearn: 48106.1596870\ttotal: 14.7s\tremaining: 1.89s\n",
      "886:\tlearn: 48105.7456539\ttotal: 14.7s\tremaining: 1.87s\n",
      "887:\tlearn: 48104.3636992\ttotal: 14.7s\tremaining: 1.86s\n",
      "888:\tlearn: 48103.4741932\ttotal: 14.7s\tremaining: 1.84s\n",
      "889:\tlearn: 48101.1609376\ttotal: 14.8s\tremaining: 1.82s\n",
      "890:\tlearn: 48099.5053489\ttotal: 14.8s\tremaining: 1.81s\n",
      "891:\tlearn: 48097.8453797\ttotal: 14.8s\tremaining: 1.79s\n",
      "892:\tlearn: 48095.1070609\ttotal: 14.8s\tremaining: 1.77s\n",
      "893:\tlearn: 48091.1361061\ttotal: 14.8s\tremaining: 1.76s\n",
      "894:\tlearn: 48089.2500742\ttotal: 14.8s\tremaining: 1.74s\n",
      "895:\tlearn: 48086.8560550\ttotal: 14.9s\tremaining: 1.72s\n",
      "896:\tlearn: 48086.3138076\ttotal: 14.9s\tremaining: 1.71s\n",
      "897:\tlearn: 48084.2213541\ttotal: 14.9s\tremaining: 1.69s\n",
      "898:\tlearn: 48082.1495151\ttotal: 14.9s\tremaining: 1.68s\n",
      "899:\tlearn: 48078.2924416\ttotal: 14.9s\tremaining: 1.66s\n",
      "900:\tlearn: 48077.3801298\ttotal: 14.9s\tremaining: 1.64s\n",
      "901:\tlearn: 48077.3479995\ttotal: 15s\tremaining: 1.63s\n",
      "902:\tlearn: 48074.3562849\ttotal: 15s\tremaining: 1.61s\n",
      "903:\tlearn: 48073.0745278\ttotal: 15s\tremaining: 1.59s\n",
      "904:\tlearn: 48069.7276656\ttotal: 15s\tremaining: 1.57s\n",
      "905:\tlearn: 48066.7616026\ttotal: 15s\tremaining: 1.56s\n",
      "906:\tlearn: 48066.0769775\ttotal: 15s\tremaining: 1.54s\n",
      "907:\tlearn: 48063.9790851\ttotal: 15.1s\tremaining: 1.53s\n",
      "908:\tlearn: 48061.5850825\ttotal: 15.1s\tremaining: 1.51s\n",
      "909:\tlearn: 48061.1942503\ttotal: 15.1s\tremaining: 1.49s\n",
      "910:\tlearn: 48059.5506343\ttotal: 15.1s\tremaining: 1.48s\n",
      "911:\tlearn: 48059.5430837\ttotal: 15.1s\tremaining: 1.46s\n",
      "912:\tlearn: 48055.6591328\ttotal: 15.1s\tremaining: 1.44s\n",
      "913:\tlearn: 48055.6345232\ttotal: 15.2s\tremaining: 1.43s\n",
      "914:\tlearn: 48053.4765124\ttotal: 15.2s\tremaining: 1.41s\n",
      "915:\tlearn: 48051.9149219\ttotal: 15.2s\tremaining: 1.39s\n",
      "916:\tlearn: 48051.8906861\ttotal: 15.2s\tremaining: 1.38s\n",
      "917:\tlearn: 48049.7597095\ttotal: 15.2s\tremaining: 1.36s\n",
      "918:\tlearn: 48046.4080329\ttotal: 15.3s\tremaining: 1.34s\n",
      "919:\tlearn: 48044.3362765\ttotal: 15.3s\tremaining: 1.33s\n",
      "920:\tlearn: 48042.6472682\ttotal: 15.3s\tremaining: 1.31s\n",
      "921:\tlearn: 48041.0816295\ttotal: 15.3s\tremaining: 1.29s\n",
      "922:\tlearn: 48040.5712595\ttotal: 15.3s\tremaining: 1.28s\n",
      "923:\tlearn: 48039.0736326\ttotal: 15.3s\tremaining: 1.26s\n",
      "924:\tlearn: 48032.1402388\ttotal: 15.4s\tremaining: 1.25s\n",
      "925:\tlearn: 48029.0993699\ttotal: 15.4s\tremaining: 1.23s\n",
      "926:\tlearn: 48027.7233127\ttotal: 15.4s\tremaining: 1.21s\n",
      "927:\tlearn: 48025.4940472\ttotal: 15.4s\tremaining: 1.2s\n",
      "928:\tlearn: 48021.1594553\ttotal: 15.4s\tremaining: 1.18s\n",
      "929:\tlearn: 48018.3685062\ttotal: 15.4s\tremaining: 1.16s\n",
      "930:\tlearn: 48016.4541495\ttotal: 15.5s\tremaining: 1.15s\n",
      "931:\tlearn: 48015.9168696\ttotal: 15.5s\tremaining: 1.13s\n",
      "932:\tlearn: 48012.0002686\ttotal: 15.5s\tremaining: 1.11s\n",
      "933:\tlearn: 48009.5357181\ttotal: 15.5s\tremaining: 1.1s\n",
      "934:\tlearn: 48007.5239991\ttotal: 15.5s\tremaining: 1.08s\n",
      "935:\tlearn: 48006.7305115\ttotal: 15.6s\tremaining: 1.06s\n",
      "936:\tlearn: 48006.3773613\ttotal: 15.6s\tremaining: 1.05s\n",
      "937:\tlearn: 48005.2846185\ttotal: 15.6s\tremaining: 1.03s\n",
      "938:\tlearn: 48002.5130317\ttotal: 15.6s\tremaining: 1.01s\n",
      "939:\tlearn: 47998.9219979\ttotal: 15.6s\tremaining: 997ms\n",
      "940:\tlearn: 47997.4887507\ttotal: 15.6s\tremaining: 980ms\n",
      "941:\tlearn: 47996.1716903\ttotal: 15.6s\tremaining: 963ms\n",
      "942:\tlearn: 47994.3150136\ttotal: 15.7s\tremaining: 947ms\n",
      "943:\tlearn: 47994.2696850\ttotal: 15.7s\tremaining: 930ms\n",
      "944:\tlearn: 47992.6611632\ttotal: 15.7s\tremaining: 914ms\n",
      "945:\tlearn: 47989.9611410\ttotal: 15.7s\tremaining: 897ms\n",
      "946:\tlearn: 47988.8855255\ttotal: 15.7s\tremaining: 881ms\n",
      "947:\tlearn: 47985.6249004\ttotal: 15.8s\tremaining: 864ms\n",
      "948:\tlearn: 47981.1262633\ttotal: 15.8s\tremaining: 848ms\n",
      "949:\tlearn: 47974.5846267\ttotal: 15.8s\tremaining: 831ms\n",
      "950:\tlearn: 47973.6570685\ttotal: 15.8s\tremaining: 814ms\n",
      "951:\tlearn: 47971.4651344\ttotal: 15.8s\tremaining: 798ms\n",
      "952:\tlearn: 47970.0661567\ttotal: 15.8s\tremaining: 781ms\n",
      "953:\tlearn: 47969.6451417\ttotal: 15.9s\tremaining: 765ms\n",
      "954:\tlearn: 47969.3590780\ttotal: 15.9s\tremaining: 748ms\n",
      "955:\tlearn: 47969.1372440\ttotal: 15.9s\tremaining: 732ms\n",
      "956:\tlearn: 47968.9231246\ttotal: 15.9s\tremaining: 715ms\n",
      "957:\tlearn: 47965.8584566\ttotal: 15.9s\tremaining: 699ms\n",
      "958:\tlearn: 47958.1665238\ttotal: 16s\tremaining: 682ms\n",
      "959:\tlearn: 47957.8582547\ttotal: 16s\tremaining: 666ms\n",
      "960:\tlearn: 47955.5848189\ttotal: 16s\tremaining: 649ms\n",
      "961:\tlearn: 47953.8998479\ttotal: 16s\tremaining: 632ms\n",
      "962:\tlearn: 47953.3454708\ttotal: 16s\tremaining: 616ms\n",
      "963:\tlearn: 47950.6061821\ttotal: 16s\tremaining: 599ms\n",
      "964:\tlearn: 47950.1114417\ttotal: 16.1s\tremaining: 582ms\n",
      "965:\tlearn: 47949.4462417\ttotal: 16.1s\tremaining: 566ms\n",
      "966:\tlearn: 47947.6386461\ttotal: 16.1s\tremaining: 549ms\n",
      "967:\tlearn: 47944.8114386\ttotal: 16.1s\tremaining: 532ms\n",
      "968:\tlearn: 47943.9396797\ttotal: 16.1s\tremaining: 516ms\n",
      "969:\tlearn: 47943.4733546\ttotal: 16.1s\tremaining: 499ms\n",
      "970:\tlearn: 47939.6232705\ttotal: 16.2s\tremaining: 483ms\n",
      "971:\tlearn: 47937.7665698\ttotal: 16.2s\tremaining: 466ms\n",
      "972:\tlearn: 47934.4499938\ttotal: 16.2s\tremaining: 449ms\n",
      "973:\tlearn: 47934.3843742\ttotal: 16.2s\tremaining: 433ms\n",
      "974:\tlearn: 47931.2199148\ttotal: 16.2s\tremaining: 416ms\n",
      "975:\tlearn: 47929.2335117\ttotal: 16.2s\tremaining: 399ms\n",
      "976:\tlearn: 47927.3040368\ttotal: 16.3s\tremaining: 383ms\n",
      "977:\tlearn: 47927.1722311\ttotal: 16.3s\tremaining: 366ms\n",
      "978:\tlearn: 47926.2585666\ttotal: 16.3s\tremaining: 349ms\n",
      "979:\tlearn: 47925.8008842\ttotal: 16.3s\tremaining: 333ms\n",
      "980:\tlearn: 47923.0651315\ttotal: 16.3s\tremaining: 316ms\n",
      "981:\tlearn: 47921.9736722\ttotal: 16.3s\tremaining: 300ms\n",
      "982:\tlearn: 47917.6886983\ttotal: 16.4s\tremaining: 283ms\n",
      "983:\tlearn: 47914.2379502\ttotal: 16.4s\tremaining: 266ms\n",
      "984:\tlearn: 47911.9052997\ttotal: 16.4s\tremaining: 250ms\n",
      "985:\tlearn: 47909.5081609\ttotal: 16.4s\tremaining: 233ms\n",
      "986:\tlearn: 47908.6030654\ttotal: 16.4s\tremaining: 216ms\n",
      "987:\tlearn: 47907.6606531\ttotal: 16.4s\tremaining: 200ms\n",
      "988:\tlearn: 47907.0237651\ttotal: 16.5s\tremaining: 183ms\n",
      "989:\tlearn: 47902.3368663\ttotal: 16.5s\tremaining: 166ms\n",
      "990:\tlearn: 47899.2479235\ttotal: 16.5s\tremaining: 150ms\n",
      "991:\tlearn: 47892.0967242\ttotal: 16.5s\tremaining: 133ms\n",
      "992:\tlearn: 47889.9729621\ttotal: 16.5s\tremaining: 116ms\n",
      "993:\tlearn: 47888.7068149\ttotal: 16.5s\tremaining: 99.8ms\n",
      "994:\tlearn: 47887.6748281\ttotal: 16.6s\tremaining: 83.3ms\n",
      "995:\tlearn: 47886.0165090\ttotal: 16.6s\tremaining: 66.6ms\n",
      "996:\tlearn: 47883.9087931\ttotal: 16.6s\tremaining: 50ms\n",
      "997:\tlearn: 47879.7882889\ttotal: 16.6s\tremaining: 33.3ms\n",
      "998:\tlearn: 47879.2902097\ttotal: 16.6s\tremaining: 16.7ms\n",
      "999:\tlearn: 47873.2454910\ttotal: 16.7s\tremaining: 0us\n"
     ]
    },
    {
     "data": {
      "text/plain": [
       "<catboost.core.CatBoostRegressor at 0x27beb5fd110>"
      ]
     },
     "execution_count": 397,
     "metadata": {},
     "output_type": "execute_result"
    }
   ],
   "source": [
    "cat_model.fit(X_train,y_train)"
   ]
  },
  {
   "cell_type": "code",
   "execution_count": 398,
   "id": "18a72ad4-c7c1-42ee-846b-837fd601a9db",
   "metadata": {
    "tags": []
   },
   "outputs": [
    {
     "data": {
      "text/plain": [
       "0.3362416936784467"
      ]
     },
     "execution_count": 398,
     "metadata": {},
     "output_type": "execute_result"
    }
   ],
   "source": [
    "cat_model.score(X_test,y_test)"
   ]
  },
  {
   "cell_type": "code",
   "execution_count": 399,
   "id": "1631bc60-624b-4091-8607-902093615ddf",
   "metadata": {
    "tags": []
   },
   "outputs": [
    {
     "data": {
      "text/plain": [
       "89957.29365362346"
      ]
     },
     "execution_count": 399,
     "metadata": {},
     "output_type": "execute_result"
    }
   ],
   "source": [
    "cat_model.predict(X.iloc[0,:])"
   ]
  },
  {
   "cell_type": "code",
   "execution_count": 384,
   "id": "36aaca23-0e70-455f-977a-52ef53bcf02b",
   "metadata": {
    "tags": []
   },
   "outputs": [
    {
     "data": {
      "text/plain": [
       "{'loss_function': 'RMSE',\n",
       " 'cat_features': ['work_year',\n",
       "  'job_category',\n",
       "  'employee_residence',\n",
       "  'experience_level',\n",
       "  'employment_type',\n",
       "  'work_setting',\n",
       "  'company_location',\n",
       "  'company_size']}"
      ]
     },
     "execution_count": 384,
     "metadata": {},
     "output_type": "execute_result"
    }
   ],
   "source": [
    "cat_model.get_params()"
   ]
  },
  {
   "cell_type": "code",
   "execution_count": 400,
   "id": "157103b2-61de-4349-8f34-57f9ff47e910",
   "metadata": {
    "tags": []
   },
   "outputs": [
    {
     "data": {
      "text/plain": [
       "array(['monkey', 'cat', 'dog', 'dog', 'monkey', 'cat'], dtype='<U6')"
      ]
     },
     "execution_count": 400,
     "metadata": {},
     "output_type": "execute_result"
    }
   ],
   "source": [
    "x = np.array(['monkey','cat','dog','dog','monkey','cat'])\n",
    "x"
   ]
  },
  {
   "cell_type": "code",
   "execution_count": 404,
   "id": "7f160aa0-ad66-44c5-b920-9438153a400f",
   "metadata": {
    "tags": []
   },
   "outputs": [],
   "source": [
    "from sklearn.preprocessing import LabelEncoder\n",
    "from sklearn.preprocessing import OneHotEncoder"
   ]
  },
  {
   "cell_type": "code",
   "execution_count": 405,
   "id": "df0e377b-1756-48b3-b019-11f5fde62bd5",
   "metadata": {
    "tags": []
   },
   "outputs": [
    {
     "data": {
      "text/html": [
       "<style>#sk-container-id-11 {color: black;}#sk-container-id-11 pre{padding: 0;}#sk-container-id-11 div.sk-toggleable {background-color: white;}#sk-container-id-11 label.sk-toggleable__label {cursor: pointer;display: block;width: 100%;margin-bottom: 0;padding: 0.3em;box-sizing: border-box;text-align: center;}#sk-container-id-11 label.sk-toggleable__label-arrow:before {content: \"▸\";float: left;margin-right: 0.25em;color: #696969;}#sk-container-id-11 label.sk-toggleable__label-arrow:hover:before {color: black;}#sk-container-id-11 div.sk-estimator:hover label.sk-toggleable__label-arrow:before {color: black;}#sk-container-id-11 div.sk-toggleable__content {max-height: 0;max-width: 0;overflow: hidden;text-align: left;background-color: #f0f8ff;}#sk-container-id-11 div.sk-toggleable__content pre {margin: 0.2em;color: black;border-radius: 0.25em;background-color: #f0f8ff;}#sk-container-id-11 input.sk-toggleable__control:checked~div.sk-toggleable__content {max-height: 200px;max-width: 100%;overflow: auto;}#sk-container-id-11 input.sk-toggleable__control:checked~label.sk-toggleable__label-arrow:before {content: \"▾\";}#sk-container-id-11 div.sk-estimator input.sk-toggleable__control:checked~label.sk-toggleable__label {background-color: #d4ebff;}#sk-container-id-11 div.sk-label input.sk-toggleable__control:checked~label.sk-toggleable__label {background-color: #d4ebff;}#sk-container-id-11 input.sk-hidden--visually {border: 0;clip: rect(1px 1px 1px 1px);clip: rect(1px, 1px, 1px, 1px);height: 1px;margin: -1px;overflow: hidden;padding: 0;position: absolute;width: 1px;}#sk-container-id-11 div.sk-estimator {font-family: monospace;background-color: #f0f8ff;border: 1px dotted black;border-radius: 0.25em;box-sizing: border-box;margin-bottom: 0.5em;}#sk-container-id-11 div.sk-estimator:hover {background-color: #d4ebff;}#sk-container-id-11 div.sk-parallel-item::after {content: \"\";width: 100%;border-bottom: 1px solid gray;flex-grow: 1;}#sk-container-id-11 div.sk-label:hover label.sk-toggleable__label {background-color: #d4ebff;}#sk-container-id-11 div.sk-serial::before {content: \"\";position: absolute;border-left: 1px solid gray;box-sizing: border-box;top: 0;bottom: 0;left: 50%;z-index: 0;}#sk-container-id-11 div.sk-serial {display: flex;flex-direction: column;align-items: center;background-color: white;padding-right: 0.2em;padding-left: 0.2em;position: relative;}#sk-container-id-11 div.sk-item {position: relative;z-index: 1;}#sk-container-id-11 div.sk-parallel {display: flex;align-items: stretch;justify-content: center;background-color: white;position: relative;}#sk-container-id-11 div.sk-item::before, #sk-container-id-11 div.sk-parallel-item::before {content: \"\";position: absolute;border-left: 1px solid gray;box-sizing: border-box;top: 0;bottom: 0;left: 50%;z-index: -1;}#sk-container-id-11 div.sk-parallel-item {display: flex;flex-direction: column;z-index: 1;position: relative;background-color: white;}#sk-container-id-11 div.sk-parallel-item:first-child::after {align-self: flex-end;width: 50%;}#sk-container-id-11 div.sk-parallel-item:last-child::after {align-self: flex-start;width: 50%;}#sk-container-id-11 div.sk-parallel-item:only-child::after {width: 0;}#sk-container-id-11 div.sk-dashed-wrapped {border: 1px dashed gray;margin: 0 0.4em 0.5em 0.4em;box-sizing: border-box;padding-bottom: 0.4em;background-color: white;}#sk-container-id-11 div.sk-label label {font-family: monospace;font-weight: bold;display: inline-block;line-height: 1.2em;}#sk-container-id-11 div.sk-label-container {text-align: center;}#sk-container-id-11 div.sk-container {/* jupyter's `normalize.less` sets `[hidden] { display: none; }` but bootstrap.min.css set `[hidden] { display: none !important; }` so we also need the `!important` here to be able to override the default hidden behavior on the sphinx rendered scikit-learn.org. See: https://github.com/scikit-learn/scikit-learn/issues/21755 */display: inline-block !important;position: relative;}#sk-container-id-11 div.sk-text-repr-fallback {display: none;}</style><div id=\"sk-container-id-11\" class=\"sk-top-container\"><div class=\"sk-text-repr-fallback\"><pre>LabelEncoder()</pre><b>In a Jupyter environment, please rerun this cell to show the HTML representation or trust the notebook. <br />On GitHub, the HTML representation is unable to render, please try loading this page with nbviewer.org.</b></div><div class=\"sk-container\" hidden><div class=\"sk-item\"><div class=\"sk-estimator sk-toggleable\"><input class=\"sk-toggleable__control sk-hidden--visually\" id=\"sk-estimator-id-11\" type=\"checkbox\" checked><label for=\"sk-estimator-id-11\" class=\"sk-toggleable__label sk-toggleable__label-arrow\">LabelEncoder</label><div class=\"sk-toggleable__content\"><pre>LabelEncoder()</pre></div></div></div></div></div>"
      ],
      "text/plain": [
       "LabelEncoder()"
      ]
     },
     "execution_count": 405,
     "metadata": {},
     "output_type": "execute_result"
    }
   ],
   "source": [
    "le = LabelEncoder()\n",
    "le.fit(x)"
   ]
  },
  {
   "cell_type": "code",
   "execution_count": 406,
   "id": "4426aa9b-eef2-4be6-85a1-bdc172abd626",
   "metadata": {
    "tags": []
   },
   "outputs": [
    {
     "data": {
      "text/plain": [
       "array([[2],\n",
       "       [0],\n",
       "       [1],\n",
       "       [1],\n",
       "       [2],\n",
       "       [0]])"
      ]
     },
     "execution_count": 406,
     "metadata": {},
     "output_type": "execute_result"
    }
   ],
   "source": [
    "le.transform(x).reshape(-1,1)"
   ]
  },
  {
   "cell_type": "code",
   "execution_count": 410,
   "id": "3326c8ce-0a55-4e92-aab3-7f73fa3a0715",
   "metadata": {
    "tags": []
   },
   "outputs": [
    {
     "data": {
      "text/plain": [
       "<6x3 sparse matrix of type '<class 'numpy.float64'>'\n",
       "\twith 6 stored elements in Compressed Sparse Row format>"
      ]
     },
     "execution_count": 410,
     "metadata": {},
     "output_type": "execute_result"
    }
   ],
   "source": [
    "ohe = OneHotEncoder()\n",
    "ohe.fit(x.reshape(-1,1))\n",
    "ohe.transform(x.reshape(-1,1))"
   ]
  },
  {
   "cell_type": "code",
   "execution_count": 411,
   "id": "043cdf80-5ce6-40dd-b373-b3c70bf7b8ad",
   "metadata": {
    "tags": []
   },
   "outputs": [],
   "source": [
    "from sklearn import model_selection"
   ]
  },
  {
   "cell_type": "code",
   "execution_count": 416,
   "id": "0ea55d4e-79ee-4da1-9728-b93acf06499b",
   "metadata": {
    "tags": []
   },
   "outputs": [],
   "source": [
    "from sklearn.model_selection import cross_val_predict, cross_val_score, cross_validate\n",
    "from sklearn.datasets import load_iris\n",
    "from sklearn.linear_model import LogisticRegression"
   ]
  },
  {
   "cell_type": "code",
   "execution_count": 419,
   "id": "7af49c96-6e9b-4cbf-8195-e83c4bb5e35a",
   "metadata": {
    "tags": []
   },
   "outputs": [
    {
     "name": "stderr",
     "output_type": "stream",
     "text": [
      "C:\\Users\\user\\anaconda3\\Lib\\site-packages\\sklearn\\linear_model\\_logistic.py:460: ConvergenceWarning: lbfgs failed to converge (status=1):\n",
      "STOP: TOTAL NO. of ITERATIONS REACHED LIMIT.\n",
      "\n",
      "Increase the number of iterations (max_iter) or scale the data as shown in:\n",
      "    https://scikit-learn.org/stable/modules/preprocessing.html\n",
      "Please also refer to the documentation for alternative solver options:\n",
      "    https://scikit-learn.org/stable/modules/linear_model.html#logistic-regression\n",
      "  n_iter_i = _check_optimize_result(\n"
     ]
    }
   ],
   "source": [
    "model = LogisticRegression()\n",
    "X = load_iris()['data']\n",
    "y = load_iris()['target']\n",
    "cross_val = cross_validate(model, X, y, cv=5)"
   ]
  },
  {
   "cell_type": "code",
   "execution_count": 420,
   "id": "c4ea6251-e3c2-4a23-b659-a8fcc7c8af60",
   "metadata": {
    "tags": []
   },
   "outputs": [
    {
     "data": {
      "text/plain": [
       "{'fit_time': array([0.01956415, 0.01922822, 0.01334357, 0.01260805, 0.01425624]),\n",
       " 'score_time': array([0.        , 0.        , 0.00099993, 0.        , 0.00100517]),\n",
       " 'test_score': array([0.96666667, 1.        , 0.93333333, 0.96666667, 1.        ])}"
      ]
     },
     "execution_count": 420,
     "metadata": {},
     "output_type": "execute_result"
    }
   ],
   "source": [
    "cross_val"
   ]
  }
 ],
 "metadata": {
  "kernelspec": {
   "display_name": "Python 3 (ipykernel)",
   "language": "python",
   "name": "python3"
  },
  "language_info": {
   "codemirror_mode": {
    "name": "ipython",
    "version": 3
   },
   "file_extension": ".py",
   "mimetype": "text/x-python",
   "name": "python",
   "nbconvert_exporter": "python",
   "pygments_lexer": "ipython3",
   "version": "3.11.4"
  }
 },
 "nbformat": 4,
 "nbformat_minor": 5
}
