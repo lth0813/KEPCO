{
 "cells": [
  {
   "cell_type": "code",
   "execution_count": 156,
   "id": "fff6fc8c-3d8f-47eb-8b36-547610355ed0",
   "metadata": {
    "tags": []
   },
   "outputs": [],
   "source": [
    "import numpy as np\n",
    "import matplotlib.pyplot as plt\n",
    "from scipy.special import softmax"
   ]
  },
  {
   "cell_type": "code",
   "execution_count": null,
   "id": "97484ee3-928d-4d12-87ae-988c5b8815ba",
   "metadata": {},
   "outputs": [],
   "source": [
    "softmax()"
   ]
  },
  {
   "cell_type": "code",
   "execution_count": 2,
   "id": "61e98d1c-bea5-4021-bd12-4c1332c9a8cf",
   "metadata": {
    "tags": []
   },
   "outputs": [],
   "source": [
    "def sigmoid(x):\n",
    "    return 1/(1+np.exp(-x))\n",
    "\n",
    "def relu(x):\n",
    "    return np.where(x > 0, x, 0)\n",
    "\n",
    "def softmax(x):\n",
    "    m = np.max(x,1).reshape(-1,1)\n",
    "    c = x - m\n",
    "    return np.exp(c)/np.sum(np.exp(c),1).reshape(-1,1)\n",
    "\n",
    "def tanh(x):\n",
    "    return (np.exp(x)-np.exp(-x))/(np.exp(x)+np.exp(-x))"
   ]
  },
  {
   "cell_type": "code",
   "execution_count": 93,
   "id": "ffff0179-3885-43ed-905e-3a4145d6403d",
   "metadata": {
    "tags": []
   },
   "outputs": [],
   "source": [
    "def rmse(y, y_hat):\n",
    "    return np.sqrt(np.mean(np.square(y - y_hat)))\n",
    "\n",
    "def binary_crossentropy(y, y_hat):\n",
    "    epsilon = 1e-7\n",
    "    return -np.mean((1-y)*np.log(1-y_hat+epsilon)+y*np.log(y_hat+epsilon))\n",
    "\n",
    "def categorical_crossentropy(y, y_hat):\n",
    "    epsilon = 1e-7\n",
    "    return -np.mean(y*np.log(y_hat+epsilon))"
   ]
  },
  {
   "cell_type": "code",
   "execution_count": 3,
   "id": "3a977659-7b52-40cd-8cb7-a6655be4227d",
   "metadata": {
    "tags": []
   },
   "outputs": [],
   "source": [
    "class Sigmoid:\n",
    "    def __init__(self):\n",
    "        self.out = None\n",
    "    \n",
    "    def forward(self,x):\n",
    "        return sigmoid(x)\n",
    "    \n",
    "    def backward(self,out):\n",
    "        dout = sigmoid(out) * sigmoid(1-sigmoid(out))\n",
    "        return dout"
   ]
  },
  {
   "cell_type": "code",
   "execution_count": 4,
   "id": "21cedb06-2871-48da-9a70-d139d82e0fe9",
   "metadata": {
    "tags": []
   },
   "outputs": [],
   "source": [
    "class ReLU:\n",
    "    def __init__(self):\n",
    "        self.out = None\n",
    "        \n",
    "    def forward(self,x):\n",
    "        out = relu(x)\n",
    "        self.out = np.where(out>0, 1, 0)\n",
    "        return out\n",
    "    \n",
    "    def backward(self,out):\n",
    "        dout = self.out * out\n",
    "        return dout"
   ]
  },
  {
   "cell_type": "code",
   "execution_count": 5,
   "id": "a28b17d7-1389-408d-ab26-7931cfe77d15",
   "metadata": {},
   "outputs": [],
   "source": [
    "class Affine:\n",
    "    def __init__(self,w,b):\n",
    "        self.x = None\n",
    "        self.w = w\n",
    "        self.b = b\n",
    "    \n",
    "    def forward(self,x):\n",
    "        self.x = x\n",
    "        self.dout = np.dot(self.x,self.w) + self.b\n",
    "        return self.dout\n",
    "    \n",
    "    def backward(self,out):\n",
    "        self.dout = np.dot(out, self.w.T)\n",
    "        self.dW = np.dot(self.x.T,out)\n",
    "        self.db = np.sum(out,axis=0)\n",
    "        return self.dout"
   ]
  },
  {
   "cell_type": "code",
   "execution_count": 6,
   "id": "9c580fb6-a5e4-48ef-afd4-0326b10c901e",
   "metadata": {
    "tags": []
   },
   "outputs": [],
   "source": [
    "class Tanh:\n",
    "    def __init__(self):\n",
    "        self.out = None\n",
    "        \n",
    "    def forward(self,x):\n",
    "        return tanh(x)\n",
    "    \n",
    "    def backward(self):\n",
    "        dout = 1 - tanh(out)**2\n",
    "        return dout"
   ]
  },
  {
   "cell_type": "code",
   "execution_count": 7,
   "id": "a92ce8b9-0d6f-46c9-8c99-2bbd1bbb3272",
   "metadata": {
    "tags": []
   },
   "outputs": [],
   "source": [
    "class SoftmaxWithLoss:\n",
    "    def __init__(self):\n",
    "        self.out = None\n",
    "        self.y = None\n",
    "        self.y_hat = None\n",
    "    \n",
    "    def forward(self,x):\n",
    "        self.y_hat = softmax(x)\n",
    "        return self.y_hat\n",
    "    \n",
    "    def backward(self,y):\n",
    "        self.y = y\n",
    "        self.dout = (self.y_hat - self.y) / len(self.y)\n",
    "        return self.dout"
   ]
  },
  {
   "cell_type": "code",
   "execution_count": 8,
   "id": "7b9f6ac3-2e25-4811-9be3-350dbae278b0",
   "metadata": {
    "tags": []
   },
   "outputs": [],
   "source": [
    "def sigdiff(x):\n",
    "    return sigmoid(x) * (1-sigmoid(x))\n",
    "\n",
    "def tanhdiff(x):\n",
    "    return 1-tanh(x)**2"
   ]
  },
  {
   "cell_type": "code",
   "execution_count": 9,
   "id": "bf470f36-22d3-41ca-95fa-9ac289a30b2c",
   "metadata": {
    "tags": []
   },
   "outputs": [],
   "source": [
    "s = Sigmoid()"
   ]
  },
  {
   "cell_type": "code",
   "execution_count": 10,
   "id": "1aa2bc75-81aa-451e-b0a7-8ee5c42211ea",
   "metadata": {},
   "outputs": [],
   "source": [
    "x = np.random.randn(3,2)\n",
    "w = np.random.randn(2,2)"
   ]
  },
  {
   "cell_type": "code",
   "execution_count": 11,
   "id": "89229388-3245-4510-b4d0-207b6b60046f",
   "metadata": {},
   "outputs": [
    {
     "data": {
      "text/plain": [
       "(array([[0.51474328, 0.31212011],\n",
       "        [0.23952798, 0.61139821],\n",
       "        [0.4557223 , 0.27091147]]),\n",
       " array([[0.39130142, 0.3945479 ],\n",
       "        [0.38826216, 0.41226905],\n",
       "        [0.38309305, 0.38583609]]))"
      ]
     },
     "execution_count": 11,
     "metadata": {},
     "output_type": "execute_result"
    }
   ],
   "source": [
    "out = np.dot(s.forward(x),w)\n",
    "s.forward(x), s.backward(out)"
   ]
  },
  {
   "cell_type": "code",
   "execution_count": 12,
   "id": "23cff23f-0ee7-40c4-b1bf-bcc5f24392e3",
   "metadata": {
    "tags": []
   },
   "outputs": [],
   "source": [
    "r = ReLU()"
   ]
  },
  {
   "cell_type": "code",
   "execution_count": 13,
   "id": "94548a6e-14d2-4e3c-80c8-cbdfd02e0c86",
   "metadata": {
    "tags": []
   },
   "outputs": [],
   "source": [
    "x = np.array([[-5,6],[2,0],[-1,3]])\n",
    "dx = np.array([[100,-5],[-7,-3],[7,10]])"
   ]
  },
  {
   "cell_type": "code",
   "execution_count": 14,
   "id": "48ca5aa8-0e52-4c76-83e4-7454d91d5210",
   "metadata": {
    "tags": []
   },
   "outputs": [
    {
     "data": {
      "text/plain": [
       "(array([[0, 6],\n",
       "        [2, 0],\n",
       "        [0, 3]]),\n",
       " array([[ 0, -5],\n",
       "        [-7,  0],\n",
       "        [ 0, 10]]))"
      ]
     },
     "execution_count": 14,
     "metadata": {},
     "output_type": "execute_result"
    }
   ],
   "source": [
    "r.forward(x), r.backward(dx)"
   ]
  },
  {
   "cell_type": "code",
   "execution_count": 15,
   "id": "5b605f46-01c6-41c4-aee2-773b06455cad",
   "metadata": {
    "tags": []
   },
   "outputs": [],
   "source": [
    "x = np.random.randn(4,2)\n",
    "w = np.random.randn(2,5)\n",
    "b = np.zeros(5)"
   ]
  },
  {
   "cell_type": "code",
   "execution_count": 16,
   "id": "fca442d9-7fe2-43ad-ab13-b3dee38255b1",
   "metadata": {
    "tags": []
   },
   "outputs": [],
   "source": [
    "a = Affine(w,b)"
   ]
  },
  {
   "cell_type": "code",
   "execution_count": 17,
   "id": "a5e328d9-4aca-48cd-a8ab-c4fc3df9ccd8",
   "metadata": {
    "tags": []
   },
   "outputs": [
    {
     "data": {
      "text/plain": [
       "array([[ 1.36820578,  1.0396376 , -1.70170807, -0.89372204,  1.0518306 ],\n",
       "       [ 1.20288146,  0.71436637, -1.1089748 , -0.67804281,  1.05215861],\n",
       "       [-0.39264056, -0.42080411,  0.72578132,  0.32252611, -0.22369364],\n",
       "       [ 0.81211334,  0.27485002, -0.34648134, -0.34587921,  0.84275541]])"
      ]
     },
     "execution_count": 17,
     "metadata": {},
     "output_type": "execute_result"
    }
   ],
   "source": [
    "a.forward(x)"
   ]
  },
  {
   "cell_type": "code",
   "execution_count": 18,
   "id": "699bf5db-7166-4468-8abe-4fc8c1be7b1f",
   "metadata": {
    "tags": []
   },
   "outputs": [
    {
     "data": {
      "text/plain": [
       "array([[-5.60034372,  2.28426252],\n",
       "       [-4.58222576,  1.39915899],\n",
       "       [ 1.81656212, -1.02911001],\n",
       "       [-2.73889575,  0.31174706]])"
      ]
     },
     "execution_count": 18,
     "metadata": {},
     "output_type": "execute_result"
    }
   ],
   "source": [
    "a.backward(a.forward(x))"
   ]
  },
  {
   "cell_type": "code",
   "execution_count": 19,
   "id": "b1f98694-a78a-438d-9402-7db7efcf8124",
   "metadata": {
    "tags": []
   },
   "outputs": [],
   "source": [
    "sm = SoftmaxWithLoss()"
   ]
  },
  {
   "cell_type": "code",
   "execution_count": 20,
   "id": "5671ab1c-34ff-49d6-8b4c-bf840f5a2cc2",
   "metadata": {
    "tags": []
   },
   "outputs": [
    {
     "data": {
      "text/plain": [
       "[<matplotlib.lines.Line2D at 0x1d586d7b390>]"
      ]
     },
     "execution_count": 20,
     "metadata": {},
     "output_type": "execute_result"
    },
    {
     "data": {
      "image/png": "[encoded data removed]",
      "text/plain": [
       "<Figure size 640x480 with 1 Axes>"
      ]
     },
     "metadata": {},
     "output_type": "display_data"
    }
   ],
   "source": [
    "x = np.linspace(-5,5,100)\n",
    "y = tanhdiff(x)\n",
    "plt.plot(x,y)"
   ]
  },
  {
   "cell_type": "code",
   "execution_count": 21,
   "id": "8e0bf722-2c79-473f-95c2-0568d4e2e642",
   "metadata": {
    "tags": []
   },
   "outputs": [
    {
     "data": {
      "text/plain": [
       "[<matplotlib.lines.Line2D at 0x1d586ef7ed0>]"
      ]
     },
     "execution_count": 21,
     "metadata": {},
     "output_type": "execute_result"
    },
    {
     "data": {
      "image/png": "[encoded data removed]",
      "text/plain": [
       "<Figure size 640x480 with 1 Axes>"
      ]
     },
     "metadata": {},
     "output_type": "display_data"
    }
   ],
   "source": [
    "x = np.linspace(-5,5,100)\n",
    "y = sigdiff(x)\n",
    "plt.plot(x,y)"
   ]
  },
  {
   "cell_type": "code",
   "execution_count": 22,
   "id": "7690bf83-1833-449b-b663-6a3a0690a060",
   "metadata": {
    "jupyter": {
     "source_hidden": true
    },
    "tags": []
   },
   "outputs": [],
   "source": [
    "# from tensorflow.keras.models import Sequential\n",
    "# from tensorflow.keras.layers import Dense\n",
    "# from tensorflow.keras import activations\n",
    "# from tensorflow.keras.layers import ReLU\n",
    "# from tensorflow.keras.optimizers import Adam\n",
    "# model = Sequential()\n",
    "# model.add(Dense(100,activation='relu',input_shape=(784,)))\n",
    "# model.add(Dense(10,activation='sigmoid'))\n",
    "# opt = Adam(lr=1e-4)"
   ]
  },
  {
   "cell_type": "code",
   "execution_count": null,
   "id": "bfafbb60-6335-49d2-a822-da07f096d94b",
   "metadata": {
    "tags": []
   },
   "outputs": [],
   "source": [
    "class Net:\n",
    "    def __init__(self,input_shape):\n",
    "        self.x = None\n",
    "        self.y = None\n",
    "        self.input_shape = input_shape\n",
    "        self.layers = []\n",
    "        self.activation_dic = {\n",
    "            'relu':ReLU,\n",
    "            'sigmoid':Sigmoid,\n",
    "            'softmax':SoftmaxWithLoss,\n",
    "            'tanh':Tanh\n",
    "        }\n",
    "        self.grad = None\n",
    "        \n",
    "    def add(self,output_shape,activation):\n",
    "        if len(self.layers) == 0:\n",
    "            w = np.random.randn(self.input_shape,output_shape)\n",
    "            b = np.zeros(output_shape)\n",
    "            activation = self.activation_dic.get(activation)\n",
    "            self.layers.append([w,b,activation])\n",
    "        else:\n",
    "            input_shape = self.layers[-1][0].shape[1]\n",
    "            w = np.random.randn(input_shape, output_shape)\n",
    "            b = np.zeros(output_shape)\n",
    "            activation = self.activation_dic.get(activation)\n",
    "            self.layers.append([w,b,activation])\n",
    "    \n",
    "    def _build(self):\n",
    "        self.W = {}\n",
    "        for i, layer in enumerate(self.layers,1):\n",
    "            w = layer[0]\n",
    "            b = layer[1]\n",
    "            activation = layer[2]\n",
    "            self.W['Affine_'+str(i)] = Affine(w,b)\n",
    "            self.W['Activation_'+str(i)] = activation()\n",
    "        return f'Building Success'\n",
    "    \n",
    "    def compile(self,lr,loss,metrics):\n",
    "        loss_func_dic = {\n",
    "            'rmse' : rmse,\n",
    "            'binary_crossentropy' : binary_crossentropy,\n",
    "            'categorical_crossentropy' : categorical_crossentropy\n",
    "        }\n",
    "        metrics_dic = {\n",
    "            'accuracy' : 'accuracy',\n",
    "            'rmse' : 'rmse',\n",
    "        }\n",
    "        \n",
    "        self.loss_func = loss_func_dic\n",
    "        self.metrics = metrics_dic\n",
    "        self.lr = lr\n",
    "        \n",
    "        \n",
    "    def predict(self,x):\n",
    "        if self.grad == None:\n",
    "            self._build()\n",
    "        self.y_hat = x\n",
    "        for k, v in self.W.items():\n",
    "            self.y_hat = v.forward(self.y_hat)\n",
    "        return self.y_hat\n",
    "    \n",
    "    def gradient(self,x,y):\n",
    "        self.y_hat = self.predict(x)\n",
    "        self.y = y\n",
    "        self.grad = {}\n",
    "        last_layer = list(self.W.keys())[-1]\n",
    "        out = self.W.get(last_layer).backward(self.y)\n",
    "        for key in list(self.W.keys())[::-1]:\n",
    "            out = self.W.get(key).backward(out)\n",
    "        idx = 1\n",
    "        for key in list(self.W.keys()):\n",
    "            if 'Affine' in key:\n",
    "                self.grad['W'+str(idx)] = self.W.get(key).dW\n",
    "                self.grad['b'+str(idx)] = self.W.get(key).db\n",
    "                idx += 1\n",
    "        return self.grad\n",
    "        \n",
    "    def loss(self,x,y):\n",
    "        y_hat = self.predict(x)\n",
    "        loss_val = categorical_crossentropy(y,y_hat)\n",
    "        accuracy = np.sum(np.argmax(y_hat, 1) == np.argmax(y, 1))/len(y)\n",
    "        return [accuracy, loss_val]\n",
    "    \n",
    "    def summary(self):\n",
    "        total_params = 0\n",
    "        if self.grad == None:\n",
    "            self._build()\n",
    "        print(\"----------------------------------------------\")\n",
    "        print(\"                Output Shape           Param #\")\n",
    "        print(\"==============================================\")\n",
    "        for idx, layer in enumerate(self.layers,1):\n",
    "            tmp_length = 30 - len(str(layer[0].shape[1]))\n",
    "            print(f'Affine_{idx}        (None, {layer[0].shape[1]}) {np.prod(layer[0].shape) + layer[0].shape[1]:^{tmp_length}}')\n",
    "            total_params += np.prod(layer[0].shape) + layer[0].shape[1]\n",
    "        print(\"==============================================\")\n",
    "        print(f\"total params: {total_params}\")\n",
    "    \n",
    "    def fit(self, x, y, epochs=10):\n",
    "        for epoch in range(epochs):\n",
    "            self.grid = self.gradient(x,y)\n",
    "            print(f'{epoch+1} ===========> accuracy : {self.loss(x,y)[0]}, loss : {self.loss(x,y)[1]}')\n",
    "            for idx, _ in enumerate(self.layers,1):\n",
    "                self.W.get('Affine_'+str(idx)).w -= self.lr * self.grad['W'+str(idx)]\n",
    "                self.W.get('Affine_'+str(idx)).b -= self.lr * self.grad['b'+str(idx)]"
   ]
  },
  {
   "cell_type": "code",
   "execution_count": 24,
   "id": "091da8a3-9253-4c9c-8b85-1c3a997a4c72",
   "metadata": {
    "tags": []
   },
   "outputs": [],
   "source": [
    "model = Net(10)"
   ]
  },
  {
   "cell_type": "code",
   "execution_count": 25,
   "id": "1e14bb3b-f7d9-4575-a3bc-fc464d3ee2d5",
   "metadata": {
    "tags": []
   },
   "outputs": [],
   "source": [
    "model.add(100,activation='relu')"
   ]
  },
  {
   "cell_type": "code",
   "execution_count": 26,
   "id": "97ad02fc-eff9-40c4-be18-444165395959",
   "metadata": {
    "tags": []
   },
   "outputs": [
    {
     "name": "stdout",
     "output_type": "stream",
     "text": [
      "----------------------------------------------\n",
      "                Output Shape           Param #\n",
      "==============================================\n",
      "Affine_1        (None, 100)            1100            \n",
      "==============================================\n",
      "total params: 1100\n"
     ]
    }
   ],
   "source": [
    "model.summary()"
   ]
  },
  {
   "cell_type": "code",
   "execution_count": 27,
   "id": "06c8c94f-125e-499b-9224-d38a03002500",
   "metadata": {
    "collapsed": true,
    "jupyter": {
     "outputs_hidden": true
    },
    "tags": []
   },
   "outputs": [
    {
     "data": {
      "text/plain": [
       "[[array([[ 8.34566392e-01,  1.81130589e-01,  5.96189270e-03,\n",
       "          -6.03721594e-01,  1.83899985e+00,  2.20290069e+00,\n",
       "           7.65749732e-01, -7.63722485e-01, -7.29470293e-01,\n",
       "          -1.65333184e+00, -4.58385086e-01, -8.03572041e-02,\n",
       "           1.56684296e-01,  1.00506415e-01,  7.94691089e-01,\n",
       "           9.88183798e-01, -6.24418585e-02,  1.10895015e-01,\n",
       "           5.29832621e-01, -7.78055784e-01,  1.05001687e+00,\n",
       "          -1.97878197e+00, -1.67957978e-01, -9.12857195e-01,\n",
       "          -8.37882449e-01, -1.25800855e+00, -2.12346605e-02,\n",
       "           9.53587927e-01, -7.26925953e-03, -8.62540877e-02,\n",
       "          -1.38989405e-01,  6.60743666e-01, -1.97883802e+00,\n",
       "          -9.27089663e-01, -1.48570847e+00, -1.08636921e+00,\n",
       "           2.81698462e-01,  7.34191246e-01,  1.44609676e+00,\n",
       "           1.47143866e+00,  2.33025431e-02,  2.82546310e-01,\n",
       "          -1.12557320e+00,  2.24718226e-01,  1.67536505e+00,\n",
       "           7.12828476e-01,  2.95366317e-01, -8.22334439e-01,\n",
       "           3.07725923e-01,  1.67772336e+00, -2.00500246e+00,\n",
       "          -5.03993631e-01, -1.38702914e+00,  7.59057756e-01,\n",
       "           1.05438033e+00, -6.67056424e-02, -2.69217525e-01,\n",
       "          -1.56599415e+00,  7.34307516e-01,  1.25113519e+00,\n",
       "          -1.53580128e+00, -6.99514134e-01,  9.04662852e-01,\n",
       "           4.89491097e-01, -3.76020973e-01,  2.91481438e-01,\n",
       "           5.08733954e-01, -3.88632848e-01, -5.99141104e-01,\n",
       "           3.67587306e-01,  1.81304431e+00,  1.31832774e-01,\n",
       "          -8.82263345e-01, -1.07324527e+00,  2.17217570e+00,\n",
       "           8.49081638e-01,  8.44681466e-01, -4.16519964e-01,\n",
       "           5.38245759e-01,  4.12851852e-01, -6.17651444e-01,\n",
       "          -7.08326904e-01, -8.20445448e-01, -9.92012754e-01,\n",
       "          -1.05019076e+00, -8.87139669e-01, -3.97879620e-01,\n",
       "          -2.57752807e-01,  3.86840229e-01, -4.94978240e-01,\n",
       "           1.91948058e-02, -9.05466719e-01, -9.20410570e-01,\n",
       "          -3.39667569e-01,  1.15776893e+00,  1.02408686e+00,\n",
       "           2.02421429e-02,  1.23052828e+00, -2.32118930e-02,\n",
       "          -7.66465965e-01],\n",
       "         [ 1.07386276e+00, -4.97758031e-01,  3.50061115e-01,\n",
       "           1.98887380e+00, -9.19849859e-02, -1.81630076e+00,\n",
       "           2.95273287e-01,  4.00556408e-01, -9.58078451e-01,\n",
       "           2.00484683e-01,  5.79052101e-01, -1.62848234e+00,\n",
       "          -4.52393343e-01,  3.60013609e-02,  2.27690816e-01,\n",
       "          -9.65794998e-01,  1.47645789e+00,  1.23061148e+00,\n",
       "          -2.19888320e-01,  2.35220723e-01, -5.85658075e-01,\n",
       "           1.86640828e-01,  1.37263591e+00,  1.42792319e+00,\n",
       "           1.03504676e-03,  4.32630648e-02,  3.86893246e-01,\n",
       "           5.14208820e-01, -3.11901401e-01,  1.97892995e-01,\n",
       "           5.15477829e-01,  1.78215509e+00, -4.63076121e-01,\n",
       "           1.19446826e-01, -8.25340765e-02, -1.32424456e+00,\n",
       "          -6.06316864e-01,  2.83812418e-01, -9.26281086e-01,\n",
       "          -6.49484970e-01,  9.11450253e-02,  4.43425820e-01,\n",
       "          -8.79006367e-02, -7.82356736e-03,  2.44877274e-01,\n",
       "           1.27312457e+00,  1.82318409e-01,  4.58991927e-01,\n",
       "           8.96506930e-01, -6.09987530e-01,  8.52301154e-01,\n",
       "           1.03931407e-01, -1.60700735e+00,  2.98856264e+00,\n",
       "           1.79604928e+00, -2.72411772e+00, -1.40539220e+00,\n",
       "          -2.69184518e-01, -1.81547194e+00, -3.39506924e-01,\n",
       "          -1.04339744e+00,  1.92209827e-01,  1.18071177e-01,\n",
       "           1.28806500e-01, -7.45327577e-01, -2.03748475e+00,\n",
       "           4.47637608e-01,  1.33180441e-01, -7.20098530e-01,\n",
       "          -5.15141475e-01, -1.11969195e+00,  3.95065097e-01,\n",
       "          -4.03325188e-01,  1.44471454e+00, -7.00422803e-01,\n",
       "          -5.76818294e-01,  7.92700254e-01,  1.00121417e+00,\n",
       "           4.39692892e-01, -6.92987190e-01, -1.70102671e+00,\n",
       "           1.25490871e+00,  1.69953292e+00, -3.07774343e-01,\n",
       "           1.11240960e-01, -8.47535927e-02, -2.80219832e-01,\n",
       "           8.23454556e-01, -2.70755249e-01, -1.07791165e-01,\n",
       "          -5.30519531e-01,  9.07487865e-01, -6.49619383e-01,\n",
       "           3.43741126e-01,  1.74397316e+00,  2.12674468e+00,\n",
       "          -4.54895001e-01,  1.29727650e+00,  5.80298193e-01,\n",
       "          -1.08179416e-01],\n",
       "         [-9.12111414e-01, -4.67657615e-01,  3.91375173e-01,\n",
       "           1.07970122e+00,  2.00660673e+00,  2.94444830e-02,\n",
       "           7.44992227e-01, -4.17826959e-01,  6.03461061e-01,\n",
       "           2.20650514e-02,  2.21933720e+00,  1.73101426e+00,\n",
       "           1.13346745e+00,  5.13388143e-01,  6.39205482e-01,\n",
       "          -9.32621246e-01, -7.07731156e-01, -1.06924644e+00,\n",
       "           1.01655464e+00,  1.22841525e+00,  3.60352507e-01,\n",
       "           1.11304930e+00,  2.48392930e-01,  5.49209921e-01,\n",
       "          -2.24408483e-01, -1.23077851e-01,  4.50531139e-01,\n",
       "           1.88417547e+00,  5.37512639e-01,  1.15001730e+00,\n",
       "          -2.41847508e+00, -6.99911770e-01,  9.42877728e-01,\n",
       "          -8.84972440e-01, -7.69267170e-02, -2.71187192e-01,\n",
       "           4.43193937e-01,  7.86587812e-02,  1.95175457e-01,\n",
       "          -3.77344837e-01,  1.36440659e+00,  8.67778208e-01,\n",
       "          -2.26283114e-01,  7.47735309e-01, -1.97782319e-02,\n",
       "           1.51298947e+00,  9.16916926e-01,  2.40598837e-01,\n",
       "           3.02278206e-01, -1.18145207e+00,  9.91661020e-01,\n",
       "          -1.46208917e+00, -1.50973443e+00,  7.26485442e-01,\n",
       "           3.06536522e-01, -2.00121248e-01,  4.74228922e-01,\n",
       "          -7.52585706e-01,  4.14745068e-01,  7.01656923e-01,\n",
       "           1.42653444e+00,  1.55860177e+00,  7.67567057e-01,\n",
       "          -1.83432719e+00,  1.40924419e+00,  8.73765380e-02,\n",
       "           6.28864008e-01, -9.26234607e-01, -1.23669346e+00,\n",
       "           8.97940946e-01, -2.14388336e+00,  2.18950178e-01,\n",
       "           3.18195475e-01,  8.99659382e-01, -3.20764564e-01,\n",
       "          -5.73061058e-01,  2.12218611e+00,  1.70870134e-02,\n",
       "          -1.02756291e+00, -4.93763667e-01, -1.95857285e-01,\n",
       "          -8.29522213e-01, -1.94602452e+00, -1.69407691e-01,\n",
       "           9.48922453e-01, -7.86740420e-01,  6.00783158e-01,\n",
       "          -1.15526796e+00,  8.42724823e-01,  1.14751746e+00,\n",
       "           1.62498141e+00,  2.61124712e+00,  8.51914730e-01,\n",
       "          -3.81587220e-01, -7.88996135e-01,  4.08518072e-01,\n",
       "           6.31937279e-01, -3.69386842e-01, -3.25773818e-02,\n",
       "          -7.27590878e-01],\n",
       "         [ 5.13289626e-01, -1.59013453e+00,  5.02137767e-01,\n",
       "           4.38061548e-02,  4.74207205e-01,  1.30693860e-01,\n",
       "           1.60331108e+00,  3.41194526e-01, -2.90764430e-02,\n",
       "           1.41089692e+00,  9.27199742e-01, -7.75275428e-02,\n",
       "          -3.94944294e-01, -1.25003115e+00, -2.71055515e-01,\n",
       "           1.12867139e+00,  1.52050177e+00, -5.43589367e-01,\n",
       "           1.17692282e+00,  6.03753201e-01, -1.52426260e-01,\n",
       "           3.62844641e-01, -5.75090351e-01,  1.68210600e+00,\n",
       "           8.43620620e-01,  3.31471772e-02, -1.51049337e+00,\n",
       "           8.84686390e-01,  1.94545143e-01, -2.99878566e+00,\n",
       "           8.05791448e-01, -6.56965172e-02, -5.90266135e-01,\n",
       "          -1.42690289e+00,  1.56471223e+00, -7.30843487e-01,\n",
       "           1.66560233e+00,  1.16894782e+00,  7.57959756e-01,\n",
       "          -6.80873509e-01,  1.43974336e+00,  9.60037084e-01,\n",
       "          -1.51257338e+00, -7.64759937e-01,  1.39488557e-02,\n",
       "          -1.56285497e+00,  6.49627090e-01,  4.36755029e-01,\n",
       "          -1.42827263e+00, -3.88160495e-01, -2.32427011e+00,\n",
       "           1.42857313e-01,  7.99379355e-01,  3.27161177e-01,\n",
       "          -6.58552736e-01,  1.10930718e+00, -3.88315969e-01,\n",
       "           3.06265635e-01, -1.90441747e+00, -8.03714007e-01,\n",
       "           1.71064443e-01,  9.05192921e-01, -6.06330460e-02,\n",
       "          -1.40350551e+00, -3.36440034e-01, -9.76561042e-01,\n",
       "          -9.57188202e-01, -1.62280243e+00,  6.29517260e-01,\n",
       "           1.11985336e+00, -4.70385549e-01,  1.81205141e+00,\n",
       "           1.46222602e+00,  2.04725307e+00,  2.98980968e-02,\n",
       "          -6.64529400e-01, -5.37679788e-01,  4.07649728e-01,\n",
       "           8.41679252e-01, -7.56625146e-01, -1.12866906e+00,\n",
       "           1.76934048e-01,  3.22430067e-01,  6.97433247e-01,\n",
       "           6.97731980e-01, -6.76474046e-01, -5.16329107e-01,\n",
       "           9.87204116e-01, -1.72316246e+00, -2.00453703e-01,\n",
       "          -1.38464204e+00,  2.80983362e-01, -9.34800374e-01,\n",
       "           1.76636987e-01,  7.32633143e-01,  1.53331178e+00,\n",
       "           1.48883191e+00,  1.85837386e-01,  7.04302900e-01,\n",
       "          -6.30056410e-02],\n",
       "         [ 5.37380954e-01, -1.53313980e+00, -1.00376997e+00,\n",
       "          -1.11424018e+00, -6.97691434e-01,  6.83252468e-01,\n",
       "           1.01028935e+00, -1.60266774e+00, -3.66260210e-01,\n",
       "           2.02611086e+00,  3.43616737e-01, -1.40308000e-01,\n",
       "          -7.97351676e-01,  1.02163165e+00,  3.15918593e-01,\n",
       "          -6.69329430e-01,  2.16941337e-01,  1.11576737e+00,\n",
       "          -2.74274263e+00,  2.89779181e-01, -2.76855156e-01,\n",
       "          -1.23324984e+00,  5.04129958e-01, -9.23370702e-01,\n",
       "          -2.82491105e-01, -1.12403969e+00, -5.45932492e-01,\n",
       "           1.63647762e+00,  3.53239896e-01,  1.11874180e+00,\n",
       "           6.95352794e-01, -1.30450727e+00,  1.49252482e+00,\n",
       "           1.55403827e-01, -2.75937299e-01,  2.41807352e+00,\n",
       "          -3.02332032e-01, -5.00493258e-01, -1.37190984e+00,\n",
       "          -1.37194515e+00,  9.16871382e-01,  2.73744902e+00,\n",
       "          -9.81021226e-01, -8.52357013e-01, -1.52767605e+00,\n",
       "           1.63849779e-01, -3.59062736e-01, -6.54983239e-01,\n",
       "          -3.54559355e-01,  7.71755627e-01,  5.81957853e-01,\n",
       "          -1.72346039e+00,  1.85642241e-01,  1.21672152e+00,\n",
       "           2.61504477e-01, -9.77908315e-01, -4.01610177e-03,\n",
       "          -3.81517469e-01,  1.57807412e+00,  1.11580678e+00,\n",
       "           1.40647118e+00, -1.02983111e-01, -2.28493061e-01,\n",
       "          -4.19489376e-02,  2.08770929e+00, -1.63278145e+00,\n",
       "          -1.13831602e+00,  6.12499493e-01,  2.09495631e+00,\n",
       "          -1.97804074e+00, -9.03426847e-01,  1.29431122e+00,\n",
       "           4.91859440e-02, -7.56518738e-01,  7.54406813e-01,\n",
       "           8.35952600e-01,  1.05036011e-01, -1.73317387e+00,\n",
       "           8.78212614e-01, -1.57801035e-01, -1.75272141e-01,\n",
       "          -3.30602911e-01,  9.63280669e-01, -6.15072413e-01,\n",
       "          -2.26858892e-01, -1.10680798e+00,  1.52230740e+00,\n",
       "          -1.50708264e+00, -7.01320225e-02, -2.28430383e-01,\n",
       "           2.82345600e-01,  1.69686142e+00, -2.66670381e+00,\n",
       "           9.27922808e-01, -3.60750802e-02, -1.26621432e+00,\n",
       "           1.01659178e+00,  5.73140865e-01, -1.32178649e+00,\n",
       "          -1.01123290e+00],\n",
       "         [-4.56360057e-01, -1.14722571e+00,  1.68012216e-01,\n",
       "          -3.92917323e-01, -5.79840880e-01,  6.00360111e-01,\n",
       "           1.24730403e+00, -1.79496222e-01, -3.47724385e-01,\n",
       "          -4.20044183e-01, -4.58335444e-01,  6.01911015e-01,\n",
       "           6.00983421e-01,  5.88842615e-01, -4.46806993e-01,\n",
       "          -9.31574272e-01, -4.59729704e-01,  9.77665599e-01,\n",
       "          -1.68767717e+00, -1.39051551e+00,  6.79794790e-01,\n",
       "          -1.18545924e+00,  6.92761020e-01,  9.79633132e-01,\n",
       "           2.32050751e+00, -1.30591318e+00,  1.42761427e-01,\n",
       "           9.98793098e-01,  2.02171676e-01,  1.63152245e-01,\n",
       "          -6.35249832e-01,  3.19699855e-01,  3.18138978e-01,\n",
       "           4.40027944e-01,  1.76705948e+00, -5.34450078e-01,\n",
       "           7.40110912e-01,  2.66950877e-01, -1.97925536e+00,\n",
       "          -1.84754761e+00,  2.32761721e+00, -6.61613669e-02,\n",
       "           9.12954996e-01,  1.71965576e-01, -2.11792557e+00,\n",
       "           3.70186551e-01, -1.11108550e+00,  2.13371786e+00,\n",
       "           1.29121620e+00,  1.93588965e-01,  9.39127112e-01,\n",
       "          -6.54402224e-01, -4.40448589e-01,  2.81617997e-01,\n",
       "          -4.28091021e-01,  1.94482691e+00, -1.22472323e+00,\n",
       "          -1.81707554e+00,  5.14425160e-01,  1.30130668e+00,\n",
       "          -7.27084653e-01,  7.24497646e-01,  1.16611546e+00,\n",
       "           4.69146961e-01,  5.97298677e-01,  6.55808291e-01,\n",
       "           9.17820742e-01, -1.05050079e+00,  7.18569539e-01,\n",
       "          -1.53811951e+00, -3.03140233e-01,  9.14056017e-01,\n",
       "          -1.16387482e+00, -1.29124533e+00, -3.03461583e-03,\n",
       "           5.68855075e-02,  7.25309439e-01, -8.75472495e-01,\n",
       "          -7.62314207e-01, -4.15100234e-01,  1.42865064e+00,\n",
       "           1.63636825e-01, -4.06851333e-01,  1.29434191e+00,\n",
       "           1.98187039e+00,  1.30405691e-01, -1.67575059e+00,\n",
       "          -9.11559891e-01, -9.02257636e-01,  2.83482674e-01,\n",
       "           1.15297701e+00, -5.84278214e-01, -6.24830810e-01,\n",
       "          -2.00089689e+00,  2.60329710e-01,  8.27314013e-01,\n",
       "          -1.91250936e+00,  5.24880235e-01,  8.38594736e-01,\n",
       "           5.19018685e-01],\n",
       "         [ 5.27211726e-01, -1.69280051e+00, -1.51533858e+00,\n",
       "          -1.39826488e+00, -3.99432637e-01,  2.67354312e-01,\n",
       "          -8.99531778e-01,  2.14536265e+00,  3.64224291e-02,\n",
       "          -1.27848110e-01,  8.93761768e-01, -4.64222797e-01,\n",
       "          -1.11800809e+00,  6.43436513e-01,  8.17749367e-01,\n",
       "           1.64044052e+00, -1.04000898e+00,  3.26998790e-01,\n",
       "           1.25673538e+00,  1.50554430e+00,  6.60282586e-01,\n",
       "          -1.55065735e+00, -4.20109249e-01,  1.05623762e-01,\n",
       "           3.26766089e-01,  7.21349666e-01, -1.37819330e+00,\n",
       "          -5.35720394e-01,  1.47273154e+00,  1.55973946e+00,\n",
       "          -3.33098089e-01, -7.84167747e-01,  1.44846887e-01,\n",
       "          -1.04027770e-01,  8.74963783e-01,  3.14662393e-01,\n",
       "          -1.62841311e+00, -6.82124803e-01,  7.12876236e-01,\n",
       "           9.99593470e-02,  8.34751532e-01, -1.58762863e-01,\n",
       "           7.70498535e-01,  5.89534867e-01,  1.65480641e+00,\n",
       "           8.81304133e-01,  1.17054782e-01, -6.96277082e-01,\n",
       "           4.69345225e-01,  1.25912926e+00, -9.00523142e-01,\n",
       "           6.41652523e-01, -3.56390028e-02, -2.16751512e+00,\n",
       "          -2.63747849e-01, -6.79067726e-01, -1.83111200e-01,\n",
       "           2.29365721e-02, -4.41216793e-01,  1.24990872e+00,\n",
       "           9.37062703e-02, -5.72734954e-01, -1.55539156e+00,\n",
       "          -1.88960029e+00,  3.54281002e-01, -6.25424359e-01,\n",
       "           4.97927516e-01,  1.73398882e+00, -1.25812012e+00,\n",
       "           8.12994598e-02,  1.76327984e+00, -4.56189929e-01,\n",
       "           6.39119767e-02,  2.24415297e-01, -1.10202764e+00,\n",
       "           7.46694623e-01,  1.12920554e+00, -9.15025457e-01,\n",
       "           1.35137655e-01,  5.64982827e-01, -1.58621634e+00,\n",
       "           1.20673181e+00, -1.06878113e-01,  1.71974151e+00,\n",
       "           8.19954076e-01,  3.76281945e-01,  1.15410709e+00,\n",
       "           1.19872497e-01, -1.55284825e-01, -4.63778903e-01,\n",
       "          -9.33632498e-01,  2.61626474e-01,  6.44895921e-01,\n",
       "          -1.79316855e-01,  1.76017582e-01,  3.82453701e-01,\n",
       "          -1.02779513e+00,  8.68299279e-01, -5.98261217e-01,\n",
       "          -3.53351343e-01],\n",
       "         [-9.21762395e-01, -1.15091135e+00, -1.60025673e+00,\n",
       "           5.95303848e-02,  7.10808278e-01,  2.12322866e+00,\n",
       "           7.39984548e-01,  7.50249359e-01,  1.88096845e+00,\n",
       "          -6.87967025e-01,  2.31772401e-03,  4.67703945e-01,\n",
       "           4.16752166e-01, -2.38189006e+00,  3.85046363e-01,\n",
       "           1.27849430e+00, -2.29970293e-01, -3.03293762e+00,\n",
       "          -1.78100591e+00, -9.68999599e-01, -4.32266392e-01,\n",
       "           3.63087998e-01, -1.91947195e+00, -4.73622164e-01,\n",
       "           1.27517257e-01, -3.79675195e-02, -1.59776278e+00,\n",
       "           5.17382529e-01,  1.77404551e+00,  1.75160967e+00,\n",
       "          -4.81389983e-01, -2.80582606e+00, -2.34188366e+00,\n",
       "          -5.39454387e-01, -4.19831721e-01, -6.03653936e-01,\n",
       "          -6.77712584e-01, -1.05433237e+00, -1.04701538e+00,\n",
       "           1.02236775e+00,  1.77165340e-01, -1.39587445e+00,\n",
       "          -1.44711577e+00, -9.93807675e-03, -1.58449430e-01,\n",
       "           1.69037531e-01,  8.17337202e-03, -9.73028810e-01,\n",
       "           1.97358069e-01, -1.19832611e-01,  1.16011162e+00,\n",
       "           8.14500082e-01,  6.58030879e-01, -1.39734646e+00,\n",
       "           5.58711026e-01,  7.51665432e-02,  4.29784380e-01,\n",
       "           1.99619129e+00,  2.28273521e+00, -4.87078925e-02,\n",
       "           1.32208578e+00, -8.71815621e-01, -1.57839737e+00,\n",
       "           8.01145336e-01,  2.64295860e-01, -1.84247726e-01,\n",
       "          -1.08197614e+00, -1.67523895e+00, -1.07616575e+00,\n",
       "           1.13974098e+00, -3.47742723e-01,  3.15932032e-01,\n",
       "          -1.05426237e+00,  1.58515996e+00,  9.94121741e-01,\n",
       "           4.84106654e-01, -1.14462453e-01,  2.13570514e+00,\n",
       "          -8.02069893e-01,  1.48763787e+00,  6.02125657e-01,\n",
       "          -9.38562659e-01, -3.73156591e-01, -1.83896978e+00,\n",
       "          -1.12975767e+00, -6.30876386e-01,  1.31909063e+00,\n",
       "          -3.26647496e-01, -2.09627306e-01,  1.92167604e-01,\n",
       "          -1.65012882e+00,  1.14886702e+00,  3.73466462e+00,\n",
       "           7.18254518e-01,  4.41657916e-01,  2.49285965e-01,\n",
       "          -1.24893696e-01,  3.83090190e-01, -1.04240011e+00,\n",
       "          -1.46634317e+00],\n",
       "         [ 6.39471356e-01, -8.84370346e-01,  9.66144791e-01,\n",
       "          -4.86714666e-01,  1.09166767e+00, -6.56021690e-01,\n",
       "          -7.43121262e-01, -5.86287725e-01,  1.44677637e+00,\n",
       "          -9.70960236e-01,  1.64461393e+00, -6.14420267e-02,\n",
       "           1.06327781e+00, -9.26391591e-01, -4.38002299e-01,\n",
       "           6.46311204e-01, -6.86841011e-01,  1.36962045e+00,\n",
       "           3.83286671e-01, -1.05234273e-01,  2.84758198e-01,\n",
       "           6.64616424e-01, -1.02704109e-01,  7.40390495e-01,\n",
       "           1.01558762e+00,  9.61339865e-01,  2.07947787e-01,\n",
       "          -1.68616781e+00, -1.22386074e+00,  1.75227419e-01,\n",
       "           8.64017200e-01,  1.28308837e+00, -3.03273354e-01,\n",
       "          -7.50441100e-01,  9.74818621e-01, -4.03993601e-01,\n",
       "           1.22650944e+00,  3.77588286e-01,  1.61302728e-01,\n",
       "          -3.87346383e-01, -5.89614858e-01, -1.82247050e+00,\n",
       "          -1.22316484e+00,  1.43523018e+00, -2.54707268e-01,\n",
       "          -5.90242040e-01,  1.89962145e+00, -1.58717178e+00,\n",
       "           3.24206047e-02,  1.04739307e-01, -1.74221875e-01,\n",
       "           3.25307917e-01, -1.43793788e+00, -2.28366433e+00,\n",
       "           9.27737535e-01, -1.12177664e+00,  2.25309285e+00,\n",
       "          -3.39924714e-01,  2.12884609e-01, -2.01331011e-02,\n",
       "          -5.48333086e-01,  1.11265363e+00,  2.89537101e-01,\n",
       "          -5.12147260e-01, -7.29750953e-01, -4.47997502e-01,\n",
       "           1.42974486e+00, -2.78905908e-02, -6.69975190e-01,\n",
       "          -8.38280707e-01, -2.63000825e-01,  4.57699167e-02,\n",
       "          -1.43615974e+00,  2.00903270e-01,  3.79280876e+00,\n",
       "          -6.47843253e-01,  1.07971189e+00,  1.38243545e+00,\n",
       "          -1.07131827e+00,  6.37286185e-01,  9.11974452e-01,\n",
       "          -3.39430355e-01,  3.50392190e-01,  9.83513053e-01,\n",
       "          -1.85521701e+00,  1.56993397e+00, -9.57801967e-01,\n",
       "           2.80460810e-01, -1.07729946e+00, -7.47031907e-01,\n",
       "          -8.19672972e-01,  1.39406046e+00, -9.87683886e-02,\n",
       "           1.97473384e-01,  1.92970844e+00, -1.80035681e-01,\n",
       "           8.80372400e-02, -1.20219911e+00,  1.03811002e-01,\n",
       "           7.53478447e-01],\n",
       "         [-8.27784902e-01, -1.09348338e+00, -2.33811570e+00,\n",
       "          -1.14470619e+00,  7.92318525e-02,  2.84433901e+00,\n",
       "           6.27783631e-01, -7.87198811e-01, -3.26712752e-01,\n",
       "          -2.93302781e-01,  4.59254980e-01, -1.38385584e-01,\n",
       "          -6.27645987e-01,  3.56926312e-01, -1.92658711e-01,\n",
       "           1.09799267e+00,  3.28170076e-02, -7.42372222e-01,\n",
       "          -1.47776561e+00,  3.69763434e-01,  1.51886289e+00,\n",
       "          -1.58666420e+00,  2.98103120e-01,  4.72348398e-01,\n",
       "          -1.61636855e+00,  1.13204074e+00, -3.22116141e-01,\n",
       "          -4.66718678e-01, -3.84010383e-02,  5.05017556e-01,\n",
       "          -1.29093912e+00,  1.51042461e+00, -7.00671529e-01,\n",
       "          -3.49425962e-01, -6.21823203e-01, -1.01468116e+00,\n",
       "           6.66264353e-02, -7.19704252e-01,  1.51579357e+00,\n",
       "          -1.57806102e+00, -6.39781403e-01, -2.47151468e-01,\n",
       "           5.19900389e-01, -1.22214950e+00, -1.97854072e-02,\n",
       "           7.91300755e-02, -1.60579151e+00,  3.68146623e-02,\n",
       "          -9.93841250e-01,  3.13057558e-01, -5.75085508e-01,\n",
       "          -3.42426161e-01,  1.31586205e+00, -2.47596141e-01,\n",
       "          -2.99967210e-01,  1.21369822e+00, -1.42110014e+00,\n",
       "          -2.79953177e-01,  2.01894610e-01,  3.99922263e-01,\n",
       "           2.48757187e-01, -1.71188253e+00,  8.04583014e-01,\n",
       "           1.02523149e-01, -8.53093974e-01,  5.49550488e-01,\n",
       "          -5.18753563e-01, -7.31727536e-01, -8.96674104e-01,\n",
       "          -4.87734052e-01, -4.60659242e-01, -4.12209668e-02,\n",
       "          -1.18860298e+00, -1.93585595e+00,  2.54360853e-02,\n",
       "           3.89234674e-01,  1.57743654e+00, -9.83263218e-01,\n",
       "           2.88665874e-01,  8.31996243e-01, -5.92554180e-01,\n",
       "          -7.65828037e-01, -1.43569373e-01, -7.00907651e-01,\n",
       "          -1.84987736e+00, -4.30025799e-02, -2.08572267e+00,\n",
       "           2.00834268e+00, -1.21102197e+00,  8.95974733e-01,\n",
       "          -7.98805316e-01,  3.17604880e-01,  1.08275759e+00,\n",
       "          -5.17391454e-02, -1.58917348e+00,  2.11391170e-01,\n",
       "           1.24918213e+00,  4.86690300e-01,  7.56885985e-01,\n",
       "          -1.83836584e+00]]),\n",
       "  array([0., 0., 0., 0., 0., 0., 0., 0., 0., 0., 0., 0., 0., 0., 0., 0., 0.,\n",
       "         0., 0., 0., 0., 0., 0., 0., 0., 0., 0., 0., 0., 0., 0., 0., 0., 0.,\n",
       "         0., 0., 0., 0., 0., 0., 0., 0., 0., 0., 0., 0., 0., 0., 0., 0., 0.,\n",
       "         0., 0., 0., 0., 0., 0., 0., 0., 0., 0., 0., 0., 0., 0., 0., 0., 0.,\n",
       "         0., 0., 0., 0., 0., 0., 0., 0., 0., 0., 0., 0., 0., 0., 0., 0., 0.,\n",
       "         0., 0., 0., 0., 0., 0., 0., 0., 0., 0., 0., 0., 0., 0., 0.]),\n",
       "  __main__.ReLU]]"
      ]
     },
     "execution_count": 27,
     "metadata": {},
     "output_type": "execute_result"
    }
   ],
   "source": [
    "model.layers"
   ]
  },
  {
   "cell_type": "code",
   "execution_count": 28,
   "id": "89352b16-49a3-4638-86f6-b0a46d2a075d",
   "metadata": {
    "tags": []
   },
   "outputs": [],
   "source": [
    "model.add(100,activation='sigmoid')"
   ]
  },
  {
   "cell_type": "code",
   "execution_count": 29,
   "id": "21bd76f9-eec5-450d-b525-292092558c43",
   "metadata": {
    "tags": []
   },
   "outputs": [
    {
     "data": {
      "text/plain": [
       "'Building Success'"
      ]
     },
     "execution_count": 29,
     "metadata": {},
     "output_type": "execute_result"
    }
   ],
   "source": [
    "model._build()"
   ]
  },
  {
   "cell_type": "code",
   "execution_count": 30,
   "id": "1df85f9f-d208-4fae-a824-9d3b767a7bfb",
   "metadata": {
    "tags": []
   },
   "outputs": [],
   "source": [
    "pred = model.predict(np.random.randn(7,10))"
   ]
  },
  {
   "cell_type": "code",
   "execution_count": 31,
   "id": "118de6a7-9305-4f56-94d8-4798d01659fc",
   "metadata": {
    "collapsed": true,
    "jupyter": {
     "outputs_hidden": true
    },
    "tags": []
   },
   "outputs": [
    {
     "data": {
      "text/plain": [
       "array([[4.06839980e-07, 1.00000000e+00, 1.81042480e-15, 2.91756317e-07,\n",
       "        1.19008222e-06, 4.19735545e-01, 9.99951397e-01, 9.99999610e-01,\n",
       "        1.00000000e+00, 9.99983602e-01, 9.59327281e-01, 8.20546196e-01,\n",
       "        4.81859840e-13, 9.97646780e-01, 3.80649887e-01, 9.73024765e-08,\n",
       "        6.91925142e-02, 7.85665756e-06, 2.63614865e-01, 2.00975475e-07,\n",
       "        1.16585233e-01, 9.99988327e-01, 7.10919647e-01, 1.00000000e+00,\n",
       "        9.70885081e-01, 4.70611350e-07, 6.25133919e-01, 9.99999998e-01,\n",
       "        9.41937775e-06, 9.99996633e-01, 2.06270467e-02, 9.01535567e-01,\n",
       "        5.89172789e-01, 1.00000000e+00, 8.80883387e-01, 1.57051367e-02,\n",
       "        3.28800826e-11, 8.61689548e-02, 2.60572819e-23, 9.99999994e-01,\n",
       "        7.32283477e-23, 9.71719097e-01, 9.44751067e-01, 1.00000000e+00,\n",
       "        9.99999980e-01, 9.99996608e-01, 1.00000000e+00, 4.39126200e-10,\n",
       "        9.96014120e-01, 2.17258169e-09, 6.02536336e-01, 1.23576491e-12,\n",
       "        9.99998944e-01, 5.08149821e-13, 2.41228642e-01, 9.04457798e-03,\n",
       "        5.06913121e-01, 9.99393455e-01, 6.08879328e-08, 9.99996468e-01,\n",
       "        1.64833111e-05, 1.07264407e-04, 7.32313294e-01, 9.99999570e-01,\n",
       "        2.40317708e-08, 9.97015095e-01, 1.00039440e-12, 6.27261747e-01,\n",
       "        4.57657972e-02, 7.49973947e-12, 1.00000000e+00, 8.25998904e-10,\n",
       "        3.20143839e-03, 9.99999999e-01, 9.99999947e-01, 9.99999971e-01,\n",
       "        9.99546263e-01, 9.99996578e-01, 4.89839713e-10, 9.50906447e-13,\n",
       "        6.86780758e-10, 9.99999996e-01, 2.30948191e-13, 1.00000000e+00,\n",
       "        9.03115125e-01, 2.39575061e-03, 9.93765231e-01, 9.40232036e-01,\n",
       "        9.99968328e-01, 9.99968210e-01, 1.00000000e+00, 9.93747413e-01,\n",
       "        1.58465876e-27, 9.99999693e-01, 5.00934221e-08, 9.01224320e-01,\n",
       "        1.48079405e-09, 9.99948503e-01, 2.30434834e-14, 9.99800236e-01],\n",
       "       [9.51726147e-01, 1.00000000e+00, 2.80476956e-19, 4.07126047e-09,\n",
       "        9.99999992e-01, 2.09057476e-04, 3.93945460e-07, 9.99975235e-01,\n",
       "        9.99627802e-01, 1.00000000e+00, 9.99999990e-01, 9.99958442e-01,\n",
       "        2.94457408e-10, 3.46807608e-13, 1.00000000e+00, 1.18519493e-13,\n",
       "        1.25498432e-10, 4.48010012e-11, 7.64898844e-19, 9.99964907e-01,\n",
       "        1.63054724e-10, 9.99999974e-01, 9.66743321e-01, 4.21486397e-01,\n",
       "        9.74826839e-01, 9.99995404e-01, 9.89676376e-01, 1.00000000e+00,\n",
       "        4.57889398e-16, 1.00000000e+00, 1.29185557e-01, 9.97277023e-01,\n",
       "        1.22443660e-16, 9.99901597e-01, 7.27663794e-07, 8.53271831e-15,\n",
       "        9.99999987e-01, 9.99999992e-01, 5.85899389e-17, 1.00000000e+00,\n",
       "        4.65916970e-12, 3.65312032e-07, 1.00000000e+00, 9.99999995e-01,\n",
       "        7.19290434e-04, 9.93579584e-01, 1.00000000e+00, 1.00000000e+00,\n",
       "        9.99999908e-01, 9.81207109e-01, 2.68176663e-08, 2.06772701e-28,\n",
       "        1.00000000e+00, 9.99999294e-01, 3.04084737e-09, 2.51357264e-09,\n",
       "        9.99289662e-01, 9.93342502e-01, 2.00878816e-04, 1.00000000e+00,\n",
       "        9.07538736e-07, 9.99999999e-01, 9.99998490e-01, 2.31995994e-14,\n",
       "        2.33964038e-01, 8.51592313e-04, 9.99999994e-01, 9.94504013e-01,\n",
       "        1.65519140e-08, 3.35655110e-08, 2.18436209e-02, 3.64430788e-21,\n",
       "        2.44739477e-17, 9.99973820e-01, 9.36794680e-01, 9.06157975e-01,\n",
       "        1.13275665e-07, 1.00000000e+00, 1.84238298e-03, 6.15958749e-25,\n",
       "        1.00000000e+00, 9.99986878e-01, 9.99960223e-01, 1.00000000e+00,\n",
       "        9.99999977e-01, 2.01890815e-06, 1.89089388e-15, 1.00000000e+00,\n",
       "        9.96592351e-01, 1.00000000e+00, 9.99999999e-01, 9.99996576e-01,\n",
       "        1.06241783e-15, 9.98666558e-01, 2.57620656e-09, 9.48832366e-01,\n",
       "        4.25502101e-04, 9.99999923e-01, 2.05446471e-25, 1.00000000e+00],\n",
       "       [5.55870248e-04, 9.95576415e-01, 3.04513568e-06, 1.51514934e-08,\n",
       "        1.35036342e-16, 2.43008088e-06, 1.01150442e-10, 1.00000000e+00,\n",
       "        1.39385181e-01, 1.00000000e+00, 1.85712267e-04, 9.99999998e-01,\n",
       "        4.82634113e-03, 1.13839960e-01, 7.67782856e-04, 5.44247886e-10,\n",
       "        1.72616903e-02, 1.17566279e-08, 1.00000000e+00, 1.00000000e+00,\n",
       "        9.99985689e-01, 9.92624728e-01, 9.99997341e-01, 1.00000000e+00,\n",
       "        9.99997543e-01, 6.03295128e-13, 9.99999165e-01, 1.00000000e+00,\n",
       "        5.20352010e-04, 9.99999998e-01, 9.99168256e-01, 1.41478846e-16,\n",
       "        8.14319744e-09, 5.61084239e-09, 1.29362994e-08, 2.72310879e-03,\n",
       "        2.28833337e-14, 1.00000000e+00, 4.76025975e-06, 9.55594660e-18,\n",
       "        2.47780979e-25, 6.81342754e-08, 5.37125141e-04, 9.99988734e-01,\n",
       "        3.36356096e-02, 9.99999954e-01, 9.99998921e-01, 1.00000000e+00,\n",
       "        6.65666264e-03, 1.07503642e-05, 8.73222815e-01, 1.63289192e-08,\n",
       "        1.29493339e-05, 8.28304942e-16, 3.25427671e-07, 1.00000000e+00,\n",
       "        9.99999985e-01, 1.87994657e-08, 1.79593422e-12, 7.15300873e-16,\n",
       "        9.99999966e-01, 2.86035467e-10, 9.99999982e-01, 9.97387274e-01,\n",
       "        9.07833435e-12, 9.99999998e-01, 1.62050140e-02, 4.71751283e-01,\n",
       "        6.37705370e-01, 9.72693232e-01, 1.00000000e+00, 4.89677096e-08,\n",
       "        9.37748233e-01, 9.99996489e-01, 9.99792899e-01, 1.00000000e+00,\n",
       "        9.99830677e-01, 9.99999997e-01, 9.99791675e-01, 3.86024235e-05,\n",
       "        9.98714096e-01, 1.02479869e-04, 2.53341293e-07, 1.00000000e+00,\n",
       "        2.26915397e-01, 9.99274426e-01, 1.00000000e+00, 2.05260405e-12,\n",
       "        2.46460057e-05, 1.00000000e+00, 9.99658306e-01, 1.00000000e+00,\n",
       "        1.39287372e-07, 7.31020560e-03, 9.99999998e-01, 3.67544880e-01,\n",
       "        9.52914950e-06, 9.99999977e-01, 6.80966933e-01, 2.47376571e-08],\n",
       "       [3.74090678e-03, 9.70044034e-01, 2.67404651e-15, 1.29599078e-06,\n",
       "        8.08867668e-09, 8.01546236e-01, 7.21695096e-01, 1.00000000e+00,\n",
       "        9.99999569e-01, 2.67187409e-02, 3.18699926e-12, 4.59341040e-03,\n",
       "        9.99711772e-01, 9.99999998e-01, 6.28067323e-10, 2.87574229e-02,\n",
       "        2.05560520e-04, 7.98226122e-01, 9.99992446e-01, 1.00000000e+00,\n",
       "        9.99992449e-01, 1.00000000e+00, 3.15729940e-03, 1.00000000e+00,\n",
       "        9.98322889e-01, 1.71486226e-12, 2.60640980e-03, 1.00000000e+00,\n",
       "        9.99794220e-01, 9.99999997e-01, 4.48819784e-03, 1.07791142e-14,\n",
       "        2.49463359e-13, 3.73941449e-02, 1.95367107e-02, 1.00000000e+00,\n",
       "        9.95916326e-01, 1.00000000e+00, 9.93803019e-01, 9.70548007e-23,\n",
       "        1.12321857e-10, 6.26306496e-05, 6.04735046e-01, 9.99999976e-01,\n",
       "        9.99993909e-01, 1.00000000e+00, 9.96486922e-01, 8.38359810e-01,\n",
       "        9.43358187e-01, 9.95293358e-01, 1.82996128e-11, 6.75287287e-10,\n",
       "        5.28793470e-02, 5.66450381e-21, 2.52217971e-04, 9.99999975e-01,\n",
       "        9.99999998e-01, 9.85430738e-01, 1.35548070e-12, 8.06874892e-05,\n",
       "        1.00000000e+00, 3.77005567e-02, 9.99999998e-01, 2.09729415e-03,\n",
       "        1.96867812e-04, 9.74956765e-01, 9.05170584e-01, 6.05294790e-01,\n",
       "        2.47898088e-01, 9.99969789e-01, 1.00000000e+00, 2.97003159e-06,\n",
       "        1.83812776e-04, 9.99989959e-01, 1.88442889e-07, 6.45330463e-04,\n",
       "        7.15972561e-01, 9.99997560e-01, 9.99974500e-01, 4.00687611e-05,\n",
       "        5.18828946e-03, 2.77480094e-01, 9.99998809e-01, 1.00000000e+00,\n",
       "        9.99960190e-01, 9.99995451e-01, 9.99999993e-01, 9.99987565e-01,\n",
       "        9.99633381e-01, 9.99998149e-01, 1.31420995e-05, 1.00000000e+00,\n",
       "        2.82843171e-07, 9.99854495e-01, 1.00116295e-01, 9.98921120e-01,\n",
       "        6.40217658e-06, 9.99992829e-01, 2.76730822e-04, 8.31244836e-11],\n",
       "       [9.99905939e-01, 1.33015156e-02, 7.18466419e-07, 3.46486101e-07,\n",
       "        3.52331056e-05, 4.50923961e-02, 2.75166349e-18, 3.38948078e-06,\n",
       "        3.72587558e-07, 9.99921625e-01, 1.07368548e-04, 9.99999855e-01,\n",
       "        5.05202589e-01, 1.84787839e-02, 9.28289654e-01, 9.99999433e-01,\n",
       "        9.33466803e-08, 9.68856859e-01, 4.86196839e-05, 9.99998794e-01,\n",
       "        9.99997680e-01, 9.92544814e-01, 9.29643876e-08, 9.10031251e-01,\n",
       "        9.99908883e-01, 3.78960923e-03, 9.74962221e-06, 9.99999794e-01,\n",
       "        9.30182819e-01, 9.99952626e-01, 9.31045184e-01, 2.33554644e-06,\n",
       "        7.94851694e-16, 4.72343790e-07, 4.40965251e-04, 3.26898623e-01,\n",
       "        9.99999974e-01, 1.00000000e+00, 4.91113383e-08, 4.76879164e-06,\n",
       "        9.99999989e-01, 1.05552724e-12, 1.00000000e+00, 9.97702374e-01,\n",
       "        1.00000000e+00, 1.03125625e-01, 9.99286901e-02, 1.00000000e+00,\n",
       "        7.38722856e-01, 9.99273248e-01, 2.11066740e-02, 9.38384909e-01,\n",
       "        2.99769792e-10, 1.88047185e-09, 2.36099028e-04, 2.46384790e-05,\n",
       "        9.99999969e-01, 9.92417140e-01, 1.00000000e+00, 5.42585256e-01,\n",
       "        4.39055637e-05, 9.56479758e-01, 2.37234062e-02, 9.91112835e-01,\n",
       "        1.26469394e-03, 2.78158091e-03, 9.66655782e-01, 5.22597767e-10,\n",
       "        9.99383437e-01, 9.99973792e-01, 9.81747619e-01, 7.54670672e-03,\n",
       "        3.42884826e-10, 4.04317763e-10, 8.34764129e-02, 1.42673034e-01,\n",
       "        9.99999863e-01, 1.89697308e-04, 7.31734930e-01, 8.77881147e-01,\n",
       "        9.79115132e-01, 1.00000000e+00, 9.99968970e-01, 9.99997933e-01,\n",
       "        9.99914467e-01, 9.99949617e-01, 6.42240465e-08, 6.01598220e-10,\n",
       "        7.81629168e-03, 9.99999999e-01, 9.99999506e-01, 1.00000000e+00,\n",
       "        4.04837914e-14, 9.27336749e-01, 9.18272961e-01, 9.92989273e-01,\n",
       "        1.00000000e+00, 8.69802435e-09, 7.12696639e-10, 9.99726808e-01],\n",
       "       [5.67685485e-11, 6.03862950e-01, 2.26841744e-18, 4.59572033e-06,\n",
       "        3.35460260e-03, 6.13395005e-10, 1.52658954e-18, 9.99917445e-01,\n",
       "        1.01020410e-10, 3.44435396e-04, 1.44395593e-04, 4.09200885e-01,\n",
       "        8.25408441e-01, 2.09659911e-08, 1.00000000e+00, 2.42494062e-08,\n",
       "        9.98410996e-08, 9.27782438e-01, 9.99999246e-01, 1.00000000e+00,\n",
       "        3.54824411e-12, 9.99999940e-01, 2.57323183e-07, 5.91554270e-02,\n",
       "        9.75621264e-01, 5.19971428e-18, 9.99999547e-01, 9.98528632e-01,\n",
       "        1.71844008e-09, 4.55767902e-05, 1.23478248e-02, 9.00289147e-01,\n",
       "        2.12173766e-09, 1.48086805e-13, 9.24370724e-01, 9.99999961e-01,\n",
       "        9.99999999e-01, 9.99999998e-01, 9.59174406e-10, 4.65684273e-02,\n",
       "        2.11981551e-03, 1.42351405e-10, 1.12598119e-10, 9.98559207e-01,\n",
       "        3.65893205e-03, 9.42509540e-01, 7.16148159e-01, 1.00000000e+00,\n",
       "        2.21530696e-11, 9.99999988e-01, 8.15866707e-01, 2.06218759e-13,\n",
       "        3.56220266e-02, 8.75673854e-13, 1.68140869e-02, 1.15780055e-09,\n",
       "        6.74790361e-01, 1.89389266e-06, 6.77994147e-18, 6.85048321e-01,\n",
       "        1.03534964e-07, 9.83002178e-01, 9.99994003e-01, 3.13036977e-01,\n",
       "        5.64986206e-07, 2.07741987e-04, 9.99995277e-01, 9.99997548e-01,\n",
       "        8.85312806e-05, 9.99971873e-01, 9.99317242e-01, 1.48498668e-22,\n",
       "        1.08986398e-12, 1.07570933e-01, 9.99995352e-01, 9.99964289e-01,\n",
       "        6.56464421e-01, 9.99995718e-01, 9.99999781e-01, 9.18616747e-03,\n",
       "        9.62569802e-01, 9.99960643e-01, 1.00000000e+00, 1.00000000e+00,\n",
       "        8.83323626e-01, 9.91136710e-01, 3.09265738e-08, 1.78211870e-07,\n",
       "        7.67342907e-05, 9.99997456e-01, 6.93377099e-01, 9.99999835e-01,\n",
       "        8.44648897e-03, 3.69543705e-07, 2.95907114e-11, 1.70269418e-02,\n",
       "        8.08343690e-05, 1.05842881e-05, 3.28801072e-12, 3.77575721e-01],\n",
       "       [1.25535123e-07, 9.99999912e-01, 5.97264169e-18, 4.89236453e-03,\n",
       "        2.36065551e-01, 3.91758342e-24, 1.25048999e-14, 9.99999785e-01,\n",
       "        1.32069942e-14, 9.76497567e-01, 9.07612693e-01, 9.99595653e-01,\n",
       "        4.97882164e-18, 8.98619361e-01, 1.00000000e+00, 9.95391308e-01,\n",
       "        4.68842097e-02, 1.00000000e+00, 9.99998183e-01, 1.00000000e+00,\n",
       "        4.32800623e-13, 9.99998165e-01, 9.99999947e-01, 9.99999731e-01,\n",
       "        9.99999998e-01, 1.69816494e-05, 9.99999504e-01, 1.00000000e+00,\n",
       "        2.23030948e-12, 6.12239153e-11, 1.00000000e+00, 8.13495471e-08,\n",
       "        9.99999995e-01, 8.10044338e-13, 1.04098902e-19, 1.00000000e+00,\n",
       "        6.23501194e-04, 3.06541806e-02, 1.17232676e-19, 2.59555892e-02,\n",
       "        2.07411710e-08, 5.16877679e-08, 1.00000000e+00, 1.00000000e+00,\n",
       "        9.99999999e-01, 9.99864913e-01, 9.99985652e-01, 6.57526373e-01,\n",
       "        4.90934831e-14, 7.19473777e-18, 9.99962819e-01, 3.84462479e-13,\n",
       "        1.44561408e-06, 1.46782782e-02, 1.00000000e+00, 2.57751770e-01,\n",
       "        1.00000000e+00, 1.43981336e-04, 2.55914899e-07, 1.81552376e-05,\n",
       "        2.58834775e-03, 9.89912677e-01, 1.56070563e-03, 3.19979064e-01,\n",
       "        9.99009773e-01, 3.57687977e-04, 9.99658133e-01, 1.00000000e+00,\n",
       "        9.99999805e-01, 2.18155986e-20, 9.99999999e-01, 2.84250084e-16,\n",
       "        6.55417368e-24, 9.99999979e-01, 9.33843619e-02, 3.18005168e-03,\n",
       "        9.99999998e-01, 1.00000000e+00, 9.99999996e-01, 4.11913521e-21,\n",
       "        1.15167478e-05, 9.99999989e-01, 1.22358440e-07, 9.99409960e-01,\n",
       "        1.06647689e-16, 7.31871327e-07, 9.99893784e-01, 9.99999970e-01,\n",
       "        1.56361943e-03, 3.79530303e-06, 9.99936578e-01, 9.99993364e-01,\n",
       "        9.55977580e-01, 3.83748242e-03, 6.66739672e-13, 9.99999995e-01,\n",
       "        4.95494226e-03, 9.99999999e-01, 5.69370995e-08, 1.53927025e-08]])"
      ]
     },
     "execution_count": 31,
     "metadata": {},
     "output_type": "execute_result"
    }
   ],
   "source": [
    "model.y_hat"
   ]
  },
  {
   "cell_type": "code",
   "execution_count": 32,
   "id": "62544cc5-c558-4561-b5a9-2e2d8faa1fd9",
   "metadata": {
    "tags": []
   },
   "outputs": [
    {
     "name": "stdout",
     "output_type": "stream",
     "text": [
      "WARNING:tensorflow:From C:\\Users\\user\\anaconda3\\Lib\\site-packages\\keras\\src\\losses.py:2976: The name tf.losses.sparse_softmax_cross_entropy is deprecated. Please use tf.compat.v1.losses.sparse_softmax_cross_entropy instead.\n",
      "\n"
     ]
    }
   ],
   "source": [
    "# 원핫 만들기\n",
    "from tensorflow.keras.utils import to_categorical"
   ]
  },
  {
   "cell_type": "code",
   "execution_count": 110,
   "id": "2cc52f7e-3e6f-408b-9730-2077a91851b2",
   "metadata": {
    "tags": []
   },
   "outputs": [],
   "source": [
    "model = Net(10)"
   ]
  },
  {
   "cell_type": "code",
   "execution_count": 111,
   "id": "b33eb127-8cd0-4636-8e07-1c3183159674",
   "metadata": {
    "tags": []
   },
   "outputs": [],
   "source": [
    "model.add(256,activation='relu')\n",
    "model.add(128,activation='relu')\n",
    "model.add(10,activation='softmax')"
   ]
  },
  {
   "cell_type": "code",
   "execution_count": 112,
   "id": "8040a38f-9c39-403f-9ee2-468432b3617c",
   "metadata": {
    "tags": []
   },
   "outputs": [],
   "source": [
    "model.compile(lr = 1e-3, loss = 'categorical_crossentropy', metrics = 'accuracy' )"
   ]
  },
  {
   "cell_type": "code",
   "execution_count": 113,
   "id": "b22525bb-f5ee-4ef1-8f3d-9a4fa1e74660",
   "metadata": {
    "tags": []
   },
   "outputs": [
    {
     "name": "stderr",
     "output_type": "stream",
     "text": [
      "100%|██████████████████████████████████████████████████████████████████████████████████| 10/10 [00:00<00:00, 58.02it/s]"
     ]
    },
    {
     "name": "stdout",
     "output_type": "stream",
     "text": [
      "1 ===========> accuracy : 28, loss : 1.4522262764689657\n",
      "2 ===========> accuracy : 28, loss : 1.4500811371767874\n",
      "3 ===========> accuracy : 24, loss : 1.4507105554509732\n",
      "4 ===========> accuracy : 23, loss : 1.4503484416719796\n",
      "5 ===========> accuracy : 21, loss : 1.4485625995897626\n",
      "6 ===========> accuracy : 18, loss : 1.4509833001556278\n",
      "7 ===========> accuracy : 17, loss : 1.452558734075691\n",
      "8 ===========> accuracy : 16, loss : 1.452674569515038\n",
      "9 ===========> accuracy : 15, loss : 1.4545500673675213\n",
      "10 ===========> accuracy : 14, loss : 1.4554686395525793\n"
     ]
    },
    {
     "name": "stderr",
     "output_type": "stream",
     "text": [
      "\n"
     ]
    }
   ],
   "source": [
    "model.fit(x,y)"
   ]
  },
  {
   "cell_type": "code",
   "execution_count": 108,
   "id": "1a6885ce-7f91-4d79-9d33-e328919f8e90",
   "metadata": {
    "tags": []
   },
   "outputs": [
    {
     "name": "stdout",
     "output_type": "stream",
     "text": [
      "----------------------------------------------\n",
      "                Output Shape           Param #\n",
      "==============================================\n",
      "Affine_1        (None, 256)            2816            \n",
      "Affine_2        (None, 128)            32896           \n",
      "Affine_3        (None, 10)             1290            \n",
      "==============================================\n",
      "total params: 37002\n"
     ]
    }
   ],
   "source": [
    "model.summary()"
   ]
  },
  {
   "cell_type": "code",
   "execution_count": 69,
   "id": "3c347ab5-e04d-4e98-95f4-bfa454f5ed2d",
   "metadata": {
    "collapsed": true,
    "jupyter": {
     "outputs_hidden": true
    },
    "tags": []
   },
   "outputs": [
    {
     "data": {
      "text/plain": [
       "{'W1': array([[ 0.33559289, -0.81702083,  0.87268355, ...,  0.14874242,\n",
       "         -0.42441009,  0.16513767],\n",
       "        [ 0.74686563, -0.21252169, -0.35998388, ..., -0.06338192,\n",
       "         -0.40151229,  0.09548316],\n",
       "        [ 0.89855359,  0.87852473,  1.40881309, ..., -0.91126622,\n",
       "          0.06403458, -0.88957202],\n",
       "        ...,\n",
       "        [-1.15470636,  1.66863646,  0.69067728, ...,  1.59756641,\n",
       "         -0.65173524,  0.37102396],\n",
       "        [ 0.07282738,  1.06572709, -0.89471268, ..., -0.0236702 ,\n",
       "          1.12185026, -1.06499767],\n",
       "        [ 0.15063323, -0.06762207,  0.67983569, ...,  1.14418513,\n",
       "         -0.30357481, -0.79537566]]),\n",
       " 'b1': array([ 2.52137126e-01,  2.17673193e+00,  8.54676815e-01,  1.59634710e+00,\n",
       "         2.45499354e+00, -9.43364901e-01,  1.06079245e+00, -7.47038208e-01,\n",
       "         2.08769524e-01, -2.68878902e+00, -2.58380637e+00,  2.16361483e+00,\n",
       "        -1.05079144e+00, -1.13390616e+00, -6.24839891e-02,  3.95192805e-01,\n",
       "         1.10019665e-02,  7.22548293e-01, -2.03959440e+00, -3.79765719e-01,\n",
       "         3.00277781e-01,  1.39617972e+00, -5.16417308e-01,  3.66875077e+00,\n",
       "        -1.67728227e+00, -3.03013238e-01,  2.85900199e-01,  2.67754103e+00,\n",
       "        -7.98910928e-01,  9.65058267e-02,  2.47559520e+00, -8.74824335e-01,\n",
       "        -2.77734281e-01,  6.53729524e-01,  1.21268324e+00,  6.13262837e-01,\n",
       "         6.11171994e-01,  2.22294838e+00,  1.26968804e+00, -8.74333210e-01,\n",
       "        -8.40214633e-01,  5.38668103e-02,  3.51324756e+00, -1.27220629e-03,\n",
       "         1.81259349e+00, -1.12765596e+00, -1.91138434e+00, -1.39163884e+00,\n",
       "         3.95578291e+00,  2.04532329e+00, -2.02578884e+00, -1.02881749e+00,\n",
       "         1.36152806e-01, -8.60012071e-02,  1.20437272e+00,  3.05435583e-01,\n",
       "         8.65779638e-01, -2.59475748e-01,  9.43872275e-01, -2.39858346e+00,\n",
       "        -5.17996752e-01, -5.60993801e-01,  1.08490126e+00, -1.36951583e+00,\n",
       "         1.79911705e+00,  6.73554082e-01,  3.69931556e+00,  2.57218598e+00,\n",
       "         2.82402539e+00,  8.58660348e-01,  1.78377438e+00,  2.81625482e+00,\n",
       "         1.90475535e+00, -2.04880360e-01,  2.82533876e+00,  1.53272464e+00,\n",
       "         3.43140130e+00,  3.63581786e+00, -7.49223738e-01,  1.09312716e+00,\n",
       "        -9.57199592e-01, -1.64132218e+00, -5.96790910e-01, -1.81830922e+00,\n",
       "         5.43796965e-01, -1.42470632e+00,  2.56930080e-01, -7.22008046e-01,\n",
       "         1.35396689e+00, -1.53607598e+00,  8.95072881e-01,  1.34232776e+00,\n",
       "         1.05502396e+00,  3.04779816e+00,  5.72469276e-01,  5.41387152e-01,\n",
       "         5.54260921e-01,  1.54961565e+00, -1.17974332e+00,  7.26426157e-01,\n",
       "         6.43523678e-01, -1.70790141e-01,  4.58703018e-01,  5.96886255e-02,\n",
       "         3.66239084e+00,  4.40136047e+00,  1.30768853e+00,  1.40649436e+00,\n",
       "        -7.03478863e-02,  6.92151613e-02,  2.14370540e+00, -2.88299454e+00,\n",
       "        -4.69413029e-01, -1.01733206e-01,  6.87743809e-01,  3.18458494e-01,\n",
       "         3.59770120e+00,  1.86883783e+00,  2.39487966e+00, -7.77912561e-01,\n",
       "        -3.16580178e+00,  2.68040924e-01,  2.39317042e+00, -2.39528075e-01,\n",
       "        -1.14850551e+00,  1.52800924e+00,  1.51981405e+00,  3.53164139e+00,\n",
       "        -9.73909142e-01, -1.87600363e+00, -1.58230641e-01, -3.13088621e-01,\n",
       "         2.27028415e+00, -7.81249407e-01,  1.27636751e+00,  1.19885318e+00,\n",
       "         1.18583885e+00,  2.25484209e-01,  8.61162905e-01,  2.02721842e+00,\n",
       "         1.48805964e+00,  3.76325275e-01,  2.23519140e-01, -1.66112163e-01,\n",
       "         2.00740891e+00,  2.46268800e-01,  1.95850297e+00, -2.02038471e-01,\n",
       "         4.11263743e+00, -1.78913708e+00,  3.42929073e-01, -1.81017695e+00,\n",
       "         1.36637726e+00,  2.38071708e-01, -2.73547313e+00,  2.85757404e-01,\n",
       "         1.23438433e+00,  3.03974803e+00,  1.49647708e+00,  9.59503638e-01,\n",
       "         1.64032753e+00,  4.19503219e-01, -7.28912518e-01, -1.43549113e+00,\n",
       "        -2.46937288e+00, -3.31917741e+00, -6.15554705e-01,  7.38752820e-01,\n",
       "         1.51384712e+00, -2.03649563e+00,  2.11336967e+00,  2.33797591e-01,\n",
       "         1.74322053e+00,  9.17723361e-01, -2.24820689e+00,  2.32842576e+00,\n",
       "         1.39141364e+00,  2.00927701e+00,  2.19497836e+00,  1.99441086e+00,\n",
       "        -1.12671700e+00,  5.89121903e-01,  1.94565505e+00,  7.05227695e-01,\n",
       "        -7.96449475e-01, -4.93758024e-01,  7.07682733e-01, -9.17402513e-02,\n",
       "        -1.79057691e+00, -9.81304753e-01,  3.57835089e+00,  1.41497405e-01,\n",
       "        -9.24768184e-01,  2.34941603e+00,  1.06669100e+00,  1.12053022e+00,\n",
       "         6.99709136e-01, -1.23226567e-01,  2.28251775e+00,  6.82005461e-01,\n",
       "         1.55454887e+00, -3.72987710e-01,  4.70462335e-01,  2.02324737e+00,\n",
       "         4.98044701e-01, -2.13660374e+00, -1.84055813e+00, -2.24487308e+00,\n",
       "         1.92359548e+00,  5.42652561e-01,  3.21089879e-01,  2.00125167e+00,\n",
       "         1.01339855e+00, -4.68059413e-01, -6.09141894e-01, -1.17711316e+00,\n",
       "        -1.40667215e+00, -1.05447530e+00, -8.30648634e-01, -1.63634826e+00,\n",
       "         3.17771281e-01,  1.57658988e+00,  9.74453379e-02,  1.77503171e+00,\n",
       "         9.71995558e-01,  2.21186115e+00,  1.13017380e+00, -7.92608439e-01,\n",
       "         3.88178042e-01,  1.40555736e+00, -1.02443081e+00,  3.21921206e+00,\n",
       "        -8.59208211e-01, -3.60339527e-01, -7.78441755e-01,  7.89159627e-01,\n",
       "         1.73080074e-01, -4.91834101e-01, -2.36285416e+00,  1.95669371e+00,\n",
       "         2.28158714e+00, -3.38188038e-01,  1.28361945e+00,  2.51439177e+00,\n",
       "        -3.00640092e+00,  2.04978495e-01, -1.90276615e-01, -1.56210654e+00,\n",
       "         1.21700672e+00, -1.44392367e+00, -4.80915308e-01, -3.57083199e-01,\n",
       "         3.05353504e+00, -2.93535447e-01,  1.70953469e+00,  1.70319379e+00]),\n",
       " 'W2': array([[ 0.42416794, -0.2884928 , -0.38982887, ..., -0.07348418,\n",
       "          0.05355206, -0.15048863],\n",
       "        [ 0.68573875, -0.29633016, -0.29288847, ...,  0.0683611 ,\n",
       "          0.0430117 ,  0.00333546],\n",
       "        [ 0.82681639, -0.36737894, -0.20261076, ..., -0.09197132,\n",
       "          0.06903267,  0.05392978],\n",
       "        ...,\n",
       "        [ 0.93962651, -0.26443192, -0.18689103, ..., -0.47354904,\n",
       "         -0.0158872 ,  0.07001286],\n",
       "        [ 0.35860774, -0.19249493, -0.36723987, ..., -0.15090852,\n",
       "         -0.01782102, -0.10867893],\n",
       "        [ 0.78318186, -0.32702105, -0.49324841, ..., -0.02374524,\n",
       "         -0.017126  , -0.05997392]]),\n",
       " 'b2': array([ 0.59571051, -0.22054154, -0.24548814, -0.00859187,  0.48916759,\n",
       "        -0.02602031, -0.40002327,  0.03321508,  0.14506696, -0.20628012,\n",
       "         0.19681929, -0.22978507, -0.28015124, -0.04592556,  0.08080109,\n",
       "        -0.00351738,  0.42107023, -0.24993899,  0.12971922, -0.15670304,\n",
       "        -0.21677239,  0.20596652,  0.53059052,  0.0476976 ,  0.78264936,\n",
       "         0.03270236, -0.18133922, -0.05041807,  0.39767502,  0.62650507,\n",
       "         0.68516269,  0.33341127, -0.19028799,  0.28811072,  0.03121069,\n",
       "         0.28766692, -0.41769096,  0.04776538,  0.17172422,  0.06353051,\n",
       "         0.44809302,  0.3098247 ,  0.01782534, -0.53652167,  0.03873488,\n",
       "        -0.15189766,  0.00979171,  0.25489093,  0.11927038, -0.14243542,\n",
       "         0.07202443,  0.08841448,  0.60624409,  0.05413836,  0.05139697,\n",
       "         0.23186149,  0.18525142,  0.15434423,  0.08197157,  0.2787349 ,\n",
       "         0.82882507,  0.35482704,  0.06010227,  0.06681974,  0.06278782,\n",
       "         0.18279788, -0.31349225,  0.08288791,  0.27597734, -0.17131208,\n",
       "        -0.22268919,  0.76277863,  0.45179921, -0.24611642,  0.02228422,\n",
       "        -0.02857309, -0.06059639,  0.4609933 , -0.03844915, -0.07831284,\n",
       "        -0.19924468, -0.0590386 ,  0.00275178, -0.05309858,  0.10875018,\n",
       "        -0.15563335,  0.01235952, -0.00616155,  0.59740618, -0.32806157,\n",
       "        -0.4396883 ,  0.2029233 ,  0.09456772, -0.37836989, -0.33398857,\n",
       "        -0.11308946, -0.0716891 , -0.14094676, -0.24426274, -0.17783043,\n",
       "         0.03259325,  0.3046563 , -0.35420657,  0.24744291,  0.05593173,\n",
       "         0.09280723, -0.27532825, -0.00789681,  0.36703539, -0.66899477,\n",
       "        -0.00443834, -0.09410286,  0.34283178,  0.30890534,  0.48327202,\n",
       "        -0.01985175, -0.1041767 , -0.2475969 , -0.01596203,  0.13225674,\n",
       "         0.03344015,  0.21278575,  0.37003664, -0.30828235,  0.23861451,\n",
       "        -0.1028683 ,  0.00516396, -0.02270291]),\n",
       " 'W3': array([[1.32501576e-02, 5.02219867e-02, 4.08306044e+00, ...,\n",
       "         1.13175888e-01, 4.47709812e+00, 5.39957898e+00],\n",
       "        [2.62193812e-03, 1.22937974e-01, 3.57105757e+00, ...,\n",
       "         1.12266192e-01, 5.20428178e+00, 5.15017765e+00],\n",
       "        [3.59230263e-03, 1.02350039e-01, 6.55415933e-01, ...,\n",
       "         7.40766491e-02, 1.96403356e+00, 4.80215875e+00],\n",
       "        ...,\n",
       "        [1.67725003e-02, 1.05600964e-02, 1.10430816e+00, ...,\n",
       "         9.35018296e-02, 1.00608876e+00, 1.39728193e+00],\n",
       "        [1.26051579e-04, 3.89255131e-02, 4.65325477e-02, ...,\n",
       "         3.75177673e-02, 2.53397424e-01, 2.15891427e-01],\n",
       "        [3.76853701e-03, 2.75830246e-02, 2.13838621e+00, ...,\n",
       "         3.59115065e-02, 1.03988322e+00, 4.13575183e+00]]),\n",
       " 'b3': array([0.00115767, 0.00586267, 0.21224623, 0.26050838, 0.00810536,\n",
       "        0.01582149, 0.11106303, 0.00940474, 0.18159689, 0.19423353])}"
      ]
     },
     "execution_count": 69,
     "metadata": {},
     "output_type": "execute_result"
    }
   ],
   "source": [
    "x = np.random.randn(1000,10)\n",
    "y = to_categorical(np.random.randint(0,10,1000))\n",
    "model.gradient(x,y)"
   ]
  },
  {
   "cell_type": "code",
   "execution_count": 70,
   "id": "97d4dee7-cb7f-4ce0-806e-b3eb0778289b",
   "metadata": {
    "tags": []
   },
   "outputs": [
    {
     "data": {
      "text/plain": [
       "128"
      ]
     },
     "execution_count": 70,
     "metadata": {},
     "output_type": "execute_result"
    }
   ],
   "source": [
    "model.W['Affine_2'].db.size"
   ]
  },
  {
   "cell_type": "code",
   "execution_count": 55,
   "id": "38efc027-0d20-4628-829f-1fb0e6e1f9ca",
   "metadata": {
    "tags": []
   },
   "outputs": [],
   "source": [
    "from tqdm import tqdm\n",
    "from time import time, sleep"
   ]
  },
  {
   "cell_type": "code",
   "execution_count": 58,
   "id": "0e18c73c-af70-4b53-b265-c6d34d5e8d57",
   "metadata": {
    "collapsed": true,
    "jupyter": {
     "outputs_hidden": true
    },
    "tags": []
   },
   "outputs": [
    {
     "name": "stderr",
     "output_type": "stream",
     "text": [
      "  5%|████▏                                                                              | 1/20 [00:01<00:19,  1.00s/it]"
     ]
    },
    {
     "name": "stdout",
     "output_type": "stream",
     "text": [
      "0\n"
     ]
    },
    {
     "name": "stderr",
     "output_type": "stream",
     "text": [
      " 10%|████████▎                                                                          | 2/20 [00:02<00:18,  1.00s/it]"
     ]
    },
    {
     "name": "stdout",
     "output_type": "stream",
     "text": [
      "1\n"
     ]
    },
    {
     "name": "stderr",
     "output_type": "stream",
     "text": [
      " 15%|████████████▍                                                                      | 3/20 [00:03<00:17,  1.00s/it]"
     ]
    },
    {
     "name": "stdout",
     "output_type": "stream",
     "text": [
      "2\n"
     ]
    },
    {
     "name": "stderr",
     "output_type": "stream",
     "text": [
      " 20%|████████████████▌                                                                  | 4/20 [00:04<00:16,  1.00s/it]"
     ]
    },
    {
     "name": "stdout",
     "output_type": "stream",
     "text": [
      "3\n"
     ]
    },
    {
     "name": "stderr",
     "output_type": "stream",
     "text": [
      " 25%|████████████████████▊                                                              | 5/20 [00:05<00:15,  1.00s/it]"
     ]
    },
    {
     "name": "stdout",
     "output_type": "stream",
     "text": [
      "4\n"
     ]
    },
    {
     "name": "stderr",
     "output_type": "stream",
     "text": [
      " 30%|████████████████████████▉                                                          | 6/20 [00:06<00:14,  1.00s/it]"
     ]
    },
    {
     "name": "stdout",
     "output_type": "stream",
     "text": [
      "5\n"
     ]
    },
    {
     "name": "stderr",
     "output_type": "stream",
     "text": [
      " 35%|█████████████████████████████                                                      | 7/20 [00:07<00:13,  1.00s/it]"
     ]
    },
    {
     "name": "stdout",
     "output_type": "stream",
     "text": [
      "6\n"
     ]
    },
    {
     "name": "stderr",
     "output_type": "stream",
     "text": [
      " 40%|█████████████████████████████████▏                                                 | 8/20 [00:08<00:12,  1.00s/it]"
     ]
    },
    {
     "name": "stdout",
     "output_type": "stream",
     "text": [
      "7\n"
     ]
    },
    {
     "name": "stderr",
     "output_type": "stream",
     "text": [
      " 45%|█████████████████████████████████████▎                                             | 9/20 [00:09<00:11,  1.00s/it]"
     ]
    },
    {
     "name": "stdout",
     "output_type": "stream",
     "text": [
      "8\n"
     ]
    },
    {
     "name": "stderr",
     "output_type": "stream",
     "text": [
      " 50%|█████████████████████████████████████████                                         | 10/20 [00:10<00:10,  1.00s/it]"
     ]
    },
    {
     "name": "stdout",
     "output_type": "stream",
     "text": [
      "9\n"
     ]
    },
    {
     "name": "stderr",
     "output_type": "stream",
     "text": [
      " 55%|█████████████████████████████████████████████                                     | 11/20 [00:11<00:09,  1.00s/it]"
     ]
    },
    {
     "name": "stdout",
     "output_type": "stream",
     "text": [
      "10\n"
     ]
    },
    {
     "name": "stderr",
     "output_type": "stream",
     "text": [
      " 60%|█████████████████████████████████████████████████▏                                | 12/20 [00:12<00:08,  1.00s/it]"
     ]
    },
    {
     "name": "stdout",
     "output_type": "stream",
     "text": [
      "11\n"
     ]
    },
    {
     "name": "stderr",
     "output_type": "stream",
     "text": [
      " 65%|█████████████████████████████████████████████████████▎                            | 13/20 [00:13<00:07,  1.00s/it]"
     ]
    },
    {
     "name": "stdout",
     "output_type": "stream",
     "text": [
      "12\n"
     ]
    },
    {
     "name": "stderr",
     "output_type": "stream",
     "text": [
      " 70%|█████████████████████████████████████████████████████████▍                        | 14/20 [00:14<00:06,  1.00s/it]"
     ]
    },
    {
     "name": "stdout",
     "output_type": "stream",
     "text": [
      "13\n"
     ]
    },
    {
     "name": "stderr",
     "output_type": "stream",
     "text": [
      " 75%|█████████████████████████████████████████████████████████████▌                    | 15/20 [00:15<00:05,  1.00s/it]"
     ]
    },
    {
     "name": "stdout",
     "output_type": "stream",
     "text": [
      "14\n"
     ]
    },
    {
     "name": "stderr",
     "output_type": "stream",
     "text": [
      " 80%|█████████████████████████████████████████████████████████████████▌                | 16/20 [00:16<00:04,  1.00s/it]"
     ]
    },
    {
     "name": "stdout",
     "output_type": "stream",
     "text": [
      "15\n"
     ]
    },
    {
     "name": "stderr",
     "output_type": "stream",
     "text": [
      " 85%|█████████████████████████████████████████████████████████████████████▋            | 17/20 [00:17<00:03,  1.00s/it]"
     ]
    },
    {
     "name": "stdout",
     "output_type": "stream",
     "text": [
      "16\n"
     ]
    },
    {
     "name": "stderr",
     "output_type": "stream",
     "text": [
      " 90%|█████████████████████████████████████████████████████████████████████████▊        | 18/20 [00:18<00:02,  1.00s/it]"
     ]
    },
    {
     "name": "stdout",
     "output_type": "stream",
     "text": [
      "17\n"
     ]
    },
    {
     "name": "stderr",
     "output_type": "stream",
     "text": [
      " 95%|█████████████████████████████████████████████████████████████████████████████▉    | 19/20 [00:19<00:01,  1.00s/it]"
     ]
    },
    {
     "name": "stdout",
     "output_type": "stream",
     "text": [
      "18\n"
     ]
    },
    {
     "name": "stderr",
     "output_type": "stream",
     "text": [
      "100%|██████████████████████████████████████████████████████████████████████████████████| 20/20 [00:20<00:00,  1.00s/it]"
     ]
    },
    {
     "name": "stdout",
     "output_type": "stream",
     "text": [
      "19\n"
     ]
    },
    {
     "name": "stderr",
     "output_type": "stream",
     "text": [
      "\n"
     ]
    }
   ],
   "source": [
    "for i in tqdm(range(20)):\n",
    "    sleep(1)\n",
    "    print(i)"
   ]
  },
  {
   "cell_type": "code",
   "execution_count": 114,
   "id": "a16ff3a6-a3e3-4be3-814c-47e161bafcf3",
   "metadata": {
    "tags": []
   },
   "outputs": [],
   "source": [
    "from tensorflow.keras.datasets import mnist\n",
    "from tensorflow.keras.utils import to_categorical"
   ]
  },
  {
   "cell_type": "code",
   "execution_count": 148,
   "id": "8242acb5-ab1b-498a-a972-8b0416c2d920",
   "metadata": {
    "tags": []
   },
   "outputs": [],
   "source": [
    "(X_train, y_train), (X_test, y_test) = mnist.load_data()"
   ]
  },
  {
   "cell_type": "code",
   "execution_count": 149,
   "id": "dfb29131-15a5-460a-9be2-e1948fd51518",
   "metadata": {
    "tags": []
   },
   "outputs": [],
   "source": [
    "X_train = X_train.reshape(-1,784)\n",
    "X_test = X_test.reshape(-1,784)"
   ]
  },
  {
   "cell_type": "code",
   "execution_count": 150,
   "id": "16c8afc8-18f6-41ba-89fb-5a77a16eb408",
   "metadata": {
    "tags": []
   },
   "outputs": [],
   "source": [
    "y_train = to_categorical(y_train)\n",
    "y_test = to_categorical(y_test)"
   ]
  },
  {
   "cell_type": "code",
   "execution_count": 151,
   "id": "d076409f-c9ae-4ea6-9852-8f6390b131b1",
   "metadata": {
    "tags": []
   },
   "outputs": [],
   "source": [
    "model = Net(784)"
   ]
  },
  {
   "cell_type": "code",
   "execution_count": 152,
   "id": "e4fa3dc7-7cd0-4a1b-bed6-1e2bb3d90f51",
   "metadata": {
    "tags": []
   },
   "outputs": [],
   "source": [
    "model.add(1024,activation='relu')\n",
    "model.add(512,activation='relu')\n",
    "model.add(256,activation='relu')\n",
    "model.add(128,activation='relu')\n",
    "model.add(10,activation='softmax')"
   ]
  },
  {
   "cell_type": "code",
   "execution_count": 153,
   "id": "0823446a-cb42-4f58-b987-b8281a6bb5a5",
   "metadata": {
    "tags": []
   },
   "outputs": [],
   "source": [
    "model.compile(lr = 1e-2, loss='categorical_crossentropy', metrics='accuracy')"
   ]
  },
  {
   "cell_type": "code",
   "execution_count": 154,
   "id": "df586069-2f70-44eb-af54-1fe98131bb88",
   "metadata": {
    "tags": []
   },
   "outputs": [
    {
     "name": "stdout",
     "output_type": "stream",
     "text": [
      "1 ===========> accuracy : 0, loss : 1.478862138643344\n",
      "2 ===========> accuracy : 0, loss : 1.4548730394673353\n",
      "3 ===========> accuracy : 0, loss : 1.4306958958408968\n"
     ]
    },
    {
     "name": "stderr",
     "output_type": "stream",
     "text": [
      "C:\\Users\\user\\AppData\\Local\\Temp\\ipykernel_20840\\1280001394.py:12: RuntimeWarning: invalid value encountered in subtract\n",
      "  c = x - m\n"
     ]
    },
    {
     "name": "stdout",
     "output_type": "stream",
     "text": [
      "4 ===========> accuracy : 5923, loss : nan\n",
      "5 ===========> accuracy : 5923, loss : nan\n",
      "6 ===========> accuracy : 5923, loss : nan\n",
      "7 ===========> accuracy : 5923, loss : nan\n",
      "8 ===========> accuracy : 5923, loss : nan\n",
      "9 ===========> accuracy : 5923, loss : nan\n",
      "10 ===========> accuracy : 5923, loss : nan\n"
     ]
    }
   ],
   "source": [
    "model.fit(X_train, y_train,epochs=10)"
   ]
  },
  {
   "cell_type": "code",
   "execution_count": 155,
   "id": "3f21fb3c-104b-4bfd-81e7-0a8764f32a57",
   "metadata": {
    "tags": []
   },
   "outputs": [
    {
     "data": {
      "text/plain": [
       "{'Affine_1': <__main__.Affine at 0x1d59708d5d0>,\n",
       " 'Activation_1': <__main__.ReLU at 0x1d59708eb90>,\n",
       " 'Affine_2': <__main__.Affine at 0x1d594fd1290>,\n",
       " 'Activation_2': <__main__.ReLU at 0x1d594ff59d0>,\n",
       " 'Affine_3': <__main__.Affine at 0x1d594ff7990>,\n",
       " 'Activation_3': <__main__.ReLU at 0x1d594ff5b10>,\n",
       " 'Affine_4': <__main__.Affine at 0x1d594ff6590>,\n",
       " 'Activation_4': <__main__.ReLU at 0x1d594ff4590>,\n",
       " 'Affine_5': <__main__.Affine at 0x1d594ff5710>,\n",
       " 'Activation_5': <__main__.SoftmaxWithLoss at 0x1d594ff7010>}"
      ]
     },
     "execution_count": 155,
     "metadata": {},
     "output_type": "execute_result"
    }
   ],
   "source": [
    "model.W"
   ]
  },
  {
   "cell_type": "code",
   "execution_count": null,
   "id": "a1466611-b819-4ffa-85af-d2c7c7b37d19",
   "metadata": {},
   "outputs": [],
   "source": []
  }
 ],
 "metadata": {
  "kernelspec": {
   "display_name": "Python 3 (ipykernel)",
   "language": "python",
   "name": "python3"
  },
  "language_info": {
   "codemirror_mode": {
    "name": "ipython",
    "version": 3
   },
   "file_extension": ".py",
   "mimetype": "text/x-python",
   "name": "python",
   "nbconvert_exporter": "python",
   "pygments_lexer": "ipython3",
   "version": "3.11.4"
  }
 },
 "nbformat": 4,
 "nbformat_minor": 5
}
