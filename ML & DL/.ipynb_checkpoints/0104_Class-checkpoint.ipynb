{
 "cells": [
  {
   "cell_type": "code",
   "execution_count": 205,
   "id": "bf589ee1-7546-47e5-b53b-f9f0b0ed7081",
   "metadata": {
    "tags": []
   },
   "outputs": [],
   "source": [
    "import numpy as np\n",
    "import pandas as pd\n",
    "\n",
    "from scipy.spatial import distance\n",
    "from sklearn.datasets import load_iris\n",
    "\n",
    "from sklearn.model_selection import train_test_split\n",
    "from sklearn.model_selection import cross_val_predict, cross_val_score, cross_validate\n",
    "\n",
    "from sklearn.preprocessing import LabelEncoder\n",
    "from sklearn.preprocessing import OneHotEncoder\n",
    "\n",
    "from sklearn.linear_model import LinearRegression\n",
    "from sklearn.linear_model import LogisticRegression\n",
    "\n",
    "from sklearn.svm import SVR\n",
    "from sklearn.svm import SVC\n",
    "\n",
    "from sklearn.tree import DecisionTreeClassifier\n",
    "from sklearn.tree import DecisionTreeRegressor\n",
    "\n",
    "from sklearn.ensemble import RandomForestClassifier\n",
    "from sklearn.ensemble import RandomForestRegressor\n",
    "\n",
    "from xgboost import XGBClassifier\n",
    "from xgboost import XGBRegressor\n",
    "\n",
    "from catboost import CatBoostClassifier\n",
    "from catboost import CatBoostRegressor\n",
    "\n",
    "from sklearn.metrics import accuracy_score\n",
    "\n",
    "import warnings\n",
    "warnings.filterwarnings(action='ignore')"
   ]
  },
  {
   "cell_type": "code",
   "execution_count": 36,
   "id": "5c6b7074-a382-4582-b1d2-a411c81efb9a",
   "metadata": {
    "jp-MarkdownHeadingCollapsed": true,
    "tags": []
   },
   "outputs": [
    {
     "name": "stderr",
     "output_type": "stream",
     "text": [
      "C:\\Users\\user\\anaconda3\\Lib\\site-packages\\sklearn\\linear_model\\_logistic.py:460: ConvergenceWarning: lbfgs failed to converge (status=1):\n",
      "STOP: TOTAL NO. of ITERATIONS REACHED LIMIT.\n",
      "\n",
      "Increase the number of iterations (max_iter) or scale the data as shown in:\n",
      "    https://scikit-learn.org/stable/modules/preprocessing.html\n",
      "Please also refer to the documentation for alternative solver options:\n",
      "    https://scikit-learn.org/stable/modules/linear_model.html#logistic-regression\n",
      "  n_iter_i = _check_optimize_result(\n"
     ]
    }
   ],
   "source": [
    "model = LogisticRegression(C = 1.0)\n",
    "X = load_iris()['data']\n",
    "y = load_iris()['target']\n",
    "cross_val = cross_validate(model, X, y, cv=5)"
   ]
  },
  {
   "cell_type": "code",
   "execution_count": 6,
   "id": "99506d8e-e10b-47ad-96a2-3a9499b8a3c9",
   "metadata": {
    "tags": []
   },
   "outputs": [
    {
     "data": {
      "text/plain": [
       "0.9733333333333334"
      ]
     },
     "execution_count": 6,
     "metadata": {},
     "output_type": "execute_result"
    }
   ],
   "source": [
    "np.mean(cross_val.get('test_score'))"
   ]
  },
  {
   "cell_type": "code",
   "execution_count": 8,
   "id": "280145db-365f-4e5e-a9ec-ed6af9b6ed36",
   "metadata": {
    "tags": []
   },
   "outputs": [],
   "source": [
    "model = SVC(gamma='auto')\n",
    "score = cross_validate(model, X, y, cv=5)"
   ]
  },
  {
   "cell_type": "code",
   "execution_count": 12,
   "id": "7ae6166e-d1e4-4049-afee-bc6c164d68d5",
   "metadata": {
    "tags": []
   },
   "outputs": [
    {
     "data": {
      "text/plain": [
       "0.9800000000000001"
      ]
     },
     "execution_count": 12,
     "metadata": {},
     "output_type": "execute_result"
    }
   ],
   "source": [
    "score['test_score'].mean()"
   ]
  },
  {
   "cell_type": "code",
   "execution_count": 128,
   "id": "41043b8a-f6f1-495d-8a66-ef63567f626c",
   "metadata": {
    "tags": []
   },
   "outputs": [],
   "source": [
    "# 교차 검증 파이썬으로 직접 만들기\n",
    "model = SVC(gamma='auto')"
   ]
  },
  {
   "cell_type": "code",
   "execution_count": 212,
   "id": "b6962b1f-9163-42b3-99ca-d31c4a0b703b",
   "metadata": {
    "tags": []
   },
   "outputs": [],
   "source": [
    "X = load_iris()['data']\n",
    "y = load_iris()['target']"
   ]
  },
  {
   "cell_type": "code",
   "execution_count": 130,
   "id": "7f7fe1fe-6974-40da-8c09-ef3f010b74b4",
   "metadata": {
    "tags": []
   },
   "outputs": [],
   "source": [
    "idx = np.random.choice(np.arange(X.shape[0]),X.shape[0],replace=False)"
   ]
  },
  {
   "cell_type": "code",
   "execution_count": 131,
   "id": "278d2f5f-6cd8-47c3-857b-e7e102ff6a67",
   "metadata": {
    "tags": []
   },
   "outputs": [],
   "source": [
    "X = X[idx]\n",
    "y = y[idx]"
   ]
  },
  {
   "cell_type": "code",
   "execution_count": 132,
   "id": "c7779d48-1927-44fd-a250-9045d6704404",
   "metadata": {
    "tags": []
   },
   "outputs": [],
   "source": [
    "cross_score = {'test_score':[]}"
   ]
  },
  {
   "cell_type": "code",
   "execution_count": 133,
   "id": "c2d1a951-d506-4f8c-a793-d47fbb95dabf",
   "metadata": {
    "tags": []
   },
   "outputs": [],
   "source": [
    "train_length = X.shape[0]*0.8\n",
    "test_length = X.shape[0] - train_length"
   ]
  },
  {
   "cell_type": "code",
   "execution_count": 134,
   "id": "36342824-6513-4cc9-8ad9-7ecf64269e62",
   "metadata": {
    "tags": []
   },
   "outputs": [
    {
     "data": {
      "text/plain": [
       "(120.0, 30.0)"
      ]
     },
     "execution_count": 134,
     "metadata": {},
     "output_type": "execute_result"
    }
   ],
   "source": [
    "train_length, test_length"
   ]
  },
  {
   "cell_type": "code",
   "execution_count": 135,
   "id": "e310eecd-73ca-48dc-a2d6-d9d26d3b4f3c",
   "metadata": {
    "tags": []
   },
   "outputs": [
    {
     "data": {
      "text/plain": [
       "(120, 4)"
      ]
     },
     "execution_count": 135,
     "metadata": {},
     "output_type": "execute_result"
    }
   ],
   "source": [
    "X_train = X[int(test_length*0):int(train_length*1)]\n",
    "# X_test = X[train_length*1:]\n",
    "X_train.shape"
   ]
  },
  {
   "cell_type": "code",
   "execution_count": 206,
   "id": "06bf689a-41c7-4f41-b354-74bc35646915",
   "metadata": {
    "tags": []
   },
   "outputs": [],
   "source": [
    "def my_cross_val(model,X,y):\n",
    "    model_score = {'train_score':[]}\n",
    "    idx = np.random.choice(np.arange(X.shape[0]),X.shape[0],replace=False)\n",
    "    X = X[idx]\n",
    "    y = y[idx]\n",
    "    train_length = int(X.shape[0]*0.8)\n",
    "    test_length = int(X.shape[0] - train_length)\n",
    "    for i in range(5):\n",
    "        X_train = X[test_length*i:train_length*(i+1)]\n",
    "        y_train = y[test_length*i:train_length*(i+1)]\n",
    "        if X_train.shape[0] < train_length:\n",
    "            X_train = np.concatenate([X_train, X[:train_length - X_train.shape[0]]])\n",
    "            y_train = np.concatenate([y_train, y[:train_length - y_train.size]])\n",
    "        model.fit(X_train,y_train)\n",
    "        model_score['train_score'].append(model.score(X_train,y_train))\n",
    "    return model_score"
   ]
  },
  {
   "cell_type": "code",
   "execution_count": 207,
   "id": "fd044aed-af30-4851-9a65-5696eac570d5",
   "metadata": {
    "tags": []
   },
   "outputs": [
    {
     "data": {
      "text/plain": [
       "0.9783333333333333"
      ]
     },
     "execution_count": 207,
     "metadata": {},
     "output_type": "execute_result"
    }
   ],
   "source": [
    "model = LogisticRegression()\n",
    "cross_val = my_cross_val(model,X,y)\n",
    "np.mean(cross_val['train_score'])"
   ]
  },
  {
   "cell_type": "code",
   "execution_count": 299,
   "id": "650ef4f7-0821-4313-8348-74157b59a3a4",
   "metadata": {
    "tags": []
   },
   "outputs": [],
   "source": [
    "X = load_iris()['data']\n",
    "y = load_iris()['target']"
   ]
  },
  {
   "cell_type": "code",
   "execution_count": 398,
   "id": "b9a18f1e-4aa7-4200-a832-5745780829e0",
   "metadata": {
    "tags": []
   },
   "outputs": [],
   "source": [
    "def my_cross_val(model,X,y,cv=5):\n",
    "    model_score = {'train_score':[], 'test_score':[]}\n",
    "    idx = np.random.choice(np.arange(X.shape[0]),X.shape[0],replace=False)\n",
    "    X = X[idx]\n",
    "    y = y[idx]\n",
    "    train_length = int(X.shape[0]*0.8)\n",
    "    test_length = int(X.shape[0] - train_length)\n",
    "    \n",
    "    X = pd.DataFrame(X)\n",
    "    y = pd.DataFrame(y)\n",
    "    \n",
    "    for i in range(cv):\n",
    "        X_train = X[test_length*i:train_length*(i+1)]\n",
    "        y_train = y[test_length*i:train_length*(i+1)]\n",
    "        if X_train.shape[0] < train_length:\n",
    "            X_train = pd.concat([X_train, X[:train_length - X_train.shape[0]]])\n",
    "            y_train = pd.concat([y_train, y[:train_length - y_train.size]])\n",
    "        test_idx = list(set(np.arange(X.shape[0]))-set(X_train.index))\n",
    "        X_test = X.iloc[test_idx,:]\n",
    "        y_test = y.iloc[test_idx,:]\n",
    "        model.fit(X_train,y_train)\n",
    "        model_score['train_score'].append(model.score(X_train,y_train))\n",
    "        model_score['test_score'].append(model.score(X_test,y_test))\n",
    "    model_score['average'] = np.array(model_score['test_score']).mean()\n",
    "    return model_score"
   ]
  },
  {
   "cell_type": "code",
   "execution_count": 399,
   "id": "212b37ff-ae0b-4efd-80ec-afb8007ac3c2",
   "metadata": {
    "tags": []
   },
   "outputs": [],
   "source": [
    "score = my_cross_val(LogisticRegression(),X,y)"
   ]
  },
  {
   "cell_type": "code",
   "execution_count": 400,
   "id": "5cdda071-fbe7-4ba9-be9b-5a389559706c",
   "metadata": {
    "tags": []
   },
   "outputs": [
    {
     "data": {
      "text/plain": [
       "{'train_score': [0.975, 0.9833333333333333, 0.975, 0.9583333333333334, 0.975],\n",
       " 'test_score': [0.9333333333333333,\n",
       "  0.9333333333333333,\n",
       "  1.0,\n",
       "  1.0,\n",
       "  0.9666666666666667],\n",
       " 'average': 0.9666666666666666}"
      ]
     },
     "execution_count": 400,
     "metadata": {},
     "output_type": "execute_result"
    }
   ],
   "source": [
    "score"
   ]
  },
  {
   "cell_type": "code",
   "execution_count": null,
   "id": "081e5719-3b07-4d72-9674-a48fa5ff0a85",
   "metadata": {},
   "outputs": [],
   "source": [
    "X_test_list = []\n",
    "y_test_list = []\n",
    "for i in range(5):\n",
    "    X_train = X[int(test_length*i):int(train_length*(i+1))]\n",
    "    y_train = y[int(test_length*i):int(train_length*(i+1))]\n",
    "    if X_train.shape[0] < train_length:\n",
    "        X_train = np.concatenate([X_train, X[:int(train_length - X_train.shape[0])]])\n",
    "        y_train = np.concatenate([y_train, y[:int(train_length - y_train.size)]])\n",
    "    X_train_list.append(X_train)\n",
    "    y_train_list.append(y_train)"
   ]
  },
  {
   "cell_type": "code",
   "execution_count": 42,
   "id": "0c66d08e-91e6-47b9-aaaf-59fc4c168565",
   "metadata": {
    "tags": []
   },
   "outputs": [],
   "source": [
    "X_train = X[:int(X.shape[0]*.8)]\n",
    "X_test = X[int(X.shape[0]*.8):]\n",
    "y_train = y[:int(y.shape[0]*.8)]\n",
    "y_test = y[int(y.shape[0]*.8):]"
   ]
  },
  {
   "cell_type": "code",
   "execution_count": 43,
   "id": "1c81288a-980a-4311-ae3a-791ce1ca808f",
   "metadata": {
    "tags": []
   },
   "outputs": [
    {
     "name": "stderr",
     "output_type": "stream",
     "text": [
      "C:\\Users\\user\\anaconda3\\Lib\\site-packages\\sklearn\\linear_model\\_logistic.py:460: ConvergenceWarning: lbfgs failed to converge (status=1):\n",
      "STOP: TOTAL NO. of ITERATIONS REACHED LIMIT.\n",
      "\n",
      "Increase the number of iterations (max_iter) or scale the data as shown in:\n",
      "    https://scikit-learn.org/stable/modules/preprocessing.html\n",
      "Please also refer to the documentation for alternative solver options:\n",
      "    https://scikit-learn.org/stable/modules/linear_model.html#logistic-regression\n",
      "  n_iter_i = _check_optimize_result(\n"
     ]
    }
   ],
   "source": [
    "model.fit(X_train, y_train)\n",
    "cross_score['test_score'].append(model.score(X_test, y_test))"
   ]
  },
  {
   "cell_type": "code",
   "execution_count": 44,
   "id": "4baaf8bd-9f14-426f-95ba-b36792e47057",
   "metadata": {
    "tags": []
   },
   "outputs": [
    {
     "data": {
      "text/plain": [
       "[0.9666666666666667]"
      ]
     },
     "execution_count": 44,
     "metadata": {},
     "output_type": "execute_result"
    }
   ],
   "source": [
    "cross_score['test_score']"
   ]
  },
  {
   "cell_type": "code",
   "execution_count": 208,
   "id": "0fdd641b-2a07-43b1-9563-da4589a53723",
   "metadata": {
    "tags": []
   },
   "outputs": [
    {
     "name": "stdout",
     "output_type": "stream",
     "text": [
      "(96, 4) (96,)\n",
      "(96, 4) (96,)\n",
      "(96, 4) (96,)\n",
      "(96, 4) (96,)\n",
      "(96, 4) (96,)\n",
      "[0.9333333333333333, 0.9333333333333333, 0.9333333333333333, 0.9333333333333333, 0.9666666666666667] 0.9400000000000001\n"
     ]
    }
   ],
   "source": [
    "model_score = {'test_score':[]}\n",
    "idx = np.random.choice(np.arange(X.shape[0]),X.shape[0],replace=False)\n",
    "X = X[idx]\n",
    "y = y[idx]\n",
    "train_length = int(X.shape[0]*0.8)\n",
    "test_length = int(X.shape[0] - train_length)\n",
    "X_tr = X[:train_length]\n",
    "y_tr = y[:train_length]\n",
    "X_te = X[train_length:]\n",
    "y_te = y[train_length:]\n",
    "train_length2 = int(X_tr.shape[0]*0.8)\n",
    "test_length2 = int(X_tr.shape[0] - train_length2)\n",
    "for i in range(5):\n",
    "    X_train = X_tr[test_length2*i:train_length2*(i+1)]\n",
    "    y_train = y_tr[test_length2*i:train_length2*(i+1)]\n",
    "    if X_train.shape[0] < train_length2:\n",
    "        X_train = np.concatenate([X_train, X_tr[:train_length2 - X_train.shape[0]]])\n",
    "        y_train = np.concatenate([y_train, y_tr[:train_length2 - y_train.size]])\n",
    "    print(X_train.shape, y_train.shape)\n",
    "    model.fit(X_train,y_train)\n",
    "    model_score['test_score'].append(model.score(X_te,y_te))\n",
    "print(model_score['test_score'], np.mean(model_score['test_score']))"
   ]
  },
  {
   "cell_type": "code",
   "execution_count": null,
   "id": "8a5e91d1-5b83-47b8-bbae-02e43a420e00",
   "metadata": {},
   "outputs": [],
   "source": []
  },
  {
   "cell_type": "code",
   "execution_count": 275,
   "id": "658a20bf-107c-4748-82d2-de68800116b3",
   "metadata": {
    "tags": []
   },
   "outputs": [],
   "source": [
    "accuracy = []\n",
    "for i in range(2,6):\n",
    "    tree_model = DecisionTreeClassifier(max_depth=i)\n",
    "    X_train, X_test, y_train, y_test = train_test_split(X,y)\n",
    "    tree_model.fit(X_train, y_train)\n",
    "    accuracy.append((tree_model.score(X_train, y_train), tree_model.score(X_test, y_test)))"
   ]
  },
  {
   "cell_type": "code",
   "execution_count": 276,
   "id": "e42b3f60-1a58-4460-b057-c643748e85fe",
   "metadata": {
    "tags": []
   },
   "outputs": [
    {
     "data": {
      "text/plain": [
       "[(0.9553571428571429, 0.9736842105263158),\n",
       " (0.9732142857142857, 0.9736842105263158),\n",
       " (0.9821428571428571, 0.9473684210526315),\n",
       " (1.0, 0.9210526315789473)]"
      ]
     },
     "execution_count": 276,
     "metadata": {},
     "output_type": "execute_result"
    }
   ],
   "source": [
    "accuracy"
   ]
  },
  {
   "cell_type": "code",
   "execution_count": 274,
   "id": "81cae2d5-e266-4b4f-8ebd-65701bd1f76c",
   "metadata": {
    "tags": []
   },
   "outputs": [
    {
     "data": {
      "text/plain": [
       "3"
      ]
     },
     "execution_count": 274,
     "metadata": {},
     "output_type": "execute_result"
    }
   ],
   "source": [
    "param = {'max_depth':3}\n",
    "tree_model = DecisionTreeClassifier(**param)\n",
    "tree_model.get_params().get('max_depth')"
   ]
  },
  {
   "cell_type": "code",
   "execution_count": 350,
   "id": "aaf44549-4b40-4e96-b756-925bafee36b1",
   "metadata": {
    "tags": []
   },
   "outputs": [
    {
     "name": "stdout",
     "output_type": "stream",
     "text": [
      "{'max_depth': 1}\n",
      "{'max_depth': 2}\n",
      "{'max_depth': 3}\n",
      "{'max_depth': 4}\n",
      "{'max_depth': 5}\n"
     ]
    }
   ],
   "source": [
    "# 하이퍼파라미터 for문으로 만들기\n",
    "for key in params.keys():\n",
    "    for value in params[key]:\n",
    "        para = {key:value}\n",
    "        print(para)"
   ]
  },
  {
   "cell_type": "code",
   "execution_count": 362,
   "id": "181d86db-e880-4d75-a8f2-c1fea67f75ff",
   "metadata": {
    "tags": []
   },
   "outputs": [],
   "source": [
    "X_train, X_test, y_train, y_test = train_test_split(X,y)"
   ]
  },
  {
   "cell_type": "code",
   "execution_count": 363,
   "id": "d260f380-0de3-4964-8f9b-5cf669e8446b",
   "metadata": {
    "tags": []
   },
   "outputs": [],
   "source": [
    "grid_search = {'score':[],'estimator':[]}\n",
    "params = {'max_depth':np.arange(1,6)}\n",
    "for key in params.keys():\n",
    "    for value in params[key]:\n",
    "        param = {key:value}\n",
    "        tree_model = DecisionTreeClassifier(**param)\n",
    "        score = my_cross_val(tree_model,X,y)\n",
    "        grid_search['score'].append(score['average'])\n",
    "        grid_search['estimator'].append(tree_model)\n",
    "best_ = np.argmax(np.array(grid_search['score']))\n",
    "grid_search['best_score'] = grid_search['score'][best_]\n",
    "grid_search['best_estimator'] = grid_search['estimator'][best_]"
   ]
  },
  {
   "cell_type": "code",
   "execution_count": 364,
   "id": "24a2935b-775e-4958-892f-cff8144d43da",
   "metadata": {
    "tags": []
   },
   "outputs": [],
   "source": [
    "best_estimator = grid_search['best_estimator']"
   ]
  },
  {
   "cell_type": "code",
   "execution_count": 365,
   "id": "02932f08-875c-4087-a7df-a856c1d6101a",
   "metadata": {
    "tags": []
   },
   "outputs": [
    {
     "data": {
      "text/html": [
       "<style>#sk-container-id-7 {color: black;}#sk-container-id-7 pre{padding: 0;}#sk-container-id-7 div.sk-toggleable {background-color: white;}#sk-container-id-7 label.sk-toggleable__label {cursor: pointer;display: block;width: 100%;margin-bottom: 0;padding: 0.3em;box-sizing: border-box;text-align: center;}#sk-container-id-7 label.sk-toggleable__label-arrow:before {content: \"▸\";float: left;margin-right: 0.25em;color: #696969;}#sk-container-id-7 label.sk-toggleable__label-arrow:hover:before {color: black;}#sk-container-id-7 div.sk-estimator:hover label.sk-toggleable__label-arrow:before {color: black;}#sk-container-id-7 div.sk-toggleable__content {max-height: 0;max-width: 0;overflow: hidden;text-align: left;background-color: #f0f8ff;}#sk-container-id-7 div.sk-toggleable__content pre {margin: 0.2em;color: black;border-radius: 0.25em;background-color: #f0f8ff;}#sk-container-id-7 input.sk-toggleable__control:checked~div.sk-toggleable__content {max-height: 200px;max-width: 100%;overflow: auto;}#sk-container-id-7 input.sk-toggleable__control:checked~label.sk-toggleable__label-arrow:before {content: \"▾\";}#sk-container-id-7 div.sk-estimator input.sk-toggleable__control:checked~label.sk-toggleable__label {background-color: #d4ebff;}#sk-container-id-7 div.sk-label input.sk-toggleable__control:checked~label.sk-toggleable__label {background-color: #d4ebff;}#sk-container-id-7 input.sk-hidden--visually {border: 0;clip: rect(1px 1px 1px 1px);clip: rect(1px, 1px, 1px, 1px);height: 1px;margin: -1px;overflow: hidden;padding: 0;position: absolute;width: 1px;}#sk-container-id-7 div.sk-estimator {font-family: monospace;background-color: #f0f8ff;border: 1px dotted black;border-radius: 0.25em;box-sizing: border-box;margin-bottom: 0.5em;}#sk-container-id-7 div.sk-estimator:hover {background-color: #d4ebff;}#sk-container-id-7 div.sk-parallel-item::after {content: \"\";width: 100%;border-bottom: 1px solid gray;flex-grow: 1;}#sk-container-id-7 div.sk-label:hover label.sk-toggleable__label {background-color: #d4ebff;}#sk-container-id-7 div.sk-serial::before {content: \"\";position: absolute;border-left: 1px solid gray;box-sizing: border-box;top: 0;bottom: 0;left: 50%;z-index: 0;}#sk-container-id-7 div.sk-serial {display: flex;flex-direction: column;align-items: center;background-color: white;padding-right: 0.2em;padding-left: 0.2em;position: relative;}#sk-container-id-7 div.sk-item {position: relative;z-index: 1;}#sk-container-id-7 div.sk-parallel {display: flex;align-items: stretch;justify-content: center;background-color: white;position: relative;}#sk-container-id-7 div.sk-item::before, #sk-container-id-7 div.sk-parallel-item::before {content: \"\";position: absolute;border-left: 1px solid gray;box-sizing: border-box;top: 0;bottom: 0;left: 50%;z-index: -1;}#sk-container-id-7 div.sk-parallel-item {display: flex;flex-direction: column;z-index: 1;position: relative;background-color: white;}#sk-container-id-7 div.sk-parallel-item:first-child::after {align-self: flex-end;width: 50%;}#sk-container-id-7 div.sk-parallel-item:last-child::after {align-self: flex-start;width: 50%;}#sk-container-id-7 div.sk-parallel-item:only-child::after {width: 0;}#sk-container-id-7 div.sk-dashed-wrapped {border: 1px dashed gray;margin: 0 0.4em 0.5em 0.4em;box-sizing: border-box;padding-bottom: 0.4em;background-color: white;}#sk-container-id-7 div.sk-label label {font-family: monospace;font-weight: bold;display: inline-block;line-height: 1.2em;}#sk-container-id-7 div.sk-label-container {text-align: center;}#sk-container-id-7 div.sk-container {/* jupyter's `normalize.less` sets `[hidden] { display: none; }` but bootstrap.min.css set `[hidden] { display: none !important; }` so we also need the `!important` here to be able to override the default hidden behavior on the sphinx rendered scikit-learn.org. See: https://github.com/scikit-learn/scikit-learn/issues/21755 */display: inline-block !important;position: relative;}#sk-container-id-7 div.sk-text-repr-fallback {display: none;}</style><div id=\"sk-container-id-7\" class=\"sk-top-container\"><div class=\"sk-text-repr-fallback\"><pre>DecisionTreeClassifier(max_depth=4)</pre><b>In a Jupyter environment, please rerun this cell to show the HTML representation or trust the notebook. <br />On GitHub, the HTML representation is unable to render, please try loading this page with nbviewer.org.</b></div><div class=\"sk-container\" hidden><div class=\"sk-item\"><div class=\"sk-estimator sk-toggleable\"><input class=\"sk-toggleable__control sk-hidden--visually\" id=\"sk-estimator-id-7\" type=\"checkbox\" checked><label for=\"sk-estimator-id-7\" class=\"sk-toggleable__label sk-toggleable__label-arrow\">DecisionTreeClassifier</label><div class=\"sk-toggleable__content\"><pre>DecisionTreeClassifier(max_depth=4)</pre></div></div></div></div></div>"
      ],
      "text/plain": [
       "DecisionTreeClassifier(max_depth=4)"
      ]
     },
     "execution_count": 365,
     "metadata": {},
     "output_type": "execute_result"
    }
   ],
   "source": [
    "best_estimator.fit(X_train,y_train)"
   ]
  },
  {
   "cell_type": "code",
   "execution_count": 366,
   "id": "1bdc183e-7b23-4c73-8885-d51421b95944",
   "metadata": {
    "tags": []
   },
   "outputs": [
    {
     "data": {
      "text/plain": [
       "0.9736842105263158"
      ]
     },
     "execution_count": 366,
     "metadata": {},
     "output_type": "execute_result"
    }
   ],
   "source": [
    "best_estimator.score(X_test,y_test)"
   ]
  },
  {
   "cell_type": "code",
   "execution_count": 390,
   "id": "9cbca817-e083-49ec-9aee-a678786a051b",
   "metadata": {
    "tags": []
   },
   "outputs": [],
   "source": [
    "def grid_search_cv(X, y, params, cv=5):\n",
    "    grid_search = {'score':[],'estimator':[]}\n",
    "    for key in params.keys():\n",
    "        for value in params[key]:\n",
    "            param = {key:value}\n",
    "            tree_model = DecisionTreeClassifier(**param)\n",
    "            score = my_cross_val(tree_model,X,y,cv)\n",
    "            grid_search['score'].append(score['average'])\n",
    "            grid_search['estimator'].append(tree_model)\n",
    "    best_ = np.argmax(np.array(grid_search['score']))\n",
    "    grid_search['best_score'] = grid_search['score'][best_]\n",
    "    grid_search['best_estimator'] = grid_search['estimator'][best_]\n",
    "    return grid_search"
   ]
  },
  {
   "cell_type": "code",
   "execution_count": 460,
   "id": "170ca323-1573-4f79-ae65-d40dbc836ef5",
   "metadata": {
    "tags": []
   },
   "outputs": [],
   "source": [
    "model = DecisionTreeClassifier()\n",
    "parameter = {'criterion':['gini','entropy'],'max_depth':np.arange(2,6)}\n",
    "my_grid = grid_search_cv(X,y,parameter,5)"
   ]
  },
  {
   "cell_type": "code",
   "execution_count": 461,
   "id": "84e0939b-e859-4a1c-9a4b-33dc0795836e",
   "metadata": {
    "tags": []
   },
   "outputs": [
    {
     "data": {
      "text/plain": [
       "{'score': [0.9533333333333334,\n",
       "  0.9400000000000001,\n",
       "  0.9466666666666667,\n",
       "  0.9200000000000002,\n",
       "  0.9400000000000001,\n",
       "  0.9400000000000001,\n",
       "  0.9333333333333333,\n",
       "  0.9466666666666667],\n",
       " 'estimator': [DecisionTreeClassifier(max_depth=2),\n",
       "  DecisionTreeClassifier(max_depth=3),\n",
       "  DecisionTreeClassifier(max_depth=4),\n",
       "  DecisionTreeClassifier(max_depth=5),\n",
       "  DecisionTreeClassifier(criterion='entropy', max_depth=2),\n",
       "  DecisionTreeClassifier(criterion='entropy', max_depth=3),\n",
       "  DecisionTreeClassifier(criterion='entropy', max_depth=4),\n",
       "  DecisionTreeClassifier(criterion='entropy', max_depth=5)],\n",
       " 'best_score': 0.9533333333333334,\n",
       " 'best_estimator': DecisionTreeClassifier(max_depth=2)}"
      ]
     },
     "execution_count": 461,
     "metadata": {},
     "output_type": "execute_result"
    }
   ],
   "source": [
    "my_grid"
   ]
  },
  {
   "cell_type": "code",
   "execution_count": 393,
   "id": "1e7d8936-5864-4d67-ac7b-9a57a2c0619b",
   "metadata": {
    "tags": []
   },
   "outputs": [],
   "source": [
    "estimator = my_grid['best_estimator']"
   ]
  },
  {
   "cell_type": "code",
   "execution_count": 394,
   "id": "d6bfddfc-63de-4a5e-80ea-a82c63790f84",
   "metadata": {
    "tags": []
   },
   "outputs": [
    {
     "data": {
      "text/plain": [
       "{'ccp_alpha': 0.0,\n",
       " 'class_weight': None,\n",
       " 'criterion': 'gini',\n",
       " 'max_depth': None,\n",
       " 'max_features': None,\n",
       " 'max_leaf_nodes': None,\n",
       " 'min_impurity_decrease': 0.0,\n",
       " 'min_samples_leaf': 1,\n",
       " 'min_samples_split': 2,\n",
       " 'min_weight_fraction_leaf': 0.0,\n",
       " 'random_state': None,\n",
       " 'splitter': 'best'}"
      ]
     },
     "execution_count": 394,
     "metadata": {},
     "output_type": "execute_result"
    }
   ],
   "source": [
    "estimator.get_params()"
   ]
  },
  {
   "cell_type": "code",
   "execution_count": 405,
   "id": "e5b4bcbc-667c-43cb-bb6d-3bd7caff4f28",
   "metadata": {
    "tags": []
   },
   "outputs": [],
   "source": [
    "from itertools import combinations\n",
    "from itertools import product"
   ]
  },
  {
   "cell_type": "code",
   "execution_count": 437,
   "id": "2dc64ed3-1466-4a07-9424-fc74369fed07",
   "metadata": {
    "tags": []
   },
   "outputs": [
    {
     "name": "stdout",
     "output_type": "stream",
     "text": [
      "{'criterion': 'gini', 'max_depth': 2}\n",
      "{'criterion': 'gini', 'max_depth': 3}\n",
      "{'criterion': 'gini', 'max_depth': 4}\n",
      "{'criterion': 'gini', 'max_depth': 5}\n",
      "{'criterion': 'entropy', 'max_depth': 2}\n",
      "{'criterion': 'entropy', 'max_depth': 3}\n",
      "{'criterion': 'entropy', 'max_depth': 4}\n",
      "{'criterion': 'entropy', 'max_depth': 5}\n"
     ]
    }
   ],
   "source": [
    "key = list(parameter.keys())\n",
    "for j in range(len(parameter.values())):\n",
    "    try:\n",
    "        for i in product(list(parameter.values())[j],list(parameter.values())[j+1]):\n",
    "            param = {key[j]:i[j],key[j+1]:i[j+1]}\n",
    "            print(param)\n",
    "    except:\n",
    "        continue"
   ]
  },
  {
   "cell_type": "code",
   "execution_count": 483,
   "id": "b45955d3-5dbb-41cd-ba10-56f4653f1d71",
   "metadata": {
    "tags": []
   },
   "outputs": [],
   "source": [
    "X = load_iris()['data']\n",
    "y = load_iris()['target']"
   ]
  },
  {
   "cell_type": "code",
   "execution_count": 529,
   "id": "c2439b3f-98ec-41fb-8508-d9ed7d382956",
   "metadata": {
    "tags": []
   },
   "outputs": [],
   "source": [
    "def grid_search_cv(X, y, params, cv=5):\n",
    "    grid_search = {'score':[],'estimator':[],'params':[]}\n",
    "\n",
    "    for values in product(*parameter.values()):\n",
    "        param = dict(zip(parameter.keys(), values))\n",
    "\n",
    "        tree_model = DecisionTreeClassifier(**param)\n",
    "        score = my_cross_val(tree_model,X,y,cv)\n",
    "        grid_search['score'].append(score['average'])\n",
    "        grid_search['estimator'].append(tree_model)\n",
    "        grid_search['params'].append(param)\n",
    "\n",
    "    best_ = np.argmax(np.array(grid_search['score']))\n",
    "    grid_search['best_score'] = grid_search['score'][best_]\n",
    "    grid_search['best_estimator'] = grid_search['estimator'][best_]\n",
    "    grid_search['best_param'] = grid_search['params'][best_]\n",
    "    return grid_search"
   ]
  },
  {
   "cell_type": "code",
   "execution_count": 530,
   "id": "dcc7a639-5d92-46bb-95e6-c1ea5898e70e",
   "metadata": {
    "tags": []
   },
   "outputs": [],
   "source": [
    "parameter = {'criterion':['gini','entropy'],'max_depth':np.arange(2,6),'min_samples_leaf':np.arange(2,6),'min_samples_split':np.arange(3,5)}\n",
    "my_grid = grid_search_cv(X,y,parameter,5)"
   ]
  },
  {
   "cell_type": "code",
   "execution_count": 531,
   "id": "6bd87c22-581e-411d-8bc4-baf7a946e9f6",
   "metadata": {
    "tags": []
   },
   "outputs": [
    {
     "data": {
      "text/plain": [
       "{'criterion': 'entropy',\n",
       " 'max_depth': 3,\n",
       " 'min_samples_leaf': 4,\n",
       " 'min_samples_split': 3}"
      ]
     },
     "execution_count": 531,
     "metadata": {},
     "output_type": "execute_result"
    }
   ],
   "source": [
    "my_grid['best_param']"
   ]
  },
  {
   "cell_type": "code",
   "execution_count": 517,
   "id": "fd206e2f-4deb-4200-a314-efa437f36bf5",
   "metadata": {
    "tags": []
   },
   "outputs": [
    {
     "name": "stdout",
     "output_type": "stream",
     "text": [
      "{'criterion': 'gini', 'max_depth': 2}\n",
      "{'criterion': 'gini', 'max_depth': 3}\n",
      "{'criterion': 'gini', 'max_depth': 4}\n",
      "{'criterion': 'gini', 'max_depth': 5}\n",
      "{'criterion': 'entropy', 'max_depth': 2}\n",
      "{'criterion': 'entropy', 'max_depth': 3}\n",
      "{'criterion': 'entropy', 'max_depth': 4}\n",
      "{'criterion': 'entropy', 'max_depth': 5}\n"
     ]
    }
   ],
   "source": [
    "parameter = {'criterion':['gini','entropy'],'max_depth':np.arange(2,6)}\n",
    "\n",
    "for values in product(*parameter.values()):\n",
    "    combination = dict(zip(parameter.keys(), values))\n",
    "    print(combination)"
   ]
  },
  {
   "cell_type": "code",
   "execution_count": 527,
   "id": "8f8eeae5-aed6-4661-aeb4-bb241ab4efb4",
   "metadata": {
    "tags": []
   },
   "outputs": [
    {
     "name": "stdout",
     "output_type": "stream",
     "text": [
      "(['gini', 'entropy'],)\n",
      "(array([2, 3, 4, 5]),)\n",
      "(array([2, 3, 4, 5]),)\n",
      "(array([3, 4]),)\n",
      "(('criterion', 'gini', 2, 2, 3),)\n",
      "(('max_depth', 'entropy', 3, 3, 4),)\n"
     ]
    }
   ],
   "source": [
    "for values in product(parameter.values()):\n",
    "    print(values)\n",
    "    \n",
    "for values in product(zip(parameter.keys(), *parameter.values())):\n",
    "    print(values)"
   ]
  },
  {
   "cell_type": "code",
   "execution_count": 540,
   "id": "a5e3a7e5-9369-4e47-a957-6b90655656b9",
   "metadata": {
    "tags": []
   },
   "outputs": [],
   "source": [
    "age = [27, 26, 27, 34, 29, 28, 30, 34, 28, 35, 28, 28, 34, 28, 40, 29]"
   ]
  },
  {
   "cell_type": "code",
   "execution_count": 541,
   "id": "8153e9c9-2c74-44e6-8bf5-5b669cae0b77",
   "metadata": {
    "tags": []
   },
   "outputs": [],
   "source": [
    "from sklearn.cluster import KMeans"
   ]
  },
  {
   "cell_type": "code",
   "execution_count": 542,
   "id": "4c130ab4-d338-439d-838f-aba64ff8a0e0",
   "metadata": {
    "tags": []
   },
   "outputs": [],
   "source": [
    "km = KMeans(3)"
   ]
  },
  {
   "cell_type": "code",
   "execution_count": 543,
   "id": "9240235d-78fe-4e55-90e4-ef27cb77dc35",
   "metadata": {
    "tags": []
   },
   "outputs": [
    {
     "data": {
      "text/html": [
       "<style>#sk-container-id-9 {color: black;}#sk-container-id-9 pre{padding: 0;}#sk-container-id-9 div.sk-toggleable {background-color: white;}#sk-container-id-9 label.sk-toggleable__label {cursor: pointer;display: block;width: 100%;margin-bottom: 0;padding: 0.3em;box-sizing: border-box;text-align: center;}#sk-container-id-9 label.sk-toggleable__label-arrow:before {content: \"▸\";float: left;margin-right: 0.25em;color: #696969;}#sk-container-id-9 label.sk-toggleable__label-arrow:hover:before {color: black;}#sk-container-id-9 div.sk-estimator:hover label.sk-toggleable__label-arrow:before {color: black;}#sk-container-id-9 div.sk-toggleable__content {max-height: 0;max-width: 0;overflow: hidden;text-align: left;background-color: #f0f8ff;}#sk-container-id-9 div.sk-toggleable__content pre {margin: 0.2em;color: black;border-radius: 0.25em;background-color: #f0f8ff;}#sk-container-id-9 input.sk-toggleable__control:checked~div.sk-toggleable__content {max-height: 200px;max-width: 100%;overflow: auto;}#sk-container-id-9 input.sk-toggleable__control:checked~label.sk-toggleable__label-arrow:before {content: \"▾\";}#sk-container-id-9 div.sk-estimator input.sk-toggleable__control:checked~label.sk-toggleable__label {background-color: #d4ebff;}#sk-container-id-9 div.sk-label input.sk-toggleable__control:checked~label.sk-toggleable__label {background-color: #d4ebff;}#sk-container-id-9 input.sk-hidden--visually {border: 0;clip: rect(1px 1px 1px 1px);clip: rect(1px, 1px, 1px, 1px);height: 1px;margin: -1px;overflow: hidden;padding: 0;position: absolute;width: 1px;}#sk-container-id-9 div.sk-estimator {font-family: monospace;background-color: #f0f8ff;border: 1px dotted black;border-radius: 0.25em;box-sizing: border-box;margin-bottom: 0.5em;}#sk-container-id-9 div.sk-estimator:hover {background-color: #d4ebff;}#sk-container-id-9 div.sk-parallel-item::after {content: \"\";width: 100%;border-bottom: 1px solid gray;flex-grow: 1;}#sk-container-id-9 div.sk-label:hover label.sk-toggleable__label {background-color: #d4ebff;}#sk-container-id-9 div.sk-serial::before {content: \"\";position: absolute;border-left: 1px solid gray;box-sizing: border-box;top: 0;bottom: 0;left: 50%;z-index: 0;}#sk-container-id-9 div.sk-serial {display: flex;flex-direction: column;align-items: center;background-color: white;padding-right: 0.2em;padding-left: 0.2em;position: relative;}#sk-container-id-9 div.sk-item {position: relative;z-index: 1;}#sk-container-id-9 div.sk-parallel {display: flex;align-items: stretch;justify-content: center;background-color: white;position: relative;}#sk-container-id-9 div.sk-item::before, #sk-container-id-9 div.sk-parallel-item::before {content: \"\";position: absolute;border-left: 1px solid gray;box-sizing: border-box;top: 0;bottom: 0;left: 50%;z-index: -1;}#sk-container-id-9 div.sk-parallel-item {display: flex;flex-direction: column;z-index: 1;position: relative;background-color: white;}#sk-container-id-9 div.sk-parallel-item:first-child::after {align-self: flex-end;width: 50%;}#sk-container-id-9 div.sk-parallel-item:last-child::after {align-self: flex-start;width: 50%;}#sk-container-id-9 div.sk-parallel-item:only-child::after {width: 0;}#sk-container-id-9 div.sk-dashed-wrapped {border: 1px dashed gray;margin: 0 0.4em 0.5em 0.4em;box-sizing: border-box;padding-bottom: 0.4em;background-color: white;}#sk-container-id-9 div.sk-label label {font-family: monospace;font-weight: bold;display: inline-block;line-height: 1.2em;}#sk-container-id-9 div.sk-label-container {text-align: center;}#sk-container-id-9 div.sk-container {/* jupyter's `normalize.less` sets `[hidden] { display: none; }` but bootstrap.min.css set `[hidden] { display: none !important; }` so we also need the `!important` here to be able to override the default hidden behavior on the sphinx rendered scikit-learn.org. See: https://github.com/scikit-learn/scikit-learn/issues/21755 */display: inline-block !important;position: relative;}#sk-container-id-9 div.sk-text-repr-fallback {display: none;}</style><div id=\"sk-container-id-9\" class=\"sk-top-container\"><div class=\"sk-text-repr-fallback\"><pre>KMeans(n_clusters=3)</pre><b>In a Jupyter environment, please rerun this cell to show the HTML representation or trust the notebook. <br />On GitHub, the HTML representation is unable to render, please try loading this page with nbviewer.org.</b></div><div class=\"sk-container\" hidden><div class=\"sk-item\"><div class=\"sk-estimator sk-toggleable\"><input class=\"sk-toggleable__control sk-hidden--visually\" id=\"sk-estimator-id-9\" type=\"checkbox\" checked><label for=\"sk-estimator-id-9\" class=\"sk-toggleable__label sk-toggleable__label-arrow\">KMeans</label><div class=\"sk-toggleable__content\"><pre>KMeans(n_clusters=3)</pre></div></div></div></div></div>"
      ],
      "text/plain": [
       "KMeans(n_clusters=3)"
      ]
     },
     "execution_count": 543,
     "metadata": {},
     "output_type": "execute_result"
    }
   ],
   "source": [
    "km.fit(np.array(age).reshape(-1,1))"
   ]
  },
  {
   "cell_type": "code",
   "execution_count": 544,
   "id": "dc44b914-4966-4909-9d07-476d6b7e8cbd",
   "metadata": {
    "tags": []
   },
   "outputs": [
    {
     "data": {
      "text/plain": [
       "array([0, 0, 0, 1, 0, 0, 0, 1, 0, 1, 0, 0, 1, 0, 2, 0])"
      ]
     },
     "execution_count": 544,
     "metadata": {},
     "output_type": "execute_result"
    }
   ],
   "source": [
    "km.labels_"
   ]
  },
  {
   "cell_type": "code",
   "execution_count": 552,
   "id": "afa52e3b-f63b-4544-952a-49981a269b83",
   "metadata": {
    "tags": []
   },
   "outputs": [
    {
     "data": {
      "text/plain": [
       "array([1])"
      ]
     },
     "execution_count": 552,
     "metadata": {},
     "output_type": "execute_result"
    }
   ],
   "source": [
    "km.predict([[32]])"
   ]
  },
  {
   "cell_type": "code",
   "execution_count": 553,
   "id": "93d2161d-3ec7-49b1-81ab-b2d86de3b81a",
   "metadata": {
    "tags": []
   },
   "outputs": [],
   "source": [
    "seed1, seed2 = np.random.choice(age,2)"
   ]
  },
  {
   "cell_type": "code",
   "execution_count": 554,
   "id": "942c7633-136a-4e28-a156-3ec03b048358",
   "metadata": {
    "tags": []
   },
   "outputs": [
    {
     "data": {
      "text/plain": [
       "(34, 28)"
      ]
     },
     "execution_count": 554,
     "metadata": {},
     "output_type": "execute_result"
    }
   ],
   "source": [
    "seed1, seed2"
   ]
  },
  {
   "cell_type": "code",
   "execution_count": 555,
   "id": "7f78732f-04a5-4148-a804-d2c355391086",
   "metadata": {
    "tags": []
   },
   "outputs": [
    {
     "data": {
      "text/plain": [
       "array([7, 8, 7, 0, 5, 6, 4, 0, 6, 1, 6, 6, 0, 6, 6, 5])"
      ]
     },
     "execution_count": 555,
     "metadata": {},
     "output_type": "execute_result"
    }
   ],
   "source": [
    "np.abs(seed1 - age)"
   ]
  },
  {
   "cell_type": "code",
   "execution_count": 558,
   "id": "f8dd3c53-2736-4af0-96bb-ae2896466ee1",
   "metadata": {
    "tags": []
   },
   "outputs": [],
   "source": [
    "data = pd.DataFrame(age,columns=['age'])\n",
    "data['group'] = 3"
   ]
  },
  {
   "cell_type": "code",
   "execution_count": 568,
   "id": "6f60bf91-f008-4d28-986c-3480349e853e",
   "metadata": {
    "tags": []
   },
   "outputs": [],
   "source": [
    "data.iloc[data.loc[np.abs(data.age - seed1) == np.abs(data.age - seed1).min(),:].index,1] = 0"
   ]
  },
  {
   "cell_type": "code",
   "execution_count": 569,
   "id": "a33f7e6c-2bc9-4bc9-8019-a57b772876ea",
   "metadata": {
    "tags": []
   },
   "outputs": [
    {
     "data": {
      "text/html": [
       "<div>\n",
       "<style scoped>\n",
       "    .dataframe tbody tr th:only-of-type {\n",
       "        vertical-align: middle;\n",
       "    }\n",
       "\n",
       "    .dataframe tbody tr th {\n",
       "        vertical-align: top;\n",
       "    }\n",
       "\n",
       "    .dataframe thead th {\n",
       "        text-align: right;\n",
       "    }\n",
       "</style>\n",
       "<table border=\"1\" class=\"dataframe\">\n",
       "  <thead>\n",
       "    <tr style=\"text-align: right;\">\n",
       "      <th></th>\n",
       "      <th>age</th>\n",
       "      <th>group</th>\n",
       "    </tr>\n",
       "  </thead>\n",
       "  <tbody>\n",
       "    <tr>\n",
       "      <th>0</th>\n",
       "      <td>27</td>\n",
       "      <td>3</td>\n",
       "    </tr>\n",
       "    <tr>\n",
       "      <th>1</th>\n",
       "      <td>26</td>\n",
       "      <td>3</td>\n",
       "    </tr>\n",
       "    <tr>\n",
       "      <th>2</th>\n",
       "      <td>27</td>\n",
       "      <td>3</td>\n",
       "    </tr>\n",
       "    <tr>\n",
       "      <th>3</th>\n",
       "      <td>34</td>\n",
       "      <td>0</td>\n",
       "    </tr>\n",
       "    <tr>\n",
       "      <th>4</th>\n",
       "      <td>29</td>\n",
       "      <td>3</td>\n",
       "    </tr>\n",
       "    <tr>\n",
       "      <th>5</th>\n",
       "      <td>28</td>\n",
       "      <td>3</td>\n",
       "    </tr>\n",
       "    <tr>\n",
       "      <th>6</th>\n",
       "      <td>30</td>\n",
       "      <td>3</td>\n",
       "    </tr>\n",
       "    <tr>\n",
       "      <th>7</th>\n",
       "      <td>34</td>\n",
       "      <td>0</td>\n",
       "    </tr>\n",
       "    <tr>\n",
       "      <th>8</th>\n",
       "      <td>28</td>\n",
       "      <td>3</td>\n",
       "    </tr>\n",
       "    <tr>\n",
       "      <th>9</th>\n",
       "      <td>35</td>\n",
       "      <td>3</td>\n",
       "    </tr>\n",
       "    <tr>\n",
       "      <th>10</th>\n",
       "      <td>28</td>\n",
       "      <td>3</td>\n",
       "    </tr>\n",
       "    <tr>\n",
       "      <th>11</th>\n",
       "      <td>28</td>\n",
       "      <td>3</td>\n",
       "    </tr>\n",
       "    <tr>\n",
       "      <th>12</th>\n",
       "      <td>34</td>\n",
       "      <td>0</td>\n",
       "    </tr>\n",
       "    <tr>\n",
       "      <th>13</th>\n",
       "      <td>28</td>\n",
       "      <td>3</td>\n",
       "    </tr>\n",
       "    <tr>\n",
       "      <th>14</th>\n",
       "      <td>40</td>\n",
       "      <td>3</td>\n",
       "    </tr>\n",
       "    <tr>\n",
       "      <th>15</th>\n",
       "      <td>29</td>\n",
       "      <td>3</td>\n",
       "    </tr>\n",
       "  </tbody>\n",
       "</table>\n",
       "</div>"
      ],
      "text/plain": [
       "    age  group\n",
       "0    27      3\n",
       "1    26      3\n",
       "2    27      3\n",
       "3    34      0\n",
       "4    29      3\n",
       "5    28      3\n",
       "6    30      3\n",
       "7    34      0\n",
       "8    28      3\n",
       "9    35      3\n",
       "10   28      3\n",
       "11   28      3\n",
       "12   34      0\n",
       "13   28      3\n",
       "14   40      3\n",
       "15   29      3"
      ]
     },
     "execution_count": 569,
     "metadata": {},
     "output_type": "execute_result"
    }
   ],
   "source": [
    "data.iloc[data.loc[(np.abs(data.age - seed1) == np.abs(data.age - seed1).min()),:].index,1] = 0"
   ]
  },
  {
   "cell_type": "code",
   "execution_count": 570,
   "id": "4d4be923-2020-450b-9131-c4bb2aede837",
   "metadata": {
    "tags": []
   },
   "outputs": [],
   "source": [
    "km = KMeans(4)"
   ]
  },
  {
   "cell_type": "code",
   "execution_count": 572,
   "id": "42df8195-4c2d-4de3-9a41-62bd78a24e4e",
   "metadata": {
    "tags": []
   },
   "outputs": [
    {
     "data": {
      "text/html": [
       "<style>#sk-container-id-11 {color: black;}#sk-container-id-11 pre{padding: 0;}#sk-container-id-11 div.sk-toggleable {background-color: white;}#sk-container-id-11 label.sk-toggleable__label {cursor: pointer;display: block;width: 100%;margin-bottom: 0;padding: 0.3em;box-sizing: border-box;text-align: center;}#sk-container-id-11 label.sk-toggleable__label-arrow:before {content: \"▸\";float: left;margin-right: 0.25em;color: #696969;}#sk-container-id-11 label.sk-toggleable__label-arrow:hover:before {color: black;}#sk-container-id-11 div.sk-estimator:hover label.sk-toggleable__label-arrow:before {color: black;}#sk-container-id-11 div.sk-toggleable__content {max-height: 0;max-width: 0;overflow: hidden;text-align: left;background-color: #f0f8ff;}#sk-container-id-11 div.sk-toggleable__content pre {margin: 0.2em;color: black;border-radius: 0.25em;background-color: #f0f8ff;}#sk-container-id-11 input.sk-toggleable__control:checked~div.sk-toggleable__content {max-height: 200px;max-width: 100%;overflow: auto;}#sk-container-id-11 input.sk-toggleable__control:checked~label.sk-toggleable__label-arrow:before {content: \"▾\";}#sk-container-id-11 div.sk-estimator input.sk-toggleable__control:checked~label.sk-toggleable__label {background-color: #d4ebff;}#sk-container-id-11 div.sk-label input.sk-toggleable__control:checked~label.sk-toggleable__label {background-color: #d4ebff;}#sk-container-id-11 input.sk-hidden--visually {border: 0;clip: rect(1px 1px 1px 1px);clip: rect(1px, 1px, 1px, 1px);height: 1px;margin: -1px;overflow: hidden;padding: 0;position: absolute;width: 1px;}#sk-container-id-11 div.sk-estimator {font-family: monospace;background-color: #f0f8ff;border: 1px dotted black;border-radius: 0.25em;box-sizing: border-box;margin-bottom: 0.5em;}#sk-container-id-11 div.sk-estimator:hover {background-color: #d4ebff;}#sk-container-id-11 div.sk-parallel-item::after {content: \"\";width: 100%;border-bottom: 1px solid gray;flex-grow: 1;}#sk-container-id-11 div.sk-label:hover label.sk-toggleable__label {background-color: #d4ebff;}#sk-container-id-11 div.sk-serial::before {content: \"\";position: absolute;border-left: 1px solid gray;box-sizing: border-box;top: 0;bottom: 0;left: 50%;z-index: 0;}#sk-container-id-11 div.sk-serial {display: flex;flex-direction: column;align-items: center;background-color: white;padding-right: 0.2em;padding-left: 0.2em;position: relative;}#sk-container-id-11 div.sk-item {position: relative;z-index: 1;}#sk-container-id-11 div.sk-parallel {display: flex;align-items: stretch;justify-content: center;background-color: white;position: relative;}#sk-container-id-11 div.sk-item::before, #sk-container-id-11 div.sk-parallel-item::before {content: \"\";position: absolute;border-left: 1px solid gray;box-sizing: border-box;top: 0;bottom: 0;left: 50%;z-index: -1;}#sk-container-id-11 div.sk-parallel-item {display: flex;flex-direction: column;z-index: 1;position: relative;background-color: white;}#sk-container-id-11 div.sk-parallel-item:first-child::after {align-self: flex-end;width: 50%;}#sk-container-id-11 div.sk-parallel-item:last-child::after {align-self: flex-start;width: 50%;}#sk-container-id-11 div.sk-parallel-item:only-child::after {width: 0;}#sk-container-id-11 div.sk-dashed-wrapped {border: 1px dashed gray;margin: 0 0.4em 0.5em 0.4em;box-sizing: border-box;padding-bottom: 0.4em;background-color: white;}#sk-container-id-11 div.sk-label label {font-family: monospace;font-weight: bold;display: inline-block;line-height: 1.2em;}#sk-container-id-11 div.sk-label-container {text-align: center;}#sk-container-id-11 div.sk-container {/* jupyter's `normalize.less` sets `[hidden] { display: none; }` but bootstrap.min.css set `[hidden] { display: none !important; }` so we also need the `!important` here to be able to override the default hidden behavior on the sphinx rendered scikit-learn.org. See: https://github.com/scikit-learn/scikit-learn/issues/21755 */display: inline-block !important;position: relative;}#sk-container-id-11 div.sk-text-repr-fallback {display: none;}</style><div id=\"sk-container-id-11\" class=\"sk-top-container\"><div class=\"sk-text-repr-fallback\"><pre>KMeans(n_clusters=4)</pre><b>In a Jupyter environment, please rerun this cell to show the HTML representation or trust the notebook. <br />On GitHub, the HTML representation is unable to render, please try loading this page with nbviewer.org.</b></div><div class=\"sk-container\" hidden><div class=\"sk-item\"><div class=\"sk-estimator sk-toggleable\"><input class=\"sk-toggleable__control sk-hidden--visually\" id=\"sk-estimator-id-11\" type=\"checkbox\" checked><label for=\"sk-estimator-id-11\" class=\"sk-toggleable__label sk-toggleable__label-arrow\">KMeans</label><div class=\"sk-toggleable__content\"><pre>KMeans(n_clusters=4)</pre></div></div></div></div></div>"
      ],
      "text/plain": [
       "KMeans(n_clusters=4)"
      ]
     },
     "execution_count": 572,
     "metadata": {},
     "output_type": "execute_result"
    }
   ],
   "source": [
    "km.fit(load_iris()['data'])"
   ]
  },
  {
   "cell_type": "code",
   "execution_count": 575,
   "id": "01286496-43d3-4c11-9b62-91efcd2b7231",
   "metadata": {
    "tags": []
   },
   "outputs": [
    {
     "data": {
      "text/plain": [
       "array([[6.9125    , 3.1       , 5.846875  , 2.13125   ],\n",
       "       [5.006     , 3.428     , 1.462     , 0.246     ],\n",
       "       [5.53214286, 2.63571429, 3.96071429, 1.22857143],\n",
       "       [6.2525    , 2.855     , 4.815     , 1.625     ]])"
      ]
     },
     "execution_count": 575,
     "metadata": {},
     "output_type": "execute_result"
    }
   ],
   "source": [
    "km.cluster_centers_"
   ]
  },
  {
   "cell_type": "code",
   "execution_count": 576,
   "id": "ea7ccf27-e55d-4e8e-8651-71241fd13ed4",
   "metadata": {
    "tags": []
   },
   "outputs": [
    {
     "data": {
      "text/plain": [
       "array([1, 1, 1, 1, 1, 1, 1, 1, 1, 1, 1, 1, 1, 1, 1, 1, 1, 1, 1, 1, 1, 1,\n",
       "       1, 1, 1, 1, 1, 1, 1, 1, 1, 1, 1, 1, 1, 1, 1, 1, 1, 1, 1, 1, 1, 1,\n",
       "       1, 1, 1, 1, 1, 1, 3, 3, 3, 2, 3, 2, 3, 2, 3, 2, 2, 2, 2, 3, 2, 3,\n",
       "       2, 2, 3, 2, 3, 2, 3, 3, 3, 3, 3, 3, 3, 2, 2, 2, 2, 3, 2, 3, 3, 3,\n",
       "       2, 2, 2, 3, 2, 2, 2, 2, 2, 3, 2, 2, 0, 3, 0, 0, 0, 0, 2, 0, 0, 0,\n",
       "       3, 3, 0, 3, 3, 0, 0, 0, 0, 3, 0, 3, 0, 3, 0, 0, 3, 3, 0, 0, 0, 0,\n",
       "       0, 3, 3, 0, 0, 0, 3, 0, 0, 0, 3, 0, 0, 0, 3, 3, 0, 3])"
      ]
     },
     "execution_count": 576,
     "metadata": {},
     "output_type": "execute_result"
    }
   ],
   "source": [
    "km.labels_"
   ]
  },
  {
   "cell_type": "code",
   "execution_count": 579,
   "id": "21fb3c55-a0e0-4b19-90f7-f30de4148bc2",
   "metadata": {
    "tags": []
   },
   "outputs": [
    {
     "data": {
      "text/plain": [
       "(1, 4)"
      ]
     },
     "execution_count": 579,
     "metadata": {},
     "output_type": "execute_result"
    }
   ],
   "source": [
    "load_iris().data[[0]].shape"
   ]
  },
  {
   "cell_type": "code",
   "execution_count": 580,
   "id": "e9209b3b-1605-4915-8e3b-7871f488f8a9",
   "metadata": {
    "tags": []
   },
   "outputs": [
    {
     "data": {
      "text/plain": [
       "(4, 4)"
      ]
     },
     "execution_count": 580,
     "metadata": {},
     "output_type": "execute_result"
    }
   ],
   "source": [
    "km.cluster_centers_.shape"
   ]
  },
  {
   "cell_type": "code",
   "execution_count": 588,
   "id": "a449eb76-cd3c-46ae-b273-0628eff9ef4f",
   "metadata": {
    "tags": []
   },
   "outputs": [
    {
     "data": {
      "text/plain": [
       "1"
      ]
     },
     "execution_count": 588,
     "metadata": {},
     "output_type": "execute_result"
    }
   ],
   "source": [
    "np.argmin(np.sum(np.square(km.cluster_centers_ - load_iris().data[[45]]),1))"
   ]
  },
  {
   "cell_type": "code",
   "execution_count": 587,
   "id": "6c02a39d-d855-44eb-9ba9-8d85854958b6",
   "metadata": {
    "tags": []
   },
   "outputs": [
    {
     "data": {
      "text/plain": [
       "array([1])"
      ]
     },
     "execution_count": 587,
     "metadata": {},
     "output_type": "execute_result"
    }
   ],
   "source": [
    "km.predict(load_iris().data[[45]])"
   ]
  },
  {
   "cell_type": "code",
   "execution_count": null,
   "id": "d2af2c5a-70f1-4a20-957d-fae309d24d94",
   "metadata": {},
   "outputs": [],
   "source": []
  }
 ],
 "metadata": {
  "kernelspec": {
   "display_name": "Python 3 (ipykernel)",
   "language": "python",
   "name": "python3"
  },
  "language_info": {
   "codemirror_mode": {
    "name": "ipython",
    "version": 3
   },
   "file_extension": ".py",
   "mimetype": "text/x-python",
   "name": "python",
   "nbconvert_exporter": "python",
   "pygments_lexer": "ipython3",
   "version": "3.11.4"
  }
 },
 "nbformat": 4,
 "nbformat_minor": 5
}
