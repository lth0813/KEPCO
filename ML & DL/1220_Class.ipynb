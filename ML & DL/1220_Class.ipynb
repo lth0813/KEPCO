{
 "cells": [
  {
   "cell_type": "code",
   "execution_count": 10,
   "id": "a3b10092-a03d-4b53-ac76-e6e8064a2122",
   "metadata": {
    "tags": []
   },
   "outputs": [],
   "source": [
    "import numpy as np\n",
    "import pandas as pd\n",
    "import matplotlib.pyplot as plt"
   ]
  },
  {
   "cell_type": "code",
   "execution_count": 262,
   "id": "44e5b884-ec05-4b21-b3bd-b345e8f6a064",
   "metadata": {
    "tags": []
   },
   "outputs": [],
   "source": [
    "X = np.random.randint(1,100,50)"
   ]
  },
  {
   "cell_type": "code",
   "execution_count": 263,
   "id": "3eda29c8-3c6c-432f-a803-b0155547ba15",
   "metadata": {
    "tags": []
   },
   "outputs": [],
   "source": [
    "a = np.random.choice(np.arange(100),1)"
   ]
  },
  {
   "cell_type": "code",
   "execution_count": 264,
   "id": "5965e49f-c502-4de9-b5ff-27e4320307e3",
   "metadata": {
    "tags": []
   },
   "outputs": [],
   "source": [
    "y = a*X + np.random.randn(50)"
   ]
  },
  {
   "cell_type": "code",
   "execution_count": 265,
   "id": "c15999ca-cb6f-4695-9784-963396047b8d",
   "metadata": {
    "tags": []
   },
   "outputs": [
    {
     "data": {
      "text/plain": [
       "<matplotlib.collections.PathCollection at 0x1b619ed70d0>"
      ]
     },
     "execution_count": 265,
     "metadata": {},
     "output_type": "execute_result"
    },
    {
     "data": {
      "image/png": "[encoded data removed]",
      "text/plain": [
       "<Figure size 640x480 with 1 Axes>"
      ]
     },
     "metadata": {},
     "output_type": "display_data"
    }
   ],
   "source": [
    "plt.scatter(X,y)"
   ]
  },
  {
   "cell_type": "code",
   "execution_count": 266,
   "id": "30962dd7-2cad-470a-8c88-284acee89df3",
   "metadata": {
    "collapsed": true,
    "jupyter": {
     "outputs_hidden": true
    },
    "tags": []
   },
   "outputs": [
    {
     "data": {
      "text/html": [
       "<div>\n",
       "<style scoped>\n",
       "    .dataframe tbody tr th:only-of-type {\n",
       "        vertical-align: middle;\n",
       "    }\n",
       "\n",
       "    .dataframe tbody tr th {\n",
       "        vertical-align: top;\n",
       "    }\n",
       "\n",
       "    .dataframe thead th {\n",
       "        text-align: right;\n",
       "    }\n",
       "</style>\n",
       "<table border=\"1\" class=\"dataframe\">\n",
       "  <thead>\n",
       "    <tr style=\"text-align: right;\">\n",
       "      <th></th>\n",
       "      <th>0</th>\n",
       "      <th>1</th>\n",
       "    </tr>\n",
       "  </thead>\n",
       "  <tbody>\n",
       "    <tr>\n",
       "      <th>0</th>\n",
       "      <td>79.0</td>\n",
       "      <td>4739.781499</td>\n",
       "    </tr>\n",
       "    <tr>\n",
       "      <th>1</th>\n",
       "      <td>40.0</td>\n",
       "      <td>2399.068938</td>\n",
       "    </tr>\n",
       "    <tr>\n",
       "      <th>2</th>\n",
       "      <td>14.0</td>\n",
       "      <td>839.688956</td>\n",
       "    </tr>\n",
       "    <tr>\n",
       "      <th>3</th>\n",
       "      <td>14.0</td>\n",
       "      <td>838.805364</td>\n",
       "    </tr>\n",
       "    <tr>\n",
       "      <th>4</th>\n",
       "      <td>13.0</td>\n",
       "      <td>779.277913</td>\n",
       "    </tr>\n",
       "    <tr>\n",
       "      <th>5</th>\n",
       "      <td>42.0</td>\n",
       "      <td>2521.735995</td>\n",
       "    </tr>\n",
       "    <tr>\n",
       "      <th>6</th>\n",
       "      <td>70.0</td>\n",
       "      <td>4201.038519</td>\n",
       "    </tr>\n",
       "    <tr>\n",
       "      <th>7</th>\n",
       "      <td>80.0</td>\n",
       "      <td>4799.269957</td>\n",
       "    </tr>\n",
       "    <tr>\n",
       "      <th>8</th>\n",
       "      <td>95.0</td>\n",
       "      <td>5698.807354</td>\n",
       "    </tr>\n",
       "    <tr>\n",
       "      <th>9</th>\n",
       "      <td>87.0</td>\n",
       "      <td>5219.170195</td>\n",
       "    </tr>\n",
       "    <tr>\n",
       "      <th>10</th>\n",
       "      <td>85.0</td>\n",
       "      <td>5100.564658</td>\n",
       "    </tr>\n",
       "    <tr>\n",
       "      <th>11</th>\n",
       "      <td>84.0</td>\n",
       "      <td>5040.688379</td>\n",
       "    </tr>\n",
       "    <tr>\n",
       "      <th>12</th>\n",
       "      <td>85.0</td>\n",
       "      <td>5099.468965</td>\n",
       "    </tr>\n",
       "    <tr>\n",
       "      <th>13</th>\n",
       "      <td>43.0</td>\n",
       "      <td>2579.222627</td>\n",
       "    </tr>\n",
       "    <tr>\n",
       "      <th>14</th>\n",
       "      <td>8.0</td>\n",
       "      <td>479.760396</td>\n",
       "    </tr>\n",
       "    <tr>\n",
       "      <th>15</th>\n",
       "      <td>33.0</td>\n",
       "      <td>1980.085077</td>\n",
       "    </tr>\n",
       "    <tr>\n",
       "      <th>16</th>\n",
       "      <td>64.0</td>\n",
       "      <td>3839.717947</td>\n",
       "    </tr>\n",
       "    <tr>\n",
       "      <th>17</th>\n",
       "      <td>81.0</td>\n",
       "      <td>4859.510957</td>\n",
       "    </tr>\n",
       "    <tr>\n",
       "      <th>18</th>\n",
       "      <td>70.0</td>\n",
       "      <td>4200.366260</td>\n",
       "    </tr>\n",
       "    <tr>\n",
       "      <th>19</th>\n",
       "      <td>19.0</td>\n",
       "      <td>1139.889861</td>\n",
       "    </tr>\n",
       "    <tr>\n",
       "      <th>20</th>\n",
       "      <td>46.0</td>\n",
       "      <td>2758.999756</td>\n",
       "    </tr>\n",
       "    <tr>\n",
       "      <th>21</th>\n",
       "      <td>91.0</td>\n",
       "      <td>5459.718590</td>\n",
       "    </tr>\n",
       "    <tr>\n",
       "      <th>22</th>\n",
       "      <td>13.0</td>\n",
       "      <td>780.162510</td>\n",
       "    </tr>\n",
       "    <tr>\n",
       "      <th>23</th>\n",
       "      <td>27.0</td>\n",
       "      <td>1619.666870</td>\n",
       "    </tr>\n",
       "    <tr>\n",
       "      <th>24</th>\n",
       "      <td>58.0</td>\n",
       "      <td>3480.836410</td>\n",
       "    </tr>\n",
       "    <tr>\n",
       "      <th>25</th>\n",
       "      <td>9.0</td>\n",
       "      <td>540.504327</td>\n",
       "    </tr>\n",
       "    <tr>\n",
       "      <th>26</th>\n",
       "      <td>58.0</td>\n",
       "      <td>3480.910155</td>\n",
       "    </tr>\n",
       "    <tr>\n",
       "      <th>27</th>\n",
       "      <td>5.0</td>\n",
       "      <td>299.146654</td>\n",
       "    </tr>\n",
       "    <tr>\n",
       "      <th>28</th>\n",
       "      <td>63.0</td>\n",
       "      <td>3780.160334</td>\n",
       "    </tr>\n",
       "    <tr>\n",
       "      <th>29</th>\n",
       "      <td>20.0</td>\n",
       "      <td>1199.589384</td>\n",
       "    </tr>\n",
       "    <tr>\n",
       "      <th>30</th>\n",
       "      <td>42.0</td>\n",
       "      <td>2519.475959</td>\n",
       "    </tr>\n",
       "    <tr>\n",
       "      <th>31</th>\n",
       "      <td>84.0</td>\n",
       "      <td>5041.325008</td>\n",
       "    </tr>\n",
       "    <tr>\n",
       "      <th>32</th>\n",
       "      <td>93.0</td>\n",
       "      <td>5580.502250</td>\n",
       "    </tr>\n",
       "    <tr>\n",
       "      <th>33</th>\n",
       "      <td>49.0</td>\n",
       "      <td>2940.216493</td>\n",
       "    </tr>\n",
       "    <tr>\n",
       "      <th>34</th>\n",
       "      <td>89.0</td>\n",
       "      <td>5340.878253</td>\n",
       "    </tr>\n",
       "    <tr>\n",
       "      <th>35</th>\n",
       "      <td>57.0</td>\n",
       "      <td>3418.536546</td>\n",
       "    </tr>\n",
       "    <tr>\n",
       "      <th>36</th>\n",
       "      <td>43.0</td>\n",
       "      <td>2581.857382</td>\n",
       "    </tr>\n",
       "    <tr>\n",
       "      <th>37</th>\n",
       "      <td>51.0</td>\n",
       "      <td>3059.941567</td>\n",
       "    </tr>\n",
       "    <tr>\n",
       "      <th>38</th>\n",
       "      <td>19.0</td>\n",
       "      <td>1138.553066</td>\n",
       "    </tr>\n",
       "    <tr>\n",
       "      <th>39</th>\n",
       "      <td>79.0</td>\n",
       "      <td>4738.290221</td>\n",
       "    </tr>\n",
       "    <tr>\n",
       "      <th>40</th>\n",
       "      <td>3.0</td>\n",
       "      <td>181.323095</td>\n",
       "    </tr>\n",
       "    <tr>\n",
       "      <th>41</th>\n",
       "      <td>61.0</td>\n",
       "      <td>3661.290391</td>\n",
       "    </tr>\n",
       "    <tr>\n",
       "      <th>42</th>\n",
       "      <td>48.0</td>\n",
       "      <td>2879.776492</td>\n",
       "    </tr>\n",
       "    <tr>\n",
       "      <th>43</th>\n",
       "      <td>71.0</td>\n",
       "      <td>4259.509849</td>\n",
       "    </tr>\n",
       "    <tr>\n",
       "      <th>44</th>\n",
       "      <td>45.0</td>\n",
       "      <td>2701.028209</td>\n",
       "    </tr>\n",
       "    <tr>\n",
       "      <th>45</th>\n",
       "      <td>98.0</td>\n",
       "      <td>5878.989728</td>\n",
       "    </tr>\n",
       "    <tr>\n",
       "      <th>46</th>\n",
       "      <td>17.0</td>\n",
       "      <td>1020.086520</td>\n",
       "    </tr>\n",
       "    <tr>\n",
       "      <th>47</th>\n",
       "      <td>57.0</td>\n",
       "      <td>3420.414556</td>\n",
       "    </tr>\n",
       "    <tr>\n",
       "      <th>48</th>\n",
       "      <td>74.0</td>\n",
       "      <td>4438.396031</td>\n",
       "    </tr>\n",
       "    <tr>\n",
       "      <th>49</th>\n",
       "      <td>37.0</td>\n",
       "      <td>2219.320275</td>\n",
       "    </tr>\n",
       "  </tbody>\n",
       "</table>\n",
       "</div>"
      ],
      "text/plain": [
       "       0            1\n",
       "0   79.0  4739.781499\n",
       "1   40.0  2399.068938\n",
       "2   14.0   839.688956\n",
       "3   14.0   838.805364\n",
       "4   13.0   779.277913\n",
       "5   42.0  2521.735995\n",
       "6   70.0  4201.038519\n",
       "7   80.0  4799.269957\n",
       "8   95.0  5698.807354\n",
       "9   87.0  5219.170195\n",
       "10  85.0  5100.564658\n",
       "11  84.0  5040.688379\n",
       "12  85.0  5099.468965\n",
       "13  43.0  2579.222627\n",
       "14   8.0   479.760396\n",
       "15  33.0  1980.085077\n",
       "16  64.0  3839.717947\n",
       "17  81.0  4859.510957\n",
       "18  70.0  4200.366260\n",
       "19  19.0  1139.889861\n",
       "20  46.0  2758.999756\n",
       "21  91.0  5459.718590\n",
       "22  13.0   780.162510\n",
       "23  27.0  1619.666870\n",
       "24  58.0  3480.836410\n",
       "25   9.0   540.504327\n",
       "26  58.0  3480.910155\n",
       "27   5.0   299.146654\n",
       "28  63.0  3780.160334\n",
       "29  20.0  1199.589384\n",
       "30  42.0  2519.475959\n",
       "31  84.0  5041.325008\n",
       "32  93.0  5580.502250\n",
       "33  49.0  2940.216493\n",
       "34  89.0  5340.878253\n",
       "35  57.0  3418.536546\n",
       "36  43.0  2581.857382\n",
       "37  51.0  3059.941567\n",
       "38  19.0  1138.553066\n",
       "39  79.0  4738.290221\n",
       "40   3.0   181.323095\n",
       "41  61.0  3661.290391\n",
       "42  48.0  2879.776492\n",
       "43  71.0  4259.509849\n",
       "44  45.0  2701.028209\n",
       "45  98.0  5878.989728\n",
       "46  17.0  1020.086520\n",
       "47  57.0  3420.414556\n",
       "48  74.0  4438.396031\n",
       "49  37.0  2219.320275"
      ]
     },
     "execution_count": 266,
     "metadata": {},
     "output_type": "execute_result"
    }
   ],
   "source": [
    "pd.DataFrame(np.c_[X,y])"
   ]
  },
  {
   "cell_type": "code",
   "execution_count": 273,
   "id": "6baad0e3-98fe-4dd3-905d-5c4ae3f4a506",
   "metadata": {
    "tags": []
   },
   "outputs": [],
   "source": [
    "a_hat = np.random.randn(1)"
   ]
  },
  {
   "cell_type": "code",
   "execution_count": 274,
   "id": "543bb172-a0d9-4e4a-829f-9810569ca094",
   "metadata": {
    "tags": []
   },
   "outputs": [],
   "source": [
    "y_hat = a_hat * X"
   ]
  },
  {
   "cell_type": "code",
   "execution_count": 275,
   "id": "85cc87f4-7629-4aa9-be47-a3ae360b1b58",
   "metadata": {
    "tags": []
   },
   "outputs": [
    {
     "data": {
      "text/plain": [
       "12392728.964569746"
      ]
     },
     "execution_count": 275,
     "metadata": {},
     "output_type": "execute_result"
    }
   ],
   "source": [
    "np.sum((y_hat - y)**2)/y_hat.size"
   ]
  },
  {
   "cell_type": "code",
   "execution_count": 278,
   "id": "42b57f3e-f4c2-4259-a3b7-b1ba4ce99335",
   "metadata": {
    "tags": []
   },
   "outputs": [
    {
     "data": {
      "text/plain": [
       "3099.3992403529614"
      ]
     },
     "execution_count": 278,
     "metadata": {},
     "output_type": "execute_result"
    }
   ],
   "source": [
    "np.mean(np.sqrt((y_hat-y)**2))"
   ]
  },
  {
   "cell_type": "code",
   "execution_count": 272,
   "id": "737bb6f6-242a-4f70-a09c-281eb2da18ac",
   "metadata": {
    "tags": []
   },
   "outputs": [
    {
     "data": {
      "text/plain": [
       "array([42.53415062])"
      ]
     },
     "execution_count": 272,
     "metadata": {},
     "output_type": "execute_result"
    }
   ],
   "source": [
    "learning_rate = 1e-4\n",
    "a_hat = a_hat - learning_rate*2*np.mean(X*(y_hat-y))\n",
    "a_hat"
   ]
  },
  {
   "cell_type": "code",
   "execution_count": 277,
   "id": "c5eb0e8f-c043-4761-95a4-0c5951230235",
   "metadata": {
    "tags": []
   },
   "outputs": [
    {
     "data": {
      "text/plain": [
       "array([0.69091645])"
      ]
     },
     "execution_count": 277,
     "metadata": {},
     "output_type": "execute_result"
    }
   ],
   "source": [
    "a_hat"
   ]
  },
  {
   "cell_type": "code",
   "execution_count": 271,
   "id": "42a6d157-c17f-4c73-8492-ddcc9aa8680f",
   "metadata": {
    "tags": []
   },
   "outputs": [
    {
     "data": {
      "text/plain": [
       "array([60])"
      ]
     },
     "execution_count": 271,
     "metadata": {},
     "output_type": "execute_result"
    }
   ],
   "source": [
    "a"
   ]
  },
  {
   "cell_type": "code",
   "execution_count": 73,
   "id": "149dd3b4-d236-4a31-a3e8-a93c286ec502",
   "metadata": {
    "tags": []
   },
   "outputs": [],
   "source": [
    "a_hat = 1000"
   ]
  },
  {
   "cell_type": "code",
   "execution_count": 117,
   "id": "ecc1f023-e125-4a98-abf3-b7b28baa6a21",
   "metadata": {
    "tags": []
   },
   "outputs": [],
   "source": [
    "y_hat = a_hat * X"
   ]
  },
  {
   "cell_type": "code",
   "execution_count": 118,
   "id": "7c14d5c8-644b-49df-bb07-0762f92683f4",
   "metadata": {
    "tags": []
   },
   "outputs": [],
   "source": [
    "a_hat = a_hat - learning_rate*2*np.mean(X*(y_hat-y))"
   ]
  },
  {
   "cell_type": "code",
   "execution_count": 119,
   "id": "8a059323-5f3a-4992-bc34-e7c732dd7e7c",
   "metadata": {
    "tags": []
   },
   "outputs": [
    {
     "data": {
      "text/plain": [
       "68.99881783667645"
      ]
     },
     "execution_count": 119,
     "metadata": {},
     "output_type": "execute_result"
    }
   ],
   "source": [
    "a_hat"
   ]
  },
  {
   "cell_type": "code",
   "execution_count": 120,
   "id": "2b3c8170-dc31-4658-84ef-3d3a38d5b93a",
   "metadata": {
    "tags": []
   },
   "outputs": [
    {
     "data": {
      "text/plain": [
       "array([69])"
      ]
     },
     "execution_count": 120,
     "metadata": {},
     "output_type": "execute_result"
    }
   ],
   "source": [
    "a"
   ]
  },
  {
   "cell_type": "code",
   "execution_count": 121,
   "id": "343fbf5e-70c1-4cfc-96fa-780f468ceba3",
   "metadata": {
    "tags": []
   },
   "outputs": [
    {
     "data": {
      "text/plain": [
       "1.0191951506401327"
      ]
     },
     "execution_count": 121,
     "metadata": {},
     "output_type": "execute_result"
    }
   ],
   "source": [
    "np.sum((y_hat - y)**2)/y_hat.size"
   ]
  },
  {
   "cell_type": "code",
   "execution_count": 314,
   "id": "42d41c73-8c31-4618-9d29-28ad8e84be54",
   "metadata": {
    "tags": []
   },
   "outputs": [],
   "source": [
    "def gradient_descent(x,y,learning_rate,epochs):\n",
    "    a_hat = np.random.randn(1)\n",
    "    for _ in range(epochs):\n",
    "        y_hat = a_hat*X\n",
    "        a_hat -= learning_rate*np.mean(X*(y_hat-y))\n",
    "        err = np.sqrt(np.mean((y_hat - y)**2))\n",
    "    return a_hat"
   ]
  },
  {
   "cell_type": "code",
   "execution_count": 315,
   "id": "96beb498-4215-4d09-9a4c-76c9ac653a52",
   "metadata": {
    "tags": []
   },
   "outputs": [],
   "source": [
    "X = np.random.randn(100)\n",
    "y = 48*X"
   ]
  },
  {
   "cell_type": "code",
   "execution_count": 316,
   "id": "a81ab31f-9cba-4a62-8d77-27bdd8fca6c4",
   "metadata": {
    "tags": []
   },
   "outputs": [
    {
     "data": {
      "text/plain": [
       "array([47.9802435])"
      ]
     },
     "execution_count": 316,
     "metadata": {},
     "output_type": "execute_result"
    }
   ],
   "source": [
    "gradient_descent(X,y,1e-4,100000)"
   ]
  },
  {
   "cell_type": "code",
   "execution_count": 336,
   "id": "0c0825b5-45e4-4597-b23d-fc37606433ef",
   "metadata": {
    "tags": []
   },
   "outputs": [
    {
     "data": {
      "text/plain": [
       "3.620650323591633"
      ]
     },
     "execution_count": 336,
     "metadata": {},
     "output_type": "execute_result"
    }
   ],
   "source": [
    "np.mean(((1)*X-y))"
   ]
  },
  {
   "cell_type": "code",
   "execution_count": 168,
   "id": "ac67c75a-c88e-4838-bea1-3610580e209c",
   "metadata": {
    "tags": []
   },
   "outputs": [],
   "source": [
    "X = np.random.randn(50)"
   ]
  },
  {
   "cell_type": "code",
   "execution_count": 169,
   "id": "0f9271af-44cc-4b2f-b5a5-c82388f73076",
   "metadata": {
    "tags": []
   },
   "outputs": [],
   "source": [
    "y = -200*X + 90"
   ]
  },
  {
   "cell_type": "code",
   "execution_count": 170,
   "id": "e19cbd70-1105-49ab-b1b6-23c62c599b7a",
   "metadata": {
    "tags": []
   },
   "outputs": [],
   "source": [
    "def gradient_descent2(x,y,learning_rate,epochs):\n",
    "    a_hat = 1000\n",
    "    b_hat = 0\n",
    "    for _ in range(epochs):\n",
    "        y_hat = a_hat*x + b_hat\n",
    "        a_hat -= learning_rate*np.mean(x*(y_hat-y))\n",
    "        b_hat -= learning_rate*np.mean(y_hat-y)\n",
    "    return a_hat, b_hat"
   ]
  },
  {
   "cell_type": "code",
   "execution_count": 172,
   "id": "0da3e510-60c1-46e0-8970-0ba491d14152",
   "metadata": {
    "tags": []
   },
   "outputs": [
    {
     "data": {
      "text/plain": [
       "(-199.68564075237066, 89.81280381784484)"
      ]
     },
     "execution_count": 172,
     "metadata": {},
     "output_type": "execute_result"
    }
   ],
   "source": [
    "gradient_descent2(X,y,1e-4,100000)"
   ]
  },
  {
   "cell_type": "code",
   "execution_count": null,
   "id": "e1fb10cc-c77e-4b87-b8dd-f9d980bd9791",
   "metadata": {},
   "outputs": [],
   "source": [
    "# diff는 미분하는 함수"
   ]
  },
  {
   "cell_type": "code",
   "execution_count": 222,
   "id": "e73cfd54-cf29-4537-8afe-46aa45ea3c5d",
   "metadata": {
    "tags": []
   },
   "outputs": [],
   "source": [
    "def diff(f,x):\n",
    "    h = 1e-5\n",
    "    return (f(x+h)-f(x))/h"
   ]
  },
  {
   "cell_type": "code",
   "execution_count": 223,
   "id": "bd2ac09b-c171-4503-b95c-ac3e279f6cfb",
   "metadata": {
    "tags": []
   },
   "outputs": [],
   "source": [
    "def f(x):\n",
    "    return 2*x**2+3"
   ]
  },
  {
   "cell_type": "code",
   "execution_count": 225,
   "id": "7e5cc13a-acfa-44ef-b23d-a4ead6376a32",
   "metadata": {
    "tags": []
   },
   "outputs": [
    {
     "data": {
      "text/plain": [
       "12.000019999902632"
      ]
     },
     "execution_count": 225,
     "metadata": {},
     "output_type": "execute_result"
    }
   ],
   "source": [
    "diff(f,3)"
   ]
  },
  {
   "cell_type": "code",
   "execution_count": 181,
   "id": "3e83925f-eb31-4e24-86e1-73ec212fde3e",
   "metadata": {
    "tags": []
   },
   "outputs": [
    {
     "data": {
      "text/plain": [
       "array([  971.89053348,    56.94864108,   -49.27277808, -1688.71812352,\n",
       "       -1224.31982773,  1173.07699343,  -284.33803578,    55.73605847,\n",
       "         592.93342462,   500.0878005 ,  1678.70556499,    11.72889417,\n",
       "         748.99080651,   336.42741522,  -684.35742208,   765.9746342 ,\n",
       "        -742.91907361,  -715.24804769, -1491.61537987,  -170.83740698,\n",
       "        -284.53091096,  1006.29840887,  -198.16789211,    51.11834264,\n",
       "        -624.13236764,   493.12468864,   194.12622312,   -38.35847628,\n",
       "         944.39985074,  1964.79631664,  -962.25328779,   662.86854533,\n",
       "         539.37082143,  -877.31758179,  -566.06765467, -1454.19326814,\n",
       "         178.39999241,   782.25088677,   985.49553109,  -525.21669456,\n",
       "        1884.27307743,  1816.61102533,   523.58087285,  -299.31335126,\n",
       "         567.89588967, -1250.57608334,  1540.8539595 , -1523.71154367,\n",
       "        1273.804308  ,  -173.91719257])"
      ]
     },
     "execution_count": 181,
     "metadata": {},
     "output_type": "execute_result"
    }
   ],
   "source": [
    "a_hat = 1000\n",
    "b_hat = 0\n",
    "fx(X)"
   ]
  },
  {
   "cell_type": "code",
   "execution_count": 180,
   "id": "fa7f3d61-214c-4094-937c-239c6f361df1",
   "metadata": {
    "tags": []
   },
   "outputs": [],
   "source": [
    "def fx(X):\n",
    "    return a_hat * X + b_hat"
   ]
  },
  {
   "cell_type": "code",
   "execution_count": 218,
   "id": "905bd434-7e65-4628-9643-4b786c23eb2c",
   "metadata": {
    "tags": []
   },
   "outputs": [],
   "source": [
    "def gradient_descent3(x,y,learning_rate,epochs):\n",
    "    a_hat = np.random.randn(1)[0]\n",
    "    b_hat = 0\n",
    "    W = np.array([a_hat,b_hat])\n",
    "    for _ in range(epochs):\n",
    "        predict = lambda W : x*W[0] + W[1]\n",
    "        loss = lambda y,predict : np.mean((y - predict)**2)\n",
    "        W[0] -= diff(loss,W)[0] * learning_rate\n",
    "        W[1] -= diff(loss,W)[1] * learning_rate\n",
    "    return W[0], W[1]"
   ]
  },
  {
   "cell_type": "code",
   "execution_count": 219,
   "id": "0ef51b2c-cd7c-4404-93cf-8d267801d0b2",
   "metadata": {
    "tags": []
   },
   "outputs": [],
   "source": [
    "X = np.random.randn(100)\n",
    "y = 100 * X + 20"
   ]
  },
  {
   "cell_type": "code",
   "execution_count": 220,
   "id": "136d9e65-7cc1-4ea0-be6f-e6ad75e1b7fc",
   "metadata": {
    "tags": []
   },
   "outputs": [
    {
     "ename": "TypeError",
     "evalue": "gradient_descent3.<locals>.<lambda>() missing 1 required positional argument: 'predict'",
     "output_type": "error",
     "traceback": [
      "\u001b[1;31m---------------------------------------------------------------------------\u001b[0m",
      "\u001b[1;31mTypeError\u001b[0m                                 Traceback (most recent call last)",
      "Cell \u001b[1;32mIn[220], line 1\u001b[0m\n\u001b[1;32m----> 1\u001b[0m \u001b[43mgradient_descent3\u001b[49m\u001b[43m(\u001b[49m\u001b[43mX\u001b[49m\u001b[43m,\u001b[49m\u001b[43my\u001b[49m\u001b[43m,\u001b[49m\u001b[38;5;241;43m1e-4\u001b[39;49m\u001b[43m,\u001b[49m\u001b[38;5;241;43m10000\u001b[39;49m\u001b[43m)\u001b[49m\n",
      "Cell \u001b[1;32mIn[218], line 8\u001b[0m, in \u001b[0;36mgradient_descent3\u001b[1;34m(x, y, learning_rate, epochs)\u001b[0m\n\u001b[0;32m      6\u001b[0m     predict \u001b[38;5;241m=\u001b[39m \u001b[38;5;28;01mlambda\u001b[39;00m W : x\u001b[38;5;241m*\u001b[39mW[\u001b[38;5;241m0\u001b[39m] \u001b[38;5;241m+\u001b[39m W[\u001b[38;5;241m1\u001b[39m]\n\u001b[0;32m      7\u001b[0m     loss \u001b[38;5;241m=\u001b[39m \u001b[38;5;28;01mlambda\u001b[39;00m y,predict : np\u001b[38;5;241m.\u001b[39mmean((y \u001b[38;5;241m-\u001b[39m predict)\u001b[38;5;241m*\u001b[39m\u001b[38;5;241m*\u001b[39m\u001b[38;5;241m2\u001b[39m)\n\u001b[1;32m----> 8\u001b[0m     W[\u001b[38;5;241m0\u001b[39m] \u001b[38;5;241m-\u001b[39m\u001b[38;5;241m=\u001b[39m \u001b[43mdiff\u001b[49m\u001b[43m(\u001b[49m\u001b[43mloss\u001b[49m\u001b[43m,\u001b[49m\u001b[43mW\u001b[49m\u001b[43m)\u001b[49m[\u001b[38;5;241m0\u001b[39m] \u001b[38;5;241m*\u001b[39m learning_rate\n\u001b[0;32m      9\u001b[0m     W[\u001b[38;5;241m1\u001b[39m] \u001b[38;5;241m-\u001b[39m\u001b[38;5;241m=\u001b[39m diff(loss,W)[\u001b[38;5;241m1\u001b[39m] \u001b[38;5;241m*\u001b[39m learning_rate\n\u001b[0;32m     10\u001b[0m \u001b[38;5;28;01mreturn\u001b[39;00m W[\u001b[38;5;241m0\u001b[39m], W[\u001b[38;5;241m1\u001b[39m]\n",
      "Cell \u001b[1;32mIn[173], line 3\u001b[0m, in \u001b[0;36mdiff\u001b[1;34m(f, x)\u001b[0m\n\u001b[0;32m      1\u001b[0m \u001b[38;5;28;01mdef\u001b[39;00m \u001b[38;5;21mdiff\u001b[39m(f,x):\n\u001b[0;32m      2\u001b[0m     h \u001b[38;5;241m=\u001b[39m \u001b[38;5;241m1e-5\u001b[39m\n\u001b[1;32m----> 3\u001b[0m     \u001b[38;5;28;01mreturn\u001b[39;00m (\u001b[43mf\u001b[49m\u001b[43m(\u001b[49m\u001b[43mx\u001b[49m\u001b[38;5;241;43m+\u001b[39;49m\u001b[43mh\u001b[49m\u001b[43m)\u001b[49m\u001b[38;5;241m-\u001b[39mf(x))\u001b[38;5;241m/\u001b[39mh\n",
      "\u001b[1;31mTypeError\u001b[0m: gradient_descent3.<locals>.<lambda>() missing 1 required positional argument: 'predict'"
     ]
    }
   ],
   "source": [
    "gradient_descent3(X,y,1e-4,10000)"
   ]
  },
  {
   "cell_type": "code",
   "execution_count": null,
   "id": "8cc55deb-940c-4078-ad4a-256a369fc6dd",
   "metadata": {},
   "outputs": [],
   "source": []
  }
 ],
 "metadata": {
  "kernelspec": {
   "display_name": "Python 3 (ipykernel)",
   "language": "python",
   "name": "python3"
  },
  "language_info": {
   "codemirror_mode": {
    "name": "ipython",
    "version": 3
   },
   "file_extension": ".py",
   "mimetype": "text/x-python",
   "name": "python",
   "nbconvert_exporter": "python",
   "pygments_lexer": "ipython3",
   "version": "3.11.4"
  }
 },
 "nbformat": 4,
 "nbformat_minor": 5
}
