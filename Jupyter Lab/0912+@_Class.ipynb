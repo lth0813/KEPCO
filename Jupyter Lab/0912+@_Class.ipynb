{
 "cells": [
  {
   "cell_type": "code",
   "execution_count": 1,
   "id": "03b09ca8-5bb4-4a62-aa5c-b04b474c61e7",
   "metadata": {
    "tags": []
   },
   "outputs": [],
   "source": [
    "## 객체지향 프로그램 특징\n",
    "## encapsulation (캡슐화)\n",
    "## abstract (추상화)\n",
    "## morphise (다형성)\n",
    "## inheritence (상속)\n",
    "## python 객체지향 언어\n",
    "\n",
    "## 클래스"
   ]
  },
  {
   "cell_type": "code",
   "execution_count": 3,
   "id": "3c90a25a-8881-4f5a-8ee3-4b786a2331ef",
   "metadata": {
    "tags": []
   },
   "outputs": [
    {
     "name": "stdout",
     "output_type": "stream",
     "text": [
      "<class 'int'>\n"
     ]
    }
   ],
   "source": [
    "print(type(1))"
   ]
  },
  {
   "cell_type": "code",
   "execution_count": 62,
   "id": "5879dc0b-701c-4e15-9339-fc1827433553",
   "metadata": {
    "tags": []
   },
   "outputs": [],
   "source": [
    "## 계산 클래스를 만들자\n",
    "class Calc(object):\n",
    "    ## 생성자\n",
    "    def __init__(self,x,y):\n",
    "        self.x = x\n",
    "        self.y = y\n",
    "        \n",
    "    def add(self):\n",
    "        self.add_ = self.x + self.y\n",
    "    \n",
    "    def sub(self):\n",
    "        self.sub_ = self.x - self.y\n",
    "    \n",
    "    def multi(self):        \n",
    "        self.multi_ = self.x * self.y\n",
    "    \n",
    "    def div(self):\n",
    "        self.div_ = self.x / self.y\n",
    "    \n",
    "    def statistic(self):\n",
    "        self.add()\n",
    "        self.sub()\n",
    "        self.multi()\n",
    "        self.div()\n",
    "        \n",
    "    def report(self):\n",
    "        self.statistic()\n",
    "        print(f'더하기 결과는 {self.add_}')\n",
    "        print(f'빼기 결과는 {self.sub_}')\n",
    "        print(f'곱하기 결과는 {self.multi_}')\n",
    "        print(f'나누기 결과는 {self.div_}')\n",
    "    \n",
    "    "
   ]
  },
  {
   "cell_type": "code",
   "execution_count": 101,
   "id": "fb424103-a3ff-4c99-b127-19cf333b424e",
   "metadata": {
    "tags": []
   },
   "outputs": [],
   "source": [
    "class List(list):\n",
    "    def __init__(self,x):\n",
    "        self.x = []\n",
    "        for i in x:\n",
    "            if type(i) != str:\n",
    "                self.x.append(i)\n",
    "    def sum(self):\n",
    "        self.s = 0\n",
    "        for i in self.x:\n",
    "            self.s += i\n",
    "        return self.s\n",
    "            "
   ]
  },
  {
   "cell_type": "code",
   "execution_count": 102,
   "id": "51813e82-39c2-4d6d-b004-e18797d21d28",
   "metadata": {
    "tags": []
   },
   "outputs": [],
   "source": [
    "a = List([1,3,'5','a'])"
   ]
  },
  {
   "cell_type": "code",
   "execution_count": 99,
   "id": "4c0a682b-7848-4896-8d48-02aa4293be4e",
   "metadata": {
    "tags": []
   },
   "outputs": [],
   "source": [
    "a.append(4)"
   ]
  },
  {
   "cell_type": "code",
   "execution_count": 103,
   "id": "969f50a1-a607-4795-930e-c804c7c44c04",
   "metadata": {
    "tags": []
   },
   "outputs": [
    {
     "data": {
      "text/plain": [
       "[]"
      ]
     },
     "execution_count": 103,
     "metadata": {},
     "output_type": "execute_result"
    }
   ],
   "source": [
    "a"
   ]
  },
  {
   "cell_type": "code",
   "execution_count": 63,
   "id": "af324197-4224-4614-9bf2-5ff7b6425f61",
   "metadata": {
    "tags": []
   },
   "outputs": [],
   "source": [
    "a = Calc(3,4)\n",
    "b = Calc(5,6)"
   ]
  },
  {
   "cell_type": "code",
   "execution_count": 64,
   "id": "57cdb1b7-6082-4ce8-a0b3-a4311a602c14",
   "metadata": {
    "tags": []
   },
   "outputs": [
    {
     "name": "stdout",
     "output_type": "stream",
     "text": [
      "더하기 결과는 7\n",
      "빼기 결과는 -1\n",
      "곱하기 결과는 12\n",
      "나누기 결과는 0.75\n"
     ]
    }
   ],
   "source": [
    "a.report()"
   ]
  },
  {
   "cell_type": "code",
   "execution_count": 65,
   "id": "9f9b8b0e-d4a5-4327-a39a-4082e399720c",
   "metadata": {
    "tags": []
   },
   "outputs": [
    {
     "name": "stdout",
     "output_type": "stream",
     "text": [
      "더하기 결과는 11\n",
      "빼기 결과는 -1\n",
      "곱하기 결과는 30\n",
      "나누기 결과는 0.8333333333333334\n"
     ]
    }
   ],
   "source": [
    "b.report()"
   ]
  },
  {
   "cell_type": "code",
   "execution_count": 46,
   "id": "42513b6c-634d-4dc0-bc2f-88a01596328c",
   "metadata": {
    "tags": []
   },
   "outputs": [
    {
     "data": {
      "text/plain": [
       "-1"
      ]
     },
     "execution_count": 46,
     "metadata": {},
     "output_type": "execute_result"
    }
   ],
   "source": [
    "b.result"
   ]
  },
  {
   "cell_type": "code",
   "execution_count": 47,
   "id": "e9950823-4d14-4b37-aee7-a1eb16eecd4b",
   "metadata": {
    "tags": []
   },
   "outputs": [],
   "source": [
    "b.x = 10"
   ]
  },
  {
   "cell_type": "code",
   "execution_count": 51,
   "id": "b76739cc-894b-4995-9bb6-973d873aa511",
   "metadata": {
    "tags": []
   },
   "outputs": [
    {
     "data": {
      "text/plain": [
       "4"
      ]
     },
     "execution_count": 51,
     "metadata": {},
     "output_type": "execute_result"
    }
   ],
   "source": [
    "b.result"
   ]
  },
  {
   "cell_type": "code",
   "execution_count": null,
   "id": "39a02106-1e05-4f1a-b049-4ce5f81db938",
   "metadata": {},
   "outputs": [],
   "source": []
  }
 ],
 "metadata": {
  "kernelspec": {
   "display_name": "Python 3 (ipykernel)",
   "language": "python",
   "name": "python3"
  },
  "language_info": {
   "codemirror_mode": {
    "name": "ipython",
    "version": 3
   },
   "file_extension": ".py",
   "mimetype": "text/x-python",
   "name": "python",
   "nbconvert_exporter": "python",
   "pygments_lexer": "ipython3",
   "version": "3.11.4"
  }
 },
 "nbformat": 4,
 "nbformat_minor": 5
}
