{
 "cells": [
  {
   "cell_type": "code",
   "execution_count": 2,
   "id": "e2c5ac54-9751-4a26-ac75-af5d7029c33e",
   "metadata": {},
   "outputs": [
    {
     "data": {
      "text/plain": [
       "'C:\\\\work'"
      ]
     },
     "execution_count": 2,
     "metadata": {},
     "output_type": "execute_result"
    }
   ],
   "source": [
    "import os\n",
    "os.getcwd()"
   ]
  },
  {
   "cell_type": "code",
   "execution_count": 3,
   "id": "f31cab72-9afb-487d-b113-21cca3ebde21",
   "metadata": {
    "tags": []
   },
   "outputs": [
    {
     "name": "stdout",
     "output_type": "stream",
     "text": [
      " C 드라이브의 볼륨에는 이름이 없습니다.\n",
      " 볼륨 일련 번호: 6AA7-95FF\n",
      "\n",
      " C:\\work 디렉터리\n",
      "\n",
      "2023-10-11  오후 06:16        16,436,736 chromedriver.exe\n",
      "               1개 파일          16,436,736 바이트\n",
      "               0개 디렉터리  435,806,457,856 바이트 남음\n"
     ]
    }
   ],
   "source": [
    "!dir chromedriver*"
   ]
  },
  {
   "cell_type": "code",
   "execution_count": 6,
   "id": "675ab9d6-4d25-4c5b-861e-9ab22d202e7e",
   "metadata": {
    "tags": []
   },
   "outputs": [],
   "source": [
    "import selenium"
   ]
  },
  {
   "cell_type": "code",
   "execution_count": 7,
   "id": "f9fa0615-93d1-413f-81e8-b57ddde6f0c1",
   "metadata": {
    "tags": []
   },
   "outputs": [
    {
     "data": {
      "text/plain": [
       "'4.14.0'"
      ]
     },
     "execution_count": 7,
     "metadata": {},
     "output_type": "execute_result"
    }
   ],
   "source": [
    "# 외부 모듈 버전 체크\n",
    "selenium.__version__"
   ]
  },
  {
   "cell_type": "code",
   "execution_count": 8,
   "id": "fe50db2f-5579-4b51-8138-1e480bca4940",
   "metadata": {
    "tags": []
   },
   "outputs": [
    {
     "data": {
      "text/plain": [
       "['__builtins__',\n",
       " '__cached__',\n",
       " '__doc__',\n",
       " '__file__',\n",
       " '__loader__',\n",
       " '__name__',\n",
       " '__package__',\n",
       " '__path__',\n",
       " '__spec__',\n",
       " '__version__']"
      ]
     },
     "execution_count": 8,
     "metadata": {},
     "output_type": "execute_result"
    }
   ],
   "source": [
    "dir(selenium)"
   ]
  },
  {
   "cell_type": "code",
   "execution_count": 84,
   "id": "17d08181-fe3e-4426-a58b-bf17c2903a68",
   "metadata": {
    "tags": []
   },
   "outputs": [],
   "source": [
    "import time\n",
    "from selenium import webdriver\n",
    "from selenium.webdriver.common.keys import Keys\n",
    "from selenium.webdriver.common.by import By\n",
    "from urllib.request import urlretrieve"
   ]
  },
  {
   "cell_type": "code",
   "execution_count": null,
   "id": "aa220229-3405-43bf-b78b-56aed29bd82c",
   "metadata": {},
   "outputs": [],
   "source": [
    "dir(webdriver)"
   ]
  },
  {
   "cell_type": "code",
   "execution_count": 85,
   "id": "b96bd093-2555-429f-8412-432003385748",
   "metadata": {
    "tags": []
   },
   "outputs": [],
   "source": [
    "driver = webdriver.Chrome()"
   ]
  },
  {
   "cell_type": "code",
   "execution_count": 94,
   "id": "213c9fd7-b888-4f39-b7fb-aae1f75928c8",
   "metadata": {
    "tags": []
   },
   "outputs": [],
   "source": [
    "# 웹브라우저 주소창에 입력 = get\n",
    "url = \"https://www.google.com/\"\n",
    "driver.get(url)"
   ]
  },
  {
   "cell_type": "code",
   "execution_count": 95,
   "id": "3d24dc38-deee-4fe6-9597-0e908acd4ef2",
   "metadata": {
    "tags": []
   },
   "outputs": [],
   "source": [
    "driver.find_elements(By.CSS_SELECTOR,'.gb_E')[1].click()"
   ]
  },
  {
   "cell_type": "code",
   "execution_count": 96,
   "id": "b4152778-34ce-4543-86c9-a97a50b0ee21",
   "metadata": {
    "tags": []
   },
   "outputs": [],
   "source": [
    "# name으로 찾으면 편함\n",
    "elem = driver.find_element(By.NAME,'q')"
   ]
  },
  {
   "cell_type": "code",
   "execution_count": 97,
   "id": "3ceb89ea-ab7b-4625-90d6-67f24fd0b8fd",
   "metadata": {
    "tags": []
   },
   "outputs": [],
   "source": [
    "elem.send_keys('고양이')\n",
    "elem.send_keys(Keys.ENTER)"
   ]
  },
  {
   "cell_type": "code",
   "execution_count": 101,
   "id": "19b2dd5e-1993-45b5-8325-dce965157669",
   "metadata": {
    "tags": []
   },
   "outputs": [],
   "source": [
    "elements = driver.find_elements(By.CSS_SELECTOR,\".rg_i.Q4LuWd\")"
   ]
  },
  {
   "cell_type": "code",
   "execution_count": 102,
   "id": "45d1d7a8-a591-48ff-bf62-346a04d08c07",
   "metadata": {
    "tags": []
   },
   "outputs": [],
   "source": [
    "elements[0].click()"
   ]
  },
  {
   "cell_type": "code",
   "execution_count": 103,
   "id": "b956b25e-daac-49f9-9481-45d5499e1d7b",
   "metadata": {
    "tags": []
   },
   "outputs": [],
   "source": [
    "# get_attribute = 해당 클래스의 내용 가져오기\n",
    "img_url = driver.find_element(By.CSS_SELECTOR,'.sFlh5c.pT0Scc.iPVvYb').get_attribute('src')"
   ]
  },
  {
   "cell_type": "code",
   "execution_count": 104,
   "id": "6307c7ce-f941-40c1-b8ed-1655624d4eb2",
   "metadata": {
    "tags": []
   },
   "outputs": [
    {
     "name": "stdout",
     "output_type": "stream",
     "text": [
      "https://health.chosun.com/site/data/img_dir/2023/07/17/2023071701753_0.jpg\n",
      "https://health.chosun.com/site/data/img_dir/2023/07/17/2023071701753_0.jpg\n",
      "https://cat-lab.co.kr/data/editor/2203/4fea39b9ee8ab23e62522153035041fc_1646215721_8448.jpg\n",
      "https://cdn.pixabay.com/photo/2023/04/13/17/53/kitten-7923121_1280.jpg\n",
      "https://i.namu.wiki/i/XGgP6E-6eOwHuC84pFQpqvTvFAj1VjJQJlOOQV7Ky3MrBzI-IdXGw9r4L1YkCxUv5Uk3rYVWkmWHY8unoh8iSQ.webp\n",
      "https://cdn.imweb.me/upload/S20210807d1f68b7a970c2/7170113c6a983.jpg\n",
      "https://i.namu.wiki/i/32bQvvHQB1n8yrNkKNXfn5rFrRi1PWIqPqnZ2j9Rxt6IrOgWorbW_v0Wm51z7C1GxL60o097Uqf2SNf56GBIeA.webp\n"
     ]
    }
   ],
   "source": [
    "i = 1\n",
    "for elem in elements:\n",
    "    try:\n",
    "        elem.click()\n",
    "        img_url = driver.find_element(By.CSS_SELECTOR,'.sFlh5c.pT0Scc.iPVvYb').get_attribute('src')\n",
    "        urlretrieve(img_url,\"cat\"+str(i)+\".jpg\")\n",
    "        i += 1\n",
    "    except:\n",
    "        print(img_url)"
   ]
  },
  {
   "cell_type": "code",
   "execution_count": 63,
   "id": "dc6fe567-b1cc-48db-ba96-9aa794f772e6",
   "metadata": {
    "tags": []
   },
   "outputs": [],
   "source": [
    "i = 1\n",
    "for elem in elements:\n",
    "    try:\n",
    "        elem.click()\n",
    "        i += 1\n",
    "    except:\n",
    "        pass"
   ]
  },
  {
   "cell_type": "code",
   "execution_count": 34,
   "id": "91ab9c96-53c7-49ab-8d07-eed11b04c567",
   "metadata": {
    "tags": []
   },
   "outputs": [
    {
     "data": {
      "text/plain": [
       "['__abstractmethods__',\n",
       " '__class__',\n",
       " '__delattr__',\n",
       " '__dict__',\n",
       " '__dir__',\n",
       " '__doc__',\n",
       " '__eq__',\n",
       " '__format__',\n",
       " '__ge__',\n",
       " '__getattribute__',\n",
       " '__getstate__',\n",
       " '__gt__',\n",
       " '__hash__',\n",
       " '__init__',\n",
       " '__init_subclass__',\n",
       " '__le__',\n",
       " '__lt__',\n",
       " '__module__',\n",
       " '__ne__',\n",
       " '__new__',\n",
       " '__reduce__',\n",
       " '__reduce_ex__',\n",
       " '__repr__',\n",
       " '__setattr__',\n",
       " '__sizeof__',\n",
       " '__str__',\n",
       " '__subclasshook__',\n",
       " '__weakref__',\n",
       " '_abc_impl',\n",
       " '_execute',\n",
       " '_id',\n",
       " '_parent',\n",
       " '_upload',\n",
       " 'accessible_name',\n",
       " 'aria_role',\n",
       " 'clear',\n",
       " 'click',\n",
       " 'find_element',\n",
       " 'find_elements',\n",
       " 'get_attribute',\n",
       " 'get_dom_attribute',\n",
       " 'get_property',\n",
       " 'id',\n",
       " 'is_displayed',\n",
       " 'is_enabled',\n",
       " 'is_selected',\n",
       " 'location',\n",
       " 'location_once_scrolled_into_view',\n",
       " 'parent',\n",
       " 'rect',\n",
       " 'screenshot',\n",
       " 'screenshot_as_base64',\n",
       " 'screenshot_as_png',\n",
       " 'send_keys',\n",
       " 'shadow_root',\n",
       " 'size',\n",
       " 'submit',\n",
       " 'tag_name',\n",
       " 'text',\n",
       " 'value_of_css_property']"
      ]
     },
     "execution_count": 34,
     "metadata": {},
     "output_type": "execute_result"
    }
   ],
   "source": [
    "dir(Keys)\n",
    "dir(elem)"
   ]
  },
  {
   "cell_type": "code",
   "execution_count": null,
   "id": "283f3cd6-ed25-49af-b499-499127b97dfd",
   "metadata": {},
   "outputs": [],
   "source": []
  }
 ],
 "metadata": {
  "kernelspec": {
   "display_name": "Python 3 (ipykernel)",
   "language": "python",
   "name": "python3"
  },
  "language_info": {
   "codemirror_mode": {
    "name": "ipython",
    "version": 3
   },
   "file_extension": ".py",
   "mimetype": "text/x-python",
   "name": "python",
   "nbconvert_exporter": "python",
   "pygments_lexer": "ipython3",
   "version": "3.11.4"
  }
 },
 "nbformat": 4,
 "nbformat_minor": 5
}
