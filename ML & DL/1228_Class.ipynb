{
 "cells": [
  {
   "cell_type": "code",
   "execution_count": 1,
   "id": "ddff4ea0-cb14-414e-9ddd-b9dfff276a9b",
   "metadata": {
    "tags": []
   },
   "outputs": [],
   "source": [
    "import numpy as np\n",
    "import pandas as pd"
   ]
  },
  {
   "cell_type": "code",
   "execution_count": 2,
   "id": "9430ab11-3b49-4bba-9930-1d7bbb09f89a",
   "metadata": {
    "tags": []
   },
   "outputs": [],
   "source": [
    "# 1. data\n",
    "sample = pd.read_csv(\"sample.csv\")"
   ]
  },
  {
   "cell_type": "code",
   "execution_count": 3,
   "id": "b79f3bce-41f4-44d7-ab04-85fe983ff131",
   "metadata": {
    "tags": []
   },
   "outputs": [],
   "source": [
    "sample = sample.iloc[:,1:]"
   ]
  },
  {
   "cell_type": "code",
   "execution_count": 4,
   "id": "270a5e7d-be76-4aca-a6ab-4df4516cb5d7",
   "metadata": {
    "tags": []
   },
   "outputs": [
    {
     "data": {
      "text/html": [
       "<div>\n",
       "<style scoped>\n",
       "    .dataframe tbody tr th:only-of-type {\n",
       "        vertical-align: middle;\n",
       "    }\n",
       "\n",
       "    .dataframe tbody tr th {\n",
       "        vertical-align: top;\n",
       "    }\n",
       "\n",
       "    .dataframe thead th {\n",
       "        text-align: right;\n",
       "    }\n",
       "</style>\n",
       "<table border=\"1\" class=\"dataframe\">\n",
       "  <thead>\n",
       "    <tr style=\"text-align: right;\">\n",
       "      <th></th>\n",
       "      <th>outlook</th>\n",
       "      <th>temp</th>\n",
       "      <th>humidity</th>\n",
       "      <th>windy</th>\n",
       "      <th>play</th>\n",
       "    </tr>\n",
       "  </thead>\n",
       "  <tbody>\n",
       "    <tr>\n",
       "      <th>0</th>\n",
       "      <td>overcast</td>\n",
       "      <td>hot</td>\n",
       "      <td>high</td>\n",
       "      <td>False</td>\n",
       "      <td>yes</td>\n",
       "    </tr>\n",
       "    <tr>\n",
       "      <th>1</th>\n",
       "      <td>overcast</td>\n",
       "      <td>cool</td>\n",
       "      <td>normal</td>\n",
       "      <td>True</td>\n",
       "      <td>yes</td>\n",
       "    </tr>\n",
       "    <tr>\n",
       "      <th>2</th>\n",
       "      <td>overcast</td>\n",
       "      <td>mild</td>\n",
       "      <td>high</td>\n",
       "      <td>True</td>\n",
       "      <td>yes</td>\n",
       "    </tr>\n",
       "    <tr>\n",
       "      <th>3</th>\n",
       "      <td>overcast</td>\n",
       "      <td>hot</td>\n",
       "      <td>normal</td>\n",
       "      <td>False</td>\n",
       "      <td>yes</td>\n",
       "    </tr>\n",
       "    <tr>\n",
       "      <th>4</th>\n",
       "      <td>rainy</td>\n",
       "      <td>mild</td>\n",
       "      <td>high</td>\n",
       "      <td>False</td>\n",
       "      <td>yes</td>\n",
       "    </tr>\n",
       "    <tr>\n",
       "      <th>5</th>\n",
       "      <td>rainy</td>\n",
       "      <td>cool</td>\n",
       "      <td>normal</td>\n",
       "      <td>False</td>\n",
       "      <td>yes</td>\n",
       "    </tr>\n",
       "    <tr>\n",
       "      <th>6</th>\n",
       "      <td>rainy</td>\n",
       "      <td>cool</td>\n",
       "      <td>normal</td>\n",
       "      <td>True</td>\n",
       "      <td>no</td>\n",
       "    </tr>\n",
       "    <tr>\n",
       "      <th>7</th>\n",
       "      <td>rainy</td>\n",
       "      <td>mild</td>\n",
       "      <td>normal</td>\n",
       "      <td>False</td>\n",
       "      <td>yes</td>\n",
       "    </tr>\n",
       "    <tr>\n",
       "      <th>8</th>\n",
       "      <td>rainy</td>\n",
       "      <td>mild</td>\n",
       "      <td>high</td>\n",
       "      <td>True</td>\n",
       "      <td>no</td>\n",
       "    </tr>\n",
       "    <tr>\n",
       "      <th>9</th>\n",
       "      <td>sunny</td>\n",
       "      <td>hot</td>\n",
       "      <td>high</td>\n",
       "      <td>False</td>\n",
       "      <td>no</td>\n",
       "    </tr>\n",
       "    <tr>\n",
       "      <th>10</th>\n",
       "      <td>sunny</td>\n",
       "      <td>hot</td>\n",
       "      <td>high</td>\n",
       "      <td>True</td>\n",
       "      <td>no</td>\n",
       "    </tr>\n",
       "    <tr>\n",
       "      <th>11</th>\n",
       "      <td>sunny</td>\n",
       "      <td>mild</td>\n",
       "      <td>high</td>\n",
       "      <td>False</td>\n",
       "      <td>no</td>\n",
       "    </tr>\n",
       "    <tr>\n",
       "      <th>12</th>\n",
       "      <td>sunny</td>\n",
       "      <td>cool</td>\n",
       "      <td>normal</td>\n",
       "      <td>False</td>\n",
       "      <td>yes</td>\n",
       "    </tr>\n",
       "    <tr>\n",
       "      <th>13</th>\n",
       "      <td>sunny</td>\n",
       "      <td>mild</td>\n",
       "      <td>normal</td>\n",
       "      <td>True</td>\n",
       "      <td>yes</td>\n",
       "    </tr>\n",
       "  </tbody>\n",
       "</table>\n",
       "</div>"
      ],
      "text/plain": [
       "     outlook  temp humidity  windy play\n",
       "0   overcast   hot     high  False  yes\n",
       "1   overcast  cool   normal   True  yes\n",
       "2   overcast  mild     high   True  yes\n",
       "3   overcast   hot   normal  False  yes\n",
       "4      rainy  mild     high  False  yes\n",
       "5      rainy  cool   normal  False  yes\n",
       "6      rainy  cool   normal   True   no\n",
       "7      rainy  mild   normal  False  yes\n",
       "8      rainy  mild     high   True   no\n",
       "9      sunny   hot     high  False   no\n",
       "10     sunny   hot     high   True   no\n",
       "11     sunny  mild     high  False   no\n",
       "12     sunny  cool   normal  False  yes\n",
       "13     sunny  mild   normal   True  yes"
      ]
     },
     "execution_count": 4,
     "metadata": {},
     "output_type": "execute_result"
    }
   ],
   "source": [
    "sample"
   ]
  },
  {
   "cell_type": "code",
   "execution_count": 5,
   "id": "9a25d64c-975d-4cb9-978d-616263dacfc8",
   "metadata": {
    "tags": []
   },
   "outputs": [
    {
     "data": {
      "text/plain": [
       "0.6428571428571429"
      ]
     },
     "execution_count": 5,
     "metadata": {},
     "output_type": "execute_result"
    }
   ],
   "source": [
    "len(sample.loc[sample.play == 'yes',:])/len(sample)"
   ]
  },
  {
   "cell_type": "code",
   "execution_count": 6,
   "id": "7d8f61e7-4239-4002-b41c-c1ded7241cf3",
   "metadata": {
    "tags": []
   },
   "outputs": [
    {
     "data": {
      "text/plain": [
       "0.35714285714285715"
      ]
     },
     "execution_count": 6,
     "metadata": {},
     "output_type": "execute_result"
    }
   ],
   "source": [
    "len(sample.loc[sample.play == 'no',:])/len(sample)"
   ]
  },
  {
   "cell_type": "code",
   "execution_count": 7,
   "id": "4d7d2862-9427-4d71-b369-0cb509eebca7",
   "metadata": {
    "tags": []
   },
   "outputs": [],
   "source": [
    "pk_yes = np.sum(sample.play == 'yes')/len(sample)\n",
    "pk_no = np.sum(sample.play == 'no')/len(sample)"
   ]
  },
  {
   "cell_type": "code",
   "execution_count": 8,
   "id": "607bdf9d-daf6-4f27-884d-e6f5cc02766d",
   "metadata": {
    "tags": []
   },
   "outputs": [
    {
     "data": {
      "text/plain": [
       "0.9402859586706311"
      ]
     },
     "execution_count": 8,
     "metadata": {},
     "output_type": "execute_result"
    }
   ],
   "source": [
    "-(pk_yes*np.log2(pk_yes) + pk_no*np.log2(pk_no))"
   ]
  },
  {
   "cell_type": "code",
   "execution_count": 9,
   "id": "6f025479-726d-471c-82bc-c048f4748e3e",
   "metadata": {
    "tags": []
   },
   "outputs": [],
   "source": [
    "overcast_ = sample.loc[sample.outlook == 'overcast',:]"
   ]
  },
  {
   "cell_type": "code",
   "execution_count": 10,
   "id": "4a9be04b-f28f-4884-8712-b83e139a6697",
   "metadata": {
    "tags": []
   },
   "outputs": [],
   "source": [
    "def entropy(x):\n",
    "    px = np.unique(x,return_counts = True)[1]/len(x)\n",
    "    entropy_ = -np.sum(px * np.log2(px))\n",
    "    return entropy_"
   ]
  },
  {
   "cell_type": "code",
   "execution_count": 11,
   "id": "00f2a335-072e-46c0-8537-8b5982f1c9ec",
   "metadata": {
    "tags": []
   },
   "outputs": [],
   "source": [
    "# y = play\n",
    "total = entropy(sample.play)\n",
    "# x = sample 독립변수"
   ]
  },
  {
   "cell_type": "code",
   "execution_count": 12,
   "id": "08947fd5-0605-47af-8953-2acb02698716",
   "metadata": {
    "tags": []
   },
   "outputs": [],
   "source": [
    "# data = sample\n",
    "# x = temp\n",
    "def info_gain(data,x,y):\n",
    "    total = entropy(data[y])\n",
    "    vals, counts = np.unique(data[x],return_counts=True)\n",
    "    gain = [ count/len(data)*entropy(data.loc[data[x] == val, y ]) for val, count in zip(vals,counts)]\n",
    "    return total - np.sum(gain)"
   ]
  },
  {
   "cell_type": "code",
   "execution_count": 14,
   "id": "2cad1d56-19e2-4a9b-b757-5a58ca2f8bb7",
   "metadata": {
    "tags": []
   },
   "outputs": [
    {
     "data": {
      "text/plain": [
       "0.24674981977443933"
      ]
     },
     "execution_count": 14,
     "metadata": {},
     "output_type": "execute_result"
    }
   ],
   "source": [
    "info_gain(sample,'outlook','play')"
   ]
  },
  {
   "cell_type": "code",
   "execution_count": 15,
   "id": "8fcae0e3-e1c8-4f83-93c4-82a2af0ed3a6",
   "metadata": {
    "tags": []
   },
   "outputs": [
    {
     "data": {
      "text/plain": [
       "0.02922256565895487"
      ]
     },
     "execution_count": 15,
     "metadata": {},
     "output_type": "execute_result"
    }
   ],
   "source": [
    "info_gain(sample,'temp','play')"
   ]
  },
  {
   "cell_type": "code",
   "execution_count": 16,
   "id": "3d7a58a5-fdcc-4be8-9b2c-fd4e6a00f25f",
   "metadata": {
    "tags": []
   },
   "outputs": [
    {
     "data": {
      "text/plain": [
       "0.15183550136234159"
      ]
     },
     "execution_count": 16,
     "metadata": {},
     "output_type": "execute_result"
    }
   ],
   "source": [
    "info_gain(sample,'humidity','play')"
   ]
  },
  {
   "cell_type": "code",
   "execution_count": 17,
   "id": "4401a6b8-53ef-489f-8a09-849b5d79c0a6",
   "metadata": {
    "tags": []
   },
   "outputs": [
    {
     "data": {
      "text/plain": [
       "0.04812703040826949"
      ]
     },
     "execution_count": 17,
     "metadata": {},
     "output_type": "execute_result"
    }
   ],
   "source": [
    "info_gain(sample,'windy','play')"
   ]
  },
  {
   "cell_type": "markdown",
   "id": "4ccf970f-4f96-4ecd-b9fb-03f598caa6ea",
   "metadata": {
    "tags": []
   },
   "source": [
    "12/28"
   ]
  },
  {
   "cell_type": "code",
   "execution_count": 19,
   "id": "6e39e4a1-17e4-494e-8549-625a7f629f3a",
   "metadata": {
    "tags": []
   },
   "outputs": [],
   "source": [
    "x = np.array([1,1,1,1,3,2])"
   ]
  },
  {
   "cell_type": "code",
   "execution_count": 21,
   "id": "306d9fb1-e7cc-48ec-8c79-ebb514b41db2",
   "metadata": {
    "tags": []
   },
   "outputs": [],
   "source": [
    "px = np.unique(x,return_counts=True)[1]/len(x)"
   ]
  },
  {
   "cell_type": "code",
   "execution_count": 24,
   "id": "bdf6efc3-ee17-49fc-8037-eb7675d94561",
   "metadata": {
    "tags": []
   },
   "outputs": [
    {
     "data": {
      "text/plain": [
       "1.2516291673878228"
      ]
     },
     "execution_count": 24,
     "metadata": {},
     "output_type": "execute_result"
    }
   ],
   "source": [
    "np.sum(-px * np.log2(px))"
   ]
  },
  {
   "cell_type": "code",
   "execution_count": 25,
   "id": "3fb2de09-b650-4625-a5cf-44dd546c2cb0",
   "metadata": {
    "tags": []
   },
   "outputs": [
    {
     "data": {
      "text/plain": [
       "(array(['cool', 'hot', 'mild'], dtype=object), array([4, 4, 6], dtype=int64))"
      ]
     },
     "execution_count": 25,
     "metadata": {},
     "output_type": "execute_result"
    }
   ],
   "source": [
    "np.unique(sample['temp'],return_counts=True)"
   ]
  },
  {
   "cell_type": "code",
   "execution_count": 26,
   "id": "4c2c1c6f-1615-4da1-9cad-d339423f1548",
   "metadata": {
    "tags": []
   },
   "outputs": [
    {
     "data": {
      "text/plain": [
       "0.9402859586706311"
      ]
     },
     "execution_count": 26,
     "metadata": {},
     "output_type": "execute_result"
    }
   ],
   "source": [
    "entropy(sample.play)"
   ]
  },
  {
   "cell_type": "code",
   "execution_count": 46,
   "id": "b7ee306d-46b0-4c49-827e-0d7f74c9ef59",
   "metadata": {
    "tags": []
   },
   "outputs": [
    {
     "data": {
      "text/plain": [
       "0.9110633930116763"
      ]
     },
     "execution_count": 46,
     "metadata": {},
     "output_type": "execute_result"
    }
   ],
   "source": [
    "# data : sample\n",
    "# 종속변수(y) : play\n",
    "# 독립(선택)변수(x1) : temp\n",
    "\n",
    "sample.temp\n",
    "# temp에 몇 종류가 있는지 unique 매개변수를 사용해서 파악 후 종류마다의 엔트로피를 구한다. np.unique(sample.temp) -> hot, cool, mild (3종류)\n",
    "np.unique(sample.temp)[0] # cool일 경우만 먼저 구한다\n",
    "x1 = sample.loc[sample['temp'] == np.unique(sample.temp)[0],'play'] # temp가 cool일 경우의 play만 구해서 x1로 지정\n",
    "count_x1 = len(x1) # x1의 개수를 구한다.\n",
    "entropy(x1) # x1의 엔트로피를 구한다.\n",
    "np.unique(sample.temp)[1] # hot일 경우를 구한다.\n",
    "x2 = sample.loc[sample['temp'] == np.unique(sample.temp)[1],'play'] # temp가 hot일 경우의 play만 구해서 x2로 지정\n",
    "count_x2 = len(x2) # x2의 개수를 구한다.\n",
    "entropy(x2) # x2의 엔트로피를 구한다.\n",
    "np.unique(sample.temp)[2] # mild일 경우를 구한다.\n",
    "x3 = sample.loc[sample['temp'] == np.unique(sample.temp)[2],'play'] # temp가 mild일 경우의 play만 구해서 x2로 지정\n",
    "count_x3 = len(x3) # x3의 개수를 구한다.\n",
    "entropy(x3) # x3의 엔트로피를 구한다.\n",
    "entropy(x1), entropy(x2), entropy(x3), count_x1, count_x2, count_x3\n",
    "#확률 값을 출력해본다.\n",
    "px1 = count_x1/len(sample)\n",
    "px2 = count_x2/len(sample)\n",
    "px3 = count_x3/len(sample)\n",
    "# 각 엔트로피에 대한 확률 값을 리스트로 만들어서 더한다.\n",
    "gain = [px1 * entropy(x1), px2 * entropy(x2), px3 * entropy(x3)]\n",
    "np.sum(gain)"
   ]
  },
  {
   "cell_type": "code",
   "execution_count": 47,
   "id": "97108d0d-6b69-4939-8fe6-86083b7af38f",
   "metadata": {
    "tags": []
   },
   "outputs": [
    {
     "data": {
      "text/plain": [
       "0.9110633930116763"
      ]
     },
     "execution_count": 47,
     "metadata": {},
     "output_type": "execute_result"
    }
   ],
   "source": [
    "#이제 위에서 했던 것을 for문으로 만든다.\n",
    "gain = []\n",
    "for val in np.unique(sample.temp):\n",
    "    x = sample.loc[sample['temp'] == val,'play']\n",
    "    count_x = len(x)\n",
    "    px = count_x/len(sample)\n",
    "    gain.append(px*entropy(x))\n",
    "np.sum(gain)"
   ]
  },
  {
   "cell_type": "code",
   "execution_count": 64,
   "id": "6b7e15c5-0730-4712-a713-90dd79ebb3fa",
   "metadata": {
    "tags": []
   },
   "outputs": [],
   "source": [
    "# temp를 포함한 다른 선택변수도 적용할 수 있고, sample이 아닌 다른 데이터도 구할 수 있도록 함수로 구현한다.\n",
    "def get_gain(data,x,y):\n",
    "    total_info = entropy(data[y])\n",
    "    gain = []\n",
    "    for val in np.unique(data[x]):\n",
    "        info = data.loc[data[x] == val,y]\n",
    "        count_info = len(info)\n",
    "        p_info = count_info/len(data)\n",
    "        gain.append(p_info*entropy(info))\n",
    "    return total_info - np.sum(gain)\n",
    "# MAX에서 뺀 값이 변화가 가장 큰 것을 구하는 것 total_info - np.sum(gain)"
   ]
  },
  {
   "cell_type": "code",
   "execution_count": 65,
   "id": "5596a056-41ec-4437-83ad-06a607f79d59",
   "metadata": {
    "tags": []
   },
   "outputs": [
    {
     "data": {
      "text/plain": [
       "(0.24674981977443933,\n",
       " 0.02922256565895487,\n",
       " 0.15183550136234159,\n",
       " 0.04812703040826949)"
      ]
     },
     "execution_count": 65,
     "metadata": {},
     "output_type": "execute_result"
    }
   ],
   "source": [
    "# 각 선택변수를 적용시켜 가장 큰 값을 구하자.\n",
    "get_gain(sample,'outlook','play'), get_gain(sample,'temp','play'), get_gain(sample,'humidity','play'), get_gain(sample,'windy','play')"
   ]
  },
  {
   "cell_type": "code",
   "execution_count": 75,
   "id": "58554344-1210-4e56-9841-812c41ddbde8",
   "metadata": {
    "tags": []
   },
   "outputs": [
    {
     "data": {
      "text/plain": [
       "'outlook'"
      ]
     },
     "execution_count": 75,
     "metadata": {},
     "output_type": "execute_result"
    }
   ],
   "source": [
    "# 각 선택변수를 알아서 적용시키게끔 for문으로 구현\n",
    "features = sample.columns[:-1]\n",
    "aa = []\n",
    "for i in features:\n",
    "    aa.append(get_gain(sample,i,'play'))\n",
    "features[np.argmax(aa)]\n",
    "# 가장 큰 값의 인덱스 값을 출력해서 변수명을 찾는다."
   ]
  },
  {
   "cell_type": "code",
   "execution_count": 82,
   "id": "979399c2-f466-4c2e-a70b-b3baff0120af",
   "metadata": {
    "tags": []
   },
   "outputs": [],
   "source": [
    "# 위에 했던 것도 함수화 합시다..\n",
    "def max_gain(data,x,y):\n",
    "    return x[np.argmax([get_gain(data,i,y) for i in x])]"
   ]
  },
  {
   "cell_type": "code",
   "execution_count": 83,
   "id": "627bf1fb-43f7-462e-beae-5bf4b28b8771",
   "metadata": {
    "tags": []
   },
   "outputs": [
    {
     "data": {
      "text/plain": [
       "'outlook'"
      ]
     },
     "execution_count": 83,
     "metadata": {},
     "output_type": "execute_result"
    }
   ],
   "source": [
    "max_gain(sample,sample.columns[:-1],sample.columns[-1])"
   ]
  },
  {
   "cell_type": "code",
   "execution_count": 84,
   "id": "817034c9-40a4-4eb7-b506-2878a3911519",
   "metadata": {
    "tags": []
   },
   "outputs": [],
   "source": [
    "# 그 동안 했던 거를 정리해봅시다.\n",
    "# entropy\n",
    "def entropy(x):\n",
    "    px = np.unique(x,return_counts = True)[1]/len(x)\n",
    "    entropy_ = -np.sum(px * np.log2(px))\n",
    "    return entropy_\n",
    "# get_gain\n",
    "def get_gain(data,x,y):\n",
    "    total_info = entropy(data[y])\n",
    "    gain = []\n",
    "    for val in np.unique(data[x]):\n",
    "        info = data.loc[data[x] == val,y]\n",
    "        count_info = len(info)\n",
    "        p_info = count_info/len(data)\n",
    "        gain.append(p_info*entropy(info))\n",
    "    return total_info - np.sum(gain)\n",
    "# max_gain\n",
    "def max_gain(data,x,y):\n",
    "    return x[np.argmax([get_gain(data,i,y) for i in x])]\n",
    "# 이제 이 3개를 이용해서 tree를 만드려고합니다."
   ]
  },
  {
   "cell_type": "code",
   "execution_count": 322,
   "id": "c2cf5c47-034d-4c4c-beb1-bdc49548bb64",
   "metadata": {
    "tags": []
   },
   "outputs": [],
   "source": [
    "data = sample\n",
    "x = sample.columns[:-1]\n",
    "y = sample.columns[-1]\n",
    "best_feature = max_gain(data,x,y)"
   ]
  },
  {
   "cell_type": "code",
   "execution_count": 165,
   "id": "fc6f19db-0dd4-4e10-b234-c21c6b56c545",
   "metadata": {
    "tags": []
   },
   "outputs": [],
   "source": [
    "# 여기까지는 sample에서 제일 좋은 값인 outlook을 구했고 outlook에서 트리를 만들어야겠죠?\n",
    "tree = {best_feature:{}}"
   ]
  },
  {
   "cell_type": "code",
   "execution_count": 166,
   "id": "89722f1d-ceba-43ef-b37f-b97b2b9151b6",
   "metadata": {
    "tags": []
   },
   "outputs": [],
   "source": [
    "# 트리는 딕셔너리 형태가 좋아요\n",
    "def make_tree(data,x,y):\n",
    "    best_feature = max_gain(data,x,y)\n",
    "    tree = {best_feature:{}}\n",
    "    return tree"
   ]
  },
  {
   "cell_type": "code",
   "execution_count": 167,
   "id": "a1c36ade-445c-44e7-ab9a-734975da6f15",
   "metadata": {
    "tags": []
   },
   "outputs": [
    {
     "data": {
      "text/plain": [
       "{'outlook': {}}"
      ]
     },
     "execution_count": 167,
     "metadata": {},
     "output_type": "execute_result"
    }
   ],
   "source": [
    "make_tree(data,x,y)"
   ]
  },
  {
   "cell_type": "code",
   "execution_count": 168,
   "id": "ca1f3e5e-5706-41d0-b716-232aea7b0b32",
   "metadata": {
    "tags": []
   },
   "outputs": [],
   "source": [
    "# best_feature가 아닌 나머지 제외된 값을 가져옵시다. 그리고 tree에 집어넣을게요\n",
    "columns = x[x != best_feature]"
   ]
  },
  {
   "cell_type": "code",
   "execution_count": 235,
   "id": "e66255f8-2362-4ff8-8366-1aeba6e71a5d",
   "metadata": {
    "tags": []
   },
   "outputs": [],
   "source": [
    "def make_tree(data,x,y):\n",
    "    best_feature = max_gain(data,x,y)\n",
    "    tree = {best_feature:{}}\n",
    "    return tree"
   ]
  },
  {
   "cell_type": "code",
   "execution_count": 170,
   "id": "5edb9c3e-9f92-495e-9166-a9213e923baa",
   "metadata": {
    "tags": []
   },
   "outputs": [
    {
     "data": {
      "text/plain": [
       "{'outlook': {}}"
      ]
     },
     "execution_count": 170,
     "metadata": {},
     "output_type": "execute_result"
    }
   ],
   "source": [
    "make_tree(data,x,y)"
   ]
  },
  {
   "cell_type": "code",
   "execution_count": 171,
   "id": "e575482c-798f-4e83-a858-42f413b8a8e3",
   "metadata": {
    "tags": []
   },
   "outputs": [
    {
     "name": "stdout",
     "output_type": "stream",
     "text": [
      "overcast\n",
      "rainy\n",
      "sunny\n"
     ]
    }
   ],
   "source": [
    "# outlook에서의 변수들을 봅시다.\n",
    "for val in np.unique(data[best_feature]):\n",
    "    print(val)\n",
    "vals = [val for val in np.unique(data[best_feature])]"
   ]
  },
  {
   "cell_type": "code",
   "execution_count": 172,
   "id": "e554fb1f-7765-42e2-8680-c4e3cbf3ce7b",
   "metadata": {
    "tags": []
   },
   "outputs": [
    {
     "data": {
      "text/html": [
       "<div>\n",
       "<style scoped>\n",
       "    .dataframe tbody tr th:only-of-type {\n",
       "        vertical-align: middle;\n",
       "    }\n",
       "\n",
       "    .dataframe tbody tr th {\n",
       "        vertical-align: top;\n",
       "    }\n",
       "\n",
       "    .dataframe thead th {\n",
       "        text-align: right;\n",
       "    }\n",
       "</style>\n",
       "<table border=\"1\" class=\"dataframe\">\n",
       "  <thead>\n",
       "    <tr style=\"text-align: right;\">\n",
       "      <th></th>\n",
       "      <th>outlook</th>\n",
       "      <th>temp</th>\n",
       "      <th>humidity</th>\n",
       "      <th>windy</th>\n",
       "      <th>play</th>\n",
       "    </tr>\n",
       "  </thead>\n",
       "  <tbody>\n",
       "    <tr>\n",
       "      <th>0</th>\n",
       "      <td>overcast</td>\n",
       "      <td>hot</td>\n",
       "      <td>high</td>\n",
       "      <td>False</td>\n",
       "      <td>yes</td>\n",
       "    </tr>\n",
       "    <tr>\n",
       "      <th>1</th>\n",
       "      <td>overcast</td>\n",
       "      <td>cool</td>\n",
       "      <td>normal</td>\n",
       "      <td>True</td>\n",
       "      <td>yes</td>\n",
       "    </tr>\n",
       "    <tr>\n",
       "      <th>2</th>\n",
       "      <td>overcast</td>\n",
       "      <td>mild</td>\n",
       "      <td>high</td>\n",
       "      <td>True</td>\n",
       "      <td>yes</td>\n",
       "    </tr>\n",
       "    <tr>\n",
       "      <th>3</th>\n",
       "      <td>overcast</td>\n",
       "      <td>hot</td>\n",
       "      <td>normal</td>\n",
       "      <td>False</td>\n",
       "      <td>yes</td>\n",
       "    </tr>\n",
       "  </tbody>\n",
       "</table>\n",
       "</div>"
      ],
      "text/plain": [
       "    outlook  temp humidity  windy play\n",
       "0  overcast   hot     high  False  yes\n",
       "1  overcast  cool   normal   True  yes\n",
       "2  overcast  mild     high   True  yes\n",
       "3  overcast   hot   normal  False  yes"
      ]
     },
     "execution_count": 172,
     "metadata": {},
     "output_type": "execute_result"
    }
   ],
   "source": [
    "data.loc[data[best_feature] == vals[0],:]"
   ]
  },
  {
   "cell_type": "code",
   "execution_count": 389,
   "id": "9d2f4c2c-7663-4a73-aece-5bf9ab81a82d",
   "metadata": {
    "tags": []
   },
   "outputs": [],
   "source": [
    "tree = {best_feature:{}}"
   ]
  },
  {
   "cell_type": "code",
   "execution_count": 390,
   "id": "e9eca1ef-9cae-47f1-97d0-180d3690b445",
   "metadata": {
    "tags": []
   },
   "outputs": [],
   "source": [
    "def make_tree(data,x,y):\n",
    "    best_feature = max_gain(data,x,y)\n",
    "    columns = x[x != best_feature]\n",
    "    tree = {best_feature:{}}\n",
    "    # leaf_node는 column이 없으므로 true면 node\n",
    "    if columns.size > 0:\n",
    "        for val in np.unique(data[best_feature]): # overcast, sunny, rainy\n",
    "            sub_data = data.loc[data[best_feature] == val,:]\n",
    "            sub_tree = make_tree(sub_data,columns,y)\n",
    "            tree[best_feature][val] = sub_tree\n",
    "    else: # leaf_node 일때\n",
    "        if np.unique(data[y]).size == 1: # 하나일때(yes,no 중 하나만 있을때)\n",
    "            tree[best_feature] = np.unique(data[y])[0]\n",
    "        else: # 하나가 아니면 둘 중 많은거 구하기\n",
    "            vals, counts = np.unique(data[y], return_counts=True)\n",
    "            tree[best_feature]=vals[np.argmax(counts)]\n",
    "    return tree"
   ]
  },
  {
   "cell_type": "code",
   "execution_count": 391,
   "id": "7aebd0ec-19de-4d5a-b00d-828b6b7adeb5",
   "metadata": {
    "tags": []
   },
   "outputs": [
    {
     "data": {
      "text/plain": [
       "{'outlook': {'overcast': {'temp': {'cool': {'humidity': {'normal': {'windy': 'yes'}}},\n",
       "    'hot': {'humidity': {'high': {'windy': 'yes'},\n",
       "      'normal': {'windy': 'yes'}}},\n",
       "    'mild': {'humidity': {'high': {'windy': 'yes'}}}}},\n",
       "  'rainy': {'windy': {False: {'temp': {'cool': {'humidity': 'yes'},\n",
       "      'mild': {'humidity': 'yes'}}},\n",
       "    True: {'temp': {'cool': {'humidity': 'no'}, 'mild': {'humidity': 'no'}}}}},\n",
       "  'sunny': {'humidity': {'high': {'temp': {'hot': {'windy': 'no'},\n",
       "      'mild': {'windy': 'no'}}},\n",
       "    'normal': {'temp': {'cool': {'windy': 'yes'},\n",
       "      'mild': {'windy': 'yes'}}}}}}}"
      ]
     },
     "execution_count": 391,
     "metadata": {},
     "output_type": "execute_result"
    }
   ],
   "source": [
    "make_tree(data,x,y)"
   ]
  },
  {
   "cell_type": "code",
   "execution_count": 245,
   "id": "aa85f248-e37b-41e0-b377-c08c9a151faa",
   "metadata": {
    "tags": []
   },
   "outputs": [
    {
     "name": "stdout",
     "output_type": "stream",
     "text": [
      "  outlook temp humidity  windy play\n",
      "9   sunny  hot     high  False   no\n",
      "   outlook temp humidity  windy play\n",
      "10   sunny  hot     high   True   no\n",
      "   outlook  temp humidity  windy play\n",
      "11   sunny  mild     high  False   no\n",
      "   outlook  temp humidity  windy play\n",
      "12   sunny  cool   normal  False  yes\n",
      "   outlook  temp humidity  windy play\n",
      "13   sunny  mild   normal   True  yes\n"
     ]
    },
    {
     "data": {
      "text/plain": [
       "{'outlook': {'overcast': {'temp': {}}, 'rainy': {'windy': {}}, 'sunny': None}}"
      ]
     },
     "execution_count": 245,
     "metadata": {},
     "output_type": "execute_result"
    }
   ],
   "source": [
    "columns = x[x != best_feature]\n",
    "sub_data = data.loc[data[best_feature] == 'sunny',:]\n",
    "sub_tree = make_tree(sub_data,columns,y)\n",
    "tree[best_feature]['sunny'] = sub_tree\n",
    "tree"
   ]
  },
  {
   "cell_type": "code",
   "execution_count": 393,
   "id": "cf09e213-3695-4e11-92ef-3f9ae8a03252",
   "metadata": {
    "tags": []
   },
   "outputs": [],
   "source": [
    "def get_tree(data,x,y,parent_class=None):\n",
    "    try:\n",
    "        if np.unique(data[y]).size == 1:\n",
    "            return np.unique(data[y])[0]\n",
    "        elif len(data) == 0:\n",
    "            return 'case1'\n",
    "        elif len(x) == 0:\n",
    "            return parent_class\n",
    "        best_feature = max_gain(data,x,y)\n",
    "        columns = x[x != best_feature]\n",
    "        tree = {best_feature:{}}\n",
    "        for val in np.unique(data[best_feature]): # overcast, sunny, rainy\n",
    "            vals, counts = np.unique(data.loc[data[best_feature] == val,y],return_counts=True)\n",
    "            parent_class = vals[np.argmax(counts)]\n",
    "            sub_data = data.loc[data[best_feature] == val,:]\n",
    "            sub_tree = get_tree(sub_data,columns,y,parent_class)\n",
    "            tree[best_feature][val] = sub_tree\n",
    "        return tree\n",
    "    except Exception as e:\n",
    "        print(e)"
   ]
  },
  {
   "cell_type": "code",
   "execution_count": 420,
   "id": "3d7016cd-7aa8-483d-9aef-87501ea35345",
   "metadata": {
    "tags": []
   },
   "outputs": [
    {
     "data": {
      "text/plain": [
       "{'outlook': {'overcast': 'yes',\n",
       "  'rainy': {'windy': {'False': 'yes', 'True': 'no'}},\n",
       "  'sunny': {'humidity': {'high': 'no', 'normal': 'yes'}}}}"
      ]
     },
     "execution_count": 420,
     "metadata": {},
     "output_type": "execute_result"
    }
   ],
   "source": [
    "get_tree(data,x,y)"
   ]
  },
  {
   "cell_type": "code",
   "execution_count": 363,
   "id": "5f22b00b-0ac1-45d0-8b1d-dd6fff49297d",
   "metadata": {
    "tags": []
   },
   "outputs": [],
   "source": [
    "from pprint import pprint"
   ]
  },
  {
   "cell_type": "code",
   "execution_count": 367,
   "id": "a31d91a6-c416-44f3-add7-332a1381d651",
   "metadata": {
    "tags": []
   },
   "outputs": [
    {
     "name": "stdout",
     "output_type": "stream",
     "text": [
      "{'outlook': {'overcast': {'temp': {'cool': {'humidity': {'normal': {'windy': 'yes'}}},\n",
      "                                   'hot': {'humidity': {'high': {'windy': 'yes'},\n",
      "                                                        'normal': {'windy': 'yes'}}},\n",
      "                                   'mild': {'humidity': {'high': {'windy': 'yes'}}}}},\n",
      "             'rainy': {'windy': {False: {'temp': {'cool': {'humidity': 'yes'},\n",
      "                                                  'mild': {'humidity': 'yes'}}},\n",
      "                                 True: {'temp': {'cool': {'humidity': 'no'},\n",
      "                                                 'mild': {'humidity': 'no'}}}}},\n",
      "             'sunny': {'humidity': {'high': {'temp': {'hot': {'windy': 'no'},\n",
      "                                                      'mild': {'windy': 'no'}}},\n",
      "                                    'normal': {'temp': {'cool': {'windy': 'yes'},\n",
      "                                                        'mild': {'windy': 'yes'}}}}}}}\n"
     ]
    }
   ],
   "source": [
    "pprint(make_tree(data,x,y))"
   ]
  },
  {
   "cell_type": "code",
   "execution_count": 373,
   "id": "7113a8a4-ae29-40fb-b7f5-09263b912fd7",
   "metadata": {
    "tags": []
   },
   "outputs": [],
   "source": [
    "tmp = {\n",
    "    'outlook' : ['overcast'],\n",
    "    'temp' : ['hot'],\n",
    "    'humidity' : ['normal'],\n",
    "    'windy' : ['True'],\n",
    "}\n",
    "tmp = pd.DataFrame(tmp)"
   ]
  },
  {
   "cell_type": "code",
   "execution_count": 382,
   "id": "a0ce8a19-b838-4fa8-a70e-4ea8e921c67f",
   "metadata": {
    "tags": []
   },
   "outputs": [],
   "source": [
    "tmp1 = np.array(['rainy','mild','high','False'])"
   ]
  },
  {
   "cell_type": "code",
   "execution_count": 414,
   "id": "46de359c-f70c-4d32-aa23-64fd3350c268",
   "metadata": {
    "tags": []
   },
   "outputs": [],
   "source": [
    "data.windy = data.windy.astype(str)"
   ]
  },
  {
   "cell_type": "code",
   "execution_count": 421,
   "id": "bee54c86-7275-44c3-83df-58c7ed13999e",
   "metadata": {
    "tags": []
   },
   "outputs": [],
   "source": [
    "tree = make_tree(data,x,y)"
   ]
  },
  {
   "cell_type": "code",
   "execution_count": 422,
   "id": "aacc5652-1ef1-40e2-9395-1b9e422c08a4",
   "metadata": {
    "tags": []
   },
   "outputs": [
    {
     "data": {
      "text/plain": [
       "{'windy': 'yes'}"
      ]
     },
     "execution_count": 422,
     "metadata": {},
     "output_type": "execute_result"
    }
   ],
   "source": [
    "tree['outlook'][tmp['outlook'][0]]['temp'][tmp['temp'][0]]['humidity'][tmp['humidity'][0]]"
   ]
  },
  {
   "cell_type": "code",
   "execution_count": 423,
   "id": "0e2bbf55-120f-4ff2-bb9a-1c8fc71c802a",
   "metadata": {
    "tags": []
   },
   "outputs": [],
   "source": [
    "##\n",
    "data.play = np.random.choice(['잘함','못함'],data.play.size)"
   ]
  },
  {
   "cell_type": "code",
   "execution_count": 425,
   "id": "c022bd98-c9a8-4230-b1a6-48f6b8a4d1c0",
   "metadata": {
    "tags": []
   },
   "outputs": [],
   "source": [
    "tree = get_tree(data,x,y)"
   ]
  },
  {
   "cell_type": "code",
   "execution_count": 426,
   "id": "e7c309b9-5a67-4c40-bdfe-ebb86f4dea43",
   "metadata": {
    "tags": []
   },
   "outputs": [
    {
     "data": {
      "text/plain": [
       "{'temp': {'cool': {'outlook': {'overcast': '잘함',\n",
       "    'rainy': '못함',\n",
       "    'sunny': '잘함'}},\n",
       "  'hot': '잘함',\n",
       "  'mild': {'outlook': {'overcast': '못함',\n",
       "    'rainy': {'humidity': {'high': {'windy': {'False': '잘함', 'True': '못함'}},\n",
       "      'normal': '못함'}},\n",
       "    'sunny': {'humidity': {'high': '못함', 'normal': '잘함'}}}}}}"
      ]
     },
     "execution_count": 426,
     "metadata": {},
     "output_type": "execute_result"
    }
   ],
   "source": [
    "tree"
   ]
  },
  {
   "cell_type": "code",
   "execution_count": 429,
   "id": "4b155933-38da-4f2f-b429-2c68b7113624",
   "metadata": {
    "tags": []
   },
   "outputs": [],
   "source": [
    "from sklearn.tree import DecisionTreeClassifier\n",
    "from sklearn.preprocessing import LabelEncoder\n",
    "model = DecisionTreeClassifier()"
   ]
  },
  {
   "cell_type": "code",
   "execution_count": 432,
   "id": "88555fdc-663e-4114-82ec-af6ff652fa66",
   "metadata": {
    "tags": []
   },
   "outputs": [],
   "source": [
    "le_outlook = LabelEncoder().fit(data.outlook)\n",
    "le_temp = LabelEncoder().fit(data.temp)\n",
    "le_humidity = LabelEncoder().fit(data.humidity)\n",
    "le_windy = LabelEncoder().fit(data.windy)"
   ]
  },
  {
   "cell_type": "code",
   "execution_count": 433,
   "id": "24fdbf29-3a3c-49e7-b830-32db4e3460f1",
   "metadata": {
    "tags": []
   },
   "outputs": [],
   "source": [
    "X = np.c_[le_outlook.transform(data.outlook),\n",
    "         le_temp.transform(data.temp),\n",
    "         le_humidity.transform(data.humidity),\n",
    "         le_windy.transform(data.windy)]\n",
    "y = data.play"
   ]
  },
  {
   "cell_type": "code",
   "execution_count": 434,
   "id": "f9240131-ea2e-4b6b-9b6f-8f355d4607ad",
   "metadata": {
    "tags": []
   },
   "outputs": [
    {
     "data": {
      "text/html": [
       "<style>#sk-container-id-2 {color: black;}#sk-container-id-2 pre{padding: 0;}#sk-container-id-2 div.sk-toggleable {background-color: white;}#sk-container-id-2 label.sk-toggleable__label {cursor: pointer;display: block;width: 100%;margin-bottom: 0;padding: 0.3em;box-sizing: border-box;text-align: center;}#sk-container-id-2 label.sk-toggleable__label-arrow:before {content: \"▸\";float: left;margin-right: 0.25em;color: #696969;}#sk-container-id-2 label.sk-toggleable__label-arrow:hover:before {color: black;}#sk-container-id-2 div.sk-estimator:hover label.sk-toggleable__label-arrow:before {color: black;}#sk-container-id-2 div.sk-toggleable__content {max-height: 0;max-width: 0;overflow: hidden;text-align: left;background-color: #f0f8ff;}#sk-container-id-2 div.sk-toggleable__content pre {margin: 0.2em;color: black;border-radius: 0.25em;background-color: #f0f8ff;}#sk-container-id-2 input.sk-toggleable__control:checked~div.sk-toggleable__content {max-height: 200px;max-width: 100%;overflow: auto;}#sk-container-id-2 input.sk-toggleable__control:checked~label.sk-toggleable__label-arrow:before {content: \"▾\";}#sk-container-id-2 div.sk-estimator input.sk-toggleable__control:checked~label.sk-toggleable__label {background-color: #d4ebff;}#sk-container-id-2 div.sk-label input.sk-toggleable__control:checked~label.sk-toggleable__label {background-color: #d4ebff;}#sk-container-id-2 input.sk-hidden--visually {border: 0;clip: rect(1px 1px 1px 1px);clip: rect(1px, 1px, 1px, 1px);height: 1px;margin: -1px;overflow: hidden;padding: 0;position: absolute;width: 1px;}#sk-container-id-2 div.sk-estimator {font-family: monospace;background-color: #f0f8ff;border: 1px dotted black;border-radius: 0.25em;box-sizing: border-box;margin-bottom: 0.5em;}#sk-container-id-2 div.sk-estimator:hover {background-color: #d4ebff;}#sk-container-id-2 div.sk-parallel-item::after {content: \"\";width: 100%;border-bottom: 1px solid gray;flex-grow: 1;}#sk-container-id-2 div.sk-label:hover label.sk-toggleable__label {background-color: #d4ebff;}#sk-container-id-2 div.sk-serial::before {content: \"\";position: absolute;border-left: 1px solid gray;box-sizing: border-box;top: 0;bottom: 0;left: 50%;z-index: 0;}#sk-container-id-2 div.sk-serial {display: flex;flex-direction: column;align-items: center;background-color: white;padding-right: 0.2em;padding-left: 0.2em;position: relative;}#sk-container-id-2 div.sk-item {position: relative;z-index: 1;}#sk-container-id-2 div.sk-parallel {display: flex;align-items: stretch;justify-content: center;background-color: white;position: relative;}#sk-container-id-2 div.sk-item::before, #sk-container-id-2 div.sk-parallel-item::before {content: \"\";position: absolute;border-left: 1px solid gray;box-sizing: border-box;top: 0;bottom: 0;left: 50%;z-index: -1;}#sk-container-id-2 div.sk-parallel-item {display: flex;flex-direction: column;z-index: 1;position: relative;background-color: white;}#sk-container-id-2 div.sk-parallel-item:first-child::after {align-self: flex-end;width: 50%;}#sk-container-id-2 div.sk-parallel-item:last-child::after {align-self: flex-start;width: 50%;}#sk-container-id-2 div.sk-parallel-item:only-child::after {width: 0;}#sk-container-id-2 div.sk-dashed-wrapped {border: 1px dashed gray;margin: 0 0.4em 0.5em 0.4em;box-sizing: border-box;padding-bottom: 0.4em;background-color: white;}#sk-container-id-2 div.sk-label label {font-family: monospace;font-weight: bold;display: inline-block;line-height: 1.2em;}#sk-container-id-2 div.sk-label-container {text-align: center;}#sk-container-id-2 div.sk-container {/* jupyter's `normalize.less` sets `[hidden] { display: none; }` but bootstrap.min.css set `[hidden] { display: none !important; }` so we also need the `!important` here to be able to override the default hidden behavior on the sphinx rendered scikit-learn.org. See: https://github.com/scikit-learn/scikit-learn/issues/21755 */display: inline-block !important;position: relative;}#sk-container-id-2 div.sk-text-repr-fallback {display: none;}</style><div id=\"sk-container-id-2\" class=\"sk-top-container\"><div class=\"sk-text-repr-fallback\"><pre>DecisionTreeClassifier()</pre><b>In a Jupyter environment, please rerun this cell to show the HTML representation or trust the notebook. <br />On GitHub, the HTML representation is unable to render, please try loading this page with nbviewer.org.</b></div><div class=\"sk-container\" hidden><div class=\"sk-item\"><div class=\"sk-estimator sk-toggleable\"><input class=\"sk-toggleable__control sk-hidden--visually\" id=\"sk-estimator-id-2\" type=\"checkbox\" checked><label for=\"sk-estimator-id-2\" class=\"sk-toggleable__label sk-toggleable__label-arrow\">DecisionTreeClassifier</label><div class=\"sk-toggleable__content\"><pre>DecisionTreeClassifier()</pre></div></div></div></div></div>"
      ],
      "text/plain": [
       "DecisionTreeClassifier()"
      ]
     },
     "execution_count": 434,
     "metadata": {},
     "output_type": "execute_result"
    }
   ],
   "source": [
    "model.fit(X,y)"
   ]
  },
  {
   "cell_type": "code",
   "execution_count": 437,
   "id": "03d37ef3-a937-470d-a26d-3ec04087eeaa",
   "metadata": {
    "tags": []
   },
   "outputs": [],
   "source": [
    "test_data = np.array(['overcast','cool','high','False'])"
   ]
  },
  {
   "cell_type": "code",
   "execution_count": 441,
   "id": "fef822ce-ac6a-4d4b-a92d-b30726483f8e",
   "metadata": {
    "tags": []
   },
   "outputs": [
    {
     "data": {
      "text/plain": [
       "(array([0]), array([0]), array([0]), array([0]))"
      ]
     },
     "execution_count": 441,
     "metadata": {},
     "output_type": "execute_result"
    }
   ],
   "source": [
    "le_outlook.transform(['overcast']), le_temp.transform(['cool']), le_humidity.transform(['high']), le_windy.transform(['False'])"
   ]
  },
  {
   "cell_type": "code",
   "execution_count": 442,
   "id": "91897bbb-6492-4137-9fca-cfa6db55d065",
   "metadata": {
    "tags": []
   },
   "outputs": [
    {
     "data": {
      "text/plain": [
       "(14, 4)"
      ]
     },
     "execution_count": 442,
     "metadata": {},
     "output_type": "execute_result"
    }
   ],
   "source": [
    "X.shape"
   ]
  },
  {
   "cell_type": "code",
   "execution_count": 443,
   "id": "2e714bc1-a214-44d0-aad2-880b2b9f4c4f",
   "metadata": {
    "tags": []
   },
   "outputs": [
    {
     "data": {
      "text/plain": [
       "array(['잘함'], dtype=object)"
      ]
     },
     "execution_count": 443,
     "metadata": {},
     "output_type": "execute_result"
    }
   ],
   "source": [
    "model.predict(np.array([0,0,0,0]).reshape(1,4))"
   ]
  },
  {
   "cell_type": "code",
   "execution_count": 444,
   "id": "2dce38fb-9652-41a3-a9dc-e38fb6b250a1",
   "metadata": {
    "tags": []
   },
   "outputs": [],
   "source": [
    "from sklearn import tree"
   ]
  },
  {
   "cell_type": "code",
   "execution_count": 445,
   "id": "281113b9-85b2-4000-b0f8-acd490b515a2",
   "metadata": {
    "tags": []
   },
   "outputs": [],
   "source": [
    "from sklearn.tree import plot_tree"
   ]
  },
  {
   "cell_type": "code",
   "execution_count": 446,
   "id": "cd8fbe1a-b381-42df-8753-17aa243d711a",
   "metadata": {
    "tags": []
   },
   "outputs": [],
   "source": [
    "tree_model = DecisionTreeClassifier(max_depth=3)"
   ]
  },
  {
   "cell_type": "code",
   "execution_count": 452,
   "id": "05e4120d-e439-4bdd-b8b6-101314321c9a",
   "metadata": {
    "tags": []
   },
   "outputs": [],
   "source": [
    "from sklearn.naive_bayes import GaussianNB"
   ]
  },
  {
   "cell_type": "code",
   "execution_count": 453,
   "id": "52d7dce2-0d11-4e76-96f5-730e211ad3c2",
   "metadata": {
    "tags": []
   },
   "outputs": [],
   "source": [
    "model = GaussianNB()"
   ]
  },
  {
   "cell_type": "code",
   "execution_count": 454,
   "id": "777bb372-93f9-4a55-a9ed-3e48e8074196",
   "metadata": {
    "tags": []
   },
   "outputs": [
    {
     "data": {
      "text/html": [
       "<style>#sk-container-id-3 {color: black;}#sk-container-id-3 pre{padding: 0;}#sk-container-id-3 div.sk-toggleable {background-color: white;}#sk-container-id-3 label.sk-toggleable__label {cursor: pointer;display: block;width: 100%;margin-bottom: 0;padding: 0.3em;box-sizing: border-box;text-align: center;}#sk-container-id-3 label.sk-toggleable__label-arrow:before {content: \"▸\";float: left;margin-right: 0.25em;color: #696969;}#sk-container-id-3 label.sk-toggleable__label-arrow:hover:before {color: black;}#sk-container-id-3 div.sk-estimator:hover label.sk-toggleable__label-arrow:before {color: black;}#sk-container-id-3 div.sk-toggleable__content {max-height: 0;max-width: 0;overflow: hidden;text-align: left;background-color: #f0f8ff;}#sk-container-id-3 div.sk-toggleable__content pre {margin: 0.2em;color: black;border-radius: 0.25em;background-color: #f0f8ff;}#sk-container-id-3 input.sk-toggleable__control:checked~div.sk-toggleable__content {max-height: 200px;max-width: 100%;overflow: auto;}#sk-container-id-3 input.sk-toggleable__control:checked~label.sk-toggleable__label-arrow:before {content: \"▾\";}#sk-container-id-3 div.sk-estimator input.sk-toggleable__control:checked~label.sk-toggleable__label {background-color: #d4ebff;}#sk-container-id-3 div.sk-label input.sk-toggleable__control:checked~label.sk-toggleable__label {background-color: #d4ebff;}#sk-container-id-3 input.sk-hidden--visually {border: 0;clip: rect(1px 1px 1px 1px);clip: rect(1px, 1px, 1px, 1px);height: 1px;margin: -1px;overflow: hidden;padding: 0;position: absolute;width: 1px;}#sk-container-id-3 div.sk-estimator {font-family: monospace;background-color: #f0f8ff;border: 1px dotted black;border-radius: 0.25em;box-sizing: border-box;margin-bottom: 0.5em;}#sk-container-id-3 div.sk-estimator:hover {background-color: #d4ebff;}#sk-container-id-3 div.sk-parallel-item::after {content: \"\";width: 100%;border-bottom: 1px solid gray;flex-grow: 1;}#sk-container-id-3 div.sk-label:hover label.sk-toggleable__label {background-color: #d4ebff;}#sk-container-id-3 div.sk-serial::before {content: \"\";position: absolute;border-left: 1px solid gray;box-sizing: border-box;top: 0;bottom: 0;left: 50%;z-index: 0;}#sk-container-id-3 div.sk-serial {display: flex;flex-direction: column;align-items: center;background-color: white;padding-right: 0.2em;padding-left: 0.2em;position: relative;}#sk-container-id-3 div.sk-item {position: relative;z-index: 1;}#sk-container-id-3 div.sk-parallel {display: flex;align-items: stretch;justify-content: center;background-color: white;position: relative;}#sk-container-id-3 div.sk-item::before, #sk-container-id-3 div.sk-parallel-item::before {content: \"\";position: absolute;border-left: 1px solid gray;box-sizing: border-box;top: 0;bottom: 0;left: 50%;z-index: -1;}#sk-container-id-3 div.sk-parallel-item {display: flex;flex-direction: column;z-index: 1;position: relative;background-color: white;}#sk-container-id-3 div.sk-parallel-item:first-child::after {align-self: flex-end;width: 50%;}#sk-container-id-3 div.sk-parallel-item:last-child::after {align-self: flex-start;width: 50%;}#sk-container-id-3 div.sk-parallel-item:only-child::after {width: 0;}#sk-container-id-3 div.sk-dashed-wrapped {border: 1px dashed gray;margin: 0 0.4em 0.5em 0.4em;box-sizing: border-box;padding-bottom: 0.4em;background-color: white;}#sk-container-id-3 div.sk-label label {font-family: monospace;font-weight: bold;display: inline-block;line-height: 1.2em;}#sk-container-id-3 div.sk-label-container {text-align: center;}#sk-container-id-3 div.sk-container {/* jupyter's `normalize.less` sets `[hidden] { display: none; }` but bootstrap.min.css set `[hidden] { display: none !important; }` so we also need the `!important` here to be able to override the default hidden behavior on the sphinx rendered scikit-learn.org. See: https://github.com/scikit-learn/scikit-learn/issues/21755 */display: inline-block !important;position: relative;}#sk-container-id-3 div.sk-text-repr-fallback {display: none;}</style><div id=\"sk-container-id-3\" class=\"sk-top-container\"><div class=\"sk-text-repr-fallback\"><pre>GaussianNB()</pre><b>In a Jupyter environment, please rerun this cell to show the HTML representation or trust the notebook. <br />On GitHub, the HTML representation is unable to render, please try loading this page with nbviewer.org.</b></div><div class=\"sk-container\" hidden><div class=\"sk-item\"><div class=\"sk-estimator sk-toggleable\"><input class=\"sk-toggleable__control sk-hidden--visually\" id=\"sk-estimator-id-3\" type=\"checkbox\" checked><label for=\"sk-estimator-id-3\" class=\"sk-toggleable__label sk-toggleable__label-arrow\">GaussianNB</label><div class=\"sk-toggleable__content\"><pre>GaussianNB()</pre></div></div></div></div></div>"
      ],
      "text/plain": [
       "GaussianNB()"
      ]
     },
     "execution_count": 454,
     "metadata": {},
     "output_type": "execute_result"
    }
   ],
   "source": [
    "model.fit(X,y)"
   ]
  },
  {
   "cell_type": "code",
   "execution_count": 455,
   "id": "d7f295a8-1311-494a-88e9-9878e7d279ed",
   "metadata": {
    "tags": []
   },
   "outputs": [
    {
     "data": {
      "text/plain": [
       "array(['잘함', '잘함', '못함', '잘함', '못함', '잘함', '못함', '못함', '못함', '잘함', '잘함',\n",
       "       '잘함', '잘함', '잘함'], dtype='<U2')"
      ]
     },
     "execution_count": 455,
     "metadata": {},
     "output_type": "execute_result"
    }
   ],
   "source": [
    "model.predict(X)"
   ]
  },
  {
   "cell_type": "code",
   "execution_count": 456,
   "id": "2c173a8a-30ea-4984-8d34-7d506d9e94cf",
   "metadata": {
    "tags": []
   },
   "outputs": [],
   "source": [
    "from sklearn import naive_bayes"
   ]
  },
  {
   "cell_type": "code",
   "execution_count": 458,
   "id": "c530ae33-5a0e-4256-a449-83e150ce26ac",
   "metadata": {
    "tags": []
   },
   "outputs": [
    {
     "data": {
      "text/plain": [
       "['__abstractmethods__',\n",
       " '__annotations__',\n",
       " '__class__',\n",
       " '__delattr__',\n",
       " '__dict__',\n",
       " '__dir__',\n",
       " '__doc__',\n",
       " '__eq__',\n",
       " '__format__',\n",
       " '__ge__',\n",
       " '__getattribute__',\n",
       " '__getstate__',\n",
       " '__gt__',\n",
       " '__hash__',\n",
       " '__init__',\n",
       " '__init_subclass__',\n",
       " '__le__',\n",
       " '__lt__',\n",
       " '__module__',\n",
       " '__ne__',\n",
       " '__new__',\n",
       " '__reduce__',\n",
       " '__reduce_ex__',\n",
       " '__repr__',\n",
       " '__setattr__',\n",
       " '__setstate__',\n",
       " '__sizeof__',\n",
       " '__sklearn_clone__',\n",
       " '__str__',\n",
       " '__subclasshook__',\n",
       " '__weakref__',\n",
       " '_abc_impl',\n",
       " '_build_request_for_signature',\n",
       " '_check_X',\n",
       " '_check_feature_names',\n",
       " '_check_n_features',\n",
       " '_estimator_type',\n",
       " '_get_default_requests',\n",
       " '_get_metadata_request',\n",
       " '_get_param_names',\n",
       " '_get_tags',\n",
       " '_joint_log_likelihood',\n",
       " '_more_tags',\n",
       " '_parameter_constraints',\n",
       " '_partial_fit',\n",
       " '_repr_html_',\n",
       " '_repr_html_inner',\n",
       " '_repr_mimebundle_',\n",
       " '_update_mean_variance',\n",
       " '_validate_data',\n",
       " '_validate_params',\n",
       " 'class_count_',\n",
       " 'class_prior_',\n",
       " 'classes_',\n",
       " 'epsilon_',\n",
       " 'fit',\n",
       " 'get_metadata_routing',\n",
       " 'get_params',\n",
       " 'n_features_in_',\n",
       " 'partial_fit',\n",
       " 'predict',\n",
       " 'predict_joint_log_proba',\n",
       " 'predict_log_proba',\n",
       " 'predict_proba',\n",
       " 'priors',\n",
       " 'score',\n",
       " 'set_fit_request',\n",
       " 'set_params',\n",
       " 'set_partial_fit_request',\n",
       " 'set_score_request',\n",
       " 'theta_',\n",
       " 'var_',\n",
       " 'var_smoothing']"
      ]
     },
     "execution_count": 458,
     "metadata": {},
     "output_type": "execute_result"
    }
   ],
   "source": [
    "dir(model)"
   ]
  },
  {
   "cell_type": "code",
   "execution_count": null,
   "id": "0f2e163f-b33b-4132-b200-bba8ab8d03ba",
   "metadata": {},
   "outputs": [],
   "source": []
  }
 ],
 "metadata": {
  "kernelspec": {
   "display_name": "Python 3 (ipykernel)",
   "language": "python",
   "name": "python3"
  },
  "language_info": {
   "codemirror_mode": {
    "name": "ipython",
    "version": 3
   },
   "file_extension": ".py",
   "mimetype": "text/x-python",
   "name": "python",
   "nbconvert_exporter": "python",
   "pygments_lexer": "ipython3",
   "version": "3.11.4"
  }
 },
 "nbformat": 4,
 "nbformat_minor": 5
}
