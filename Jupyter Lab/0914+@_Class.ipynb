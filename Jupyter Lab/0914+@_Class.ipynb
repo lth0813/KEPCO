{
 "cells": [
  {
   "cell_type": "code",
   "execution_count": 7,
   "id": "3aceaf8c-944b-4147-bee6-d13e4b1be78e",
   "metadata": {
    "tags": []
   },
   "outputs": [],
   "source": [
    "import numpy as np\n",
    "# zip 관련 설명\n",
    "a = [1,2,3]\n",
    "b = ['one','two','three']"
   ]
  },
  {
   "cell_type": "code",
   "execution_count": 3,
   "id": "9c3ec3f9-521f-40f4-9f7b-bbc997a6f12b",
   "metadata": {
    "tags": []
   },
   "outputs": [
    {
     "data": {
      "text/plain": [
       "{'one': 1, 'two': 2, 'three': 3}"
      ]
     },
     "execution_count": 3,
     "metadata": {},
     "output_type": "execute_result"
    }
   ],
   "source": [
    "tmp = {}\n",
    "for key,val in zip(b,a):\n",
    "    tmp[key] = val\n",
    "tmp"
   ]
  },
  {
   "cell_type": "code",
   "execution_count": 4,
   "id": "804a0629-ead2-41c6-abbf-72c84b472310",
   "metadata": {
    "tags": []
   },
   "outputs": [
    {
     "data": {
      "text/plain": [
       "{'one': 1, 'two': 2, 'three': 3}"
      ]
     },
     "execution_count": 4,
     "metadata": {},
     "output_type": "execute_result"
    }
   ],
   "source": [
    "{key:val for key,val in zip(b,a)}"
   ]
  },
  {
   "cell_type": "code",
   "execution_count": 5,
   "id": "2235d65c-b0d8-4092-a106-9a1be190d29b",
   "metadata": {
    "tags": []
   },
   "outputs": [
    {
     "data": {
      "text/plain": [
       "{'one': 1, 'two': 2, 'three': 3}"
      ]
     },
     "execution_count": 5,
     "metadata": {},
     "output_type": "execute_result"
    }
   ],
   "source": [
    "dict(zip(b,a))"
   ]
  },
  {
   "cell_type": "code",
   "execution_count": 8,
   "id": "55e7b576-8bdf-45e4-8105-73b6f84bcfa2",
   "metadata": {
    "tags": []
   },
   "outputs": [],
   "source": [
    "x = np.array([1,2,3,1,2])"
   ]
  },
  {
   "cell_type": "code",
   "execution_count": 9,
   "id": "e6de015d-83fd-4cb3-9c75-d24979a98d2b",
   "metadata": {
    "tags": []
   },
   "outputs": [],
   "source": [
    "a = np.zeros((5,3))\n",
    "for i, j in enumerate(x):\n",
    "    a[i,j-1] = 1"
   ]
  },
  {
   "cell_type": "code",
   "execution_count": 10,
   "id": "10036846-02da-44a8-a0c5-1261ce0ac905",
   "metadata": {
    "tags": []
   },
   "outputs": [
    {
     "data": {
      "text/plain": [
       "array([[1., 0., 0.],\n",
       "       [0., 1., 0.],\n",
       "       [0., 0., 1.],\n",
       "       [1., 0., 0.],\n",
       "       [0., 1., 0.]])"
      ]
     },
     "execution_count": 10,
     "metadata": {},
     "output_type": "execute_result"
    }
   ],
   "source": [
    "a"
   ]
  },
  {
   "cell_type": "code",
   "execution_count": null,
   "id": "6c5188f2-160a-443b-812c-8c718e959778",
   "metadata": {},
   "outputs": [],
   "source": []
  }
 ],
 "metadata": {
  "kernelspec": {
   "display_name": "Python 3 (ipykernel)",
   "language": "python",
   "name": "python3"
  },
  "language_info": {
   "codemirror_mode": {
    "name": "ipython",
    "version": 3
   },
   "file_extension": ".py",
   "mimetype": "text/x-python",
   "name": "python",
   "nbconvert_exporter": "python",
   "pygments_lexer": "ipython3",
   "version": "3.11.4"
  }
 },
 "nbformat": 4,
 "nbformat_minor": 5
}
