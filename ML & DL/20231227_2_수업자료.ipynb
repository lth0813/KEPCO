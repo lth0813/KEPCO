{
 "cells": [
  {
   "cell_type": "code",
   "execution_count": 1,
   "id": "b163ceef-7b05-455a-bb44-74bb6a8d756e",
   "metadata": {
    "tags": []
   },
   "outputs": [],
   "source": [
    "import numpy as np\n",
    "import pandas as pd"
   ]
  },
  {
   "cell_type": "code",
   "execution_count": 2,
   "id": "cb1c33d6-247f-4049-ae89-5d635e607b63",
   "metadata": {
    "tags": []
   },
   "outputs": [],
   "source": [
    "##1 data\n",
    "data = pd.read_csv(\"player.csv\")"
   ]
  },
  {
   "cell_type": "code",
   "execution_count": 5,
   "id": "d6a633d8-f2d7-420c-aaae-f11fca73d70d",
   "metadata": {
    "tags": []
   },
   "outputs": [],
   "source": [
    "sample = pd.read_csv(\"sample.csv\")"
   ]
  },
  {
   "cell_type": "code",
   "execution_count": 7,
   "id": "30585786-5cf3-4cfb-ba6b-e6515f5251c0",
   "metadata": {
    "tags": []
   },
   "outputs": [],
   "source": [
    "sample = sample.iloc[:,1:]"
   ]
  },
  {
   "cell_type": "code",
   "execution_count": 8,
   "id": "51129909-5a5b-4b1b-8bb9-1888b22fefe1",
   "metadata": {
    "tags": []
   },
   "outputs": [
    {
     "data": {
      "text/html": [
       "<div>\n",
       "<style scoped>\n",
       "    .dataframe tbody tr th:only-of-type {\n",
       "        vertical-align: middle;\n",
       "    }\n",
       "\n",
       "    .dataframe tbody tr th {\n",
       "        vertical-align: top;\n",
       "    }\n",
       "\n",
       "    .dataframe thead th {\n",
       "        text-align: right;\n",
       "    }\n",
       "</style>\n",
       "<table border=\"1\" class=\"dataframe\">\n",
       "  <thead>\n",
       "    <tr style=\"text-align: right;\">\n",
       "      <th></th>\n",
       "      <th>outlook</th>\n",
       "      <th>temp</th>\n",
       "      <th>humidity</th>\n",
       "      <th>windy</th>\n",
       "      <th>play</th>\n",
       "    </tr>\n",
       "  </thead>\n",
       "  <tbody>\n",
       "    <tr>\n",
       "      <th>0</th>\n",
       "      <td>overcast</td>\n",
       "      <td>hot</td>\n",
       "      <td>high</td>\n",
       "      <td>False</td>\n",
       "      <td>yes</td>\n",
       "    </tr>\n",
       "    <tr>\n",
       "      <th>1</th>\n",
       "      <td>overcast</td>\n",
       "      <td>cool</td>\n",
       "      <td>normal</td>\n",
       "      <td>True</td>\n",
       "      <td>yes</td>\n",
       "    </tr>\n",
       "    <tr>\n",
       "      <th>2</th>\n",
       "      <td>overcast</td>\n",
       "      <td>mild</td>\n",
       "      <td>high</td>\n",
       "      <td>True</td>\n",
       "      <td>yes</td>\n",
       "    </tr>\n",
       "    <tr>\n",
       "      <th>3</th>\n",
       "      <td>overcast</td>\n",
       "      <td>hot</td>\n",
       "      <td>normal</td>\n",
       "      <td>False</td>\n",
       "      <td>yes</td>\n",
       "    </tr>\n",
       "    <tr>\n",
       "      <th>4</th>\n",
       "      <td>rainy</td>\n",
       "      <td>mild</td>\n",
       "      <td>high</td>\n",
       "      <td>False</td>\n",
       "      <td>yes</td>\n",
       "    </tr>\n",
       "    <tr>\n",
       "      <th>5</th>\n",
       "      <td>rainy</td>\n",
       "      <td>cool</td>\n",
       "      <td>normal</td>\n",
       "      <td>False</td>\n",
       "      <td>yes</td>\n",
       "    </tr>\n",
       "    <tr>\n",
       "      <th>6</th>\n",
       "      <td>rainy</td>\n",
       "      <td>cool</td>\n",
       "      <td>normal</td>\n",
       "      <td>True</td>\n",
       "      <td>no</td>\n",
       "    </tr>\n",
       "    <tr>\n",
       "      <th>7</th>\n",
       "      <td>rainy</td>\n",
       "      <td>mild</td>\n",
       "      <td>normal</td>\n",
       "      <td>False</td>\n",
       "      <td>yes</td>\n",
       "    </tr>\n",
       "    <tr>\n",
       "      <th>8</th>\n",
       "      <td>rainy</td>\n",
       "      <td>mild</td>\n",
       "      <td>high</td>\n",
       "      <td>True</td>\n",
       "      <td>no</td>\n",
       "    </tr>\n",
       "    <tr>\n",
       "      <th>9</th>\n",
       "      <td>sunny</td>\n",
       "      <td>hot</td>\n",
       "      <td>high</td>\n",
       "      <td>False</td>\n",
       "      <td>no</td>\n",
       "    </tr>\n",
       "    <tr>\n",
       "      <th>10</th>\n",
       "      <td>sunny</td>\n",
       "      <td>hot</td>\n",
       "      <td>high</td>\n",
       "      <td>True</td>\n",
       "      <td>no</td>\n",
       "    </tr>\n",
       "    <tr>\n",
       "      <th>11</th>\n",
       "      <td>sunny</td>\n",
       "      <td>mild</td>\n",
       "      <td>high</td>\n",
       "      <td>False</td>\n",
       "      <td>no</td>\n",
       "    </tr>\n",
       "    <tr>\n",
       "      <th>12</th>\n",
       "      <td>sunny</td>\n",
       "      <td>cool</td>\n",
       "      <td>normal</td>\n",
       "      <td>False</td>\n",
       "      <td>yes</td>\n",
       "    </tr>\n",
       "    <tr>\n",
       "      <th>13</th>\n",
       "      <td>sunny</td>\n",
       "      <td>mild</td>\n",
       "      <td>normal</td>\n",
       "      <td>True</td>\n",
       "      <td>yes</td>\n",
       "    </tr>\n",
       "  </tbody>\n",
       "</table>\n",
       "</div>"
      ],
      "text/plain": [
       "     outlook  temp humidity  windy play\n",
       "0   overcast   hot     high  False  yes\n",
       "1   overcast  cool   normal   True  yes\n",
       "2   overcast  mild     high   True  yes\n",
       "3   overcast   hot   normal  False  yes\n",
       "4      rainy  mild     high  False  yes\n",
       "5      rainy  cool   normal  False  yes\n",
       "6      rainy  cool   normal   True   no\n",
       "7      rainy  mild   normal  False  yes\n",
       "8      rainy  mild     high   True   no\n",
       "9      sunny   hot     high  False   no\n",
       "10     sunny   hot     high   True   no\n",
       "11     sunny  mild     high  False   no\n",
       "12     sunny  cool   normal  False  yes\n",
       "13     sunny  mild   normal   True  yes"
      ]
     },
     "execution_count": 8,
     "metadata": {},
     "output_type": "execute_result"
    }
   ],
   "source": [
    "sample"
   ]
  },
  {
   "cell_type": "code",
   "execution_count": 11,
   "id": "5810d528-3310-472f-a1fc-64ee2755ad2e",
   "metadata": {
    "tags": []
   },
   "outputs": [
    {
     "data": {
      "text/plain": [
       "0.6428571428571429"
      ]
     },
     "execution_count": 11,
     "metadata": {},
     "output_type": "execute_result"
    }
   ],
   "source": [
    "len(sample.loc[sample.play == 'yes',:])/len(sample)"
   ]
  },
  {
   "cell_type": "code",
   "execution_count": 12,
   "id": "ad5a52d0-7ac1-4d07-9e5b-3a65fc1cfdc3",
   "metadata": {
    "tags": []
   },
   "outputs": [
    {
     "data": {
      "text/plain": [
       "0.35714285714285715"
      ]
     },
     "execution_count": 12,
     "metadata": {},
     "output_type": "execute_result"
    }
   ],
   "source": [
    "len(sample.loc[sample.play == 'no',:])/len(sample)"
   ]
  },
  {
   "cell_type": "code",
   "execution_count": 13,
   "id": "366e14bd-fb31-4f08-9607-e15b56611c18",
   "metadata": {
    "tags": []
   },
   "outputs": [],
   "source": [
    "pk_yes = np.sum(sample.play == 'yes')/len(sample)\n",
    "pk_no = np.sum(sample.play=='no')/len(sample)"
   ]
  },
  {
   "cell_type": "code",
   "execution_count": 14,
   "id": "a9cf7f10-06db-40bd-9a86-a202d3e5d59f",
   "metadata": {
    "tags": []
   },
   "outputs": [
    {
     "data": {
      "text/plain": [
       "0.9402859586706311"
      ]
     },
     "execution_count": 14,
     "metadata": {},
     "output_type": "execute_result"
    }
   ],
   "source": [
    "-(pk_yes*np.log2(pk_yes) + pk_no*np.log2(pk_no))"
   ]
  },
  {
   "cell_type": "code",
   "execution_count": 19,
   "id": "bee8fbcc-2e30-4243-8e26-a9e857a36e9b",
   "metadata": {
    "tags": []
   },
   "outputs": [],
   "source": [
    "def entropy(x):\n",
    "    px = np.unique(x,return_counts=True)[1]/len(x)\n",
    "    entropy_ = -np.sum(px*np.log2(px))\n",
    "    return entropy_"
   ]
  },
  {
   "cell_type": "code",
   "execution_count": 20,
   "id": "64fa1f93-8481-41f0-ac4a-b536c56767ec",
   "metadata": {
    "tags": []
   },
   "outputs": [
    {
     "data": {
      "text/plain": [
       "0.9402859586706311"
      ]
     },
     "execution_count": 20,
     "metadata": {},
     "output_type": "execute_result"
    }
   ],
   "source": [
    "entropy(sample.play)"
   ]
  },
  {
   "cell_type": "code",
   "execution_count": 21,
   "id": "dadb18b4-7de3-45a1-9ab3-029fbecac5a0",
   "metadata": {
    "tags": []
   },
   "outputs": [
    {
     "data": {
      "text/plain": [
       "1.8423709931771088"
      ]
     },
     "execution_count": 21,
     "metadata": {},
     "output_type": "execute_result"
    }
   ],
   "source": [
    "entropy([1,1,1,2,2,3,4])"
   ]
  },
  {
   "cell_type": "code",
   "execution_count": 22,
   "id": "06704daf-0eae-407b-9511-fab4da885375",
   "metadata": {
    "tags": []
   },
   "outputs": [
    {
     "data": {
      "text/plain": [
       "0.954434002924965"
      ]
     },
     "execution_count": 22,
     "metadata": {},
     "output_type": "execute_result"
    }
   ],
   "source": [
    "entropy([1,1,1,2,2,2,2,2])"
   ]
  },
  {
   "cell_type": "code",
   "execution_count": 56,
   "id": "a05bb667-0732-4742-b5c8-5463a290d4b8",
   "metadata": {
    "tags": []
   },
   "outputs": [],
   "source": [
    "# y = play\n",
    "total = entropy(sample.play) \n",
    "# x = sample 독립변수 (outlook)"
   ]
  },
  {
   "cell_type": "code",
   "execution_count": 26,
   "id": "4d5f37e1-0083-450c-b5f2-f4969bc6a1f2",
   "metadata": {
    "tags": []
   },
   "outputs": [],
   "source": [
    "vals, counts = np.unique(sample.outlook,return_counts=True)"
   ]
  },
  {
   "cell_type": "code",
   "execution_count": 30,
   "id": "86aa5290-3d1b-4033-9d31-afc29d8aac40",
   "metadata": {
    "tags": []
   },
   "outputs": [
    {
     "data": {
      "text/plain": [
       "-0.0"
      ]
     },
     "execution_count": 30,
     "metadata": {},
     "output_type": "execute_result"
    }
   ],
   "source": [
    "entropy(sample.loc[sample.outlook == vals[0],'play'] )\n",
    "# counts[0]"
   ]
  },
  {
   "cell_type": "code",
   "execution_count": 37,
   "id": "f8db01f9-db52-4219-8a3d-3f00f9b8782c",
   "metadata": {
    "tags": []
   },
   "outputs": [
    {
     "data": {
      "text/plain": [
       "('overcast', 4)"
      ]
     },
     "execution_count": 37,
     "metadata": {},
     "output_type": "execute_result"
    }
   ],
   "source": [
    "vals[0] , counts[0]"
   ]
  },
  {
   "cell_type": "code",
   "execution_count": 48,
   "id": "6455471f-95b6-4ac4-a7db-9f324c6314a8",
   "metadata": {
    "tags": []
   },
   "outputs": [],
   "source": [
    "a1 = counts[0]/len(sample)*entropy(sample.loc[sample.outlook == vals[0],'play'])"
   ]
  },
  {
   "cell_type": "code",
   "execution_count": 49,
   "id": "f76a6beb-6c59-4206-ac12-07917e90d63f",
   "metadata": {
    "tags": []
   },
   "outputs": [],
   "source": [
    "a2 = counts[1]/len(sample)*entropy(sample.loc[sample.outlook == vals[1],'play'])"
   ]
  },
  {
   "cell_type": "code",
   "execution_count": 50,
   "id": "b294c1ed-91e2-4420-a283-e2fa106cdfe4",
   "metadata": {
    "tags": []
   },
   "outputs": [],
   "source": [
    "a3 = counts[2]/len(sample)*entropy(sample.loc[sample.outlook == vals[2],'play'])"
   ]
  },
  {
   "cell_type": "code",
   "execution_count": 64,
   "id": "459293c4-62d5-481f-81bd-06ededa5fafa",
   "metadata": {
    "tags": []
   },
   "outputs": [],
   "source": [
    "def info_gain(data,x,y):\n",
    "    total = entropy(data[y])\n",
    "    vals, counts = np.unique(data[x],return_counts=True)\n",
    "    gain = [ count/len(data)*entropy(data.loc[data[x] == val, y]) for val, count in zip(vals,counts)]\n",
    "    return total - np.sum(gain)"
   ]
  },
  {
   "cell_type": "code",
   "execution_count": 68,
   "id": "8ee6805d-b0b1-483d-8579-2681545a6794",
   "metadata": {
    "tags": []
   },
   "outputs": [
    {
     "data": {
      "text/plain": [
       "0.15183550136234159"
      ]
     },
     "execution_count": 68,
     "metadata": {},
     "output_type": "execute_result"
    }
   ],
   "source": [
    "info_gain(sample,'humidity','play')"
   ]
  },
  {
   "cell_type": "code",
   "execution_count": null,
   "id": "5645af85-5758-4620-a19f-6c8167b74ddf",
   "metadata": {},
   "outputs": [],
   "source": []
  }
 ],
 "metadata": {
  "kernelspec": {
   "display_name": "Python 3 (ipykernel)",
   "language": "python",
   "name": "python3"
  },
  "language_info": {
   "codemirror_mode": {
    "name": "ipython",
    "version": 3
   },
   "file_extension": ".py",
   "mimetype": "text/x-python",
   "name": "python",
   "nbconvert_exporter": "python",
   "pygments_lexer": "ipython3",
   "version": "3.11.4"
  }
 },
 "nbformat": 4,
 "nbformat_minor": 5
}
