{
 "cells": [
  {
   "cell_type": "code",
   "execution_count": 1,
   "id": "945dac8e-6618-4d0f-ba40-03220497a476",
   "metadata": {
    "tags": []
   },
   "outputs": [],
   "source": [
    "import pandas as pd\n",
    "import numpy as np"
   ]
  },
  {
   "cell_type": "code",
   "execution_count": 120,
   "id": "29c72219-ab86-47d6-a2d5-710d56d1e215",
   "metadata": {
    "tags": []
   },
   "outputs": [],
   "source": [
    "# update\n",
    "origin_df = pd.DataFrame({'A':['강다솜','김나영','이강욱'],'B':['A','A','A'],'C':[1,2,3]})\n",
    "update_df = pd.DataFrame({'A':['강다솜','김나영','이강욱'],'B':['A','A','B'],'C':[10,20,30]})"
   ]
  },
  {
   "cell_type": "code",
   "execution_count": 3,
   "id": "50f5b34a-b707-4dbe-a9b6-ac77beb372b0",
   "metadata": {
    "tags": []
   },
   "outputs": [],
   "source": [
    "origin_df.update(update_df)"
   ]
  },
  {
   "cell_type": "code",
   "execution_count": 4,
   "id": "1c6b0b3d-3dc6-42cd-92af-f8ce80a06b56",
   "metadata": {
    "tags": []
   },
   "outputs": [],
   "source": [
    "origin_df.set_index(['A','B'],inplace=True)"
   ]
  },
  {
   "cell_type": "code",
   "execution_count": 114,
   "id": "a75a9b38-5f23-4ded-837c-93b023c3f425",
   "metadata": {
    "tags": []
   },
   "outputs": [
    {
     "data": {
      "text/html": [
       "<div>\n",
       "<style scoped>\n",
       "    .dataframe tbody tr th:only-of-type {\n",
       "        vertical-align: middle;\n",
       "    }\n",
       "\n",
       "    .dataframe tbody tr th {\n",
       "        vertical-align: top;\n",
       "    }\n",
       "\n",
       "    .dataframe thead th {\n",
       "        text-align: right;\n",
       "    }\n",
       "</style>\n",
       "<table border=\"1\" class=\"dataframe\">\n",
       "  <thead>\n",
       "    <tr style=\"text-align: right;\">\n",
       "      <th></th>\n",
       "      <th>A</th>\n",
       "      <th>B</th>\n",
       "      <th>C</th>\n",
       "    </tr>\n",
       "  </thead>\n",
       "  <tbody>\n",
       "    <tr>\n",
       "      <th>0</th>\n",
       "      <td>강다솜</td>\n",
       "      <td>A</td>\n",
       "      <td>10</td>\n",
       "    </tr>\n",
       "    <tr>\n",
       "      <th>1</th>\n",
       "      <td>김나영</td>\n",
       "      <td>A</td>\n",
       "      <td>20</td>\n",
       "    </tr>\n",
       "    <tr>\n",
       "      <th>2</th>\n",
       "      <td>이강욱</td>\n",
       "      <td>B</td>\n",
       "      <td>30</td>\n",
       "    </tr>\n",
       "  </tbody>\n",
       "</table>\n",
       "</div>"
      ],
      "text/plain": [
       "     A  B   C\n",
       "0  강다솜  A  10\n",
       "1  김나영  A  20\n",
       "2  이강욱  B  30"
      ]
     },
     "execution_count": 114,
     "metadata": {},
     "output_type": "execute_result"
    }
   ],
   "source": [
    "update_df"
   ]
  },
  {
   "cell_type": "code",
   "execution_count": 115,
   "id": "57c2ee91-73ed-4cca-a571-4f02c5fc8e23",
   "metadata": {
    "tags": []
   },
   "outputs": [
    {
     "data": {
      "text/html": [
       "<div>\n",
       "<style scoped>\n",
       "    .dataframe tbody tr th:only-of-type {\n",
       "        vertical-align: middle;\n",
       "    }\n",
       "\n",
       "    .dataframe tbody tr th {\n",
       "        vertical-align: top;\n",
       "    }\n",
       "\n",
       "    .dataframe thead th {\n",
       "        text-align: right;\n",
       "    }\n",
       "</style>\n",
       "<table border=\"1\" class=\"dataframe\">\n",
       "  <thead>\n",
       "    <tr style=\"text-align: right;\">\n",
       "      <th></th>\n",
       "      <th>A</th>\n",
       "      <th>B</th>\n",
       "      <th>C</th>\n",
       "    </tr>\n",
       "  </thead>\n",
       "  <tbody>\n",
       "    <tr>\n",
       "      <th>0</th>\n",
       "      <td>강다솜</td>\n",
       "      <td>A</td>\n",
       "      <td>1</td>\n",
       "    </tr>\n",
       "    <tr>\n",
       "      <th>1</th>\n",
       "      <td>김나영</td>\n",
       "      <td>A</td>\n",
       "      <td>2</td>\n",
       "    </tr>\n",
       "    <tr>\n",
       "      <th>2</th>\n",
       "      <td>이강욱</td>\n",
       "      <td>A</td>\n",
       "      <td>3</td>\n",
       "    </tr>\n",
       "  </tbody>\n",
       "</table>\n",
       "</div>"
      ],
      "text/plain": [
       "     A  B  C\n",
       "0  강다솜  A  1\n",
       "1  김나영  A  2\n",
       "2  이강욱  A  3"
      ]
     },
     "execution_count": 115,
     "metadata": {},
     "output_type": "execute_result"
    }
   ],
   "source": [
    "origin_df"
   ]
  },
  {
   "cell_type": "code",
   "execution_count": 7,
   "id": "c4980828-5334-4335-aac8-905a22649661",
   "metadata": {
    "collapsed": true,
    "jupyter": {
     "outputs_hidden": true
    },
    "tags": []
   },
   "outputs": [],
   "source": [
    "update_df.set_index(['A','B'],inplace=True)"
   ]
  },
  {
   "cell_type": "code",
   "execution_count": 8,
   "id": "51586c5c-0da7-477d-9161-ac1d9640c620",
   "metadata": {
    "tags": []
   },
   "outputs": [
    {
     "data": {
      "text/html": [
       "<div>\n",
       "<style scoped>\n",
       "    .dataframe tbody tr th:only-of-type {\n",
       "        vertical-align: middle;\n",
       "    }\n",
       "\n",
       "    .dataframe tbody tr th {\n",
       "        vertical-align: top;\n",
       "    }\n",
       "\n",
       "    .dataframe thead th {\n",
       "        text-align: right;\n",
       "    }\n",
       "</style>\n",
       "<table border=\"1\" class=\"dataframe\">\n",
       "  <thead>\n",
       "    <tr style=\"text-align: right;\">\n",
       "      <th></th>\n",
       "      <th>A</th>\n",
       "      <th>B</th>\n",
       "      <th>C</th>\n",
       "    </tr>\n",
       "  </thead>\n",
       "  <tbody>\n",
       "    <tr>\n",
       "      <th>0</th>\n",
       "      <td>강다솜</td>\n",
       "      <td>A</td>\n",
       "      <td>10</td>\n",
       "    </tr>\n",
       "    <tr>\n",
       "      <th>1</th>\n",
       "      <td>김나영</td>\n",
       "      <td>A</td>\n",
       "      <td>20</td>\n",
       "    </tr>\n",
       "    <tr>\n",
       "      <th>2</th>\n",
       "      <td>이강욱</td>\n",
       "      <td>B</td>\n",
       "      <td>30</td>\n",
       "    </tr>\n",
       "  </tbody>\n",
       "</table>\n",
       "</div>"
      ],
      "text/plain": [
       "     A  B   C\n",
       "0  강다솜  A  10\n",
       "1  김나영  A  20\n",
       "2  이강욱  B  30"
      ]
     },
     "execution_count": 8,
     "metadata": {},
     "output_type": "execute_result"
    }
   ],
   "source": [
    "origin_df.reset_index()\n",
    "update_df.reset_index()"
   ]
  },
  {
   "cell_type": "code",
   "execution_count": 124,
   "id": "15234b02-10b3-4920-9cef-330b4e11df1e",
   "metadata": {
    "tags": []
   },
   "outputs": [
    {
     "data": {
      "text/html": [
       "<div>\n",
       "<style scoped>\n",
       "    .dataframe tbody tr th:only-of-type {\n",
       "        vertical-align: middle;\n",
       "    }\n",
       "\n",
       "    .dataframe tbody tr th {\n",
       "        vertical-align: top;\n",
       "    }\n",
       "\n",
       "    .dataframe thead th {\n",
       "        text-align: right;\n",
       "    }\n",
       "</style>\n",
       "<table border=\"1\" class=\"dataframe\">\n",
       "  <thead>\n",
       "    <tr style=\"text-align: right;\">\n",
       "      <th></th>\n",
       "      <th>A</th>\n",
       "      <th>B</th>\n",
       "      <th>C_x</th>\n",
       "      <th>C_y</th>\n",
       "    </tr>\n",
       "  </thead>\n",
       "  <tbody>\n",
       "    <tr>\n",
       "      <th>0</th>\n",
       "      <td>강다솜</td>\n",
       "      <td>A</td>\n",
       "      <td>1.0</td>\n",
       "      <td>10.0</td>\n",
       "    </tr>\n",
       "    <tr>\n",
       "      <th>1</th>\n",
       "      <td>김나영</td>\n",
       "      <td>A</td>\n",
       "      <td>2.0</td>\n",
       "      <td>20.0</td>\n",
       "    </tr>\n",
       "    <tr>\n",
       "      <th>2</th>\n",
       "      <td>이강욱</td>\n",
       "      <td>A</td>\n",
       "      <td>3.0</td>\n",
       "      <td>NaN</td>\n",
       "    </tr>\n",
       "    <tr>\n",
       "      <th>3</th>\n",
       "      <td>이강욱</td>\n",
       "      <td>B</td>\n",
       "      <td>NaN</td>\n",
       "      <td>30.0</td>\n",
       "    </tr>\n",
       "  </tbody>\n",
       "</table>\n",
       "</div>"
      ],
      "text/plain": [
       "     A  B  C_x   C_y\n",
       "0  강다솜  A  1.0  10.0\n",
       "1  김나영  A  2.0  20.0\n",
       "2  이강욱  A  3.0   NaN\n",
       "3  이강욱  B  NaN  30.0"
      ]
     },
     "execution_count": 124,
     "metadata": {},
     "output_type": "execute_result"
    }
   ],
   "source": [
    "pd.merge(origin_df, update_df, left_on=['A','B'], right_on=['A','B'],how='outer')"
   ]
  },
  {
   "cell_type": "code",
   "execution_count": 108,
   "id": "efc77cff-1b64-49c1-96d3-5558aa2638e1",
   "metadata": {
    "tags": []
   },
   "outputs": [],
   "source": [
    "df = pd.read_csv('https://bit.ly/3RhoNho')"
   ]
  },
  {
   "cell_type": "code",
   "execution_count": 11,
   "id": "efb1ea7a-42dd-468c-b4ed-c23b4073625c",
   "metadata": {
    "tags": []
   },
   "outputs": [
    {
     "data": {
      "text/html": [
       "<div>\n",
       "<style scoped>\n",
       "    .dataframe tbody tr th:only-of-type {\n",
       "        vertical-align: middle;\n",
       "    }\n",
       "\n",
       "    .dataframe tbody tr th {\n",
       "        vertical-align: top;\n",
       "    }\n",
       "\n",
       "    .dataframe thead th {\n",
       "        text-align: right;\n",
       "    }\n",
       "</style>\n",
       "<table border=\"1\" class=\"dataframe\">\n",
       "  <thead>\n",
       "    <tr style=\"text-align: right;\">\n",
       "      <th></th>\n",
       "      <th>번호</th>\n",
       "      <th>도서명</th>\n",
       "      <th>저자</th>\n",
       "      <th>출판사</th>\n",
       "      <th>발행년도</th>\n",
       "      <th>ISBN</th>\n",
       "      <th>세트 ISBN</th>\n",
       "      <th>부가기호</th>\n",
       "      <th>권</th>\n",
       "      <th>주제분류번호</th>\n",
       "      <th>도서권수</th>\n",
       "      <th>대출건수</th>\n",
       "      <th>등록일자</th>\n",
       "      <th>Unnamed: 13</th>\n",
       "    </tr>\n",
       "  </thead>\n",
       "  <tbody>\n",
       "    <tr>\n",
       "      <th>0</th>\n",
       "      <td>1</td>\n",
       "      <td>인공지능과 흙</td>\n",
       "      <td>김동훈 지음</td>\n",
       "      <td>민음사</td>\n",
       "      <td>2021</td>\n",
       "      <td>9788937444319</td>\n",
       "      <td>NaN</td>\n",
       "      <td>NaN</td>\n",
       "      <td>NaN</td>\n",
       "      <td>NaN</td>\n",
       "      <td>1</td>\n",
       "      <td>0</td>\n",
       "      <td>2021-03-19</td>\n",
       "      <td>NaN</td>\n",
       "    </tr>\n",
       "    <tr>\n",
       "      <th>1</th>\n",
       "      <td>2</td>\n",
       "      <td>가짜 행복 권하는 사회</td>\n",
       "      <td>김태형 지음</td>\n",
       "      <td>갈매나무</td>\n",
       "      <td>2021</td>\n",
       "      <td>9791190123969</td>\n",
       "      <td>NaN</td>\n",
       "      <td>NaN</td>\n",
       "      <td>NaN</td>\n",
       "      <td>NaN</td>\n",
       "      <td>1</td>\n",
       "      <td>0</td>\n",
       "      <td>2021-03-19</td>\n",
       "      <td>NaN</td>\n",
       "    </tr>\n",
       "    <tr>\n",
       "      <th>2</th>\n",
       "      <td>3</td>\n",
       "      <td>나도 한 문장 잘 쓰면 바랄 게 없겠네</td>\n",
       "      <td>김선영 지음</td>\n",
       "      <td>블랙피쉬</td>\n",
       "      <td>2021</td>\n",
       "      <td>9788968332982</td>\n",
       "      <td>NaN</td>\n",
       "      <td>NaN</td>\n",
       "      <td>NaN</td>\n",
       "      <td>NaN</td>\n",
       "      <td>1</td>\n",
       "      <td>0</td>\n",
       "      <td>2021-03-19</td>\n",
       "      <td>NaN</td>\n",
       "    </tr>\n",
       "    <tr>\n",
       "      <th>3</th>\n",
       "      <td>4</td>\n",
       "      <td>예루살렘 해변</td>\n",
       "      <td>이도 게펜 지음, 임재희 옮김</td>\n",
       "      <td>문학세계사</td>\n",
       "      <td>2021</td>\n",
       "      <td>9788970759906</td>\n",
       "      <td>NaN</td>\n",
       "      <td>NaN</td>\n",
       "      <td>NaN</td>\n",
       "      <td>NaN</td>\n",
       "      <td>1</td>\n",
       "      <td>0</td>\n",
       "      <td>2021-03-19</td>\n",
       "      <td>NaN</td>\n",
       "    </tr>\n",
       "    <tr>\n",
       "      <th>4</th>\n",
       "      <td>5</td>\n",
       "      <td>김성곤의 중국한시기행 : 장강·황하 편</td>\n",
       "      <td>김성곤 지음</td>\n",
       "      <td>김영사</td>\n",
       "      <td>2021</td>\n",
       "      <td>9788934990833</td>\n",
       "      <td>NaN</td>\n",
       "      <td>NaN</td>\n",
       "      <td>NaN</td>\n",
       "      <td>NaN</td>\n",
       "      <td>1</td>\n",
       "      <td>0</td>\n",
       "      <td>2021-03-19</td>\n",
       "      <td>NaN</td>\n",
       "    </tr>\n",
       "  </tbody>\n",
       "</table>\n",
       "</div>"
      ],
      "text/plain": [
       "   번호                    도서명                저자    출판사  발행년도           ISBN  \\\n",
       "0   1                인공지능과 흙            김동훈 지음    민음사  2021  9788937444319   \n",
       "1   2           가짜 행복 권하는 사회            김태형 지음   갈매나무  2021  9791190123969   \n",
       "2   3  나도 한 문장 잘 쓰면 바랄 게 없겠네            김선영 지음   블랙피쉬  2021  9788968332982   \n",
       "3   4                예루살렘 해변  이도 게펜 지음, 임재희 옮김  문학세계사  2021  9788970759906   \n",
       "4   5  김성곤의 중국한시기행 : 장강·황하 편            김성곤 지음    김영사  2021  9788934990833   \n",
       "\n",
       "  세트 ISBN 부가기호    권 주제분류번호  도서권수  대출건수        등록일자  Unnamed: 13  \n",
       "0     NaN  NaN  NaN    NaN     1     0  2021-03-19          NaN  \n",
       "1     NaN  NaN  NaN    NaN     1     0  2021-03-19          NaN  \n",
       "2     NaN  NaN  NaN    NaN     1     0  2021-03-19          NaN  \n",
       "3     NaN  NaN  NaN    NaN     1     0  2021-03-19          NaN  \n",
       "4     NaN  NaN  NaN    NaN     1     0  2021-03-19          NaN  "
      ]
     },
     "execution_count": 11,
     "metadata": {},
     "output_type": "execute_result"
    }
   ],
   "source": [
    "df.head()"
   ]
  },
  {
   "cell_type": "code",
   "execution_count": 12,
   "id": "44bbaf3e-1dd6-4819-8d51-3bc66448ac86",
   "metadata": {
    "tags": []
   },
   "outputs": [
    {
     "data": {
      "text/plain": [
       "번호             401682\n",
       "도서명            401279\n",
       "저자             401481\n",
       "출판사            396887\n",
       "발행년도           401665\n",
       "ISBN           401682\n",
       "세트 ISBN         61871\n",
       "부가기호           325034\n",
       "권               68267\n",
       "주제분류번호         381360\n",
       "도서권수           401682\n",
       "대출건수           401682\n",
       "등록일자           401682\n",
       "Unnamed: 13         0\n",
       "dtype: int64"
      ]
     },
     "execution_count": 12,
     "metadata": {},
     "output_type": "execute_result"
    }
   ],
   "source": [
    "(~df.isna()).sum() # = notna()"
   ]
  },
  {
   "cell_type": "code",
   "execution_count": 13,
   "id": "910d1f68-e8a2-4391-827b-34fbddc24bf7",
   "metadata": {
    "tags": []
   },
   "outputs": [
    {
     "data": {
      "text/plain": [
       "번호             0\n",
       "도서명            0\n",
       "저자             0\n",
       "출판사            0\n",
       "발행년도           0\n",
       "ISBN           0\n",
       "세트 ISBN        0\n",
       "부가기호           0\n",
       "권              0\n",
       "주제분류번호         0\n",
       "도서권수           0\n",
       "대출건수           0\n",
       "등록일자           0\n",
       "Unnamed: 13    0\n",
       "dtype: int64"
      ]
     },
     "execution_count": 13,
     "metadata": {},
     "output_type": "execute_result"
    }
   ],
   "source": [
    "df.fillna(0).isna().sum()"
   ]
  },
  {
   "cell_type": "code",
   "execution_count": 14,
   "id": "2284d7ec-80fe-4203-8acc-3e8ff6cb6a73",
   "metadata": {
    "tags": []
   },
   "outputs": [
    {
     "data": {
      "text/plain": [
       "번호             0\n",
       "도서명            0\n",
       "저자             0\n",
       "출판사            0\n",
       "발행년도           0\n",
       "ISBN           0\n",
       "세트 ISBN        0\n",
       "부가기호           0\n",
       "권              0\n",
       "주제분류번호         0\n",
       "도서권수           0\n",
       "대출건수           0\n",
       "등록일자           0\n",
       "Unnamed: 13    0\n",
       "dtype: int64"
      ]
     },
     "execution_count": 14,
     "metadata": {},
     "output_type": "execute_result"
    }
   ],
   "source": [
    "df.replace(np.nan,0).isna().sum()"
   ]
  },
  {
   "cell_type": "code",
   "execution_count": 15,
   "id": "9d2b0f29-1b3d-4f3f-b7ab-6b8c7be5f9f8",
   "metadata": {
    "tags": []
   },
   "outputs": [],
   "source": [
    "origin_df.replace(['이강욱',3],['강욱',30])\n",
    "origin_df.replace({'이강욱':'강욱',3:30},inplace=True)"
   ]
  },
  {
   "cell_type": "code",
   "execution_count": 16,
   "id": "a95d5fc2-fc6d-4c14-bc06-168e88c8fb9d",
   "metadata": {
    "tags": []
   },
   "outputs": [],
   "source": [
    "# 시작: ^ / 끝 : $\n",
    "# (ab|cd) ab로 시작해서 cd로 끝나는거\n",
    "# ^a.+c$ : a로 시작하고 c로 끝나는 모든것 찾기\n",
    "# {\\W}.+@{\\W}\\.(com)$ : 메일 주소를 정규 표현식으로\n",
    "# 062-333-7721 : (/d/d/d)-(/d/d/d)-(/d/d/d/d), 전화번호를 정규표현식으로"
   ]
  },
  {
   "cell_type": "code",
   "execution_count": 18,
   "id": "512bc102-0154-4e6c-82a6-aa0f09258dd3",
   "metadata": {
    "tags": []
   },
   "outputs": [
    {
     "data": {
      "text/plain": [
       "0                                                   인공지능과 흙\n",
       "79        쉽게 따라하는 인공지능 FOR 클래스룸 (인공지능 윤리, Google Arts & ...\n",
       "99                                  Python으로 배우는 문제해결과 인공지능\n",
       "888                                              인공지능 교과서 2\n",
       "1535      인공지능 시대의 사진 이미지 읽기 (중앙대학교 인문콘텐츠연구소 HK+ 인공지능인문학...\n",
       "                                ...                        \n",
       "358336                                                 인공지능\n",
       "359578                                                 인공지능\n",
       "368847                                            똘망똘망 인공지능\n",
       "371864                                        왜 인공지능이 문제일까?\n",
       "399655                                             인공지능의 철학\n",
       "Name: 도서명, Length: 253, dtype: object"
      ]
     },
     "execution_count": 18,
     "metadata": {},
     "output_type": "execute_result"
    }
   ],
   "source": [
    "df_ = df.copy()\n",
    "df_.fillna('0',inplace=True)\n",
    "df_.isna().sum()\n",
    "df_.loc[df_.도서명.str.contains('인공지능'),'도서명']"
   ]
  },
  {
   "cell_type": "code",
   "execution_count": 19,
   "id": "06806fd6-6a72-4bc7-809e-21cac682fe77",
   "metadata": {
    "tags": []
   },
   "outputs": [
    {
     "data": {
      "text/plain": [
       "0"
      ]
     },
     "execution_count": 19,
     "metadata": {},
     "output_type": "execute_result"
    }
   ],
   "source": [
    "df_.도서명.isna().sum()"
   ]
  },
  {
   "cell_type": "code",
   "execution_count": 20,
   "id": "0baafc86-5f45-4a87-9c41-0479d53241ed",
   "metadata": {
    "tags": []
   },
   "outputs": [],
   "source": [
    "df.도서명.replace(np.nan,'없음',inplace=True)"
   ]
  },
  {
   "cell_type": "code",
   "execution_count": 21,
   "id": "45a89e1d-8ddc-41f7-987d-6cb716b0dfc3",
   "metadata": {
    "tags": []
   },
   "outputs": [
    {
     "data": {
      "text/plain": [
       "0                                                   인공지능과 흙\n",
       "79        쉽게 따라하는 인공지능 FOR 클래스룸 (인공지능 윤리, Google Arts & ...\n",
       "99                                  Python으로 배우는 문제해결과 인공지능\n",
       "888                                              인공지능 교과서 2\n",
       "1535      인공지능 시대의 사진 이미지 읽기 (중앙대학교 인문콘텐츠연구소 HK+ 인공지능인문학...\n",
       "                                ...                        \n",
       "358336                                                 인공지능\n",
       "359578                                                 인공지능\n",
       "368847                                            똘망똘망 인공지능\n",
       "371864                                        왜 인공지능이 문제일까?\n",
       "399655                                             인공지능의 철학\n",
       "Name: 도서명, Length: 253, dtype: object"
      ]
     },
     "execution_count": 21,
     "metadata": {},
     "output_type": "execute_result"
    }
   ],
   "source": [
    "df.loc[df.도서명.str.contains('인공지능'),'도서명']"
   ]
  },
  {
   "cell_type": "code",
   "execution_count": 59,
   "id": "9c76b913-3eeb-4b2b-a3b6-3cfc612fe991",
   "metadata": {
    "tags": []
   },
   "outputs": [],
   "source": [
    "person = np.random.choice(['female','male'],size=10000)"
   ]
  },
  {
   "cell_type": "code",
   "execution_count": 60,
   "id": "be75780c-c48b-47e8-ab5f-07febe098256",
   "metadata": {
    "tags": []
   },
   "outputs": [],
   "source": [
    "score = np.random.randint(50,100,size=(10000,4))"
   ]
  },
  {
   "cell_type": "code",
   "execution_count": 61,
   "id": "104c2e43-cff5-4987-80c7-346120a81fed",
   "metadata": {
    "tags": []
   },
   "outputs": [],
   "source": [
    "columns = ['Gender','Korean','English','Math','Science']"
   ]
  },
  {
   "cell_type": "code",
   "execution_count": 62,
   "id": "a35b7167-fdd3-404d-9b9b-4fa7d4c0ad9d",
   "metadata": {
    "tags": []
   },
   "outputs": [],
   "source": [
    "person = pd.DataFrame(person)"
   ]
  },
  {
   "cell_type": "code",
   "execution_count": 63,
   "id": "bb34051e-d05f-4407-9da1-1d92337825fd",
   "metadata": {
    "tags": []
   },
   "outputs": [
    {
     "data": {
      "text/html": [
       "<div>\n",
       "<style scoped>\n",
       "    .dataframe tbody tr th:only-of-type {\n",
       "        vertical-align: middle;\n",
       "    }\n",
       "\n",
       "    .dataframe tbody tr th {\n",
       "        vertical-align: top;\n",
       "    }\n",
       "\n",
       "    .dataframe thead th {\n",
       "        text-align: right;\n",
       "    }\n",
       "</style>\n",
       "<table border=\"1\" class=\"dataframe\">\n",
       "  <thead>\n",
       "    <tr style=\"text-align: right;\">\n",
       "      <th></th>\n",
       "      <th>Gender</th>\n",
       "      <th>Korean</th>\n",
       "      <th>English</th>\n",
       "      <th>Math</th>\n",
       "      <th>Science</th>\n",
       "    </tr>\n",
       "  </thead>\n",
       "  <tbody>\n",
       "    <tr>\n",
       "      <th>0</th>\n",
       "      <td>female</td>\n",
       "      <td>50</td>\n",
       "      <td>90</td>\n",
       "      <td>77</td>\n",
       "      <td>57</td>\n",
       "    </tr>\n",
       "    <tr>\n",
       "      <th>1</th>\n",
       "      <td>male</td>\n",
       "      <td>89</td>\n",
       "      <td>95</td>\n",
       "      <td>76</td>\n",
       "      <td>87</td>\n",
       "    </tr>\n",
       "    <tr>\n",
       "      <th>2</th>\n",
       "      <td>male</td>\n",
       "      <td>75</td>\n",
       "      <td>76</td>\n",
       "      <td>94</td>\n",
       "      <td>50</td>\n",
       "    </tr>\n",
       "    <tr>\n",
       "      <th>3</th>\n",
       "      <td>male</td>\n",
       "      <td>96</td>\n",
       "      <td>94</td>\n",
       "      <td>53</td>\n",
       "      <td>94</td>\n",
       "    </tr>\n",
       "    <tr>\n",
       "      <th>4</th>\n",
       "      <td>female</td>\n",
       "      <td>87</td>\n",
       "      <td>84</td>\n",
       "      <td>78</td>\n",
       "      <td>95</td>\n",
       "    </tr>\n",
       "    <tr>\n",
       "      <th>...</th>\n",
       "      <td>...</td>\n",
       "      <td>...</td>\n",
       "      <td>...</td>\n",
       "      <td>...</td>\n",
       "      <td>...</td>\n",
       "    </tr>\n",
       "    <tr>\n",
       "      <th>9995</th>\n",
       "      <td>male</td>\n",
       "      <td>77</td>\n",
       "      <td>87</td>\n",
       "      <td>98</td>\n",
       "      <td>69</td>\n",
       "    </tr>\n",
       "    <tr>\n",
       "      <th>9996</th>\n",
       "      <td>male</td>\n",
       "      <td>93</td>\n",
       "      <td>58</td>\n",
       "      <td>97</td>\n",
       "      <td>58</td>\n",
       "    </tr>\n",
       "    <tr>\n",
       "      <th>9997</th>\n",
       "      <td>female</td>\n",
       "      <td>89</td>\n",
       "      <td>60</td>\n",
       "      <td>88</td>\n",
       "      <td>76</td>\n",
       "    </tr>\n",
       "    <tr>\n",
       "      <th>9998</th>\n",
       "      <td>male</td>\n",
       "      <td>88</td>\n",
       "      <td>59</td>\n",
       "      <td>73</td>\n",
       "      <td>81</td>\n",
       "    </tr>\n",
       "    <tr>\n",
       "      <th>9999</th>\n",
       "      <td>male</td>\n",
       "      <td>87</td>\n",
       "      <td>74</td>\n",
       "      <td>78</td>\n",
       "      <td>66</td>\n",
       "    </tr>\n",
       "  </tbody>\n",
       "</table>\n",
       "<p>10000 rows × 5 columns</p>\n",
       "</div>"
      ],
      "text/plain": [
       "      Gender  Korean  English  Math  Science\n",
       "0     female      50       90    77       57\n",
       "1       male      89       95    76       87\n",
       "2       male      75       76    94       50\n",
       "3       male      96       94    53       94\n",
       "4     female      87       84    78       95\n",
       "...      ...     ...      ...   ...      ...\n",
       "9995    male      77       87    98       69\n",
       "9996    male      93       58    97       58\n",
       "9997  female      89       60    88       76\n",
       "9998    male      88       59    73       81\n",
       "9999    male      87       74    78       66\n",
       "\n",
       "[10000 rows x 5 columns]"
      ]
     },
     "execution_count": 63,
     "metadata": {},
     "output_type": "execute_result"
    }
   ],
   "source": [
    "person = pd.concat([person,pd.DataFrame(score)],axis=1)\n",
    "person.columns = columns\n",
    "person"
   ]
  },
  {
   "cell_type": "code",
   "execution_count": 27,
   "id": "c529d98f-08f1-4d03-a29a-7b972dfda200",
   "metadata": {
    "tags": []
   },
   "outputs": [
    {
     "data": {
      "text/html": [
       "<div>\n",
       "<style scoped>\n",
       "    .dataframe tbody tr th:only-of-type {\n",
       "        vertical-align: middle;\n",
       "    }\n",
       "\n",
       "    .dataframe tbody tr th {\n",
       "        vertical-align: top;\n",
       "    }\n",
       "\n",
       "    .dataframe thead th {\n",
       "        text-align: right;\n",
       "    }\n",
       "</style>\n",
       "<table border=\"1\" class=\"dataframe\">\n",
       "  <thead>\n",
       "    <tr style=\"text-align: right;\">\n",
       "      <th></th>\n",
       "      <th>Gender</th>\n",
       "      <th>Korean</th>\n",
       "      <th>English</th>\n",
       "      <th>Math</th>\n",
       "      <th>Science</th>\n",
       "    </tr>\n",
       "  </thead>\n",
       "  <tbody>\n",
       "    <tr>\n",
       "      <th>0</th>\n",
       "      <td>female</td>\n",
       "      <td>69</td>\n",
       "      <td>54</td>\n",
       "      <td>88</td>\n",
       "      <td>62</td>\n",
       "    </tr>\n",
       "    <tr>\n",
       "      <th>1</th>\n",
       "      <td>female</td>\n",
       "      <td>62</td>\n",
       "      <td>77</td>\n",
       "      <td>80</td>\n",
       "      <td>71</td>\n",
       "    </tr>\n",
       "    <tr>\n",
       "      <th>2</th>\n",
       "      <td>male</td>\n",
       "      <td>78</td>\n",
       "      <td>70</td>\n",
       "      <td>79</td>\n",
       "      <td>61</td>\n",
       "    </tr>\n",
       "    <tr>\n",
       "      <th>3</th>\n",
       "      <td>male</td>\n",
       "      <td>85</td>\n",
       "      <td>81</td>\n",
       "      <td>90</td>\n",
       "      <td>59</td>\n",
       "    </tr>\n",
       "    <tr>\n",
       "      <th>4</th>\n",
       "      <td>female</td>\n",
       "      <td>63</td>\n",
       "      <td>82</td>\n",
       "      <td>69</td>\n",
       "      <td>69</td>\n",
       "    </tr>\n",
       "    <tr>\n",
       "      <th>...</th>\n",
       "      <td>...</td>\n",
       "      <td>...</td>\n",
       "      <td>...</td>\n",
       "      <td>...</td>\n",
       "      <td>...</td>\n",
       "    </tr>\n",
       "    <tr>\n",
       "      <th>9995</th>\n",
       "      <td>male</td>\n",
       "      <td>94</td>\n",
       "      <td>66</td>\n",
       "      <td>53</td>\n",
       "      <td>54</td>\n",
       "    </tr>\n",
       "    <tr>\n",
       "      <th>9996</th>\n",
       "      <td>female</td>\n",
       "      <td>70</td>\n",
       "      <td>61</td>\n",
       "      <td>53</td>\n",
       "      <td>84</td>\n",
       "    </tr>\n",
       "    <tr>\n",
       "      <th>9997</th>\n",
       "      <td>female</td>\n",
       "      <td>82</td>\n",
       "      <td>85</td>\n",
       "      <td>78</td>\n",
       "      <td>62</td>\n",
       "    </tr>\n",
       "    <tr>\n",
       "      <th>9998</th>\n",
       "      <td>female</td>\n",
       "      <td>68</td>\n",
       "      <td>92</td>\n",
       "      <td>72</td>\n",
       "      <td>87</td>\n",
       "    </tr>\n",
       "    <tr>\n",
       "      <th>9999</th>\n",
       "      <td>male</td>\n",
       "      <td>68</td>\n",
       "      <td>50</td>\n",
       "      <td>57</td>\n",
       "      <td>94</td>\n",
       "    </tr>\n",
       "  </tbody>\n",
       "</table>\n",
       "<p>10000 rows × 5 columns</p>\n",
       "</div>"
      ],
      "text/plain": [
       "      Gender Korean English Math Science\n",
       "0     female     69      54   88      62\n",
       "1     female     62      77   80      71\n",
       "2       male     78      70   79      61\n",
       "3       male     85      81   90      59\n",
       "4     female     63      82   69      69\n",
       "...      ...    ...     ...  ...     ...\n",
       "9995    male     94      66   53      54\n",
       "9996  female     70      61   53      84\n",
       "9997  female     82      85   78      62\n",
       "9998  female     68      92   72      87\n",
       "9999    male     68      50   57      94\n",
       "\n",
       "[10000 rows x 5 columns]"
      ]
     },
     "execution_count": 27,
     "metadata": {},
     "output_type": "execute_result"
    }
   ],
   "source": [
    "person = np.random.choice(['female','male'],size=10000)\n",
    "score = np.random.randint(50,100,size=(10000,4))\n",
    "columns = ['Gender','Korean','English','Math','Science']\n",
    "person = pd.DataFrame(np.c_[person,score],columns=columns)\n",
    "person"
   ]
  },
  {
   "cell_type": "code",
   "execution_count": 64,
   "id": "4422ab9e-8466-4e64-a34d-63ac050867d3",
   "metadata": {
    "tags": []
   },
   "outputs": [],
   "source": [
    "# 총점(total), 평균(avg)\n",
    "total = person.Korean + person.English + person.Math + person.Science\n",
    "avg = total / 4"
   ]
  },
  {
   "cell_type": "code",
   "execution_count": 29,
   "id": "ec41a9b8-018c-4234-a55e-3543e511c418",
   "metadata": {
    "tags": []
   },
   "outputs": [],
   "source": [
    "# person.update(person.iloc[:,1:].astype(int))"
   ]
  },
  {
   "cell_type": "code",
   "execution_count": 30,
   "id": "272706f1-4656-4481-aa87-ffd734fdae6d",
   "metadata": {
    "tags": []
   },
   "outputs": [],
   "source": [
    "for i in person.dtypes.index:\n",
    "    try:\n",
    "        person[i] = person[i].astype(int)\n",
    "    except:\n",
    "        pass"
   ]
  },
  {
   "cell_type": "code",
   "execution_count": 31,
   "id": "6852c8fa-c05c-4a38-bcf2-15152e0da87a",
   "metadata": {
    "tags": []
   },
   "outputs": [
    {
     "data": {
      "text/plain": [
       "Gender     object\n",
       "Korean      int32\n",
       "English     int32\n",
       "Math        int32\n",
       "Science     int32\n",
       "dtype: object"
      ]
     },
     "execution_count": 31,
     "metadata": {},
     "output_type": "execute_result"
    }
   ],
   "source": [
    "person.dtypes"
   ]
  },
  {
   "cell_type": "code",
   "execution_count": 65,
   "id": "628e7df5-49f6-4237-a7fa-457d20b908e4",
   "metadata": {
    "tags": []
   },
   "outputs": [],
   "source": [
    "# 90 이상은 A, 80 이상은 B, 70 이상은 C 나머지는 D\n",
    "grade = np.where(avg >= 90, 'A',np.where(avg >= 80, 'B',np.where(avg >= 70, 'C','D')))"
   ]
  },
  {
   "cell_type": "code",
   "execution_count": 33,
   "id": "2772eae9-adfa-48f3-8e0b-80b3ab7def9b",
   "metadata": {
    "tags": []
   },
   "outputs": [],
   "source": [
    "# total = []\n",
    "# for i in range(person.shape[0]):\n",
    "#     total.append(person.iloc[i,1:].sum())"
   ]
  },
  {
   "cell_type": "code",
   "execution_count": 34,
   "id": "a9da9991-4269-4dd8-aeec-f4d5e347aeed",
   "metadata": {
    "tags": []
   },
   "outputs": [],
   "source": [
    "# total = []\n",
    "# for i in range(person.shape[0]):\n",
    "#     total.append(sum(person.iloc[i,1:]))"
   ]
  },
  {
   "cell_type": "code",
   "execution_count": 35,
   "id": "9c315b9b-5017-44ea-b552-f40e3b878395",
   "metadata": {
    "tags": []
   },
   "outputs": [],
   "source": [
    "# col_total = []\n",
    "# for i in range(person.shape[1]-1):\n",
    "#     col_total.append(person.iloc[:,i+1].sum())"
   ]
  },
  {
   "cell_type": "code",
   "execution_count": 36,
   "id": "7c6c103b-b0db-4f56-b4e6-7930b2908b20",
   "metadata": {
    "tags": []
   },
   "outputs": [],
   "source": [
    "total = person.iloc[:,1:].apply(sum,1)\n",
    "# def mean(x):\n",
    "#     return sum(x)/x.size\n",
    "# avg = person.iloc[:,1:].apply(mean,1)\n",
    "avg = person.iloc[:,1:].apply(np.mean,1)"
   ]
  },
  {
   "cell_type": "code",
   "execution_count": 66,
   "id": "12fa4850-bab2-4ba4-9254-deb1dab05e43",
   "metadata": {
    "tags": []
   },
   "outputs": [],
   "source": [
    "person['Total'] = total\n",
    "person['AVG'] = avg\n",
    "person['Grade'] = grade"
   ]
  },
  {
   "cell_type": "code",
   "execution_count": 38,
   "id": "f1a1277e-72e4-4382-962d-627441477a12",
   "metadata": {
    "tags": []
   },
   "outputs": [
    {
     "data": {
      "text/plain": [
       "array([96.75, 95.25, 95.  , ..., 53.75, 53.75, 52.75])"
      ]
     },
     "execution_count": 38,
     "metadata": {},
     "output_type": "execute_result"
    }
   ],
   "source": [
    "np.sort(person.AVG)[::-1]"
   ]
  },
  {
   "cell_type": "code",
   "execution_count": 39,
   "id": "70efeb97-42ee-4d2a-88c9-e3a2f77a5f94",
   "metadata": {
    "tags": []
   },
   "outputs": [
    {
     "data": {
      "text/plain": [
       "155     93\n",
       "263     87\n",
       "392     84\n",
       "401     73\n",
       "406     98\n",
       "        ..\n",
       "9177    89\n",
       "9444    64\n",
       "9469    62\n",
       "9624    97\n",
       "9798    99\n",
       "Name: Korean, Length: 62, dtype: int32"
      ]
     },
     "execution_count": 39,
     "metadata": {},
     "output_type": "execute_result"
    }
   ],
   "source": [
    "person.loc[person.Total == 337,'Korean']"
   ]
  },
  {
   "cell_type": "code",
   "execution_count": 40,
   "id": "a8e85e0a-9e80-4ec9-9a7f-08dc58c89800",
   "metadata": {
    "tags": []
   },
   "outputs": [
    {
     "data": {
      "text/plain": [
       "95"
      ]
     },
     "execution_count": 40,
     "metadata": {},
     "output_type": "execute_result"
    }
   ],
   "source": [
    "person.loc[person.Total.argmax(),'Korean']"
   ]
  },
  {
   "cell_type": "code",
   "execution_count": 41,
   "id": "3c1e3e76-de1c-4772-a540-1e49ba30b8c2",
   "metadata": {
    "tags": []
   },
   "outputs": [
    {
     "data": {
      "text/html": [
       "<div>\n",
       "<style scoped>\n",
       "    .dataframe tbody tr th:only-of-type {\n",
       "        vertical-align: middle;\n",
       "    }\n",
       "\n",
       "    .dataframe tbody tr th {\n",
       "        vertical-align: top;\n",
       "    }\n",
       "\n",
       "    .dataframe thead th {\n",
       "        text-align: right;\n",
       "    }\n",
       "</style>\n",
       "<table border=\"1\" class=\"dataframe\">\n",
       "  <thead>\n",
       "    <tr style=\"text-align: right;\">\n",
       "      <th></th>\n",
       "      <th>Gender</th>\n",
       "      <th>Korean</th>\n",
       "      <th>English</th>\n",
       "      <th>Math</th>\n",
       "      <th>Science</th>\n",
       "      <th>Total</th>\n",
       "      <th>AVG</th>\n",
       "    </tr>\n",
       "  </thead>\n",
       "  <tbody>\n",
       "    <tr>\n",
       "      <th>7632</th>\n",
       "      <td>female</td>\n",
       "      <td>95</td>\n",
       "      <td>97</td>\n",
       "      <td>96</td>\n",
       "      <td>99</td>\n",
       "      <td>387</td>\n",
       "      <td>96.75</td>\n",
       "    </tr>\n",
       "    <tr>\n",
       "      <th>801</th>\n",
       "      <td>male</td>\n",
       "      <td>95</td>\n",
       "      <td>95</td>\n",
       "      <td>96</td>\n",
       "      <td>95</td>\n",
       "      <td>381</td>\n",
       "      <td>95.25</td>\n",
       "    </tr>\n",
       "    <tr>\n",
       "      <th>5684</th>\n",
       "      <td>female</td>\n",
       "      <td>91</td>\n",
       "      <td>98</td>\n",
       "      <td>97</td>\n",
       "      <td>94</td>\n",
       "      <td>380</td>\n",
       "      <td>95.00</td>\n",
       "    </tr>\n",
       "    <tr>\n",
       "      <th>26</th>\n",
       "      <td>female</td>\n",
       "      <td>97</td>\n",
       "      <td>89</td>\n",
       "      <td>99</td>\n",
       "      <td>95</td>\n",
       "      <td>380</td>\n",
       "      <td>95.00</td>\n",
       "    </tr>\n",
       "    <tr>\n",
       "      <th>6246</th>\n",
       "      <td>male</td>\n",
       "      <td>93</td>\n",
       "      <td>94</td>\n",
       "      <td>96</td>\n",
       "      <td>96</td>\n",
       "      <td>379</td>\n",
       "      <td>94.75</td>\n",
       "    </tr>\n",
       "    <tr>\n",
       "      <th>...</th>\n",
       "      <td>...</td>\n",
       "      <td>...</td>\n",
       "      <td>...</td>\n",
       "      <td>...</td>\n",
       "      <td>...</td>\n",
       "      <td>...</td>\n",
       "      <td>...</td>\n",
       "    </tr>\n",
       "    <tr>\n",
       "      <th>3665</th>\n",
       "      <td>female</td>\n",
       "      <td>58</td>\n",
       "      <td>53</td>\n",
       "      <td>52</td>\n",
       "      <td>54</td>\n",
       "      <td>217</td>\n",
       "      <td>54.25</td>\n",
       "    </tr>\n",
       "    <tr>\n",
       "      <th>6912</th>\n",
       "      <td>male</td>\n",
       "      <td>51</td>\n",
       "      <td>50</td>\n",
       "      <td>60</td>\n",
       "      <td>55</td>\n",
       "      <td>216</td>\n",
       "      <td>54.00</td>\n",
       "    </tr>\n",
       "    <tr>\n",
       "      <th>6073</th>\n",
       "      <td>female</td>\n",
       "      <td>53</td>\n",
       "      <td>52</td>\n",
       "      <td>56</td>\n",
       "      <td>54</td>\n",
       "      <td>215</td>\n",
       "      <td>53.75</td>\n",
       "    </tr>\n",
       "    <tr>\n",
       "      <th>5992</th>\n",
       "      <td>female</td>\n",
       "      <td>50</td>\n",
       "      <td>51</td>\n",
       "      <td>63</td>\n",
       "      <td>51</td>\n",
       "      <td>215</td>\n",
       "      <td>53.75</td>\n",
       "    </tr>\n",
       "    <tr>\n",
       "      <th>9095</th>\n",
       "      <td>female</td>\n",
       "      <td>54</td>\n",
       "      <td>57</td>\n",
       "      <td>50</td>\n",
       "      <td>50</td>\n",
       "      <td>211</td>\n",
       "      <td>52.75</td>\n",
       "    </tr>\n",
       "  </tbody>\n",
       "</table>\n",
       "<p>10000 rows × 7 columns</p>\n",
       "</div>"
      ],
      "text/plain": [
       "      Gender  Korean  English  Math  Science  Total    AVG\n",
       "7632  female      95       97    96       99    387  96.75\n",
       "801     male      95       95    96       95    381  95.25\n",
       "5684  female      91       98    97       94    380  95.00\n",
       "26    female      97       89    99       95    380  95.00\n",
       "6246    male      93       94    96       96    379  94.75\n",
       "...      ...     ...      ...   ...      ...    ...    ...\n",
       "3665  female      58       53    52       54    217  54.25\n",
       "6912    male      51       50    60       55    216  54.00\n",
       "6073  female      53       52    56       54    215  53.75\n",
       "5992  female      50       51    63       51    215  53.75\n",
       "9095  female      54       57    50       50    211  52.75\n",
       "\n",
       "[10000 rows x 7 columns]"
      ]
     },
     "execution_count": 41,
     "metadata": {},
     "output_type": "execute_result"
    }
   ],
   "source": [
    "person.loc[np.argsort(person.AVG)[::-1],:]"
   ]
  },
  {
   "cell_type": "code",
   "execution_count": 42,
   "id": "92da621b-8206-488c-ae57-d037003222d3",
   "metadata": {
    "tags": []
   },
   "outputs": [],
   "source": [
    "## 1. 제일 잘한 과목의 점수 best_score\n",
    "## 2. 제일 잘한과목명 쓰기\n",
    "## 3. 잘한 과목명 순서대로 쓰기\n",
    "## 1\n",
    "# person.iloc[0,1:5].max()\n",
    "# person.iloc[:,1:5].apply(np.max,1)\n",
    "## 2\n",
    "# np.argmax(person.iloc[0,1:5])"
   ]
  },
  {
   "cell_type": "code",
   "execution_count": 71,
   "id": "a3e1c721-5c37-4b77-bfc5-fd5e42c4333c",
   "metadata": {
    "tags": []
   },
   "outputs": [],
   "source": [
    "# bs = np.argmax(person.iloc[0,1:5]) #제일 잘한 과목이 있는 곳이 어디인가\n",
    "# person.columns[1:5][bs] #위치를 찾았으면 컬럼에 그 위치를 넣어서 컬럼명을 찾음\n",
    "def find_subject(x):\n",
    "    bs = np.argmax(x)\n",
    "    return person.columns[1:5][bs]\n",
    "\n",
    "person['Best_Subject'] = person.iloc[:,1:5].apply(find_subject,1)"
   ]
  },
  {
   "cell_type": "code",
   "execution_count": 72,
   "id": "ae44d5e8-7eed-41a8-ae48-ba9f99dd93c4",
   "metadata": {
    "tags": []
   },
   "outputs": [],
   "source": [
    "'->'.join(person.columns[1:5][np.argsort(person.iloc[0,1:5])[::-1]])\n",
    "def subject_order(x):\n",
    "    so = np.argsort(x)\n",
    "    return '->'.join(person.columns[1:5][so][::-1])\n",
    "\n",
    "person['Subject_Order'] = person.iloc[:,1:5].apply(subject_order,1)"
   ]
  },
  {
   "cell_type": "code",
   "execution_count": 45,
   "id": "98c49780-7de3-4a68-9c53-26a35e61e638",
   "metadata": {},
   "outputs": [],
   "source": [
    "# def subject_order(x):\n",
    "#     subject = np.array(['Korean','English','Math','Science'])\n",
    "#     return '->'.join(subject[np.argsort(x)][::-1])"
   ]
  },
  {
   "cell_type": "code",
   "execution_count": 75,
   "id": "bb4e17ce-0025-442c-89ac-0757c8834883",
   "metadata": {
    "tags": []
   },
   "outputs": [
    {
     "data": {
      "text/html": [
       "<div>\n",
       "<style scoped>\n",
       "    .dataframe tbody tr th:only-of-type {\n",
       "        vertical-align: middle;\n",
       "    }\n",
       "\n",
       "    .dataframe tbody tr th {\n",
       "        vertical-align: top;\n",
       "    }\n",
       "\n",
       "    .dataframe thead th {\n",
       "        text-align: right;\n",
       "    }\n",
       "</style>\n",
       "<table border=\"1\" class=\"dataframe\">\n",
       "  <thead>\n",
       "    <tr style=\"text-align: right;\">\n",
       "      <th></th>\n",
       "      <th>Gender</th>\n",
       "      <th>Korean</th>\n",
       "      <th>English</th>\n",
       "      <th>Math</th>\n",
       "      <th>Science</th>\n",
       "      <th>Total</th>\n",
       "      <th>AVG</th>\n",
       "      <th>Grade</th>\n",
       "      <th>Best_Subject</th>\n",
       "      <th>Subject_Order</th>\n",
       "      <th>Best_Score</th>\n",
       "    </tr>\n",
       "  </thead>\n",
       "  <tbody>\n",
       "    <tr>\n",
       "      <th>0</th>\n",
       "      <td>female</td>\n",
       "      <td>50</td>\n",
       "      <td>90</td>\n",
       "      <td>77</td>\n",
       "      <td>57</td>\n",
       "      <td>274</td>\n",
       "      <td>68.50</td>\n",
       "      <td>D</td>\n",
       "      <td>English</td>\n",
       "      <td>English-&gt;Math-&gt;Science-&gt;Korean</td>\n",
       "      <td>90</td>\n",
       "    </tr>\n",
       "    <tr>\n",
       "      <th>1</th>\n",
       "      <td>male</td>\n",
       "      <td>89</td>\n",
       "      <td>95</td>\n",
       "      <td>76</td>\n",
       "      <td>87</td>\n",
       "      <td>347</td>\n",
       "      <td>86.75</td>\n",
       "      <td>B</td>\n",
       "      <td>English</td>\n",
       "      <td>English-&gt;Korean-&gt;Science-&gt;Math</td>\n",
       "      <td>95</td>\n",
       "    </tr>\n",
       "    <tr>\n",
       "      <th>2</th>\n",
       "      <td>male</td>\n",
       "      <td>75</td>\n",
       "      <td>76</td>\n",
       "      <td>94</td>\n",
       "      <td>50</td>\n",
       "      <td>295</td>\n",
       "      <td>73.75</td>\n",
       "      <td>C</td>\n",
       "      <td>Math</td>\n",
       "      <td>Math-&gt;English-&gt;Korean-&gt;Science</td>\n",
       "      <td>94</td>\n",
       "    </tr>\n",
       "  </tbody>\n",
       "</table>\n",
       "</div>"
      ],
      "text/plain": [
       "   Gender  Korean  English  Math  Science  Total    AVG Grade Best_Subject  \\\n",
       "0  female      50       90    77       57    274  68.50     D      English   \n",
       "1    male      89       95    76       87    347  86.75     B      English   \n",
       "2    male      75       76    94       50    295  73.75     C         Math   \n",
       "\n",
       "                    Subject_Order  Best_Score  \n",
       "0  English->Math->Science->Korean          90  \n",
       "1  English->Korean->Science->Math          95  \n",
       "2  Math->English->Korean->Science          94  "
      ]
     },
     "execution_count": 75,
     "metadata": {},
     "output_type": "execute_result"
    }
   ],
   "source": [
    "person.head(3)"
   ]
  },
  {
   "cell_type": "code",
   "execution_count": 47,
   "id": "06b6406a-c2f3-4a12-aedc-caf253d45af9",
   "metadata": {
    "tags": []
   },
   "outputs": [],
   "source": [
    "person.rename(columns={'Best_Score':'Best_Subjcet'},inplace=True)"
   ]
  },
  {
   "cell_type": "code",
   "execution_count": 74,
   "id": "f2166603-37b7-4ecd-9e5b-0aa301a80788",
   "metadata": {
    "tags": []
   },
   "outputs": [],
   "source": [
    "person['Best_Score'] = person.iloc[:,1:5].apply(np.max,1)"
   ]
  },
  {
   "cell_type": "code",
   "execution_count": 76,
   "id": "fb588e1a-dd01-47d8-afd6-5bbf611a9764",
   "metadata": {
    "tags": []
   },
   "outputs": [
    {
     "data": {
      "text/html": [
       "<div>\n",
       "<style scoped>\n",
       "    .dataframe tbody tr th:only-of-type {\n",
       "        vertical-align: middle;\n",
       "    }\n",
       "\n",
       "    .dataframe tbody tr th {\n",
       "        vertical-align: top;\n",
       "    }\n",
       "\n",
       "    .dataframe thead th {\n",
       "        text-align: right;\n",
       "    }\n",
       "</style>\n",
       "<table border=\"1\" class=\"dataframe\">\n",
       "  <thead>\n",
       "    <tr style=\"text-align: right;\">\n",
       "      <th></th>\n",
       "      <th>Korean</th>\n",
       "      <th>English</th>\n",
       "    </tr>\n",
       "    <tr>\n",
       "      <th>Best_Subject</th>\n",
       "      <th></th>\n",
       "      <th></th>\n",
       "    </tr>\n",
       "  </thead>\n",
       "  <tbody>\n",
       "    <tr>\n",
       "      <th>English</th>\n",
       "      <td>171786</td>\n",
       "      <td>222166</td>\n",
       "    </tr>\n",
       "    <tr>\n",
       "      <th>Math</th>\n",
       "      <td>173241</td>\n",
       "      <td>174023</td>\n",
       "    </tr>\n",
       "    <tr>\n",
       "      <th>Korean</th>\n",
       "      <td>222219</td>\n",
       "      <td>172573</td>\n",
       "    </tr>\n",
       "    <tr>\n",
       "      <th>Science</th>\n",
       "      <td>174337</td>\n",
       "      <td>175268</td>\n",
       "    </tr>\n",
       "  </tbody>\n",
       "</table>\n",
       "</div>"
      ],
      "text/plain": [
       "              Korean English\n",
       "Best_Subject                \n",
       "English       171786  222166\n",
       "Math          173241  174023\n",
       "Korean        222219  172573\n",
       "Science       174337  175268"
      ]
     },
     "execution_count": 76,
     "metadata": {},
     "output_type": "execute_result"
    }
   ],
   "source": [
    "# groupby : split(columns 기준), apply, combine\n",
    "# person.groupby([컬럼명1,컬럼명2])\n",
    "\n",
    "# print(person.loc[person.Gender=='female','English'].mean())\n",
    "\n",
    "group_df = pd.DataFrame(columns=['Best_Subject','Korean','English'])\n",
    "for i in person.Best_Subject.unique():\n",
    "    tmp_df = person.loc[person.Best_Subject == i,:].sum()[['Korean','English']]\n",
    "    tmp_df = pd.DataFrame({'Best_Subject':[i],'Korean':tmp_df.values[[0]],'English':tmp_df.values[[1]]})\n",
    "    group_df = pd.concat([group_df,tmp_df])\n",
    "group_df.set_index(['Best_Subject'])"
   ]
  },
  {
   "cell_type": "code",
   "execution_count": 77,
   "id": "6d2535b8-b3c7-4045-847c-170332039f07",
   "metadata": {
    "tags": []
   },
   "outputs": [
    {
     "data": {
      "text/html": [
       "<div>\n",
       "<style scoped>\n",
       "    .dataframe tbody tr th:only-of-type {\n",
       "        vertical-align: middle;\n",
       "    }\n",
       "\n",
       "    .dataframe tbody tr th {\n",
       "        vertical-align: top;\n",
       "    }\n",
       "\n",
       "    .dataframe thead th {\n",
       "        text-align: right;\n",
       "    }\n",
       "</style>\n",
       "<table border=\"1\" class=\"dataframe\">\n",
       "  <thead>\n",
       "    <tr style=\"text-align: right;\">\n",
       "      <th></th>\n",
       "      <th>Korean</th>\n",
       "      <th>English</th>\n",
       "      <th>Math</th>\n",
       "      <th>Science</th>\n",
       "      <th>Total</th>\n",
       "      <th>AVG</th>\n",
       "      <th>Best_Score</th>\n",
       "    </tr>\n",
       "  </thead>\n",
       "  <tbody>\n",
       "    <tr>\n",
       "      <th>count</th>\n",
       "      <td>10000.000000</td>\n",
       "      <td>10000.000000</td>\n",
       "      <td>10000.000000</td>\n",
       "      <td>10000.000000</td>\n",
       "      <td>10000.00000</td>\n",
       "      <td>10000.000000</td>\n",
       "      <td>10000.000000</td>\n",
       "    </tr>\n",
       "    <tr>\n",
       "      <th>mean</th>\n",
       "      <td>74.158300</td>\n",
       "      <td>74.403000</td>\n",
       "      <td>74.379500</td>\n",
       "      <td>74.831300</td>\n",
       "      <td>297.77210</td>\n",
       "      <td>74.443025</td>\n",
       "      <td>89.511600</td>\n",
       "    </tr>\n",
       "    <tr>\n",
       "      <th>std</th>\n",
       "      <td>14.425049</td>\n",
       "      <td>14.380336</td>\n",
       "      <td>14.514908</td>\n",
       "      <td>14.447717</td>\n",
       "      <td>28.63356</td>\n",
       "      <td>7.158390</td>\n",
       "      <td>8.125803</td>\n",
       "    </tr>\n",
       "    <tr>\n",
       "      <th>min</th>\n",
       "      <td>50.000000</td>\n",
       "      <td>50.000000</td>\n",
       "      <td>50.000000</td>\n",
       "      <td>50.000000</td>\n",
       "      <td>204.00000</td>\n",
       "      <td>51.000000</td>\n",
       "      <td>52.000000</td>\n",
       "    </tr>\n",
       "    <tr>\n",
       "      <th>25%</th>\n",
       "      <td>62.000000</td>\n",
       "      <td>62.000000</td>\n",
       "      <td>62.000000</td>\n",
       "      <td>62.000000</td>\n",
       "      <td>277.00000</td>\n",
       "      <td>69.250000</td>\n",
       "      <td>85.000000</td>\n",
       "    </tr>\n",
       "    <tr>\n",
       "      <th>50%</th>\n",
       "      <td>74.000000</td>\n",
       "      <td>74.000000</td>\n",
       "      <td>74.000000</td>\n",
       "      <td>75.000000</td>\n",
       "      <td>298.00000</td>\n",
       "      <td>74.500000</td>\n",
       "      <td>91.000000</td>\n",
       "    </tr>\n",
       "    <tr>\n",
       "      <th>75%</th>\n",
       "      <td>87.000000</td>\n",
       "      <td>87.000000</td>\n",
       "      <td>87.000000</td>\n",
       "      <td>87.000000</td>\n",
       "      <td>318.00000</td>\n",
       "      <td>79.500000</td>\n",
       "      <td>96.000000</td>\n",
       "    </tr>\n",
       "    <tr>\n",
       "      <th>max</th>\n",
       "      <td>99.000000</td>\n",
       "      <td>99.000000</td>\n",
       "      <td>99.000000</td>\n",
       "      <td>99.000000</td>\n",
       "      <td>388.00000</td>\n",
       "      <td>97.000000</td>\n",
       "      <td>99.000000</td>\n",
       "    </tr>\n",
       "  </tbody>\n",
       "</table>\n",
       "</div>"
      ],
      "text/plain": [
       "             Korean       English          Math       Science        Total  \\\n",
       "count  10000.000000  10000.000000  10000.000000  10000.000000  10000.00000   \n",
       "mean      74.158300     74.403000     74.379500     74.831300    297.77210   \n",
       "std       14.425049     14.380336     14.514908     14.447717     28.63356   \n",
       "min       50.000000     50.000000     50.000000     50.000000    204.00000   \n",
       "25%       62.000000     62.000000     62.000000     62.000000    277.00000   \n",
       "50%       74.000000     74.000000     74.000000     75.000000    298.00000   \n",
       "75%       87.000000     87.000000     87.000000     87.000000    318.00000   \n",
       "max       99.000000     99.000000     99.000000     99.000000    388.00000   \n",
       "\n",
       "                AVG    Best_Score  \n",
       "count  10000.000000  10000.000000  \n",
       "mean      74.443025     89.511600  \n",
       "std        7.158390      8.125803  \n",
       "min       51.000000     52.000000  \n",
       "25%       69.250000     85.000000  \n",
       "50%       74.500000     91.000000  \n",
       "75%       79.500000     96.000000  \n",
       "max       97.000000     99.000000  "
      ]
     },
     "execution_count": 77,
     "metadata": {},
     "output_type": "execute_result"
    }
   ],
   "source": [
    "person.describe() # 수치형"
   ]
  },
  {
   "cell_type": "code",
   "execution_count": 70,
   "id": "8907f121-9d3a-4514-bafc-fcf5935edf60",
   "metadata": {
    "tags": []
   },
   "outputs": [
    {
     "data": {
      "text/html": [
       "<div>\n",
       "<style scoped>\n",
       "    .dataframe tbody tr th:only-of-type {\n",
       "        vertical-align: middle;\n",
       "    }\n",
       "\n",
       "    .dataframe tbody tr th {\n",
       "        vertical-align: top;\n",
       "    }\n",
       "\n",
       "    .dataframe thead th {\n",
       "        text-align: right;\n",
       "    }\n",
       "</style>\n",
       "<table border=\"1\" class=\"dataframe\">\n",
       "  <thead>\n",
       "    <tr style=\"text-align: right;\">\n",
       "      <th></th>\n",
       "      <th>Gender</th>\n",
       "      <th>Korean</th>\n",
       "      <th>English</th>\n",
       "      <th>Math</th>\n",
       "      <th>Science</th>\n",
       "      <th>Total</th>\n",
       "      <th>AVG</th>\n",
       "      <th>Grade</th>\n",
       "    </tr>\n",
       "  </thead>\n",
       "  <tbody>\n",
       "    <tr>\n",
       "      <th>0</th>\n",
       "      <td>female</td>\n",
       "      <td>50</td>\n",
       "      <td>90</td>\n",
       "      <td>77</td>\n",
       "      <td>57</td>\n",
       "      <td>274</td>\n",
       "      <td>68.50</td>\n",
       "      <td>D</td>\n",
       "    </tr>\n",
       "    <tr>\n",
       "      <th>1</th>\n",
       "      <td>male</td>\n",
       "      <td>89</td>\n",
       "      <td>95</td>\n",
       "      <td>76</td>\n",
       "      <td>87</td>\n",
       "      <td>347</td>\n",
       "      <td>86.75</td>\n",
       "      <td>B</td>\n",
       "    </tr>\n",
       "    <tr>\n",
       "      <th>2</th>\n",
       "      <td>male</td>\n",
       "      <td>75</td>\n",
       "      <td>76</td>\n",
       "      <td>94</td>\n",
       "      <td>50</td>\n",
       "      <td>295</td>\n",
       "      <td>73.75</td>\n",
       "      <td>C</td>\n",
       "    </tr>\n",
       "    <tr>\n",
       "      <th>3</th>\n",
       "      <td>male</td>\n",
       "      <td>96</td>\n",
       "      <td>94</td>\n",
       "      <td>53</td>\n",
       "      <td>94</td>\n",
       "      <td>337</td>\n",
       "      <td>84.25</td>\n",
       "      <td>B</td>\n",
       "    </tr>\n",
       "    <tr>\n",
       "      <th>4</th>\n",
       "      <td>female</td>\n",
       "      <td>87</td>\n",
       "      <td>84</td>\n",
       "      <td>78</td>\n",
       "      <td>95</td>\n",
       "      <td>344</td>\n",
       "      <td>86.00</td>\n",
       "      <td>B</td>\n",
       "    </tr>\n",
       "    <tr>\n",
       "      <th>...</th>\n",
       "      <td>...</td>\n",
       "      <td>...</td>\n",
       "      <td>...</td>\n",
       "      <td>...</td>\n",
       "      <td>...</td>\n",
       "      <td>...</td>\n",
       "      <td>...</td>\n",
       "      <td>...</td>\n",
       "    </tr>\n",
       "    <tr>\n",
       "      <th>9995</th>\n",
       "      <td>male</td>\n",
       "      <td>77</td>\n",
       "      <td>87</td>\n",
       "      <td>98</td>\n",
       "      <td>69</td>\n",
       "      <td>331</td>\n",
       "      <td>82.75</td>\n",
       "      <td>B</td>\n",
       "    </tr>\n",
       "    <tr>\n",
       "      <th>9996</th>\n",
       "      <td>male</td>\n",
       "      <td>93</td>\n",
       "      <td>58</td>\n",
       "      <td>97</td>\n",
       "      <td>58</td>\n",
       "      <td>306</td>\n",
       "      <td>76.50</td>\n",
       "      <td>C</td>\n",
       "    </tr>\n",
       "    <tr>\n",
       "      <th>9997</th>\n",
       "      <td>female</td>\n",
       "      <td>89</td>\n",
       "      <td>60</td>\n",
       "      <td>88</td>\n",
       "      <td>76</td>\n",
       "      <td>313</td>\n",
       "      <td>78.25</td>\n",
       "      <td>C</td>\n",
       "    </tr>\n",
       "    <tr>\n",
       "      <th>9998</th>\n",
       "      <td>male</td>\n",
       "      <td>88</td>\n",
       "      <td>59</td>\n",
       "      <td>73</td>\n",
       "      <td>81</td>\n",
       "      <td>301</td>\n",
       "      <td>75.25</td>\n",
       "      <td>C</td>\n",
       "    </tr>\n",
       "    <tr>\n",
       "      <th>9999</th>\n",
       "      <td>male</td>\n",
       "      <td>87</td>\n",
       "      <td>74</td>\n",
       "      <td>78</td>\n",
       "      <td>66</td>\n",
       "      <td>305</td>\n",
       "      <td>76.25</td>\n",
       "      <td>C</td>\n",
       "    </tr>\n",
       "  </tbody>\n",
       "</table>\n",
       "<p>10000 rows × 8 columns</p>\n",
       "</div>"
      ],
      "text/plain": [
       "      Gender  Korean  English  Math  Science  Total    AVG Grade\n",
       "0     female      50       90    77       57    274  68.50     D\n",
       "1       male      89       95    76       87    347  86.75     B\n",
       "2       male      75       76    94       50    295  73.75     C\n",
       "3       male      96       94    53       94    337  84.25     B\n",
       "4     female      87       84    78       95    344  86.00     B\n",
       "...      ...     ...      ...   ...      ...    ...    ...   ...\n",
       "9995    male      77       87    98       69    331  82.75     B\n",
       "9996    male      93       58    97       58    306  76.50     C\n",
       "9997  female      89       60    88       76    313  78.25     C\n",
       "9998    male      88       59    73       81    301  75.25     C\n",
       "9999    male      87       74    78       66    305  76.25     C\n",
       "\n",
       "[10000 rows x 8 columns]"
      ]
     },
     "execution_count": 70,
     "metadata": {},
     "output_type": "execute_result"
    }
   ],
   "source": [
    "person"
   ]
  },
  {
   "cell_type": "code",
   "execution_count": 78,
   "id": "95eb5aa3-e7fc-4908-948e-526bd2103ed9",
   "metadata": {
    "tags": []
   },
   "outputs": [
    {
     "data": {
      "text/html": [
       "<div>\n",
       "<style scoped>\n",
       "    .dataframe tbody tr th:only-of-type {\n",
       "        vertical-align: middle;\n",
       "    }\n",
       "\n",
       "    .dataframe tbody tr th {\n",
       "        vertical-align: top;\n",
       "    }\n",
       "\n",
       "    .dataframe thead th {\n",
       "        text-align: right;\n",
       "    }\n",
       "</style>\n",
       "<table border=\"1\" class=\"dataframe\">\n",
       "  <thead>\n",
       "    <tr style=\"text-align: right;\">\n",
       "      <th></th>\n",
       "      <th>Gender</th>\n",
       "      <th>Best_Subject</th>\n",
       "      <th>Subject_Order</th>\n",
       "      <th>Grade</th>\n",
       "    </tr>\n",
       "  </thead>\n",
       "  <tbody>\n",
       "    <tr>\n",
       "      <th>count</th>\n",
       "      <td>10000</td>\n",
       "      <td>10000</td>\n",
       "      <td>10000</td>\n",
       "      <td>10000</td>\n",
       "    </tr>\n",
       "    <tr>\n",
       "      <th>unique</th>\n",
       "      <td>2</td>\n",
       "      <td>4</td>\n",
       "      <td>24</td>\n",
       "      <td>4</td>\n",
       "    </tr>\n",
       "    <tr>\n",
       "      <th>top</th>\n",
       "      <td>female</td>\n",
       "      <td>Science</td>\n",
       "      <td>Science-&gt;English-&gt;Korean-&gt;Math</td>\n",
       "      <td>C</td>\n",
       "    </tr>\n",
       "    <tr>\n",
       "      <th>freq</th>\n",
       "      <td>5011</td>\n",
       "      <td>2517</td>\n",
       "      <td>481</td>\n",
       "      <td>4955</td>\n",
       "    </tr>\n",
       "  </tbody>\n",
       "</table>\n",
       "</div>"
      ],
      "text/plain": [
       "        Gender Best_Subject                   Subject_Order  Grade\n",
       "count    10000        10000                           10000  10000\n",
       "unique       2            4                              24      4\n",
       "top     female      Science  Science->English->Korean->Math      C\n",
       "freq      5011         2517                             481   4955"
      ]
     },
     "execution_count": 78,
     "metadata": {},
     "output_type": "execute_result"
    }
   ],
   "source": [
    "person[[\"Gender\",\"Best_Subject\",\"Subject_Order\",\"Grade\"]].describe() # object type"
   ]
  },
  {
   "cell_type": "code",
   "execution_count": 125,
   "id": "35b5c0fe-2e2d-434a-a224-0e71be9ebea4",
   "metadata": {
    "tags": []
   },
   "outputs": [
    {
     "data": {
      "text/html": [
       "<div>\n",
       "<style scoped>\n",
       "    .dataframe tbody tr th:only-of-type {\n",
       "        vertical-align: middle;\n",
       "    }\n",
       "\n",
       "    .dataframe tbody tr th {\n",
       "        vertical-align: top;\n",
       "    }\n",
       "\n",
       "    .dataframe thead tr th {\n",
       "        text-align: left;\n",
       "    }\n",
       "\n",
       "    .dataframe thead tr:last-of-type th {\n",
       "        text-align: right;\n",
       "    }\n",
       "</style>\n",
       "<table border=\"1\" class=\"dataframe\">\n",
       "  <thead>\n",
       "    <tr>\n",
       "      <th></th>\n",
       "      <th></th>\n",
       "      <th colspan=\"3\" halign=\"left\">Korean</th>\n",
       "      <th colspan=\"3\" halign=\"left\">English</th>\n",
       "      <th colspan=\"3\" halign=\"left\">Math</th>\n",
       "      <th colspan=\"3\" halign=\"left\">Science</th>\n",
       "      <th colspan=\"3\" halign=\"left\">Total</th>\n",
       "      <th colspan=\"3\" halign=\"left\">AVG</th>\n",
       "      <th colspan=\"3\" halign=\"left\">Best_Score</th>\n",
       "    </tr>\n",
       "    <tr>\n",
       "      <th></th>\n",
       "      <th></th>\n",
       "      <th>mean</th>\n",
       "      <th>sum</th>\n",
       "      <th>count</th>\n",
       "      <th>mean</th>\n",
       "      <th>sum</th>\n",
       "      <th>count</th>\n",
       "      <th>mean</th>\n",
       "      <th>sum</th>\n",
       "      <th>count</th>\n",
       "      <th>mean</th>\n",
       "      <th>...</th>\n",
       "      <th>count</th>\n",
       "      <th>mean</th>\n",
       "      <th>sum</th>\n",
       "      <th>count</th>\n",
       "      <th>mean</th>\n",
       "      <th>sum</th>\n",
       "      <th>count</th>\n",
       "      <th>mean</th>\n",
       "      <th>sum</th>\n",
       "      <th>count</th>\n",
       "    </tr>\n",
       "    <tr>\n",
       "      <th>Gender</th>\n",
       "      <th>Grade</th>\n",
       "      <th></th>\n",
       "      <th></th>\n",
       "      <th></th>\n",
       "      <th></th>\n",
       "      <th></th>\n",
       "      <th></th>\n",
       "      <th></th>\n",
       "      <th></th>\n",
       "      <th></th>\n",
       "      <th></th>\n",
       "      <th></th>\n",
       "      <th></th>\n",
       "      <th></th>\n",
       "      <th></th>\n",
       "      <th></th>\n",
       "      <th></th>\n",
       "      <th></th>\n",
       "      <th></th>\n",
       "      <th></th>\n",
       "      <th></th>\n",
       "      <th></th>\n",
       "    </tr>\n",
       "  </thead>\n",
       "  <tbody>\n",
       "    <tr>\n",
       "      <th rowspan=\"4\" valign=\"top\">female</th>\n",
       "      <th>A</th>\n",
       "      <td>90.941860</td>\n",
       "      <td>7821</td>\n",
       "      <td>86</td>\n",
       "      <td>91.930233</td>\n",
       "      <td>7906</td>\n",
       "      <td>86</td>\n",
       "      <td>91.406977</td>\n",
       "      <td>7861</td>\n",
       "      <td>86</td>\n",
       "      <td>93.069767</td>\n",
       "      <td>...</td>\n",
       "      <td>86</td>\n",
       "      <td>367.348837</td>\n",
       "      <td>31592</td>\n",
       "      <td>86</td>\n",
       "      <td>91.837209</td>\n",
       "      <td>7898.00</td>\n",
       "      <td>86</td>\n",
       "      <td>97.523256</td>\n",
       "      <td>8387</td>\n",
       "      <td>86</td>\n",
       "    </tr>\n",
       "    <tr>\n",
       "      <th>B</th>\n",
       "      <td>83.121951</td>\n",
       "      <td>92016</td>\n",
       "      <td>1107</td>\n",
       "      <td>83.323397</td>\n",
       "      <td>92239</td>\n",
       "      <td>1107</td>\n",
       "      <td>83.509485</td>\n",
       "      <td>92445</td>\n",
       "      <td>1107</td>\n",
       "      <td>83.611563</td>\n",
       "      <td>...</td>\n",
       "      <td>1107</td>\n",
       "      <td>333.566396</td>\n",
       "      <td>369258</td>\n",
       "      <td>1107</td>\n",
       "      <td>83.391599</td>\n",
       "      <td>92314.50</td>\n",
       "      <td>1107</td>\n",
       "      <td>95.253839</td>\n",
       "      <td>105446</td>\n",
       "      <td>1107</td>\n",
       "    </tr>\n",
       "    <tr>\n",
       "      <th>C</th>\n",
       "      <td>74.545640</td>\n",
       "      <td>182935</td>\n",
       "      <td>2454</td>\n",
       "      <td>74.717196</td>\n",
       "      <td>183356</td>\n",
       "      <td>2454</td>\n",
       "      <td>74.785656</td>\n",
       "      <td>183524</td>\n",
       "      <td>2454</td>\n",
       "      <td>75.411165</td>\n",
       "      <td>...</td>\n",
       "      <td>2454</td>\n",
       "      <td>299.459658</td>\n",
       "      <td>734874</td>\n",
       "      <td>2454</td>\n",
       "      <td>74.864914</td>\n",
       "      <td>183718.50</td>\n",
       "      <td>2454</td>\n",
       "      <td>91.090872</td>\n",
       "      <td>223537</td>\n",
       "      <td>2454</td>\n",
       "    </tr>\n",
       "    <tr>\n",
       "      <th>D</th>\n",
       "      <td>65.247801</td>\n",
       "      <td>88998</td>\n",
       "      <td>1364</td>\n",
       "      <td>65.704545</td>\n",
       "      <td>89621</td>\n",
       "      <td>1364</td>\n",
       "      <td>65.805718</td>\n",
       "      <td>89759</td>\n",
       "      <td>1364</td>\n",
       "      <td>65.598240</td>\n",
       "      <td>...</td>\n",
       "      <td>1364</td>\n",
       "      <td>262.356305</td>\n",
       "      <td>357854</td>\n",
       "      <td>1364</td>\n",
       "      <td>65.589076</td>\n",
       "      <td>89463.50</td>\n",
       "      <td>1364</td>\n",
       "      <td>81.479472</td>\n",
       "      <td>111138</td>\n",
       "      <td>1364</td>\n",
       "    </tr>\n",
       "    <tr>\n",
       "      <th rowspan=\"4\" valign=\"top\">male</th>\n",
       "      <th>A</th>\n",
       "      <td>91.186441</td>\n",
       "      <td>5380</td>\n",
       "      <td>59</td>\n",
       "      <td>91.322034</td>\n",
       "      <td>5388</td>\n",
       "      <td>59</td>\n",
       "      <td>92.372881</td>\n",
       "      <td>5450</td>\n",
       "      <td>59</td>\n",
       "      <td>91.711864</td>\n",
       "      <td>...</td>\n",
       "      <td>59</td>\n",
       "      <td>366.593220</td>\n",
       "      <td>21629</td>\n",
       "      <td>59</td>\n",
       "      <td>91.648305</td>\n",
       "      <td>5407.25</td>\n",
       "      <td>59</td>\n",
       "      <td>97.644068</td>\n",
       "      <td>5761</td>\n",
       "      <td>59</td>\n",
       "    </tr>\n",
       "    <tr>\n",
       "      <th>B</th>\n",
       "      <td>82.904147</td>\n",
       "      <td>89951</td>\n",
       "      <td>1085</td>\n",
       "      <td>83.781567</td>\n",
       "      <td>90903</td>\n",
       "      <td>1085</td>\n",
       "      <td>83.249770</td>\n",
       "      <td>90326</td>\n",
       "      <td>1085</td>\n",
       "      <td>83.210138</td>\n",
       "      <td>...</td>\n",
       "      <td>1085</td>\n",
       "      <td>333.145622</td>\n",
       "      <td>361463</td>\n",
       "      <td>1085</td>\n",
       "      <td>83.286406</td>\n",
       "      <td>90365.75</td>\n",
       "      <td>1085</td>\n",
       "      <td>95.150230</td>\n",
       "      <td>103238</td>\n",
       "      <td>1085</td>\n",
       "    </tr>\n",
       "    <tr>\n",
       "      <th>C</th>\n",
       "      <td>74.503399</td>\n",
       "      <td>186333</td>\n",
       "      <td>2501</td>\n",
       "      <td>74.684526</td>\n",
       "      <td>186786</td>\n",
       "      <td>2501</td>\n",
       "      <td>74.383447</td>\n",
       "      <td>186033</td>\n",
       "      <td>2501</td>\n",
       "      <td>75.507797</td>\n",
       "      <td>...</td>\n",
       "      <td>2501</td>\n",
       "      <td>299.079168</td>\n",
       "      <td>747997</td>\n",
       "      <td>2501</td>\n",
       "      <td>74.769792</td>\n",
       "      <td>186999.25</td>\n",
       "      <td>2501</td>\n",
       "      <td>91.128349</td>\n",
       "      <td>227912</td>\n",
       "      <td>2501</td>\n",
       "    </tr>\n",
       "    <tr>\n",
       "      <th>D</th>\n",
       "      <td>65.587054</td>\n",
       "      <td>88149</td>\n",
       "      <td>1344</td>\n",
       "      <td>65.350446</td>\n",
       "      <td>87831</td>\n",
       "      <td>1344</td>\n",
       "      <td>65.771577</td>\n",
       "      <td>88397</td>\n",
       "      <td>1344</td>\n",
       "      <td>65.979911</td>\n",
       "      <td>...</td>\n",
       "      <td>1344</td>\n",
       "      <td>262.688988</td>\n",
       "      <td>353054</td>\n",
       "      <td>1344</td>\n",
       "      <td>65.672247</td>\n",
       "      <td>88263.50</td>\n",
       "      <td>1344</td>\n",
       "      <td>81.619792</td>\n",
       "      <td>109697</td>\n",
       "      <td>1344</td>\n",
       "    </tr>\n",
       "  </tbody>\n",
       "</table>\n",
       "<p>8 rows × 21 columns</p>\n",
       "</div>"
      ],
      "text/plain": [
       "                 Korean                  English                     Math  \\\n",
       "                   mean     sum count       mean     sum count       mean   \n",
       "Gender Grade                                                                \n",
       "female A      90.941860    7821    86  91.930233    7906    86  91.406977   \n",
       "       B      83.121951   92016  1107  83.323397   92239  1107  83.509485   \n",
       "       C      74.545640  182935  2454  74.717196  183356  2454  74.785656   \n",
       "       D      65.247801   88998  1364  65.704545   89621  1364  65.805718   \n",
       "male   A      91.186441    5380    59  91.322034    5388    59  92.372881   \n",
       "       B      82.904147   89951  1085  83.781567   90903  1085  83.249770   \n",
       "       C      74.503399  186333  2501  74.684526  186786  2501  74.383447   \n",
       "       D      65.587054   88149  1344  65.350446   87831  1344  65.771577   \n",
       "\n",
       "                              Science  ...             Total                \\\n",
       "                 sum count       mean  ... count        mean     sum count   \n",
       "Gender Grade                           ...                                   \n",
       "female A        7861    86  93.069767  ...    86  367.348837   31592    86   \n",
       "       B       92445  1107  83.611563  ...  1107  333.566396  369258  1107   \n",
       "       C      183524  2454  75.411165  ...  2454  299.459658  734874  2454   \n",
       "       D       89759  1364  65.598240  ...  1364  262.356305  357854  1364   \n",
       "male   A        5450    59  91.711864  ...    59  366.593220   21629    59   \n",
       "       B       90326  1085  83.210138  ...  1085  333.145622  361463  1085   \n",
       "       C      186033  2501  75.507797  ...  2501  299.079168  747997  2501   \n",
       "       D       88397  1344  65.979911  ...  1344  262.688988  353054  1344   \n",
       "\n",
       "                    AVG                  Best_Score                \n",
       "                   mean        sum count       mean     sum count  \n",
       "Gender Grade                                                       \n",
       "female A      91.837209    7898.00    86  97.523256    8387    86  \n",
       "       B      83.391599   92314.50  1107  95.253839  105446  1107  \n",
       "       C      74.864914  183718.50  2454  91.090872  223537  2454  \n",
       "       D      65.589076   89463.50  1364  81.479472  111138  1364  \n",
       "male   A      91.648305    5407.25    59  97.644068    5761    59  \n",
       "       B      83.286406   90365.75  1085  95.150230  103238  1085  \n",
       "       C      74.769792  186999.25  2501  91.128349  227912  2501  \n",
       "       D      65.672247   88263.50  1344  81.619792  109697  1344  \n",
       "\n",
       "[8 rows x 21 columns]"
      ]
     },
     "execution_count": 125,
     "metadata": {},
     "output_type": "execute_result"
    }
   ],
   "source": [
    "person.groupby(['Subject_Order']).count().Korean\n",
    "# person.groupby(['Gender']).std() # 표준편차\n",
    "person.groupby(['Gender','Grade']).agg(['mean','sum','count'])\n",
    "# person.groupby(['Gender','Grade']).agg(['mean','sum','count']).Korean['count']"
   ]
  },
  {
   "cell_type": "code",
   "execution_count": 80,
   "id": "621d4726-0cf1-4b32-b10c-b2f82b970d47",
   "metadata": {
    "tags": []
   },
   "outputs": [
    {
     "name": "stderr",
     "output_type": "stream",
     "text": [
      "C:\\Users\\TaeHwan Lim\\AppData\\Local\\Temp\\ipykernel_12948\\1819175240.py:2: FutureWarning: The default value of numeric_only in DataFrameGroupBy.mean is deprecated. In a future version, numeric_only will default to False. Either specify numeric_only or select only columns which should be valid for the function.\n",
      "  person.loc[~((person.Best_Subject == 'Korean') | (person.Best_Subject == 'English'))].groupby(['Gender']).mean()[[\"English\",\"Math\"]]\n"
     ]
    },
    {
     "data": {
      "text/html": [
       "<div>\n",
       "<style scoped>\n",
       "    .dataframe tbody tr th:only-of-type {\n",
       "        vertical-align: middle;\n",
       "    }\n",
       "\n",
       "    .dataframe tbody tr th {\n",
       "        vertical-align: top;\n",
       "    }\n",
       "\n",
       "    .dataframe thead th {\n",
       "        text-align: right;\n",
       "    }\n",
       "</style>\n",
       "<table border=\"1\" class=\"dataframe\">\n",
       "  <thead>\n",
       "    <tr style=\"text-align: right;\">\n",
       "      <th></th>\n",
       "      <th>English</th>\n",
       "      <th>Math</th>\n",
       "    </tr>\n",
       "    <tr>\n",
       "      <th>Gender</th>\n",
       "      <th></th>\n",
       "      <th></th>\n",
       "    </tr>\n",
       "  </thead>\n",
       "  <tbody>\n",
       "    <tr>\n",
       "      <th>female</th>\n",
       "      <td>69.61505</td>\n",
       "      <td>79.389307</td>\n",
       "    </tr>\n",
       "    <tr>\n",
       "      <th>male</th>\n",
       "      <td>69.40520</td>\n",
       "      <td>79.163200</td>\n",
       "    </tr>\n",
       "  </tbody>\n",
       "</table>\n",
       "</div>"
      ],
      "text/plain": [
       "         English       Math\n",
       "Gender                     \n",
       "female  69.61505  79.389307\n",
       "male    69.40520  79.163200"
      ]
     },
     "execution_count": 80,
     "metadata": {},
     "output_type": "execute_result"
    }
   ],
   "source": [
    "### person 데이터에서 가장 잘한 과목이 영어와 국어인 데이터를 제외하고 남자 여자의 영어, 수학의 평균을 구하면?\n",
    "person.loc[~((person.Best_Subject == 'Korean') | (person.Best_Subject == 'English'))].groupby(['Gender']).mean()[[\"English\",\"Math\"]]"
   ]
  },
  {
   "cell_type": "code",
   "execution_count": 81,
   "id": "27134610-4a96-4cfb-93f4-a132ffda6746",
   "metadata": {
    "tags": []
   },
   "outputs": [
    {
     "data": {
      "text/html": [
       "<div>\n",
       "<style scoped>\n",
       "    .dataframe tbody tr th:only-of-type {\n",
       "        vertical-align: middle;\n",
       "    }\n",
       "\n",
       "    .dataframe tbody tr th {\n",
       "        vertical-align: top;\n",
       "    }\n",
       "\n",
       "    .dataframe thead th {\n",
       "        text-align: right;\n",
       "    }\n",
       "</style>\n",
       "<table border=\"1\" class=\"dataframe\">\n",
       "  <thead>\n",
       "    <tr style=\"text-align: right;\">\n",
       "      <th></th>\n",
       "      <th>Gender</th>\n",
       "      <th>Science</th>\n",
       "      <th>Total</th>\n",
       "    </tr>\n",
       "  </thead>\n",
       "  <tbody>\n",
       "    <tr>\n",
       "      <th>0</th>\n",
       "      <td>female</td>\n",
       "      <td>69.702735</td>\n",
       "      <td>297.829445</td>\n",
       "    </tr>\n",
       "    <tr>\n",
       "      <th>1</th>\n",
       "      <td>male</td>\n",
       "      <td>69.608276</td>\n",
       "      <td>297.430695</td>\n",
       "    </tr>\n",
       "  </tbody>\n",
       "</table>\n",
       "</div>"
      ],
      "text/plain": [
       "   Gender    Science       Total\n",
       "0  female  69.702735  297.829445\n",
       "1    male  69.608276  297.430695"
      ]
     },
     "execution_count": 81,
     "metadata": {},
     "output_type": "execute_result"
    }
   ],
   "source": [
    "stmt = \"Best_Subject == 'Korean' or Best_Subject == 'English'\"\n",
    "person.query(stmt)[[\"Gender\",\"Science\",\"Total\"]].groupby(['Gender']).mean().reset_index()"
   ]
  },
  {
   "cell_type": "code",
   "execution_count": 82,
   "id": "30e54ee9-ebf7-4aa8-bbf8-2b12037fa04d",
   "metadata": {
    "tags": []
   },
   "outputs": [],
   "source": [
    "x = pd.DataFrame(np.random.choice([i for i in 'abcdefgh'], 1000))\n",
    "x.columns = ['col']"
   ]
  },
  {
   "cell_type": "code",
   "execution_count": 83,
   "id": "f30bf01d-3e99-4877-afc9-36a78dc6e3f5",
   "metadata": {
    "tags": []
   },
   "outputs": [
    {
     "data": {
      "text/plain": [
       "524"
      ]
     },
     "execution_count": 83,
     "metadata": {},
     "output_type": "execute_result"
    }
   ],
   "source": [
    "x.loc[(x.col == 'a')|(x.col == 'b')|(x.col == 'c')|(x.col == 'd') ,:].shape[0]"
   ]
  },
  {
   "cell_type": "code",
   "execution_count": 84,
   "id": "ceb5108b-3ea0-40a3-a072-2ba0f31a591a",
   "metadata": {
    "tags": []
   },
   "outputs": [
    {
     "data": {
      "text/plain": [
       "524"
      ]
     },
     "execution_count": 84,
     "metadata": {},
     "output_type": "execute_result"
    }
   ],
   "source": [
    "x.loc[x.col.isin(['a','b','c','d']),:].shape[0]"
   ]
  },
  {
   "cell_type": "code",
   "execution_count": 85,
   "id": "8c18b886-1012-4d9e-bffb-7f9ba5b752cc",
   "metadata": {
    "tags": []
   },
   "outputs": [
    {
     "data": {
      "text/html": [
       "<div>\n",
       "<style scoped>\n",
       "    .dataframe tbody tr th:only-of-type {\n",
       "        vertical-align: middle;\n",
       "    }\n",
       "\n",
       "    .dataframe tbody tr th {\n",
       "        vertical-align: top;\n",
       "    }\n",
       "\n",
       "    .dataframe thead th {\n",
       "        text-align: right;\n",
       "    }\n",
       "</style>\n",
       "<table border=\"1\" class=\"dataframe\">\n",
       "  <thead>\n",
       "    <tr style=\"text-align: right;\">\n",
       "      <th></th>\n",
       "      <th>Korean</th>\n",
       "      <th>English</th>\n",
       "    </tr>\n",
       "    <tr>\n",
       "      <th>Best_Subject</th>\n",
       "      <th></th>\n",
       "      <th></th>\n",
       "    </tr>\n",
       "  </thead>\n",
       "  <tbody>\n",
       "    <tr>\n",
       "      <th>English</th>\n",
       "      <td>171786</td>\n",
       "      <td>222166</td>\n",
       "    </tr>\n",
       "    <tr>\n",
       "      <th>Korean</th>\n",
       "      <td>222219</td>\n",
       "      <td>172573</td>\n",
       "    </tr>\n",
       "    <tr>\n",
       "      <th>Math</th>\n",
       "      <td>173241</td>\n",
       "      <td>174023</td>\n",
       "    </tr>\n",
       "    <tr>\n",
       "      <th>Science</th>\n",
       "      <td>174337</td>\n",
       "      <td>175268</td>\n",
       "    </tr>\n",
       "  </tbody>\n",
       "</table>\n",
       "</div>"
      ],
      "text/plain": [
       "              Korean  English\n",
       "Best_Subject                 \n",
       "English       171786   222166\n",
       "Korean        222219   172573\n",
       "Math          173241   174023\n",
       "Science       174337   175268"
      ]
     },
     "execution_count": 85,
     "metadata": {},
     "output_type": "execute_result"
    }
   ],
   "source": [
    "import warnings\n",
    "warnings.filterwarnings(action=\"ignore\")\n",
    "person.groupby(['Best_Subject']).sum()[['Korean','English']]"
   ]
  },
  {
   "cell_type": "code",
   "execution_count": 86,
   "id": "e488a991-fed9-444f-9810-05f1d10970b8",
   "metadata": {
    "tags": []
   },
   "outputs": [
    {
     "data": {
      "text/plain": [
       "3"
      ]
     },
     "execution_count": 86,
     "metadata": {},
     "output_type": "execute_result"
    }
   ],
   "source": [
    "np.argmax(person.groupby(['Gender','Best_Subject']).count()[['Korean']].loc['female',:])"
   ]
  },
  {
   "cell_type": "code",
   "execution_count": 87,
   "id": "d8d9ab14-8b31-4f07-b95f-9dd06da78e16",
   "metadata": {
    "tags": []
   },
   "outputs": [
    {
     "data": {
      "text/plain": [
       "Korean    1232\n",
       "Name: (female, Korean), dtype: int64"
      ]
     },
     "execution_count": 87,
     "metadata": {},
     "output_type": "execute_result"
    }
   ],
   "source": [
    "person.groupby(['Gender','Best_Subject']).count()[['Korean']].loc['female','Korean']"
   ]
  },
  {
   "cell_type": "code",
   "execution_count": 88,
   "id": "05ffa0b4-5a7a-48ff-a96d-48ce41027086",
   "metadata": {
    "tags": []
   },
   "outputs": [
    {
     "data": {
      "text/plain": [
       "array([8, 7, 4, 7, 9])"
      ]
     },
     "execution_count": 88,
     "metadata": {},
     "output_type": "execute_result"
    }
   ],
   "source": [
    "x = np.random.randint(1,10,5)\n",
    "x"
   ]
  },
  {
   "cell_type": "code",
   "execution_count": 89,
   "id": "5d1fa118-4016-4d3d-ac0a-0a847842ab38",
   "metadata": {
    "tags": []
   },
   "outputs": [
    {
     "data": {
      "text/plain": [
       "array([9, 8, 7, 7, 4])"
      ]
     },
     "execution_count": 89,
     "metadata": {},
     "output_type": "execute_result"
    }
   ],
   "source": [
    "np.sort(x)[::-1]"
   ]
  },
  {
   "cell_type": "code",
   "execution_count": 90,
   "id": "e234f1e0-98d2-45ac-be07-f16a5f449778",
   "metadata": {
    "tags": []
   },
   "outputs": [
    {
     "data": {
      "text/plain": [
       "array([9, 8, 7, 7, 4])"
      ]
     },
     "execution_count": 90,
     "metadata": {},
     "output_type": "execute_result"
    }
   ],
   "source": [
    "x[np.argsort(x)[::-1]]"
   ]
  },
  {
   "cell_type": "code",
   "execution_count": 91,
   "id": "ba7c01a4-6ed2-449e-87d5-22462bf1cbc8",
   "metadata": {
    "tags": []
   },
   "outputs": [
    {
     "data": {
      "text/plain": [
       "0       False\n",
       "1        True\n",
       "2        True\n",
       "3        True\n",
       "4        True\n",
       "        ...  \n",
       "9995     True\n",
       "9996    False\n",
       "9997    False\n",
       "9998    False\n",
       "9999    False\n",
       "Length: 10000, dtype: bool"
      ]
     },
     "execution_count": 91,
     "metadata": {},
     "output_type": "execute_result"
    }
   ],
   "source": [
    "(person.Korean > person.describe().loc['25%','Korean']) & (person.English > person.describe().loc['50%','English'])"
   ]
  },
  {
   "cell_type": "code",
   "execution_count": 92,
   "id": "16c7e269-218a-4292-916a-7596025eda1f",
   "metadata": {
    "tags": []
   },
   "outputs": [
    {
     "data": {
      "text/plain": [
       "{'whiskers': [<matplotlib.lines.Line2D at 0x225dfd26950>,\n",
       "  <matplotlib.lines.Line2D at 0x225dfd27810>],\n",
       " 'caps': [<matplotlib.lines.Line2D at 0x225dfd34390>,\n",
       "  <matplotlib.lines.Line2D at 0x225dfd350d0>],\n",
       " 'boxes': [<matplotlib.lines.Line2D at 0x225df9914d0>],\n",
       " 'medians': [<matplotlib.lines.Line2D at 0x225dfd35c50>],\n",
       " 'fliers': [<matplotlib.lines.Line2D at 0x225dfd36790>],\n",
       " 'means': []}"
      ]
     },
     "execution_count": 92,
     "metadata": {},
     "output_type": "execute_result"
    },
    {
     "data": {
      "image/png": "[encoded data removed]",
      "text/plain": [
       "<Figure size 640x480 with 1 Axes>"
      ]
     },
     "metadata": {},
     "output_type": "display_data"
    }
   ],
   "source": [
    "import matplotlib.pyplot as plt\n",
    "plt.boxplot(person.Korean)"
   ]
  },
  {
   "cell_type": "code",
   "execution_count": 93,
   "id": "21c5edcb-7cfb-45e2-9ad1-0e99496d1e68",
   "metadata": {
    "tags": []
   },
   "outputs": [
    {
     "data": {
      "text/plain": [
       "{'whiskers': [<matplotlib.lines.Line2D at 0x225de53cbd0>,\n",
       "  <matplotlib.lines.Line2D at 0x225de53fc10>],\n",
       " 'caps': [<matplotlib.lines.Line2D at 0x225de54cb10>,\n",
       "  <matplotlib.lines.Line2D at 0x225de54d010>],\n",
       " 'boxes': [<matplotlib.lines.Line2D at 0x225debb98d0>],\n",
       " 'medians': [<matplotlib.lines.Line2D at 0x225de5a7250>],\n",
       " 'fliers': [<matplotlib.lines.Line2D at 0x225dfd26b90>],\n",
       " 'means': []}"
      ]
     },
     "execution_count": 93,
     "metadata": {},
     "output_type": "execute_result"
    },
    {
     "data": {
      "image/png": "[encoded data removed]",
      "text/plain": [
       "<Figure size 640x480 with 1 Axes>"
      ]
     },
     "metadata": {},
     "output_type": "display_data"
    }
   ],
   "source": [
    "plt.boxplot(np.concatenate([np.arange(100),[990,10000]]))"
   ]
  },
  {
   "cell_type": "code",
   "execution_count": 94,
   "id": "5ccc477b-0705-43e6-8559-989fa0bf9dfb",
   "metadata": {
    "tags": []
   },
   "outputs": [
    {
     "data": {
      "text/html": [
       "<div>\n",
       "<style scoped>\n",
       "    .dataframe tbody tr th:only-of-type {\n",
       "        vertical-align: middle;\n",
       "    }\n",
       "\n",
       "    .dataframe tbody tr th {\n",
       "        vertical-align: top;\n",
       "    }\n",
       "\n",
       "    .dataframe thead th {\n",
       "        text-align: right;\n",
       "    }\n",
       "</style>\n",
       "<table border=\"1\" class=\"dataframe\">\n",
       "  <thead>\n",
       "    <tr style=\"text-align: right;\">\n",
       "      <th></th>\n",
       "      <th>Korean</th>\n",
       "      <th>English</th>\n",
       "      <th>Math</th>\n",
       "      <th>Science</th>\n",
       "      <th>Total</th>\n",
       "      <th>AVG</th>\n",
       "      <th>Best_Score</th>\n",
       "    </tr>\n",
       "  </thead>\n",
       "  <tbody>\n",
       "    <tr>\n",
       "      <th>count</th>\n",
       "      <td>10000.000000</td>\n",
       "      <td>10000.000000</td>\n",
       "      <td>10000.000000</td>\n",
       "      <td>10000.000000</td>\n",
       "      <td>10000.00000</td>\n",
       "      <td>10000.000000</td>\n",
       "      <td>10000.000000</td>\n",
       "    </tr>\n",
       "    <tr>\n",
       "      <th>mean</th>\n",
       "      <td>74.158300</td>\n",
       "      <td>74.403000</td>\n",
       "      <td>74.379500</td>\n",
       "      <td>74.831300</td>\n",
       "      <td>297.77210</td>\n",
       "      <td>74.443025</td>\n",
       "      <td>89.511600</td>\n",
       "    </tr>\n",
       "    <tr>\n",
       "      <th>std</th>\n",
       "      <td>14.425049</td>\n",
       "      <td>14.380336</td>\n",
       "      <td>14.514908</td>\n",
       "      <td>14.447717</td>\n",
       "      <td>28.63356</td>\n",
       "      <td>7.158390</td>\n",
       "      <td>8.125803</td>\n",
       "    </tr>\n",
       "    <tr>\n",
       "      <th>min</th>\n",
       "      <td>50.000000</td>\n",
       "      <td>50.000000</td>\n",
       "      <td>50.000000</td>\n",
       "      <td>50.000000</td>\n",
       "      <td>204.00000</td>\n",
       "      <td>51.000000</td>\n",
       "      <td>52.000000</td>\n",
       "    </tr>\n",
       "    <tr>\n",
       "      <th>30%</th>\n",
       "      <td>64.000000</td>\n",
       "      <td>64.000000</td>\n",
       "      <td>64.000000</td>\n",
       "      <td>65.000000</td>\n",
       "      <td>282.00000</td>\n",
       "      <td>70.500000</td>\n",
       "      <td>87.000000</td>\n",
       "    </tr>\n",
       "    <tr>\n",
       "      <th>50%</th>\n",
       "      <td>74.000000</td>\n",
       "      <td>74.000000</td>\n",
       "      <td>74.000000</td>\n",
       "      <td>75.000000</td>\n",
       "      <td>298.00000</td>\n",
       "      <td>74.500000</td>\n",
       "      <td>91.000000</td>\n",
       "    </tr>\n",
       "    <tr>\n",
       "      <th>60%</th>\n",
       "      <td>79.000000</td>\n",
       "      <td>79.000000</td>\n",
       "      <td>79.000000</td>\n",
       "      <td>80.000000</td>\n",
       "      <td>305.00000</td>\n",
       "      <td>76.250000</td>\n",
       "      <td>93.000000</td>\n",
       "    </tr>\n",
       "    <tr>\n",
       "      <th>90%</th>\n",
       "      <td>94.000000</td>\n",
       "      <td>94.000000</td>\n",
       "      <td>95.000000</td>\n",
       "      <td>95.000000</td>\n",
       "      <td>335.00000</td>\n",
       "      <td>83.750000</td>\n",
       "      <td>98.000000</td>\n",
       "    </tr>\n",
       "    <tr>\n",
       "      <th>max</th>\n",
       "      <td>99.000000</td>\n",
       "      <td>99.000000</td>\n",
       "      <td>99.000000</td>\n",
       "      <td>99.000000</td>\n",
       "      <td>388.00000</td>\n",
       "      <td>97.000000</td>\n",
       "      <td>99.000000</td>\n",
       "    </tr>\n",
       "  </tbody>\n",
       "</table>\n",
       "</div>"
      ],
      "text/plain": [
       "             Korean       English          Math       Science        Total  \\\n",
       "count  10000.000000  10000.000000  10000.000000  10000.000000  10000.00000   \n",
       "mean      74.158300     74.403000     74.379500     74.831300    297.77210   \n",
       "std       14.425049     14.380336     14.514908     14.447717     28.63356   \n",
       "min       50.000000     50.000000     50.000000     50.000000    204.00000   \n",
       "30%       64.000000     64.000000     64.000000     65.000000    282.00000   \n",
       "50%       74.000000     74.000000     74.000000     75.000000    298.00000   \n",
       "60%       79.000000     79.000000     79.000000     80.000000    305.00000   \n",
       "90%       94.000000     94.000000     95.000000     95.000000    335.00000   \n",
       "max       99.000000     99.000000     99.000000     99.000000    388.00000   \n",
       "\n",
       "                AVG    Best_Score  \n",
       "count  10000.000000  10000.000000  \n",
       "mean      74.443025     89.511600  \n",
       "std        7.158390      8.125803  \n",
       "min       51.000000     52.000000  \n",
       "30%       70.500000     87.000000  \n",
       "50%       74.500000     91.000000  \n",
       "60%       76.250000     93.000000  \n",
       "90%       83.750000     98.000000  \n",
       "max       97.000000     99.000000  "
      ]
     },
     "execution_count": 94,
     "metadata": {},
     "output_type": "execute_result"
    }
   ],
   "source": [
    "person.describe(percentiles=[0.3,0.6,0.9])"
   ]
  },
  {
   "cell_type": "code",
   "execution_count": 95,
   "id": "ec388e6b-3c45-4ad6-9cce-6213b14243d7",
   "metadata": {
    "tags": []
   },
   "outputs": [
    {
     "data": {
      "text/plain": [
       "94.0"
      ]
     },
     "execution_count": 95,
     "metadata": {},
     "output_type": "execute_result"
    }
   ],
   "source": [
    "np.percentile(person.Korean,90)"
   ]
  },
  {
   "cell_type": "code",
   "execution_count": 96,
   "id": "00f6e31f-106a-4ad4-850f-0d7d0712d6ec",
   "metadata": {
    "tags": []
   },
   "outputs": [],
   "source": [
    "x = range(1,100)"
   ]
  },
  {
   "cell_type": "code",
   "execution_count": 97,
   "id": "10383a32-6c09-47ce-b1bd-5983122bd8df",
   "metadata": {
    "tags": []
   },
   "outputs": [],
   "source": [
    "n = 100\n",
    "prob = []\n",
    "for i in x:\n",
    "    prob.append(i*(100-i)/10000)"
   ]
  },
  {
   "cell_type": "code",
   "execution_count": 98,
   "id": "9e272d97-0c96-4322-96d7-abff482c6727",
   "metadata": {
    "collapsed": true,
    "jupyter": {
     "outputs_hidden": true
    },
    "tags": []
   },
   "outputs": [
    {
     "data": {
      "text/plain": [
       "[0.0099,\n",
       " 0.0196,\n",
       " 0.0291,\n",
       " 0.0384,\n",
       " 0.0475,\n",
       " 0.0564,\n",
       " 0.0651,\n",
       " 0.0736,\n",
       " 0.0819,\n",
       " 0.09,\n",
       " 0.0979,\n",
       " 0.1056,\n",
       " 0.1131,\n",
       " 0.1204,\n",
       " 0.1275,\n",
       " 0.1344,\n",
       " 0.1411,\n",
       " 0.1476,\n",
       " 0.1539,\n",
       " 0.16,\n",
       " 0.1659,\n",
       " 0.1716,\n",
       " 0.1771,\n",
       " 0.1824,\n",
       " 0.1875,\n",
       " 0.1924,\n",
       " 0.1971,\n",
       " 0.2016,\n",
       " 0.2059,\n",
       " 0.21,\n",
       " 0.2139,\n",
       " 0.2176,\n",
       " 0.2211,\n",
       " 0.2244,\n",
       " 0.2275,\n",
       " 0.2304,\n",
       " 0.2331,\n",
       " 0.2356,\n",
       " 0.2379,\n",
       " 0.24,\n",
       " 0.2419,\n",
       " 0.2436,\n",
       " 0.2451,\n",
       " 0.2464,\n",
       " 0.2475,\n",
       " 0.2484,\n",
       " 0.2491,\n",
       " 0.2496,\n",
       " 0.2499,\n",
       " 0.25,\n",
       " 0.2499,\n",
       " 0.2496,\n",
       " 0.2491,\n",
       " 0.2484,\n",
       " 0.2475,\n",
       " 0.2464,\n",
       " 0.2451,\n",
       " 0.2436,\n",
       " 0.2419,\n",
       " 0.24,\n",
       " 0.2379,\n",
       " 0.2356,\n",
       " 0.2331,\n",
       " 0.2304,\n",
       " 0.2275,\n",
       " 0.2244,\n",
       " 0.2211,\n",
       " 0.2176,\n",
       " 0.2139,\n",
       " 0.21,\n",
       " 0.2059,\n",
       " 0.2016,\n",
       " 0.1971,\n",
       " 0.1924,\n",
       " 0.1875,\n",
       " 0.1824,\n",
       " 0.1771,\n",
       " 0.1716,\n",
       " 0.1659,\n",
       " 0.16,\n",
       " 0.1539,\n",
       " 0.1476,\n",
       " 0.1411,\n",
       " 0.1344,\n",
       " 0.1275,\n",
       " 0.1204,\n",
       " 0.1131,\n",
       " 0.1056,\n",
       " 0.0979,\n",
       " 0.09,\n",
       " 0.0819,\n",
       " 0.0736,\n",
       " 0.0651,\n",
       " 0.0564,\n",
       " 0.0475,\n",
       " 0.0384,\n",
       " 0.0291,\n",
       " 0.0196,\n",
       " 0.0099]"
      ]
     },
     "execution_count": 98,
     "metadata": {},
     "output_type": "execute_result"
    }
   ],
   "source": [
    "prob"
   ]
  },
  {
   "cell_type": "code",
   "execution_count": 99,
   "id": "6ffefa8b-f90f-4673-a350-2189ea5553e7",
   "metadata": {
    "tags": []
   },
   "outputs": [
    {
     "data": {
      "text/plain": [
       "[<matplotlib.lines.Line2D at 0x225e3ae3f50>]"
      ]
     },
     "execution_count": 99,
     "metadata": {},
     "output_type": "execute_result"
    },
    {
     "data": {
      "image/png": "[encoded data removed]",
      "text/plain": [
       "<Figure size 640x480 with 1 Axes>"
      ]
     },
     "metadata": {},
     "output_type": "display_data"
    }
   ],
   "source": [
    "plt.plot(x,prob)"
   ]
  }
 ],
 "metadata": {
  "kernelspec": {
   "display_name": "Python 3 (ipykernel)",
   "language": "python",
   "name": "python3"
  },
  "language_info": {
   "codemirror_mode": {
    "name": "ipython",
    "version": 3
   },
   "file_extension": ".py",
   "mimetype": "text/x-python",
   "name": "python",
   "nbconvert_exporter": "python",
   "pygments_lexer": "ipython3",
   "version": "3.11.4"
  }
 },
 "nbformat": 4,
 "nbformat_minor": 5
}
