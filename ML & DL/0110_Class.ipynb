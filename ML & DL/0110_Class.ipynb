{
 "cells": [
  {
   "cell_type": "code",
   "execution_count": 1,
   "id": "fff6fc8c-3d8f-47eb-8b36-547610355ed0",
   "metadata": {
    "tags": []
   },
   "outputs": [],
   "source": [
    "import numpy as np\n",
    "import matplotlib.pyplot as plt\n",
    "from scipy.special import softmax\n",
    "from tqdm import tqdm"
   ]
  },
  {
   "cell_type": "code",
   "execution_count": 2,
   "id": "61e98d1c-bea5-4021-bd12-4c1332c9a8cf",
   "metadata": {
    "tags": []
   },
   "outputs": [],
   "source": [
    "def sigmoid(x):\n",
    "    return 1/(1+np.exp(-x))\n",
    "\n",
    "def relu(x):\n",
    "    return np.where(x > 0, x, 0)\n",
    "\n",
    "def softmax(x):\n",
    "    m = np.max(x,1).reshape(-1,1)\n",
    "    c = x - m\n",
    "    return np.exp(c)/np.sum(np.exp(c),1).reshape(-1,1)\n",
    "\n",
    "def tanh(x):\n",
    "    return (np.exp(x)-np.exp(-x))/(np.exp(x)+np.exp(-x))"
   ]
  },
  {
   "cell_type": "code",
   "execution_count": 3,
   "id": "ffff0179-3885-43ed-905e-3a4145d6403d",
   "metadata": {
    "tags": []
   },
   "outputs": [],
   "source": [
    "def rmse(y, y_hat):\n",
    "    return np.sqrt(np.mean(np.square(y - y_hat)))\n",
    "\n",
    "def binary_crossentropy(y, y_hat):\n",
    "    epsilon = 1e-7\n",
    "    return -np.mean((1-y)*np.log(1-y_hat+epsilon)+y*np.log(y_hat+epsilon))\n",
    "\n",
    "def categorical_crossentropy(y, y_hat):\n",
    "    epsilon = 1e-7\n",
    "    return -np.mean(y*np.log(y_hat+epsilon))"
   ]
  },
  {
   "cell_type": "code",
   "execution_count": 4,
   "id": "3a977659-7b52-40cd-8cb7-a6655be4227d",
   "metadata": {
    "tags": []
   },
   "outputs": [],
   "source": [
    "class Sigmoid:\n",
    "    def __init__(self):\n",
    "        self.out = None\n",
    "    \n",
    "    def forward(self,x):\n",
    "        return sigmoid(x)\n",
    "    \n",
    "    def backward(self,out):\n",
    "        dout = sigmoid(out) * sigmoid(1-sigmoid(out))\n",
    "        return dout"
   ]
  },
  {
   "cell_type": "code",
   "execution_count": 5,
   "id": "21cedb06-2871-48da-9a70-d139d82e0fe9",
   "metadata": {
    "tags": []
   },
   "outputs": [],
   "source": [
    "class ReLU:\n",
    "    def __init__(self):\n",
    "        self.out = None\n",
    "        \n",
    "    def forward(self,x):\n",
    "        out = relu(x)\n",
    "        self.out = np.where(out>0, 1, 0)\n",
    "        return out\n",
    "    \n",
    "    def backward(self,out):\n",
    "        dout = self.out * out\n",
    "        return dout"
   ]
  },
  {
   "cell_type": "code",
   "execution_count": 6,
   "id": "a28b17d7-1389-408d-ab26-7931cfe77d15",
   "metadata": {},
   "outputs": [],
   "source": [
    "class Affine:\n",
    "    def __init__(self,w,b):\n",
    "        self.x = None\n",
    "        self.w = w\n",
    "        self.b = b\n",
    "        self.lambda_reg = 1e-3\n",
    "    \n",
    "    def forward(self,x):\n",
    "        self.x = x\n",
    "        self.dout = np.dot(self.x,self.w) + self.b\n",
    "        return self.dout\n",
    "    \n",
    "    def backward(self,out):\n",
    "        self.dout = np.dot(out, self.w.T)\n",
    "        self.dW = np.dot(self.x.T,out) + self.lambda_reg * self.w\n",
    "        self.db = np.sum(out,axis=0)\n",
    "        return self.dout"
   ]
  },
  {
   "cell_type": "code",
   "execution_count": 7,
   "id": "9c580fb6-a5e4-48ef-afd4-0326b10c901e",
   "metadata": {
    "tags": []
   },
   "outputs": [],
   "source": [
    "class Tanh:\n",
    "    def __init__(self):\n",
    "        self.out = None\n",
    "        \n",
    "    def forward(self,x):\n",
    "        return tanh(x)\n",
    "    \n",
    "    def backward(self):\n",
    "        dout = 1 - tanh(out)**2\n",
    "        return dout"
   ]
  },
  {
   "cell_type": "code",
   "execution_count": 8,
   "id": "a92ce8b9-0d6f-46c9-8c99-2bbd1bbb3272",
   "metadata": {
    "tags": []
   },
   "outputs": [],
   "source": [
    "class SoftmaxWithLoss:\n",
    "    def __init__(self):\n",
    "        self.out = None\n",
    "        self.y = None\n",
    "        self.y_hat = None\n",
    "    \n",
    "    def forward(self,x):\n",
    "        self.y_hat = softmax(x)\n",
    "        return self.y_hat\n",
    "    \n",
    "    def backward(self,y):\n",
    "        self.y = y\n",
    "        self.dout = (self.y_hat - self.y) / len(self.y)\n",
    "        return self.dout"
   ]
  },
  {
   "cell_type": "code",
   "execution_count": 9,
   "id": "7b9f6ac3-2e25-4811-9be3-350dbae278b0",
   "metadata": {
    "tags": []
   },
   "outputs": [],
   "source": [
    "def sigdiff(x):\n",
    "    return sigmoid(x) * (1-sigmoid(x))\n",
    "\n",
    "def tanhdiff(x):\n",
    "    return 1-tanh(x)**2"
   ]
  },
  {
   "cell_type": "code",
   "execution_count": 10,
   "id": "bf470f36-22d3-41ca-95fa-9ac289a30b2c",
   "metadata": {
    "tags": []
   },
   "outputs": [],
   "source": [
    "s = Sigmoid()"
   ]
  },
  {
   "cell_type": "code",
   "execution_count": 11,
   "id": "1aa2bc75-81aa-451e-b0a7-8ee5c42211ea",
   "metadata": {},
   "outputs": [],
   "source": [
    "x = np.random.randn(3,2)\n",
    "w = np.random.randn(2,2)"
   ]
  },
  {
   "cell_type": "code",
   "execution_count": 12,
   "id": "89229388-3245-4510-b4d0-207b6b60046f",
   "metadata": {},
   "outputs": [
    {
     "data": {
      "text/plain": [
       "(array([[0.50178917, 0.05713558],\n",
       "        [0.3385475 , 0.83997881],\n",
       "        [0.4825312 , 0.31278775]]),\n",
       " array([[0.33414491, 0.33743307],\n",
       "        [0.34253758, 0.42778136],\n",
       "        [0.33832835, 0.37358989]]))"
      ]
     },
     "execution_count": 12,
     "metadata": {},
     "output_type": "execute_result"
    }
   ],
   "source": [
    "out = np.dot(s.forward(x),w)\n",
    "s.forward(x), s.backward(out)"
   ]
  },
  {
   "cell_type": "code",
   "execution_count": 13,
   "id": "23cff23f-0ee7-40c4-b1bf-bcc5f24392e3",
   "metadata": {
    "tags": []
   },
   "outputs": [],
   "source": [
    "r = ReLU()"
   ]
  },
  {
   "cell_type": "code",
   "execution_count": 14,
   "id": "94548a6e-14d2-4e3c-80c8-cbdfd02e0c86",
   "metadata": {
    "tags": []
   },
   "outputs": [],
   "source": [
    "x = np.array([[-5,6],[2,0],[-1,3]])\n",
    "dx = np.array([[100,-5],[-7,-3],[7,10]])"
   ]
  },
  {
   "cell_type": "code",
   "execution_count": 15,
   "id": "48ca5aa8-0e52-4c76-83e4-7454d91d5210",
   "metadata": {
    "tags": []
   },
   "outputs": [
    {
     "data": {
      "text/plain": [
       "(array([[0, 6],\n",
       "        [2, 0],\n",
       "        [0, 3]]),\n",
       " array([[ 0, -5],\n",
       "        [-7,  0],\n",
       "        [ 0, 10]]))"
      ]
     },
     "execution_count": 15,
     "metadata": {},
     "output_type": "execute_result"
    }
   ],
   "source": [
    "r.forward(x), r.backward(dx)"
   ]
  },
  {
   "cell_type": "code",
   "execution_count": 16,
   "id": "5b605f46-01c6-41c4-aee2-773b06455cad",
   "metadata": {
    "tags": []
   },
   "outputs": [],
   "source": [
    "x = np.random.randn(4,2)\n",
    "w = np.random.randn(2,5)\n",
    "b = np.zeros(5)"
   ]
  },
  {
   "cell_type": "code",
   "execution_count": 17,
   "id": "fca442d9-7fe2-43ad-ab13-b3dee38255b1",
   "metadata": {
    "tags": []
   },
   "outputs": [],
   "source": [
    "a = Affine(w,b)"
   ]
  },
  {
   "cell_type": "code",
   "execution_count": 18,
   "id": "a5e328d9-4aca-48cd-a8ab-c4fc3df9ccd8",
   "metadata": {
    "tags": []
   },
   "outputs": [
    {
     "data": {
      "text/plain": [
       "array([[ 2.16541783, -0.75853682, -2.78083209,  0.65816231, -1.72946529],\n",
       "       [ 2.02545789, -1.1941024 , -1.97796043, -0.03791948, -1.32773268],\n",
       "       [-0.95319099, -0.76876648,  2.64199912, -1.77681498,  1.4210558 ],\n",
       "       [ 0.47499809, -1.73463687,  1.40660557, -1.97063044,  0.55897172]])"
      ]
     },
     "execution_count": 18,
     "metadata": {},
     "output_type": "execute_result"
    }
   ],
   "source": [
    "a.forward(x)"
   ]
  },
  {
   "cell_type": "code",
   "execution_count": 19,
   "id": "699bf5db-7166-4468-8abe-4fc8c1be7b1f",
   "metadata": {
    "tags": []
   },
   "outputs": [
    {
     "data": {
      "text/plain": [
       "array([[ 10.38827595,  -1.02842696],\n",
       "       [  7.24878262,  -2.16223493],\n",
       "       [-10.18872355,  -2.27847029],\n",
       "       [ -5.70842571,  -4.10995433]])"
      ]
     },
     "execution_count": 19,
     "metadata": {},
     "output_type": "execute_result"
    }
   ],
   "source": [
    "a.backward(a.forward(x))"
   ]
  },
  {
   "cell_type": "code",
   "execution_count": 20,
   "id": "b1f98694-a78a-438d-9402-7db7efcf8124",
   "metadata": {
    "tags": []
   },
   "outputs": [],
   "source": [
    "sm = SoftmaxWithLoss()"
   ]
  },
  {
   "cell_type": "code",
   "execution_count": 21,
   "id": "5671ab1c-34ff-49d6-8b4c-bf840f5a2cc2",
   "metadata": {
    "tags": []
   },
   "outputs": [
    {
     "data": {
      "text/plain": [
       "[<matplotlib.lines.Line2D at 0x1c17ff85ed0>]"
      ]
     },
     "execution_count": 21,
     "metadata": {},
     "output_type": "execute_result"
    },
    {
     "data": {
      "image/png": "[encoded data removed]",
      "text/plain": [
       "<Figure size 640x480 with 1 Axes>"
      ]
     },
     "metadata": {},
     "output_type": "display_data"
    }
   ],
   "source": [
    "x = np.linspace(-5,5,100)\n",
    "y = tanhdiff(x)\n",
    "plt.plot(x,y)"
   ]
  },
  {
   "cell_type": "code",
   "execution_count": 22,
   "id": "8e0bf722-2c79-473f-95c2-0568d4e2e642",
   "metadata": {
    "tags": []
   },
   "outputs": [
    {
     "data": {
      "text/plain": [
       "[<matplotlib.lines.Line2D at 0x1c17fae4a50>]"
      ]
     },
     "execution_count": 22,
     "metadata": {},
     "output_type": "execute_result"
    },
    {
     "data": {
      "image/png": "[encoded data removed]",
      "text/plain": [
       "<Figure size 640x480 with 1 Axes>"
      ]
     },
     "metadata": {},
     "output_type": "display_data"
    }
   ],
   "source": [
    "x = np.linspace(-5,5,100)\n",
    "y = sigdiff(x)\n",
    "plt.plot(x,y)"
   ]
  },
  {
   "cell_type": "code",
   "execution_count": 23,
   "id": "7690bf83-1833-449b-b663-6a3a0690a060",
   "metadata": {
    "tags": []
   },
   "outputs": [],
   "source": [
    "# from tensorflow.keras.models import Sequential\n",
    "# from tensorflow.keras.layers import Dense\n",
    "# from tensorflow.keras import activations\n",
    "# from tensorflow.keras.layers import ReLU\n",
    "# from tensorflow.keras.optimizers import Adam\n",
    "# model = Sequential()\n",
    "# model.add(Dense(100,activation='relu',input_shape=(784,)))\n",
    "# model.add(Dense(10,activation='sigmoid'))\n",
    "# opt = Adam(lr=1e-4)"
   ]
  },
  {
   "cell_type": "code",
   "execution_count": 24,
   "id": "bfafbb60-6335-49d2-a822-da07f096d94b",
   "metadata": {
    "tags": []
   },
   "outputs": [],
   "source": [
    "class Net:\n",
    "    def __init__(self,input_shape):\n",
    "        self.x = None\n",
    "        self.y = None\n",
    "        self.input_shape = input_shape\n",
    "        self.layers = []\n",
    "        self.activation_dic = {\n",
    "            'relu':ReLU,\n",
    "            'sigmoid':Sigmoid,\n",
    "            'softmax':SoftmaxWithLoss,\n",
    "            'tanh':Tanh\n",
    "        }\n",
    "        self.grad = None\n",
    "        \n",
    "    def add(self,output_shape,activation):\n",
    "        if len(self.layers) == 0:\n",
    "            w = np.random.randn(self.input_shape,output_shape) / np.sqrt(self.input_shape)\n",
    "            b = np.zeros(output_shape)\n",
    "            activation = self.activation_dic.get(activation)\n",
    "            self.layers.append([w,b,activation])\n",
    "        else:\n",
    "            input_shape = self.layers[-1][0].shape[1]\n",
    "            w = np.random.randn(input_shape, output_shape) / np.sqrt(input_shape)\n",
    "            b = np.zeros(output_shape)\n",
    "            activation = self.activation_dic.get(activation)\n",
    "            self.layers.append([w,b,activation])\n",
    "    \n",
    "    def _build(self):\n",
    "        self.W = {}\n",
    "        for i, layer in enumerate(self.layers,1):\n",
    "            w = layer[0]\n",
    "            b = layer[1]\n",
    "            activation = layer[2]\n",
    "            self.W['Affine_'+str(i)] = Affine(w,b)\n",
    "            self.W['Activation_'+str(i)] = activation()\n",
    "        return f'Building Success'\n",
    "    \n",
    "    def compile(self,lr,loss,metrics):\n",
    "        loss_func_dic = {\n",
    "            'rmse' : rmse,\n",
    "            'binary_crossentropy' : binary_crossentropy,\n",
    "            'categorical_crossentropy' : categorical_crossentropy\n",
    "        }\n",
    "        metrics_dic = {\n",
    "            'accuracy' : 'accuracy',\n",
    "            'rmse' : 'rmse',\n",
    "        }\n",
    "        \n",
    "        self.loss_func = loss_func_dic[loss]\n",
    "        self.metrics = metrics_dic[metrics]\n",
    "        self.lr = lr\n",
    "        \n",
    "        \n",
    "    def predict(self,x):\n",
    "        if self.grad == None:\n",
    "            self._build()\n",
    "        self.y_hat = x\n",
    "        for k, v in self.W.items():\n",
    "            self.y_hat = v.forward(self.y_hat)\n",
    "        return self.y_hat\n",
    "    \n",
    "    def gradient(self,x,y):\n",
    "        self.y_hat = self.predict(x)\n",
    "        self.y = y\n",
    "        self.grad = {}\n",
    "        last_layer = list(self.W.keys())[-1]\n",
    "        out = self.W.get(last_layer).backward(self.y)\n",
    "        for key in list(self.W.keys())[::-1]:\n",
    "            out = self.W.get(key).backward(out)\n",
    "        idx = 1\n",
    "        for key in list(self.W.keys()):\n",
    "            if 'Affine' in key:\n",
    "                self.grad['W'+str(idx)] = self.W.get(key).dW\n",
    "                self.grad['b'+str(idx)] = self.W.get(key).db\n",
    "                idx += 1\n",
    "        return self.grad\n",
    "        \n",
    "    def loss(self,x,y):\n",
    "        y_hat = self.predict(x)\n",
    "        loss_val = categorical_crossentropy(y,y_hat)\n",
    "        accuracy = np.sum(np.argmax(y_hat, 1) == np.argmax(y, 1))/len(y)\n",
    "        return [accuracy, loss_val]\n",
    "    \n",
    "    def summary(self):\n",
    "        total_params = 0\n",
    "        if self.grad == None:\n",
    "            self._build()\n",
    "        print(\"----------------------------------------------\")\n",
    "        print(\"                Output Shape           Param #\")\n",
    "        print(\"==============================================\")\n",
    "        for idx, layer in enumerate(self.layers,1):\n",
    "            tmp_length = 20 - len(str(layer[0].shape[1]))\n",
    "            print(f'Affine_{idx}        (None, {layer[0].shape[1]}) {np.prod(layer[0].shape) + layer[0].shape[1]:>{tmp_length}}')\n",
    "            total_params += np.prod(layer[0].shape) + layer[0].shape[1]\n",
    "        print(\"==============================================\")\n",
    "        print(f\"total params: {total_params}\")\n",
    "    \n",
    "    def fit(self, x, y, epochs=10):\n",
    "        for epoch in tqdm(range(epochs)):\n",
    "            self.grad = self.gradient(x,y)\n",
    "            print(f'{epoch+1} ===========> accuracy : {self.loss(x,y)[0]}, loss : {self.loss(x,y)[1]}')\n",
    "            for idx, _ in enumerate(self.layers,1):\n",
    "                self.W.get('Affine_'+str(idx)).w -= self.lr * self.grad['W'+str(idx)]\n",
    "                self.W.get('Affine_'+str(idx)).b -= self.lr * self.grad['b'+str(idx)]"
   ]
  },
  {
   "cell_type": "code",
   "execution_count": 25,
   "id": "091da8a3-9253-4c9c-8b85-1c3a997a4c72",
   "metadata": {
    "tags": []
   },
   "outputs": [],
   "source": [
    "model = Net(10)"
   ]
  },
  {
   "cell_type": "code",
   "execution_count": 26,
   "id": "1e14bb3b-f7d9-4575-a3bc-fc464d3ee2d5",
   "metadata": {
    "tags": []
   },
   "outputs": [],
   "source": [
    "model.add(100,activation='relu')"
   ]
  },
  {
   "cell_type": "code",
   "execution_count": 27,
   "id": "97ad02fc-eff9-40c4-be18-444165395959",
   "metadata": {
    "tags": []
   },
   "outputs": [
    {
     "name": "stdout",
     "output_type": "stream",
     "text": [
      "----------------------------------------------\n",
      "                Output Shape           Param #\n",
      "==============================================\n",
      "Affine_1        (None, 100)              1100\n",
      "==============================================\n",
      "total params: 1100\n"
     ]
    }
   ],
   "source": [
    "model.summary()"
   ]
  },
  {
   "cell_type": "code",
   "execution_count": 28,
   "id": "06c8c94f-125e-499b-9224-d38a03002500",
   "metadata": {
    "collapsed": true,
    "jupyter": {
     "outputs_hidden": true
    },
    "tags": []
   },
   "outputs": [
    {
     "data": {
      "text/plain": [
       "[[array([[ 6.68173058e-01, -1.96502609e-01, -4.11723925e-01,\n",
       "           1.17433176e-01, -6.85546291e-02, -3.45824955e-01,\n",
       "           2.91945872e-02,  5.56696219e-01,  2.81281909e-01,\n",
       "          -1.30012267e-01, -2.33013944e-02,  1.70403767e-01,\n",
       "           1.99287908e-01,  2.82584396e-01,  2.10337665e-01,\n",
       "           2.20788398e-01,  3.12559730e-01, -2.39836064e-01,\n",
       "           4.17025735e-01, -4.90977657e-01, -3.93158212e-02,\n",
       "          -2.04653271e-01, -4.57395989e-01,  2.84877491e-01,\n",
       "          -1.60673436e-02,  5.28233848e-01, -1.91635035e-01,\n",
       "           1.88688334e-01,  4.72315889e-02,  8.28590061e-02,\n",
       "          -2.51204397e-01, -6.38581771e-01,  1.48714818e-01,\n",
       "           1.01473085e-01, -1.55645276e-01, -2.08739586e-01,\n",
       "          -2.12236924e-01,  7.44846128e-01,  1.18219218e-01,\n",
       "           5.08145650e-01, -4.37130174e-01, -2.89047168e-01,\n",
       "          -1.66805593e-01, -1.57778758e-01,  1.39152697e-01,\n",
       "           2.12710556e-01, -1.47584481e-01, -3.42645836e-02,\n",
       "           2.51115284e-01,  3.61542618e-01, -6.28637553e-03,\n",
       "          -3.40959214e-01, -5.52979430e-01,  3.30940627e-01,\n",
       "          -2.73982367e-01, -9.65822295e-02,  5.28227122e-01,\n",
       "           5.00275798e-01,  3.10941207e-02, -1.56847544e-01,\n",
       "          -4.37583645e-04,  3.02482239e-01, -2.63462543e-01,\n",
       "           3.65837212e-01,  1.31491262e-01,  3.61599768e-01,\n",
       "          -3.83960661e-01, -1.87529855e-01, -1.62932530e-01,\n",
       "           1.41641524e-01,  4.81296062e-01, -1.70284180e-01,\n",
       "          -1.57611401e-01,  3.39947865e-01, -5.12030628e-01,\n",
       "          -1.76515706e-01,  2.89089723e-01, -2.94880789e-01,\n",
       "           9.67233015e-02,  5.07191552e-02, -1.45265750e-03,\n",
       "          -2.73315003e-01, -1.56159399e-02, -4.04960462e-01,\n",
       "           2.41615788e-02, -1.31271812e-01,  2.64592797e-01,\n",
       "           7.29864868e-01,  2.72358703e-01, -3.59880726e-01,\n",
       "           5.12236295e-01,  2.73963234e-01,  1.93775759e-01,\n",
       "          -3.06080560e-01,  1.89050418e-02,  6.71332804e-02,\n",
       "           5.16309376e-01,  2.19090053e-01, -1.93733646e-01,\n",
       "          -2.42011983e-01],\n",
       "         [ 7.31543556e-01,  2.44040410e-01,  1.76993028e-02,\n",
       "          -1.21210344e-01,  3.65043589e-01,  1.33672201e-01,\n",
       "           2.11575325e-01, -1.80391323e-01,  5.40325714e-02,\n",
       "           2.30547147e-01, -7.29470305e-03,  2.94165765e-01,\n",
       "           1.39749042e-01,  3.70244959e-01, -6.69381950e-01,\n",
       "          -4.76152363e-01, -6.53889174e-02,  1.03799851e-01,\n",
       "           3.04589387e-01, -3.67250725e-01, -1.20617301e-01,\n",
       "          -1.93195490e-01, -4.66417457e-02,  4.63397984e-01,\n",
       "           3.07065938e-01,  2.27959089e-01,  9.28312689e-02,\n",
       "          -1.16255615e-02,  3.19796379e-01, -2.46878616e-01,\n",
       "          -2.54714000e-01,  1.74080126e-01,  1.53338838e-01,\n",
       "           1.88920548e-01, -3.77593197e-02,  2.99958567e-01,\n",
       "          -2.39747357e-01,  9.01666343e-02, -5.53811202e-01,\n",
       "          -5.00605390e-01, -1.79685269e-01, -9.77093197e-02,\n",
       "          -3.36710011e-02, -3.78869114e-01, -2.54408381e-01,\n",
       "           4.07669413e-01, -1.00295410e-01,  1.32142295e-01,\n",
       "           6.52199582e-01, -4.67661612e-02, -1.41321289e-01,\n",
       "           7.82787234e-01,  9.28148981e-02, -1.63461513e-01,\n",
       "           5.87562242e-01,  4.84724630e-01, -4.07783503e-02,\n",
       "          -4.74022424e-01,  3.17176138e-01,  2.14921781e-01,\n",
       "           1.59615568e-01, -4.03772121e-01, -7.19801160e-01,\n",
       "           4.00294665e-02,  1.20345853e-01,  3.84133790e-01,\n",
       "           3.64526870e-01, -2.70828815e-02,  4.31377469e-02,\n",
       "           4.91523245e-02,  4.75997273e-02,  1.18852131e-01,\n",
       "          -9.05939422e-02, -6.99843608e-02, -3.70230232e-01,\n",
       "          -2.46983515e-02,  1.46896836e-01,  7.06989136e-02,\n",
       "          -4.11868849e-01,  1.07695625e-01, -4.61490150e-01,\n",
       "          -1.13670231e-01, -3.74158667e-01,  1.97088565e-01,\n",
       "           1.17039085e-01, -1.07679241e-01, -1.07477203e-01,\n",
       "           4.86767130e-02,  3.58441560e-02,  3.11046128e-01,\n",
       "          -2.72881153e-01,  2.32496087e-01, -2.29759134e-02,\n",
       "          -1.08542018e-01, -1.12729288e-02, -4.73612059e-01,\n",
       "           4.21877444e-01,  9.97015599e-02,  2.62460035e-01,\n",
       "          -2.83785645e-01],\n",
       "         [ 1.21856872e-01,  1.77058717e-01, -4.69636768e-01,\n",
       "           1.92113628e-01, -1.05320918e+00,  2.19317072e-01,\n",
       "           6.32917995e-02, -4.51992914e-01, -1.94824360e-01,\n",
       "          -3.78579034e-01,  4.34119529e-01,  6.51025572e-01,\n",
       "          -2.88033816e-01, -2.29285025e-01, -2.00020243e-01,\n",
       "          -1.25828247e-01,  1.23165420e-02, -2.26270543e-01,\n",
       "          -4.87341100e-02, -1.54583288e-01, -2.24275038e-01,\n",
       "          -1.20135591e-01, -2.26707418e-01,  1.03369194e-01,\n",
       "           1.78629437e-01,  8.75629064e-02,  1.73969686e-01,\n",
       "           2.19498838e-01,  2.31263438e-01,  2.01108727e-01,\n",
       "          -8.37467412e-02, -1.80652919e-01, -2.90827389e-01,\n",
       "           2.48917799e-01,  6.34337467e-02,  5.56592289e-01,\n",
       "          -6.19841290e-01,  4.02707126e-02,  2.59499537e-01,\n",
       "           3.63244244e-01,  3.80971201e-01, -2.15677887e-01,\n",
       "           3.15482673e-01,  5.55930320e-01,  4.53048848e-03,\n",
       "          -3.32662018e-01, -3.30203064e-01,  2.04204962e-01,\n",
       "          -4.30934798e-01, -8.20597464e-02, -4.28426849e-01,\n",
       "          -8.44612340e-02, -3.55987103e-01, -2.25225289e-01,\n",
       "          -3.17617918e-01,  2.29807743e-01,  4.90907807e-01,\n",
       "           1.85034232e-01,  1.80149039e-01,  9.69440159e-02,\n",
       "           9.95337673e-02, -4.82205215e-01,  1.94127036e-01,\n",
       "           7.24845145e-02, -2.64846375e-01, -1.21794451e-01,\n",
       "           1.33139235e-01,  6.34857524e-01, -6.13522627e-03,\n",
       "           3.25052411e-01,  3.82532204e-02,  1.20044666e-01,\n",
       "          -3.50078603e-03, -3.50493448e-01,  8.02970546e-01,\n",
       "           5.22607677e-01, -1.97225129e-01,  1.89934220e-01,\n",
       "           3.14407592e-01, -1.28151875e-01,  2.33977354e-01,\n",
       "          -5.98107528e-01,  1.84179465e-01,  2.82856597e-01,\n",
       "          -1.96321455e-01,  5.71615867e-02,  7.09592290e-02,\n",
       "          -4.86807599e-01, -1.75243342e-01, -3.89734337e-01,\n",
       "          -2.82909408e-01, -3.24322387e-01,  1.12069289e-01,\n",
       "          -4.27857462e-01,  1.77609999e-02,  2.17859200e-01,\n",
       "          -2.26732140e-01,  1.99641748e-01, -2.34326709e-01,\n",
       "           6.49364832e-02],\n",
       "         [-4.54025190e-01,  2.70080103e-03, -5.38933387e-01,\n",
       "          -4.37797327e-01, -1.58178931e-01,  5.48433992e-01,\n",
       "          -3.29995351e-02, -3.37656702e-02, -5.49498188e-02,\n",
       "           2.63087557e-01,  5.23951521e-02, -4.02331490e-01,\n",
       "          -2.84746028e-01, -1.68128454e-01, -7.55441486e-02,\n",
       "          -1.66387824e-01,  5.30061722e-02, -3.05147927e-01,\n",
       "           8.90804415e-02,  1.17552268e-01,  3.51422286e-01,\n",
       "           4.61462651e-01,  6.86287319e-02, -2.72284535e-01,\n",
       "           3.09896136e-01,  2.49286208e-01, -3.83886561e-02,\n",
       "          -1.03779155e-01,  3.95425414e-01,  1.21885037e-01,\n",
       "          -3.19681746e-02,  2.62706926e-01,  4.14357016e-01,\n",
       "           3.44229177e-01, -2.25639518e-01,  3.07324116e-01,\n",
       "           5.26529132e-02, -2.46405337e-01,  4.01618058e-02,\n",
       "          -6.09615345e-01, -3.88379374e-01,  1.36276812e-01,\n",
       "           2.24010339e-01,  9.36507088e-02, -3.90207136e-01,\n",
       "          -2.94286308e-01,  1.61555581e-01,  1.31582056e-01,\n",
       "          -3.57491354e-02, -7.55554963e-01,  2.92949104e-01,\n",
       "           8.06544057e-02,  2.55856208e-02, -1.41327152e-01,\n",
       "           3.10662832e-01,  2.81913611e-01, -4.66688091e-01,\n",
       "           2.99593899e-01, -3.50412458e-01,  1.21341701e-01,\n",
       "          -4.88162798e-01, -8.96163704e-02, -9.87844091e-02,\n",
       "          -8.38321451e-01,  6.11939522e-02, -1.30755021e-01,\n",
       "          -5.66154536e-02,  2.92598726e-01, -6.05671631e-03,\n",
       "           4.38121113e-01,  3.22725968e-01, -1.08470864e-01,\n",
       "           3.23489697e-01, -6.56289827e-02, -4.91307703e-01,\n",
       "           3.26469701e-01,  7.64901014e-02,  2.42855910e-01,\n",
       "          -2.03919577e-02,  4.11638318e-01, -2.40128401e-01,\n",
       "           1.12524773e-01,  1.38985388e-01,  4.85678567e-01,\n",
       "          -4.19716963e-01, -3.30830496e-01,  7.21023788e-01,\n",
       "          -5.10571329e-03, -1.02492921e-01,  2.22690325e-01,\n",
       "          -3.83881767e-01, -2.01727593e-01,  2.03734068e-01,\n",
       "           6.19282796e-01,  1.38097771e-02, -6.18643054e-01,\n",
       "          -3.22909808e-02,  5.75926393e-02,  2.14590664e-01,\n",
       "           4.17787940e-01],\n",
       "         [ 3.07381019e-01, -1.93791526e-01, -4.36861732e-02,\n",
       "           4.32575701e-01,  2.58085986e-01,  2.94552844e-01,\n",
       "          -2.66178608e-01, -7.44431520e-01, -5.42315484e-02,\n",
       "           1.95285161e-01, -1.20288235e-01, -6.07006283e-02,\n",
       "           1.04834136e-01, -5.68188341e-01, -2.16467552e-01,\n",
       "           3.67938146e-01, -1.03906088e-01,  5.17868381e-01,\n",
       "          -1.31900146e-01, -1.96879995e-01,  2.67307608e-01,\n",
       "           2.95377278e-01, -4.53817777e-01,  6.66783514e-01,\n",
       "           7.27095135e-02, -2.78916529e-01,  4.73143127e-02,\n",
       "           9.24719566e-02,  1.47646197e-01,  9.28229028e-02,\n",
       "           5.49699455e-03,  1.05034905e-01,  9.81439724e-02,\n",
       "          -2.39413137e-01, -4.65134137e-01, -3.32564572e-01,\n",
       "           1.44053717e-01, -3.90394260e-02,  4.63816819e-01,\n",
       "          -2.27967113e-01,  4.95587267e-02, -4.84049350e-01,\n",
       "           2.31372823e-01, -4.12963235e-01, -7.78292579e-01,\n",
       "          -5.19409412e-01,  1.50554112e-01,  6.59925136e-01,\n",
       "           1.25156780e-01,  7.94723936e-02,  3.75746311e-01,\n",
       "          -9.05267722e-02, -3.03742524e-01, -2.89885352e-01,\n",
       "          -6.05428483e-01, -4.31452877e-01,  1.71046290e-01,\n",
       "          -3.80373807e-01, -1.16163842e-01, -1.63265818e-01,\n",
       "          -7.22014413e-03,  2.88486702e-01,  1.44672230e-01,\n",
       "           1.75146006e-01,  2.31690821e-01, -9.05868091e-02,\n",
       "          -5.80198054e-02,  2.04337100e-01, -3.97920001e-01,\n",
       "           1.71137303e-01,  1.84828792e-01,  3.37868151e-01,\n",
       "           3.61867931e-01,  8.73357718e-02,  4.01215026e-01,\n",
       "          -6.84866464e-01, -2.46067300e-01,  1.38275563e-01,\n",
       "           5.99952073e-01,  3.66736643e-01,  9.74003579e-02,\n",
       "          -1.40781111e-01, -3.45516548e-01, -5.05871191e-01,\n",
       "           5.06609850e-01, -5.64486303e-01, -1.03686092e-01,\n",
       "           1.93781438e-01,  5.04969977e-02, -3.48960650e-01,\n",
       "          -2.68743084e-01, -7.99366486e-02,  5.48769801e-01,\n",
       "          -5.71866899e-03,  1.41958054e-01, -4.51351468e-01,\n",
       "          -1.98246193e-01, -1.90027554e-01,  2.19275687e-01,\n",
       "          -1.67196330e-01],\n",
       "         [ 6.73016252e-01,  2.11776880e-02,  1.95463314e-01,\n",
       "           4.21712263e-01,  1.21110843e-04, -2.16682137e-01,\n",
       "          -5.95887113e-02,  6.32124103e-01, -2.92724186e-01,\n",
       "          -9.23349914e-01, -9.21811780e-03, -2.23331824e-01,\n",
       "          -3.83559521e-01,  3.43597482e-01, -2.66904907e-02,\n",
       "          -8.15420000e-02,  2.38009407e-03,  5.94661724e-02,\n",
       "           2.53747311e-01,  4.13165161e-01, -5.45000707e-02,\n",
       "           2.48004501e-01, -1.51266603e-01,  8.96785256e-02,\n",
       "           9.88312361e-02, -1.03979356e-01, -6.86702320e-02,\n",
       "          -4.61485390e-01, -1.84606605e-02, -1.29539841e-01,\n",
       "           2.46399846e-01,  1.22627110e-01,  3.05091889e-01,\n",
       "          -1.26364114e-01, -6.16954405e-01,  1.34181748e-01,\n",
       "           5.21467809e-01, -3.26964305e-01,  2.82678714e-01,\n",
       "           5.37828954e-01, -2.79511878e-01,  2.38056807e-01,\n",
       "           8.71383831e-02, -1.51562544e-01,  3.42658880e-01,\n",
       "          -2.45682562e-01, -6.26042940e-02, -2.54799687e-01,\n",
       "          -2.40358226e-01, -1.43136611e-01,  2.11278155e-01,\n",
       "          -3.43722439e-01,  2.56396834e-01,  6.31193924e-02,\n",
       "           5.51770235e-01,  3.20333749e-01, -3.54480108e-01,\n",
       "           7.35844804e-02,  2.58227346e-01,  1.47790009e-01,\n",
       "           1.44194650e-01,  1.73681416e-01,  3.64185263e-01,\n",
       "          -1.68025852e-02,  2.66869806e-01, -2.24480245e-01,\n",
       "          -9.81825329e-02, -3.56291343e-01, -6.62799748e-02,\n",
       "           2.55082721e-01, -2.95040669e-01,  1.79830000e-01,\n",
       "           1.16200003e-01,  7.18491861e-02,  3.08543949e-02,\n",
       "          -1.87556785e-01, -1.90883999e-01, -2.06065452e-01,\n",
       "          -4.86844698e-02, -2.65887712e-01,  6.86259513e-02,\n",
       "           1.67443610e-01,  3.08651141e-01,  6.20141402e-01,\n",
       "          -1.84535962e-01, -7.14620086e-02, -1.59791144e-01,\n",
       "           1.61711957e-01,  1.67808688e-01,  9.22088101e-02,\n",
       "          -5.43938140e-02,  4.57102817e-01,  1.16398942e-01,\n",
       "          -3.40749125e-01,  5.81342072e-01,  1.74384629e-01,\n",
       "           3.88822939e-01,  8.65800809e-02, -2.88059625e-01,\n",
       "           1.53613538e-01],\n",
       "         [-2.32724169e-01,  1.08508743e-01, -2.96501760e-01,\n",
       "          -4.00341181e-01,  3.26746488e-01, -2.15166520e-01,\n",
       "           1.47874600e-02,  2.51506063e-01, -2.25343676e-01,\n",
       "           2.56974646e-02,  8.20131128e-02, -1.60165174e-02,\n",
       "          -1.22808602e-01,  4.14202518e-01, -1.55926178e-01,\n",
       "          -1.54054318e-01,  1.95466156e-01, -3.62981792e-01,\n",
       "           2.14965089e-01, -7.54470286e-03,  3.25989929e-01,\n",
       "           1.85929355e-01, -1.71776799e-01,  2.01584955e-01,\n",
       "          -4.67645204e-01, -6.21194960e-02, -5.27951027e-02,\n",
       "          -3.69659481e-01,  3.01875894e-01,  1.81580883e-01,\n",
       "           1.65146818e-01, -3.71813324e-01,  4.39798428e-01,\n",
       "           1.24009260e-01, -4.49457561e-01, -3.68722970e-01,\n",
       "          -8.86685630e-02,  1.34968493e-01, -2.05990825e-02,\n",
       "           3.74580542e-01, -2.56976050e-02,  4.34058210e-03,\n",
       "           4.66447211e-02,  1.44586545e-01, -5.59101154e-01,\n",
       "          -8.02674098e-02,  2.56583313e-01, -4.05030601e-01,\n",
       "           9.18420599e-02,  1.91443895e-01,  3.54753529e-02,\n",
       "           5.98573637e-01, -7.69647395e-02,  9.48147547e-03,\n",
       "           2.68048864e-02,  2.45302225e-01, -4.70520217e-01,\n",
       "           7.31009615e-02, -2.97505195e-01, -1.56695537e-01,\n",
       "          -3.30343289e-02, -3.40431856e-01,  1.26525453e-01,\n",
       "           7.85212110e-01,  2.65295957e-01, -1.96787713e-01,\n",
       "          -6.85359360e-02, -1.49442068e-01, -5.22859305e-02,\n",
       "           1.07556025e-01, -9.75084058e-02,  4.58106560e-01,\n",
       "           1.15616557e-01, -2.35335773e-02,  2.61899886e-02,\n",
       "           7.08199176e-01,  1.22322898e-01,  5.56567700e-01,\n",
       "          -3.58527793e-01,  6.84179624e-01,  1.37514535e-01,\n",
       "          -2.56347268e-01,  1.37172275e-01, -2.74815277e-02,\n",
       "          -1.17589614e+00, -3.41007615e-01, -7.97475211e-02,\n",
       "          -1.83086026e-01, -1.18215879e-01,  2.08476154e-01,\n",
       "           5.52132440e-02,  1.28476483e-01,  7.67435808e-02,\n",
       "          -4.09084880e-01,  1.40081986e-01,  3.21938061e-01,\n",
       "          -1.44641427e-02,  5.69746445e-01, -2.62471530e-01,\n",
       "           3.08333607e-02],\n",
       "         [ 1.80810129e-01, -1.63856075e-01, -1.47023404e-01,\n",
       "          -5.03616630e-02,  4.00012782e-01, -1.52740696e-01,\n",
       "           6.74304884e-01,  3.59383799e-01,  5.39132489e-02,\n",
       "           6.80177307e-02,  8.84719732e-02, -3.31161377e-01,\n",
       "          -3.23912971e-01,  1.57037634e-02,  4.37188600e-01,\n",
       "          -1.02239181e-01,  4.65444209e-01, -2.11107994e-01,\n",
       "           7.25310816e-02,  1.72982558e-01, -7.95620679e-02,\n",
       "          -6.12647560e-01, -4.01194998e-01,  4.01925649e-01,\n",
       "          -6.57245993e-01, -7.57920822e-02,  1.94778731e-01,\n",
       "          -7.84554260e-02, -2.18238873e-01,  9.79253983e-02,\n",
       "          -7.90233010e-02, -2.31863814e-01,  4.44735364e-01,\n",
       "           3.16362974e-01, -2.27674515e-01, -1.78792953e-01,\n",
       "           7.62344353e-02,  1.16032344e-01, -6.14733486e-02,\n",
       "           2.17730349e-01, -3.52828193e-01,  6.55336514e-02,\n",
       "           5.02662837e-01,  5.92782137e-01, -2.06111285e-01,\n",
       "          -7.42967592e-02, -1.63584341e-01, -5.04023517e-01,\n",
       "          -1.07808740e-01,  1.01075160e-01, -4.08531541e-01,\n",
       "          -5.10360708e-01,  3.43341626e-01, -1.51111574e-01,\n",
       "           8.36301246e-02, -4.04798311e-02, -2.14949594e-01,\n",
       "          -2.74621417e-02, -2.15943772e-01, -2.97721959e-01,\n",
       "          -2.68275952e-01,  4.51026088e-04, -1.34463651e-01,\n",
       "           3.23781057e-01, -5.71448717e-01,  3.92807060e-01,\n",
       "           1.57208255e-01,  6.98520102e-01, -1.44962227e-01,\n",
       "           1.23964206e-01, -1.58622172e-01, -3.89773028e-01,\n",
       "           6.77893219e-01, -3.61975401e-01,  2.50741710e-01,\n",
       "           1.32748513e-01, -7.30030813e-03,  7.81761452e-02,\n",
       "           3.24747261e-01,  7.01281810e-02, -2.47429036e-01,\n",
       "           8.31526558e-02, -1.37969763e-01,  2.47075755e-01,\n",
       "           7.33442943e-02,  3.82312349e-01, -3.22661387e-01,\n",
       "           1.92352506e-01,  2.74590546e-02, -1.35338072e-01,\n",
       "           1.54812227e-01, -6.56682832e-02,  3.51672744e-01,\n",
       "          -2.35892612e-01,  4.55238753e-02, -2.81971924e-01,\n",
       "          -2.03852648e-01, -2.77874352e-01, -5.11466883e-01,\n",
       "           5.81488262e-01],\n",
       "         [ 4.93538479e-01, -3.90991572e-01,  2.64913252e-01,\n",
       "          -3.37584782e-03, -2.43715323e-01, -6.87576397e-03,\n",
       "           1.67414240e-01,  5.82998557e-02, -2.93202139e-01,\n",
       "           2.02161083e-01, -2.21262690e-01,  6.74980825e-02,\n",
       "          -5.42611976e-03,  7.98999128e-02, -1.66377698e-01,\n",
       "           2.53813624e-01, -2.23338969e-01,  3.88188736e-01,\n",
       "           2.58837352e-02, -2.03971294e-01,  2.10170867e-02,\n",
       "           1.73614178e-01,  9.91335502e-02, -2.28581274e-01,\n",
       "          -6.03232800e-02, -1.76619704e-02,  3.39863973e-01,\n",
       "          -4.91683595e-02, -6.07438835e-02,  6.27421028e-01,\n",
       "          -1.77969439e-01, -3.58507817e-02,  4.29864422e-02,\n",
       "           1.10424047e-01, -2.66335305e-01, -2.41062017e-02,\n",
       "           3.02696106e-01, -4.64055824e-01, -3.52122808e-01,\n",
       "          -1.03150162e-01, -6.50780780e-02, -1.45236938e-01,\n",
       "          -3.97470003e-01, -6.72089069e-01,  1.06462207e-01,\n",
       "          -3.61166754e-01,  1.07429380e-01, -7.20705781e-02,\n",
       "           1.13408585e-01,  2.30034832e-01, -2.77287133e-01,\n",
       "          -2.88999639e-01, -1.23618678e-01,  2.68826770e-01,\n",
       "           2.14410101e-01, -4.28436489e-01, -6.31960090e-01,\n",
       "          -2.69259640e-01,  1.44542880e-01,  2.54511201e-01,\n",
       "           4.11723091e-01, -4.64238743e-02, -1.08547608e-01,\n",
       "          -4.79048019e-01, -6.53698808e-02,  1.76227445e-01,\n",
       "           8.84684852e-02,  4.92703220e-02,  2.47361312e-01,\n",
       "           3.71724970e-01,  1.51939913e-01, -5.63437523e-01,\n",
       "          -9.28086629e-03, -5.61437697e-01, -7.58945769e-02,\n",
       "           3.80171362e-01, -2.47061027e-01,  3.21073777e-02,\n",
       "          -7.63211722e-02,  8.72617952e-02,  4.42853485e-02,\n",
       "          -1.16948740e-01, -4.63603623e-01,  1.29202469e-01,\n",
       "           7.20595010e-02, -4.49817568e-01,  4.87637486e-01,\n",
       "          -1.92261384e-01,  2.31759867e-01,  2.99632749e-01,\n",
       "           3.32753708e-01,  7.96526475e-03,  2.08971781e-01,\n",
       "           7.27824220e-02, -3.28117220e-01,  5.09175544e-01,\n",
       "          -1.76912897e-01,  1.83678977e-01,  6.01037165e-01,\n",
       "           2.99998943e-01],\n",
       "         [-2.06362381e-01, -1.38310871e-01, -6.15406614e-01,\n",
       "          -6.58902824e-02,  3.32077156e-01, -1.12286088e-01,\n",
       "           4.32351074e-01, -1.03514952e-01, -3.29817817e-01,\n",
       "          -1.49180371e-03, -1.70983583e-01,  3.61790268e-01,\n",
       "           3.08397354e-01,  5.75132785e-01, -1.53852780e-01,\n",
       "          -3.20194879e-01,  1.46486438e-03,  2.02547939e-01,\n",
       "           1.98396733e-02, -1.95409768e-02, -2.93258940e-01,\n",
       "           5.70136288e-01, -4.24565360e-01, -3.43898963e-01,\n",
       "           3.18827266e-01, -3.64930943e-01, -2.75624390e-01,\n",
       "           5.45187238e-01, -8.63344382e-03,  8.58879519e-01,\n",
       "          -4.47364769e-01, -2.26376315e-01,  5.83045658e-01,\n",
       "          -1.76586244e-01,  9.89332413e-02, -5.10247496e-01,\n",
       "           1.72492909e-01,  2.29245499e-01,  4.37151420e-01,\n",
       "          -1.53377811e-01, -4.11286022e-01,  3.14734430e-01,\n",
       "          -2.16833573e-01,  1.95568796e-01,  2.27460268e-02,\n",
       "          -1.62952615e-01,  7.06483857e-01, -5.18406137e-01,\n",
       "          -3.41982811e-01,  4.00060165e-01,  1.69503203e-01,\n",
       "          -1.10221012e-01,  1.53365162e-01,  5.59026004e-01,\n",
       "           2.01139319e-01,  5.56676822e-01, -2.62413920e-01,\n",
       "           6.54309751e-03, -1.78750061e-01, -3.52256860e-01,\n",
       "          -1.78137057e-01,  9.12925928e-02,  1.58517126e-02,\n",
       "          -5.97463770e-01, -2.49777041e-01, -4.83462440e-01,\n",
       "           3.07309399e-01,  1.85752615e-01, -3.49532761e-01,\n",
       "           1.75023018e-03,  2.22993676e-01, -5.13860738e-01,\n",
       "           2.85717450e-01, -2.17317910e-01,  2.04362094e-01,\n",
       "           1.93151601e-01,  6.26447108e-01,  1.38631851e-01,\n",
       "           1.76492652e-01, -3.08816536e-02, -1.40579374e-01,\n",
       "          -3.45880024e-01, -1.98446758e-01, -7.66890654e-02,\n",
       "          -1.34967413e-01,  4.03276327e-01, -1.98701339e-01,\n",
       "          -5.93113223e-01, -2.06142145e-01, -3.38556226e-01,\n",
       "           2.68021091e-01,  3.74175804e-01, -3.74727765e-01,\n",
       "           7.28299468e-01,  2.33696839e-01,  7.30429907e-01,\n",
       "           7.21159113e-01,  3.00937846e-01, -2.09465535e-01,\n",
       "          -2.88381413e-01]]),\n",
       "  array([0., 0., 0., 0., 0., 0., 0., 0., 0., 0., 0., 0., 0., 0., 0., 0., 0.,\n",
       "         0., 0., 0., 0., 0., 0., 0., 0., 0., 0., 0., 0., 0., 0., 0., 0., 0.,\n",
       "         0., 0., 0., 0., 0., 0., 0., 0., 0., 0., 0., 0., 0., 0., 0., 0., 0.,\n",
       "         0., 0., 0., 0., 0., 0., 0., 0., 0., 0., 0., 0., 0., 0., 0., 0., 0.,\n",
       "         0., 0., 0., 0., 0., 0., 0., 0., 0., 0., 0., 0., 0., 0., 0., 0., 0.,\n",
       "         0., 0., 0., 0., 0., 0., 0., 0., 0., 0., 0., 0., 0., 0., 0.]),\n",
       "  __main__.ReLU]]"
      ]
     },
     "execution_count": 28,
     "metadata": {},
     "output_type": "execute_result"
    }
   ],
   "source": [
    "model.layers"
   ]
  },
  {
   "cell_type": "code",
   "execution_count": 29,
   "id": "89352b16-49a3-4638-86f6-b0a46d2a075d",
   "metadata": {
    "tags": []
   },
   "outputs": [],
   "source": [
    "model.add(100,activation='sigmoid')"
   ]
  },
  {
   "cell_type": "code",
   "execution_count": 30,
   "id": "21bd76f9-eec5-450d-b525-292092558c43",
   "metadata": {
    "tags": []
   },
   "outputs": [
    {
     "data": {
      "text/plain": [
       "'Building Success'"
      ]
     },
     "execution_count": 30,
     "metadata": {},
     "output_type": "execute_result"
    }
   ],
   "source": [
    "model._build()"
   ]
  },
  {
   "cell_type": "code",
   "execution_count": 31,
   "id": "1df85f9f-d208-4fae-a824-9d3b767a7bfb",
   "metadata": {
    "tags": []
   },
   "outputs": [],
   "source": [
    "pred = model.predict(np.random.randn(7,10))"
   ]
  },
  {
   "cell_type": "code",
   "execution_count": 32,
   "id": "118de6a7-9305-4f56-94d8-4798d01659fc",
   "metadata": {
    "collapsed": true,
    "jupyter": {
     "outputs_hidden": true
    },
    "tags": []
   },
   "outputs": [
    {
     "data": {
      "text/plain": [
       "array([[0.73049957, 0.16341549, 0.50654328, 0.40525037, 0.34481578,\n",
       "        0.84578022, 0.41855464, 0.13249411, 0.57199338, 0.61770154,\n",
       "        0.40424116, 0.46669295, 0.76221877, 0.18708185, 0.6097706 ,\n",
       "        0.52368872, 0.76696755, 0.82149788, 0.34978473, 0.34515573,\n",
       "        0.40828458, 0.32450809, 0.22278262, 0.54270063, 0.47870081,\n",
       "        0.59522262, 0.4970827 , 0.25410594, 0.31836832, 0.63396725,\n",
       "        0.48740491, 0.54839821, 0.39721383, 0.44010129, 0.85091344,\n",
       "        0.36224966, 0.67748696, 0.35609943, 0.35797526, 0.50954061,\n",
       "        0.47477109, 0.49288131, 0.69499997, 0.60449717, 0.18881549,\n",
       "        0.77530227, 0.54272287, 0.15799033, 0.71688572, 0.25351606,\n",
       "        0.37390201, 0.70652019, 0.52240657, 0.6980654 , 0.61820959,\n",
       "        0.18571401, 0.63945103, 0.65271188, 0.60585424, 0.25746357,\n",
       "        0.45834523, 0.6799044 , 0.66711033, 0.22615048, 0.49752661,\n",
       "        0.30180908, 0.60253233, 0.51479213, 0.35923112, 0.81790727,\n",
       "        0.393468  , 0.35837807, 0.39584893, 0.7831703 , 0.81252688,\n",
       "        0.55758414, 0.40580164, 0.61243872, 0.6191648 , 0.1975734 ,\n",
       "        0.80584576, 0.6424598 , 0.64780056, 0.70248536, 0.41571535,\n",
       "        0.53244195, 0.4755699 , 0.3668314 , 0.54401095, 0.47526004,\n",
       "        0.60041026, 0.41057778, 0.58246957, 0.35011018, 0.34488749,\n",
       "        0.66850206, 0.27576223, 0.49663885, 0.85793287, 0.38667161],\n",
       "       [0.46045957, 0.40463822, 0.6073441 , 0.43618737, 0.66007156,\n",
       "        0.65115756, 0.123412  , 0.38441083, 0.75581473, 0.63424761,\n",
       "        0.3782336 , 0.66647474, 0.77566667, 0.38833063, 0.60186322,\n",
       "        0.63730104, 0.48257861, 0.82139122, 0.29862489, 0.34406395,\n",
       "        0.521846  , 0.35518724, 0.39299242, 0.1465423 , 0.5884181 ,\n",
       "        0.66392811, 0.5969183 , 0.3515063 , 0.18745197, 0.52422672,\n",
       "        0.72602673, 0.53348244, 0.50437527, 0.60439845, 0.41844045,\n",
       "        0.61928379, 0.78591205, 0.22124859, 0.4496655 , 0.46395604,\n",
       "        0.41843119, 0.47707252, 0.37604349, 0.31354644, 0.24212091,\n",
       "        0.45020133, 0.4232269 , 0.30897015, 0.29033616, 0.19081846,\n",
       "        0.28211281, 0.55213204, 0.38589696, 0.62142495, 0.37652254,\n",
       "        0.37371894, 0.66827656, 0.75017575, 0.37881844, 0.39194975,\n",
       "        0.37114294, 0.66369993, 0.55794633, 0.33055598, 0.35024535,\n",
       "        0.33858138, 0.61533454, 0.54602926, 0.31190603, 0.60580029,\n",
       "        0.62594844, 0.59085296, 0.63086474, 0.64588016, 0.64064026,\n",
       "        0.30681881, 0.4603671 , 0.69542499, 0.83272409, 0.44884405,\n",
       "        0.69647807, 0.60432352, 0.76624061, 0.51467031, 0.28926898,\n",
       "        0.67460928, 0.32888734, 0.41297028, 0.36378712, 0.56379431,\n",
       "        0.59924863, 0.45768329, 0.50107372, 0.69499018, 0.59772595,\n",
       "        0.54881263, 0.52777185, 0.46065356, 0.82809916, 0.39444061],\n",
       "       [0.43181667, 0.40849662, 0.64661948, 0.50983845, 0.40013827,\n",
       "        0.50597887, 0.32510425, 0.31699132, 0.74248911, 0.54702669,\n",
       "        0.42660581, 0.4515392 , 0.74067351, 0.39412754, 0.52714343,\n",
       "        0.56961232, 0.56749223, 0.78309435, 0.24681236, 0.37434898,\n",
       "        0.48420099, 0.46018081, 0.40634834, 0.56408475, 0.46798986,\n",
       "        0.58184884, 0.6364021 , 0.60948385, 0.47619809, 0.38691597,\n",
       "        0.50795404, 0.73717627, 0.46176603, 0.5215328 , 0.70659355,\n",
       "        0.49451933, 0.55898375, 0.34157018, 0.49632912, 0.73324731,\n",
       "        0.68285502, 0.58995996, 0.48837442, 0.41878607, 0.21087316,\n",
       "        0.53052566, 0.34346343, 0.19666712, 0.77509632, 0.40119294,\n",
       "        0.38152031, 0.65065727, 0.44487495, 0.5367447 , 0.45062318,\n",
       "        0.21484894, 0.7225703 , 0.44215987, 0.37584522, 0.33476405,\n",
       "        0.33386292, 0.52593768, 0.6953436 , 0.4972958 , 0.49686352,\n",
       "        0.44473464, 0.6784141 , 0.6206139 , 0.38847598, 0.82150373,\n",
       "        0.36223463, 0.38891289, 0.36432185, 0.7219951 , 0.7104087 ,\n",
       "        0.64972838, 0.43510157, 0.55993137, 0.6145715 , 0.34852953,\n",
       "        0.48540301, 0.77821429, 0.60239803, 0.59431009, 0.30592416,\n",
       "        0.58949411, 0.53054479, 0.40848255, 0.41889523, 0.45623157,\n",
       "        0.58430141, 0.70456473, 0.39623287, 0.54133187, 0.72897436,\n",
       "        0.62139137, 0.3328208 , 0.44491204, 0.69359472, 0.47095207],\n",
       "       [0.54215194, 0.39464724, 0.55223345, 0.39979413, 0.50082429,\n",
       "        0.68841781, 0.29690563, 0.62081663, 0.21325809, 0.52680902,\n",
       "        0.38033085, 0.61056093, 0.60367161, 0.55462178, 0.65777901,\n",
       "        0.40643429, 0.76148437, 0.77074466, 0.39072636, 0.37621511,\n",
       "        0.38372021, 0.39699583, 0.4328072 , 0.52988178, 0.35024994,\n",
       "        0.49831211, 0.69198855, 0.40844928, 0.36741016, 0.45549188,\n",
       "        0.58653676, 0.4795589 , 0.74543086, 0.71144008, 0.77847653,\n",
       "        0.41326534, 0.66898296, 0.50534245, 0.34969431, 0.35529669,\n",
       "        0.53267259, 0.23844932, 0.41920286, 0.39432203, 0.2622733 ,\n",
       "        0.41219051, 0.43636408, 0.31646877, 0.42037926, 0.56171538,\n",
       "        0.35284083, 0.50063194, 0.26615602, 0.74517764, 0.3788161 ,\n",
       "        0.15553543, 0.75579179, 0.56686845, 0.52641101, 0.57603341,\n",
       "        0.42807774, 0.41884302, 0.44605041, 0.37299949, 0.46841652,\n",
       "        0.52415289, 0.59179029, 0.66741883, 0.52283567, 0.56705002,\n",
       "        0.47547552, 0.30216189, 0.60381938, 0.61721626, 0.60943736,\n",
       "        0.50192062, 0.46794207, 0.78585907, 0.66326482, 0.28725147,\n",
       "        0.66961765, 0.75471752, 0.62815968, 0.74870441, 0.33634857,\n",
       "        0.57680578, 0.39629332, 0.54738288, 0.43794671, 0.55954179,\n",
       "        0.43768916, 0.44781152, 0.60242332, 0.32406115, 0.54047742,\n",
       "        0.67460357, 0.46859356, 0.30260458, 0.87862519, 0.62660786],\n",
       "       [0.50944098, 0.85217915, 0.61393327, 0.48384733, 0.5346317 ,\n",
       "        0.30290235, 0.65140143, 0.81425482, 0.52554077, 0.72630974,\n",
       "        0.5646349 , 0.08092296, 0.47095843, 0.33998517, 0.38303943,\n",
       "        0.44474623, 0.52490215, 0.6972005 , 0.24211766, 0.36544262,\n",
       "        0.49062755, 0.46641851, 0.58921809, 0.5327155 , 0.08833582,\n",
       "        0.64236321, 0.70331983, 0.29955208, 0.48485949, 0.70773074,\n",
       "        0.48853548, 0.6934238 , 0.76628211, 0.583202  , 0.77327856,\n",
       "        0.3611345 , 0.56431606, 0.65178667, 0.28538448, 0.22388677,\n",
       "        0.29580971, 0.09592707, 0.53058483, 0.32126042, 0.39991207,\n",
       "        0.1626057 , 0.47642495, 0.336358  , 0.71853623, 0.65286855,\n",
       "        0.65950589, 0.33968447, 0.52953921, 0.82596978, 0.21023039,\n",
       "        0.09077738, 0.86749051, 0.45436704, 0.38168024, 0.69763395,\n",
       "        0.7973037 , 0.3973792 , 0.45477743, 0.33821063, 0.38711167,\n",
       "        0.35199876, 0.61941896, 0.61789974, 0.69929746, 0.19663277,\n",
       "        0.73010469, 0.41141406, 0.57012329, 0.41181569, 0.4904714 ,\n",
       "        0.4025261 , 0.35830886, 0.83370984, 0.75774962, 0.33761802,\n",
       "        0.59632212, 0.91799158, 0.52665124, 0.53209719, 0.7534094 ,\n",
       "        0.37256441, 0.88424557, 0.44569096, 0.64906856, 0.14314128,\n",
       "        0.63904033, 0.4037122 , 0.51467226, 0.65984551, 0.48967825,\n",
       "        0.27837276, 0.5894863 , 0.3993436 , 0.69323681, 0.74095862],\n",
       "       [0.54383206, 0.44752339, 0.48985138, 0.24702843, 0.30669734,\n",
       "        0.48377412, 0.38926646, 0.25133   , 0.59647902, 0.56069518,\n",
       "        0.38605605, 0.45256761, 0.65497931, 0.43722187, 0.57198154,\n",
       "        0.62235174, 0.62335167, 0.78372587, 0.31733112, 0.43685379,\n",
       "        0.34629993, 0.3625297 , 0.46932366, 0.71983808, 0.37666411,\n",
       "        0.50727985, 0.5271025 , 0.4217806 , 0.57892627, 0.43096245,\n",
       "        0.50959125, 0.81965484, 0.41448528, 0.42435836, 0.81075848,\n",
       "        0.47125406, 0.38555613, 0.45399368, 0.47658861, 0.48361116,\n",
       "        0.601746  , 0.47049859, 0.38223608, 0.37850781, 0.26572177,\n",
       "        0.47880067, 0.28014606, 0.14976109, 0.81009777, 0.44755021,\n",
       "        0.46445265, 0.48652691, 0.5182881 , 0.75122186, 0.53659622,\n",
       "        0.0892042 , 0.80387743, 0.3714084 , 0.5554235 , 0.49715117,\n",
       "        0.29595041, 0.60447771, 0.69122278, 0.33574209, 0.47351639,\n",
       "        0.34887493, 0.59726518, 0.520116  , 0.45578599, 0.77927079,\n",
       "        0.32821332, 0.39588601, 0.42514782, 0.72888457, 0.72179321,\n",
       "        0.68358216, 0.39887654, 0.56638615, 0.48762771, 0.40736434,\n",
       "        0.59418293, 0.79285935, 0.5627784 , 0.60569696, 0.5314358 ,\n",
       "        0.58073109, 0.44128294, 0.39731708, 0.28904376, 0.3727047 ,\n",
       "        0.57254069, 0.64547054, 0.50149277, 0.34751599, 0.61430718,\n",
       "        0.53335634, 0.47580439, 0.45536807, 0.7196853 , 0.4129221 ],\n",
       "       [0.65038633, 0.38625812, 0.46460825, 0.47704166, 0.38096058,\n",
       "        0.81688466, 0.16349462, 0.66492984, 0.48873152, 0.85215243,\n",
       "        0.5850204 , 0.54430229, 0.77861321, 0.69432741, 0.80871603,\n",
       "        0.34357698, 0.77186042, 0.8884311 , 0.35295466, 0.52346148,\n",
       "        0.5065066 , 0.60871403, 0.76929439, 0.3560013 , 0.67368654,\n",
       "        0.65794629, 0.72372293, 0.63829502, 0.23986549, 0.65042375,\n",
       "        0.39613823, 0.85892336, 0.82056608, 0.52520223, 0.6214939 ,\n",
       "        0.69151758, 0.29024671, 0.55556975, 0.50625521, 0.48011242,\n",
       "        0.40966136, 0.4213659 , 0.56573446, 0.30200445, 0.4871043 ,\n",
       "        0.2207055 , 0.4978248 , 0.26726588, 0.45231555, 0.70361554,\n",
       "        0.22562879, 0.45156269, 0.39663425, 0.83264751, 0.07505522,\n",
       "        0.08338436, 0.63578125, 0.66660493, 0.59181925, 0.40487034,\n",
       "        0.6053547 , 0.32747285, 0.5968927 , 0.19271485, 0.84155871,\n",
       "        0.30965822, 0.74918696, 0.44542743, 0.49921592, 0.76196061,\n",
       "        0.58833387, 0.56308223, 0.83193516, 0.81169703, 0.56091373,\n",
       "        0.44759946, 0.4162338 , 0.76436472, 0.72023525, 0.56408386,\n",
       "        0.65458441, 0.7353474 , 0.45193415, 0.67257308, 0.20590868,\n",
       "        0.43787309, 0.32109811, 0.50273934, 0.24726224, 0.40160335,\n",
       "        0.55255908, 0.63561919, 0.28176232, 0.46353244, 0.23003235,\n",
       "        0.29851931, 0.21884051, 0.29857972, 0.85449381, 0.44123671]])"
      ]
     },
     "execution_count": 32,
     "metadata": {},
     "output_type": "execute_result"
    }
   ],
   "source": [
    "model.y_hat"
   ]
  },
  {
   "cell_type": "code",
   "execution_count": 33,
   "id": "62544cc5-c558-4561-b5a9-2e2d8faa1fd9",
   "metadata": {
    "tags": []
   },
   "outputs": [
    {
     "name": "stdout",
     "output_type": "stream",
     "text": [
      "WARNING:tensorflow:From C:\\Users\\user\\anaconda3\\Lib\\site-packages\\keras\\src\\losses.py:2976: The name tf.losses.sparse_softmax_cross_entropy is deprecated. Please use tf.compat.v1.losses.sparse_softmax_cross_entropy instead.\n",
      "\n"
     ]
    }
   ],
   "source": [
    "# 원핫 만들기\n",
    "from tensorflow.keras.utils import to_categorical"
   ]
  },
  {
   "cell_type": "code",
   "execution_count": 34,
   "id": "2cc52f7e-3e6f-408b-9730-2077a91851b2",
   "metadata": {
    "tags": []
   },
   "outputs": [],
   "source": [
    "model = Net(10)"
   ]
  },
  {
   "cell_type": "code",
   "execution_count": 35,
   "id": "b33eb127-8cd0-4636-8e07-1c3183159674",
   "metadata": {
    "tags": []
   },
   "outputs": [],
   "source": [
    "model.add(256,activation='relu')\n",
    "model.add(128,activation='relu')\n",
    "model.add(10,activation='softmax')"
   ]
  },
  {
   "cell_type": "code",
   "execution_count": 36,
   "id": "8040a38f-9c39-403f-9ee2-468432b3617c",
   "metadata": {
    "tags": []
   },
   "outputs": [],
   "source": [
    "model.compile(lr = 1e-3, loss = 'categorical_crossentropy', metrics = 'accuracy' )"
   ]
  },
  {
   "cell_type": "code",
   "execution_count": 37,
   "id": "1a6885ce-7f91-4d79-9d33-e328919f8e90",
   "metadata": {
    "tags": []
   },
   "outputs": [
    {
     "name": "stdout",
     "output_type": "stream",
     "text": [
      "----------------------------------------------\n",
      "                Output Shape           Param #\n",
      "==============================================\n",
      "Affine_1        (None, 256)              2816\n",
      "Affine_2        (None, 128)             32896\n",
      "Affine_3        (None, 10)               1290\n",
      "==============================================\n",
      "total params: 37002\n"
     ]
    }
   ],
   "source": [
    "model.summary()"
   ]
  },
  {
   "cell_type": "code",
   "execution_count": 38,
   "id": "3c347ab5-e04d-4e98-95f4-bfa454f5ed2d",
   "metadata": {
    "collapsed": true,
    "jupyter": {
     "outputs_hidden": true
    },
    "tags": []
   },
   "outputs": [
    {
     "data": {
      "text/plain": [
       "{'W1': array([[-1.34193682e-03,  7.59391097e-04,  3.47702312e-03, ...,\n",
       "         -6.83087407e-03, -7.45020701e-04,  1.08605701e-03],\n",
       "        [ 9.18640906e-04,  2.47119424e-03,  4.36488382e-03, ...,\n",
       "         -4.39214559e-03,  1.34641295e-03, -1.81140785e-03],\n",
       "        [ 3.11159711e-03, -4.07543822e-04, -1.12067664e-03, ...,\n",
       "          4.44895269e-03,  3.31659912e-03, -1.82863302e-03],\n",
       "        ...,\n",
       "        [ 7.18960176e-05,  2.01629923e-03,  3.61433508e-03, ...,\n",
       "          1.46968868e-03, -4.82622443e-04, -3.00673977e-03],\n",
       "        [-1.14838157e-04,  8.42889798e-04, -1.73846760e-03, ...,\n",
       "         -3.76582888e-03, -4.55242276e-05,  5.55977133e-03],\n",
       "        [-1.55810624e-03, -7.74986680e-04, -6.74553225e-04, ...,\n",
       "          2.83970779e-03,  3.35312822e-03, -3.45224167e-03]]),\n",
       " 'b1': array([ 3.23517239e-03, -3.46989716e-03, -9.07431109e-03, -3.22436084e-03,\n",
       "        -5.33223269e-03,  3.58216703e-03,  1.51999581e-03, -8.70989330e-03,\n",
       "         7.46858680e-03,  1.43171641e-02,  9.63329603e-03, -3.72814013e-03,\n",
       "         6.21369743e-04,  1.05692308e-03, -8.31682916e-03,  2.44608756e-03,\n",
       "         2.40711243e-03, -1.79973518e-03,  9.35478692e-03,  5.59366629e-03,\n",
       "        -2.38600190e-03, -7.59698827e-03,  6.21880588e-03, -1.52632214e-03,\n",
       "         1.22411806e-02,  7.50650807e-03, -6.17064743e-03, -8.11149060e-03,\n",
       "        -8.87175052e-03,  1.47953461e-02,  2.92269476e-03, -5.78153354e-04,\n",
       "         5.21829195e-03,  3.21762982e-03,  2.87069852e-03, -1.91606418e-02,\n",
       "         2.07581775e-02,  2.99504568e-03, -1.19465426e-02,  1.11992377e-02,\n",
       "         7.94286973e-03, -2.39141016e-03,  8.48232476e-03,  2.86669807e-03,\n",
       "        -4.71181975e-03,  5.75220230e-03, -4.34972978e-03,  2.04087233e-04,\n",
       "        -2.32656060e-03,  9.63027102e-04, -3.32851718e-03,  1.31265302e-03,\n",
       "         8.04490842e-03,  9.10505513e-03, -4.46164771e-03, -2.13616065e-03,\n",
       "         8.18243383e-05, -1.05356475e-03, -1.54770992e-03, -3.76136482e-03,\n",
       "        -1.77546352e-03,  1.09372552e-02,  4.13776059e-03, -6.97301976e-04,\n",
       "         8.42783342e-03,  6.34389441e-03,  2.31812884e-03, -4.68433713e-03,\n",
       "         4.34004063e-03, -6.29894282e-03, -7.69291170e-03,  2.49916971e-03,\n",
       "        -2.84875604e-03,  2.83122876e-03, -7.32097846e-04,  2.78048342e-03,\n",
       "         4.60944987e-04, -1.16861982e-02,  3.68418822e-03, -5.24993837e-03,\n",
       "        -5.52271376e-03, -6.45818098e-03,  4.55656473e-03,  4.27017428e-03,\n",
       "         1.79192467e-03,  5.70534423e-03, -8.52466410e-03, -8.04734025e-03,\n",
       "        -6.37444045e-03, -7.51268871e-03,  2.64187829e-03,  5.28324524e-03,\n",
       "         4.27151908e-03,  6.61082003e-03, -3.61089046e-03, -7.42240310e-03,\n",
       "         4.41951639e-04, -2.75531663e-03, -8.32880568e-03,  1.18943859e-02,\n",
       "        -6.14446594e-03,  7.34294894e-03,  7.29748892e-03,  1.02915560e-02,\n",
       "         3.86764698e-03,  1.22960973e-03, -5.20137486e-04, -1.13401731e-02,\n",
       "         4.66223338e-03,  1.98312454e-03,  1.16446844e-02,  6.60942646e-03,\n",
       "        -2.18087543e-03,  4.56739554e-03, -5.59376936e-03,  1.70101725e-03,\n",
       "        -1.39450171e-03, -3.24164863e-03,  4.87356811e-03, -8.03327570e-03,\n",
       "        -1.42250842e-04,  4.02550281e-03,  3.29436953e-03,  4.62371001e-03,\n",
       "        -5.96917995e-03, -4.17461587e-03, -3.58919210e-03, -4.34990499e-03,\n",
       "         5.21396589e-03, -6.34694854e-03, -4.24903048e-04,  3.53469182e-04,\n",
       "         2.24393359e-03,  4.63415582e-03, -9.83888182e-03, -1.37860322e-02,\n",
       "         3.69628117e-03,  1.05928311e-02, -7.00411212e-03,  4.33217214e-03,\n",
       "        -1.23351248e-03,  1.78720681e-03, -6.00992493e-03, -4.55358277e-03,\n",
       "         6.62669089e-03, -3.05224674e-03,  1.34924922e-02,  2.70053843e-03,\n",
       "         1.94343433e-03,  1.60865381e-03,  5.41656310e-03, -2.68130622e-03,\n",
       "         6.33580549e-03, -5.19010045e-03,  3.41806319e-04,  7.73517224e-03,\n",
       "        -1.22639840e-03,  7.22898330e-04,  7.65072976e-03,  8.09655565e-03,\n",
       "        -4.81266761e-03, -4.71847082e-03,  2.38293538e-03, -4.62192183e-03,\n",
       "         1.75881237e-02,  5.41042130e-03,  1.27579452e-02, -1.31555469e-02,\n",
       "        -3.75365370e-03, -2.70383930e-03,  3.22034631e-03, -4.10595143e-03,\n",
       "        -9.20720193e-03, -4.16198280e-03,  4.85539335e-03, -2.66512525e-03,\n",
       "        -2.13988244e-03, -1.05126049e-02,  3.63958981e-03,  1.64477769e-02,\n",
       "         1.36956274e-03, -1.10902854e-04, -5.30071865e-03,  1.87244921e-02,\n",
       "         7.32850549e-03,  3.98245038e-03, -2.04760047e-03, -1.09524859e-02,\n",
       "        -8.56810669e-03, -6.54314421e-03,  4.53680196e-03, -3.36919291e-03,\n",
       "         1.34149504e-03, -3.87792922e-04,  5.46639236e-03, -2.82996320e-03,\n",
       "         8.22780507e-03, -4.20225861e-03,  5.77972184e-03, -1.75031460e-03,\n",
       "        -6.42453686e-03,  2.54106291e-03,  1.38029563e-02, -6.04120809e-03,\n",
       "        -9.54162989e-03,  4.84174684e-03,  1.11996327e-02,  9.21827786e-04,\n",
       "        -6.06812187e-04,  9.28234678e-03,  8.60728572e-03, -1.70273802e-04,\n",
       "        -1.28421355e-03, -4.92873334e-03, -3.29924506e-04, -1.05586686e-02,\n",
       "        -1.33439410e-03,  5.53362409e-03,  5.47525372e-03,  6.29320894e-03,\n",
       "        -3.21972798e-03, -8.64145903e-04,  9.48680266e-03,  6.87434997e-03,\n",
       "        -4.24473645e-04,  5.17523360e-03, -7.21709374e-03,  1.41616146e-02,\n",
       "         4.02365868e-03, -5.45370140e-03,  1.47088097e-03, -6.37261462e-03,\n",
       "         2.84754272e-03,  4.75534200e-03,  2.59312261e-03, -1.21779154e-02,\n",
       "         9.83811906e-03,  8.98697623e-03,  1.17073260e-03, -1.32226612e-03,\n",
       "        -8.36963546e-03, -8.53692435e-03, -7.61320787e-04, -7.01355383e-03,\n",
       "         7.68572504e-03,  9.88837133e-03, -1.25784608e-02, -5.12644905e-03,\n",
       "         5.80883361e-03, -1.72532913e-03,  4.38487849e-03,  3.39290891e-03,\n",
       "         9.26483567e-03,  1.19528587e-02,  1.23439963e-03, -1.08917140e-02]),\n",
       " 'W2': array([[ 2.55150037e-03,  4.44481794e-03, -5.19115476e-04, ...,\n",
       "          1.05180231e-03,  1.65802866e-04,  2.12934371e-03],\n",
       "        [ 5.44692092e-03,  1.43330805e-02, -1.09150684e-03, ...,\n",
       "          2.74144132e-03, -1.22387906e-04,  5.79940084e-03],\n",
       "        [ 5.79546575e-03,  1.53198711e-02, -3.33414541e-03, ...,\n",
       "          3.84438776e-03,  4.63299248e-05,  5.70669459e-03],\n",
       "        ...,\n",
       "        [ 8.50187116e-03,  8.66521183e-03, -2.99833389e-03, ...,\n",
       "          2.30839915e-03,  2.46402783e-04,  4.87388394e-03],\n",
       "        [ 7.83709181e-03,  1.31400207e-02, -1.30863700e-03, ...,\n",
       "          2.44528372e-03, -1.17654503e-05,  6.28232965e-03],\n",
       "        [ 8.69111900e-03,  6.92541948e-03, -3.35381345e-03, ...,\n",
       "          1.58604622e-03,  1.88010558e-04,  5.71132448e-03]]),\n",
       " 'b2': array([ 1.57338758e-02,  2.11997755e-02, -9.70715992e-03,  4.72017421e-02,\n",
       "         6.07318039e-03,  8.16820207e-03, -4.19192153e-03, -1.97069523e-02,\n",
       "        -4.76734534e-03,  4.32964365e-04, -2.59099992e-02, -2.41215438e-02,\n",
       "        -7.31576114e-03,  4.42287595e-03, -7.77214313e-05,  7.88667797e-03,\n",
       "         1.21090986e-02, -8.44694354e-03,  4.59421215e-02, -1.26672147e-02,\n",
       "        -4.52881276e-03,  3.95456432e-03, -1.45421146e-02,  1.52634333e-04,\n",
       "        -1.85280500e-02, -8.31649477e-04, -1.35392346e-02, -1.03347403e-02,\n",
       "        -6.37033603e-03, -7.56409363e-03, -4.07175986e-03,  2.75319344e-04,\n",
       "        -2.22173829e-02, -1.43811902e-03,  8.79557968e-03, -1.11302608e-02,\n",
       "         5.75347371e-03,  1.50360747e-03,  6.38369861e-03, -1.74687502e-02,\n",
       "        -1.18789638e-02,  1.64428653e-02,  9.48123420e-03,  5.54069801e-03,\n",
       "        -1.29803307e-02,  1.09027105e-02,  2.61148538e-02, -1.16583457e-02,\n",
       "        -9.94303230e-04,  6.10845280e-03, -6.82020318e-05, -4.08326971e-02,\n",
       "         1.88393768e-02,  1.97213910e-02, -2.46324017e-02,  1.74234653e-03,\n",
       "        -4.23436165e-03,  1.28504736e-02,  1.15556857e-02, -2.55922538e-03,\n",
       "        -5.43892226e-03,  2.05372404e-02,  3.33175875e-02,  1.87736726e-02,\n",
       "         3.36130026e-02,  4.54446394e-02, -1.71486960e-02,  7.78662830e-03,\n",
       "        -2.56382115e-02, -2.60518926e-02,  1.64455510e-02, -3.34794290e-02,\n",
       "        -2.56047224e-02, -6.96666872e-03, -9.48899523e-03, -1.10836021e-02,\n",
       "        -5.77661580e-03,  9.73125007e-03,  2.62739329e-02, -2.94135282e-02,\n",
       "        -1.23847891e-02, -1.66801424e-02, -5.28155167e-03, -1.81708264e-03,\n",
       "         2.85340889e-03,  2.10092642e-02, -1.12036095e-02,  2.10364396e-03,\n",
       "         1.04934288e-02, -2.10821372e-02,  2.74106182e-03,  2.25807878e-03,\n",
       "         4.95411613e-03,  1.62683607e-02,  6.82188707e-02,  2.41320659e-02,\n",
       "         4.43589267e-03,  5.76290250e-03,  1.69786986e-02,  1.73419991e-02,\n",
       "        -1.92981442e-02,  2.57729684e-02,  9.90191098e-03,  8.03463300e-03,\n",
       "         2.48703634e-02,  3.43758122e-02,  6.80321641e-03,  1.20586338e-04,\n",
       "        -8.46586505e-03,  5.83040106e-03, -1.01439917e-02, -1.82995709e-02,\n",
       "         8.40382771e-03,  2.28848169e-02,  3.96776230e-05, -2.38323110e-02,\n",
       "         2.14941094e-02, -1.47181063e-02,  1.06261065e-02, -3.23329896e-04,\n",
       "         3.18695718e-02, -8.95007919e-03,  1.10868043e-02,  2.32295298e-02,\n",
       "         2.35184901e-03,  4.53136191e-03, -1.65962697e-04,  1.46225625e-02]),\n",
       " 'W3': array([[0.02774664, 0.03868794, 0.0407429 , ..., 0.02996635, 0.02539339,\n",
       "         0.0542534 ],\n",
       "        [0.01175985, 0.01604064, 0.02053321, ..., 0.01161876, 0.01282966,\n",
       "         0.02613993],\n",
       "        [0.00384944, 0.00550402, 0.00488553, ..., 0.00338022, 0.00378711,\n",
       "         0.00743192],\n",
       "        ...,\n",
       "        [0.02889801, 0.04114887, 0.04033151, ..., 0.02422761, 0.0270351 ,\n",
       "         0.05450385],\n",
       "        [0.01166892, 0.01729603, 0.01605574, ..., 0.01242088, 0.00984887,\n",
       "         0.02020192],\n",
       "        [0.09172871, 0.12993292, 0.13718387, ..., 0.08867228, 0.09393294,\n",
       "         0.19736093]]),\n",
       " 'b3': array([0.07284814, 0.10270263, 0.10743127, 0.05320949, 0.09253876,\n",
       "        0.19682487, 0.08674927, 0.07243025, 0.07574826, 0.13951705])}"
      ]
     },
     "execution_count": 38,
     "metadata": {},
     "output_type": "execute_result"
    }
   ],
   "source": [
    "x = np.random.randn(1000,10)\n",
    "y = to_categorical(np.random.randint(0,10,1000))\n",
    "model.gradient(x,y)"
   ]
  },
  {
   "cell_type": "code",
   "execution_count": 39,
   "id": "97d4dee7-cb7f-4ce0-806e-b3eb0778289b",
   "metadata": {
    "tags": []
   },
   "outputs": [
    {
     "data": {
      "text/plain": [
       "128"
      ]
     },
     "execution_count": 39,
     "metadata": {},
     "output_type": "execute_result"
    }
   ],
   "source": [
    "model.W['Affine_2'].db.size"
   ]
  },
  {
   "cell_type": "code",
   "execution_count": 40,
   "id": "38efc027-0d20-4628-829f-1fb0e6e1f9ca",
   "metadata": {
    "tags": []
   },
   "outputs": [],
   "source": [
    "from tqdm import tqdm\n",
    "from time import time, sleep"
   ]
  },
  {
   "cell_type": "code",
   "execution_count": 41,
   "id": "0e18c73c-af70-4b53-b265-c6d34d5e8d57",
   "metadata": {
    "tags": []
   },
   "outputs": [
    {
     "name": "stderr",
     "output_type": "stream",
     "text": [
      "  5%|████▏                                                                              | 1/20 [00:01<00:19,  1.00s/it]"
     ]
    },
    {
     "name": "stdout",
     "output_type": "stream",
     "text": [
      "0\n"
     ]
    },
    {
     "name": "stderr",
     "output_type": "stream",
     "text": [
      " 10%|████████▎                                                                          | 2/20 [00:02<00:18,  1.00s/it]"
     ]
    },
    {
     "name": "stdout",
     "output_type": "stream",
     "text": [
      "1\n"
     ]
    },
    {
     "name": "stderr",
     "output_type": "stream",
     "text": [
      " 15%|████████████▍                                                                      | 3/20 [00:03<00:17,  1.00s/it]"
     ]
    },
    {
     "name": "stdout",
     "output_type": "stream",
     "text": [
      "2\n"
     ]
    },
    {
     "name": "stderr",
     "output_type": "stream",
     "text": [
      " 20%|████████████████▌                                                                  | 4/20 [00:04<00:16,  1.00s/it]"
     ]
    },
    {
     "name": "stdout",
     "output_type": "stream",
     "text": [
      "3\n"
     ]
    },
    {
     "name": "stderr",
     "output_type": "stream",
     "text": [
      " 25%|████████████████████▊                                                              | 5/20 [00:05<00:15,  1.00s/it]"
     ]
    },
    {
     "name": "stdout",
     "output_type": "stream",
     "text": [
      "4\n"
     ]
    },
    {
     "name": "stderr",
     "output_type": "stream",
     "text": [
      " 30%|████████████████████████▉                                                          | 6/20 [00:06<00:14,  1.00s/it]"
     ]
    },
    {
     "name": "stdout",
     "output_type": "stream",
     "text": [
      "5\n"
     ]
    },
    {
     "name": "stderr",
     "output_type": "stream",
     "text": [
      " 35%|█████████████████████████████                                                      | 7/20 [00:07<00:13,  1.00s/it]"
     ]
    },
    {
     "name": "stdout",
     "output_type": "stream",
     "text": [
      "6\n"
     ]
    },
    {
     "name": "stderr",
     "output_type": "stream",
     "text": [
      " 40%|█████████████████████████████████▏                                                 | 8/20 [00:08<00:12,  1.00s/it]"
     ]
    },
    {
     "name": "stdout",
     "output_type": "stream",
     "text": [
      "7\n"
     ]
    },
    {
     "name": "stderr",
     "output_type": "stream",
     "text": [
      " 45%|█████████████████████████████████████▎                                             | 9/20 [00:09<00:11,  1.00s/it]"
     ]
    },
    {
     "name": "stdout",
     "output_type": "stream",
     "text": [
      "8\n"
     ]
    },
    {
     "name": "stderr",
     "output_type": "stream",
     "text": [
      " 50%|█████████████████████████████████████████                                         | 10/20 [00:10<00:10,  1.00s/it]"
     ]
    },
    {
     "name": "stdout",
     "output_type": "stream",
     "text": [
      "9\n"
     ]
    },
    {
     "name": "stderr",
     "output_type": "stream",
     "text": [
      " 55%|█████████████████████████████████████████████                                     | 11/20 [00:11<00:09,  1.00s/it]"
     ]
    },
    {
     "name": "stdout",
     "output_type": "stream",
     "text": [
      "10\n"
     ]
    },
    {
     "name": "stderr",
     "output_type": "stream",
     "text": [
      " 60%|█████████████████████████████████████████████████▏                                | 12/20 [00:12<00:08,  1.00s/it]"
     ]
    },
    {
     "name": "stdout",
     "output_type": "stream",
     "text": [
      "11\n"
     ]
    },
    {
     "name": "stderr",
     "output_type": "stream",
     "text": [
      " 65%|█████████████████████████████████████████████████████▎                            | 13/20 [00:13<00:07,  1.00s/it]"
     ]
    },
    {
     "name": "stdout",
     "output_type": "stream",
     "text": [
      "12\n"
     ]
    },
    {
     "name": "stderr",
     "output_type": "stream",
     "text": [
      " 70%|█████████████████████████████████████████████████████████▍                        | 14/20 [00:14<00:06,  1.00s/it]"
     ]
    },
    {
     "name": "stdout",
     "output_type": "stream",
     "text": [
      "13\n"
     ]
    },
    {
     "name": "stderr",
     "output_type": "stream",
     "text": [
      " 75%|█████████████████████████████████████████████████████████████▌                    | 15/20 [00:15<00:05,  1.00s/it]"
     ]
    },
    {
     "name": "stdout",
     "output_type": "stream",
     "text": [
      "14\n"
     ]
    },
    {
     "name": "stderr",
     "output_type": "stream",
     "text": [
      " 80%|█████████████████████████████████████████████████████████████████▌                | 16/20 [00:16<00:04,  1.00s/it]"
     ]
    },
    {
     "name": "stdout",
     "output_type": "stream",
     "text": [
      "15\n"
     ]
    },
    {
     "name": "stderr",
     "output_type": "stream",
     "text": [
      " 85%|█████████████████████████████████████████████████████████████████████▋            | 17/20 [00:17<00:03,  1.00s/it]"
     ]
    },
    {
     "name": "stdout",
     "output_type": "stream",
     "text": [
      "16\n"
     ]
    },
    {
     "name": "stderr",
     "output_type": "stream",
     "text": [
      " 90%|█████████████████████████████████████████████████████████████████████████▊        | 18/20 [00:18<00:02,  1.00s/it]"
     ]
    },
    {
     "name": "stdout",
     "output_type": "stream",
     "text": [
      "17\n"
     ]
    },
    {
     "name": "stderr",
     "output_type": "stream",
     "text": [
      " 95%|█████████████████████████████████████████████████████████████████████████████▉    | 19/20 [00:19<00:01,  1.00s/it]"
     ]
    },
    {
     "name": "stdout",
     "output_type": "stream",
     "text": [
      "18\n"
     ]
    },
    {
     "name": "stderr",
     "output_type": "stream",
     "text": [
      "100%|██████████████████████████████████████████████████████████████████████████████████| 20/20 [00:20<00:00,  1.00s/it]"
     ]
    },
    {
     "name": "stdout",
     "output_type": "stream",
     "text": [
      "19\n"
     ]
    },
    {
     "name": "stderr",
     "output_type": "stream",
     "text": [
      "\n"
     ]
    }
   ],
   "source": [
    "for i in tqdm(range(20)):\n",
    "    sleep(1)\n",
    "    print(i)"
   ]
  },
  {
   "cell_type": "code",
   "execution_count": 42,
   "id": "a16ff3a6-a3e3-4be3-814c-47e161bafcf3",
   "metadata": {
    "tags": []
   },
   "outputs": [],
   "source": [
    "from tensorflow.keras.datasets import mnist\n",
    "from tensorflow.keras.utils import to_categorical"
   ]
  },
  {
   "cell_type": "code",
   "execution_count": 43,
   "id": "8242acb5-ab1b-498a-a972-8b0416c2d920",
   "metadata": {
    "tags": []
   },
   "outputs": [],
   "source": [
    "(X_train, y_train), (X_test, y_test) = mnist.load_data()"
   ]
  },
  {
   "cell_type": "code",
   "execution_count": 44,
   "id": "dfb29131-15a5-460a-9be2-e1948fd51518",
   "metadata": {
    "tags": []
   },
   "outputs": [],
   "source": [
    "X_train = X_train.reshape(-1,784) / 255.0\n",
    "X_test = X_test.reshape(-1,784) / 255.0"
   ]
  },
  {
   "cell_type": "code",
   "execution_count": 45,
   "id": "16c8afc8-18f6-41ba-89fb-5a77a16eb408",
   "metadata": {
    "tags": []
   },
   "outputs": [],
   "source": [
    "y_train = to_categorical(y_train)\n",
    "y_test = to_categorical(y_test)"
   ]
  },
  {
   "cell_type": "code",
   "execution_count": null,
   "id": "e880495a-6bd5-472c-bb55-3a3d75d80296",
   "metadata": {},
   "outputs": [],
   "source": []
  },
  {
   "cell_type": "code",
   "execution_count": null,
   "id": "de62af43-3f3e-4661-9c9f-d161986ee2b3",
   "metadata": {},
   "outputs": [],
   "source": []
  },
  {
   "cell_type": "code",
   "execution_count": 52,
   "id": "62421e49-0b62-45cb-8509-4c8d35f36310",
   "metadata": {
    "tags": []
   },
   "outputs": [],
   "source": [
    "(X_train, y_train), (X_test, y_test) = mnist.load_data()\n",
    "\n",
    "X_train = X_train.reshape(-1, 784) / 255.0\n",
    "X_test = X_test.reshape(-1, 784) / 255.0\n",
    "\n",
    "mean = np.mean(X_train)\n",
    "std = np.std(X_train)\n",
    "\n",
    "X_train = (X_train - mean) / std\n",
    "X_test = (X_test - mean) / std\n",
    "\n",
    "y_train = to_categorical(y_train)\n",
    "y_test = to_categorical(y_test)"
   ]
  },
  {
   "cell_type": "code",
   "execution_count": 57,
   "id": "d076409f-c9ae-4ea6-9852-8f6390b131b1",
   "metadata": {
    "tags": []
   },
   "outputs": [],
   "source": [
    "model = Net(784)"
   ]
  },
  {
   "cell_type": "code",
   "execution_count": 58,
   "id": "e4fa3dc7-7cd0-4a1b-bed6-1e2bb3d90f51",
   "metadata": {
    "tags": []
   },
   "outputs": [],
   "source": [
    "model.add(1024,activation='relu')\n",
    "model.add(512,activation='relu')\n",
    "model.add(256,activation='relu')\n",
    "model.add(64,activation='relu')\n",
    "model.add(10,activation='softmax')"
   ]
  },
  {
   "cell_type": "code",
   "execution_count": 59,
   "id": "0823446a-cb42-4f58-b987-b8281a6bb5a5",
   "metadata": {
    "tags": []
   },
   "outputs": [],
   "source": [
    "model.compile(lr = 1e-5, loss='categorical_crossentropy', metrics='accuracy')"
   ]
  },
  {
   "cell_type": "code",
   "execution_count": 60,
   "id": "df586069-2f70-44eb-af54-1fe98131bb88",
   "metadata": {
    "tags": []
   },
   "outputs": [
    {
     "name": "stderr",
     "output_type": "stream",
     "text": [
      " 10%|████████▎                                                                          | 1/10 [00:10<01:33, 10.35s/it]"
     ]
    },
    {
     "name": "stdout",
     "output_type": "stream",
     "text": [
      "1 ===========> accuracy : 0.11598333333333333, loss : 0.2328070830822221\n"
     ]
    },
    {
     "name": "stderr",
     "output_type": "stream",
     "text": [
      " 20%|████████████████▌                                                                  | 2/10 [00:20<01:22, 10.36s/it]"
     ]
    },
    {
     "name": "stdout",
     "output_type": "stream",
     "text": [
      "2 ===========> accuracy : 0.116, loss : 0.23280683045756664\n"
     ]
    },
    {
     "name": "stderr",
     "output_type": "stream",
     "text": [
      " 30%|████████████████████████▉                                                          | 3/10 [00:31<01:13, 10.47s/it]"
     ]
    },
    {
     "name": "stdout",
     "output_type": "stream",
     "text": [
      "3 ===========> accuracy : 0.11603333333333334, loss : 0.23280657808377586\n"
     ]
    },
    {
     "name": "stderr",
     "output_type": "stream",
     "text": [
      " 40%|█████████████████████████████████▏                                                 | 4/10 [00:41<01:03, 10.55s/it]"
     ]
    },
    {
     "name": "stdout",
     "output_type": "stream",
     "text": [
      "4 ===========> accuracy : 0.11608333333333333, loss : 0.23280632593047418\n"
     ]
    },
    {
     "name": "stderr",
     "output_type": "stream",
     "text": [
      " 50%|█████████████████████████████████████████▌                                         | 5/10 [00:53<00:53, 10.72s/it]"
     ]
    },
    {
     "name": "stdout",
     "output_type": "stream",
     "text": [
      "5 ===========> accuracy : 0.11605, loss : 0.23280607389584168\n"
     ]
    },
    {
     "name": "stderr",
     "output_type": "stream",
     "text": [
      " 60%|█████████████████████████████████████████████████▊                                 | 6/10 [01:04<00:44, 11.08s/it]"
     ]
    },
    {
     "name": "stdout",
     "output_type": "stream",
     "text": [
      "6 ===========> accuracy : 0.11606666666666667, loss : 0.23280582199744598\n"
     ]
    },
    {
     "name": "stderr",
     "output_type": "stream",
     "text": [
      " 70%|██████████████████████████████████████████████████████████                         | 7/10 [01:16<00:33, 11.23s/it]"
     ]
    },
    {
     "name": "stdout",
     "output_type": "stream",
     "text": [
      "7 ===========> accuracy : 0.11605, loss : 0.23280557018469702\n"
     ]
    },
    {
     "name": "stderr",
     "output_type": "stream",
     "text": [
      " 80%|██████████████████████████████████████████████████████████████████▍                | 8/10 [01:27<00:22, 11.16s/it]"
     ]
    },
    {
     "name": "stdout",
     "output_type": "stream",
     "text": [
      "8 ===========> accuracy : 0.11603333333333334, loss : 0.2328053185493858\n"
     ]
    },
    {
     "name": "stderr",
     "output_type": "stream",
     "text": [
      " 90%|██████████████████████████████████████████████████████████████████████████▋        | 9/10 [01:37<00:10, 10.87s/it]"
     ]
    },
    {
     "name": "stdout",
     "output_type": "stream",
     "text": [
      "9 ===========> accuracy : 0.11603333333333334, loss : 0.2328050670666011\n"
     ]
    },
    {
     "name": "stderr",
     "output_type": "stream",
     "text": [
      "100%|██████████████████████████████████████████████████████████████████████████████████| 10/10 [01:48<00:00, 10.87s/it]"
     ]
    },
    {
     "name": "stdout",
     "output_type": "stream",
     "text": [
      "10 ===========> accuracy : 0.116, loss : 0.2328048156100597\n"
     ]
    },
    {
     "name": "stderr",
     "output_type": "stream",
     "text": [
      "\n"
     ]
    }
   ],
   "source": [
    "model.fit(X_train, y_train,epochs=10)"
   ]
  },
  {
   "cell_type": "code",
   "execution_count": 50,
   "id": "3f21fb3c-104b-4bfd-81e7-0a8764f32a57",
   "metadata": {
    "tags": []
   },
   "outputs": [
    {
     "data": {
      "text/plain": [
       "{'Affine_1': <__main__.Affine at 0x1c10ccbf750>,\n",
       " 'Activation_1': <__main__.ReLU at 0x1c108f7cdd0>,\n",
       " 'Affine_2': <__main__.Affine at 0x1c10dcbee50>,\n",
       " 'Activation_2': <__main__.SoftmaxWithLoss at 0x1c10dcc1890>}"
      ]
     },
     "execution_count": 50,
     "metadata": {},
     "output_type": "execute_result"
    }
   ],
   "source": [
    "model.W"
   ]
  },
  {
   "cell_type": "code",
   "execution_count": 61,
   "id": "a1466611-b819-4ffa-85af-d2c7c7b37d19",
   "metadata": {
    "tags": []
   },
   "outputs": [
    {
     "name": "stdout",
     "output_type": "stream",
     "text": [
      "----------------------------------------------\n",
      "                Output Shape           Param #\n",
      "==============================================\n",
      "Affine_1        (None, 1024)           803840\n",
      "Affine_2        (None, 512)            524800\n",
      "Affine_3        (None, 256)            131328\n",
      "Affine_4        (None, 64)              16448\n",
      "Affine_5        (None, 10)                650\n",
      "==============================================\n",
      "total params: 1477066\n"
     ]
    }
   ],
   "source": [
    "model.summary()"
   ]
  },
  {
   "cell_type": "code",
   "execution_count": null,
   "id": "38e7d977-0449-4874-b812-da96bee2b1f3",
   "metadata": {},
   "outputs": [],
   "source": []
  },
  {
   "cell_type": "code",
   "execution_count": null,
   "id": "772ce18f-9ed5-40cd-9772-cd816d408e00",
   "metadata": {},
   "outputs": [],
   "source": []
  },
  {
   "cell_type": "code",
   "execution_count": null,
   "id": "1e31a252-3fc2-45ca-8923-20fbae48fd56",
   "metadata": {},
   "outputs": [],
   "source": []
  },
  {
   "cell_type": "code",
   "execution_count": 62,
   "id": "a94b664d-6267-4475-8710-857c99dfdca9",
   "metadata": {
    "tags": []
   },
   "outputs": [
    {
     "name": "stdout",
     "output_type": "stream",
     "text": [
      "Downloading data from https://www.cs.toronto.edu/~kriz/cifar-10-python.tar.gz\n",
      "170498071/170498071 [==============================] - 78s 0us/step\n"
     ]
    },
    {
     "name": "stderr",
     "output_type": "stream",
     "text": [
      " 10%|████████▎                                                                          | 1/10 [00:02<00:23,  2.65s/it]"
     ]
    },
    {
     "name": "stdout",
     "output_type": "stream",
     "text": [
      "1 ===========> accuracy : 0.09714, loss : 0.23708599329912391\n"
     ]
    },
    {
     "name": "stderr",
     "output_type": "stream",
     "text": [
      " 20%|████████████████▌                                                                  | 2/10 [00:05<00:21,  2.66s/it]"
     ]
    },
    {
     "name": "stdout",
     "output_type": "stream",
     "text": [
      "2 ===========> accuracy : 0.09748, loss : 0.23661106761802025\n"
     ]
    },
    {
     "name": "stderr",
     "output_type": "stream",
     "text": [
      " 30%|████████████████████████▉                                                          | 3/10 [00:07<00:18,  2.64s/it]"
     ]
    },
    {
     "name": "stdout",
     "output_type": "stream",
     "text": [
      "3 ===========> accuracy : 0.09736, loss : 0.23618234809590136\n"
     ]
    },
    {
     "name": "stderr",
     "output_type": "stream",
     "text": [
      " 40%|█████████████████████████████████▏                                                 | 4/10 [00:10<00:15,  2.65s/it]"
     ]
    },
    {
     "name": "stdout",
     "output_type": "stream",
     "text": [
      "4 ===========> accuracy : 0.09818, loss : 0.23579689333428794\n"
     ]
    },
    {
     "name": "stderr",
     "output_type": "stream",
     "text": [
      " 50%|█████████████████████████████████████████▌                                         | 5/10 [00:13<00:13,  2.66s/it]"
     ]
    },
    {
     "name": "stdout",
     "output_type": "stream",
     "text": [
      "5 ===========> accuracy : 0.0988, loss : 0.23545288109589407\n"
     ]
    },
    {
     "name": "stderr",
     "output_type": "stream",
     "text": [
      " 60%|█████████████████████████████████████████████████▊                                 | 6/10 [00:15<00:10,  2.66s/it]"
     ]
    },
    {
     "name": "stdout",
     "output_type": "stream",
     "text": [
      "6 ===========> accuracy : 0.09978, loss : 0.23514888885804855\n"
     ]
    },
    {
     "name": "stderr",
     "output_type": "stream",
     "text": [
      " 70%|██████████████████████████████████████████████████████████                         | 7/10 [00:18<00:08,  2.67s/it]"
     ]
    },
    {
     "name": "stdout",
     "output_type": "stream",
     "text": [
      "7 ===========> accuracy : 0.09988, loss : 0.23488232764037623\n"
     ]
    },
    {
     "name": "stderr",
     "output_type": "stream",
     "text": [
      " 80%|██████████████████████████████████████████████████████████████████▍                | 8/10 [00:21<00:05,  2.68s/it]"
     ]
    },
    {
     "name": "stdout",
     "output_type": "stream",
     "text": [
      "8 ===========> accuracy : 0.10014, loss : 0.23465100095164187\n"
     ]
    },
    {
     "name": "stderr",
     "output_type": "stream",
     "text": [
      " 90%|██████████████████████████████████████████████████████████████████████████▋        | 9/10 [00:23<00:02,  2.67s/it]"
     ]
    },
    {
     "name": "stdout",
     "output_type": "stream",
     "text": [
      "9 ===========> accuracy : 0.10014, loss : 0.23445246629170466\n"
     ]
    },
    {
     "name": "stderr",
     "output_type": "stream",
     "text": [
      "100%|██████████████████████████████████████████████████████████████████████████████████| 10/10 [00:26<00:00,  2.66s/it]"
     ]
    },
    {
     "name": "stdout",
     "output_type": "stream",
     "text": [
      "10 ===========> accuracy : 0.10144, loss : 0.23428466967104616\n"
     ]
    },
    {
     "name": "stderr",
     "output_type": "stream",
     "text": [
      "\n"
     ]
    }
   ],
   "source": [
    "from tensorflow.keras.datasets import cifar10\n",
    "from tensorflow.keras.utils import to_categorical\n",
    "\n",
    "# Load CIFAR-10 data\n",
    "(X_train, y_train), (X_test, y_test) = cifar10.load_data()\n",
    "\n",
    "# Normalize pixel values to the range [0, 1]\n",
    "X_train = X_train / 255.0\n",
    "X_test = X_test / 255.0\n",
    "\n",
    "# Flatten the images (reshape if needed)\n",
    "X_train = X_train.reshape(-1, 32 * 32 * 3)\n",
    "X_test = X_test.reshape(-1, 32 * 32 * 3)\n",
    "\n",
    "# One-hot encode labels\n",
    "y_train = to_categorical(y_train, num_classes=10)\n",
    "y_test = to_categorical(y_test, num_classes=10)\n",
    "\n",
    "# Create and compile your model (similar to the previous Net class)\n",
    "model = Net(input_shape=32 * 32 * 3)\n",
    "model.add(output_shape=128, activation='relu')\n",
    "model.add(output_shape=10, activation='softmax')\n",
    "model.compile(lr=1e-3, loss='categorical_crossentropy', metrics='accuracy')\n",
    "\n",
    "# Train the model\n",
    "model.fit(X_train, y_train, epochs=10)"
   ]
  },
  {
   "cell_type": "code",
   "execution_count": null,
   "id": "a1eee133-5d00-4c10-b605-1acd035c1701",
   "metadata": {},
   "outputs": [],
   "source": []
  }
 ],
 "metadata": {
  "kernelspec": {
   "display_name": "Python 3 (ipykernel)",
   "language": "python",
   "name": "python3"
  },
  "language_info": {
   "codemirror_mode": {
    "name": "ipython",
    "version": 3
   },
   "file_extension": ".py",
   "mimetype": "text/x-python",
   "name": "python",
   "nbconvert_exporter": "python",
   "pygments_lexer": "ipython3",
   "version": "3.11.4"
  }
 },
 "nbformat": 4,
 "nbformat_minor": 5
}
