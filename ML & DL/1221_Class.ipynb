{
 "cells": [
  {
   "cell_type": "code",
   "execution_count": 1,
   "id": "555b2db2-f4b1-4f8c-94dc-e9df1b387898",
   "metadata": {
    "tags": []
   },
   "outputs": [],
   "source": [
    "import numpy as np\n",
    "import pandas as pd\n",
    "import matplotlib.pyplot as plt"
   ]
  },
  {
   "cell_type": "code",
   "execution_count": 10,
   "id": "f3be7797-2fb4-4511-9bac-14fcbdb0726c",
   "metadata": {
    "tags": []
   },
   "outputs": [],
   "source": [
    "X = np.random.randn(50)\n",
    "y = X*100 - 50"
   ]
  },
  {
   "cell_type": "code",
   "execution_count": 19,
   "id": "26b34f3d-c014-497a-b6ef-b1e790cc76c1",
   "metadata": {
    "tags": []
   },
   "outputs": [],
   "source": [
    "a_hat = -100\n",
    "b_hat = 0\n",
    "h = 1e-5"
   ]
  },
  {
   "cell_type": "code",
   "execution_count": 29,
   "id": "f481497b-df5a-466c-aadd-3fbb9f366458",
   "metadata": {
    "tags": []
   },
   "outputs": [],
   "source": [
    "predict_a = lambda a_hat : X * a_hat + b_hat\n",
    "loss = lambda y, predict_a : np.mean(y-predict_a)**2\n",
    "predict_b = lambda b_hat : X * a_hat + b_hat\n",
    "loss = lambda y, predict_b : np.mean(y-predict_b)**2"
   ]
  },
  {
   "cell_type": "code",
   "execution_count": 30,
   "id": "d3d023f1-43fe-4400-9509-01ddedb589e5",
   "metadata": {
    "tags": []
   },
   "outputs": [
    {
     "data": {
      "text/plain": [
       "471.9013586537523"
      ]
     },
     "execution_count": 30,
     "metadata": {},
     "output_type": "execute_result"
    }
   ],
   "source": [
    "loss(y,predict_a(a_hat))"
   ]
  },
  {
   "cell_type": "code",
   "execution_count": 31,
   "id": "32a75d59-b8a9-4335-a7a2-55382c63ccd4",
   "metadata": {
    "tags": []
   },
   "outputs": [
    {
     "data": {
      "text/plain": [
       "43.446591405427164"
      ]
     },
     "execution_count": 31,
     "metadata": {},
     "output_type": "execute_result"
    }
   ],
   "source": [
    "# 미분값?\n",
    "(loss(y,predict_b(b_hat+h))-loss(y,predict_b(b_hat)))/h"
   ]
  },
  {
   "cell_type": "code",
   "execution_count": null,
   "id": "8abc5b46-0168-48eb-9ca9-65f80ec4f131",
   "metadata": {},
   "outputs": [],
   "source": []
  },
  {
   "cell_type": "code",
   "execution_count": 32,
   "id": "4197f677-cff9-4d1d-9980-0b2320ae33f5",
   "metadata": {
    "tags": []
   },
   "outputs": [],
   "source": [
    "x1 = np.random.randn(100)\n",
    "x2 = np.random.randn(100)"
   ]
  },
  {
   "cell_type": "code",
   "execution_count": 33,
   "id": "9fe728b7-5510-4281-909b-0dca81f8d770",
   "metadata": {
    "tags": []
   },
   "outputs": [],
   "source": [
    "a1 = 100\n",
    "a2 = -3"
   ]
  },
  {
   "cell_type": "code",
   "execution_count": 34,
   "id": "1595b5df-ad66-4c16-be02-c7ee2ca3e2f9",
   "metadata": {
    "tags": []
   },
   "outputs": [],
   "source": [
    "y = a1 * x1 + a2 * x2"
   ]
  },
  {
   "cell_type": "code",
   "execution_count": 41,
   "id": "e857ff3a-8224-4be0-8957-525942c14c7f",
   "metadata": {
    "tags": []
   },
   "outputs": [],
   "source": [
    "X = np.c_[x1, x2]\n",
    "W = np.array([a1,a2]).reshape(2,1)\n",
    "Y = np.dot(X,W)"
   ]
  },
  {
   "cell_type": "code",
   "execution_count": 37,
   "id": "819972d4-b775-4b0f-bf6a-5c5ab8cd181d",
   "metadata": {
    "tags": []
   },
   "outputs": [
    {
     "data": {
      "text/plain": [
       "(99.99999550160823, -3.000000126331207)"
      ]
     },
     "execution_count": 37,
     "metadata": {},
     "output_type": "execute_result"
    }
   ],
   "source": [
    "a_hat1 = -15\n",
    "a_hat2 = 4\n",
    "for _ in range(100000):\n",
    "    y_hat = a_hat1 * x1 + a_hat2 * x2\n",
    "    # 다음에 미분 해야함 -> 공책 참조\n",
    "    da1 = np.mean(2 * x1 * (y_hat-y))\n",
    "    da2 = np.mean(2 * x2 * (y_hat-y))\n",
    "    a_hat1 -= da1 * 1e-4\n",
    "    a_hat2 -= da2 * 1e-4\n",
    "a_hat1, a_hat2"
   ]
  },
  {
   "cell_type": "code",
   "execution_count": 45,
   "id": "b14afbb2-ccc8-4ea5-9767-b40012c3654b",
   "metadata": {
    "tags": []
   },
   "outputs": [],
   "source": [
    "y = np.dot(X,W)"
   ]
  },
  {
   "cell_type": "code",
   "execution_count": 46,
   "id": "bc6983ca-fcf7-497e-95e1-487317b54f44",
   "metadata": {
    "tags": []
   },
   "outputs": [],
   "source": [
    "# 크기를 맞춰줘야함\n",
    "W_hat = np.random.randn(2,1)"
   ]
  },
  {
   "cell_type": "code",
   "execution_count": 54,
   "id": "29601ac3-fcc2-474e-b6ce-b7d226f30ab5",
   "metadata": {
    "tags": []
   },
   "outputs": [
    {
     "data": {
      "text/plain": [
       "(2, 1)"
      ]
     },
     "execution_count": 54,
     "metadata": {},
     "output_type": "execute_result"
    }
   ],
   "source": [
    "W.shape"
   ]
  },
  {
   "cell_type": "code",
   "execution_count": 65,
   "id": "20955f53-5f35-4470-b268-828e677baa27",
   "metadata": {
    "tags": []
   },
   "outputs": [
    {
     "data": {
      "text/plain": [
       "array([[100.],\n",
       "       [ -3.]])"
      ]
     },
     "execution_count": 65,
     "metadata": {},
     "output_type": "execute_result"
    }
   ],
   "source": [
    "learning_rate = 1e-4\n",
    "# 직접 크기를 지정안하고 이런 식으로 해도 됩니다.\n",
    "W_hat = np.random.randn(W.shape[0],W.shape[1])\n",
    "for _ in range(100000):\n",
    "    y_hat = np.dot(X,W_hat)\n",
    "    dW = 2*np.dot(X.T,(y_hat-y))\n",
    "    W_hat -= dW * learning_rate\n",
    "W_hat"
   ]
  },
  {
   "cell_type": "code",
   "execution_count": 71,
   "id": "e019986b-6419-41a1-a176-5cbae6790112",
   "metadata": {
    "tags": []
   },
   "outputs": [],
   "source": [
    "# 5번\n",
    "W = np.array([50,-50]).reshape(2,1)\n",
    "b = 200\n",
    "y = np.dot(X,W) + b"
   ]
  },
  {
   "cell_type": "code",
   "execution_count": 73,
   "id": "acb47ff6-63b7-4e14-85ab-5b51ca27e1a4",
   "metadata": {
    "tags": []
   },
   "outputs": [
    {
     "data": {
      "text/plain": [
       "(array([[ 50.00000001],\n",
       "        [-50.00000001]]),\n",
       " 199.9999995759467)"
      ]
     },
     "execution_count": 73,
     "metadata": {},
     "output_type": "execute_result"
    }
   ],
   "source": [
    "learning_rate = 1e-4\n",
    "W_hat = np.random.randn(W.shape[0],W.shape[1])\n",
    "b_hat = 0\n",
    "for _ in range(100000):\n",
    "    y_hat = np.dot(X,W_hat) + b_hat\n",
    "    dW = 2*np.dot(X.T,(y_hat-y))\n",
    "    db = 2*np.mean(y_hat-y)\n",
    "    W_hat -= dW * learning_rate\n",
    "    b_hat -= db * learning_rate\n",
    "W_hat, b_hat"
   ]
  },
  {
   "cell_type": "code",
   "execution_count": null,
   "id": "04e6e84e-bbe5-4b9c-bdfa-74f9632a70ab",
   "metadata": {},
   "outputs": [],
   "source": [
    "# 6번\n",
    "X = np.random.randn(100,50)"
   ]
  },
  {
   "cell_type": "code",
   "execution_count": 77,
   "id": "bfce776a-999c-4a2b-8043-94c3fbef663c",
   "metadata": {
    "tags": []
   },
   "outputs": [],
   "source": [
    "W = np.arange(1,51).reshape(50,1)\n",
    "b = 300\n",
    "y = np.dot(X,W) + b"
   ]
  },
  {
   "cell_type": "code",
   "execution_count": 81,
   "id": "a199c8f8-df1f-4af1-9b4a-ced237f5c160",
   "metadata": {
    "tags": []
   },
   "outputs": [
    {
     "data": {
      "text/plain": [
       "(array([[ 0.99957883],\n",
       "        [ 2.00137412],\n",
       "        [ 3.00002406],\n",
       "        [ 4.00136791],\n",
       "        [ 5.00087763],\n",
       "        [ 6.00009353],\n",
       "        [ 6.99847599],\n",
       "        [ 7.99966554],\n",
       "        [ 9.00121891],\n",
       "        [10.00246094],\n",
       "        [11.00015668],\n",
       "        [11.99922654],\n",
       "        [12.9994221 ],\n",
       "        [14.00096615],\n",
       "        [14.99835182],\n",
       "        [16.00028539],\n",
       "        [16.99888082],\n",
       "        [17.99926609],\n",
       "        [18.99882679],\n",
       "        [19.99601344],\n",
       "        [20.998271  ],\n",
       "        [22.00286621],\n",
       "        [22.99908581],\n",
       "        [24.00431975],\n",
       "        [25.00197271],\n",
       "        [25.99819043],\n",
       "        [27.00033935],\n",
       "        [27.99895376],\n",
       "        [28.99924835],\n",
       "        [29.9987979 ],\n",
       "        [30.99873655],\n",
       "        [32.00029707],\n",
       "        [32.99702082],\n",
       "        [34.0018892 ],\n",
       "        [35.00008499],\n",
       "        [36.00119865],\n",
       "        [36.99884908],\n",
       "        [37.9973738 ],\n",
       "        [39.0005152 ],\n",
       "        [40.00239811],\n",
       "        [41.00085915],\n",
       "        [42.00023194],\n",
       "        [42.99945109],\n",
       "        [44.00092111],\n",
       "        [44.99943279],\n",
       "        [46.00171469],\n",
       "        [46.99512825],\n",
       "        [48.00117429],\n",
       "        [49.00138079],\n",
       "        [50.0015244 ]]),\n",
       " 299.9880064989447)"
      ]
     },
     "execution_count": 81,
     "metadata": {},
     "output_type": "execute_result"
    }
   ],
   "source": [
    "learning_rate = 1e-4\n",
    "W_hat = np.random.randn(W.shape[0],W.shape[1])\n",
    "b_hat = 0\n",
    "for _ in range(100000):\n",
    "    y_hat = np.dot(X,W_hat) + b_hat\n",
    "    dW = 2*np.dot(X.T,(y_hat-y))\n",
    "    db = 2*np.mean(y_hat-y)\n",
    "    W_hat -= dW * learning_rate\n",
    "    b_hat -= db * learning_rate\n",
    "W_hat, b_hat"
   ]
  },
  {
   "cell_type": "code",
   "execution_count": 82,
   "id": "90196311-1865-462a-b54a-b8671e895915",
   "metadata": {
    "tags": []
   },
   "outputs": [],
   "source": [
    "X = np.random.choice(np.arange(1,9),100)"
   ]
  },
  {
   "cell_type": "code",
   "execution_count": 83,
   "id": "79ec613c-02b2-46a4-bdb7-fb4496d901e2",
   "metadata": {
    "tags": []
   },
   "outputs": [],
   "source": [
    "y = np.where(X >= 4, 1, 0)"
   ]
  },
  {
   "cell_type": "code",
   "execution_count": 85,
   "id": "4f9c3597-076e-42b8-b2ef-b1f0c16c7f15",
   "metadata": {
    "tags": []
   },
   "outputs": [],
   "source": [
    "a_hat = np.random.randn(1)\n",
    "for _ in range(10000):\n",
    "    y_hat = X * a_hat\n",
    "    da = np.mean(2*X*(y_hat-y))\n",
    "    a_hat -= da * 1e-4\n",
    "    "
   ]
  },
  {
   "cell_type": "code",
   "execution_count": 92,
   "id": "04cf3620-984d-4245-bd6f-e0cc7e8473f6",
   "metadata": {
    "collapsed": true,
    "jupyter": {
     "outputs_hidden": true
    },
    "tags": []
   },
   "outputs": [
    {
     "name": "stdout",
     "output_type": "stream",
     "text": [
      "True\n",
      "True\n",
      "True\n",
      "True\n",
      "True\n",
      "True\n",
      "True\n",
      "True\n",
      "True\n",
      "True\n",
      "True\n",
      "True\n",
      "True\n",
      "True\n",
      "True\n",
      "True\n",
      "True\n",
      "True\n",
      "True\n",
      "True\n",
      "True\n",
      "True\n",
      "True\n",
      "True\n",
      "True\n",
      "True\n",
      "True\n",
      "True\n",
      "True\n",
      "True\n",
      "True\n",
      "True\n",
      "True\n",
      "True\n",
      "True\n",
      "True\n",
      "True\n",
      "True\n",
      "True\n",
      "True\n",
      "True\n",
      "True\n",
      "True\n",
      "True\n",
      "True\n",
      "True\n",
      "True\n",
      "True\n",
      "True\n",
      "True\n",
      "True\n",
      "True\n",
      "True\n",
      "True\n",
      "True\n",
      "True\n",
      "True\n",
      "True\n",
      "True\n",
      "True\n",
      "True\n",
      "True\n",
      "True\n",
      "True\n",
      "True\n",
      "True\n",
      "True\n",
      "True\n",
      "True\n",
      "True\n",
      "True\n",
      "True\n",
      "True\n",
      "True\n",
      "True\n",
      "True\n",
      "True\n",
      "True\n",
      "True\n",
      "True\n",
      "True\n",
      "True\n",
      "True\n",
      "True\n",
      "True\n",
      "True\n",
      "True\n",
      "True\n",
      "True\n",
      "True\n",
      "True\n",
      "True\n",
      "True\n",
      "True\n",
      "True\n",
      "True\n",
      "True\n",
      "True\n",
      "True\n",
      "True\n"
     ]
    }
   ],
   "source": [
    "for i in range(100):\n",
    "    print(np.where(a_hat*X[i] > 0.5, 1, 0)[0] == y[i])"
   ]
  },
  {
   "cell_type": "code",
   "execution_count": 101,
   "id": "c25e4078-f5f5-4a6b-b2bd-843ec794f35a",
   "metadata": {
    "tags": []
   },
   "outputs": [],
   "source": [
    "# 확률값\n",
    "p = np.linspace(0,0.99999,100)"
   ]
  },
  {
   "cell_type": "code",
   "execution_count": 103,
   "id": "be814c82-09c4-4fb0-a74f-3ec591494293",
   "metadata": {
    "tags": []
   },
   "outputs": [
    {
     "data": {
      "text/plain": [
       "[<matplotlib.lines.Line2D at 0x1e682374b50>]"
      ]
     },
     "execution_count": 103,
     "metadata": {},
     "output_type": "execute_result"
    },
    {
     "data": {
      "image/png": "[encoded data removed]",
      "text/plain": [
       "<Figure size 640x480 with 1 Axes>"
      ]
     },
     "metadata": {},
     "output_type": "display_data"
    }
   ],
   "source": [
    "plt.plot(p)"
   ]
  },
  {
   "cell_type": "code",
   "execution_count": 104,
   "id": "0c091fb6-7293-43db-8c61-fa2a15213aa6",
   "metadata": {
    "tags": []
   },
   "outputs": [
    {
     "data": {
      "text/plain": [
       "[<matplotlib.lines.Line2D at 0x1e68289b250>]"
      ]
     },
     "execution_count": 104,
     "metadata": {},
     "output_type": "execute_result"
    },
    {
     "data": {
      "image/png": "[encoded data removed]",
      "text/plain": [
       "<Figure size 640x480 with 1 Axes>"
      ]
     },
     "metadata": {},
     "output_type": "display_data"
    }
   ],
   "source": [
    "# odds\n",
    "plt.plot(p/(1-p))"
   ]
  },
  {
   "cell_type": "code",
   "execution_count": 105,
   "id": "32f05dbb-4caf-41a3-92c6-7cfad2bb88c3",
   "metadata": {
    "tags": []
   },
   "outputs": [
    {
     "name": "stderr",
     "output_type": "stream",
     "text": [
      "C:\\Users\\user\\AppData\\Local\\Temp\\ipykernel_4664\\2845543051.py:1: RuntimeWarning: divide by zero encountered in log\n",
      "  plt.plot(np.log(p/(1-p)))\n"
     ]
    },
    {
     "data": {
      "text/plain": [
       "[<matplotlib.lines.Line2D at 0x1e682a20d10>]"
      ]
     },
     "execution_count": 105,
     "metadata": {},
     "output_type": "execute_result"
    },
    {
     "data": {
      "image/png": "[encoded data removed]",
      "text/plain": [
       "<Figure size 640x480 with 1 Axes>"
      ]
     },
     "metadata": {},
     "output_type": "display_data"
    }
   ],
   "source": [
    "plt.plot(np.log(p/(1-p)))"
   ]
  },
  {
   "cell_type": "code",
   "execution_count": 106,
   "id": "4ee473c1-1428-4948-b78f-8ec2022bcc8b",
   "metadata": {
    "tags": []
   },
   "outputs": [
    {
     "name": "stderr",
     "output_type": "stream",
     "text": [
      "C:\\Users\\user\\AppData\\Local\\Temp\\ipykernel_4664\\1928549545.py:2: RuntimeWarning: divide by zero encountered in log\n",
      "  plt.plot(8 * np.log(p) + 2 * np.log(1-p))\n"
     ]
    },
    {
     "data": {
      "text/plain": [
       "[<matplotlib.lines.Line2D at 0x1e682a8ed10>]"
      ]
     },
     "execution_count": 106,
     "metadata": {},
     "output_type": "execute_result"
    },
    {
     "data": {
      "image/png": "[encoded data removed]",
      "text/plain": [
       "<Figure size 640x480 with 1 Axes>"
      ]
     },
     "metadata": {},
     "output_type": "display_data"
    }
   ],
   "source": [
    "p = np.linspace(0,1,100)\n",
    "plt.plot(8 * np.log(p) + 2 * np.log(1-p))"
   ]
  },
  {
   "cell_type": "code",
   "execution_count": 110,
   "id": "b5c776b9-e215-4de5-9407-636c5892eecf",
   "metadata": {
    "tags": []
   },
   "outputs": [
    {
     "name": "stderr",
     "output_type": "stream",
     "text": [
      "C:\\Users\\user\\AppData\\Local\\Temp\\ipykernel_4664\\410159656.py:1: RuntimeWarning: divide by zero encountered in divide\n",
      "  plt.plot(8/p - 2/(1-p))\n"
     ]
    },
    {
     "data": {
      "text/plain": [
       "[<matplotlib.lines.Line2D at 0x1e683bd7f50>]"
      ]
     },
     "execution_count": 110,
     "metadata": {},
     "output_type": "execute_result"
    },
    {
     "data": {
      "image/png": "[encoded data removed]",
      "text/plain": [
       "<Figure size 640x480 with 1 Axes>"
      ]
     },
     "metadata": {},
     "output_type": "display_data"
    }
   ],
   "source": [
    "plt.plot(8/p - 2/(1-p))"
   ]
  }
 ],
 "metadata": {
  "kernelspec": {
   "display_name": "Python 3 (ipykernel)",
   "language": "python",
   "name": "python3"
  },
  "language_info": {
   "codemirror_mode": {
    "name": "ipython",
    "version": 3
   },
   "file_extension": ".py",
   "mimetype": "text/x-python",
   "name": "python",
   "nbconvert_exporter": "python",
   "pygments_lexer": "ipython3",
   "version": "3.11.4"
  }
 },
 "nbformat": 4,
 "nbformat_minor": 5
}
