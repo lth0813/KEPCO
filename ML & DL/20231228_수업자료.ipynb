{
 "cells": [
  {
   "cell_type": "code",
   "execution_count": 1,
   "id": "b163ceef-7b05-455a-bb44-74bb6a8d756e",
   "metadata": {
    "tags": []
   },
   "outputs": [],
   "source": [
    "import numpy as np\n",
    "import pandas as pd"
   ]
  },
  {
   "cell_type": "code",
   "execution_count": 2,
   "id": "cb1c33d6-247f-4049-ae89-5d635e607b63",
   "metadata": {
    "tags": []
   },
   "outputs": [],
   "source": [
    "##1 data\n",
    "data = pd.read_csv(\"player.csv\")"
   ]
  },
  {
   "cell_type": "code",
   "execution_count": 5,
   "id": "d6a633d8-f2d7-420c-aaae-f11fca73d70d",
   "metadata": {
    "tags": []
   },
   "outputs": [],
   "source": [
    "sample = pd.read_csv(\"sample.csv\")"
   ]
  },
  {
   "cell_type": "code",
   "execution_count": 7,
   "id": "30585786-5cf3-4cfb-ba6b-e6515f5251c0",
   "metadata": {
    "tags": []
   },
   "outputs": [],
   "source": [
    "sample = sample.iloc[:,1:]"
   ]
  },
  {
   "cell_type": "code",
   "execution_count": 8,
   "id": "51129909-5a5b-4b1b-8bb9-1888b22fefe1",
   "metadata": {
    "tags": []
   },
   "outputs": [
    {
     "data": {
      "text/html": [
       "<div>\n",
       "<style scoped>\n",
       "    .dataframe tbody tr th:only-of-type {\n",
       "        vertical-align: middle;\n",
       "    }\n",
       "\n",
       "    .dataframe tbody tr th {\n",
       "        vertical-align: top;\n",
       "    }\n",
       "\n",
       "    .dataframe thead th {\n",
       "        text-align: right;\n",
       "    }\n",
       "</style>\n",
       "<table border=\"1\" class=\"dataframe\">\n",
       "  <thead>\n",
       "    <tr style=\"text-align: right;\">\n",
       "      <th></th>\n",
       "      <th>outlook</th>\n",
       "      <th>temp</th>\n",
       "      <th>humidity</th>\n",
       "      <th>windy</th>\n",
       "      <th>play</th>\n",
       "    </tr>\n",
       "  </thead>\n",
       "  <tbody>\n",
       "    <tr>\n",
       "      <th>0</th>\n",
       "      <td>overcast</td>\n",
       "      <td>hot</td>\n",
       "      <td>high</td>\n",
       "      <td>False</td>\n",
       "      <td>yes</td>\n",
       "    </tr>\n",
       "    <tr>\n",
       "      <th>1</th>\n",
       "      <td>overcast</td>\n",
       "      <td>cool</td>\n",
       "      <td>normal</td>\n",
       "      <td>True</td>\n",
       "      <td>yes</td>\n",
       "    </tr>\n",
       "    <tr>\n",
       "      <th>2</th>\n",
       "      <td>overcast</td>\n",
       "      <td>mild</td>\n",
       "      <td>high</td>\n",
       "      <td>True</td>\n",
       "      <td>yes</td>\n",
       "    </tr>\n",
       "    <tr>\n",
       "      <th>3</th>\n",
       "      <td>overcast</td>\n",
       "      <td>hot</td>\n",
       "      <td>normal</td>\n",
       "      <td>False</td>\n",
       "      <td>yes</td>\n",
       "    </tr>\n",
       "    <tr>\n",
       "      <th>4</th>\n",
       "      <td>rainy</td>\n",
       "      <td>mild</td>\n",
       "      <td>high</td>\n",
       "      <td>False</td>\n",
       "      <td>yes</td>\n",
       "    </tr>\n",
       "    <tr>\n",
       "      <th>5</th>\n",
       "      <td>rainy</td>\n",
       "      <td>cool</td>\n",
       "      <td>normal</td>\n",
       "      <td>False</td>\n",
       "      <td>yes</td>\n",
       "    </tr>\n",
       "    <tr>\n",
       "      <th>6</th>\n",
       "      <td>rainy</td>\n",
       "      <td>cool</td>\n",
       "      <td>normal</td>\n",
       "      <td>True</td>\n",
       "      <td>no</td>\n",
       "    </tr>\n",
       "    <tr>\n",
       "      <th>7</th>\n",
       "      <td>rainy</td>\n",
       "      <td>mild</td>\n",
       "      <td>normal</td>\n",
       "      <td>False</td>\n",
       "      <td>yes</td>\n",
       "    </tr>\n",
       "    <tr>\n",
       "      <th>8</th>\n",
       "      <td>rainy</td>\n",
       "      <td>mild</td>\n",
       "      <td>high</td>\n",
       "      <td>True</td>\n",
       "      <td>no</td>\n",
       "    </tr>\n",
       "    <tr>\n",
       "      <th>9</th>\n",
       "      <td>sunny</td>\n",
       "      <td>hot</td>\n",
       "      <td>high</td>\n",
       "      <td>False</td>\n",
       "      <td>no</td>\n",
       "    </tr>\n",
       "    <tr>\n",
       "      <th>10</th>\n",
       "      <td>sunny</td>\n",
       "      <td>hot</td>\n",
       "      <td>high</td>\n",
       "      <td>True</td>\n",
       "      <td>no</td>\n",
       "    </tr>\n",
       "    <tr>\n",
       "      <th>11</th>\n",
       "      <td>sunny</td>\n",
       "      <td>mild</td>\n",
       "      <td>high</td>\n",
       "      <td>False</td>\n",
       "      <td>no</td>\n",
       "    </tr>\n",
       "    <tr>\n",
       "      <th>12</th>\n",
       "      <td>sunny</td>\n",
       "      <td>cool</td>\n",
       "      <td>normal</td>\n",
       "      <td>False</td>\n",
       "      <td>yes</td>\n",
       "    </tr>\n",
       "    <tr>\n",
       "      <th>13</th>\n",
       "      <td>sunny</td>\n",
       "      <td>mild</td>\n",
       "      <td>normal</td>\n",
       "      <td>True</td>\n",
       "      <td>yes</td>\n",
       "    </tr>\n",
       "  </tbody>\n",
       "</table>\n",
       "</div>"
      ],
      "text/plain": [
       "     outlook  temp humidity  windy play\n",
       "0   overcast   hot     high  False  yes\n",
       "1   overcast  cool   normal   True  yes\n",
       "2   overcast  mild     high   True  yes\n",
       "3   overcast   hot   normal  False  yes\n",
       "4      rainy  mild     high  False  yes\n",
       "5      rainy  cool   normal  False  yes\n",
       "6      rainy  cool   normal   True   no\n",
       "7      rainy  mild   normal  False  yes\n",
       "8      rainy  mild     high   True   no\n",
       "9      sunny   hot     high  False   no\n",
       "10     sunny   hot     high   True   no\n",
       "11     sunny  mild     high  False   no\n",
       "12     sunny  cool   normal  False  yes\n",
       "13     sunny  mild   normal   True  yes"
      ]
     },
     "execution_count": 8,
     "metadata": {},
     "output_type": "execute_result"
    }
   ],
   "source": [
    "sample"
   ]
  },
  {
   "cell_type": "code",
   "execution_count": 11,
   "id": "5810d528-3310-472f-a1fc-64ee2755ad2e",
   "metadata": {
    "tags": []
   },
   "outputs": [
    {
     "data": {
      "text/plain": [
       "0.6428571428571429"
      ]
     },
     "execution_count": 11,
     "metadata": {},
     "output_type": "execute_result"
    }
   ],
   "source": [
    "len(sample.loc[sample.play == 'yes',:])/len(sample)"
   ]
  },
  {
   "cell_type": "code",
   "execution_count": 12,
   "id": "ad5a52d0-7ac1-4d07-9e5b-3a65fc1cfdc3",
   "metadata": {
    "tags": []
   },
   "outputs": [
    {
     "data": {
      "text/plain": [
       "0.35714285714285715"
      ]
     },
     "execution_count": 12,
     "metadata": {},
     "output_type": "execute_result"
    }
   ],
   "source": [
    "len(sample.loc[sample.play == 'no',:])/len(sample)"
   ]
  },
  {
   "cell_type": "code",
   "execution_count": 13,
   "id": "366e14bd-fb31-4f08-9607-e15b56611c18",
   "metadata": {
    "tags": []
   },
   "outputs": [],
   "source": [
    "pk_yes = np.sum(sample.play == 'yes')/len(sample)\n",
    "pk_no = np.sum(sample.play=='no')/len(sample)"
   ]
  },
  {
   "cell_type": "code",
   "execution_count": 14,
   "id": "a9cf7f10-06db-40bd-9a86-a202d3e5d59f",
   "metadata": {
    "tags": []
   },
   "outputs": [
    {
     "data": {
      "text/plain": [
       "0.9402859586706311"
      ]
     },
     "execution_count": 14,
     "metadata": {},
     "output_type": "execute_result"
    }
   ],
   "source": [
    "-(pk_yes*np.log2(pk_yes) + pk_no*np.log2(pk_no))"
   ]
  },
  {
   "cell_type": "code",
   "execution_count": 19,
   "id": "bee8fbcc-2e30-4243-8e26-a9e857a36e9b",
   "metadata": {
    "tags": []
   },
   "outputs": [],
   "source": [
    "def entropy(x):\n",
    "    px = np.unique(x,return_counts=True)[1]/len(x)\n",
    "    entropy_ = -np.sum(px*np.log2(px))\n",
    "    return entropy_"
   ]
  },
  {
   "cell_type": "code",
   "execution_count": 69,
   "id": "565a94ba-587e-43de-84a5-18a032fb33ed",
   "metadata": {
    "tags": []
   },
   "outputs": [],
   "source": [
    "x = np.array([1,1,1,1,3,2])"
   ]
  },
  {
   "cell_type": "code",
   "execution_count": 74,
   "id": "dc0bed7a-ef8f-4b92-a1e0-76a9cb0240f6",
   "metadata": {
    "tags": []
   },
   "outputs": [],
   "source": [
    "px = np.unique(x,return_counts=True)[1]/len(x)"
   ]
  },
  {
   "cell_type": "code",
   "execution_count": 77,
   "id": "a18f871e-a881-4ff0-9607-38c389457243",
   "metadata": {
    "tags": []
   },
   "outputs": [
    {
     "data": {
      "text/plain": [
       "1.2516291673878228"
      ]
     },
     "execution_count": 77,
     "metadata": {},
     "output_type": "execute_result"
    }
   ],
   "source": [
    "np.sum(-px*np.log2(px))"
   ]
  },
  {
   "cell_type": "code",
   "execution_count": 20,
   "id": "64fa1f93-8481-41f0-ac4a-b536c56767ec",
   "metadata": {
    "tags": []
   },
   "outputs": [
    {
     "data": {
      "text/plain": [
       "0.9402859586706311"
      ]
     },
     "execution_count": 20,
     "metadata": {},
     "output_type": "execute_result"
    }
   ],
   "source": [
    "entropy(sample.play)"
   ]
  },
  {
   "cell_type": "code",
   "execution_count": 82,
   "id": "b9edf1ae-2e62-4476-810d-9fb107a2cc1c",
   "metadata": {
    "tags": []
   },
   "outputs": [
    {
     "data": {
      "text/plain": [
       "(array(['cool', 'hot', 'mild'], dtype=object), array([4, 4, 6], dtype=int64))"
      ]
     },
     "execution_count": 82,
     "metadata": {},
     "output_type": "execute_result"
    }
   ],
   "source": [
    "np.unique(sample['temp'],return_counts=True)"
   ]
  },
  {
   "cell_type": "code",
   "execution_count": 21,
   "id": "dadb18b4-7de3-45a1-9ab3-029fbecac5a0",
   "metadata": {
    "tags": []
   },
   "outputs": [
    {
     "data": {
      "text/plain": [
       "1.8423709931771088"
      ]
     },
     "execution_count": 21,
     "metadata": {},
     "output_type": "execute_result"
    }
   ],
   "source": [
    "# data = sample\n",
    "# x = temp\n",
    "def get_info(data,x,y):\n",
    "    total = entropy(data[y])\n",
    "    vals, counts = np.unique(data[x],return_counts=True)\n",
    "    gain = [   for val, count in zip(vals,counts)]\n",
    "    "
   ]
  },
  {
   "cell_type": "code",
   "execution_count": 22,
   "id": "06704daf-0eae-407b-9511-fab4da885375",
   "metadata": {
    "tags": []
   },
   "outputs": [
    {
     "data": {
      "text/plain": [
       "0.954434002924965"
      ]
     },
     "execution_count": 22,
     "metadata": {},
     "output_type": "execute_result"
    }
   ],
   "source": [
    "entropy([1,1,1,2,2,2,2,2])"
   ]
  },
  {
   "cell_type": "code",
   "execution_count": 56,
   "id": "a05bb667-0732-4742-b5c8-5463a290d4b8",
   "metadata": {
    "tags": []
   },
   "outputs": [],
   "source": [
    "# y = play\n",
    "total = entropy(sample.play) \n",
    "# x = sample 독립변수 (outlook)"
   ]
  },
  {
   "cell_type": "code",
   "execution_count": 26,
   "id": "4d5f37e1-0083-450c-b5f2-f4969bc6a1f2",
   "metadata": {
    "tags": []
   },
   "outputs": [],
   "source": [
    "vals, counts = np.unique(sample.outlook,return_counts=True)"
   ]
  },
  {
   "cell_type": "code",
   "execution_count": 30,
   "id": "86aa5290-3d1b-4033-9d31-afc29d8aac40",
   "metadata": {
    "tags": []
   },
   "outputs": [
    {
     "data": {
      "text/plain": [
       "-0.0"
      ]
     },
     "execution_count": 30,
     "metadata": {},
     "output_type": "execute_result"
    }
   ],
   "source": [
    "entropy(sample.loc[sample.outlook == vals[0],'play'] )\n",
    "# counts[0]"
   ]
  },
  {
   "cell_type": "code",
   "execution_count": 37,
   "id": "f8db01f9-db52-4219-8a3d-3f00f9b8782c",
   "metadata": {
    "tags": []
   },
   "outputs": [
    {
     "data": {
      "text/plain": [
       "('overcast', 4)"
      ]
     },
     "execution_count": 37,
     "metadata": {},
     "output_type": "execute_result"
    }
   ],
   "source": [
    "vals[0] , counts[0]"
   ]
  },
  {
   "cell_type": "code",
   "execution_count": 48,
   "id": "6455471f-95b6-4ac4-a7db-9f324c6314a8",
   "metadata": {
    "tags": []
   },
   "outputs": [],
   "source": [
    "a1 = counts[0]/len(sample)*entropy(sample.loc[sample.outlook == vals[0],'play'])"
   ]
  },
  {
   "cell_type": "code",
   "execution_count": 49,
   "id": "f76a6beb-6c59-4206-ac12-07917e90d63f",
   "metadata": {
    "tags": []
   },
   "outputs": [],
   "source": [
    "a2 = counts[1]/len(sample)*entropy(sample.loc[sample.outlook == vals[1],'play'])"
   ]
  },
  {
   "cell_type": "code",
   "execution_count": 50,
   "id": "b294c1ed-91e2-4420-a283-e2fa106cdfe4",
   "metadata": {
    "tags": []
   },
   "outputs": [],
   "source": [
    "a3 = counts[2]/len(sample)*entropy(sample.loc[sample.outlook == vals[2],'play'])"
   ]
  },
  {
   "cell_type": "code",
   "execution_count": 64,
   "id": "459293c4-62d5-481f-81bd-06ededa5fafa",
   "metadata": {
    "tags": []
   },
   "outputs": [],
   "source": [
    "def info_gain(data,x,y):\n",
    "    total = entropy(data[y])\n",
    "    vals, counts = np.unique(data[x],return_counts=True)\n",
    "    gain = [ count/len(data)*entropy(data.loc[data[x] == val, y]) for val, count in zip(vals,counts)]\n",
    "    return total - np.sum(gain)"
   ]
  },
  {
   "cell_type": "code",
   "execution_count": 68,
   "id": "8ee6805d-b0b1-483d-8579-2681545a6794",
   "metadata": {
    "tags": []
   },
   "outputs": [
    {
     "data": {
      "text/plain": [
       "0.15183550136234159"
      ]
     },
     "execution_count": 68,
     "metadata": {},
     "output_type": "execute_result"
    }
   ],
   "source": [
    "info_gain(sample,'humidity','play')"
   ]
  },
  {
   "cell_type": "code",
   "execution_count": 83,
   "id": "5645af85-5758-4620-a19f-6c8167b74ddf",
   "metadata": {
    "tags": []
   },
   "outputs": [
    {
     "data": {
      "text/plain": [
       "0.9402859586706311"
      ]
     },
     "execution_count": 83,
     "metadata": {},
     "output_type": "execute_result"
    }
   ],
   "source": [
    "entropy(sample.play)"
   ]
  },
  {
   "cell_type": "code",
   "execution_count": 106,
   "id": "4a63da54-aa47-4dc8-b703-234a81da2aec",
   "metadata": {
    "tags": []
   },
   "outputs": [],
   "source": [
    "# data : sample\n",
    "# 종속변수(y) : play\n",
    "# 선택변수(x) : temp\n",
    "# np.unique(sample.temp)\n",
    "def get_gain(data,x,y):\n",
    "    total_info = entropy(data[y])\n",
    "    gain = []\n",
    "    for val in np.unique(data[x]):\n",
    "        info = data.loc[data[x] == val,y]\n",
    "        count = len(info)\n",
    "        px = count/len(data)\n",
    "        gain.append(px*entropy(info))\n",
    "    return total_info - np.sum(gain)"
   ]
  },
  {
   "cell_type": "code",
   "execution_count": 116,
   "id": "a2dc3a4b-655e-4741-9364-6c183f87b14d",
   "metadata": {
    "tags": []
   },
   "outputs": [],
   "source": [
    "features = sample.columns[:-1]"
   ]
  },
  {
   "cell_type": "code",
   "execution_count": 120,
   "id": "d4f085d4-229b-43d8-90de-5822208f9ae8",
   "metadata": {
    "tags": []
   },
   "outputs": [
    {
     "data": {
      "text/plain": [
       "'outlook'"
      ]
     },
     "execution_count": 120,
     "metadata": {},
     "output_type": "execute_result"
    }
   ],
   "source": [
    "aa = []\n",
    "for i in features:\n",
    "    aa.append(get_gain(sample,i,'play'))\n",
    "features[np.argmax(aa)]"
   ]
  },
  {
   "cell_type": "code",
   "execution_count": 123,
   "id": "249251bb-76c1-4853-be6a-fcab7c5479b2",
   "metadata": {
    "tags": []
   },
   "outputs": [],
   "source": [
    "def max_gain(data,x,y):\n",
    "    return x[np.argmax([get_gain(data,i,y) for i in x ])]"
   ]
  },
  {
   "cell_type": "code",
   "execution_count": 124,
   "id": "d0dd45c5-06af-4004-80ca-8e9065271a72",
   "metadata": {
    "tags": []
   },
   "outputs": [
    {
     "data": {
      "text/plain": [
       "'outlook'"
      ]
     },
     "execution_count": 124,
     "metadata": {},
     "output_type": "execute_result"
    }
   ],
   "source": [
    "max_gain(sample,sample.columns[:-1],sample.columns[-1])"
   ]
  },
  {
   "cell_type": "code",
   "execution_count": 173,
   "id": "36d8d834-e5c1-49be-aab1-951c73dc655e",
   "metadata": {
    "tags": []
   },
   "outputs": [],
   "source": [
    "def entropy(x):\n",
    "    px = np.unique(x,return_counts=True)[1]/len(x)\n",
    "    entropy_ = -np.sum(px*np.log2(px))\n",
    "    return entropy_"
   ]
  },
  {
   "cell_type": "code",
   "execution_count": 174,
   "id": "079ae16e-d8aa-4071-b7fb-67301b99fa8b",
   "metadata": {
    "tags": []
   },
   "outputs": [],
   "source": [
    "def get_gain(data,x,y):\n",
    "    total_info = entropy(data[y])\n",
    "    gain = []\n",
    "    for val in np.unique(data[x]):\n",
    "        info = data.loc[data[x] == val,y]\n",
    "        count = len(info)\n",
    "        px = count/len(data)\n",
    "        gain.append(px*entropy(info))\n",
    "    return total_info - np.sum(gain)"
   ]
  },
  {
   "cell_type": "code",
   "execution_count": 175,
   "id": "0a1f2c7f-069e-4008-b181-303c48072fac",
   "metadata": {
    "tags": []
   },
   "outputs": [],
   "source": [
    "def max_gain(data,x,y):\n",
    "    return x[np.argmax([get_gain(data,i,y) for i in x ])]"
   ]
  },
  {
   "cell_type": "code",
   "execution_count": 176,
   "id": "41e65271-bf4d-4e60-aafd-c391a4773eff",
   "metadata": {
    "tags": []
   },
   "outputs": [],
   "source": [
    "data = sample\n",
    "x = sample.columns[:-1]\n",
    "y = sample.columns[-1]\n",
    "best_feature = max_gain(data,x,y)"
   ]
  },
  {
   "cell_type": "code",
   "execution_count": 133,
   "id": "7ec6e5f0-59f2-4baf-8133-801ab0543f01",
   "metadata": {
    "tags": []
   },
   "outputs": [],
   "source": [
    "best_feature\n",
    "tree = {best_feature:{}}"
   ]
  },
  {
   "cell_type": "code",
   "execution_count": 232,
   "id": "286286c3-6f22-4dd3-b886-42d251d13da2",
   "metadata": {
    "tags": []
   },
   "outputs": [],
   "source": [
    "def make_tree(data,x,y):\n",
    "    best_feature = max_gain(data,x,y)\n",
    "    tree = {best_feature:{}}\n",
    "    return tree"
   ]
  },
  {
   "cell_type": "code",
   "execution_count": 177,
   "id": "aed5608f-4a1a-4acc-b21f-bdff1e7716ec",
   "metadata": {
    "tags": []
   },
   "outputs": [],
   "source": [
    "def make_tree(data,x,y):\n",
    "    best_feature = max_gain(data,x,y)\n",
    "    columns = x[ x != best_feature]\n",
    "    tree = {best_feature:{}}\n",
    "    count = []\n",
    "    for val in np.unique(data[best_feature]): # overcast, sunny, rainy\n",
    "        sub_data = data.loc[data[best_feature] == val,:]\n",
    "        count.append((val,len(sub_data)))\n",
    "    return count"
   ]
  },
  {
   "cell_type": "code",
   "execution_count": 265,
   "id": "261641e0-b9b2-416b-8ad9-80e3e62e0b1a",
   "metadata": {
    "tags": []
   },
   "outputs": [],
   "source": [
    "def make_tree(data,x,y):\n",
    "    try:\n",
    "        if np.unique(data[y]).size == 1:\n",
    "            return np.unique(data[y])[0]\n",
    "        best_feature = max_gain(data,x,y)\n",
    "        columns = x[ x != best_feature]\n",
    "        tree = {best_feature:{}}\n",
    "        for val in np.unique(data[best_feature]):\n",
    "            sub_data = data.loc[data[best_feature] == val,:]\n",
    "            sub_tree = make_tree(sub_data,columns,y)\n",
    "            tree[best_feature][val] = sub_tree\n",
    "        return tree\n",
    "    except Exception as e:\n",
    "        print(e)"
   ]
  },
  {
   "cell_type": "code",
   "execution_count": 284,
   "id": "2154de85-a085-4931-b363-e23aafb2494d",
   "metadata": {
    "tags": []
   },
   "outputs": [],
   "source": [
    "def make_tree(data,x,y,parent_class=None):\n",
    "    try:\n",
    "        if np.unique(data[y]).size == 1:\n",
    "            return np.unique(data[y])[0]\n",
    "        elif len(data) == 0:\n",
    "            return 'case_1'\n",
    "        elif len(x) == 0:\n",
    "            return parent_class\n",
    "        best_feature = max_gain(data,x,y)\n",
    "        columns = x[ x != best_feature]\n",
    "        tree = {best_feature:{}}\n",
    "        for val in np.unique(data[best_feature]):\n",
    "            vals, counts = np.unique(data.loc[data[best_feature] == val,y],return_counts=True)\n",
    "            parent_class = vals[np.argmax(counts)]\n",
    "            sub_data = data.loc[data[best_feature] == val,:]\n",
    "            sub_tree = make_tree(sub_data,columns,y,parent_class)\n",
    "            tree[best_feature][val] = sub_tree\n",
    "        return tree\n",
    "    except Exception as e:\n",
    "        print(e)"
   ]
  },
  {
   "cell_type": "code",
   "execution_count": 289,
   "id": "5c25a3f6-cde6-4360-957c-4672e499c38d",
   "metadata": {
    "tags": []
   },
   "outputs": [],
   "source": [
    "from pprint import pprint"
   ]
  },
  {
   "cell_type": "code",
   "execution_count": 292,
   "id": "6563c50b-485b-4528-9301-65452cd8c95a",
   "metadata": {
    "tags": []
   },
   "outputs": [],
   "source": [
    "tree = make_tree(data,x,y)"
   ]
  },
  {
   "cell_type": "code",
   "execution_count": 314,
   "id": "a53ceccc-28e2-4093-8a89-f1cafc4f4f41",
   "metadata": {
    "tags": []
   },
   "outputs": [],
   "source": [
    "data.windy = data.windy.astype(str)"
   ]
  },
  {
   "cell_type": "code",
   "execution_count": 315,
   "id": "088f5e89-63bb-48e2-80da-bd661c2f9563",
   "metadata": {
    "tags": []
   },
   "outputs": [],
   "source": [
    "x = data.columns[:-1]\n",
    "y = data.columns[-1]\n",
    "tree = make_tree(data,x,y)"
   ]
  },
  {
   "cell_type": "code",
   "execution_count": 316,
   "id": "85b1c01b-96be-400e-af9a-a6a62770fe88",
   "metadata": {
    "tags": []
   },
   "outputs": [],
   "source": [
    "test_data = np.array(['sunny','mind','high','Flase'])"
   ]
  },
  {
   "cell_type": "code",
   "execution_count": 299,
   "id": "aa960b4a-984a-4681-a713-112638fe6908",
   "metadata": {
    "tags": []
   },
   "outputs": [
    {
     "name": "stdout",
     "output_type": "stream",
     "text": [
      "{'outlook': {'overcast': 'yes',\n",
      "             'rainy': {'windy': {False: 'yes', True: 'no'}},\n",
      "             'sunny': {'humidity': {'high': 'no', 'normal': 'yes'}}}}\n"
     ]
    }
   ],
   "source": [
    "pprint(tree)"
   ]
  },
  {
   "cell_type": "code",
   "execution_count": 318,
   "id": "8a2c5a5c-c515-4837-8141-9a68e1f961f0",
   "metadata": {
    "tags": []
   },
   "outputs": [
    {
     "data": {
      "text/plain": [
       "'yes'"
      ]
     },
     "execution_count": 318,
     "metadata": {},
     "output_type": "execute_result"
    }
   ],
   "source": [
    "tree['outlook'][test_data[0]]['windy'][test_data[3]]"
   ]
  },
  {
   "cell_type": "code",
   "execution_count": 310,
   "id": "afcf3031-fa16-4ed5-91ce-cd4030314d05",
   "metadata": {
    "tags": []
   },
   "outputs": [
    {
     "data": {
      "text/plain": [
       "'False'"
      ]
     },
     "execution_count": 310,
     "metadata": {},
     "output_type": "execute_result"
    }
   ],
   "source": [
    "test_data"
   ]
  },
  {
   "cell_type": "code",
   "execution_count": null,
   "id": "db7f504c-e721-40ed-8a46-d1cf0fc38316",
   "metadata": {},
   "outputs": [],
   "source": [
    "tes"
   ]
  },
  {
   "cell_type": "code",
   "execution_count": 312,
   "id": "f84fa1ea-14bf-49e1-89f3-6fbd9e5ea1f1",
   "metadata": {
    "tags": []
   },
   "outputs": [
    {
     "data": {
      "text/plain": [
       "'yes'"
      ]
     },
     "execution_count": 312,
     "metadata": {},
     "output_type": "execute_result"
    }
   ],
   "source": [
    "tree['outlook'][test_data[0]]['windy'][False]"
   ]
  },
  {
   "cell_type": "code",
   "execution_count": 262,
   "id": "81c61493-91c3-4efd-9322-1e2d2b8f1ed6",
   "metadata": {
    "tags": []
   },
   "outputs": [
    {
     "data": {
      "text/plain": [
       "'play'"
      ]
     },
     "execution_count": 262,
     "metadata": {},
     "output_type": "execute_result"
    }
   ],
   "source": [
    "y"
   ]
  },
  {
   "cell_type": "code",
   "execution_count": 275,
   "id": "a1c8ef6c-1cff-4cd0-9397-353893b09651",
   "metadata": {
    "tags": []
   },
   "outputs": [
    {
     "name": "stdout",
     "output_type": "stream",
     "text": [
      "\"None of [Index(['overcast', 'overcast', 'overcast', 'overcast', 'rainy', 'rainy',\\n       'rainy', 'rainy', 'rainy', 'sunny', 'sunny', 'sunny', 'sunny', 'sunny'],\\n      dtype='object')] are in the [index]\"\n"
     ]
    }
   ],
   "source": [
    "tree = make_tree(data,x,y)"
   ]
  },
  {
   "cell_type": "code",
   "execution_count": 247,
   "id": "6b5df1e8-7014-47f0-8275-bb75a61157b1",
   "metadata": {
    "tags": []
   },
   "outputs": [
    {
     "name": "stdout",
     "output_type": "stream",
     "text": [
      "('outlook', 'play')\n"
     ]
    }
   ],
   "source": [
    "make_tree(data,x,y)"
   ]
  },
  {
   "cell_type": "code",
   "execution_count": 170,
   "id": "5686ac62-1693-4323-b140-bd6fa7a7c6cb",
   "metadata": {
    "tags": []
   },
   "outputs": [
    {
     "data": {
      "text/plain": [
       "{'outlook': {'overcast': [('cool', 1), ('hot', 2), ('mild', 1)]}}"
      ]
     },
     "execution_count": 170,
     "metadata": {},
     "output_type": "execute_result"
    }
   ],
   "source": [
    "make_tree(sub_data)"
   ]
  },
  {
   "cell_type": "code",
   "execution_count": 144,
   "id": "fe312a04-a810-47b0-a647-30836b43e754",
   "metadata": {
    "tags": []
   },
   "outputs": [
    {
     "name": "stdout",
     "output_type": "stream",
     "text": [
      "overcast\n",
      "rainy\n",
      "sunny\n"
     ]
    }
   ],
   "source": [
    "for val in np.unique(data[best_feature]):\n",
    "    print(val)\n",
    "vals = [val for val in np.unique(data[best_feature]) ]"
   ]
  },
  {
   "cell_type": "code",
   "execution_count": 148,
   "id": "ef7561d9-416f-4b97-afe1-34246909fdc8",
   "metadata": {
    "tags": []
   },
   "outputs": [
    {
     "data": {
      "text/html": [
       "<div>\n",
       "<style scoped>\n",
       "    .dataframe tbody tr th:only-of-type {\n",
       "        vertical-align: middle;\n",
       "    }\n",
       "\n",
       "    .dataframe tbody tr th {\n",
       "        vertical-align: top;\n",
       "    }\n",
       "\n",
       "    .dataframe thead th {\n",
       "        text-align: right;\n",
       "    }\n",
       "</style>\n",
       "<table border=\"1\" class=\"dataframe\">\n",
       "  <thead>\n",
       "    <tr style=\"text-align: right;\">\n",
       "      <th></th>\n",
       "      <th>outlook</th>\n",
       "      <th>temp</th>\n",
       "      <th>humidity</th>\n",
       "      <th>windy</th>\n",
       "      <th>play</th>\n",
       "    </tr>\n",
       "  </thead>\n",
       "  <tbody>\n",
       "    <tr>\n",
       "      <th>0</th>\n",
       "      <td>overcast</td>\n",
       "      <td>hot</td>\n",
       "      <td>high</td>\n",
       "      <td>False</td>\n",
       "      <td>yes</td>\n",
       "    </tr>\n",
       "    <tr>\n",
       "      <th>1</th>\n",
       "      <td>overcast</td>\n",
       "      <td>cool</td>\n",
       "      <td>normal</td>\n",
       "      <td>True</td>\n",
       "      <td>yes</td>\n",
       "    </tr>\n",
       "    <tr>\n",
       "      <th>2</th>\n",
       "      <td>overcast</td>\n",
       "      <td>mild</td>\n",
       "      <td>high</td>\n",
       "      <td>True</td>\n",
       "      <td>yes</td>\n",
       "    </tr>\n",
       "    <tr>\n",
       "      <th>3</th>\n",
       "      <td>overcast</td>\n",
       "      <td>hot</td>\n",
       "      <td>normal</td>\n",
       "      <td>False</td>\n",
       "      <td>yes</td>\n",
       "    </tr>\n",
       "  </tbody>\n",
       "</table>\n",
       "</div>"
      ],
      "text/plain": [
       "    outlook  temp humidity  windy play\n",
       "0  overcast   hot     high  False  yes\n",
       "1  overcast  cool   normal   True  yes\n",
       "2  overcast  mild     high   True  yes\n",
       "3  overcast   hot   normal  False  yes"
      ]
     },
     "execution_count": 148,
     "metadata": {},
     "output_type": "execute_result"
    }
   ],
   "source": [
    "data.loc[data[best_feature] == vals[0],:]\n",
    "data.loc[data[best_feature] == vals[1],:]"
   ]
  },
  {
   "cell_type": "code",
   "execution_count": 157,
   "id": "f5b5a523-2191-4d51-827c-c0c5bb2cf407",
   "metadata": {
    "tags": []
   },
   "outputs": [],
   "source": [
    "tree['outlook'] = {'overcast':{}}"
   ]
  },
  {
   "cell_type": "code",
   "execution_count": 159,
   "id": "b90fe644-7fda-49f5-893a-cf722a7541c5",
   "metadata": {
    "tags": []
   },
   "outputs": [],
   "source": [
    "tree['outlook']['overcast'] = 10"
   ]
  },
  {
   "cell_type": "code",
   "execution_count": 160,
   "id": "29b70099-34fa-4a73-8038-c65b46e1a761",
   "metadata": {
    "tags": []
   },
   "outputs": [
    {
     "data": {
      "text/plain": [
       "{'outlook': {'overcast': 10}}"
      ]
     },
     "execution_count": 160,
     "metadata": {},
     "output_type": "execute_result"
    }
   ],
   "source": [
    "tree"
   ]
  },
  {
   "cell_type": "code",
   "execution_count": 320,
   "id": "986959d3-b8e4-47ca-8e04-439ce188e720",
   "metadata": {
    "tags": []
   },
   "outputs": [
    {
     "name": "stdout",
     "output_type": "stream",
     "text": [
      "{'outlook': {'overcast': 'yes',\n",
      "             'rainy': {'windy': {'False': 'yes', 'True': 'no'}},\n",
      "             'sunny': {'humidity': {'high': 'no', 'normal': 'yes'}}}}\n"
     ]
    }
   ],
   "source": [
    "pprint(tree)"
   ]
  },
  {
   "cell_type": "code",
   "execution_count": 321,
   "id": "393cdc86-5e1f-42c3-9c9f-04e8fab8f499",
   "metadata": {
    "tags": []
   },
   "outputs": [
    {
     "data": {
      "text/html": [
       "<div>\n",
       "<style scoped>\n",
       "    .dataframe tbody tr th:only-of-type {\n",
       "        vertical-align: middle;\n",
       "    }\n",
       "\n",
       "    .dataframe tbody tr th {\n",
       "        vertical-align: top;\n",
       "    }\n",
       "\n",
       "    .dataframe thead th {\n",
       "        text-align: right;\n",
       "    }\n",
       "</style>\n",
       "<table border=\"1\" class=\"dataframe\">\n",
       "  <thead>\n",
       "    <tr style=\"text-align: right;\">\n",
       "      <th></th>\n",
       "      <th>outlook</th>\n",
       "      <th>temp</th>\n",
       "      <th>humidity</th>\n",
       "      <th>windy</th>\n",
       "      <th>play</th>\n",
       "    </tr>\n",
       "  </thead>\n",
       "  <tbody>\n",
       "    <tr>\n",
       "      <th>0</th>\n",
       "      <td>overcast</td>\n",
       "      <td>hot</td>\n",
       "      <td>high</td>\n",
       "      <td>False</td>\n",
       "      <td>못함</td>\n",
       "    </tr>\n",
       "    <tr>\n",
       "      <th>1</th>\n",
       "      <td>overcast</td>\n",
       "      <td>cool</td>\n",
       "      <td>normal</td>\n",
       "      <td>True</td>\n",
       "      <td>못함</td>\n",
       "    </tr>\n",
       "    <tr>\n",
       "      <th>2</th>\n",
       "      <td>overcast</td>\n",
       "      <td>mild</td>\n",
       "      <td>high</td>\n",
       "      <td>True</td>\n",
       "      <td>못함</td>\n",
       "    </tr>\n",
       "    <tr>\n",
       "      <th>3</th>\n",
       "      <td>overcast</td>\n",
       "      <td>hot</td>\n",
       "      <td>normal</td>\n",
       "      <td>False</td>\n",
       "      <td>잘함</td>\n",
       "    </tr>\n",
       "    <tr>\n",
       "      <th>4</th>\n",
       "      <td>rainy</td>\n",
       "      <td>mild</td>\n",
       "      <td>high</td>\n",
       "      <td>False</td>\n",
       "      <td>못함</td>\n",
       "    </tr>\n",
       "    <tr>\n",
       "      <th>5</th>\n",
       "      <td>rainy</td>\n",
       "      <td>cool</td>\n",
       "      <td>normal</td>\n",
       "      <td>False</td>\n",
       "      <td>잘함</td>\n",
       "    </tr>\n",
       "    <tr>\n",
       "      <th>6</th>\n",
       "      <td>rainy</td>\n",
       "      <td>cool</td>\n",
       "      <td>normal</td>\n",
       "      <td>True</td>\n",
       "      <td>잘함</td>\n",
       "    </tr>\n",
       "    <tr>\n",
       "      <th>7</th>\n",
       "      <td>rainy</td>\n",
       "      <td>mild</td>\n",
       "      <td>normal</td>\n",
       "      <td>False</td>\n",
       "      <td>잘함</td>\n",
       "    </tr>\n",
       "    <tr>\n",
       "      <th>8</th>\n",
       "      <td>rainy</td>\n",
       "      <td>mild</td>\n",
       "      <td>high</td>\n",
       "      <td>True</td>\n",
       "      <td>잘함</td>\n",
       "    </tr>\n",
       "    <tr>\n",
       "      <th>9</th>\n",
       "      <td>sunny</td>\n",
       "      <td>hot</td>\n",
       "      <td>high</td>\n",
       "      <td>False</td>\n",
       "      <td>못함</td>\n",
       "    </tr>\n",
       "    <tr>\n",
       "      <th>10</th>\n",
       "      <td>sunny</td>\n",
       "      <td>hot</td>\n",
       "      <td>high</td>\n",
       "      <td>True</td>\n",
       "      <td>못함</td>\n",
       "    </tr>\n",
       "    <tr>\n",
       "      <th>11</th>\n",
       "      <td>sunny</td>\n",
       "      <td>mild</td>\n",
       "      <td>high</td>\n",
       "      <td>False</td>\n",
       "      <td>못함</td>\n",
       "    </tr>\n",
       "    <tr>\n",
       "      <th>12</th>\n",
       "      <td>sunny</td>\n",
       "      <td>cool</td>\n",
       "      <td>normal</td>\n",
       "      <td>False</td>\n",
       "      <td>못함</td>\n",
       "    </tr>\n",
       "    <tr>\n",
       "      <th>13</th>\n",
       "      <td>sunny</td>\n",
       "      <td>mild</td>\n",
       "      <td>normal</td>\n",
       "      <td>True</td>\n",
       "      <td>못함</td>\n",
       "    </tr>\n",
       "  </tbody>\n",
       "</table>\n",
       "</div>"
      ],
      "text/plain": [
       "     outlook  temp humidity  windy play\n",
       "0   overcast   hot     high  False   못함\n",
       "1   overcast  cool   normal   True   못함\n",
       "2   overcast  mild     high   True   못함\n",
       "3   overcast   hot   normal  False   잘함\n",
       "4      rainy  mild     high  False   못함\n",
       "5      rainy  cool   normal  False   잘함\n",
       "6      rainy  cool   normal   True   잘함\n",
       "7      rainy  mild   normal  False   잘함\n",
       "8      rainy  mild     high   True   잘함\n",
       "9      sunny   hot     high  False   못함\n",
       "10     sunny   hot     high   True   못함\n",
       "11     sunny  mild     high  False   못함\n",
       "12     sunny  cool   normal  False   못함\n",
       "13     sunny  mild   normal   True   못함"
      ]
     },
     "execution_count": 321,
     "metadata": {},
     "output_type": "execute_result"
    }
   ],
   "source": [
    "data.play = np.random.choice(['잘함','못함'],data.play.size)\n",
    "data"
   ]
  },
  {
   "cell_type": "code",
   "execution_count": 322,
   "id": "0bc22d64-31d4-441e-9a7d-7aa78ceb4799",
   "metadata": {
    "tags": []
   },
   "outputs": [
    {
     "data": {
      "text/plain": [
       "dtype('O')"
      ]
     },
     "execution_count": 322,
     "metadata": {},
     "output_type": "execute_result"
    }
   ],
   "source": [
    "data.windy.dtype"
   ]
  },
  {
   "cell_type": "code",
   "execution_count": 323,
   "id": "9287e42e-f522-47d8-bb17-99db8cc4d60a",
   "metadata": {
    "tags": []
   },
   "outputs": [],
   "source": [
    "x = data.columns[:-1]\n",
    "y = data.columns[-1]"
   ]
  },
  {
   "cell_type": "code",
   "execution_count": 324,
   "id": "c5babd36-4509-4749-b464-34c2e88d5c5c",
   "metadata": {
    "tags": []
   },
   "outputs": [],
   "source": [
    "tree2 = make_tree(data,x,y)"
   ]
  },
  {
   "cell_type": "code",
   "execution_count": 326,
   "id": "a8c2afb4-697b-4b3d-91cb-0fa0338343ba",
   "metadata": {
    "tags": []
   },
   "outputs": [
    {
     "name": "stdout",
     "output_type": "stream",
     "text": [
      "{'outlook': {'overcast': 'yes',\n",
      "             'rainy': {'windy': {'False': 'yes', 'True': 'no'}},\n",
      "             'sunny': {'humidity': {'high': 'no', 'normal': 'yes'}}}}\n",
      "{'outlook': {'overcast': {'temp': {'cool': '못함',\n",
      "                                   'hot': {'humidity': {'high': '못함',\n",
      "                                                        'normal': '잘함'}},\n",
      "                                   'mild': '못함'}},\n",
      "             'rainy': {'humidity': {'high': {'windy': {'False': '못함',\n",
      "                                                       'True': '잘함'}},\n",
      "                                    'normal': '잘함'}},\n",
      "             'sunny': '못함'}}\n"
     ]
    }
   ],
   "source": [
    "pprint(tree)\n",
    "pprint(tree2)"
   ]
  },
  {
   "cell_type": "code",
   "execution_count": 328,
   "id": "fb447e96-5859-4c73-afe1-ea32ec390ae8",
   "metadata": {
    "tags": []
   },
   "outputs": [],
   "source": [
    "test_data = np.array(['overcast','cool','high','False'])"
   ]
  },
  {
   "cell_type": "code",
   "execution_count": 329,
   "id": "34e7728e-97f2-42c9-9b00-3c8c4205efa2",
   "metadata": {
    "tags": []
   },
   "outputs": [
    {
     "data": {
      "text/plain": [
       "'못함'"
      ]
     },
     "execution_count": 329,
     "metadata": {},
     "output_type": "execute_result"
    }
   ],
   "source": [
    "tree2['outlook'][test_data[0]]['temp'][test_data[1]]"
   ]
  },
  {
   "cell_type": "code",
   "execution_count": 331,
   "id": "0fcd36cf-a00d-4961-a25a-2755eed27a54",
   "metadata": {
    "tags": []
   },
   "outputs": [],
   "source": [
    "from sklearn.tree import DecisionTreeClassifier\n",
    "from sklearn.preprocessing import LabelEncoder\n",
    "model = DecisionTreeClassifier()"
   ]
  },
  {
   "cell_type": "code",
   "execution_count": 335,
   "id": "a49ad6b1-ec77-466b-867c-1c324421741a",
   "metadata": {
    "tags": []
   },
   "outputs": [
    {
     "data": {
      "text/plain": [
       "Index(['outlook', 'temp', 'humidity', 'windy', 'play'], dtype='object')"
      ]
     },
     "execution_count": 335,
     "metadata": {},
     "output_type": "execute_result"
    }
   ],
   "source": [
    "data.columns"
   ]
  },
  {
   "cell_type": "code",
   "execution_count": 336,
   "id": "bd62501e-7e2c-4e5b-86af-f7212d443546",
   "metadata": {
    "tags": []
   },
   "outputs": [],
   "source": [
    "le_outlook = LabelEncoder().fit(data.outlook)\n",
    "le_temp = LabelEncoder().fit(data.temp)\n",
    "le_humidity = LabelEncoder().fit(data.humidity)\n",
    "le_windy = LabelEncoder().fit(data.windy)\n"
   ]
  },
  {
   "cell_type": "code",
   "execution_count": 338,
   "id": "9615ffdf-971b-40e0-b32e-eb3dc30a513d",
   "metadata": {
    "tags": []
   },
   "outputs": [],
   "source": [
    "X = np.c_[le_outlook.transform(data.outlook), \n",
    "     le_temp.transform(data.temp),\n",
    "     le_humidity.transform(data.humidity),\n",
    "     le_windy.transform(data.windy)]\n",
    "y = data.play"
   ]
  },
  {
   "cell_type": "code",
   "execution_count": 339,
   "id": "4d289b1c-c6cb-4a3c-a900-29adf0d5075a",
   "metadata": {
    "tags": []
   },
   "outputs": [
    {
     "data": {
      "text/html": [
       "<style>#sk-container-id-1 {color: black;}#sk-container-id-1 pre{padding: 0;}#sk-container-id-1 div.sk-toggleable {background-color: white;}#sk-container-id-1 label.sk-toggleable__label {cursor: pointer;display: block;width: 100%;margin-bottom: 0;padding: 0.3em;box-sizing: border-box;text-align: center;}#sk-container-id-1 label.sk-toggleable__label-arrow:before {content: \"▸\";float: left;margin-right: 0.25em;color: #696969;}#sk-container-id-1 label.sk-toggleable__label-arrow:hover:before {color: black;}#sk-container-id-1 div.sk-estimator:hover label.sk-toggleable__label-arrow:before {color: black;}#sk-container-id-1 div.sk-toggleable__content {max-height: 0;max-width: 0;overflow: hidden;text-align: left;background-color: #f0f8ff;}#sk-container-id-1 div.sk-toggleable__content pre {margin: 0.2em;color: black;border-radius: 0.25em;background-color: #f0f8ff;}#sk-container-id-1 input.sk-toggleable__control:checked~div.sk-toggleable__content {max-height: 200px;max-width: 100%;overflow: auto;}#sk-container-id-1 input.sk-toggleable__control:checked~label.sk-toggleable__label-arrow:before {content: \"▾\";}#sk-container-id-1 div.sk-estimator input.sk-toggleable__control:checked~label.sk-toggleable__label {background-color: #d4ebff;}#sk-container-id-1 div.sk-label input.sk-toggleable__control:checked~label.sk-toggleable__label {background-color: #d4ebff;}#sk-container-id-1 input.sk-hidden--visually {border: 0;clip: rect(1px 1px 1px 1px);clip: rect(1px, 1px, 1px, 1px);height: 1px;margin: -1px;overflow: hidden;padding: 0;position: absolute;width: 1px;}#sk-container-id-1 div.sk-estimator {font-family: monospace;background-color: #f0f8ff;border: 1px dotted black;border-radius: 0.25em;box-sizing: border-box;margin-bottom: 0.5em;}#sk-container-id-1 div.sk-estimator:hover {background-color: #d4ebff;}#sk-container-id-1 div.sk-parallel-item::after {content: \"\";width: 100%;border-bottom: 1px solid gray;flex-grow: 1;}#sk-container-id-1 div.sk-label:hover label.sk-toggleable__label {background-color: #d4ebff;}#sk-container-id-1 div.sk-serial::before {content: \"\";position: absolute;border-left: 1px solid gray;box-sizing: border-box;top: 0;bottom: 0;left: 50%;z-index: 0;}#sk-container-id-1 div.sk-serial {display: flex;flex-direction: column;align-items: center;background-color: white;padding-right: 0.2em;padding-left: 0.2em;position: relative;}#sk-container-id-1 div.sk-item {position: relative;z-index: 1;}#sk-container-id-1 div.sk-parallel {display: flex;align-items: stretch;justify-content: center;background-color: white;position: relative;}#sk-container-id-1 div.sk-item::before, #sk-container-id-1 div.sk-parallel-item::before {content: \"\";position: absolute;border-left: 1px solid gray;box-sizing: border-box;top: 0;bottom: 0;left: 50%;z-index: -1;}#sk-container-id-1 div.sk-parallel-item {display: flex;flex-direction: column;z-index: 1;position: relative;background-color: white;}#sk-container-id-1 div.sk-parallel-item:first-child::after {align-self: flex-end;width: 50%;}#sk-container-id-1 div.sk-parallel-item:last-child::after {align-self: flex-start;width: 50%;}#sk-container-id-1 div.sk-parallel-item:only-child::after {width: 0;}#sk-container-id-1 div.sk-dashed-wrapped {border: 1px dashed gray;margin: 0 0.4em 0.5em 0.4em;box-sizing: border-box;padding-bottom: 0.4em;background-color: white;}#sk-container-id-1 div.sk-label label {font-family: monospace;font-weight: bold;display: inline-block;line-height: 1.2em;}#sk-container-id-1 div.sk-label-container {text-align: center;}#sk-container-id-1 div.sk-container {/* jupyter's `normalize.less` sets `[hidden] { display: none; }` but bootstrap.min.css set `[hidden] { display: none !important; }` so we also need the `!important` here to be able to override the default hidden behavior on the sphinx rendered scikit-learn.org. See: https://github.com/scikit-learn/scikit-learn/issues/21755 */display: inline-block !important;position: relative;}#sk-container-id-1 div.sk-text-repr-fallback {display: none;}</style><div id=\"sk-container-id-1\" class=\"sk-top-container\"><div class=\"sk-text-repr-fallback\"><pre>DecisionTreeClassifier()</pre><b>In a Jupyter environment, please rerun this cell to show the HTML representation or trust the notebook. <br />On GitHub, the HTML representation is unable to render, please try loading this page with nbviewer.org.</b></div><div class=\"sk-container\" hidden><div class=\"sk-item\"><div class=\"sk-estimator sk-toggleable\"><input class=\"sk-toggleable__control sk-hidden--visually\" id=\"sk-estimator-id-1\" type=\"checkbox\" checked><label for=\"sk-estimator-id-1\" class=\"sk-toggleable__label sk-toggleable__label-arrow\">DecisionTreeClassifier</label><div class=\"sk-toggleable__content\"><pre>DecisionTreeClassifier()</pre></div></div></div></div></div>"
      ],
      "text/plain": [
       "DecisionTreeClassifier()"
      ]
     },
     "execution_count": 339,
     "metadata": {},
     "output_type": "execute_result"
    }
   ],
   "source": [
    "model.fit(X,y)"
   ]
  },
  {
   "cell_type": "code",
   "execution_count": null,
   "id": "d7a3582d-4b6a-4398-b542-69eaefd83afd",
   "metadata": {},
   "outputs": [],
   "source": [
    "test_data = np.array(['overcast','cool','high','False'])"
   ]
  },
  {
   "cell_type": "code",
   "execution_count": 343,
   "id": "88496f3d-9b41-4325-a858-56f962ef524d",
   "metadata": {
    "tags": []
   },
   "outputs": [
    {
     "data": {
      "text/plain": [
       "(array([0]), array([0]), array([0]), array([0]))"
      ]
     },
     "execution_count": 343,
     "metadata": {},
     "output_type": "execute_result"
    }
   ],
   "source": [
    "le_outlook.transform(['overcast']), le_temp.transform(['cool']), le_humidity.transform(['high']), le_windy.transform(['False'])"
   ]
  },
  {
   "cell_type": "code",
   "execution_count": 344,
   "id": "4497659e-b96c-4b46-a29a-925726be5f06",
   "metadata": {
    "tags": []
   },
   "outputs": [
    {
     "data": {
      "text/plain": [
       "(14, 4)"
      ]
     },
     "execution_count": 344,
     "metadata": {},
     "output_type": "execute_result"
    }
   ],
   "source": [
    "X.shape"
   ]
  },
  {
   "cell_type": "code",
   "execution_count": 345,
   "id": "250193b8-a951-4e25-9494-77337cd0a439",
   "metadata": {
    "tags": []
   },
   "outputs": [
    {
     "data": {
      "text/plain": [
       "array(['못함'], dtype=object)"
      ]
     },
     "execution_count": 345,
     "metadata": {},
     "output_type": "execute_result"
    }
   ],
   "source": [
    "model.predict(np.array([0,0,0,0]).reshape(1,4))"
   ]
  },
  {
   "cell_type": "code",
   "execution_count": 346,
   "id": "697ce1b8-f0d6-41d5-8b66-8d145e91a0af",
   "metadata": {
    "tags": []
   },
   "outputs": [
    {
     "data": {
      "text/plain": [
       "{'ccp_alpha': 0.0,\n",
       " 'class_weight': None,\n",
       " 'criterion': 'gini',\n",
       " 'max_depth': None,\n",
       " 'max_features': None,\n",
       " 'max_leaf_nodes': None,\n",
       " 'min_impurity_decrease': 0.0,\n",
       " 'min_samples_leaf': 1,\n",
       " 'min_samples_split': 2,\n",
       " 'min_weight_fraction_leaf': 0.0,\n",
       " 'random_state': None,\n",
       " 'splitter': 'best'}"
      ]
     },
     "execution_count": 346,
     "metadata": {},
     "output_type": "execute_result"
    }
   ],
   "source": [
    "model.get_params()"
   ]
  },
  {
   "cell_type": "code",
   "execution_count": 347,
   "id": "b318e277-18ea-47c8-9163-7e1dcfa0abd6",
   "metadata": {
    "collapsed": true,
    "jupyter": {
     "outputs_hidden": true
    },
    "tags": []
   },
   "outputs": [
    {
     "data": {
      "text/plain": [
       "['__abstractmethods__',\n",
       " '__annotations__',\n",
       " '__class__',\n",
       " '__delattr__',\n",
       " '__dict__',\n",
       " '__dir__',\n",
       " '__doc__',\n",
       " '__eq__',\n",
       " '__format__',\n",
       " '__ge__',\n",
       " '__getattribute__',\n",
       " '__getstate__',\n",
       " '__gt__',\n",
       " '__hash__',\n",
       " '__init__',\n",
       " '__init_subclass__',\n",
       " '__le__',\n",
       " '__lt__',\n",
       " '__module__',\n",
       " '__ne__',\n",
       " '__new__',\n",
       " '__reduce__',\n",
       " '__reduce_ex__',\n",
       " '__repr__',\n",
       " '__setattr__',\n",
       " '__setstate__',\n",
       " '__sizeof__',\n",
       " '__sklearn_clone__',\n",
       " '__str__',\n",
       " '__subclasshook__',\n",
       " '__weakref__',\n",
       " '_abc_impl',\n",
       " '_build_request_for_signature',\n",
       " '_check_feature_names',\n",
       " '_check_n_features',\n",
       " '_compute_missing_values_in_feature_mask',\n",
       " '_estimator_type',\n",
       " '_fit',\n",
       " '_get_default_requests',\n",
       " '_get_metadata_request',\n",
       " '_get_param_names',\n",
       " '_get_tags',\n",
       " '_more_tags',\n",
       " '_parameter_constraints',\n",
       " '_prune_tree',\n",
       " '_repr_html_',\n",
       " '_repr_html_inner',\n",
       " '_repr_mimebundle_',\n",
       " '_support_missing_values',\n",
       " '_validate_X_predict',\n",
       " '_validate_data',\n",
       " '_validate_params',\n",
       " 'apply',\n",
       " 'ccp_alpha',\n",
       " 'class_weight',\n",
       " 'classes_',\n",
       " 'cost_complexity_pruning_path',\n",
       " 'criterion',\n",
       " 'decision_path',\n",
       " 'feature_importances_',\n",
       " 'fit',\n",
       " 'get_depth',\n",
       " 'get_metadata_routing',\n",
       " 'get_n_leaves',\n",
       " 'get_params',\n",
       " 'max_depth',\n",
       " 'max_features',\n",
       " 'max_features_',\n",
       " 'max_leaf_nodes',\n",
       " 'min_impurity_decrease',\n",
       " 'min_samples_leaf',\n",
       " 'min_samples_split',\n",
       " 'min_weight_fraction_leaf',\n",
       " 'n_classes_',\n",
       " 'n_features_in_',\n",
       " 'n_outputs_',\n",
       " 'predict',\n",
       " 'predict_log_proba',\n",
       " 'predict_proba',\n",
       " 'random_state',\n",
       " 'score',\n",
       " 'set_fit_request',\n",
       " 'set_params',\n",
       " 'set_predict_proba_request',\n",
       " 'set_predict_request',\n",
       " 'set_score_request',\n",
       " 'splitter',\n",
       " 'tree_']"
      ]
     },
     "execution_count": 347,
     "metadata": {},
     "output_type": "execute_result"
    }
   ],
   "source": [
    "dir(model)"
   ]
  },
  {
   "cell_type": "code",
   "execution_count": 348,
   "id": "fa41c99d-ea13-4176-9532-19d4783b4fb9",
   "metadata": {
    "tags": []
   },
   "outputs": [],
   "source": [
    "from sklearn import tree"
   ]
  },
  {
   "cell_type": "code",
   "execution_count": 349,
   "id": "873a68e3-594a-4c9f-beb6-32175637e8d7",
   "metadata": {
    "tags": []
   },
   "outputs": [
    {
     "data": {
      "text/plain": [
       "['BaseDecisionTree',\n",
       " 'DecisionTreeClassifier',\n",
       " 'DecisionTreeRegressor',\n",
       " 'ExtraTreeClassifier',\n",
       " 'ExtraTreeRegressor',\n",
       " '__all__',\n",
       " '__builtins__',\n",
       " '__cached__',\n",
       " '__doc__',\n",
       " '__file__',\n",
       " '__loader__',\n",
       " '__name__',\n",
       " '__package__',\n",
       " '__path__',\n",
       " '__spec__',\n",
       " '_classes',\n",
       " '_criterion',\n",
       " '_export',\n",
       " '_reingold_tilford',\n",
       " '_splitter',\n",
       " '_tree',\n",
       " '_utils',\n",
       " 'export_graphviz',\n",
       " 'export_text',\n",
       " 'plot_tree']"
      ]
     },
     "execution_count": 349,
     "metadata": {},
     "output_type": "execute_result"
    }
   ],
   "source": [
    "dir(tree)"
   ]
  },
  {
   "cell_type": "code",
   "execution_count": 350,
   "id": "0c4c962e-0b7b-446e-b3ac-08b78016de12",
   "metadata": {
    "tags": []
   },
   "outputs": [],
   "source": [
    "from sklearn.tree import plot_tree"
   ]
  },
  {
   "cell_type": "code",
   "execution_count": 353,
   "id": "a9ffba68-4cac-4349-b663-e3fa7eac9289",
   "metadata": {
    "tags": []
   },
   "outputs": [],
   "source": [
    "tree_model = DecisionTreeClassifier(max_depth=3)"
   ]
  },
  {
   "cell_type": "code",
   "execution_count": 354,
   "id": "07f5be7f-727e-4d9c-babf-bdbe6429a097",
   "metadata": {
    "tags": []
   },
   "outputs": [
    {
     "data": {
      "text/html": [
       "<style>#sk-container-id-2 {color: black;}#sk-container-id-2 pre{padding: 0;}#sk-container-id-2 div.sk-toggleable {background-color: white;}#sk-container-id-2 label.sk-toggleable__label {cursor: pointer;display: block;width: 100%;margin-bottom: 0;padding: 0.3em;box-sizing: border-box;text-align: center;}#sk-container-id-2 label.sk-toggleable__label-arrow:before {content: \"▸\";float: left;margin-right: 0.25em;color: #696969;}#sk-container-id-2 label.sk-toggleable__label-arrow:hover:before {color: black;}#sk-container-id-2 div.sk-estimator:hover label.sk-toggleable__label-arrow:before {color: black;}#sk-container-id-2 div.sk-toggleable__content {max-height: 0;max-width: 0;overflow: hidden;text-align: left;background-color: #f0f8ff;}#sk-container-id-2 div.sk-toggleable__content pre {margin: 0.2em;color: black;border-radius: 0.25em;background-color: #f0f8ff;}#sk-container-id-2 input.sk-toggleable__control:checked~div.sk-toggleable__content {max-height: 200px;max-width: 100%;overflow: auto;}#sk-container-id-2 input.sk-toggleable__control:checked~label.sk-toggleable__label-arrow:before {content: \"▾\";}#sk-container-id-2 div.sk-estimator input.sk-toggleable__control:checked~label.sk-toggleable__label {background-color: #d4ebff;}#sk-container-id-2 div.sk-label input.sk-toggleable__control:checked~label.sk-toggleable__label {background-color: #d4ebff;}#sk-container-id-2 input.sk-hidden--visually {border: 0;clip: rect(1px 1px 1px 1px);clip: rect(1px, 1px, 1px, 1px);height: 1px;margin: -1px;overflow: hidden;padding: 0;position: absolute;width: 1px;}#sk-container-id-2 div.sk-estimator {font-family: monospace;background-color: #f0f8ff;border: 1px dotted black;border-radius: 0.25em;box-sizing: border-box;margin-bottom: 0.5em;}#sk-container-id-2 div.sk-estimator:hover {background-color: #d4ebff;}#sk-container-id-2 div.sk-parallel-item::after {content: \"\";width: 100%;border-bottom: 1px solid gray;flex-grow: 1;}#sk-container-id-2 div.sk-label:hover label.sk-toggleable__label {background-color: #d4ebff;}#sk-container-id-2 div.sk-serial::before {content: \"\";position: absolute;border-left: 1px solid gray;box-sizing: border-box;top: 0;bottom: 0;left: 50%;z-index: 0;}#sk-container-id-2 div.sk-serial {display: flex;flex-direction: column;align-items: center;background-color: white;padding-right: 0.2em;padding-left: 0.2em;position: relative;}#sk-container-id-2 div.sk-item {position: relative;z-index: 1;}#sk-container-id-2 div.sk-parallel {display: flex;align-items: stretch;justify-content: center;background-color: white;position: relative;}#sk-container-id-2 div.sk-item::before, #sk-container-id-2 div.sk-parallel-item::before {content: \"\";position: absolute;border-left: 1px solid gray;box-sizing: border-box;top: 0;bottom: 0;left: 50%;z-index: -1;}#sk-container-id-2 div.sk-parallel-item {display: flex;flex-direction: column;z-index: 1;position: relative;background-color: white;}#sk-container-id-2 div.sk-parallel-item:first-child::after {align-self: flex-end;width: 50%;}#sk-container-id-2 div.sk-parallel-item:last-child::after {align-self: flex-start;width: 50%;}#sk-container-id-2 div.sk-parallel-item:only-child::after {width: 0;}#sk-container-id-2 div.sk-dashed-wrapped {border: 1px dashed gray;margin: 0 0.4em 0.5em 0.4em;box-sizing: border-box;padding-bottom: 0.4em;background-color: white;}#sk-container-id-2 div.sk-label label {font-family: monospace;font-weight: bold;display: inline-block;line-height: 1.2em;}#sk-container-id-2 div.sk-label-container {text-align: center;}#sk-container-id-2 div.sk-container {/* jupyter's `normalize.less` sets `[hidden] { display: none; }` but bootstrap.min.css set `[hidden] { display: none !important; }` so we also need the `!important` here to be able to override the default hidden behavior on the sphinx rendered scikit-learn.org. See: https://github.com/scikit-learn/scikit-learn/issues/21755 */display: inline-block !important;position: relative;}#sk-container-id-2 div.sk-text-repr-fallback {display: none;}</style><div id=\"sk-container-id-2\" class=\"sk-top-container\"><div class=\"sk-text-repr-fallback\"><pre>DecisionTreeClassifier(max_depth=3)</pre><b>In a Jupyter environment, please rerun this cell to show the HTML representation or trust the notebook. <br />On GitHub, the HTML representation is unable to render, please try loading this page with nbviewer.org.</b></div><div class=\"sk-container\" hidden><div class=\"sk-item\"><div class=\"sk-estimator sk-toggleable\"><input class=\"sk-toggleable__control sk-hidden--visually\" id=\"sk-estimator-id-2\" type=\"checkbox\" checked><label for=\"sk-estimator-id-2\" class=\"sk-toggleable__label sk-toggleable__label-arrow\">DecisionTreeClassifier</label><div class=\"sk-toggleable__content\"><pre>DecisionTreeClassifier(max_depth=3)</pre></div></div></div></div></div>"
      ],
      "text/plain": [
       "DecisionTreeClassifier(max_depth=3)"
      ]
     },
     "execution_count": 354,
     "metadata": {},
     "output_type": "execute_result"
    }
   ],
   "source": [
    "tree_model.fit(X,y)"
   ]
  },
  {
   "cell_type": "code",
   "execution_count": 355,
   "id": "1aa2917f-8654-430c-9767-ad8504edc5a6",
   "metadata": {
    "tags": []
   },
   "outputs": [
    {
     "data": {
      "text/plain": [
       "[Text(0.625, 0.875, 'x[0] <= 1.5\\ngini = 0.459\\nsamples = 14\\nvalue = [9, 5]'),\n",
       " Text(0.5, 0.625, 'x[2] <= 0.5\\ngini = 0.494\\nsamples = 9\\nvalue = [4, 5]'),\n",
       " Text(0.25, 0.375, 'x[0] <= 0.5\\ngini = 0.375\\nsamples = 4\\nvalue = [3, 1]'),\n",
       " Text(0.125, 0.125, 'gini = 0.0\\nsamples = 2\\nvalue = [2, 0]'),\n",
       " Text(0.375, 0.125, 'gini = 0.5\\nsamples = 2\\nvalue = [1, 1]'),\n",
       " Text(0.75, 0.375, 'x[3] <= 0.5\\ngini = 0.32\\nsamples = 5\\nvalue = [1, 4]'),\n",
       " Text(0.625, 0.125, 'gini = 0.0\\nsamples = 3\\nvalue = [0, 3]'),\n",
       " Text(0.875, 0.125, 'gini = 0.5\\nsamples = 2\\nvalue = [1, 1]'),\n",
       " Text(0.75, 0.625, 'gini = 0.0\\nsamples = 5\\nvalue = [5, 0]')]"
      ]
     },
     "execution_count": 355,
     "metadata": {},
     "output_type": "execute_result"
    },
    {
     "data": {
      "image/png": "[encoded data removed]",
      "text/plain": [
       "<Figure size 640x480 with 1 Axes>"
      ]
     },
     "metadata": {},
     "output_type": "display_data"
    }
   ],
   "source": [
    "plot_tree(tree_model)"
   ]
  },
  {
   "cell_type": "code",
   "execution_count": 356,
   "id": "17d6b78b-cfbe-496a-a0a7-337a2bb0bbdb",
   "metadata": {
    "tags": []
   },
   "outputs": [
    {
     "data": {
      "text/plain": [
       "array(['못함'], dtype=object)"
      ]
     },
     "execution_count": 356,
     "metadata": {},
     "output_type": "execute_result"
    }
   ],
   "source": [
    "tree_model.predict(np.array([0,0,0,0]).reshape(1,4))"
   ]
  },
  {
   "cell_type": "code",
   "execution_count": 358,
   "id": "b396fdbb-b258-4178-a367-480f7eda1dba",
   "metadata": {
    "tags": []
   },
   "outputs": [],
   "source": [
    "from sklearn.naive_bayes import GaussianNB"
   ]
  },
  {
   "cell_type": "code",
   "execution_count": 359,
   "id": "c00f0e45-62b7-4301-b818-d621764fb4f2",
   "metadata": {
    "tags": []
   },
   "outputs": [],
   "source": [
    "model = GaussianNB()"
   ]
  },
  {
   "cell_type": "code",
   "execution_count": 360,
   "id": "7f2e3573-c4e4-4df6-8f8f-17c99af88e4a",
   "metadata": {
    "tags": []
   },
   "outputs": [
    {
     "data": {
      "text/html": [
       "<style>#sk-container-id-3 {color: black;}#sk-container-id-3 pre{padding: 0;}#sk-container-id-3 div.sk-toggleable {background-color: white;}#sk-container-id-3 label.sk-toggleable__label {cursor: pointer;display: block;width: 100%;margin-bottom: 0;padding: 0.3em;box-sizing: border-box;text-align: center;}#sk-container-id-3 label.sk-toggleable__label-arrow:before {content: \"▸\";float: left;margin-right: 0.25em;color: #696969;}#sk-container-id-3 label.sk-toggleable__label-arrow:hover:before {color: black;}#sk-container-id-3 div.sk-estimator:hover label.sk-toggleable__label-arrow:before {color: black;}#sk-container-id-3 div.sk-toggleable__content {max-height: 0;max-width: 0;overflow: hidden;text-align: left;background-color: #f0f8ff;}#sk-container-id-3 div.sk-toggleable__content pre {margin: 0.2em;color: black;border-radius: 0.25em;background-color: #f0f8ff;}#sk-container-id-3 input.sk-toggleable__control:checked~div.sk-toggleable__content {max-height: 200px;max-width: 100%;overflow: auto;}#sk-container-id-3 input.sk-toggleable__control:checked~label.sk-toggleable__label-arrow:before {content: \"▾\";}#sk-container-id-3 div.sk-estimator input.sk-toggleable__control:checked~label.sk-toggleable__label {background-color: #d4ebff;}#sk-container-id-3 div.sk-label input.sk-toggleable__control:checked~label.sk-toggleable__label {background-color: #d4ebff;}#sk-container-id-3 input.sk-hidden--visually {border: 0;clip: rect(1px 1px 1px 1px);clip: rect(1px, 1px, 1px, 1px);height: 1px;margin: -1px;overflow: hidden;padding: 0;position: absolute;width: 1px;}#sk-container-id-3 div.sk-estimator {font-family: monospace;background-color: #f0f8ff;border: 1px dotted black;border-radius: 0.25em;box-sizing: border-box;margin-bottom: 0.5em;}#sk-container-id-3 div.sk-estimator:hover {background-color: #d4ebff;}#sk-container-id-3 div.sk-parallel-item::after {content: \"\";width: 100%;border-bottom: 1px solid gray;flex-grow: 1;}#sk-container-id-3 div.sk-label:hover label.sk-toggleable__label {background-color: #d4ebff;}#sk-container-id-3 div.sk-serial::before {content: \"\";position: absolute;border-left: 1px solid gray;box-sizing: border-box;top: 0;bottom: 0;left: 50%;z-index: 0;}#sk-container-id-3 div.sk-serial {display: flex;flex-direction: column;align-items: center;background-color: white;padding-right: 0.2em;padding-left: 0.2em;position: relative;}#sk-container-id-3 div.sk-item {position: relative;z-index: 1;}#sk-container-id-3 div.sk-parallel {display: flex;align-items: stretch;justify-content: center;background-color: white;position: relative;}#sk-container-id-3 div.sk-item::before, #sk-container-id-3 div.sk-parallel-item::before {content: \"\";position: absolute;border-left: 1px solid gray;box-sizing: border-box;top: 0;bottom: 0;left: 50%;z-index: -1;}#sk-container-id-3 div.sk-parallel-item {display: flex;flex-direction: column;z-index: 1;position: relative;background-color: white;}#sk-container-id-3 div.sk-parallel-item:first-child::after {align-self: flex-end;width: 50%;}#sk-container-id-3 div.sk-parallel-item:last-child::after {align-self: flex-start;width: 50%;}#sk-container-id-3 div.sk-parallel-item:only-child::after {width: 0;}#sk-container-id-3 div.sk-dashed-wrapped {border: 1px dashed gray;margin: 0 0.4em 0.5em 0.4em;box-sizing: border-box;padding-bottom: 0.4em;background-color: white;}#sk-container-id-3 div.sk-label label {font-family: monospace;font-weight: bold;display: inline-block;line-height: 1.2em;}#sk-container-id-3 div.sk-label-container {text-align: center;}#sk-container-id-3 div.sk-container {/* jupyter's `normalize.less` sets `[hidden] { display: none; }` but bootstrap.min.css set `[hidden] { display: none !important; }` so we also need the `!important` here to be able to override the default hidden behavior on the sphinx rendered scikit-learn.org. See: https://github.com/scikit-learn/scikit-learn/issues/21755 */display: inline-block !important;position: relative;}#sk-container-id-3 div.sk-text-repr-fallback {display: none;}</style><div id=\"sk-container-id-3\" class=\"sk-top-container\"><div class=\"sk-text-repr-fallback\"><pre>GaussianNB()</pre><b>In a Jupyter environment, please rerun this cell to show the HTML representation or trust the notebook. <br />On GitHub, the HTML representation is unable to render, please try loading this page with nbviewer.org.</b></div><div class=\"sk-container\" hidden><div class=\"sk-item\"><div class=\"sk-estimator sk-toggleable\"><input class=\"sk-toggleable__control sk-hidden--visually\" id=\"sk-estimator-id-3\" type=\"checkbox\" checked><label for=\"sk-estimator-id-3\" class=\"sk-toggleable__label sk-toggleable__label-arrow\">GaussianNB</label><div class=\"sk-toggleable__content\"><pre>GaussianNB()</pre></div></div></div></div></div>"
      ],
      "text/plain": [
       "GaussianNB()"
      ]
     },
     "execution_count": 360,
     "metadata": {},
     "output_type": "execute_result"
    }
   ],
   "source": [
    "model.fit(X,y)"
   ]
  },
  {
   "cell_type": "code",
   "execution_count": 361,
   "id": "ee2d7861-aba6-4788-80ff-cdef51f59d02",
   "metadata": {
    "tags": []
   },
   "outputs": [
    {
     "data": {
      "text/plain": [
       "array(['못함', '잘함', '못함', '잘함', '못함', '잘함', '잘함', '잘함', '못함', '못함', '못함',\n",
       "       '못함', '못함', '못함'], dtype='<U2')"
      ]
     },
     "execution_count": 361,
     "metadata": {},
     "output_type": "execute_result"
    }
   ],
   "source": [
    "model.predict(X)"
   ]
  },
  {
   "cell_type": "code",
   "execution_count": 362,
   "id": "70038f10-06db-421a-be52-486e52fa3fb5",
   "metadata": {
    "tags": []
   },
   "outputs": [],
   "source": [
    "from sklearn import naive_bayes"
   ]
  },
  {
   "cell_type": "code",
   "execution_count": 363,
   "id": "4d11ec61-19e9-4409-9c81-acb9e7a773b0",
   "metadata": {
    "tags": []
   },
   "outputs": [
    {
     "data": {
      "text/plain": [
       "['ABCMeta',\n",
       " 'BaseEstimator',\n",
       " 'BernoulliNB',\n",
       " 'CategoricalNB',\n",
       " 'ClassifierMixin',\n",
       " 'ComplementNB',\n",
       " 'GaussianNB',\n",
       " 'Hidden',\n",
       " 'Integral',\n",
       " 'Interval',\n",
       " 'LabelBinarizer',\n",
       " 'MultinomialNB',\n",
       " 'Real',\n",
       " 'StrOptions',\n",
       " '_BaseDiscreteNB',\n",
       " '_BaseNB',\n",
       " '__all__',\n",
       " '__builtins__',\n",
       " '__cached__',\n",
       " '__doc__',\n",
       " '__file__',\n",
       " '__loader__',\n",
       " '__name__',\n",
       " '__package__',\n",
       " '__spec__',\n",
       " '_check_partial_fit_first_call',\n",
       " '_check_sample_weight',\n",
       " '_fit_context',\n",
       " 'abstractmethod',\n",
       " 'binarize',\n",
       " 'check_is_fitted',\n",
       " 'check_non_negative',\n",
       " 'label_binarize',\n",
       " 'logsumexp',\n",
       " 'np',\n",
       " 'safe_sparse_dot',\n",
       " 'warnings']"
      ]
     },
     "execution_count": 363,
     "metadata": {},
     "output_type": "execute_result"
    }
   ],
   "source": [
    "dir(naive_bayes)"
   ]
  },
  {
   "cell_type": "code",
   "execution_count": 364,
   "id": "fbe2d192-8b38-4e44-80cb-bad0cec68762",
   "metadata": {
    "tags": []
   },
   "outputs": [
    {
     "data": {
      "text/plain": [
       "['__abstractmethods__',\n",
       " '__annotations__',\n",
       " '__class__',\n",
       " '__delattr__',\n",
       " '__dict__',\n",
       " '__dir__',\n",
       " '__doc__',\n",
       " '__eq__',\n",
       " '__format__',\n",
       " '__ge__',\n",
       " '__getattribute__',\n",
       " '__getstate__',\n",
       " '__gt__',\n",
       " '__hash__',\n",
       " '__init__',\n",
       " '__init_subclass__',\n",
       " '__le__',\n",
       " '__lt__',\n",
       " '__module__',\n",
       " '__ne__',\n",
       " '__new__',\n",
       " '__reduce__',\n",
       " '__reduce_ex__',\n",
       " '__repr__',\n",
       " '__setattr__',\n",
       " '__setstate__',\n",
       " '__sizeof__',\n",
       " '__sklearn_clone__',\n",
       " '__str__',\n",
       " '__subclasshook__',\n",
       " '__weakref__',\n",
       " '_abc_impl',\n",
       " '_build_request_for_signature',\n",
       " '_check_X',\n",
       " '_check_feature_names',\n",
       " '_check_n_features',\n",
       " '_estimator_type',\n",
       " '_get_default_requests',\n",
       " '_get_metadata_request',\n",
       " '_get_param_names',\n",
       " '_get_tags',\n",
       " '_joint_log_likelihood',\n",
       " '_more_tags',\n",
       " '_parameter_constraints',\n",
       " '_partial_fit',\n",
       " '_repr_html_',\n",
       " '_repr_html_inner',\n",
       " '_repr_mimebundle_',\n",
       " '_update_mean_variance',\n",
       " '_validate_data',\n",
       " '_validate_params',\n",
       " 'class_count_',\n",
       " 'class_prior_',\n",
       " 'classes_',\n",
       " 'epsilon_',\n",
       " 'fit',\n",
       " 'get_metadata_routing',\n",
       " 'get_params',\n",
       " 'n_features_in_',\n",
       " 'partial_fit',\n",
       " 'predict',\n",
       " 'predict_joint_log_proba',\n",
       " 'predict_log_proba',\n",
       " 'predict_proba',\n",
       " 'priors',\n",
       " 'score',\n",
       " 'set_fit_request',\n",
       " 'set_params',\n",
       " 'set_partial_fit_request',\n",
       " 'set_score_request',\n",
       " 'theta_',\n",
       " 'var_',\n",
       " 'var_smoothing']"
      ]
     },
     "execution_count": 364,
     "metadata": {},
     "output_type": "execute_result"
    }
   ],
   "source": [
    "dir(model)"
   ]
  },
  {
   "cell_type": "code",
   "execution_count": null,
   "id": "63461ac9-9e89-4a37-b083-5d02c9b82fd0",
   "metadata": {},
   "outputs": [],
   "source": []
  }
 ],
 "metadata": {
  "kernelspec": {
   "display_name": "Python 3 (ipykernel)",
   "language": "python",
   "name": "python3"
  },
  "language_info": {
   "codemirror_mode": {
    "name": "ipython",
    "version": 3
   },
   "file_extension": ".py",
   "mimetype": "text/x-python",
   "name": "python",
   "nbconvert_exporter": "python",
   "pygments_lexer": "ipython3",
   "version": "3.11.4"
  }
 },
 "nbformat": 4,
 "nbformat_minor": 5
}
