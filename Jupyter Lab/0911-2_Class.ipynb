{
 "cells": [
  {
   "cell_type": "code",
   "execution_count": 1,
   "id": "7388ff15-92b1-448c-9022-a890305a9f71",
   "metadata": {
    "tags": []
   },
   "outputs": [],
   "source": [
    "#DataFrame의 정체를 확인\n",
    "    #.shape\n",
    "#data 구성\n",
    "    #.dtypes\n",
    "#변수구성\n",
    "    #.columns\n",
    "#Series확인\n",
    "    #.columns의 변수명"
   ]
  },
  {
   "cell_type": "code",
   "execution_count": 2,
   "id": "1d643f6c-1794-4b80-8d4c-547c666624ff",
   "metadata": {
    "tags": []
   },
   "outputs": [],
   "source": [
    "import pandas as pd\n",
    "import numpy as np"
   ]
  },
  {
   "cell_type": "code",
   "execution_count": 45,
   "id": "1f8e928f-cd04-47c8-99ad-8931cfccb8b6",
   "metadata": {
    "tags": []
   },
   "outputs": [],
   "source": [
    "test = pd.DataFrame({'이름':['김담향','이재빈','김나영','김건우','김태영','김동일'],'나이':[33,25,26,28,26,26],'박물관방문':[5,1,4,1,20,21],'방문회수비율':[0.15,0.04,0.15,0.05,0.78,0.81],'성별':['여자','남자','여자','남자','남자','남자']})"
   ]
  },
  {
   "cell_type": "code",
   "execution_count": 4,
   "id": "56b0dda3-0bcf-40ee-bdff-7e7663c7048b",
   "metadata": {
    "tags": []
   },
   "outputs": [],
   "source": [
    "test1 = pd.DataFrame({'이름':['명하영','조가영','강다솜'],'나이':[27,27,28],'박물관방문':[8,9,np.nan]})"
   ]
  },
  {
   "cell_type": "code",
   "execution_count": 5,
   "id": "bcc9f217-37a4-43a5-a4fc-62ce9d1fd12f",
   "metadata": {
    "tags": []
   },
   "outputs": [
    {
     "data": {
      "text/html": [
       "<div>\n",
       "<style scoped>\n",
       "    .dataframe tbody tr th:only-of-type {\n",
       "        vertical-align: middle;\n",
       "    }\n",
       "\n",
       "    .dataframe tbody tr th {\n",
       "        vertical-align: top;\n",
       "    }\n",
       "\n",
       "    .dataframe thead th {\n",
       "        text-align: right;\n",
       "    }\n",
       "</style>\n",
       "<table border=\"1\" class=\"dataframe\">\n",
       "  <thead>\n",
       "    <tr style=\"text-align: right;\">\n",
       "      <th></th>\n",
       "      <th>이름</th>\n",
       "      <th>나이</th>\n",
       "      <th>박물관방문</th>\n",
       "    </tr>\n",
       "  </thead>\n",
       "  <tbody>\n",
       "    <tr>\n",
       "      <th>0</th>\n",
       "      <td>명하영</td>\n",
       "      <td>27</td>\n",
       "      <td>8.0</td>\n",
       "    </tr>\n",
       "    <tr>\n",
       "      <th>1</th>\n",
       "      <td>조가영</td>\n",
       "      <td>27</td>\n",
       "      <td>9.0</td>\n",
       "    </tr>\n",
       "    <tr>\n",
       "      <th>2</th>\n",
       "      <td>강다솜</td>\n",
       "      <td>28</td>\n",
       "      <td>NaN</td>\n",
       "    </tr>\n",
       "  </tbody>\n",
       "</table>\n",
       "</div>"
      ],
      "text/plain": [
       "    이름  나이  박물관방문\n",
       "0  명하영  27    8.0\n",
       "1  조가영  27    9.0\n",
       "2  강다솜  28    NaN"
      ]
     },
     "execution_count": 5,
     "metadata": {},
     "output_type": "execute_result"
    }
   ],
   "source": [
    "test1"
   ]
  },
  {
   "cell_type": "code",
   "execution_count": 6,
   "id": "42cfceb0-d936-4c97-8cef-b6a92aea1e39",
   "metadata": {
    "tags": []
   },
   "outputs": [],
   "source": [
    "test = pd.concat([test,test1])"
   ]
  },
  {
   "cell_type": "code",
   "execution_count": 7,
   "id": "292feb2c-8225-4efe-88bd-ed282dfbc744",
   "metadata": {
    "tags": []
   },
   "outputs": [
    {
     "data": {
      "text/html": [
       "<div>\n",
       "<style scoped>\n",
       "    .dataframe tbody tr th:only-of-type {\n",
       "        vertical-align: middle;\n",
       "    }\n",
       "\n",
       "    .dataframe tbody tr th {\n",
       "        vertical-align: top;\n",
       "    }\n",
       "\n",
       "    .dataframe thead th {\n",
       "        text-align: right;\n",
       "    }\n",
       "</style>\n",
       "<table border=\"1\" class=\"dataframe\">\n",
       "  <thead>\n",
       "    <tr style=\"text-align: right;\">\n",
       "      <th></th>\n",
       "      <th>이름</th>\n",
       "      <th>나이</th>\n",
       "      <th>박물관방문</th>\n",
       "      <th>방문회수비율</th>\n",
       "      <th>성별</th>\n",
       "    </tr>\n",
       "  </thead>\n",
       "  <tbody>\n",
       "    <tr>\n",
       "      <th>0</th>\n",
       "      <td>김담향</td>\n",
       "      <td>33</td>\n",
       "      <td>5.0</td>\n",
       "      <td>0.15</td>\n",
       "      <td>여자</td>\n",
       "    </tr>\n",
       "    <tr>\n",
       "      <th>1</th>\n",
       "      <td>이재빈</td>\n",
       "      <td>25</td>\n",
       "      <td>1.0</td>\n",
       "      <td>0.04</td>\n",
       "      <td>남자</td>\n",
       "    </tr>\n",
       "    <tr>\n",
       "      <th>2</th>\n",
       "      <td>김나영</td>\n",
       "      <td>26</td>\n",
       "      <td>4.0</td>\n",
       "      <td>0.15</td>\n",
       "      <td>여자</td>\n",
       "    </tr>\n",
       "    <tr>\n",
       "      <th>3</th>\n",
       "      <td>김건우</td>\n",
       "      <td>28</td>\n",
       "      <td>1.0</td>\n",
       "      <td>0.05</td>\n",
       "      <td>남자</td>\n",
       "    </tr>\n",
       "    <tr>\n",
       "      <th>4</th>\n",
       "      <td>김태영</td>\n",
       "      <td>26</td>\n",
       "      <td>20.0</td>\n",
       "      <td>0.78</td>\n",
       "      <td>남자</td>\n",
       "    </tr>\n",
       "    <tr>\n",
       "      <th>5</th>\n",
       "      <td>김동일</td>\n",
       "      <td>26</td>\n",
       "      <td>21.0</td>\n",
       "      <td>0.81</td>\n",
       "      <td>남자</td>\n",
       "    </tr>\n",
       "    <tr>\n",
       "      <th>0</th>\n",
       "      <td>명하영</td>\n",
       "      <td>27</td>\n",
       "      <td>8.0</td>\n",
       "      <td>NaN</td>\n",
       "      <td>NaN</td>\n",
       "    </tr>\n",
       "    <tr>\n",
       "      <th>1</th>\n",
       "      <td>조가영</td>\n",
       "      <td>27</td>\n",
       "      <td>9.0</td>\n",
       "      <td>NaN</td>\n",
       "      <td>NaN</td>\n",
       "    </tr>\n",
       "    <tr>\n",
       "      <th>2</th>\n",
       "      <td>강다솜</td>\n",
       "      <td>28</td>\n",
       "      <td>NaN</td>\n",
       "      <td>NaN</td>\n",
       "      <td>NaN</td>\n",
       "    </tr>\n",
       "  </tbody>\n",
       "</table>\n",
       "</div>"
      ],
      "text/plain": [
       "    이름  나이  박물관방문  방문회수비율   성별\n",
       "0  김담향  33    5.0    0.15   여자\n",
       "1  이재빈  25    1.0    0.04   남자\n",
       "2  김나영  26    4.0    0.15   여자\n",
       "3  김건우  28    1.0    0.05   남자\n",
       "4  김태영  26   20.0    0.78   남자\n",
       "5  김동일  26   21.0    0.81   남자\n",
       "0  명하영  27    8.0     NaN  NaN\n",
       "1  조가영  27    9.0     NaN  NaN\n",
       "2  강다솜  28    NaN     NaN  NaN"
      ]
     },
     "execution_count": 7,
     "metadata": {},
     "output_type": "execute_result"
    }
   ],
   "source": [
    "test"
   ]
  },
  {
   "cell_type": "code",
   "execution_count": 8,
   "id": "0d39201a-60b2-4764-9e35-694f435a1f8a",
   "metadata": {
    "tags": []
   },
   "outputs": [
    {
     "data": {
      "text/html": [
       "<div>\n",
       "<style scoped>\n",
       "    .dataframe tbody tr th:only-of-type {\n",
       "        vertical-align: middle;\n",
       "    }\n",
       "\n",
       "    .dataframe tbody tr th {\n",
       "        vertical-align: top;\n",
       "    }\n",
       "\n",
       "    .dataframe thead th {\n",
       "        text-align: right;\n",
       "    }\n",
       "</style>\n",
       "<table border=\"1\" class=\"dataframe\">\n",
       "  <thead>\n",
       "    <tr style=\"text-align: right;\">\n",
       "      <th></th>\n",
       "      <th>이름</th>\n",
       "      <th>나이</th>\n",
       "      <th>박물관방문</th>\n",
       "      <th>방문회수비율</th>\n",
       "      <th>성별</th>\n",
       "    </tr>\n",
       "  </thead>\n",
       "  <tbody>\n",
       "    <tr>\n",
       "      <th>0</th>\n",
       "      <td>김담향</td>\n",
       "      <td>33</td>\n",
       "      <td>5.000</td>\n",
       "      <td>0.15</td>\n",
       "      <td>여자</td>\n",
       "    </tr>\n",
       "    <tr>\n",
       "      <th>1</th>\n",
       "      <td>이재빈</td>\n",
       "      <td>25</td>\n",
       "      <td>1.000</td>\n",
       "      <td>0.04</td>\n",
       "      <td>남자</td>\n",
       "    </tr>\n",
       "    <tr>\n",
       "      <th>2</th>\n",
       "      <td>김나영</td>\n",
       "      <td>26</td>\n",
       "      <td>4.000</td>\n",
       "      <td>0.15</td>\n",
       "      <td>여자</td>\n",
       "    </tr>\n",
       "    <tr>\n",
       "      <th>3</th>\n",
       "      <td>김건우</td>\n",
       "      <td>28</td>\n",
       "      <td>1.000</td>\n",
       "      <td>0.05</td>\n",
       "      <td>남자</td>\n",
       "    </tr>\n",
       "    <tr>\n",
       "      <th>4</th>\n",
       "      <td>김태영</td>\n",
       "      <td>26</td>\n",
       "      <td>20.000</td>\n",
       "      <td>0.78</td>\n",
       "      <td>남자</td>\n",
       "    </tr>\n",
       "    <tr>\n",
       "      <th>5</th>\n",
       "      <td>김동일</td>\n",
       "      <td>26</td>\n",
       "      <td>21.000</td>\n",
       "      <td>0.81</td>\n",
       "      <td>남자</td>\n",
       "    </tr>\n",
       "    <tr>\n",
       "      <th>0</th>\n",
       "      <td>명하영</td>\n",
       "      <td>27</td>\n",
       "      <td>8.000</td>\n",
       "      <td>NaN</td>\n",
       "      <td>NaN</td>\n",
       "    </tr>\n",
       "    <tr>\n",
       "      <th>1</th>\n",
       "      <td>조가영</td>\n",
       "      <td>27</td>\n",
       "      <td>9.000</td>\n",
       "      <td>NaN</td>\n",
       "      <td>NaN</td>\n",
       "    </tr>\n",
       "    <tr>\n",
       "      <th>2</th>\n",
       "      <td>강다솜</td>\n",
       "      <td>28</td>\n",
       "      <td>8.625</td>\n",
       "      <td>NaN</td>\n",
       "      <td>NaN</td>\n",
       "    </tr>\n",
       "  </tbody>\n",
       "</table>\n",
       "</div>"
      ],
      "text/plain": [
       "    이름  나이   박물관방문  방문회수비율   성별\n",
       "0  김담향  33   5.000    0.15   여자\n",
       "1  이재빈  25   1.000    0.04   남자\n",
       "2  김나영  26   4.000    0.15   여자\n",
       "3  김건우  28   1.000    0.05   남자\n",
       "4  김태영  26  20.000    0.78   남자\n",
       "5  김동일  26  21.000    0.81   남자\n",
       "0  명하영  27   8.000     NaN  NaN\n",
       "1  조가영  27   9.000     NaN  NaN\n",
       "2  강다솜  28   8.625     NaN  NaN"
      ]
     },
     "execution_count": 8,
     "metadata": {},
     "output_type": "execute_result"
    }
   ],
   "source": [
    "test.박물관방문.fillna(test.박물관방문.mean(),inplace=True)\n",
    "test"
   ]
  },
  {
   "cell_type": "code",
   "execution_count": 9,
   "id": "0919e908-7e52-40c9-8753-552e847dabf5",
   "metadata": {
    "tags": []
   },
   "outputs": [],
   "source": [
    "test.iloc[test.방문회수비율.isna().values,3] = test.iloc[test.방문회수비율.isna().values,2]/test.iloc[test.방문회수비율.isna().values,1]"
   ]
  },
  {
   "cell_type": "code",
   "execution_count": 10,
   "id": "b7b832be-50c3-46cf-be2e-2f9eb577a74d",
   "metadata": {
    "tags": []
   },
   "outputs": [
    {
     "data": {
      "text/html": [
       "<div>\n",
       "<style scoped>\n",
       "    .dataframe tbody tr th:only-of-type {\n",
       "        vertical-align: middle;\n",
       "    }\n",
       "\n",
       "    .dataframe tbody tr th {\n",
       "        vertical-align: top;\n",
       "    }\n",
       "\n",
       "    .dataframe thead th {\n",
       "        text-align: right;\n",
       "    }\n",
       "</style>\n",
       "<table border=\"1\" class=\"dataframe\">\n",
       "  <thead>\n",
       "    <tr style=\"text-align: right;\">\n",
       "      <th></th>\n",
       "      <th>이름</th>\n",
       "      <th>나이</th>\n",
       "      <th>박물관방문</th>\n",
       "      <th>방문회수비율</th>\n",
       "      <th>성별</th>\n",
       "    </tr>\n",
       "  </thead>\n",
       "  <tbody>\n",
       "    <tr>\n",
       "      <th>0</th>\n",
       "      <td>김담향</td>\n",
       "      <td>33</td>\n",
       "      <td>5.000</td>\n",
       "      <td>0.150000</td>\n",
       "      <td>여자</td>\n",
       "    </tr>\n",
       "    <tr>\n",
       "      <th>1</th>\n",
       "      <td>이재빈</td>\n",
       "      <td>25</td>\n",
       "      <td>1.000</td>\n",
       "      <td>0.040000</td>\n",
       "      <td>남자</td>\n",
       "    </tr>\n",
       "    <tr>\n",
       "      <th>2</th>\n",
       "      <td>김나영</td>\n",
       "      <td>26</td>\n",
       "      <td>4.000</td>\n",
       "      <td>0.150000</td>\n",
       "      <td>여자</td>\n",
       "    </tr>\n",
       "    <tr>\n",
       "      <th>3</th>\n",
       "      <td>김건우</td>\n",
       "      <td>28</td>\n",
       "      <td>1.000</td>\n",
       "      <td>0.050000</td>\n",
       "      <td>남자</td>\n",
       "    </tr>\n",
       "    <tr>\n",
       "      <th>4</th>\n",
       "      <td>김태영</td>\n",
       "      <td>26</td>\n",
       "      <td>20.000</td>\n",
       "      <td>0.780000</td>\n",
       "      <td>남자</td>\n",
       "    </tr>\n",
       "    <tr>\n",
       "      <th>5</th>\n",
       "      <td>김동일</td>\n",
       "      <td>26</td>\n",
       "      <td>21.000</td>\n",
       "      <td>0.810000</td>\n",
       "      <td>남자</td>\n",
       "    </tr>\n",
       "    <tr>\n",
       "      <th>0</th>\n",
       "      <td>명하영</td>\n",
       "      <td>27</td>\n",
       "      <td>8.000</td>\n",
       "      <td>0.296296</td>\n",
       "      <td>여자</td>\n",
       "    </tr>\n",
       "    <tr>\n",
       "      <th>1</th>\n",
       "      <td>조가영</td>\n",
       "      <td>27</td>\n",
       "      <td>9.000</td>\n",
       "      <td>0.333333</td>\n",
       "      <td>여자</td>\n",
       "    </tr>\n",
       "    <tr>\n",
       "      <th>2</th>\n",
       "      <td>강다솜</td>\n",
       "      <td>28</td>\n",
       "      <td>8.625</td>\n",
       "      <td>0.308036</td>\n",
       "      <td>여자</td>\n",
       "    </tr>\n",
       "  </tbody>\n",
       "</table>\n",
       "</div>"
      ],
      "text/plain": [
       "    이름  나이   박물관방문    방문회수비율  성별\n",
       "0  김담향  33   5.000  0.150000  여자\n",
       "1  이재빈  25   1.000  0.040000  남자\n",
       "2  김나영  26   4.000  0.150000  여자\n",
       "3  김건우  28   1.000  0.050000  남자\n",
       "4  김태영  26  20.000  0.780000  남자\n",
       "5  김동일  26  21.000  0.810000  남자\n",
       "0  명하영  27   8.000  0.296296  여자\n",
       "1  조가영  27   9.000  0.333333  여자\n",
       "2  강다솜  28   8.625  0.308036  여자"
      ]
     },
     "execution_count": 10,
     "metadata": {},
     "output_type": "execute_result"
    }
   ],
   "source": [
    "test.loc[test.성별.isna(),'성별'] = '여자'\n",
    "test"
   ]
  },
  {
   "cell_type": "code",
   "execution_count": 11,
   "id": "b9fba634-a90d-4d3c-bfdc-d8fea8c42d51",
   "metadata": {
    "tags": []
   },
   "outputs": [],
   "source": [
    "test.박물관방문 = test.박물관방문.astype(int)"
   ]
  },
  {
   "cell_type": "code",
   "execution_count": 12,
   "id": "61c5aba0-973c-45fb-b5cb-9de33f8c13ff",
   "metadata": {
    "tags": []
   },
   "outputs": [
    {
     "data": {
      "text/plain": [
       "이름         object\n",
       "나이          int64\n",
       "박물관방문       int32\n",
       "방문회수비율    float64\n",
       "성별         object\n",
       "dtype: object"
      ]
     },
     "execution_count": 12,
     "metadata": {},
     "output_type": "execute_result"
    }
   ],
   "source": [
    "test.dtypes"
   ]
  },
  {
   "cell_type": "code",
   "execution_count": 13,
   "id": "900587f6-15db-41cc-9f4d-c56deb1b2b4e",
   "metadata": {
    "tags": []
   },
   "outputs": [],
   "source": [
    "tmp = pd.DataFrame(np.vstack([test.values,np.array(['이강욱',43,100,100/43,'남자'])]))"
   ]
  },
  {
   "cell_type": "code",
   "execution_count": 14,
   "id": "851c7b89-68bb-4f62-88fe-361e9ab7a78b",
   "metadata": {
    "tags": []
   },
   "outputs": [],
   "source": [
    "tmp.columns = test.columns"
   ]
  },
  {
   "cell_type": "code",
   "execution_count": 15,
   "id": "52d9f10a-cd79-40ab-8c89-48ee545344e0",
   "metadata": {
    "tags": []
   },
   "outputs": [
    {
     "data": {
      "text/html": [
       "<div>\n",
       "<style scoped>\n",
       "    .dataframe tbody tr th:only-of-type {\n",
       "        vertical-align: middle;\n",
       "    }\n",
       "\n",
       "    .dataframe tbody tr th {\n",
       "        vertical-align: top;\n",
       "    }\n",
       "\n",
       "    .dataframe thead th {\n",
       "        text-align: right;\n",
       "    }\n",
       "</style>\n",
       "<table border=\"1\" class=\"dataframe\">\n",
       "  <thead>\n",
       "    <tr style=\"text-align: right;\">\n",
       "      <th></th>\n",
       "      <th>이름</th>\n",
       "      <th>나이</th>\n",
       "      <th>박물관방문</th>\n",
       "      <th>방문회수비율</th>\n",
       "      <th>성별</th>\n",
       "    </tr>\n",
       "  </thead>\n",
       "  <tbody>\n",
       "    <tr>\n",
       "      <th>0</th>\n",
       "      <td>김담향</td>\n",
       "      <td>33</td>\n",
       "      <td>5</td>\n",
       "      <td>0.15</td>\n",
       "      <td>여자</td>\n",
       "    </tr>\n",
       "    <tr>\n",
       "      <th>1</th>\n",
       "      <td>이재빈</td>\n",
       "      <td>25</td>\n",
       "      <td>1</td>\n",
       "      <td>0.04</td>\n",
       "      <td>남자</td>\n",
       "    </tr>\n",
       "    <tr>\n",
       "      <th>2</th>\n",
       "      <td>김나영</td>\n",
       "      <td>26</td>\n",
       "      <td>4</td>\n",
       "      <td>0.15</td>\n",
       "      <td>여자</td>\n",
       "    </tr>\n",
       "    <tr>\n",
       "      <th>3</th>\n",
       "      <td>김건우</td>\n",
       "      <td>28</td>\n",
       "      <td>1</td>\n",
       "      <td>0.05</td>\n",
       "      <td>남자</td>\n",
       "    </tr>\n",
       "    <tr>\n",
       "      <th>4</th>\n",
       "      <td>김태영</td>\n",
       "      <td>26</td>\n",
       "      <td>20</td>\n",
       "      <td>0.78</td>\n",
       "      <td>남자</td>\n",
       "    </tr>\n",
       "    <tr>\n",
       "      <th>5</th>\n",
       "      <td>김동일</td>\n",
       "      <td>26</td>\n",
       "      <td>21</td>\n",
       "      <td>0.81</td>\n",
       "      <td>남자</td>\n",
       "    </tr>\n",
       "    <tr>\n",
       "      <th>6</th>\n",
       "      <td>명하영</td>\n",
       "      <td>27</td>\n",
       "      <td>8</td>\n",
       "      <td>0.296296</td>\n",
       "      <td>여자</td>\n",
       "    </tr>\n",
       "    <tr>\n",
       "      <th>7</th>\n",
       "      <td>조가영</td>\n",
       "      <td>27</td>\n",
       "      <td>9</td>\n",
       "      <td>0.333333</td>\n",
       "      <td>여자</td>\n",
       "    </tr>\n",
       "    <tr>\n",
       "      <th>8</th>\n",
       "      <td>강다솜</td>\n",
       "      <td>28</td>\n",
       "      <td>8</td>\n",
       "      <td>0.308036</td>\n",
       "      <td>여자</td>\n",
       "    </tr>\n",
       "    <tr>\n",
       "      <th>9</th>\n",
       "      <td>이강욱</td>\n",
       "      <td>43</td>\n",
       "      <td>100</td>\n",
       "      <td>2.3255813953488373</td>\n",
       "      <td>남자</td>\n",
       "    </tr>\n",
       "  </tbody>\n",
       "</table>\n",
       "</div>"
      ],
      "text/plain": [
       "    이름  나이 박물관방문              방문회수비율  성별\n",
       "0  김담향  33     5                0.15  여자\n",
       "1  이재빈  25     1                0.04  남자\n",
       "2  김나영  26     4                0.15  여자\n",
       "3  김건우  28     1                0.05  남자\n",
       "4  김태영  26    20                0.78  남자\n",
       "5  김동일  26    21                0.81  남자\n",
       "6  명하영  27     8            0.296296  여자\n",
       "7  조가영  27     9            0.333333  여자\n",
       "8  강다솜  28     8            0.308036  여자\n",
       "9  이강욱  43   100  2.3255813953488373  남자"
      ]
     },
     "execution_count": 15,
     "metadata": {},
     "output_type": "execute_result"
    }
   ],
   "source": [
    "tmp"
   ]
  },
  {
   "cell_type": "code",
   "execution_count": 16,
   "id": "c16fe910-f9ac-4b77-973c-a6ba7c09a1ea",
   "metadata": {
    "tags": []
   },
   "outputs": [
    {
     "data": {
      "text/html": [
       "<div>\n",
       "<style scoped>\n",
       "    .dataframe tbody tr th:only-of-type {\n",
       "        vertical-align: middle;\n",
       "    }\n",
       "\n",
       "    .dataframe tbody tr th {\n",
       "        vertical-align: top;\n",
       "    }\n",
       "\n",
       "    .dataframe thead th {\n",
       "        text-align: right;\n",
       "    }\n",
       "</style>\n",
       "<table border=\"1\" class=\"dataframe\">\n",
       "  <thead>\n",
       "    <tr style=\"text-align: right;\">\n",
       "      <th></th>\n",
       "      <th>이름</th>\n",
       "      <th>나이</th>\n",
       "      <th>박물관방문</th>\n",
       "      <th>방문회수비율</th>\n",
       "      <th>성별</th>\n",
       "    </tr>\n",
       "  </thead>\n",
       "  <tbody>\n",
       "    <tr>\n",
       "      <th>0</th>\n",
       "      <td>김담향</td>\n",
       "      <td>33</td>\n",
       "      <td>5</td>\n",
       "      <td>0.15</td>\n",
       "      <td>여자</td>\n",
       "    </tr>\n",
       "    <tr>\n",
       "      <th>1</th>\n",
       "      <td>이재빈</td>\n",
       "      <td>25</td>\n",
       "      <td>1</td>\n",
       "      <td>0.04</td>\n",
       "      <td>남자</td>\n",
       "    </tr>\n",
       "    <tr>\n",
       "      <th>2</th>\n",
       "      <td>김나영</td>\n",
       "      <td>26</td>\n",
       "      <td>4</td>\n",
       "      <td>0.15</td>\n",
       "      <td>여자</td>\n",
       "    </tr>\n",
       "    <tr>\n",
       "      <th>3</th>\n",
       "      <td>김건우</td>\n",
       "      <td>28</td>\n",
       "      <td>1</td>\n",
       "      <td>0.05</td>\n",
       "      <td>남자</td>\n",
       "    </tr>\n",
       "    <tr>\n",
       "      <th>4</th>\n",
       "      <td>김태영</td>\n",
       "      <td>26</td>\n",
       "      <td>20</td>\n",
       "      <td>0.78</td>\n",
       "      <td>남자</td>\n",
       "    </tr>\n",
       "    <tr>\n",
       "      <th>5</th>\n",
       "      <td>김동일</td>\n",
       "      <td>26</td>\n",
       "      <td>21</td>\n",
       "      <td>0.81</td>\n",
       "      <td>남자</td>\n",
       "    </tr>\n",
       "    <tr>\n",
       "      <th>6</th>\n",
       "      <td>명하영</td>\n",
       "      <td>27</td>\n",
       "      <td>8</td>\n",
       "      <td>0.296296</td>\n",
       "      <td>여자</td>\n",
       "    </tr>\n",
       "    <tr>\n",
       "      <th>7</th>\n",
       "      <td>조가영</td>\n",
       "      <td>27</td>\n",
       "      <td>9</td>\n",
       "      <td>0.333333</td>\n",
       "      <td>여자</td>\n",
       "    </tr>\n",
       "    <tr>\n",
       "      <th>8</th>\n",
       "      <td>강다솜</td>\n",
       "      <td>28</td>\n",
       "      <td>8</td>\n",
       "      <td>0.308036</td>\n",
       "      <td>여자</td>\n",
       "    </tr>\n",
       "  </tbody>\n",
       "</table>\n",
       "</div>"
      ],
      "text/plain": [
       "    이름  나이 박물관방문    방문회수비율  성별\n",
       "0  김담향  33     5      0.15  여자\n",
       "1  이재빈  25     1      0.04  남자\n",
       "2  김나영  26     4      0.15  여자\n",
       "3  김건우  28     1      0.05  남자\n",
       "4  김태영  26    20      0.78  남자\n",
       "5  김동일  26    21      0.81  남자\n",
       "6  명하영  27     8  0.296296  여자\n",
       "7  조가영  27     9  0.333333  여자\n",
       "8  강다솜  28     8  0.308036  여자"
      ]
     },
     "execution_count": 16,
     "metadata": {},
     "output_type": "execute_result"
    }
   ],
   "source": [
    "tmp.loc[tmp.이름!='이강욱',:]"
   ]
  },
  {
   "cell_type": "code",
   "execution_count": 17,
   "id": "e5a8e6ab-736a-4651-9c2f-d4abd7e6b045",
   "metadata": {
    "tags": []
   },
   "outputs": [
    {
     "data": {
      "text/html": [
       "<div>\n",
       "<style scoped>\n",
       "    .dataframe tbody tr th:only-of-type {\n",
       "        vertical-align: middle;\n",
       "    }\n",
       "\n",
       "    .dataframe tbody tr th {\n",
       "        vertical-align: top;\n",
       "    }\n",
       "\n",
       "    .dataframe thead th {\n",
       "        text-align: right;\n",
       "    }\n",
       "</style>\n",
       "<table border=\"1\" class=\"dataframe\">\n",
       "  <thead>\n",
       "    <tr style=\"text-align: right;\">\n",
       "      <th></th>\n",
       "      <th>이름</th>\n",
       "      <th>나이</th>\n",
       "      <th>박물관방문</th>\n",
       "      <th>방문회수비율</th>\n",
       "      <th>성별</th>\n",
       "    </tr>\n",
       "  </thead>\n",
       "  <tbody>\n",
       "    <tr>\n",
       "      <th>0</th>\n",
       "      <td>김담향</td>\n",
       "      <td>33</td>\n",
       "      <td>5</td>\n",
       "      <td>0.15</td>\n",
       "      <td>여자</td>\n",
       "    </tr>\n",
       "    <tr>\n",
       "      <th>1</th>\n",
       "      <td>이재빈</td>\n",
       "      <td>25</td>\n",
       "      <td>1</td>\n",
       "      <td>0.04</td>\n",
       "      <td>남자</td>\n",
       "    </tr>\n",
       "    <tr>\n",
       "      <th>2</th>\n",
       "      <td>김나영</td>\n",
       "      <td>26</td>\n",
       "      <td>4</td>\n",
       "      <td>0.15</td>\n",
       "      <td>여자</td>\n",
       "    </tr>\n",
       "    <tr>\n",
       "      <th>3</th>\n",
       "      <td>김건우</td>\n",
       "      <td>28</td>\n",
       "      <td>1</td>\n",
       "      <td>0.05</td>\n",
       "      <td>남자</td>\n",
       "    </tr>\n",
       "    <tr>\n",
       "      <th>4</th>\n",
       "      <td>김태영</td>\n",
       "      <td>26</td>\n",
       "      <td>20</td>\n",
       "      <td>0.78</td>\n",
       "      <td>남자</td>\n",
       "    </tr>\n",
       "    <tr>\n",
       "      <th>5</th>\n",
       "      <td>김동일</td>\n",
       "      <td>26</td>\n",
       "      <td>21</td>\n",
       "      <td>0.81</td>\n",
       "      <td>남자</td>\n",
       "    </tr>\n",
       "    <tr>\n",
       "      <th>6</th>\n",
       "      <td>명하영</td>\n",
       "      <td>27</td>\n",
       "      <td>8</td>\n",
       "      <td>0.296296</td>\n",
       "      <td>여자</td>\n",
       "    </tr>\n",
       "    <tr>\n",
       "      <th>7</th>\n",
       "      <td>조가영</td>\n",
       "      <td>27</td>\n",
       "      <td>9</td>\n",
       "      <td>0.333333</td>\n",
       "      <td>여자</td>\n",
       "    </tr>\n",
       "    <tr>\n",
       "      <th>8</th>\n",
       "      <td>강다솜</td>\n",
       "      <td>28</td>\n",
       "      <td>8</td>\n",
       "      <td>0.308036</td>\n",
       "      <td>여자</td>\n",
       "    </tr>\n",
       "  </tbody>\n",
       "</table>\n",
       "</div>"
      ],
      "text/plain": [
       "    이름  나이 박물관방문    방문회수비율  성별\n",
       "0  김담향  33     5      0.15  여자\n",
       "1  이재빈  25     1      0.04  남자\n",
       "2  김나영  26     4      0.15  여자\n",
       "3  김건우  28     1      0.05  남자\n",
       "4  김태영  26    20      0.78  남자\n",
       "5  김동일  26    21      0.81  남자\n",
       "6  명하영  27     8  0.296296  여자\n",
       "7  조가영  27     9  0.333333  여자\n",
       "8  강다솜  28     8  0.308036  여자"
      ]
     },
     "execution_count": 17,
     "metadata": {},
     "output_type": "execute_result"
    }
   ],
   "source": [
    "tmp.drop([9],axis=0)"
   ]
  },
  {
   "cell_type": "code",
   "execution_count": 18,
   "id": "c4363f11-4f91-4609-9274-26efc8df7019",
   "metadata": {
    "tags": []
   },
   "outputs": [
    {
     "data": {
      "text/html": [
       "<div>\n",
       "<style scoped>\n",
       "    .dataframe tbody tr th:only-of-type {\n",
       "        vertical-align: middle;\n",
       "    }\n",
       "\n",
       "    .dataframe tbody tr th {\n",
       "        vertical-align: top;\n",
       "    }\n",
       "\n",
       "    .dataframe thead th {\n",
       "        text-align: right;\n",
       "    }\n",
       "</style>\n",
       "<table border=\"1\" class=\"dataframe\">\n",
       "  <thead>\n",
       "    <tr style=\"text-align: right;\">\n",
       "      <th></th>\n",
       "      <th>이름</th>\n",
       "      <th>나이</th>\n",
       "      <th>박물관방문</th>\n",
       "      <th>방문회수비율</th>\n",
       "      <th>성별</th>\n",
       "    </tr>\n",
       "  </thead>\n",
       "  <tbody>\n",
       "    <tr>\n",
       "      <th>0</th>\n",
       "      <td>김담향</td>\n",
       "      <td>33</td>\n",
       "      <td>5</td>\n",
       "      <td>0.15</td>\n",
       "      <td>여자</td>\n",
       "    </tr>\n",
       "    <tr>\n",
       "      <th>1</th>\n",
       "      <td>이재빈</td>\n",
       "      <td>25</td>\n",
       "      <td>1</td>\n",
       "      <td>0.04</td>\n",
       "      <td>남자</td>\n",
       "    </tr>\n",
       "    <tr>\n",
       "      <th>2</th>\n",
       "      <td>김나영</td>\n",
       "      <td>26</td>\n",
       "      <td>4</td>\n",
       "      <td>0.15</td>\n",
       "      <td>여자</td>\n",
       "    </tr>\n",
       "    <tr>\n",
       "      <th>3</th>\n",
       "      <td>김건우</td>\n",
       "      <td>28</td>\n",
       "      <td>1</td>\n",
       "      <td>0.05</td>\n",
       "      <td>남자</td>\n",
       "    </tr>\n",
       "    <tr>\n",
       "      <th>4</th>\n",
       "      <td>김태영</td>\n",
       "      <td>26</td>\n",
       "      <td>20</td>\n",
       "      <td>0.78</td>\n",
       "      <td>남자</td>\n",
       "    </tr>\n",
       "    <tr>\n",
       "      <th>5</th>\n",
       "      <td>김동일</td>\n",
       "      <td>26</td>\n",
       "      <td>21</td>\n",
       "      <td>0.81</td>\n",
       "      <td>남자</td>\n",
       "    </tr>\n",
       "    <tr>\n",
       "      <th>6</th>\n",
       "      <td>명하영</td>\n",
       "      <td>27</td>\n",
       "      <td>8</td>\n",
       "      <td>0.296296</td>\n",
       "      <td>여자</td>\n",
       "    </tr>\n",
       "    <tr>\n",
       "      <th>7</th>\n",
       "      <td>조가영</td>\n",
       "      <td>27</td>\n",
       "      <td>9</td>\n",
       "      <td>0.333333</td>\n",
       "      <td>여자</td>\n",
       "    </tr>\n",
       "    <tr>\n",
       "      <th>8</th>\n",
       "      <td>강다솜</td>\n",
       "      <td>28</td>\n",
       "      <td>8</td>\n",
       "      <td>0.308036</td>\n",
       "      <td>여자</td>\n",
       "    </tr>\n",
       "  </tbody>\n",
       "</table>\n",
       "</div>"
      ],
      "text/plain": [
       "    이름  나이 박물관방문    방문회수비율  성별\n",
       "0  김담향  33     5      0.15  여자\n",
       "1  이재빈  25     1      0.04  남자\n",
       "2  김나영  26     4      0.15  여자\n",
       "3  김건우  28     1      0.05  남자\n",
       "4  김태영  26    20      0.78  남자\n",
       "5  김동일  26    21      0.81  남자\n",
       "6  명하영  27     8  0.296296  여자\n",
       "7  조가영  27     9  0.333333  여자\n",
       "8  강다솜  28     8  0.308036  여자"
      ]
     },
     "execution_count": 18,
     "metadata": {},
     "output_type": "execute_result"
    }
   ],
   "source": [
    "tmp.drop(index=[9])"
   ]
  },
  {
   "cell_type": "code",
   "execution_count": 19,
   "id": "34f5895e-7f7b-4fdf-906a-45a1ec7b21b0",
   "metadata": {
    "tags": []
   },
   "outputs": [
    {
     "data": {
      "text/plain": [
       "이름        object\n",
       "나이        object\n",
       "박물관방문     object\n",
       "방문회수비율    object\n",
       "성별        object\n",
       "dtype: object"
      ]
     },
     "execution_count": 19,
     "metadata": {},
     "output_type": "execute_result"
    }
   ],
   "source": [
    "tmp.dtypes"
   ]
  },
  {
   "cell_type": "code",
   "execution_count": 20,
   "id": "a66d42b0-1a49-4b5d-b25d-15512582d247",
   "metadata": {
    "tags": []
   },
   "outputs": [],
   "source": [
    "tmp.나이 = tmp.나이.astype('object')"
   ]
  },
  {
   "cell_type": "code",
   "execution_count": 21,
   "id": "f2b9817c-ec0c-47da-ae5e-800fce6c9420",
   "metadata": {
    "tags": []
   },
   "outputs": [],
   "source": [
    "for col in tmp.columns:\n",
    "    try:\n",
    "        tmp[col] = tmp[col].astype(int)\n",
    "    except:\n",
    "        try:\n",
    "            tmp[col] = tmp[col].astype(float)\n",
    "        except:    \n",
    "            pass"
   ]
  },
  {
   "cell_type": "code",
   "execution_count": 22,
   "id": "3d883238-6eca-42d4-b992-770ebb6d02bd",
   "metadata": {
    "tags": []
   },
   "outputs": [
    {
     "data": {
      "text/plain": [
       "이름         object\n",
       "나이          int32\n",
       "박물관방문       int32\n",
       "방문회수비율    float64\n",
       "성별         object\n",
       "dtype: object"
      ]
     },
     "execution_count": 22,
     "metadata": {},
     "output_type": "execute_result"
    }
   ],
   "source": [
    "tmp.dtypes"
   ]
  },
  {
   "cell_type": "code",
   "execution_count": 23,
   "id": "28db8d38-ca03-483f-82e4-0522ac8de6d4",
   "metadata": {
    "tags": []
   },
   "outputs": [
    {
     "data": {
      "text/plain": [
       "'김담향3350.15여자'"
      ]
     },
     "execution_count": 23,
     "metadata": {},
     "output_type": "execute_result"
    }
   ],
   "source": [
    "def mk_str(x):\n",
    "    r = ''\n",
    "    for i in x:\n",
    "        r += str(i)\n",
    "    return r\n",
    "mk_str(tmp.iloc[0,:])"
   ]
  },
  {
   "cell_type": "code",
   "execution_count": 24,
   "id": "a787f7d8-df1a-4c1e-b382-d470fbe02f9c",
   "metadata": {
    "tags": []
   },
   "outputs": [
    {
     "data": {
      "text/plain": [
       "8.555555555555555"
      ]
     },
     "execution_count": 24,
     "metadata": {},
     "output_type": "execute_result"
    }
   ],
   "source": [
    "tmp.loc[tmp.방문회수비율 < 1,'박물관방문'].mean()"
   ]
  },
  {
   "cell_type": "code",
   "execution_count": 25,
   "id": "e7e02629-ba0a-41d1-ad9c-56322eea66f2",
   "metadata": {
    "tags": []
   },
   "outputs": [
    {
     "data": {
      "text/plain": [
       "1    0.040000\n",
       "6    0.296296\n",
       "7    0.333333\n",
       "8    0.308036\n",
       "9    2.325581\n",
       "Name: 방문회수비율, dtype: float64"
      ]
     },
     "execution_count": 25,
     "metadata": {},
     "output_type": "execute_result"
    }
   ],
   "source": [
    "tmp.loc[tmp.이름.str[0:1] != '김','방문회수비율']"
   ]
  },
  {
   "cell_type": "code",
   "execution_count": 26,
   "id": "0968c19d-a6bd-4e5a-9c58-381b612b0a3f",
   "metadata": {
    "tags": []
   },
   "outputs": [
    {
     "data": {
      "text/plain": [
       "0    김\n",
       "1    이\n",
       "2    김\n",
       "3    김\n",
       "4    김\n",
       "5    김\n",
       "6    명\n",
       "7    조\n",
       "8    강\n",
       "9    이\n",
       "Name: 이름, dtype: object"
      ]
     },
     "execution_count": 26,
     "metadata": {},
     "output_type": "execute_result"
    }
   ],
   "source": [
    "tmp.이름.str.slice(0,1)"
   ]
  },
  {
   "cell_type": "code",
   "execution_count": 27,
   "id": "3da7aa51-8f5d-497e-880d-414c1137a9d4",
   "metadata": {
    "tags": []
   },
   "outputs": [
    {
     "data": {
      "text/plain": [
       "26.75"
      ]
     },
     "execution_count": 27,
     "metadata": {},
     "output_type": "execute_result"
    }
   ],
   "source": [
    "tmp.loc[~tmp.이름.str.contains('김') & (tmp.이름 != '이강욱'),'나이'].mean()"
   ]
  },
  {
   "cell_type": "code",
   "execution_count": 28,
   "id": "df046ccd-9c10-46ed-8062-791af87abdc5",
   "metadata": {
    "tags": []
   },
   "outputs": [],
   "source": [
    "tmp = pd.concat([tmp,tmp.iloc[[0,3,7],:]])"
   ]
  },
  {
   "cell_type": "code",
   "execution_count": 29,
   "id": "5342f0e9-8585-4b6e-99c8-30cf3d02dcb9",
   "metadata": {
    "tags": []
   },
   "outputs": [
    {
     "data": {
      "text/html": [
       "<div>\n",
       "<style scoped>\n",
       "    .dataframe tbody tr th:only-of-type {\n",
       "        vertical-align: middle;\n",
       "    }\n",
       "\n",
       "    .dataframe tbody tr th {\n",
       "        vertical-align: top;\n",
       "    }\n",
       "\n",
       "    .dataframe thead th {\n",
       "        text-align: right;\n",
       "    }\n",
       "</style>\n",
       "<table border=\"1\" class=\"dataframe\">\n",
       "  <thead>\n",
       "    <tr style=\"text-align: right;\">\n",
       "      <th></th>\n",
       "      <th>이름</th>\n",
       "      <th>나이</th>\n",
       "      <th>박물관방문</th>\n",
       "      <th>방문회수비율</th>\n",
       "      <th>성별</th>\n",
       "    </tr>\n",
       "  </thead>\n",
       "  <tbody>\n",
       "    <tr>\n",
       "      <th>0</th>\n",
       "      <td>김담향</td>\n",
       "      <td>33</td>\n",
       "      <td>5</td>\n",
       "      <td>0.150000</td>\n",
       "      <td>여자</td>\n",
       "    </tr>\n",
       "    <tr>\n",
       "      <th>1</th>\n",
       "      <td>이재빈</td>\n",
       "      <td>25</td>\n",
       "      <td>1</td>\n",
       "      <td>0.040000</td>\n",
       "      <td>남자</td>\n",
       "    </tr>\n",
       "    <tr>\n",
       "      <th>2</th>\n",
       "      <td>김나영</td>\n",
       "      <td>26</td>\n",
       "      <td>4</td>\n",
       "      <td>0.150000</td>\n",
       "      <td>여자</td>\n",
       "    </tr>\n",
       "    <tr>\n",
       "      <th>3</th>\n",
       "      <td>김건우</td>\n",
       "      <td>28</td>\n",
       "      <td>1</td>\n",
       "      <td>0.050000</td>\n",
       "      <td>남자</td>\n",
       "    </tr>\n",
       "    <tr>\n",
       "      <th>4</th>\n",
       "      <td>김태영</td>\n",
       "      <td>26</td>\n",
       "      <td>20</td>\n",
       "      <td>0.780000</td>\n",
       "      <td>남자</td>\n",
       "    </tr>\n",
       "    <tr>\n",
       "      <th>5</th>\n",
       "      <td>김동일</td>\n",
       "      <td>26</td>\n",
       "      <td>21</td>\n",
       "      <td>0.810000</td>\n",
       "      <td>남자</td>\n",
       "    </tr>\n",
       "    <tr>\n",
       "      <th>6</th>\n",
       "      <td>명하영</td>\n",
       "      <td>27</td>\n",
       "      <td>8</td>\n",
       "      <td>0.296296</td>\n",
       "      <td>여자</td>\n",
       "    </tr>\n",
       "    <tr>\n",
       "      <th>7</th>\n",
       "      <td>조가영</td>\n",
       "      <td>27</td>\n",
       "      <td>9</td>\n",
       "      <td>0.333333</td>\n",
       "      <td>여자</td>\n",
       "    </tr>\n",
       "    <tr>\n",
       "      <th>8</th>\n",
       "      <td>강다솜</td>\n",
       "      <td>28</td>\n",
       "      <td>8</td>\n",
       "      <td>0.308036</td>\n",
       "      <td>여자</td>\n",
       "    </tr>\n",
       "    <tr>\n",
       "      <th>9</th>\n",
       "      <td>이강욱</td>\n",
       "      <td>43</td>\n",
       "      <td>100</td>\n",
       "      <td>2.325581</td>\n",
       "      <td>남자</td>\n",
       "    </tr>\n",
       "    <tr>\n",
       "      <th>0</th>\n",
       "      <td>김담향</td>\n",
       "      <td>33</td>\n",
       "      <td>5</td>\n",
       "      <td>0.150000</td>\n",
       "      <td>여자</td>\n",
       "    </tr>\n",
       "    <tr>\n",
       "      <th>3</th>\n",
       "      <td>김건우</td>\n",
       "      <td>28</td>\n",
       "      <td>1</td>\n",
       "      <td>0.050000</td>\n",
       "      <td>남자</td>\n",
       "    </tr>\n",
       "    <tr>\n",
       "      <th>7</th>\n",
       "      <td>조가영</td>\n",
       "      <td>27</td>\n",
       "      <td>9</td>\n",
       "      <td>0.333333</td>\n",
       "      <td>여자</td>\n",
       "    </tr>\n",
       "  </tbody>\n",
       "</table>\n",
       "</div>"
      ],
      "text/plain": [
       "    이름  나이  박물관방문    방문회수비율  성별\n",
       "0  김담향  33      5  0.150000  여자\n",
       "1  이재빈  25      1  0.040000  남자\n",
       "2  김나영  26      4  0.150000  여자\n",
       "3  김건우  28      1  0.050000  남자\n",
       "4  김태영  26     20  0.780000  남자\n",
       "5  김동일  26     21  0.810000  남자\n",
       "6  명하영  27      8  0.296296  여자\n",
       "7  조가영  27      9  0.333333  여자\n",
       "8  강다솜  28      8  0.308036  여자\n",
       "9  이강욱  43    100  2.325581  남자\n",
       "0  김담향  33      5  0.150000  여자\n",
       "3  김건우  28      1  0.050000  남자\n",
       "7  조가영  27      9  0.333333  여자"
      ]
     },
     "execution_count": 29,
     "metadata": {},
     "output_type": "execute_result"
    }
   ],
   "source": [
    "tmp"
   ]
  },
  {
   "cell_type": "code",
   "execution_count": 30,
   "id": "3c5d64bb-8c55-4b00-b70a-b441686fcafa",
   "metadata": {
    "tags": []
   },
   "outputs": [
    {
     "data": {
      "text/plain": [
       "0    False\n",
       "1    False\n",
       "2    False\n",
       "3    False\n",
       "4    False\n",
       "5    False\n",
       "6    False\n",
       "7    False\n",
       "8    False\n",
       "9    False\n",
       "dtype: bool"
      ]
     },
     "execution_count": 30,
     "metadata": {},
     "output_type": "execute_result"
    }
   ],
   "source": [
    "tmp.loc[~tmp.duplicated(),:].duplicated()"
   ]
  },
  {
   "cell_type": "code",
   "execution_count": 31,
   "id": "ff05bd27-26ec-4eb7-8fcc-a10089ce965e",
   "metadata": {
    "tags": []
   },
   "outputs": [],
   "source": [
    "tmp['방문등급'] = np.where(tmp.박물관방문 >= 20,'A',np.where(tmp.박물관방문 >= 9, 'B', 'C'))"
   ]
  },
  {
   "cell_type": "code",
   "execution_count": 32,
   "id": "fb3524bc-2f7f-4118-87de-6134903e3fe2",
   "metadata": {
    "tags": []
   },
   "outputs": [
    {
     "data": {
      "text/html": [
       "<div>\n",
       "<style scoped>\n",
       "    .dataframe tbody tr th:only-of-type {\n",
       "        vertical-align: middle;\n",
       "    }\n",
       "\n",
       "    .dataframe tbody tr th {\n",
       "        vertical-align: top;\n",
       "    }\n",
       "\n",
       "    .dataframe thead th {\n",
       "        text-align: right;\n",
       "    }\n",
       "</style>\n",
       "<table border=\"1\" class=\"dataframe\">\n",
       "  <thead>\n",
       "    <tr style=\"text-align: right;\">\n",
       "      <th></th>\n",
       "      <th>이름</th>\n",
       "      <th>나이</th>\n",
       "      <th>박물관방문</th>\n",
       "      <th>방문회수비율</th>\n",
       "      <th>성별</th>\n",
       "      <th>방문등급</th>\n",
       "    </tr>\n",
       "  </thead>\n",
       "  <tbody>\n",
       "    <tr>\n",
       "      <th>0</th>\n",
       "      <td>김담향</td>\n",
       "      <td>33</td>\n",
       "      <td>5</td>\n",
       "      <td>0.150000</td>\n",
       "      <td>여자</td>\n",
       "      <td>C</td>\n",
       "    </tr>\n",
       "    <tr>\n",
       "      <th>1</th>\n",
       "      <td>이재빈</td>\n",
       "      <td>25</td>\n",
       "      <td>1</td>\n",
       "      <td>0.040000</td>\n",
       "      <td>남자</td>\n",
       "      <td>C</td>\n",
       "    </tr>\n",
       "    <tr>\n",
       "      <th>2</th>\n",
       "      <td>김나영</td>\n",
       "      <td>26</td>\n",
       "      <td>4</td>\n",
       "      <td>0.150000</td>\n",
       "      <td>여자</td>\n",
       "      <td>C</td>\n",
       "    </tr>\n",
       "    <tr>\n",
       "      <th>3</th>\n",
       "      <td>김건우</td>\n",
       "      <td>28</td>\n",
       "      <td>1</td>\n",
       "      <td>0.050000</td>\n",
       "      <td>남자</td>\n",
       "      <td>C</td>\n",
       "    </tr>\n",
       "    <tr>\n",
       "      <th>4</th>\n",
       "      <td>김태영</td>\n",
       "      <td>26</td>\n",
       "      <td>20</td>\n",
       "      <td>0.780000</td>\n",
       "      <td>남자</td>\n",
       "      <td>A</td>\n",
       "    </tr>\n",
       "    <tr>\n",
       "      <th>5</th>\n",
       "      <td>김동일</td>\n",
       "      <td>26</td>\n",
       "      <td>21</td>\n",
       "      <td>0.810000</td>\n",
       "      <td>남자</td>\n",
       "      <td>A</td>\n",
       "    </tr>\n",
       "    <tr>\n",
       "      <th>6</th>\n",
       "      <td>명하영</td>\n",
       "      <td>27</td>\n",
       "      <td>8</td>\n",
       "      <td>0.296296</td>\n",
       "      <td>여자</td>\n",
       "      <td>C</td>\n",
       "    </tr>\n",
       "    <tr>\n",
       "      <th>7</th>\n",
       "      <td>조가영</td>\n",
       "      <td>27</td>\n",
       "      <td>9</td>\n",
       "      <td>0.333333</td>\n",
       "      <td>여자</td>\n",
       "      <td>B</td>\n",
       "    </tr>\n",
       "    <tr>\n",
       "      <th>8</th>\n",
       "      <td>강다솜</td>\n",
       "      <td>28</td>\n",
       "      <td>8</td>\n",
       "      <td>0.308036</td>\n",
       "      <td>여자</td>\n",
       "      <td>C</td>\n",
       "    </tr>\n",
       "    <tr>\n",
       "      <th>9</th>\n",
       "      <td>이강욱</td>\n",
       "      <td>43</td>\n",
       "      <td>100</td>\n",
       "      <td>2.325581</td>\n",
       "      <td>남자</td>\n",
       "      <td>A</td>\n",
       "    </tr>\n",
       "    <tr>\n",
       "      <th>0</th>\n",
       "      <td>김담향</td>\n",
       "      <td>33</td>\n",
       "      <td>5</td>\n",
       "      <td>0.150000</td>\n",
       "      <td>여자</td>\n",
       "      <td>C</td>\n",
       "    </tr>\n",
       "    <tr>\n",
       "      <th>3</th>\n",
       "      <td>김건우</td>\n",
       "      <td>28</td>\n",
       "      <td>1</td>\n",
       "      <td>0.050000</td>\n",
       "      <td>남자</td>\n",
       "      <td>C</td>\n",
       "    </tr>\n",
       "    <tr>\n",
       "      <th>7</th>\n",
       "      <td>조가영</td>\n",
       "      <td>27</td>\n",
       "      <td>9</td>\n",
       "      <td>0.333333</td>\n",
       "      <td>여자</td>\n",
       "      <td>B</td>\n",
       "    </tr>\n",
       "  </tbody>\n",
       "</table>\n",
       "</div>"
      ],
      "text/plain": [
       "    이름  나이  박물관방문    방문회수비율  성별 방문등급\n",
       "0  김담향  33      5  0.150000  여자    C\n",
       "1  이재빈  25      1  0.040000  남자    C\n",
       "2  김나영  26      4  0.150000  여자    C\n",
       "3  김건우  28      1  0.050000  남자    C\n",
       "4  김태영  26     20  0.780000  남자    A\n",
       "5  김동일  26     21  0.810000  남자    A\n",
       "6  명하영  27      8  0.296296  여자    C\n",
       "7  조가영  27      9  0.333333  여자    B\n",
       "8  강다솜  28      8  0.308036  여자    C\n",
       "9  이강욱  43    100  2.325581  남자    A\n",
       "0  김담향  33      5  0.150000  여자    C\n",
       "3  김건우  28      1  0.050000  남자    C\n",
       "7  조가영  27      9  0.333333  여자    B"
      ]
     },
     "execution_count": 32,
     "metadata": {},
     "output_type": "execute_result"
    }
   ],
   "source": [
    "tmp"
   ]
  },
  {
   "cell_type": "code",
   "execution_count": 33,
   "id": "cc53df9b-b874-4155-b8f9-eb581b4ddcbd",
   "metadata": {
    "tags": []
   },
   "outputs": [],
   "source": [
    "x = np.random.randint(50,101,100_000_000)"
   ]
  },
  {
   "cell_type": "code",
   "execution_count": 34,
   "id": "886ce30d-fc16-4b7e-a108-2f4f16dc1619",
   "metadata": {
    "tags": []
   },
   "outputs": [],
   "source": [
    "score = []\n",
    "for i in x:\n",
    "    if i < 70:\n",
    "        score.append(\"D\")\n",
    "    elif i < 80:\n",
    "        score.append(\"C\")\n",
    "    elif i < 90:\n",
    "        score.append(\"B\")\n",
    "    else:\n",
    "        score.append(\"A\")"
   ]
  },
  {
   "cell_type": "code",
   "execution_count": 35,
   "id": "eb2755df-dde5-4670-bb4e-044558728db7",
   "metadata": {
    "tags": []
   },
   "outputs": [
    {
     "data": {
      "text/plain": [
       "100000000"
      ]
     },
     "execution_count": 35,
     "metadata": {},
     "output_type": "execute_result"
    }
   ],
   "source": [
    "len(score)"
   ]
  },
  {
   "cell_type": "code",
   "execution_count": 36,
   "id": "6a4c974a-1b95-4f29-8803-c4c51aa1ac86",
   "metadata": {
    "tags": []
   },
   "outputs": [],
   "source": [
    "score1 = np.where(x >= 90, 'A', np.where(x >= 80,'B', np.where(x >= 70,'C','D')))"
   ]
  },
  {
   "cell_type": "code",
   "execution_count": 37,
   "id": "00dd940e-dc62-4e5c-b1d5-bd2835e9b477",
   "metadata": {
    "tags": []
   },
   "outputs": [
    {
     "data": {
      "text/plain": [
       "100000000"
      ]
     },
     "execution_count": 37,
     "metadata": {},
     "output_type": "execute_result"
    }
   ],
   "source": [
    "len(score1)"
   ]
  },
  {
   "cell_type": "code",
   "execution_count": 38,
   "id": "a0be8409-7592-4505-a10f-555dd19853c7",
   "metadata": {},
   "outputs": [
    {
     "data": {
      "text/plain": [
       "Index(['이름', '나이', '박물관방문', '방문회수비율', '성별', '방문등급'], dtype='object')"
      ]
     },
     "execution_count": 38,
     "metadata": {},
     "output_type": "execute_result"
    }
   ],
   "source": [
    "tmp.columns"
   ]
  },
  {
   "cell_type": "code",
   "execution_count": 39,
   "id": "4711b237-028e-4271-a4e9-e05853a8674f",
   "metadata": {
    "tags": []
   },
   "outputs": [
    {
     "data": {
      "text/plain": [
       "Int64Index([0, 1, 2, 3, 4, 5, 6, 7, 8, 9, 0, 3, 7], dtype='int64')"
      ]
     },
     "execution_count": 39,
     "metadata": {},
     "output_type": "execute_result"
    }
   ],
   "source": [
    "tmp.index"
   ]
  },
  {
   "cell_type": "code",
   "execution_count": 40,
   "id": "ba246d7d-5a21-4113-83b2-dda1743a7b87",
   "metadata": {
    "tags": []
   },
   "outputs": [
    {
     "data": {
      "text/html": [
       "<div>\n",
       "<style scoped>\n",
       "    .dataframe tbody tr th:only-of-type {\n",
       "        vertical-align: middle;\n",
       "    }\n",
       "\n",
       "    .dataframe tbody tr th {\n",
       "        vertical-align: top;\n",
       "    }\n",
       "\n",
       "    .dataframe thead th {\n",
       "        text-align: right;\n",
       "    }\n",
       "</style>\n",
       "<table border=\"1\" class=\"dataframe\">\n",
       "  <thead>\n",
       "    <tr style=\"text-align: right;\">\n",
       "      <th></th>\n",
       "      <th>이름</th>\n",
       "      <th>나이</th>\n",
       "      <th>박물관방문</th>\n",
       "      <th>방문회수비율</th>\n",
       "      <th>성별</th>\n",
       "      <th>방문등급</th>\n",
       "    </tr>\n",
       "  </thead>\n",
       "  <tbody>\n",
       "    <tr>\n",
       "      <th>0</th>\n",
       "      <td>김담향</td>\n",
       "      <td>33</td>\n",
       "      <td>5</td>\n",
       "      <td>0.150000</td>\n",
       "      <td>여자</td>\n",
       "      <td>C</td>\n",
       "    </tr>\n",
       "    <tr>\n",
       "      <th>1</th>\n",
       "      <td>이재빈</td>\n",
       "      <td>25</td>\n",
       "      <td>1</td>\n",
       "      <td>0.040000</td>\n",
       "      <td>남자</td>\n",
       "      <td>C</td>\n",
       "    </tr>\n",
       "    <tr>\n",
       "      <th>2</th>\n",
       "      <td>김나영</td>\n",
       "      <td>26</td>\n",
       "      <td>4</td>\n",
       "      <td>0.150000</td>\n",
       "      <td>여자</td>\n",
       "      <td>C</td>\n",
       "    </tr>\n",
       "    <tr>\n",
       "      <th>3</th>\n",
       "      <td>김건우</td>\n",
       "      <td>28</td>\n",
       "      <td>1</td>\n",
       "      <td>0.050000</td>\n",
       "      <td>남자</td>\n",
       "      <td>C</td>\n",
       "    </tr>\n",
       "    <tr>\n",
       "      <th>4</th>\n",
       "      <td>김태영</td>\n",
       "      <td>26</td>\n",
       "      <td>20</td>\n",
       "      <td>0.780000</td>\n",
       "      <td>남자</td>\n",
       "      <td>A</td>\n",
       "    </tr>\n",
       "    <tr>\n",
       "      <th>5</th>\n",
       "      <td>김동일</td>\n",
       "      <td>26</td>\n",
       "      <td>21</td>\n",
       "      <td>0.810000</td>\n",
       "      <td>남자</td>\n",
       "      <td>A</td>\n",
       "    </tr>\n",
       "    <tr>\n",
       "      <th>6</th>\n",
       "      <td>명하영</td>\n",
       "      <td>27</td>\n",
       "      <td>8</td>\n",
       "      <td>0.296296</td>\n",
       "      <td>여자</td>\n",
       "      <td>C</td>\n",
       "    </tr>\n",
       "    <tr>\n",
       "      <th>7</th>\n",
       "      <td>조가영</td>\n",
       "      <td>27</td>\n",
       "      <td>9</td>\n",
       "      <td>0.333333</td>\n",
       "      <td>여자</td>\n",
       "      <td>B</td>\n",
       "    </tr>\n",
       "    <tr>\n",
       "      <th>8</th>\n",
       "      <td>강다솜</td>\n",
       "      <td>28</td>\n",
       "      <td>8</td>\n",
       "      <td>0.308036</td>\n",
       "      <td>여자</td>\n",
       "      <td>C</td>\n",
       "    </tr>\n",
       "    <tr>\n",
       "      <th>9</th>\n",
       "      <td>이강욱</td>\n",
       "      <td>43</td>\n",
       "      <td>100</td>\n",
       "      <td>2.325581</td>\n",
       "      <td>남자</td>\n",
       "      <td>A</td>\n",
       "    </tr>\n",
       "    <tr>\n",
       "      <th>0</th>\n",
       "      <td>김담향</td>\n",
       "      <td>33</td>\n",
       "      <td>5</td>\n",
       "      <td>0.150000</td>\n",
       "      <td>여자</td>\n",
       "      <td>C</td>\n",
       "    </tr>\n",
       "    <tr>\n",
       "      <th>3</th>\n",
       "      <td>김건우</td>\n",
       "      <td>28</td>\n",
       "      <td>1</td>\n",
       "      <td>0.050000</td>\n",
       "      <td>남자</td>\n",
       "      <td>C</td>\n",
       "    </tr>\n",
       "    <tr>\n",
       "      <th>7</th>\n",
       "      <td>조가영</td>\n",
       "      <td>27</td>\n",
       "      <td>9</td>\n",
       "      <td>0.333333</td>\n",
       "      <td>여자</td>\n",
       "      <td>B</td>\n",
       "    </tr>\n",
       "  </tbody>\n",
       "</table>\n",
       "</div>"
      ],
      "text/plain": [
       "    이름  나이  박물관방문    방문회수비율  성별 방문등급\n",
       "0  김담향  33      5  0.150000  여자    C\n",
       "1  이재빈  25      1  0.040000  남자    C\n",
       "2  김나영  26      4  0.150000  여자    C\n",
       "3  김건우  28      1  0.050000  남자    C\n",
       "4  김태영  26     20  0.780000  남자    A\n",
       "5  김동일  26     21  0.810000  남자    A\n",
       "6  명하영  27      8  0.296296  여자    C\n",
       "7  조가영  27      9  0.333333  여자    B\n",
       "8  강다솜  28      8  0.308036  여자    C\n",
       "9  이강욱  43    100  2.325581  남자    A\n",
       "0  김담향  33      5  0.150000  여자    C\n",
       "3  김건우  28      1  0.050000  남자    C\n",
       "7  조가영  27      9  0.333333  여자    B"
      ]
     },
     "execution_count": 40,
     "metadata": {},
     "output_type": "execute_result"
    }
   ],
   "source": [
    "tmp"
   ]
  },
  {
   "cell_type": "code",
   "execution_count": 41,
   "id": "0f645aa7-bb7c-47d3-97a5-91dc913687ca",
   "metadata": {
    "tags": []
   },
   "outputs": [
    {
     "data": {
      "text/plain": [
       "이름         object\n",
       "나이          int32\n",
       "박물관방문       int32\n",
       "방문회수비율    float64\n",
       "성별         object\n",
       "방문등급       object\n",
       "dtype: object"
      ]
     },
     "execution_count": 41,
     "metadata": {},
     "output_type": "execute_result"
    }
   ],
   "source": [
    "tmp.dtypes"
   ]
  },
  {
   "cell_type": "code",
   "execution_count": 42,
   "id": "3bb7ee27-688e-45e0-864f-0b54a95805ab",
   "metadata": {
    "tags": []
   },
   "outputs": [
    {
     "data": {
      "text/plain": [
       "array(['김담향', '이재빈', '김나영', '김건우', '김태영', '김동일', '명하영', '조가영', '강다솜',\n",
       "       '이강욱', '김담향', '김건우', '조가영'], dtype=object)"
      ]
     },
     "execution_count": 42,
     "metadata": {},
     "output_type": "execute_result"
    }
   ],
   "source": [
    "tmp.이름.values"
   ]
  },
  {
   "cell_type": "code",
   "execution_count": 43,
   "id": "c9581dcc-6855-4af3-96b3-ded4a567f395",
   "metadata": {
    "tags": []
   },
   "outputs": [
    {
     "data": {
      "text/plain": [
       "Series([], Name: 박물관방문, dtype: int32)"
      ]
     },
     "execution_count": 43,
     "metadata": {},
     "output_type": "execute_result"
    }
   ],
   "source": [
    "tmp.loc[tmp.박물관방문.isna(),\"박물관방문\"]"
   ]
  },
  {
   "cell_type": "code",
   "execution_count": null,
   "id": "19fb8875-07ff-4e3f-b4b8-859d6a606b30",
   "metadata": {},
   "outputs": [],
   "source": []
  }
 ],
 "metadata": {
  "kernelspec": {
   "display_name": "Python 3 (ipykernel)",
   "language": "python",
   "name": "python3"
  },
  "language_info": {
   "codemirror_mode": {
    "name": "ipython",
    "version": 3
   },
   "file_extension": ".py",
   "mimetype": "text/x-python",
   "name": "python",
   "nbconvert_exporter": "python",
   "pygments_lexer": "ipython3",
   "version": "3.11.4"
  }
 },
 "nbformat": 4,
 "nbformat_minor": 5
}
