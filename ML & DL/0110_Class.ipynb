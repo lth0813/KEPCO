{
 "cells": [
  {
   "cell_type": "code",
   "execution_count": 3,
   "id": "fff6fc8c-3d8f-47eb-8b36-547610355ed0",
   "metadata": {
    "tags": []
   },
   "outputs": [],
   "source": [
    "import numpy as np\n",
    "import matplotlib.pyplot as plt\n",
    "from scipy.special import softmax\n",
    "from tqdm import tqdm"
   ]
  },
  {
   "cell_type": "code",
   "execution_count": 63,
   "id": "61e98d1c-bea5-4021-bd12-4c1332c9a8cf",
   "metadata": {
    "tags": []
   },
   "outputs": [],
   "source": [
    "def sigmoid(x):\n",
    "    return 1/(1+np.exp(-x))\n",
    "\n",
    "def relu(x):\n",
    "    return np.where(x>0,x,0)\n",
    "\n",
    "def softmax(x):\n",
    "    m = np.max(x,1).reshape(-1,1)\n",
    "    c = x - m\n",
    "    return np.exp(c)/np.sum(np.exp(c),1).reshape(-1,1)\n",
    "\n",
    "def tanh(x):\n",
    "    return (np.exp(x)-np.exp(-x))/(np.exp(x)+np.exp(-x))"
   ]
  },
  {
   "cell_type": "code",
   "execution_count": 64,
   "id": "ffff0179-3885-43ed-905e-3a4145d6403d",
   "metadata": {
    "tags": []
   },
   "outputs": [],
   "source": [
    "def rmse(y,y_hat):\n",
    "    return np.sqrt(np.mean(np.square(y-y_hat))) \n",
    "\n",
    "def binary_crossentropy(y,y_hat):\n",
    "    epsilon = 1e-7\n",
    "    return -np.mean((1-y)*np.log(1-y_hat+epsilon)+y*np.log(y_hat+epsilon))\n",
    "\n",
    "def categorical_crossentropy(y_hat,y):\n",
    "    epsilon = 1e-7\n",
    "    return -np.mean(y*np.log(y_hat+epsilon))"
   ]
  },
  {
   "cell_type": "code",
   "execution_count": 65,
   "id": "3a977659-7b52-40cd-8cb7-a6655be4227d",
   "metadata": {
    "tags": []
   },
   "outputs": [],
   "source": [
    "class Sigmoid:\n",
    "    def __init__(self):\n",
    "        self.out = None\n",
    "        \n",
    "    def forward(self,x):\n",
    "        return sigmoid(x)\n",
    "    \n",
    "    def backward(self,out):\n",
    "        dout = sigmoid(out)*(1-sigmoid(out))\n",
    "        return dout"
   ]
  },
  {
   "cell_type": "code",
   "execution_count": 66,
   "id": "21cedb06-2871-48da-9a70-d139d82e0fe9",
   "metadata": {
    "tags": []
   },
   "outputs": [],
   "source": [
    "class ReLU:\n",
    "    def __init__(self):\n",
    "        self.out = None\n",
    "    \n",
    "    def forward(self,x):\n",
    "        out = relu(x)\n",
    "        self.out = np.where(out>0,1,0)\n",
    "        return out\n",
    "        \n",
    "    def backward(self,out):\n",
    "        dout = self.out*out\n",
    "        return dout"
   ]
  },
  {
   "cell_type": "code",
   "execution_count": 67,
   "id": "a28b17d7-1389-408d-ab26-7931cfe77d15",
   "metadata": {
    "tags": []
   },
   "outputs": [],
   "source": [
    "class Affine:\n",
    "    def __init__(self,w,b):\n",
    "        self.x = None\n",
    "        self.w = w\n",
    "        self.b = b\n",
    "    \n",
    "    def forward(self,x):\n",
    "        self.x = x\n",
    "        self.out = np.dot(self.x,self.w) + self.b\n",
    "        return self.out\n",
    "    \n",
    "    def backward(self,out):\n",
    "        self.dout = np.dot(out,self.w.T)#4,2\n",
    "        self.dW = np.dot(self.x.T,out)#2,5\n",
    "        self.db = np.sum(out,axis=0)#5\n",
    "        return self.dout    "
   ]
  },
  {
   "cell_type": "code",
   "execution_count": 68,
   "id": "9c580fb6-a5e4-48ef-afd4-0326b10c901e",
   "metadata": {
    "tags": []
   },
   "outputs": [],
   "source": [
    "class Tanh:\n",
    "    def __init__(self):\n",
    "        self.out = None\n",
    "    \n",
    "    def forward(self,x):\n",
    "        return tanh(x)\n",
    "    \n",
    "    def backward(self,out):\n",
    "        dout = 1 - tanh(out)**2\n",
    "        return dout"
   ]
  },
  {
   "cell_type": "code",
   "execution_count": 95,
   "id": "a92ce8b9-0d6f-46c9-8c99-2bbd1bbb3272",
   "metadata": {
    "tags": []
   },
   "outputs": [],
   "source": [
    "class SoftmaxWithLoss:\n",
    "    def __init__(self):\n",
    "        self.out = None\n",
    "        self.y = None\n",
    "        self.y_hat = None\n",
    "        \n",
    "    def forward(self,x,y):\n",
    "        self.y = y\n",
    "        self.y_hat = softmax(x)\n",
    "        self.loss_val = categorical_crossentropy(self.y,self.y_hat)\n",
    "        return self.loss_val\n",
    "    \n",
    "    def backward(self):\n",
    "        self.dout = (self.y_hat - self.y)/len(self.y)\n",
    "        return self.dout"
   ]
  },
  {
   "cell_type": "code",
   "execution_count": 9,
   "id": "7b9f6ac3-2e25-4811-9be3-350dbae278b0",
   "metadata": {
    "tags": []
   },
   "outputs": [],
   "source": [
    "def sigdiff(x):\n",
    "    return sigmoid(x) * (1-sigmoid(x))\n",
    "\n",
    "def tanhdiff(x):\n",
    "    return 1-tanh(x)**2"
   ]
  },
  {
   "cell_type": "code",
   "execution_count": 10,
   "id": "bf470f36-22d3-41ca-95fa-9ac289a30b2c",
   "metadata": {
    "tags": []
   },
   "outputs": [],
   "source": [
    "s = Sigmoid()"
   ]
  },
  {
   "cell_type": "code",
   "execution_count": 11,
   "id": "1aa2bc75-81aa-451e-b0a7-8ee5c42211ea",
   "metadata": {},
   "outputs": [],
   "source": [
    "x = np.random.randn(3,2)\n",
    "w = np.random.randn(2,2)"
   ]
  },
  {
   "cell_type": "code",
   "execution_count": 12,
   "id": "89229388-3245-4510-b4d0-207b6b60046f",
   "metadata": {},
   "outputs": [
    {
     "data": {
      "text/plain": [
       "(array([[0.01348314, 0.19270431],\n",
       "        [0.24322684, 0.64309884],\n",
       "        [0.74161916, 0.24855469]]),\n",
       " array([[0.31848006, 0.32705802],\n",
       "        [0.29355916, 0.36379977],\n",
       "        [0.16561435, 0.34116047]]))"
      ]
     },
     "execution_count": 12,
     "metadata": {},
     "output_type": "execute_result"
    }
   ],
   "source": [
    "out = np.dot(s.forward(x),w)\n",
    "s.forward(x), s.backward(out)"
   ]
  },
  {
   "cell_type": "code",
   "execution_count": 13,
   "id": "23cff23f-0ee7-40c4-b1bf-bcc5f24392e3",
   "metadata": {
    "tags": []
   },
   "outputs": [],
   "source": [
    "r = ReLU()"
   ]
  },
  {
   "cell_type": "code",
   "execution_count": 14,
   "id": "94548a6e-14d2-4e3c-80c8-cbdfd02e0c86",
   "metadata": {
    "tags": []
   },
   "outputs": [],
   "source": [
    "x = np.array([[-5,6],[2,0],[-1,3]])\n",
    "dx = np.array([[100,-5],[-7,-3],[7,10]])"
   ]
  },
  {
   "cell_type": "code",
   "execution_count": 15,
   "id": "48ca5aa8-0e52-4c76-83e4-7454d91d5210",
   "metadata": {
    "tags": []
   },
   "outputs": [
    {
     "data": {
      "text/plain": [
       "(array([[0, 6],\n",
       "        [2, 0],\n",
       "        [0, 3]]),\n",
       " array([[ 0, -5],\n",
       "        [-7,  0],\n",
       "        [ 0, 10]]))"
      ]
     },
     "execution_count": 15,
     "metadata": {},
     "output_type": "execute_result"
    }
   ],
   "source": [
    "r.forward(x), r.backward(dx)"
   ]
  },
  {
   "cell_type": "code",
   "execution_count": 16,
   "id": "5b605f46-01c6-41c4-aee2-773b06455cad",
   "metadata": {
    "tags": []
   },
   "outputs": [],
   "source": [
    "x = np.random.randn(4,2)\n",
    "w = np.random.randn(2,5)\n",
    "b = np.zeros(5)"
   ]
  },
  {
   "cell_type": "code",
   "execution_count": 17,
   "id": "fca442d9-7fe2-43ad-ab13-b3dee38255b1",
   "metadata": {
    "tags": []
   },
   "outputs": [],
   "source": [
    "a = Affine(w,b)"
   ]
  },
  {
   "cell_type": "code",
   "execution_count": 18,
   "id": "a5e328d9-4aca-48cd-a8ab-c4fc3df9ccd8",
   "metadata": {
    "tags": []
   },
   "outputs": [
    {
     "data": {
      "text/plain": [
       "array([[ 3.10954358,  3.20856106, -0.57993534,  0.19699781, -1.33817084],\n",
       "       [-1.81042747, -1.81785128,  0.35865086, -0.12928546,  0.77562254],\n",
       "       [ 1.24214824,  0.11977811, -0.71754543,  0.41622065, -0.45398462],\n",
       "       [-1.0508482 , -0.48086165,  0.44832967, -0.24186985,  0.41038346]])"
      ]
     },
     "execution_count": 18,
     "metadata": {},
     "output_type": "execute_result"
    }
   ],
   "source": [
    "a.forward(x)"
   ]
  },
  {
   "cell_type": "code",
   "execution_count": 19,
   "id": "699bf5db-7166-4468-8abe-4fc8c1be7b1f",
   "metadata": {
    "tags": []
   },
   "outputs": [
    {
     "data": {
      "text/plain": [
       "array([[ -9.98072567, -12.51226649],\n",
       "       [  5.80291762,   7.20278853],\n",
       "       [ -3.80127789,  -3.0998358 ],\n",
       "       [  3.27649508,   3.24251556]])"
      ]
     },
     "execution_count": 19,
     "metadata": {},
     "output_type": "execute_result"
    }
   ],
   "source": [
    "a.backward(a.forward(x))"
   ]
  },
  {
   "cell_type": "code",
   "execution_count": 20,
   "id": "b1f98694-a78a-438d-9402-7db7efcf8124",
   "metadata": {
    "tags": []
   },
   "outputs": [],
   "source": [
    "sm = SoftmaxWithLoss()"
   ]
  },
  {
   "cell_type": "code",
   "execution_count": 21,
   "id": "5671ab1c-34ff-49d6-8b4c-bf840f5a2cc2",
   "metadata": {
    "tags": []
   },
   "outputs": [
    {
     "data": {
      "text/plain": [
       "[<matplotlib.lines.Line2D at 0x28be6d2d390>]"
      ]
     },
     "execution_count": 21,
     "metadata": {},
     "output_type": "execute_result"
    },
    {
     "data": {
      "image/png": "[encoded data removed]",
      "text/plain": [
       "<Figure size 640x480 with 1 Axes>"
      ]
     },
     "metadata": {},
     "output_type": "display_data"
    }
   ],
   "source": [
    "x = np.linspace(-5,5,100)\n",
    "y = tanhdiff(x)\n",
    "plt.plot(x,y)"
   ]
  },
  {
   "cell_type": "code",
   "execution_count": 22,
   "id": "8e0bf722-2c79-473f-95c2-0568d4e2e642",
   "metadata": {
    "tags": []
   },
   "outputs": [
    {
     "data": {
      "text/plain": [
       "[<matplotlib.lines.Line2D at 0x28be74ef290>]"
      ]
     },
     "execution_count": 22,
     "metadata": {},
     "output_type": "execute_result"
    },
    {
     "data": {
      "image/png": "[encoded data removed]",
      "text/plain": [
       "<Figure size 640x480 with 1 Axes>"
      ]
     },
     "metadata": {},
     "output_type": "display_data"
    }
   ],
   "source": [
    "x = np.linspace(-5,5,100)\n",
    "y = sigdiff(x)\n",
    "plt.plot(x,y)"
   ]
  },
  {
   "cell_type": "code",
   "execution_count": 23,
   "id": "7690bf83-1833-449b-b663-6a3a0690a060",
   "metadata": {
    "tags": []
   },
   "outputs": [],
   "source": [
    "# from tensorflow.keras.models import Sequential\n",
    "# from tensorflow.keras.layers import Dense\n",
    "# from tensorflow.keras import activations\n",
    "# from tensorflow.keras.layers import ReLU\n",
    "# from tensorflow.keras.optimizers import Adam\n",
    "# model = Sequential()\n",
    "# model.add(Dense(100,activation='relu',input_shape=(784,)))\n",
    "# model.add(Dense(10,activation='sigmoid'))\n",
    "# opt = Adam(lr=1e-4)"
   ]
  },
  {
   "cell_type": "code",
   "execution_count": null,
   "id": "4a096434-e3b5-4bb6-9aa4-cf8e67050d24",
   "metadata": {},
   "outputs": [],
   "source": []
  },
  {
   "cell_type": "code",
   "execution_count": 150,
   "id": "bfafbb60-6335-49d2-a822-da07f096d94b",
   "metadata": {
    "tags": []
   },
   "outputs": [],
   "source": [
    "class Net:\n",
    "    def __init__(self,input_shape):\n",
    "        self.x = None\n",
    "        self.y = None\n",
    "        self.input_shape = input_shape\n",
    "        self.layers = []\n",
    "        self.activation_dic = {\n",
    "            'relu':ReLU,\n",
    "            'sigmoid':Sigmoid,\n",
    "            'softmax':SoftmaxWithLoss,\n",
    "            'tanh':Tanh\n",
    "        }\n",
    "        self.grad = None\n",
    "        \n",
    "    def add(self,output_shape,activation):\n",
    "        if len(self.layers) == 0:\n",
    "            w = np.random.randn(self.input_shape,output_shape)\n",
    "            b = np.zeros(output_shape)\n",
    "            activation = self.activation_dic.get(activation)\n",
    "            self.layers.append([w,b,activation])\n",
    "        else:\n",
    "            input_shape = self.layers[-1][0].shape[1]\n",
    "            w = np.random.randn(input_shape,output_shape)\n",
    "            b = np.zeros(output_shape)\n",
    "            activation = self.activation_dic.get(activation)\n",
    "            self.layers.append([w,b,activation])\n",
    "    \n",
    "    def _build(self):\n",
    "        self.W = {}\n",
    "        for i, layer in enumerate(self.layers,1):\n",
    "            w = layer[0]\n",
    "            b = layer[1]\n",
    "            activation = layer[2]\n",
    "            self.W['Affine_'+str(i)] = Affine(w,b)\n",
    "            self.W['Activation_'+str(i)] = activation()\n",
    "        return f'Building Success'\n",
    "    \n",
    "    def compile(self,lr,loss,metrics):\n",
    "        loss_func_dic = {\n",
    "            'rmse':rmse,\n",
    "            'binary_crossentorpy':binary_crossentropy,\n",
    "            'categorical_crossentropy':categorical_crossentropy\n",
    "        } \n",
    "        \n",
    "        metrics_dic ={\n",
    "            'accuracy':'accuracy',\n",
    "            'rmse':'rmse'\n",
    "        }\n",
    "        \n",
    "        self.loss_func = loss_func_dic[loss]\n",
    "        self.metrics = metrics_dic[metrics]\n",
    "        self.lr = lr\n",
    "        \n",
    "    def train(self,x,y):\n",
    "        if self.grad == None:\n",
    "            self._build()\n",
    "        self.y = y\n",
    "        self.y_hat = x\n",
    "\n",
    "        for layer in list(self.W.items())[:-1]:\n",
    "            self.y_hat = layer[1].forward(self.y_hat)\n",
    "        self.loss_val = list(self.W.items())[-1][1].forward(self.y_hat,self.y)\n",
    "        return self.y_hat, self.loss_val\n",
    "    \n",
    "    def predict(self,x):\n",
    "        self.y_hat = x\n",
    "        for layer in list(self.W.items())[:-1]:\n",
    "            self.y_hat = layer[1].forward(self.y_hat)\n",
    "        self.y_hat = softmax(self.y_hat)\n",
    "        return self.y_hat\n",
    "    \n",
    "    def evaluate(self,x,y):\n",
    "        y_hat = self.predict(x)\n",
    "        loss = categorical_crossentropy(y_hat,y)\n",
    "        accuracy = np.sum(np.argmax(y_hat,1) == np.argmax(y,1))/len(y)\n",
    "        # print(f' loss : {loss}, accuracy : {np.around(accuracy,2)}')\n",
    "        return [loss, accuracy]\n",
    "    \n",
    "    def gradient(self,x,y):\n",
    "        self.y_hat = self.train(x,y)[0]\n",
    "        self.y = y\n",
    "        self.grad = {}\n",
    "        last_layer = list(self.W.keys())[-1]\n",
    "        out = self.W.get(last_layer).backward()\n",
    "        for key in list(self.W.keys())[-2::-1]:\n",
    "            out = self.W.get(key).backward(out)\n",
    "        \n",
    "        idx = 1\n",
    "        for key in self.W.keys():\n",
    "            if 'Affine' in key:\n",
    "                self.grad['W'+str(idx)] = self.W.get(key).dW\n",
    "                self.grad['b'+str(idx)] = self.W.get(key).db\n",
    "                idx += 1\n",
    "                \n",
    "        return self.grad\n",
    "        \n",
    "    def loss(self,x,y):\n",
    "        y_hat, loss_val = self.predict(x,y)\n",
    "        # loss_val = categorical_crossentropy(y_hat,y)\n",
    "        accuracy = np.sum(np.argmax(y_hat,1) == np.argmax(y,1))/len(y)\n",
    "        return [accuracy, loss_val] \n",
    "    \n",
    "    def summary(self):\n",
    "        total_params = 0\n",
    "        if self.grad == None:\n",
    "            self._build()\n",
    "        print(\"----------------------------------------------\")\n",
    "        print(\"                Output Shape           Param #\")\n",
    "        print(\"==============================================\")\n",
    "        for idx, layer in enumerate(self.layers,1):\n",
    "            tmp_length = 20 - len(str(layer[0].shape[1]))\n",
    "            print(f'Affine_{idx}        (None, {layer[0].shape[1]}) {np.prod(layer[0].shape) + layer[0].shape[1]:>{tmp_length}}')\n",
    "            total_params += np.prod(layer[0].shape) + layer[0].shape[1]\n",
    "        print(\"==============================================\")\n",
    "        print(f\"total params: {total_params}\")\n",
    "    \n",
    "    def fit(self,x,y,epochs=10):\n",
    "        for epoch in range(epochs):\n",
    "            self.grad = self.gradient(x,y)\n",
    "            evaluate = self.evaluate(x,y)\n",
    "            print(f'{epoch+1} ================> accuracy : {np.around(evaluate[1],2)}, loss : {evaluate[0]}')\n",
    "            # print(f'{epoch+1} ====================> accuracy : {self.evaluate(x,y)[1]} loss : {self.evaluate(x,y)[0]}')\n",
    "            for idx, _ in enumerate(self.layers,1):\n",
    "                self.W.get('Affine_'+str(idx)).w -= self.lr*self.grad['W'+str(idx)]\n",
    "                self.W.get('Affine_'+str(idx)).b -= self.lr*self.grad['b'+str(idx)]"
   ]
  },
  {
   "cell_type": "code",
   "execution_count": 138,
   "id": "8242acb5-ab1b-498a-a972-8b0416c2d920",
   "metadata": {
    "tags": []
   },
   "outputs": [],
   "source": [
    "(X_train, y_train), (X_test, y_test) = mnist.load_data()"
   ]
  },
  {
   "cell_type": "code",
   "execution_count": 139,
   "id": "dfb29131-15a5-460a-9be2-e1948fd51518",
   "metadata": {
    "tags": []
   },
   "outputs": [],
   "source": [
    "X_train = X_train.reshape(-1,784) / 255.0\n",
    "X_test = X_test.reshape(-1,784) / 255.0"
   ]
  },
  {
   "cell_type": "code",
   "execution_count": 140,
   "id": "16c8afc8-18f6-41ba-89fb-5a77a16eb408",
   "metadata": {
    "tags": []
   },
   "outputs": [],
   "source": [
    "y_train = to_categorical(y_train)\n",
    "y_test = to_categorical(y_test)"
   ]
  },
  {
   "cell_type": "code",
   "execution_count": 169,
   "id": "d076409f-c9ae-4ea6-9852-8f6390b131b1",
   "metadata": {
    "tags": []
   },
   "outputs": [],
   "source": [
    "model = Net(784)"
   ]
  },
  {
   "cell_type": "code",
   "execution_count": 170,
   "id": "e4fa3dc7-7cd0-4a1b-bed6-1e2bb3d90f51",
   "metadata": {
    "tags": []
   },
   "outputs": [],
   "source": [
    "model.add(256,activation='relu')\n",
    "model.add(64,activation='relu')\n",
    "model.add(10,activation='softmax')"
   ]
  },
  {
   "cell_type": "code",
   "execution_count": 171,
   "id": "0823446a-cb42-4f58-b987-b8281a6bb5a5",
   "metadata": {
    "tags": []
   },
   "outputs": [],
   "source": [
    "model.compile(lr = 1e-2, loss='categorical_crossentropy', metrics='accuracy')"
   ]
  },
  {
   "cell_type": "code",
   "execution_count": 172,
   "id": "df586069-2f70-44eb-af54-1fe98131bb88",
   "metadata": {
    "tags": []
   },
   "outputs": [
    {
     "name": "stdout",
     "output_type": "stream",
     "text": [
      "1 ================> accuracy : 0.15, loss : 1.3662401383879885\n",
      "2 ================> accuracy : 0.17, loss : 1.3282609912488093\n",
      "3 ================> accuracy : 0.24, loss : 1.2195978746415672\n",
      "4 ================> accuracy : 0.23, loss : 1.2400150586761267\n",
      "5 ================> accuracy : 0.28, loss : 1.1462156887794448\n",
      "6 ================> accuracy : 0.26, loss : 1.1789292293787281\n",
      "7 ================> accuracy : 0.32, loss : 1.0531420285963689\n",
      "8 ================> accuracy : 0.36, loss : 0.9857090789569832\n",
      "9 ================> accuracy : 0.38, loss : 0.9348969504473446\n",
      "10 ================> accuracy : 0.4, loss : 0.9006267617031772\n",
      "11 ================> accuracy : 0.41, loss : 0.8718575402840004\n",
      "12 ================> accuracy : 0.42, loss : 0.847456942701467\n",
      "13 ================> accuracy : 0.43, loss : 0.827374644405553\n",
      "14 ================> accuracy : 0.43, loss : 0.8048508236431978\n",
      "15 ================> accuracy : 0.44, loss : 0.7946244692598065\n",
      "16 ================> accuracy : 0.45, loss : 0.7744236714720293\n",
      "17 ================> accuracy : 0.44, loss : 0.7750161125958385\n",
      "18 ================> accuracy : 0.46, loss : 0.752775981851317\n",
      "19 ================> accuracy : 0.45, loss : 0.7675285852490138\n",
      "20 ================> accuracy : 0.47, loss : 0.7495342306980822\n",
      "21 ================> accuracy : 0.46, loss : 0.7678130307012467\n",
      "22 ================> accuracy : 0.47, loss : 0.7182839904650847\n",
      "23 ================> accuracy : 0.47, loss : 0.682749854027498\n",
      "24 ================> accuracy : 0.46, loss : 0.729977580920881\n",
      "25 ================> accuracy : 0.48, loss : 0.6755998749583715\n",
      "26 ================> accuracy : 0.44, loss : 0.705077956557727\n",
      "27 ================> accuracy : 0.46, loss : 0.6719246429205532\n",
      "28 ================> accuracy : 0.47, loss : 0.6945993998346226\n",
      "29 ================> accuracy : 0.45, loss : 0.6660925007219695\n",
      "30 ================> accuracy : 0.46, loss : 0.6894226602222819\n",
      "31 ================> accuracy : 0.47, loss : 0.6754370617094727\n",
      "32 ================> accuracy : 0.47, loss : 0.6659004907262713\n",
      "33 ================> accuracy : 0.47, loss : 0.6512209969423036\n",
      "34 ================> accuracy : 0.45, loss : 0.6471314269338074\n",
      "35 ================> accuracy : 0.46, loss : 0.5984652741916516\n",
      "36 ================> accuracy : 0.48, loss : 0.6108588780032183\n",
      "37 ================> accuracy : 0.47, loss : 0.6344066664131056\n",
      "38 ================> accuracy : 0.44, loss : 0.6099555789005767\n",
      "39 ================> accuracy : 0.46, loss : 0.5791407589198324\n",
      "40 ================> accuracy : 0.43, loss : 0.5940818181548797\n",
      "41 ================> accuracy : 0.45, loss : 0.5582372564654803\n",
      "42 ================> accuracy : 0.46, loss : 0.5903139166840031\n",
      "43 ================> accuracy : 0.46, loss : 0.6110665345427756\n",
      "44 ================> accuracy : 0.43, loss : 0.5801889727320284\n",
      "45 ================> accuracy : 0.47, loss : 0.5273893670061128\n",
      "46 ================> accuracy : 0.47, loss : 0.541270011599382\n",
      "47 ================> accuracy : 0.46, loss : 0.5281795682754316\n",
      "48 ================> accuracy : 0.47, loss : 0.520435141360521\n",
      "49 ================> accuracy : 0.45, loss : 0.5273717868704467\n",
      "50 ================> accuracy : 0.45, loss : 0.505888341898629\n",
      "51 ================> accuracy : 0.48, loss : 0.46790629103503256\n",
      "52 ================> accuracy : 0.46, loss : 0.49020355988902437\n",
      "53 ================> accuracy : 0.43, loss : 0.4660743540630377\n",
      "54 ================> accuracy : 0.46, loss : 0.4776588916165627\n",
      "55 ================> accuracy : 0.44, loss : 0.4930929126566146\n",
      "56 ================> accuracy : 0.43, loss : 0.41905033618666104\n",
      "57 ================> accuracy : 0.47, loss : 0.4455616567102236\n",
      "58 ================> accuracy : 0.47, loss : 0.47825111692015404\n",
      "59 ================> accuracy : 0.43, loss : 0.447486243249218\n",
      "60 ================> accuracy : 0.46, loss : 0.439418327073422\n",
      "61 ================> accuracy : 0.46, loss : 0.45601931396829276\n",
      "62 ================> accuracy : 0.45, loss : 0.4350606490126794\n",
      "63 ================> accuracy : 0.47, loss : 0.4380265097629369\n",
      "64 ================> accuracy : 0.44, loss : 0.46870384008620186\n",
      "65 ================> accuracy : 0.42, loss : 0.41800396693314673\n",
      "66 ================> accuracy : 0.46, loss : 0.4159382444506337\n",
      "67 ================> accuracy : 0.45, loss : 0.41733843939215703\n",
      "68 ================> accuracy : 0.43, loss : 0.3906977861535112\n",
      "69 ================> accuracy : 0.45, loss : 0.4051305195340073\n",
      "70 ================> accuracy : 0.44, loss : 0.39524654581354385\n",
      "71 ================> accuracy : 0.47, loss : 0.39617703257936376\n",
      "72 ================> accuracy : 0.46, loss : 0.3963777132514798\n",
      "73 ================> accuracy : 0.47, loss : 0.4002938654181879\n",
      "74 ================> accuracy : 0.45, loss : 0.3885402288557343\n",
      "75 ================> accuracy : 0.44, loss : 0.38183125978536103\n",
      "76 ================> accuracy : 0.43, loss : 0.39114527689063705\n",
      "77 ================> accuracy : 0.45, loss : 0.3847071029777554\n",
      "78 ================> accuracy : 0.44, loss : 0.3705505152739026\n",
      "79 ================> accuracy : 0.43, loss : 0.37142541885817343\n",
      "80 ================> accuracy : 0.45, loss : 0.35602372630548124\n",
      "81 ================> accuracy : 0.43, loss : 0.36941346676732145\n",
      "82 ================> accuracy : 0.45, loss : 0.36051168558859353\n",
      "83 ================> accuracy : 0.44, loss : 0.3543588261296477\n",
      "84 ================> accuracy : 0.46, loss : 0.3678542678954491\n",
      "85 ================> accuracy : 0.44, loss : 0.37694561214791567\n",
      "86 ================> accuracy : 0.44, loss : 0.3756786826311681\n",
      "87 ================> accuracy : 0.43, loss : 0.36142106025204335\n",
      "88 ================> accuracy : 0.44, loss : 0.34337489711883135\n",
      "89 ================> accuracy : 0.43, loss : 0.3464448130612948\n",
      "90 ================> accuracy : 0.46, loss : 0.3515660882767102\n",
      "91 ================> accuracy : 0.45, loss : 0.3549003404314587\n",
      "92 ================> accuracy : 0.45, loss : 0.3436405153447708\n",
      "93 ================> accuracy : 0.47, loss : 0.3316401531760227\n",
      "94 ================> accuracy : 0.44, loss : 0.3366815478066788\n",
      "95 ================> accuracy : 0.45, loss : 0.3338880596944581\n",
      "96 ================> accuracy : 0.43, loss : 0.33907625330251745\n",
      "97 ================> accuracy : 0.44, loss : 0.33189213645360816\n",
      "98 ================> accuracy : 0.47, loss : 0.3231658264257713\n",
      "99 ================> accuracy : 0.46, loss : 0.31984745508162465\n",
      "100 ================> accuracy : 0.44, loss : 0.3272434080488347\n"
     ]
    }
   ],
   "source": [
    "model.fit(X_train, y_train,epochs=100)"
   ]
  },
  {
   "cell_type": "code",
   "execution_count": 164,
   "id": "b3c5d53d-391e-4af0-8111-639df056c572",
   "metadata": {
    "tags": []
   },
   "outputs": [],
   "source": [
    "from tensorflow.keras.datasets import fashion_mnist"
   ]
  },
  {
   "cell_type": "code",
   "execution_count": 168,
   "id": "e5fb2f92-bebf-48a1-bb9d-1544f08c39a3",
   "metadata": {
    "tags": []
   },
   "outputs": [],
   "source": [
    "(X_train, y_train), (X_test, y_test) = fashion_mnist.load_data()\n",
    "X_train = X_train.reshape(-1,784) / 255.0\n",
    "X_test = X_test.reshape(-1,784) / 255.0\n",
    "y_train = to_categorical(y_train)\n",
    "y_test = to_categorical(y_test)"
   ]
  },
  {
   "cell_type": "code",
   "execution_count": 173,
   "id": "10b56a4b-2389-4f13-95d7-9e7b81419eca",
   "metadata": {
    "tags": []
   },
   "outputs": [],
   "source": [
    "fashion_dic = {0 : \"T-shirt/top\",\n",
    "1 : \"Trouser\",\n",
    "2 : \"Pullover\",\n",
    "3 : \"Dress\",\n",
    "4 : \"Coat\",\n",
    "5 : \"Sandal\",\n",
    "6 : \"Shirt\",\n",
    "7 : \"Sneaker\",\n",
    "8 : \"Bag\",\n",
    "9 : \"Ankle boot\"}"
   ]
  },
  {
   "cell_type": "code",
   "execution_count": 174,
   "id": "a257d8a5-b099-4483-8ed1-9ee98873697c",
   "metadata": {
    "tags": []
   },
   "outputs": [
    {
     "data": {
      "text/plain": [
       "{0: 'T-shirt/top',\n",
       " 1: 'Trouser',\n",
       " 2: 'Pullover',\n",
       " 3: 'Dress',\n",
       " 4: 'Coat',\n",
       " 5: 'Sandal',\n",
       " 6: 'Shirt',\n",
       " 7: 'Sneaker',\n",
       " 8: 'Bag',\n",
       " 9: 'Ankle boot'}"
      ]
     },
     "execution_count": 174,
     "metadata": {},
     "output_type": "execute_result"
    }
   ],
   "source": [
    "fashion_dic"
   ]
  },
  {
   "cell_type": "code",
   "execution_count": null,
   "id": "6f93614e-039f-4b17-afbb-864d5aab065f",
   "metadata": {},
   "outputs": [],
   "source": []
  },
  {
   "cell_type": "code",
   "execution_count": null,
   "id": "478f88a2-a65b-4a13-a83d-03ca86b3ac7a",
   "metadata": {},
   "outputs": [],
   "source": []
  },
  {
   "cell_type": "code",
   "execution_count": 177,
   "id": "cdf74d2e-7296-4ccc-8d78-cb281d6fc747",
   "metadata": {
    "tags": []
   },
   "outputs": [],
   "source": [
    "number = [6,28,134,55,79,88,112,49,22,813]\n",
    "\n",
    "data = X_test[number,:]\n",
    "data = data.reshape(-1,28,28)"
   ]
  },
  {
   "cell_type": "code",
   "execution_count": 156,
   "id": "bf7b828f-54fc-498d-9c5e-64f7791b69ad",
   "metadata": {
    "tags": []
   },
   "outputs": [],
   "source": [
    "import matplotlib.pyplot as plt"
   ]
  },
  {
   "cell_type": "code",
   "execution_count": 106,
   "id": "dd08c024-c91b-4539-8125-e22580fcee27",
   "metadata": {
    "collapsed": true,
    "jupyter": {
     "outputs_hidden": true
    },
    "tags": []
   },
   "outputs": [
    {
     "data": {
      "text/plain": [
       "array([[0.        , 0.        , 0.        , 0.        , 0.        ,\n",
       "        0.        , 0.        , 0.        , 0.        , 0.        ,\n",
       "        0.        , 0.        , 0.        , 0.        , 0.        ,\n",
       "        0.        , 0.        , 0.        , 0.        , 0.        ,\n",
       "        0.        , 0.        , 0.        , 0.        , 0.        ,\n",
       "        0.        , 0.        , 0.        ],\n",
       "       [0.        , 0.        , 0.        , 0.        , 0.        ,\n",
       "        0.        , 0.        , 0.        , 0.        , 0.        ,\n",
       "        0.        , 0.        , 0.        , 0.        , 0.        ,\n",
       "        0.        , 0.        , 0.        , 0.        , 0.        ,\n",
       "        0.        , 0.        , 0.        , 0.        , 0.        ,\n",
       "        0.        , 0.        , 0.        ],\n",
       "       [0.        , 0.        , 0.        , 0.        , 0.        ,\n",
       "        0.        , 0.        , 0.        , 0.        , 0.        ,\n",
       "        0.        , 0.        , 0.        , 0.        , 0.        ,\n",
       "        0.        , 0.        , 0.        , 0.        , 0.        ,\n",
       "        0.        , 0.        , 0.        , 0.        , 0.        ,\n",
       "        0.        , 0.        , 0.        ],\n",
       "       [0.        , 0.        , 0.        , 0.        , 0.        ,\n",
       "        0.        , 0.        , 0.        , 0.        , 0.        ,\n",
       "        0.45490196, 0.49019608, 0.67058824, 1.        , 1.        ,\n",
       "        0.58823529, 0.36470588, 0.        , 0.        , 0.        ,\n",
       "        0.        , 0.        , 0.        , 0.        , 0.        ,\n",
       "        0.        , 0.        , 0.        ],\n",
       "       [0.        , 0.        , 0.        , 0.        , 0.        ,\n",
       "        0.        , 0.        , 0.        , 0.        , 0.6627451 ,\n",
       "        0.99215686, 0.99215686, 0.99215686, 0.99215686, 0.99215686,\n",
       "        0.99215686, 0.85490196, 0.11764706, 0.        , 0.        ,\n",
       "        0.        , 0.        , 0.        , 0.        , 0.        ,\n",
       "        0.        , 0.        , 0.        ],\n",
       "       [0.        , 0.        , 0.        , 0.        , 0.        ,\n",
       "        0.        , 0.        , 0.        , 0.6627451 , 0.99215686,\n",
       "        0.99215686, 0.99215686, 0.83529412, 0.55686275, 0.69019608,\n",
       "        0.99215686, 0.99215686, 0.47843137, 0.        , 0.        ,\n",
       "        0.        , 0.        , 0.        , 0.        , 0.        ,\n",
       "        0.        , 0.        , 0.        ],\n",
       "       [0.        , 0.        , 0.        , 0.        , 0.        ,\n",
       "        0.        , 0.        , 0.20392157, 0.98039216, 0.99215686,\n",
       "        0.82352941, 0.1254902 , 0.04705882, 0.        , 0.02352941,\n",
       "        0.80784314, 0.99215686, 0.54901961, 0.        , 0.        ,\n",
       "        0.        , 0.        , 0.        , 0.        , 0.        ,\n",
       "        0.        , 0.        , 0.        ],\n",
       "       [0.        , 0.        , 0.        , 0.        , 0.        ,\n",
       "        0.        , 0.        , 0.30196078, 0.98431373, 0.82352941,\n",
       "        0.09803922, 0.        , 0.        , 0.        , 0.47843137,\n",
       "        0.97254902, 0.99215686, 0.25490196, 0.        , 0.        ,\n",
       "        0.        , 0.        , 0.        , 0.        , 0.        ,\n",
       "        0.        , 0.        , 0.        ],\n",
       "       [0.        , 0.        , 0.        , 0.        , 0.        ,\n",
       "        0.        , 0.        , 0.        , 0.12156863, 0.07058824,\n",
       "        0.        , 0.        , 0.        , 0.        , 0.81960784,\n",
       "        0.99215686, 0.99215686, 0.25490196, 0.        , 0.        ,\n",
       "        0.        , 0.        , 0.        , 0.        , 0.        ,\n",
       "        0.        , 0.        , 0.        ],\n",
       "       [0.        , 0.        , 0.        , 0.        , 0.        ,\n",
       "        0.        , 0.        , 0.        , 0.        , 0.        ,\n",
       "        0.        , 0.        , 0.        , 0.45882353, 0.96862745,\n",
       "        0.99215686, 0.77647059, 0.03921569, 0.        , 0.        ,\n",
       "        0.        , 0.        , 0.        , 0.        , 0.        ,\n",
       "        0.        , 0.        , 0.        ],\n",
       "       [0.        , 0.        , 0.        , 0.        , 0.        ,\n",
       "        0.        , 0.        , 0.        , 0.        , 0.        ,\n",
       "        0.        , 0.        , 0.29803922, 0.96862745, 0.99215686,\n",
       "        0.90588235, 0.24705882, 0.        , 0.        , 0.        ,\n",
       "        0.        , 0.        , 0.        , 0.        , 0.        ,\n",
       "        0.        , 0.        , 0.        ],\n",
       "       [0.        , 0.        , 0.        , 0.        , 0.        ,\n",
       "        0.        , 0.        , 0.        , 0.        , 0.        ,\n",
       "        0.        , 0.        , 0.50196078, 0.99215686, 0.99215686,\n",
       "        0.56470588, 0.        , 0.        , 0.        , 0.        ,\n",
       "        0.        , 0.        , 0.        , 0.        , 0.        ,\n",
       "        0.        , 0.        , 0.        ],\n",
       "       [0.        , 0.        , 0.        , 0.        , 0.        ,\n",
       "        0.        , 0.        , 0.        , 0.        , 0.        ,\n",
       "        0.        , 0.69019608, 0.96470588, 0.99215686, 0.62352941,\n",
       "        0.04705882, 0.        , 0.        , 0.        , 0.        ,\n",
       "        0.        , 0.        , 0.        , 0.        , 0.        ,\n",
       "        0.        , 0.        , 0.        ],\n",
       "       [0.        , 0.        , 0.        , 0.        , 0.        ,\n",
       "        0.        , 0.        , 0.        , 0.        , 0.        ,\n",
       "        0.09803922, 0.91764706, 0.99215686, 0.91372549, 0.1372549 ,\n",
       "        0.        , 0.        , 0.        , 0.        , 0.        ,\n",
       "        0.        , 0.        , 0.        , 0.        , 0.        ,\n",
       "        0.        , 0.        , 0.        ],\n",
       "       [0.        , 0.        , 0.        , 0.        , 0.        ,\n",
       "        0.        , 0.        , 0.        , 0.        , 0.        ,\n",
       "        0.77647059, 0.99215686, 0.99215686, 0.55294118, 0.        ,\n",
       "        0.        , 0.        , 0.        , 0.        , 0.        ,\n",
       "        0.        , 0.        , 0.        , 0.        , 0.        ,\n",
       "        0.        , 0.        , 0.        ],\n",
       "       [0.        , 0.        , 0.        , 0.        , 0.        ,\n",
       "        0.        , 0.        , 0.        , 0.        , 0.30588235,\n",
       "        0.97254902, 0.99215686, 0.74117647, 0.04705882, 0.        ,\n",
       "        0.        , 0.        , 0.        , 0.        , 0.        ,\n",
       "        0.        , 0.        , 0.        , 0.        , 0.        ,\n",
       "        0.        , 0.        , 0.        ],\n",
       "       [0.        , 0.        , 0.        , 0.        , 0.        ,\n",
       "        0.        , 0.        , 0.        , 0.0745098 , 0.78431373,\n",
       "        0.99215686, 0.99215686, 0.55294118, 0.        , 0.        ,\n",
       "        0.        , 0.        , 0.        , 0.        , 0.        ,\n",
       "        0.        , 0.        , 0.        , 0.        , 0.        ,\n",
       "        0.        , 0.        , 0.        ],\n",
       "       [0.        , 0.        , 0.        , 0.        , 0.        ,\n",
       "        0.        , 0.        , 0.        , 0.5254902 , 0.99215686,\n",
       "        0.99215686, 0.67843137, 0.04705882, 0.        , 0.        ,\n",
       "        0.        , 0.        , 0.        , 0.        , 0.        ,\n",
       "        0.        , 0.        , 0.        , 0.        , 0.        ,\n",
       "        0.        , 0.        , 0.        ],\n",
       "       [0.        , 0.        , 0.        , 0.        , 0.        ,\n",
       "        0.        , 0.        , 0.        , 0.97254902, 0.99215686,\n",
       "        0.99215686, 0.09803922, 0.        , 0.        , 0.        ,\n",
       "        0.        , 0.        , 0.        , 0.        , 0.        ,\n",
       "        0.        , 0.        , 0.        , 0.        , 0.        ,\n",
       "        0.        , 0.        , 0.        ],\n",
       "       [0.        , 0.        , 0.        , 0.        , 0.        ,\n",
       "        0.        , 0.        , 0.        , 0.97254902, 0.99215686,\n",
       "        0.99215686, 0.16862745, 0.07843137, 0.07843137, 0.07843137,\n",
       "        0.07843137, 0.01960784, 0.        , 0.01960784, 0.07843137,\n",
       "        0.07843137, 0.14509804, 0.58823529, 0.58823529, 0.58823529,\n",
       "        0.57647059, 0.03921569, 0.        ],\n",
       "       [0.        , 0.        , 0.        , 0.        , 0.        ,\n",
       "        0.        , 0.        , 0.        , 0.97254902, 0.99215686,\n",
       "        0.99215686, 0.99215686, 0.99215686, 0.99215686, 0.99215686,\n",
       "        0.99215686, 0.65882353, 0.56078431, 0.65098039, 0.99215686,\n",
       "        0.99215686, 0.99215686, 0.99215686, 0.99215686, 0.99215686,\n",
       "        0.99215686, 0.48235294, 0.        ],\n",
       "       [0.        , 0.        , 0.        , 0.        , 0.        ,\n",
       "        0.        , 0.        , 0.        , 0.68235294, 0.99215686,\n",
       "        0.99215686, 0.99215686, 0.99215686, 0.99215686, 0.99215686,\n",
       "        0.99215686, 0.99215686, 0.99215686, 0.99215686, 0.99215686,\n",
       "        0.97647059, 0.96862745, 0.96862745, 0.6627451 , 0.45882353,\n",
       "        0.45882353, 0.22352941, 0.        ],\n",
       "       [0.        , 0.        , 0.        , 0.        , 0.        ,\n",
       "        0.        , 0.        , 0.        , 0.        , 0.4627451 ,\n",
       "        0.48235294, 0.48235294, 0.48235294, 0.65098039, 0.99215686,\n",
       "        0.99215686, 0.99215686, 0.60784314, 0.48235294, 0.48235294,\n",
       "        0.16078431, 0.        , 0.        , 0.        , 0.        ,\n",
       "        0.        , 0.        , 0.        ],\n",
       "       [0.        , 0.        , 0.        , 0.        , 0.        ,\n",
       "        0.        , 0.        , 0.        , 0.        , 0.        ,\n",
       "        0.        , 0.        , 0.        , 0.        , 0.        ,\n",
       "        0.        , 0.        , 0.        , 0.        , 0.        ,\n",
       "        0.        , 0.        , 0.        , 0.        , 0.        ,\n",
       "        0.        , 0.        , 0.        ],\n",
       "       [0.        , 0.        , 0.        , 0.        , 0.        ,\n",
       "        0.        , 0.        , 0.        , 0.        , 0.        ,\n",
       "        0.        , 0.        , 0.        , 0.        , 0.        ,\n",
       "        0.        , 0.        , 0.        , 0.        , 0.        ,\n",
       "        0.        , 0.        , 0.        , 0.        , 0.        ,\n",
       "        0.        , 0.        , 0.        ],\n",
       "       [0.        , 0.        , 0.        , 0.        , 0.        ,\n",
       "        0.        , 0.        , 0.        , 0.        , 0.        ,\n",
       "        0.        , 0.        , 0.        , 0.        , 0.        ,\n",
       "        0.        , 0.        , 0.        , 0.        , 0.        ,\n",
       "        0.        , 0.        , 0.        , 0.        , 0.        ,\n",
       "        0.        , 0.        , 0.        ],\n",
       "       [0.        , 0.        , 0.        , 0.        , 0.        ,\n",
       "        0.        , 0.        , 0.        , 0.        , 0.        ,\n",
       "        0.        , 0.        , 0.        , 0.        , 0.        ,\n",
       "        0.        , 0.        , 0.        , 0.        , 0.        ,\n",
       "        0.        , 0.        , 0.        , 0.        , 0.        ,\n",
       "        0.        , 0.        , 0.        ],\n",
       "       [0.        , 0.        , 0.        , 0.        , 0.        ,\n",
       "        0.        , 0.        , 0.        , 0.        , 0.        ,\n",
       "        0.        , 0.        , 0.        , 0.        , 0.        ,\n",
       "        0.        , 0.        , 0.        , 0.        , 0.        ,\n",
       "        0.        , 0.        , 0.        , 0.        , 0.        ,\n",
       "        0.        , 0.        , 0.        ]])"
      ]
     },
     "execution_count": 106,
     "metadata": {},
     "output_type": "execute_result"
    }
   ],
   "source": [
    "data[0]"
   ]
  },
  {
   "cell_type": "code",
   "execution_count": 107,
   "id": "cf76cc40-41f2-42db-a85b-8988dfe50f05",
   "metadata": {
    "collapsed": true,
    "jupyter": {
     "outputs_hidden": true
    },
    "tags": []
   },
   "outputs": [
    {
     "data": {
      "text/plain": [
       "array([[0.        , 0.        , 0.        , 0.        , 0.        ,\n",
       "        0.        , 0.        , 0.        , 0.        , 0.        ,\n",
       "        0.        , 0.        , 0.        , 0.        , 0.        ,\n",
       "        0.        , 0.        , 0.        , 0.        , 0.        ,\n",
       "        0.        , 0.        , 0.        , 0.        , 0.        ,\n",
       "        0.        , 0.        , 0.        , 0.        , 0.        ,\n",
       "        0.        , 0.        , 0.        , 0.        , 0.        ,\n",
       "        0.        , 0.        , 0.        , 0.        , 0.        ,\n",
       "        0.        , 0.        , 0.        , 0.        , 0.        ,\n",
       "        0.        , 0.        , 0.        , 0.        , 0.        ,\n",
       "        0.        , 0.        , 0.        , 0.        , 0.        ,\n",
       "        0.        , 0.        , 0.        , 0.        , 0.        ,\n",
       "        0.        , 0.        , 0.        , 0.        , 0.        ,\n",
       "        0.        , 0.        , 0.        , 0.        , 0.        ,\n",
       "        0.        , 0.        , 0.        , 0.        , 0.        ,\n",
       "        0.        , 0.        , 0.        , 0.        , 0.        ,\n",
       "        0.        , 0.        , 0.        , 0.        , 0.        ,\n",
       "        0.        , 0.        , 0.        , 0.        , 0.        ,\n",
       "        0.        , 0.        , 0.        , 0.        , 0.45490196,\n",
       "        0.49019608, 0.67058824, 1.        , 1.        , 0.58823529,\n",
       "        0.36470588, 0.        , 0.        , 0.        , 0.        ,\n",
       "        0.        , 0.        , 0.        , 0.        , 0.        ,\n",
       "        0.        , 0.        , 0.        , 0.        , 0.        ,\n",
       "        0.        , 0.        , 0.        , 0.        , 0.        ,\n",
       "        0.        , 0.6627451 , 0.99215686, 0.99215686, 0.99215686,\n",
       "        0.99215686, 0.99215686, 0.99215686, 0.85490196, 0.11764706,\n",
       "        0.        , 0.        , 0.        , 0.        , 0.        ,\n",
       "        0.        , 0.        , 0.        , 0.        , 0.        ,\n",
       "        0.        , 0.        , 0.        , 0.        , 0.        ,\n",
       "        0.        , 0.        , 0.        , 0.6627451 , 0.99215686,\n",
       "        0.99215686, 0.99215686, 0.83529412, 0.55686275, 0.69019608,\n",
       "        0.99215686, 0.99215686, 0.47843137, 0.        , 0.        ,\n",
       "        0.        , 0.        , 0.        , 0.        , 0.        ,\n",
       "        0.        , 0.        , 0.        , 0.        , 0.        ,\n",
       "        0.        , 0.        , 0.        , 0.        , 0.        ,\n",
       "        0.20392157, 0.98039216, 0.99215686, 0.82352941, 0.1254902 ,\n",
       "        0.04705882, 0.        , 0.02352941, 0.80784314, 0.99215686,\n",
       "        0.54901961, 0.        , 0.        , 0.        , 0.        ,\n",
       "        0.        , 0.        , 0.        , 0.        , 0.        ,\n",
       "        0.        , 0.        , 0.        , 0.        , 0.        ,\n",
       "        0.        , 0.        , 0.        , 0.30196078, 0.98431373,\n",
       "        0.82352941, 0.09803922, 0.        , 0.        , 0.        ,\n",
       "        0.47843137, 0.97254902, 0.99215686, 0.25490196, 0.        ,\n",
       "        0.        , 0.        , 0.        , 0.        , 0.        ,\n",
       "        0.        , 0.        , 0.        , 0.        , 0.        ,\n",
       "        0.        , 0.        , 0.        , 0.        , 0.        ,\n",
       "        0.        , 0.        , 0.12156863, 0.07058824, 0.        ,\n",
       "        0.        , 0.        , 0.        , 0.81960784, 0.99215686,\n",
       "        0.99215686, 0.25490196, 0.        , 0.        , 0.        ,\n",
       "        0.        , 0.        , 0.        , 0.        , 0.        ,\n",
       "        0.        , 0.        , 0.        , 0.        , 0.        ,\n",
       "        0.        , 0.        , 0.        , 0.        , 0.        ,\n",
       "        0.        , 0.        , 0.        , 0.        , 0.        ,\n",
       "        0.45882353, 0.96862745, 0.99215686, 0.77647059, 0.03921569,\n",
       "        0.        , 0.        , 0.        , 0.        , 0.        ,\n",
       "        0.        , 0.        , 0.        , 0.        , 0.        ,\n",
       "        0.        , 0.        , 0.        , 0.        , 0.        ,\n",
       "        0.        , 0.        , 0.        , 0.        , 0.        ,\n",
       "        0.        , 0.        , 0.29803922, 0.96862745, 0.99215686,\n",
       "        0.90588235, 0.24705882, 0.        , 0.        , 0.        ,\n",
       "        0.        , 0.        , 0.        , 0.        , 0.        ,\n",
       "        0.        , 0.        , 0.        , 0.        , 0.        ,\n",
       "        0.        , 0.        , 0.        , 0.        , 0.        ,\n",
       "        0.        , 0.        , 0.        , 0.        , 0.        ,\n",
       "        0.50196078, 0.99215686, 0.99215686, 0.56470588, 0.        ,\n",
       "        0.        , 0.        , 0.        , 0.        , 0.        ,\n",
       "        0.        , 0.        , 0.        , 0.        , 0.        ,\n",
       "        0.        , 0.        , 0.        , 0.        , 0.        ,\n",
       "        0.        , 0.        , 0.        , 0.        , 0.        ,\n",
       "        0.        , 0.        , 0.69019608, 0.96470588, 0.99215686,\n",
       "        0.62352941, 0.04705882, 0.        , 0.        , 0.        ,\n",
       "        0.        , 0.        , 0.        , 0.        , 0.        ,\n",
       "        0.        , 0.        , 0.        , 0.        , 0.        ,\n",
       "        0.        , 0.        , 0.        , 0.        , 0.        ,\n",
       "        0.        , 0.        , 0.        , 0.        , 0.09803922,\n",
       "        0.91764706, 0.99215686, 0.91372549, 0.1372549 , 0.        ,\n",
       "        0.        , 0.        , 0.        , 0.        , 0.        ,\n",
       "        0.        , 0.        , 0.        , 0.        , 0.        ,\n",
       "        0.        , 0.        , 0.        , 0.        , 0.        ,\n",
       "        0.        , 0.        , 0.        , 0.        , 0.        ,\n",
       "        0.        , 0.        , 0.77647059, 0.99215686, 0.99215686,\n",
       "        0.55294118, 0.        , 0.        , 0.        , 0.        ,\n",
       "        0.        , 0.        , 0.        , 0.        , 0.        ,\n",
       "        0.        , 0.        , 0.        , 0.        , 0.        ,\n",
       "        0.        , 0.        , 0.        , 0.        , 0.        ,\n",
       "        0.        , 0.        , 0.        , 0.        , 0.30588235,\n",
       "        0.97254902, 0.99215686, 0.74117647, 0.04705882, 0.        ,\n",
       "        0.        , 0.        , 0.        , 0.        , 0.        ,\n",
       "        0.        , 0.        , 0.        , 0.        , 0.        ,\n",
       "        0.        , 0.        , 0.        , 0.        , 0.        ,\n",
       "        0.        , 0.        , 0.        , 0.        , 0.        ,\n",
       "        0.        , 0.0745098 , 0.78431373, 0.99215686, 0.99215686,\n",
       "        0.55294118, 0.        , 0.        , 0.        , 0.        ,\n",
       "        0.        , 0.        , 0.        , 0.        , 0.        ,\n",
       "        0.        , 0.        , 0.        , 0.        , 0.        ,\n",
       "        0.        , 0.        , 0.        , 0.        , 0.        ,\n",
       "        0.        , 0.        , 0.        , 0.        , 0.5254902 ,\n",
       "        0.99215686, 0.99215686, 0.67843137, 0.04705882, 0.        ,\n",
       "        0.        , 0.        , 0.        , 0.        , 0.        ,\n",
       "        0.        , 0.        , 0.        , 0.        , 0.        ,\n",
       "        0.        , 0.        , 0.        , 0.        , 0.        ,\n",
       "        0.        , 0.        , 0.        , 0.        , 0.        ,\n",
       "        0.        , 0.        , 0.97254902, 0.99215686, 0.99215686,\n",
       "        0.09803922, 0.        , 0.        , 0.        , 0.        ,\n",
       "        0.        , 0.        , 0.        , 0.        , 0.        ,\n",
       "        0.        , 0.        , 0.        , 0.        , 0.        ,\n",
       "        0.        , 0.        , 0.        , 0.        , 0.        ,\n",
       "        0.        , 0.        , 0.        , 0.        , 0.        ,\n",
       "        0.97254902, 0.99215686, 0.99215686, 0.16862745, 0.07843137,\n",
       "        0.07843137, 0.07843137, 0.07843137, 0.01960784, 0.        ,\n",
       "        0.01960784, 0.07843137, 0.07843137, 0.14509804, 0.58823529,\n",
       "        0.58823529, 0.58823529, 0.57647059, 0.03921569, 0.        ,\n",
       "        0.        , 0.        , 0.        , 0.        , 0.        ,\n",
       "        0.        , 0.        , 0.        , 0.97254902, 0.99215686,\n",
       "        0.99215686, 0.99215686, 0.99215686, 0.99215686, 0.99215686,\n",
       "        0.99215686, 0.65882353, 0.56078431, 0.65098039, 0.99215686,\n",
       "        0.99215686, 0.99215686, 0.99215686, 0.99215686, 0.99215686,\n",
       "        0.99215686, 0.48235294, 0.        , 0.        , 0.        ,\n",
       "        0.        , 0.        , 0.        , 0.        , 0.        ,\n",
       "        0.        , 0.68235294, 0.99215686, 0.99215686, 0.99215686,\n",
       "        0.99215686, 0.99215686, 0.99215686, 0.99215686, 0.99215686,\n",
       "        0.99215686, 0.99215686, 0.99215686, 0.97647059, 0.96862745,\n",
       "        0.96862745, 0.6627451 , 0.45882353, 0.45882353, 0.22352941,\n",
       "        0.        , 0.        , 0.        , 0.        , 0.        ,\n",
       "        0.        , 0.        , 0.        , 0.        , 0.        ,\n",
       "        0.4627451 , 0.48235294, 0.48235294, 0.48235294, 0.65098039,\n",
       "        0.99215686, 0.99215686, 0.99215686, 0.60784314, 0.48235294,\n",
       "        0.48235294, 0.16078431, 0.        , 0.        , 0.        ,\n",
       "        0.        , 0.        , 0.        , 0.        , 0.        ,\n",
       "        0.        , 0.        , 0.        , 0.        , 0.        ,\n",
       "        0.        , 0.        , 0.        , 0.        , 0.        ,\n",
       "        0.        , 0.        , 0.        , 0.        , 0.        ,\n",
       "        0.        , 0.        , 0.        , 0.        , 0.        ,\n",
       "        0.        , 0.        , 0.        , 0.        , 0.        ,\n",
       "        0.        , 0.        , 0.        , 0.        , 0.        ,\n",
       "        0.        , 0.        , 0.        , 0.        , 0.        ,\n",
       "        0.        , 0.        , 0.        , 0.        , 0.        ,\n",
       "        0.        , 0.        , 0.        , 0.        , 0.        ,\n",
       "        0.        , 0.        , 0.        , 0.        , 0.        ,\n",
       "        0.        , 0.        , 0.        , 0.        , 0.        ,\n",
       "        0.        , 0.        , 0.        , 0.        , 0.        ,\n",
       "        0.        , 0.        , 0.        , 0.        , 0.        ,\n",
       "        0.        , 0.        , 0.        , 0.        , 0.        ,\n",
       "        0.        , 0.        , 0.        , 0.        , 0.        ,\n",
       "        0.        , 0.        , 0.        , 0.        , 0.        ,\n",
       "        0.        , 0.        , 0.        , 0.        , 0.        ,\n",
       "        0.        , 0.        , 0.        , 0.        , 0.        ,\n",
       "        0.        , 0.        , 0.        , 0.        , 0.        ,\n",
       "        0.        , 0.        , 0.        , 0.        , 0.        ,\n",
       "        0.        , 0.        , 0.        , 0.        , 0.        ,\n",
       "        0.        , 0.        , 0.        , 0.        , 0.        ,\n",
       "        0.        , 0.        , 0.        , 0.        , 0.        ,\n",
       "        0.        , 0.        , 0.        , 0.        , 0.        ,\n",
       "        0.        , 0.        , 0.        , 0.        , 0.        ,\n",
       "        0.        , 0.        , 0.        , 0.        , 0.        ,\n",
       "        0.        , 0.        , 0.        , 0.        , 0.        ,\n",
       "        0.        , 0.        , 0.        , 0.        ]])"
      ]
     },
     "execution_count": 107,
     "metadata": {},
     "output_type": "execute_result"
    }
   ],
   "source": [
    "data[[0]].reshape(-1,784)"
   ]
  },
  {
   "cell_type": "code",
   "execution_count": 158,
   "id": "dae2766e-0fe3-4f15-bc30-a9b185e0a94a",
   "metadata": {
    "tags": []
   },
   "outputs": [
    {
     "name": "stderr",
     "output_type": "stream",
     "text": [
      "C:\\Users\\user\\AppData\\Local\\Temp\\ipykernel_15272\\1109246927.py:10: RuntimeWarning: invalid value encountered in log\n",
      "  return -np.mean(y*np.log(y_hat+epsilon))\n"
     ]
    }
   ],
   "source": [
    "pred, _ = model.train(data[[0]].reshape(-1,784),np.random.randn(1,10))"
   ]
  },
  {
   "cell_type": "code",
   "execution_count": 159,
   "id": "9966888a-11df-4f7c-aad8-ed1c2f311a8f",
   "metadata": {
    "tags": []
   },
   "outputs": [],
   "source": [
    "pred  = np.argmax(pred,1)[0]"
   ]
  },
  {
   "cell_type": "code",
   "execution_count": 178,
   "id": "51086203-c5cb-4ee0-9436-f66e9cdc8d7e",
   "metadata": {
    "collapsed": true,
    "jupyter": {
     "outputs_hidden": true
    },
    "tags": []
   },
   "outputs": [
    {
     "name": "stdout",
     "output_type": "stream",
     "text": [
      "예측값은 : Bag\n"
     ]
    },
    {
     "name": "stderr",
     "output_type": "stream",
     "text": [
      "C:\\Users\\user\\AppData\\Local\\Temp\\ipykernel_15272\\1109246927.py:10: RuntimeWarning: invalid value encountered in log\n",
      "  return -np.mean(y*np.log(y_hat+epsilon))\n"
     ]
    },
    {
     "data": {
      "image/png": "[encoded data removed]",
      "text/plain": [
       "<Figure size 640x480 with 1 Axes>"
      ]
     },
     "metadata": {},
     "output_type": "display_data"
    },
    {
     "name": "stdout",
     "output_type": "stream",
     "text": [
      "예측값은 : Ankle boot\n"
     ]
    },
    {
     "data": {
      "image/png": "[encoded data removed]",
      "text/plain": [
       "<Figure size 640x480 with 1 Axes>"
      ]
     },
     "metadata": {},
     "output_type": "display_data"
    },
    {
     "name": "stdout",
     "output_type": "stream",
     "text": [
      "예측값은 : Shirt\n"
     ]
    },
    {
     "data": {
      "image/png": "[encoded data removed]",
      "text/plain": [
       "<Figure size 640x480 with 1 Axes>"
      ]
     },
     "metadata": {},
     "output_type": "display_data"
    },
    {
     "name": "stdout",
     "output_type": "stream",
     "text": [
      "예측값은 : Shirt\n"
     ]
    },
    {
     "data": {
      "image/png": "[encoded data removed]",
      "text/plain": [
       "<Figure size 640x480 with 1 Axes>"
      ]
     },
     "metadata": {},
     "output_type": "display_data"
    },
    {
     "name": "stdout",
     "output_type": "stream",
     "text": [
      "예측값은 : Shirt\n"
     ]
    },
    {
     "data": {
      "image/png": "[encoded data removed]",
      "text/plain": [
       "<Figure size 640x480 with 1 Axes>"
      ]
     },
     "metadata": {},
     "output_type": "display_data"
    },
    {
     "name": "stdout",
     "output_type": "stream",
     "text": [
      "예측값은 : Dress\n"
     ]
    },
    {
     "data": {
      "image/png": "[encoded data removed]",
      "text/plain": [
       "<Figure size 640x480 with 1 Axes>"
      ]
     },
     "metadata": {},
     "output_type": "display_data"
    },
    {
     "name": "stdout",
     "output_type": "stream",
     "text": [
      "예측값은 : Sneaker\n"
     ]
    },
    {
     "data": {
      "image/png": "[encoded data removed]",
      "text/plain": [
       "<Figure size 640x480 with 1 Axes>"
      ]
     },
     "metadata": {},
     "output_type": "display_data"
    },
    {
     "name": "stdout",
     "output_type": "stream",
     "text": [
      "예측값은 : Dress\n"
     ]
    },
    {
     "data": {
      "image/png": "[encoded data removed]",
      "text/plain": [
       "<Figure size 640x480 with 1 Axes>"
      ]
     },
     "metadata": {},
     "output_type": "display_data"
    },
    {
     "name": "stdout",
     "output_type": "stream",
     "text": [
      "예측값은 : Sneaker\n"
     ]
    },
    {
     "data": {
      "image/png": "[encoded data removed]",
      "text/plain": [
       "<Figure size 640x480 with 1 Axes>"
      ]
     },
     "metadata": {},
     "output_type": "display_data"
    },
    {
     "name": "stdout",
     "output_type": "stream",
     "text": [
      "예측값은 : Sandal\n"
     ]
    },
    {
     "data": {
      "image/png": "[encoded data removed]",
      "text/plain": [
       "<Figure size 640x480 with 1 Axes>"
      ]
     },
     "metadata": {},
     "output_type": "display_data"
    }
   ],
   "source": [
    "for i in range(len(data)):\n",
    "    pred, _ = model.train(data[[i]].reshape(-1,784),np.random.randn(1,10))\n",
    "    pred = np.argmax(pred,1)[0]\n",
    "    print(f'예측값은 : {fashion_dic[pred]}')\n",
    "    plt.imshow(data[i])\n",
    "    plt.show()"
   ]
  },
  {
   "cell_type": "code",
   "execution_count": 183,
   "id": "bbe530c2-2dff-4f14-a89f-d6cc9ceae2d1",
   "metadata": {
    "tags": []
   },
   "outputs": [],
   "source": [
    "from tensorflow.keras.datasets import fashion_mnist\n",
    "from tensorflow.keras.models import Sequential, load_model, save_model\n",
    "from tensorflow.keras.layers import Dense, Flatten\n",
    "from tensorflow.keras.utils import to_categorical"
   ]
  },
  {
   "cell_type": "code",
   "execution_count": 182,
   "id": "cadbda29-19b5-400d-87ea-9cd9c3dd61a4",
   "metadata": {
    "tags": []
   },
   "outputs": [],
   "source": [
    "(X_train, y_train), (X_test, y_test) = fashion_mnist.load_data()\n",
    "y_train = to_categorical(y_train)\n",
    "y_test = to_categorical(y_test)"
   ]
  },
  {
   "cell_type": "code",
   "execution_count": 189,
   "id": "ea370d75-206f-481a-95bf-b4e314085670",
   "metadata": {
    "tags": []
   },
   "outputs": [],
   "source": [
    "input_shape = X_train.shape[1:]\n",
    "output_shape = y_train.shape[1]"
   ]
  },
  {
   "cell_type": "code",
   "execution_count": 197,
   "id": "71a6b931-f57c-4352-8df6-259f6d1317e4",
   "metadata": {
    "tags": []
   },
   "outputs": [],
   "source": [
    "model = Sequential(\n",
    "[\n",
    "    Flatten(input_shape=input_shape),\n",
    "    Dense(256,activation='relu'),\n",
    "    Dense(128,activation='relu'),\n",
    "    Dense(output_shape,activation='softmax')\n",
    "])"
   ]
  },
  {
   "cell_type": "code",
   "execution_count": 198,
   "id": "a81362a7-b280-498c-8d87-d77896f485c8",
   "metadata": {
    "tags": []
   },
   "outputs": [],
   "source": [
    "optimizer ='rmsprop'\n",
    "loss = 'categorical_crossentropy'\n",
    "metrics = 'accuracy'\n",
    "model.compile(optimizer=optimizer,loss='categorical_crossentropy',metrics=metrics)"
   ]
  },
  {
   "cell_type": "code",
   "execution_count": 199,
   "id": "1cb8c19e-39ab-4928-9045-1d87e91cff59",
   "metadata": {
    "tags": []
   },
   "outputs": [
    {
     "name": "stdout",
     "output_type": "stream",
     "text": [
      "Epoch 1/10\n",
      "938/938 [==============================] - 3s 3ms/step - loss: 4.2975 - accuracy: 0.7048 - val_loss: 0.7425 - val_accuracy: 0.7566\n",
      "Epoch 2/10\n",
      "938/938 [==============================] - 2s 2ms/step - loss: 0.6697 - accuracy: 0.7947 - val_loss: 0.6419 - val_accuracy: 0.7965\n",
      "Epoch 3/10\n",
      "938/938 [==============================] - 2s 2ms/step - loss: 0.5929 - accuracy: 0.8176 - val_loss: 0.5610 - val_accuracy: 0.8241\n",
      "Epoch 4/10\n",
      "938/938 [==============================] - 2s 2ms/step - loss: 0.5782 - accuracy: 0.8273 - val_loss: 0.6334 - val_accuracy: 0.8069\n",
      "Epoch 5/10\n",
      "938/938 [==============================] - 2s 2ms/step - loss: 0.5527 - accuracy: 0.8332 - val_loss: 1.4150 - val_accuracy: 0.7842\n",
      "Epoch 6/10\n",
      "938/938 [==============================] - 2s 2ms/step - loss: 0.5788 - accuracy: 0.8334 - val_loss: 0.6290 - val_accuracy: 0.8387\n",
      "Epoch 7/10\n",
      "938/938 [==============================] - 2s 2ms/step - loss: 0.5622 - accuracy: 0.8359 - val_loss: 0.6200 - val_accuracy: 0.8405\n",
      "Epoch 8/10\n",
      "938/938 [==============================] - 2s 2ms/step - loss: 0.5920 - accuracy: 0.8345 - val_loss: 0.5473 - val_accuracy: 0.8414\n",
      "Epoch 9/10\n",
      "938/938 [==============================] - 2s 2ms/step - loss: 0.5613 - accuracy: 0.8336 - val_loss: 0.7365 - val_accuracy: 0.7581\n",
      "Epoch 10/10\n",
      "938/938 [==============================] - 2s 2ms/step - loss: 0.6201 - accuracy: 0.8329 - val_loss: 0.7416 - val_accuracy: 0.8146\n"
     ]
    },
    {
     "data": {
      "text/plain": [
       "<keras.src.callbacks.History at 0x1b23d2ef790>"
      ]
     },
     "execution_count": 199,
     "metadata": {},
     "output_type": "execute_result"
    }
   ],
   "source": [
    "model.fit(X_train,y_train,epochs=10,batch_size=64,validation_data=(X_test,y_test))"
   ]
  },
  {
   "cell_type": "code",
   "execution_count": 25,
   "id": "091da8a3-9253-4c9c-8b85-1c3a997a4c72",
   "metadata": {
    "tags": []
   },
   "outputs": [],
   "source": [
    "model = Net(10)"
   ]
  },
  {
   "cell_type": "code",
   "execution_count": 26,
   "id": "1e14bb3b-f7d9-4575-a3bc-fc464d3ee2d5",
   "metadata": {
    "tags": []
   },
   "outputs": [],
   "source": [
    "model.add(100,activation='relu')"
   ]
  },
  {
   "cell_type": "code",
   "execution_count": 27,
   "id": "97ad02fc-eff9-40c4-be18-444165395959",
   "metadata": {
    "tags": []
   },
   "outputs": [
    {
     "name": "stdout",
     "output_type": "stream",
     "text": [
      "----------------------------------------------\n",
      "                Output Shape           Param #\n",
      "==============================================\n",
      "Affine_1        (None, 100)              1100\n",
      "==============================================\n",
      "total params: 1100\n"
     ]
    }
   ],
   "source": [
    "model.summary()"
   ]
  },
  {
   "cell_type": "code",
   "execution_count": 28,
   "id": "06c8c94f-125e-499b-9224-d38a03002500",
   "metadata": {
    "collapsed": true,
    "jupyter": {
     "outputs_hidden": true
    },
    "tags": []
   },
   "outputs": [
    {
     "data": {
      "text/plain": [
       "[[array([[-8.01803285e-01, -6.47549271e-01, -1.37228797e+00,\n",
       "          -6.15383763e-01, -1.94215971e-01, -7.09492352e-01,\n",
       "           2.28374262e-01, -8.94057742e-01,  1.21892466e+00,\n",
       "           2.03066241e+00,  1.78462146e+00,  1.34995122e+00,\n",
       "           1.40222851e+00, -7.12382989e-01,  1.81752628e+00,\n",
       "           8.52310553e-01, -7.69305608e-01, -6.51079092e-01,\n",
       "           6.59665514e-01,  4.05752496e-01, -4.98604992e-01,\n",
       "          -8.67330492e-01,  1.48249407e-01, -1.89101324e+00,\n",
       "          -6.37963109e-01,  7.42250668e-02, -7.70243437e-01,\n",
       "           2.60820991e-01,  1.03368894e+00,  7.02227250e-03,\n",
       "           1.27948359e+00, -5.44494759e-01, -2.19465272e+00,\n",
       "           6.51305192e-01,  3.69984249e-01, -1.78175232e+00,\n",
       "          -1.32140574e+00,  9.52343588e-01, -5.13503136e-01,\n",
       "           1.20121162e-01, -1.15103251e+00,  2.35351873e-01,\n",
       "           1.27575354e+00,  2.00568664e+00, -7.73844583e-01,\n",
       "           8.65879382e-02,  1.07114421e-01, -8.47464244e-01,\n",
       "           6.92017461e-01, -9.82770159e-01, -3.66077079e-01,\n",
       "          -7.20938648e-02, -8.25380035e-02, -7.82680846e-01,\n",
       "          -3.63725690e-01, -7.96273038e-02,  1.04471571e+00,\n",
       "           3.98356629e-01, -9.84053959e-01,  1.60760268e+00,\n",
       "           3.72169671e-01,  3.25817120e-01,  1.29008661e+00,\n",
       "          -6.07157561e-01, -2.87113897e-03,  7.45371511e-01,\n",
       "          -4.64915957e-01, -1.44183470e+00,  1.38190976e+00,\n",
       "           6.30983769e-01,  6.91685055e-01, -6.16771589e-01,\n",
       "          -3.86866213e-01,  1.11350574e+00,  4.45826328e-02,\n",
       "           1.65256475e+00,  6.87617950e-01, -7.34166769e-01,\n",
       "          -2.18759119e-01,  6.50866810e-02,  1.40649173e+00,\n",
       "          -2.30399532e-01, -1.86473240e+00,  9.58739385e-02,\n",
       "           8.52273485e-01,  2.70119259e-01, -1.04155782e+00,\n",
       "           4.06087705e-01,  7.95083466e-01,  2.13550236e+00,\n",
       "           6.54357765e-01,  1.28421590e+00,  6.17685149e-01,\n",
       "           7.80210300e-02,  5.03006826e-01,  1.89626804e-02,\n",
       "           1.35164467e+00,  2.33884432e+00, -6.47078798e-01,\n",
       "           1.50603638e+00],\n",
       "         [ 1.76461739e+00,  1.42579437e+00,  8.05747174e-01,\n",
       "           8.46525257e-01,  1.91336231e+00, -2.24589180e+00,\n",
       "          -8.43002575e-01, -3.28517706e-01, -1.49472843e+00,\n",
       "          -1.64280563e+00, -4.17857691e-01, -1.60759067e+00,\n",
       "          -1.28044897e+00,  1.24680691e+00,  1.28648328e+00,\n",
       "          -1.05709601e+00,  6.93654781e-01,  1.64374027e+00,\n",
       "           4.64613339e-01, -7.19676423e-02, -9.70360869e-01,\n",
       "           5.67528294e-01, -8.26897657e-01, -5.84222838e-01,\n",
       "          -1.71443756e+00, -7.05885471e-01, -8.39029298e-01,\n",
       "          -8.83480726e-02,  5.26284061e-02, -1.01558574e+00,\n",
       "           7.57566200e-01, -1.10899485e+00, -6.03723283e-01,\n",
       "          -6.73080841e-01,  1.51991266e-01, -9.64162157e-01,\n",
       "          -1.23080493e+00,  2.88872751e-01, -1.16901169e+00,\n",
       "          -2.45638753e-01,  4.29991321e-01,  1.56223500e+00,\n",
       "          -3.15689526e-01, -3.51597251e-01,  4.10608299e-01,\n",
       "          -2.19487135e-01, -1.45658782e+00, -7.51246058e-01,\n",
       "           2.32165518e-01,  8.60548740e-01, -1.21220055e+00,\n",
       "          -3.63158133e-01,  3.00799725e-01,  6.40805620e-01,\n",
       "          -3.44976078e-01, -3.89445013e-01,  5.37608269e-01,\n",
       "          -6.43529890e-02, -2.29643470e-01,  1.03074908e+00,\n",
       "           1.24757427e+00, -7.71584258e-01, -1.44641388e-01,\n",
       "           3.43567884e-01,  2.75974708e-01, -1.06963976e+00,\n",
       "          -5.47929392e-01, -3.06759504e-01, -4.37821487e-01,\n",
       "          -4.55733626e-01,  1.74057485e-01, -1.04101339e+00,\n",
       "           9.97345977e-02,  8.12152157e-01, -8.18148406e-01,\n",
       "          -6.06447858e-01, -6.98056029e-01, -1.00233757e+00,\n",
       "           7.78801662e-01,  7.65230925e-01,  1.06094159e+00,\n",
       "           4.11960077e-01,  1.00029082e+00,  4.50308897e-02,\n",
       "          -7.52545844e-01, -7.73786387e-01,  1.52880926e+00,\n",
       "          -9.06802807e-01,  1.39982077e+00,  1.54059353e+00,\n",
       "           3.77252710e-01, -8.77385953e-01,  1.82659250e-01,\n",
       "           5.05945746e-01, -1.02100267e+00,  4.85068423e-01,\n",
       "          -6.36847045e-01,  6.65914407e-01,  1.05578631e+00,\n",
       "          -3.60169347e-01],\n",
       "         [ 8.53602882e-01, -2.42682117e+00,  1.73582524e+00,\n",
       "          -1.06691464e-02,  1.36794763e+00,  6.25179806e-01,\n",
       "           7.50960433e-01,  9.55540261e-01,  1.90649016e+00,\n",
       "           4.08449039e-01,  1.07595200e+00,  8.69378121e-01,\n",
       "          -1.06896303e+00,  1.73184565e+00, -1.62338239e-01,\n",
       "          -1.82217636e+00,  1.08348746e+00, -2.99854474e-01,\n",
       "           7.56927588e-02, -9.86163092e-01, -3.36742378e-02,\n",
       "          -7.78293719e-01, -3.27218274e-01, -6.74634320e-01,\n",
       "           1.38633521e+00, -1.39396808e+00,  1.01222346e+00,\n",
       "           3.09663497e-01, -1.00974824e+00, -3.91245187e-01,\n",
       "          -1.41850326e+00,  7.10700831e-01,  2.94514226e-02,\n",
       "          -4.35653527e-02, -1.12185423e-01, -9.29121364e-02,\n",
       "          -4.95361524e-01,  2.14685131e-01,  3.93923155e-01,\n",
       "          -8.72231094e-01, -1.01975277e+00,  5.56407955e-01,\n",
       "           1.23404101e-01, -4.00132732e-01,  7.35034250e-01,\n",
       "           1.07173292e+00,  6.13474235e-01,  1.60158745e+00,\n",
       "           1.44397366e+00,  1.68419793e+00,  3.60213809e-01,\n",
       "           1.62470123e+00, -5.47491180e-01, -5.86363427e-01,\n",
       "          -1.67344819e-01,  8.67722251e-01, -2.90428104e-01,\n",
       "           3.29304064e-01, -1.33706653e+00, -1.37532809e+00,\n",
       "          -1.02522244e+00, -3.95299995e-01,  7.58544387e-01,\n",
       "          -1.33847471e+00, -5.15297751e-02,  1.42755349e+00,\n",
       "           3.63363774e-02, -1.27489531e+00, -7.01142527e-01,\n",
       "           1.23583345e-01, -3.91632029e-01,  8.76542661e-01,\n",
       "           1.49367879e+00, -8.64960420e-01,  7.83371251e-01,\n",
       "           5.46401744e-01, -9.08865584e-01, -1.36101166e+00,\n",
       "          -1.30075792e+00,  2.01711830e+00, -4.83453818e-01,\n",
       "           1.19560831e+00, -3.27753875e-01, -7.12051683e-01,\n",
       "          -1.02012881e+00,  4.89176212e-01, -6.51644930e-02,\n",
       "          -8.84508496e-01, -1.88210645e+00,  4.61285304e-01,\n",
       "           2.29263129e-01,  2.10831124e-01,  2.55604816e-01,\n",
       "          -7.97425745e-01,  7.50511771e-02,  3.57805407e-01,\n",
       "          -4.00395579e-01, -1.09994260e+00,  6.02642634e-02,\n",
       "           3.32844864e-01],\n",
       "         [-6.64903585e-02, -1.68658395e+00,  1.24145816e+00,\n",
       "           1.68422859e+00, -1.54346507e-01, -8.19439353e-01,\n",
       "          -3.31070592e-01,  1.53587849e-01,  5.12089837e-01,\n",
       "          -9.33687582e-01,  6.50542378e-01,  1.19383462e+00,\n",
       "           4.95194773e-01, -1.53120965e+00,  6.62100181e-01,\n",
       "           1.21335253e-01, -1.60466115e+00, -1.35922150e+00,\n",
       "          -5.38412664e-01, -9.64379152e-02,  7.95978758e-01,\n",
       "           3.61349804e-02,  1.90944718e+00, -6.26337315e-01,\n",
       "          -1.03849401e+00, -4.96275404e-01,  1.30612545e+00,\n",
       "          -6.78689975e-01, -2.64174513e+00, -7.41326362e-01,\n",
       "          -5.45487600e-01, -6.63219727e-01, -1.32357375e+00,\n",
       "           5.02088365e-01, -4.95815745e-01,  2.11802898e+00,\n",
       "          -9.62925602e-01, -9.73118362e-01, -9.37772991e-01,\n",
       "          -7.13375167e-01, -1.87525651e-01,  1.49921871e+00,\n",
       "          -1.47522964e-01,  7.97076663e-01,  7.33964925e-01,\n",
       "          -5.73912282e-02,  7.44957804e-01, -1.07634699e+00,\n",
       "          -8.66492522e-01, -4.58331055e-01,  5.70611001e-04,\n",
       "           9.31578763e-01,  1.21085068e+00, -7.29367246e-01,\n",
       "          -5.25269669e-02, -4.66696120e-01,  1.73457511e+00,\n",
       "          -1.19153574e+00, -1.00005950e+00,  6.41697269e-01,\n",
       "           4.83611681e-01,  1.22043084e-01, -2.71427530e-01,\n",
       "           5.16771353e-01,  6.52072563e-01,  1.14520714e+00,\n",
       "          -4.28962997e-01, -3.05308396e-02, -3.45789535e-01,\n",
       "           4.11056712e-01,  3.46441921e-01, -6.28261519e-01,\n",
       "           6.98998511e-01,  1.73819353e-01, -3.02209428e-01,\n",
       "          -1.02393363e-01,  6.96270322e-02,  6.45015988e-01,\n",
       "          -1.28719707e+00, -5.73608811e-01, -7.35608651e-01,\n",
       "           3.25622329e-01, -1.54674181e+00, -1.54834948e+00,\n",
       "           4.91760504e-01, -8.35807833e-01,  1.62984299e+00,\n",
       "           1.14846223e+00,  5.34643659e-01,  9.19812858e-01,\n",
       "           2.18441335e-01, -7.08862975e-01,  2.54801015e-01,\n",
       "          -1.61616382e+00,  4.24830341e-01, -2.98596999e-01,\n",
       "           1.71152164e+00,  1.27027668e+00, -7.21590855e-01,\n",
       "          -3.03491220e-01],\n",
       "         [-3.86720968e-01, -2.93808174e-02, -5.93783298e-01,\n",
       "          -4.93261133e-01,  7.85569361e-01,  1.00452915e+00,\n",
       "          -5.61328174e-01,  1.34945596e+00, -1.65592877e+00,\n",
       "          -1.01027065e+00,  6.85490235e-01,  5.73488649e-01,\n",
       "           7.54314396e-01, -3.79821428e-01, -5.84980757e-01,\n",
       "          -1.04653983e+00, -1.17212284e+00, -1.81221620e+00,\n",
       "           1.19586728e+00,  1.49132046e+00, -5.04276710e-02,\n",
       "          -1.16030344e+00, -2.87622883e-01,  7.30117312e-01,\n",
       "           8.41866205e-01, -5.36319086e-01, -2.88369415e-01,\n",
       "           1.22723131e-02, -5.17629277e-01, -8.50552131e-01,\n",
       "          -3.10605194e-01, -1.47671750e-01, -1.23312426e+00,\n",
       "          -1.66938746e+00, -1.39762550e+00,  2.08530644e-01,\n",
       "           8.41136959e-01, -5.33728275e-01, -7.30928262e-01,\n",
       "           2.00073792e-01, -7.43243559e-01,  6.73843751e-01,\n",
       "           2.23929891e-01,  1.32847097e+00, -1.96923614e+00,\n",
       "           4.32817832e-01, -7.12113232e-01, -8.75260340e-01,\n",
       "          -5.64961203e-02, -1.83293758e-01, -1.60695948e+00,\n",
       "           1.44608037e+00, -5.11911620e-01, -4.48086081e-01,\n",
       "           6.28640721e-01,  2.72166498e-01,  2.72690558e-02,\n",
       "           6.06323809e-01, -7.96443314e-02, -1.71775661e-01,\n",
       "          -8.15541479e-01,  1.32508534e+00,  1.02647192e+00,\n",
       "          -1.42396680e+00, -5.28577221e-01, -4.40773460e-01,\n",
       "           1.60023343e+00, -1.41652152e+00, -1.86199790e-02,\n",
       "           2.21286778e+00,  4.15553000e-01,  1.88539924e+00,\n",
       "          -2.10312830e+00, -3.98037203e-01, -9.78121054e-01,\n",
       "           1.31094716e+00, -9.51886178e-02,  5.70849055e-01,\n",
       "          -6.41012451e-01, -1.78910360e+00, -6.67936948e-01,\n",
       "           1.75736280e-01, -4.72997392e-01,  9.58459720e-02,\n",
       "           1.60596388e+00,  2.17748143e+00, -3.42218539e-01,\n",
       "          -8.26370792e-01,  2.69389106e-01,  1.28303561e-01,\n",
       "          -1.92899336e+00, -7.59928468e-01, -1.12866400e+00,\n",
       "           8.80981424e-01, -8.47209532e-01,  3.01521641e-01,\n",
       "           1.42504147e+00, -8.46588001e-01, -9.51078066e-01,\n",
       "          -9.09648984e-01],\n",
       "         [-6.46199079e-01, -1.94048990e-02, -1.06481542e-01,\n",
       "          -6.75779591e-01,  8.05520862e-01,  3.43913377e-01,\n",
       "          -1.40105768e-01, -2.56847990e-01,  7.88634980e-01,\n",
       "          -7.33384916e-01, -1.22109243e-01,  7.10376728e-02,\n",
       "          -1.27977145e-01,  1.41478538e+00,  5.76161368e-02,\n",
       "           3.57978637e-01, -1.58220254e+00,  4.74382048e-01,\n",
       "          -3.48394969e-02,  4.89375709e-01,  1.28369622e-01,\n",
       "          -9.37115691e-01, -3.47307606e-01,  1.77732147e-01,\n",
       "          -7.53314997e-02, -1.97507679e+00,  9.91732227e-01,\n",
       "           8.17860197e-01,  7.98955384e-01,  2.13353652e+00,\n",
       "           1.41342225e+00,  4.19521284e-02, -7.77907812e-01,\n",
       "          -2.54843180e+00, -9.74662389e-03,  1.30240501e+00,\n",
       "           1.88141182e-01, -1.86110186e+00,  3.59197818e-01,\n",
       "          -7.16514850e-01, -4.23126379e-01,  7.84209659e-01,\n",
       "           1.07163749e+00, -1.27850570e+00, -1.60600282e-01,\n",
       "           7.84444841e-01,  1.63111776e-01, -2.74306744e-01,\n",
       "          -5.66457879e-01,  3.53236913e-01,  9.89071007e-01,\n",
       "           4.92345154e-01, -1.84556716e-01,  1.71119898e+00,\n",
       "           7.20353146e-01, -1.13455691e+00,  7.37170537e-01,\n",
       "          -1.75892299e-01,  6.67350806e-01, -2.02048351e-01,\n",
       "          -1.20231719e+00, -2.73325636e+00,  5.45325876e-01,\n",
       "           2.08509700e+00,  1.51541387e+00,  1.55403646e+00,\n",
       "           3.16682687e-01,  2.16383384e-01, -4.82444345e-01,\n",
       "          -8.16904966e-02, -2.15679466e+00,  8.60637178e-01,\n",
       "           2.01119772e-01, -6.56792875e-01,  2.05945772e+00,\n",
       "           3.98296599e-01, -1.15091606e+00,  1.03277027e+00,\n",
       "           2.38363897e-01,  2.04100085e+00,  8.77760053e-02,\n",
       "           5.88111878e-01, -6.58095715e-01, -4.75533656e-01,\n",
       "          -4.37256365e-02, -1.01460875e+00, -5.10351513e-01,\n",
       "          -6.33807512e-01,  3.05517331e-01,  5.53211435e-01,\n",
       "           4.56399595e-01, -4.29205387e-01, -5.91134506e-01,\n",
       "          -1.34096834e+00, -9.13538356e-01,  1.21084164e+00,\n",
       "          -1.63064313e-01, -3.43885550e-01, -1.24602726e-01,\n",
       "           7.85273961e-01],\n",
       "         [ 1.36305771e+00,  1.94500162e+00,  1.62621193e+00,\n",
       "           1.56052121e+00, -3.89647095e-01,  3.35608238e-02,\n",
       "           1.56847126e-01,  7.73732400e-01,  7.25148092e-01,\n",
       "          -4.83459044e-01, -2.63014991e-01, -1.04415560e+00,\n",
       "          -1.36370108e+00, -6.28859034e-01, -1.40819720e+00,\n",
       "           1.34230958e+00,  3.85397027e-01, -1.26768673e-01,\n",
       "           3.25388972e-01, -1.11731263e-02,  6.83185125e-01,\n",
       "           5.05919927e-01, -1.76377307e+00, -5.51238883e-01,\n",
       "           2.71403520e-01,  1.16496861e+00,  2.78136487e-01,\n",
       "           8.55204941e-01, -1.38460080e+00, -8.24330934e-01,\n",
       "          -1.85143362e-01,  2.69699521e+00,  5.34965874e-01,\n",
       "          -1.06627768e+00,  1.64532136e+00, -2.98522435e-01,\n",
       "          -9.65679443e-01,  1.46206866e+00, -6.83593646e-01,\n",
       "           1.37246272e+00,  3.66485255e-01,  5.32419652e-01,\n",
       "          -1.26324531e+00, -6.88827342e-01,  1.02884225e+00,\n",
       "          -4.62027667e-01, -1.63778853e+00, -1.37329691e-02,\n",
       "          -7.24570423e-01, -7.76502218e-01, -6.14485256e-01,\n",
       "           9.50410309e-01, -6.29589843e-01,  9.41434231e-01,\n",
       "          -4.57929460e-01,  8.92774975e-01,  9.71323653e-01,\n",
       "          -1.12241338e+00,  3.18964842e-01, -2.81740003e+00,\n",
       "           1.32044265e+00, -8.56156430e-01,  2.01371264e-01,\n",
       "          -7.75261280e-01, -1.21830963e+00,  7.89869820e-02,\n",
       "          -1.27920832e+00,  9.12239101e-01,  8.94938664e-01,\n",
       "           4.62895331e-01,  3.48280955e-01,  2.23121111e+00,\n",
       "           1.97719525e-01, -7.47116816e-01,  9.34638453e-01,\n",
       "           4.08756802e-01,  3.69690729e-01, -9.16355968e-01,\n",
       "           2.86227738e-01,  1.40895431e+00,  1.61190695e+00,\n",
       "          -5.72221474e-02, -6.58086506e-01, -1.47023474e+00,\n",
       "          -8.68577362e-01,  2.48900906e-01,  6.89645657e-01,\n",
       "           1.02121619e+00, -2.49525692e-01,  7.43642855e-01,\n",
       "           7.45093875e-01,  3.39129232e-01, -2.34356898e+00,\n",
       "          -1.63225545e+00,  2.00385617e-01, -5.74001090e-01,\n",
       "           1.16087515e+00, -3.43366740e-01, -4.11252913e-01,\n",
       "          -4.01578585e-01],\n",
       "         [-8.63973591e-01, -8.41859003e-01, -8.43522840e-01,\n",
       "          -7.13316925e-01, -4.74402643e-01, -1.10454382e-01,\n",
       "           4.90577537e-01, -1.09358165e+00,  1.61209172e+00,\n",
       "          -3.10043706e-01,  8.51991425e-01, -6.11785342e-01,\n",
       "          -1.65167481e-01,  1.71847728e-01,  1.00496418e+00,\n",
       "           3.58362023e-01, -4.70126453e-01, -3.46998101e-01,\n",
       "           5.34121872e-01,  5.03830262e-01,  6.07867086e-01,\n",
       "          -3.10077030e-01, -4.65512419e-01, -1.11083527e+00,\n",
       "           6.11043635e-01,  2.93501427e-01, -7.03814479e-01,\n",
       "           1.64922521e+00, -4.56611537e-01, -1.99186908e+00,\n",
       "           6.19326221e-01, -1.49050128e+00,  8.19195741e-01,\n",
       "           1.07678363e+00,  2.63676241e+00,  1.22280354e+00,\n",
       "          -7.63997747e-01,  1.46120779e+00,  4.50592126e-02,\n",
       "           6.40822563e-01, -5.75051405e-01, -7.89204272e-01,\n",
       "          -4.49992929e-01,  5.34692763e-01, -9.19991209e-01,\n",
       "           6.28109592e-01, -1.59863891e+00, -8.87481508e-01,\n",
       "          -6.48429672e-02, -1.89250108e+00,  1.05406532e+00,\n",
       "          -1.77720557e+00, -2.59864456e+00, -8.24830223e-02,\n",
       "          -1.66597373e-01,  3.70100425e-01, -3.37652642e-01,\n",
       "          -8.15452160e-01, -9.43523645e-02,  3.69709529e-01,\n",
       "           2.20798526e+00, -6.40732123e-01,  2.82985527e+00,\n",
       "           2.31194615e-01, -1.66906382e-01,  4.97245249e-01,\n",
       "          -9.06017583e-01, -9.69153313e-01, -4.44812048e-01,\n",
       "           2.73710130e-01, -1.90190768e-01, -2.09577373e+00,\n",
       "          -2.82480200e+00, -1.51771255e-01, -3.72862754e-01,\n",
       "          -3.97060972e-01, -2.01037745e-01, -5.73318326e-01,\n",
       "          -8.70212407e-01, -1.23331027e+00,  2.56303458e-01,\n",
       "          -1.78026052e-01,  5.60879099e-01, -7.50285807e-01,\n",
       "          -2.31103146e-01, -1.36605592e-02,  1.72546850e+00,\n",
       "           1.66593446e-01, -2.96845955e+00, -9.96771059e-01,\n",
       "           5.61643982e-01, -6.05714063e-02,  3.34089109e-01,\n",
       "           6.77950331e-02, -1.39523430e+00, -6.83202145e-01,\n",
       "           3.28928624e-01,  7.67142996e-01,  2.52215964e+00,\n",
       "           6.73159226e-01],\n",
       "         [ 6.92205085e-01,  1.58406403e+00,  1.87988394e+00,\n",
       "          -1.44228210e+00,  1.54743628e+00,  6.72548041e-01,\n",
       "          -1.42434872e+00, -1.29723878e+00,  1.19147687e+00,\n",
       "           4.68070326e-01,  2.74035037e-01, -1.22229955e+00,\n",
       "           9.75687024e-01, -2.72320294e+00, -1.46882079e-01,\n",
       "           1.44923969e+00,  9.62200602e-01, -1.20992891e+00,\n",
       "          -6.38506721e-01, -7.71236111e-02,  2.30640190e-01,\n",
       "           7.47021715e-01, -2.05622897e+00,  9.73299230e-01,\n",
       "          -8.76210621e-01,  2.41906132e+00,  4.40774654e-02,\n",
       "          -1.13923016e+00,  8.54140148e-01, -1.77196088e+00,\n",
       "          -1.99423098e+00, -1.51266810e+00, -3.48812433e-01,\n",
       "           1.14624753e+00,  2.02728002e-01, -3.13040004e-01,\n",
       "          -2.29830656e-01, -9.12471410e-01,  1.27625908e+00,\n",
       "          -1.82596600e-01, -1.35179417e+00, -2.59644274e-01,\n",
       "           1.39019757e+00,  6.60416627e-01, -5.22369804e-01,\n",
       "          -3.90183807e-01, -1.42850402e-01, -2.05197231e-01,\n",
       "           5.95618995e-01,  2.26041448e-01,  1.46990087e+00,\n",
       "          -5.47654919e-01,  1.14755104e+00,  4.77253618e-01,\n",
       "           1.07952116e+00, -1.49755130e+00, -1.48062424e+00,\n",
       "           8.13782902e-02,  6.83806517e-01,  1.44469898e+00,\n",
       "           1.74083813e+00, -8.28406238e-01, -1.17441060e+00,\n",
       "           1.12838015e-01, -1.92833915e-01, -7.11131449e-01,\n",
       "           7.56117344e-01,  6.93435457e-01, -8.74360437e-02,\n",
       "          -1.07387824e+00,  3.77655388e-01, -1.34954733e+00,\n",
       "          -8.90050300e-01,  1.30506947e+00,  4.00359231e-01,\n",
       "          -3.16688048e-01,  3.94389726e-01,  9.10048937e-01,\n",
       "          -1.21690371e+00, -6.82704457e-01,  5.27156727e-01,\n",
       "           3.82285595e-01, -8.65770465e-01,  1.70286867e+00,\n",
       "           1.50321911e+00, -1.04215941e-01,  2.60249087e-01,\n",
       "           3.00183948e-01,  1.55533883e-01,  4.56899676e-01,\n",
       "          -2.00901494e-01, -9.48362738e-01, -2.79542677e-01,\n",
       "           1.84802213e-01,  5.01526260e-01, -1.61631004e+00,\n",
       "           3.85305768e-02, -2.19900320e+00,  1.97149105e+00,\n",
       "          -6.83363962e-01],\n",
       "         [-4.43077604e-01, -7.32881098e-01,  8.06541669e-01,\n",
       "           1.25738552e+00, -1.87152298e+00, -7.53851464e-02,\n",
       "          -1.00147288e+00,  6.42580451e-02, -1.41468858e+00,\n",
       "           6.93337686e-01,  1.61460810e-01,  8.94317331e-01,\n",
       "           1.16246659e+00,  1.05733271e+00,  4.51229047e-01,\n",
       "           7.06185204e-01, -1.69379873e-01, -2.11854208e-01,\n",
       "          -1.33686536e+00, -3.68616958e-01,  9.97719978e-01,\n",
       "           1.79856803e-01, -1.52257681e+00,  1.00554809e+00,\n",
       "          -1.46731413e+00,  2.42906297e-01, -4.08338388e-01,\n",
       "          -4.76259418e-01,  2.04046651e-02,  2.76761007e-01,\n",
       "           6.24057915e-01, -2.11867322e+00, -7.75963907e-01,\n",
       "          -9.20796600e-01,  5.45490995e-01, -5.33063409e-01,\n",
       "           6.08391778e-01,  1.69966238e+00,  1.02988440e+00,\n",
       "          -7.19791240e-01,  1.50211673e+00, -6.98014658e-01,\n",
       "          -8.27095740e-01,  8.36058167e-01,  1.63140632e+00,\n",
       "          -3.81683465e-01,  1.15378832e+00,  5.74354845e-01,\n",
       "           3.58501134e-01,  1.34014193e+00, -4.05598082e-01,\n",
       "           1.45272908e-01, -5.94406300e-01,  2.66808830e-01,\n",
       "          -8.11386906e-01, -6.01294275e-01,  1.79323895e-01,\n",
       "           3.31913142e-01,  3.13726107e-01,  1.02803082e+00,\n",
       "           5.01831478e-01, -1.29757069e+00, -1.91071741e+00,\n",
       "           5.24096651e-01,  2.71972655e-01, -8.33815855e-01,\n",
       "          -1.38166033e+00,  1.00532923e+00,  3.39714589e-01,\n",
       "          -6.30158248e-01,  1.84028083e-01, -6.83978483e-01,\n",
       "           9.44127093e-03,  1.68403683e-01,  6.14952476e-01,\n",
       "          -8.88439743e-01,  1.16673455e+00,  8.16043335e-01,\n",
       "          -4.11766410e-01,  9.35831756e-01,  9.21186221e-01,\n",
       "          -8.47387098e-01,  1.80858865e+00, -1.13079242e+00,\n",
       "           1.35921704e+00, -1.38638722e+00,  4.10521668e-01,\n",
       "          -1.16350702e+00, -9.91519708e-01,  8.16050056e-01,\n",
       "          -7.66776158e-01,  8.41960206e-01,  1.35292300e+00,\n",
       "           8.18144224e-01,  4.24798849e-01,  7.25704303e-01,\n",
       "           4.65642490e-01,  6.91510308e-01, -6.07027833e-01,\n",
       "          -1.92505741e+00]]),\n",
       "  array([0., 0., 0., 0., 0., 0., 0., 0., 0., 0., 0., 0., 0., 0., 0., 0., 0.,\n",
       "         0., 0., 0., 0., 0., 0., 0., 0., 0., 0., 0., 0., 0., 0., 0., 0., 0.,\n",
       "         0., 0., 0., 0., 0., 0., 0., 0., 0., 0., 0., 0., 0., 0., 0., 0., 0.,\n",
       "         0., 0., 0., 0., 0., 0., 0., 0., 0., 0., 0., 0., 0., 0., 0., 0., 0.,\n",
       "         0., 0., 0., 0., 0., 0., 0., 0., 0., 0., 0., 0., 0., 0., 0., 0., 0.,\n",
       "         0., 0., 0., 0., 0., 0., 0., 0., 0., 0., 0., 0., 0., 0., 0.]),\n",
       "  __main__.ReLU]]"
      ]
     },
     "execution_count": 28,
     "metadata": {},
     "output_type": "execute_result"
    }
   ],
   "source": [
    "model.layers"
   ]
  },
  {
   "cell_type": "code",
   "execution_count": 29,
   "id": "89352b16-49a3-4638-86f6-b0a46d2a075d",
   "metadata": {
    "tags": []
   },
   "outputs": [],
   "source": [
    "model.add(100,activation='sigmoid')"
   ]
  },
  {
   "cell_type": "code",
   "execution_count": 30,
   "id": "21bd76f9-eec5-450d-b525-292092558c43",
   "metadata": {
    "tags": []
   },
   "outputs": [
    {
     "data": {
      "text/plain": [
       "'Building Success'"
      ]
     },
     "execution_count": 30,
     "metadata": {},
     "output_type": "execute_result"
    }
   ],
   "source": [
    "model._build()"
   ]
  },
  {
   "cell_type": "code",
   "execution_count": 31,
   "id": "1df85f9f-d208-4fae-a824-9d3b767a7bfb",
   "metadata": {
    "tags": []
   },
   "outputs": [],
   "source": [
    "pred = model.predict(np.random.randn(7,10))"
   ]
  },
  {
   "cell_type": "code",
   "execution_count": 32,
   "id": "118de6a7-9305-4f56-94d8-4798d01659fc",
   "metadata": {
    "collapsed": true,
    "jupyter": {
     "outputs_hidden": true
    },
    "tags": []
   },
   "outputs": [
    {
     "data": {
      "text/plain": [
       "array([[1.95004415e-08, 1.00000000e+00, 1.07071438e-01, 9.99567258e-01,\n",
       "        7.44439173e-06, 3.24454878e-10, 9.99999800e-01, 9.85667506e-01,\n",
       "        3.58143424e-05, 9.99980395e-01, 5.45376681e-01, 5.86876108e-09,\n",
       "        8.76259583e-03, 5.56399536e-02, 6.03109803e-03, 6.00257884e-01,\n",
       "        8.98055474e-05, 9.99998228e-01, 9.99999995e-01, 1.00000000e+00,\n",
       "        1.00000000e+00, 9.99962043e-01, 1.00000000e+00, 9.99999510e-01,\n",
       "        1.09983754e-01, 9.99999984e-01, 4.83013361e-07, 9.99995144e-01,\n",
       "        9.99468230e-01, 3.97526066e-02, 1.50232694e-03, 9.99999999e-01,\n",
       "        1.80275898e-01, 5.25001831e-03, 9.99985301e-01, 1.16904753e-07,\n",
       "        3.44013938e-01, 7.21632440e-05, 7.04127857e-06, 6.87454033e-05,\n",
       "        1.27522733e-06, 1.90388695e-02, 6.74063715e-06, 6.80452487e-01,\n",
       "        9.99999395e-01, 1.00000000e+00, 2.69050109e-10, 1.00000000e+00,\n",
       "        9.81548432e-01, 8.30271500e-03, 9.99999999e-01, 6.76510954e-01,\n",
       "        1.59263702e-03, 9.86344195e-01, 4.91770808e-07, 9.95384133e-01,\n",
       "        9.79400441e-01, 4.61342088e-15, 7.62585701e-10, 1.27748063e-07,\n",
       "        1.64116967e-01, 9.97600526e-01, 8.05737435e-01, 6.15990773e-01,\n",
       "        1.15412531e-01, 3.25471009e-15, 5.96030070e-01, 3.48228436e-07,\n",
       "        1.69679872e-09, 9.99984950e-01, 9.99897668e-01, 5.35039056e-11,\n",
       "        9.99999046e-01, 2.07867653e-11, 1.84769697e-09, 1.98862775e-01,\n",
       "        4.55879784e-09, 9.99068195e-01, 4.58555937e-04, 3.84194815e-08,\n",
       "        9.90006413e-01, 8.17792372e-11, 7.19505286e-02, 1.00000000e+00,\n",
       "        1.17644039e-09, 1.61122324e-02, 6.55898944e-05, 2.16703703e-09,\n",
       "        7.56068632e-08, 9.99184262e-01, 9.97791449e-01, 9.99999987e-01,\n",
       "        9.96998356e-01, 9.99163019e-01, 6.31649871e-01, 9.99999999e-01,\n",
       "        9.99999990e-01, 3.81048153e-08, 9.99997844e-01, 2.76353539e-01],\n",
       "       [9.99825424e-01, 5.47701499e-13, 1.27599498e-05, 9.99184710e-01,\n",
       "        8.21756046e-05, 8.91679859e-13, 4.91957788e-06, 1.00000000e+00,\n",
       "        4.21833072e-12, 9.99999963e-01, 2.23069696e-01, 7.01479594e-03,\n",
       "        2.09390507e-07, 9.99650084e-01, 9.01185287e-08, 9.60371319e-01,\n",
       "        9.86911786e-16, 4.43542645e-09, 1.00000000e+00, 9.99999998e-01,\n",
       "        1.00000000e+00, 9.99999999e-01, 9.99808012e-01, 9.11847848e-09,\n",
       "        9.99992778e-01, 9.99985329e-01, 4.73523068e-15, 9.99999773e-01,\n",
       "        9.99999989e-01, 1.72338565e-12, 5.20207487e-01, 1.00000000e+00,\n",
       "        9.99998199e-01, 2.50971326e-13, 9.99998462e-01, 1.84405943e-12,\n",
       "        4.88522363e-03, 9.90468444e-01, 1.84751654e-14, 3.81710709e-05,\n",
       "        9.99999927e-01, 1.00000000e+00, 9.99999999e-01, 1.48372586e-06,\n",
       "        1.00000000e+00, 1.00000000e+00, 6.32161060e-20, 1.00000000e+00,\n",
       "        9.59700114e-01, 7.93378118e-07, 9.99972767e-01, 9.99998490e-01,\n",
       "        2.30084199e-13, 9.63932132e-01, 9.99999994e-01, 9.99763017e-01,\n",
       "        9.95493080e-01, 5.15295958e-27, 8.92262613e-21, 2.52307807e-10,\n",
       "        9.99992683e-01, 9.99877535e-01, 1.06190076e-01, 1.96773874e-03,\n",
       "        1.01266677e-07, 7.40069985e-10, 3.61313407e-01, 2.95956863e-03,\n",
       "        2.55072900e-07, 6.83700509e-01, 9.99999996e-01, 3.42133605e-17,\n",
       "        1.00000000e+00, 8.43218850e-11, 1.67448034e-05, 8.91129399e-01,\n",
       "        1.98096807e-18, 9.99604309e-01, 5.75389284e-04, 8.78941287e-15,\n",
       "        2.87749299e-08, 7.42403292e-17, 9.97926656e-01, 9.93465280e-01,\n",
       "        2.85034688e-01, 1.79343859e-10, 6.15850143e-01, 9.99561545e-01,\n",
       "        1.24783056e-19, 9.99999992e-01, 9.34119679e-01, 1.00000000e+00,\n",
       "        3.84766324e-09, 1.00000000e+00, 9.99918283e-01, 9.97840118e-01,\n",
       "        1.00000000e+00, 4.40479013e-13, 1.00000000e+00, 9.99999944e-01],\n",
       "       [1.00000000e+00, 1.49051982e-03, 9.99999998e-01, 9.99979436e-01,\n",
       "        2.07804718e-07, 9.94257497e-01, 1.00000000e+00, 6.87431278e-11,\n",
       "        9.99999936e-01, 3.76723620e-22, 9.99999996e-01, 1.19182445e-10,\n",
       "        1.39089689e-01, 9.99997902e-01, 1.89463676e-08, 3.28330731e-01,\n",
       "        1.00000000e+00, 1.12469245e-11, 5.47977766e-06, 8.75618775e-11,\n",
       "        9.99996961e-01, 4.13733955e-08, 1.00000000e+00, 6.83875250e-04,\n",
       "        9.99999995e-01, 9.44409593e-03, 1.00000000e+00, 9.78980747e-01,\n",
       "        1.00000000e+00, 4.08687816e-01, 9.99999925e-01, 9.99999983e-01,\n",
       "        9.88073341e-01, 1.47935860e-10, 4.24922668e-11, 9.96781604e-01,\n",
       "        9.99997354e-01, 3.08410756e-07, 1.44320548e-03, 9.99999916e-01,\n",
       "        6.24810861e-09, 9.96504505e-01, 1.74451786e-01, 1.00000000e+00,\n",
       "        2.17227008e-02, 9.99999999e-01, 1.33214390e-03, 9.99999894e-01,\n",
       "        2.35419945e-01, 9.99999985e-01, 1.39297817e-07, 1.00000000e+00,\n",
       "        1.70463145e-10, 9.83895368e-01, 2.85293004e-06, 1.00000000e+00,\n",
       "        2.97272275e-01, 1.37695473e-03, 5.75624414e-02, 9.82699015e-01,\n",
       "        6.85226226e-01, 1.00000000e+00, 1.00000000e+00, 2.28765971e-11,\n",
       "        3.26213402e-09, 1.78289060e-04, 2.69392027e-06, 1.00000000e+00,\n",
       "        1.00000000e+00, 6.79293390e-01, 9.99992992e-01, 7.02685817e-02,\n",
       "        1.59388194e-22, 1.00000000e+00, 9.99998239e-01, 3.08531061e-09,\n",
       "        1.40303811e-10, 7.26978801e-20, 1.25140831e-09, 2.74251511e-09,\n",
       "        4.25723796e-02, 9.99878934e-01, 9.99986676e-01, 9.92565287e-01,\n",
       "        3.19185977e-06, 1.00000000e+00, 1.91692178e-07, 6.92988280e-10,\n",
       "        3.32832065e-01, 8.43542633e-01, 1.02980088e-10, 7.82034572e-15,\n",
       "        9.98118403e-01, 1.00000000e+00, 9.99407981e-01, 4.61096068e-12,\n",
       "        3.33775905e-10, 9.99999805e-01, 1.00000000e+00, 9.72549559e-01],\n",
       "       [1.00000000e+00, 8.41975066e-17, 9.88035707e-02, 9.99934909e-01,\n",
       "        1.00000000e+00, 9.38179537e-04, 1.72082352e-11, 4.01638087e-14,\n",
       "        9.99999999e-01, 9.99749046e-01, 2.29094067e-04, 4.38960789e-14,\n",
       "        2.27950805e-08, 9.99999933e-01, 1.00000000e+00, 4.99855319e-01,\n",
       "        6.73651980e-01, 1.42462402e-07, 9.80091092e-01, 4.46743102e-02,\n",
       "        1.00000000e+00, 3.41961621e-19, 1.00000000e+00, 1.00000000e+00,\n",
       "        9.99684365e-01, 2.68561016e-10, 1.00000000e+00, 2.96867402e-15,\n",
       "        4.13672353e-01, 5.83683466e-06, 9.96622281e-01, 9.99999186e-01,\n",
       "        1.00000000e+00, 1.34988531e-04, 9.99998866e-01, 2.23412726e-13,\n",
       "        9.98552658e-01, 9.91486167e-01, 5.13652627e-18, 9.99991176e-01,\n",
       "        9.99999996e-01, 1.54737574e-05, 9.99999651e-01, 9.99616632e-01,\n",
       "        9.60023181e-01, 1.00000000e+00, 7.47570515e-20, 1.00000000e+00,\n",
       "        1.00000000e+00, 9.31260801e-04, 9.89939111e-17, 1.00000000e+00,\n",
       "        8.25145084e-06, 1.00000000e+00, 9.99999343e-01, 9.99802183e-01,\n",
       "        9.99985405e-01, 8.41491519e-20, 3.65975852e-07, 1.71837914e-04,\n",
       "        8.59992696e-01, 9.94632041e-01, 9.99613993e-01, 8.23245810e-01,\n",
       "        1.00000000e+00, 9.99999986e-01, 9.12839195e-02, 1.00000000e+00,\n",
       "        9.99999998e-01, 1.58831606e-02, 3.66355440e-13, 1.00654736e-17,\n",
       "        5.27867411e-09, 4.08240318e-15, 1.70440886e-15, 9.96330567e-01,\n",
       "        2.63005783e-05, 6.55075353e-09, 6.16299171e-13, 6.68555718e-06,\n",
       "        6.24953740e-10, 9.97500975e-01, 9.92590823e-01, 4.94338097e-03,\n",
       "        1.00000000e+00, 4.54783314e-01, 1.80497873e-02, 9.98147008e-01,\n",
       "        8.49708057e-01, 9.99999996e-01, 5.01841416e-14, 9.99999988e-01,\n",
       "        9.99994799e-01, 1.00000000e+00, 1.00000000e+00, 7.03831214e-07,\n",
       "        5.47024676e-08, 4.13738447e-01, 9.99999915e-01, 1.00000000e+00],\n",
       "       [9.99999949e-01, 1.28566811e-13, 9.99896695e-01, 9.99998967e-01,\n",
       "        4.16691694e-05, 2.30688284e-21, 1.00000000e+00, 2.03888386e-03,\n",
       "        2.21382526e-16, 1.22962519e-22, 1.00000000e+00, 9.79165093e-12,\n",
       "        9.97543722e-01, 9.99810087e-01, 4.89511637e-18, 2.72272964e-12,\n",
       "        9.99950873e-01, 1.00000000e+00, 1.00000000e+00, 7.36227344e-08,\n",
       "        9.99999998e-01, 1.00000000e+00, 1.00000000e+00, 6.15059938e-07,\n",
       "        1.00000000e+00, 1.00000000e+00, 9.98817957e-01, 1.00000000e+00,\n",
       "        1.00000000e+00, 4.64521483e-10, 1.00000000e+00, 9.99734468e-01,\n",
       "        9.99999998e-01, 1.36606725e-04, 2.65664556e-20, 4.40030759e-02,\n",
       "        3.86285611e-14, 3.78755276e-05, 1.73619296e-16, 2.22581835e-22,\n",
       "        1.00000000e+00, 9.22110970e-10, 9.99999148e-01, 1.00000000e+00,\n",
       "        1.00000000e+00, 1.00000000e+00, 1.99765035e-14, 6.74277758e-01,\n",
       "        1.00000000e+00, 4.62312163e-02, 2.18966386e-15, 1.00000000e+00,\n",
       "        1.00000000e+00, 4.47063330e-07, 9.99999982e-01, 9.99999999e-01,\n",
       "        5.71158830e-16, 1.99207348e-11, 9.99999573e-01, 4.83345198e-20,\n",
       "        1.00000000e+00, 1.00000000e+00, 1.00000000e+00, 3.27263821e-12,\n",
       "        2.16464894e-15, 1.00000000e+00, 1.14000293e-02, 1.00000000e+00,\n",
       "        3.56261355e-08, 5.99990579e-07, 9.99172441e-01, 1.66405563e-15,\n",
       "        5.44985126e-15, 3.15900606e-19, 9.97030362e-01, 7.35497842e-14,\n",
       "        1.04059723e-37, 1.02109323e-08, 3.17136544e-22, 1.56025368e-13,\n",
       "        2.64236289e-05, 2.94497111e-17, 5.02159776e-09, 1.00000000e+00,\n",
       "        3.63003639e-08, 1.00000000e+00, 1.24258193e-16, 1.00000000e+00,\n",
       "        9.99952966e-01, 1.30455027e-06, 1.15223050e-15, 1.00000000e+00,\n",
       "        9.35626969e-01, 9.99997694e-01, 9.99844249e-01, 5.57387601e-12,\n",
       "        3.01215716e-09, 5.38181104e-01, 1.02692876e-06, 1.00000000e+00],\n",
       "       [1.00000000e+00, 2.88548112e-01, 2.69916920e-02, 1.00000000e+00,\n",
       "        9.99999948e-01, 1.35263234e-06, 1.00000000e+00, 7.64687323e-05,\n",
       "        6.57705304e-03, 8.13196600e-01, 9.98755859e-01, 1.09867228e-07,\n",
       "        6.54530272e-07, 1.15190596e-03, 2.19568732e-01, 6.30307999e-02,\n",
       "        3.40888395e-01, 9.98180994e-01, 9.72423004e-01, 2.37075961e-05,\n",
       "        9.99853920e-01, 9.99863336e-01, 1.00000000e+00, 1.00000000e+00,\n",
       "        9.99429709e-01, 9.48937049e-01, 9.99995128e-01, 8.84692453e-01,\n",
       "        1.00000000e+00, 9.82074771e-01, 9.99214647e-01, 1.16573196e-06,\n",
       "        7.78900591e-01, 6.61004169e-06, 9.93734485e-01, 4.00621808e-09,\n",
       "        1.00000000e+00, 6.53638426e-09, 1.42976426e-11, 3.83577266e-03,\n",
       "        2.21555729e-01, 2.80091370e-11, 3.70572249e-04, 9.99999999e-01,\n",
       "        9.99999992e-01, 9.99999978e-01, 1.09492574e-05, 1.00000000e+00,\n",
       "        9.99999816e-01, 4.01845471e-01, 9.99999778e-01, 9.89429845e-03,\n",
       "        9.99999851e-01, 9.99999998e-01, 2.20051668e-11, 9.99999141e-01,\n",
       "        6.60981252e-06, 3.75938080e-09, 2.62623612e-05, 3.63894274e-02,\n",
       "        1.00000000e+00, 9.99998057e-01, 9.99999797e-01, 8.62563990e-01,\n",
       "        9.98336383e-01, 9.99704545e-01, 1.00000000e+00, 1.00000000e+00,\n",
       "        9.99998652e-01, 6.50119454e-11, 6.03053004e-01, 7.58032410e-06,\n",
       "        9.15296793e-08, 3.56064797e-04, 9.99978977e-01, 9.99998473e-01,\n",
       "        6.50332867e-07, 7.28123730e-03, 1.84180909e-08, 9.99999995e-01,\n",
       "        1.05315959e-01, 1.05316835e-06, 9.99998577e-01, 9.98099939e-01,\n",
       "        1.00000000e+00, 5.74802074e-03, 7.27568898e-01, 9.99983254e-01,\n",
       "        5.79690980e-01, 8.39862013e-04, 1.63016852e-04, 9.99999741e-01,\n",
       "        9.99628840e-01, 9.94469259e-01, 3.85198199e-03, 9.88814704e-01,\n",
       "        9.11646721e-08, 9.99983922e-01, 7.20052459e-09, 1.00000000e+00],\n",
       "       [9.94491474e-01, 1.00000000e+00, 9.93706187e-01, 9.99729479e-01,\n",
       "        6.19141148e-01, 4.77744459e-09, 1.00000000e+00, 9.99999975e-01,\n",
       "        9.99999722e-01, 1.00000000e+00, 1.00000000e+00, 2.93280175e-02,\n",
       "        1.07725340e-04, 9.99989119e-01, 6.26773195e-08, 8.03997320e-01,\n",
       "        1.71928678e-11, 3.04693298e-07, 9.99999922e-01, 1.40047615e-13,\n",
       "        9.99999999e-01, 2.15652419e-15, 8.16875819e-09, 1.00000000e+00,\n",
       "        9.99999999e-01, 9.99973941e-01, 3.08725861e-04, 9.99999999e-01,\n",
       "        1.00000000e+00, 1.00549598e-11, 5.45169055e-09, 1.00000000e+00,\n",
       "        3.28104057e-10, 1.17926091e-03, 9.99735962e-01, 9.99981463e-01,\n",
       "        1.00000000e+00, 9.99615738e-01, 9.99247604e-01, 9.31519777e-01,\n",
       "        5.84121600e-01, 1.33075370e-09, 2.73630677e-17, 3.45476324e-01,\n",
       "        1.00000000e+00, 9.99898245e-01, 4.92981977e-05, 1.00000000e+00,\n",
       "        8.19122554e-06, 9.83525442e-15, 1.02665425e-01, 9.99953530e-01,\n",
       "        7.42621726e-12, 1.79041076e-01, 6.62769394e-21, 1.00000000e+00,\n",
       "        1.28563895e-08, 1.96174697e-22, 8.50347051e-04, 3.88516946e-02,\n",
       "        1.00000000e+00, 2.43978658e-15, 1.00000000e+00, 9.99821609e-01,\n",
       "        8.17409492e-02, 1.23925645e-07, 9.99484505e-01, 1.00000000e+00,\n",
       "        9.98853584e-01, 9.99794276e-01, 3.33550151e-04, 7.13617499e-03,\n",
       "        5.14191941e-11, 1.00000000e+00, 1.00000000e+00, 2.67010866e-06,\n",
       "        1.20040859e-07, 8.27303549e-12, 2.72368826e-19, 1.00000000e+00,\n",
       "        2.84499782e-02, 4.32728838e-08, 1.00000000e+00, 9.99304763e-01,\n",
       "        9.99986514e-01, 2.18590737e-03, 9.96189633e-01, 9.99664523e-01,\n",
       "        1.00000000e+00, 9.99064786e-01, 9.99999984e-01, 9.99999934e-01,\n",
       "        9.60877773e-08, 9.55198881e-10, 9.90820237e-01, 7.48979756e-15,\n",
       "        1.00000000e+00, 2.86436093e-04, 9.26997808e-01, 5.06941982e-04]])"
      ]
     },
     "execution_count": 32,
     "metadata": {},
     "output_type": "execute_result"
    }
   ],
   "source": [
    "model.y_hat"
   ]
  },
  {
   "cell_type": "code",
   "execution_count": 36,
   "id": "62544cc5-c558-4561-b5a9-2e2d8faa1fd9",
   "metadata": {
    "tags": []
   },
   "outputs": [
    {
     "name": "stdout",
     "output_type": "stream",
     "text": [
      "WARNING:tensorflow:From C:\\Users\\TaeHwan Lim\\anaconda3\\Lib\\site-packages\\keras\\src\\losses.py:2976: The name tf.losses.sparse_softmax_cross_entropy is deprecated. Please use tf.compat.v1.losses.sparse_softmax_cross_entropy instead.\n",
      "\n"
     ]
    }
   ],
   "source": [
    "# 원핫 만들기\n",
    "from tensorflow.keras.utils import to_categorical"
   ]
  },
  {
   "cell_type": "code",
   "execution_count": 37,
   "id": "2cc52f7e-3e6f-408b-9730-2077a91851b2",
   "metadata": {
    "tags": []
   },
   "outputs": [],
   "source": [
    "model = Net(10)"
   ]
  },
  {
   "cell_type": "code",
   "execution_count": 38,
   "id": "b33eb127-8cd0-4636-8e07-1c3183159674",
   "metadata": {
    "tags": []
   },
   "outputs": [],
   "source": [
    "model.add(256,activation='relu')\n",
    "model.add(128,activation='relu')\n",
    "model.add(10,activation='softmax')"
   ]
  },
  {
   "cell_type": "code",
   "execution_count": 39,
   "id": "8040a38f-9c39-403f-9ee2-468432b3617c",
   "metadata": {
    "tags": []
   },
   "outputs": [],
   "source": [
    "model.compile(lr = 1e-3, loss = 'categorical_crossentropy', metrics = 'accuracy' )"
   ]
  },
  {
   "cell_type": "code",
   "execution_count": 40,
   "id": "1a6885ce-7f91-4d79-9d33-e328919f8e90",
   "metadata": {
    "tags": []
   },
   "outputs": [
    {
     "name": "stdout",
     "output_type": "stream",
     "text": [
      "----------------------------------------------\n",
      "                Output Shape           Param #\n",
      "==============================================\n",
      "Affine_1        (None, 256)              2816\n",
      "Affine_2        (None, 128)             32896\n",
      "Affine_3        (None, 10)               1290\n",
      "==============================================\n",
      "total params: 37002\n"
     ]
    }
   ],
   "source": [
    "model.summary()"
   ]
  },
  {
   "cell_type": "code",
   "execution_count": null,
   "id": "3c347ab5-e04d-4e98-95f4-bfa454f5ed2d",
   "metadata": {
    "collapsed": true,
    "jupyter": {
     "outputs_hidden": true
    },
    "tags": []
   },
   "outputs": [],
   "source": [
    "x = np.random.randn(1000,10)\n",
    "y = to_categorical(np.random.randint(0,10,1000))\n",
    "model.gradient(x,y)"
   ]
  },
  {
   "cell_type": "code",
   "execution_count": null,
   "id": "97d4dee7-cb7f-4ce0-806e-b3eb0778289b",
   "metadata": {
    "tags": []
   },
   "outputs": [],
   "source": [
    "model.W['Affine_2'].db.size"
   ]
  },
  {
   "cell_type": "code",
   "execution_count": 16,
   "id": "a16ff3a6-a3e3-4be3-814c-47e161bafcf3",
   "metadata": {
    "tags": []
   },
   "outputs": [
    {
     "name": "stdout",
     "output_type": "stream",
     "text": [
      "WARNING:tensorflow:From C:\\Users\\user\\anaconda3\\Lib\\site-packages\\keras\\src\\losses.py:2976: The name tf.losses.sparse_softmax_cross_entropy is deprecated. Please use tf.compat.v1.losses.sparse_softmax_cross_entropy instead.\n",
      "\n"
     ]
    }
   ],
   "source": [
    "from tensorflow.keras.datasets import mnist\n",
    "from tensorflow.keras.utils import to_categorical"
   ]
  },
  {
   "cell_type": "code",
   "execution_count": null,
   "id": "de62af43-3f3e-4661-9c9f-d161986ee2b3",
   "metadata": {},
   "outputs": [],
   "source": []
  },
  {
   "cell_type": "code",
   "execution_count": null,
   "id": "62421e49-0b62-45cb-8509-4c8d35f36310",
   "metadata": {
    "tags": []
   },
   "outputs": [],
   "source": [
    "(X_train, y_train), (X_test, y_test) = mnist.load_data()\n",
    "\n",
    "X_train = X_train.reshape(-1, 784) / 255.0\n",
    "X_test = X_test.reshape(-1, 784) / 255.0\n",
    "\n",
    "mean = np.mean(X_train)\n",
    "std = np.std(X_train)\n",
    "\n",
    "X_train = (X_train - mean) / std\n",
    "X_test = (X_test - mean) / std\n",
    "\n",
    "y_train = to_categorical(y_train)\n",
    "y_test = to_categorical(y_test)"
   ]
  },
  {
   "cell_type": "code",
   "execution_count": null,
   "id": "3f21fb3c-104b-4bfd-81e7-0a8764f32a57",
   "metadata": {
    "tags": []
   },
   "outputs": [],
   "source": [
    "model.W"
   ]
  },
  {
   "cell_type": "code",
   "execution_count": null,
   "id": "a1466611-b819-4ffa-85af-d2c7c7b37d19",
   "metadata": {
    "tags": []
   },
   "outputs": [],
   "source": [
    "model.summary()"
   ]
  },
  {
   "cell_type": "code",
   "execution_count": null,
   "id": "a94b664d-6267-4475-8710-857c99dfdca9",
   "metadata": {
    "tags": []
   },
   "outputs": [],
   "source": []
  },
  {
   "cell_type": "code",
   "execution_count": null,
   "id": "a1eee133-5d00-4c10-b605-1acd035c1701",
   "metadata": {},
   "outputs": [],
   "source": []
  }
 ],
 "metadata": {
  "kernelspec": {
   "display_name": "Python 3 (ipykernel)",
   "language": "python",
   "name": "python3"
  },
  "language_info": {
   "codemirror_mode": {
    "name": "ipython",
    "version": 3
   },
   "file_extension": ".py",
   "mimetype": "text/x-python",
   "name": "python",
   "nbconvert_exporter": "python",
   "pygments_lexer": "ipython3",
   "version": "3.11.4"
  }
 },
 "nbformat": 4,
 "nbformat_minor": 5
}
