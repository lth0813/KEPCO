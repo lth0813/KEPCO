{
 "cells": [
  {
   "cell_type": "code",
   "execution_count": 1,
   "id": "31349819-4407-4c64-ab39-21dbe4dc0a9c",
   "metadata": {
    "tags": []
   },
   "outputs": [],
   "source": [
    "import numpy as np\n",
    "import pandas as pd"
   ]
  },
  {
   "cell_type": "code",
   "execution_count": 2,
   "id": "72efbf1c-1d6f-41e8-bd25-7d5878c59b89",
   "metadata": {
    "tags": []
   },
   "outputs": [],
   "source": [
    "X = np.random.randint(1,100,7)"
   ]
  },
  {
   "cell_type": "code",
   "execution_count": 3,
   "id": "1c1ac55a-ce4e-4b14-87dd-b11e2e92748e",
   "metadata": {
    "tags": []
   },
   "outputs": [
    {
     "data": {
      "text/plain": [
       "array([1.        , 0.        , 0.57317073, 0.01219512, 0.23170732,\n",
       "       1.        , 0.5       ])"
      ]
     },
     "execution_count": 3,
     "metadata": {},
     "output_type": "execute_result"
    }
   ],
   "source": [
    "(X-min(X))/(max(X) - min(X))"
   ]
  },
  {
   "cell_type": "code",
   "execution_count": 4,
   "id": "7514854b-d8cc-4cc2-b55a-f7b5747940c5",
   "metadata": {},
   "outputs": [
    {
     "data": {
      "text/plain": [
       "array([ 1.35172098, -1.21744406,  0.25512615, -1.18611278, -0.62214972,\n",
       "        1.35172098,  0.06713846])"
      ]
     },
     "execution_count": 4,
     "metadata": {},
     "output_type": "execute_result"
    }
   ],
   "source": [
    "(X-np.mean(X))/np.std(X)"
   ]
  },
  {
   "cell_type": "code",
   "execution_count": 5,
   "id": "47f39e74-5c42-4d22-9172-8a476ca499a0",
   "metadata": {},
   "outputs": [],
   "source": [
    "from sklearn.preprocessing import MinMaxScaler"
   ]
  },
  {
   "cell_type": "code",
   "execution_count": 6,
   "id": "3bfc778e-8d75-4b5a-b070-5cad2296bb06",
   "metadata": {},
   "outputs": [
    {
     "data": {
      "text/plain": [
       "array([[1.        ],\n",
       "       [0.        ],\n",
       "       [0.57317073],\n",
       "       [0.01219512],\n",
       "       [0.23170732],\n",
       "       [1.        ],\n",
       "       [0.5       ]])"
      ]
     },
     "execution_count": 6,
     "metadata": {},
     "output_type": "execute_result"
    }
   ],
   "source": [
    "mmScaler = MinMaxScaler()\n",
    "mmScaler.fit(X.reshape(-1,1))\n",
    "mmScaler.transform(X.reshape(-1,1))"
   ]
  },
  {
   "cell_type": "code",
   "execution_count": 7,
   "id": "1065f32f-a6f9-40da-a471-95c81048349d",
   "metadata": {},
   "outputs": [
    {
     "data": {
      "text/plain": [
       "array([1.        , 0.        , 0.57317073, 0.01219512, 0.23170732,\n",
       "       1.        , 0.5       ])"
      ]
     },
     "execution_count": 7,
     "metadata": {},
     "output_type": "execute_result"
    }
   ],
   "source": [
    "(X-min(X))/(max(X) - min(X))"
   ]
  },
  {
   "cell_type": "code",
   "execution_count": 8,
   "id": "01b58bbf-685d-42c4-be47-9083eaad3ddd",
   "metadata": {},
   "outputs": [],
   "source": [
    "from sklearn.preprocessing import StandardScaler"
   ]
  },
  {
   "cell_type": "code",
   "execution_count": 9,
   "id": "fe962eaf-5e70-4299-882f-22d93493fa6b",
   "metadata": {},
   "outputs": [
    {
     "data": {
      "text/plain": [
       "array([[ 1.35172098],\n",
       "       [-1.21744406],\n",
       "       [ 0.25512615],\n",
       "       [-1.18611278],\n",
       "       [-0.62214972],\n",
       "       [ 1.35172098],\n",
       "       [ 0.06713846]])"
      ]
     },
     "execution_count": 9,
     "metadata": {},
     "output_type": "execute_result"
    }
   ],
   "source": [
    "StandardScaler().fit_transform(X.reshape(-1,1))"
   ]
  },
  {
   "cell_type": "code",
   "execution_count": 10,
   "id": "166a5d4a-4588-482a-8fe7-98e833b08557",
   "metadata": {},
   "outputs": [
    {
     "data": {
      "text/plain": [
       "array([ 1.35172098, -1.21744406,  0.25512615, -1.18611278, -0.62214972,\n",
       "        1.35172098,  0.06713846])"
      ]
     },
     "execution_count": 10,
     "metadata": {},
     "output_type": "execute_result"
    }
   ],
   "source": [
    "(X-np.mean(X))/np.std(X)"
   ]
  },
  {
   "cell_type": "code",
   "execution_count": 11,
   "id": "4e18521d-408e-4249-8afc-bf064fdbe3af",
   "metadata": {},
   "outputs": [
    {
     "data": {
      "text/plain": [
       "array([ 0.75229358, -0.75229358,  0.11009174, -0.73394495, -0.40366972,\n",
       "        0.75229358,  0.        ])"
      ]
     },
     "execution_count": 11,
     "metadata": {},
     "output_type": "execute_result"
    }
   ],
   "source": [
    "# (X-median)/(Q3-Q1)\n",
    "(X-np.median(X))/(np.percentile(X,75) - np.percentile(X,25))"
   ]
  },
  {
   "cell_type": "code",
   "execution_count": 12,
   "id": "158ef2c8-5e6d-4920-940e-ca77b8c2c95f",
   "metadata": {},
   "outputs": [],
   "source": [
    "from sklearn.preprocessing import RobustScaler"
   ]
  },
  {
   "cell_type": "code",
   "execution_count": 13,
   "id": "6b1b7a51-3a90-42af-93f4-e4dde77b6ab6",
   "metadata": {
    "tags": []
   },
   "outputs": [
    {
     "data": {
      "text/plain": [
       "array([[ 0.75229358],\n",
       "       [-0.75229358],\n",
       "       [ 0.11009174],\n",
       "       [-0.73394495],\n",
       "       [-0.40366972],\n",
       "       [ 0.75229358],\n",
       "       [ 0.        ]])"
      ]
     },
     "execution_count": 13,
     "metadata": {},
     "output_type": "execute_result"
    }
   ],
   "source": [
    "rbScaler = RobustScaler()\n",
    "rbScaler.fit(X.reshape(-1,1))\n",
    "rbScaler.transform(X.reshape(-1,1))"
   ]
  }
 ],
 "metadata": {
  "kernelspec": {
   "display_name": "Python 3 (ipykernel)",
   "language": "python",
   "name": "python3"
  },
  "language_info": {
   "codemirror_mode": {
    "name": "ipython",
    "version": 3
   },
   "file_extension": ".py",
   "mimetype": "text/x-python",
   "name": "python",
   "nbconvert_exporter": "python",
   "pygments_lexer": "ipython3",
   "version": "3.11.4"
  }
 },
 "nbformat": 4,
 "nbformat_minor": 5
}
