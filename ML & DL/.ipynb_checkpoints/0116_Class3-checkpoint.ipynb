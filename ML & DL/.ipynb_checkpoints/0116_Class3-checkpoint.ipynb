{
 "cells": [
  {
   "cell_type": "code",
   "execution_count": 1,
   "id": "97bd147c-9e68-4856-9c55-ccdbaff51ba8",
   "metadata": {
    "tags": []
   },
   "outputs": [
    {
     "name": "stdout",
     "output_type": "stream",
     "text": [
      "WARNING:tensorflow:From C:\\Users\\user\\anaconda3\\Lib\\site-packages\\keras\\src\\losses.py:2976: The name tf.losses.sparse_softmax_cross_entropy is deprecated. Please use tf.compat.v1.losses.sparse_softmax_cross_entropy instead.\n",
      "\n"
     ]
    }
   ],
   "source": [
    "import pandas as pd\n",
    "import numpy as np\n",
    "import matplotlib.pyplot as plt\n",
    "\n",
    "from collections import Counter\n",
    "from sklearn.model_selection import train_test_split\n",
    "\n",
    "from tensorflow.keras.datasets import imdb\n",
    "from tensorflow.keras.datasets import reuters\n",
    "from tensorflow.keras.models import Sequential\n",
    "from tensorflow.keras.layers import Dense, BatchNormalization, Flatten, Embedding, Dropout, Conv1D, MaxPooling1D\n",
    "from tensorflow.keras.utils import pad_sequences, to_categorical"
   ]
  },
  {
   "cell_type": "code",
   "execution_count": 12,
   "id": "a3f2d036-b215-4c4e-830d-f2cf624f676b",
   "metadata": {
    "tags": []
   },
   "outputs": [
    {
     "name": "stdout",
     "output_type": "stream",
     "text": [
      "Requirement already satisfied: JPype1 in c:\\users\\user\\anaconda3\\lib\\site-packages (1.5.0)\n",
      "Requirement already satisfied: packaging in c:\\users\\user\\appdata\\roaming\\python\\python311\\site-packages (from JPype1) (23.1)\n"
     ]
    }
   ],
   "source": [
    "!pip install JPype1"
   ]
  },
  {
   "cell_type": "code",
   "execution_count": 2,
   "id": "686f0530-7950-4c54-a922-35ac9a4bc54d",
   "metadata": {
    "tags": []
   },
   "outputs": [],
   "source": [
    "kedi = pd.read_csv(\"kedi.csv\", encoding='cp949')"
   ]
  },
  {
   "cell_type": "code",
   "execution_count": 3,
   "id": "a590b7c7-4505-438e-81e2-5a087d31f7b8",
   "metadata": {
    "tags": []
   },
   "outputs": [
    {
     "data": {
      "text/plain": [
       "array(['OA', '간호', '건강·미용', '건설·건축·토목', '게임', '결혼·가족·가정', '경영이론', '경영정보',\n",
       "       '경제', '과학이론·교양', '과학일반', '관광·호텔', '교육학', '교통·운송', '국사', '국악·민요',\n",
       "       '그림·회화', '글씨디자인', '금융재무', '기계·금속', '기타외국어', '꽃예술', '논술·구술',\n",
       "       '논술·글쓰기', '농업·원예', '다도', '대중음악', '데이터베이스', '독서', '동·서양문학',\n",
       "       '디자인이론·교양', '레저·스포츠', '레크리에이션', '마술', '마케팅', '멀티미디어', '무용이론·교양',\n",
       "       '문학이론·문예창작', '문화', '미술', '미술이론·교양', '법학', '보건', '부동산', '사진·만화',\n",
       "       '사회복지', '사회일반', '사회학', '생물·화학·물리·천문', '생산관리', '생활공예', '생활무용',\n",
       "       '생활요리', '서양악기', '서예·서화', '성악', '소방·경찰·경호', '수학', '수화(손언어)', '식생활',\n",
       "       '신문·방송·출판', '실내인테리어', '심리·상담', '아동발달', '아동지도', '언어', '여성', '역사',\n",
       "       '연극', '영상예술', '영어', '운영체제', '윤리', '음악', '음악이론·교양', '응용치료', '의료',\n",
       "       '의상디자인', '인문교양', '인터넷', '일러스트레이션', '일반 기타', '일본어', '입시 기타',\n",
       "       '재료·정밀', '전기·전자', '전략·국제경영', '전통공예', '전통무용', '전통악기', '정치', '정치학',\n",
       "       '제2외국어', '제과제빵', '조직관리', '조형', '종교', '종교음악', '중국어', '진로교육', '철학',\n",
       "       '체육이론·교양', '취업·창업', '컴퓨터기초', '통계', '통신', '풍수·사주', '프로그래밍', '한국문학',\n",
       "       '한국어', '한글지도(문해)', '한문', '한방', '행정학', '현대무용', '환경·지리', '회계·세무'],\n",
       "      dtype=object)"
      ]
     },
     "execution_count": 3,
     "metadata": {},
     "output_type": "execute_result"
    }
   ],
   "source": [
    "np.unique(kedi['소분류'])"
   ]
  },
  {
   "cell_type": "code",
   "execution_count": 4,
   "id": "3849624d-6e12-4b27-8e12-b0313166e9dc",
   "metadata": {
    "tags": []
   },
   "outputs": [],
   "source": [
    "import konlpy"
   ]
  },
  {
   "cell_type": "code",
   "execution_count": 15,
   "id": "398a2eb3-8c9c-4d7a-9120-d4a1f995ffe4",
   "metadata": {
    "tags": []
   },
   "outputs": [],
   "source": [
    "from konlpy.tag import Kkma, Komoran, Okt, Twitter"
   ]
  },
  {
   "cell_type": "code",
   "execution_count": 20,
   "id": "75aa148c-06c1-4aa7-a512-b9bcd82b5abd",
   "metadata": {
    "tags": []
   },
   "outputs": [],
   "source": [
    "# pos는 품사를 이야기 해 준다.\n",
    "okt = Okt()\n",
    "kkma = Kkma()"
   ]
  },
  {
   "cell_type": "code",
   "execution_count": 18,
   "id": "8b1b4c73-f095-486f-9782-aa7c70f841e6",
   "metadata": {
    "tags": []
   },
   "outputs": [],
   "source": [
    "sentence = \"아버지가방에들어가신다\""
   ]
  },
  {
   "cell_type": "code",
   "execution_count": 26,
   "id": "2e32ca26-b398-4a04-a785-3ab3b2459d06",
   "metadata": {
    "tags": []
   },
   "outputs": [
    {
     "name": "stdout",
     "output_type": "stream",
     "text": [
      "[('아버지', 'Noun'), ('가방', 'Noun'), ('에', 'Josa'), ('들어가신다', 'Verb')]\n",
      "[('아버지', 'NNG'), ('가방', 'NNG'), ('에', 'JKM'), ('들어가', 'VV'), ('시', 'EPH'), ('ㄴ다', 'EFN')]\n"
     ]
    }
   ],
   "source": [
    "print(okt.pos(sentence))\n",
    "print(kkma.pos(sentence))"
   ]
  },
  {
   "cell_type": "code",
   "execution_count": 25,
   "id": "40054778-4dd2-440c-892f-52f3b00a327f",
   "metadata": {
    "tags": []
   },
   "outputs": [
    {
     "data": {
      "text/plain": [
       "(['아버지', '아버지가방', '가방'], ['아버지', '가방'])"
      ]
     },
     "execution_count": 25,
     "metadata": {},
     "output_type": "execute_result"
    }
   ],
   "source": [
    "kkma.nouns(sentence), okt.nouns(sentence)"
   ]
  },
  {
   "cell_type": "code",
   "execution_count": 60,
   "id": "ac35f411-055d-4dee-8690-f70186356505",
   "metadata": {
    "tags": []
   },
   "outputs": [],
   "source": [
    "data = pd.read_csv(\"kedi.csv\",encoding=\"cp949\")\n",
    "X = data['프로그램명']\n",
    "y = data['소분류']"
   ]
  },
  {
   "cell_type": "code",
   "execution_count": 61,
   "id": "50f9d5eb-f145-4b78-8b11-6d49c93242b9",
   "metadata": {
    "tags": []
   },
   "outputs": [],
   "source": [
    "# 명사만 가져오기\n",
    "X = X.apply(okt.nouns)"
   ]
  },
  {
   "cell_type": "code",
   "execution_count": 62,
   "id": "2e8e9fc5-12c3-4535-94ff-885a7b3344c5",
   "metadata": {
    "tags": []
   },
   "outputs": [],
   "source": [
    "# 가져온 명사들을 리스트에 담기\n",
    "words = []\n",
    "for word in X:\n",
    "    words.extend(word)"
   ]
  },
  {
   "cell_type": "code",
   "execution_count": 63,
   "id": "1a1e0a2d-f96d-4917-8cf5-2472db8ee815",
   "metadata": {
    "tags": []
   },
   "outputs": [],
   "source": [
    "# 고유한 값만 뽑기\n",
    "words_list = list(set(words))"
   ]
  },
  {
   "cell_type": "code",
   "execution_count": 64,
   "id": "d27c04c5-b1c8-4d57-b169-67fd28b361b2",
   "metadata": {
    "tags": []
   },
   "outputs": [],
   "source": [
    "word_to_index = {v:k for k, v in enumerate(words_list, 1)}"
   ]
  },
  {
   "cell_type": "code",
   "execution_count": 65,
   "id": "b3ab6f81-0975-4266-a0af-0f16e97d2afd",
   "metadata": {
    "tags": []
   },
   "outputs": [],
   "source": [
    "index_to_word = {v:k for k, v in word_to_index.items()}"
   ]
  },
  {
   "cell_type": "code",
   "execution_count": 68,
   "id": "0584761a-2a09-4452-87f9-109ce7c52222",
   "metadata": {
    "tags": []
   },
   "outputs": [],
   "source": [
    "def make_index(x):\n",
    "    for idx, word in enumerate(x):\n",
    "        x[idx] = word_to_index.get(word)\n",
    "    return x"
   ]
  },
  {
   "cell_type": "code",
   "execution_count": 69,
   "id": "a8b2afd8-beb2-453a-98df-662599c9fdd4",
   "metadata": {
    "tags": []
   },
   "outputs": [],
   "source": [
    "X = X.apply(make_index)"
   ]
  },
  {
   "cell_type": "code",
   "execution_count": 72,
   "id": "79a65608-8137-4d46-9466-425beb5a2d0b",
   "metadata": {
    "tags": []
   },
   "outputs": [],
   "source": [
    "X = X[1:]\n",
    "y = y[1:]"
   ]
  },
  {
   "cell_type": "code",
   "execution_count": 82,
   "id": "18aa9ab6-68d9-434a-a7e4-50dd778c5682",
   "metadata": {
    "tags": []
   },
   "outputs": [],
   "source": [
    "index_to_subject = dict(zip(np.arange(np.unique(y.values).size),np.unique(y.values)))"
   ]
  },
  {
   "cell_type": "code",
   "execution_count": 83,
   "id": "c950dd6d-10ed-46af-9ebf-a83e46b5859e",
   "metadata": {
    "tags": []
   },
   "outputs": [],
   "source": [
    "subject_to_index = {v:k for k, v in index_to_subject.items()}"
   ]
  },
  {
   "cell_type": "code",
   "execution_count": 86,
   "id": "e66804bb-f877-4575-8b61-65a1e8c45fe8",
   "metadata": {
    "tags": []
   },
   "outputs": [],
   "source": [
    "def make_subject_index(x):\n",
    "    x = subject_to_index.get(x)\n",
    "    return x"
   ]
  },
  {
   "cell_type": "code",
   "execution_count": 90,
   "id": "edb21c9a-d103-42f9-b642-4c0b6bbab58f",
   "metadata": {
    "tags": []
   },
   "outputs": [],
   "source": [
    "y = y.apply(make_subject_index)"
   ]
  },
  {
   "cell_type": "code",
   "execution_count": 92,
   "id": "b8c84dea-b358-4769-9dd1-248847af4641",
   "metadata": {
    "tags": []
   },
   "outputs": [],
   "source": [
    "y = to_categorical(y)"
   ]
  },
  {
   "cell_type": "code",
   "execution_count": 104,
   "id": "041d745c-31a7-48ef-8c95-88199cfd7d3d",
   "metadata": {
    "tags": []
   },
   "outputs": [],
   "source": [
    "X = pad_sequences(X, maxlen=21)"
   ]
  },
  {
   "cell_type": "code",
   "execution_count": 107,
   "id": "634e51c3-b760-4ed4-a9e6-eaed2c5d71c1",
   "metadata": {
    "tags": []
   },
   "outputs": [
    {
     "name": "stdout",
     "output_type": "stream",
     "text": [
      "WARNING:tensorflow:From C:\\Users\\user\\anaconda3\\Lib\\site-packages\\keras\\src\\backend.py:873: The name tf.get_default_graph is deprecated. Please use tf.compat.v1.get_default_graph instead.\n",
      "\n",
      "WARNING:tensorflow:From C:\\Users\\user\\anaconda3\\Lib\\site-packages\\keras\\src\\backend.py:6642: The name tf.nn.max_pool is deprecated. Please use tf.nn.max_pool2d instead.\n",
      "\n"
     ]
    }
   ],
   "source": [
    "model = Sequential(\n",
    "[\n",
    "    Embedding(16706,8,input_length=21),\n",
    "    Conv1D(10,2,activation='relu'),\n",
    "    MaxPooling1D(2),\n",
    "    Flatten(),\n",
    "    Dense(256,activation='relu'),\n",
    "    BatchNormalization(),\n",
    "    Dense(117,activation='softmax')\n",
    "])"
   ]
  },
  {
   "cell_type": "code",
   "execution_count": 108,
   "id": "1dcf8f81-96fe-4165-be76-64cf8659fd99",
   "metadata": {
    "tags": []
   },
   "outputs": [
    {
     "name": "stdout",
     "output_type": "stream",
     "text": [
      "WARNING:tensorflow:From C:\\Users\\user\\anaconda3\\Lib\\site-packages\\keras\\src\\optimizers\\__init__.py:309: The name tf.train.Optimizer is deprecated. Please use tf.compat.v1.train.Optimizer instead.\n",
      "\n"
     ]
    }
   ],
   "source": [
    "model.compile(optimizer='adam', loss='categorical_crossentropy', metrics='accuracy')"
   ]
  },
  {
   "cell_type": "code",
   "execution_count": 109,
   "id": "4ade710d-5d22-4d0a-97f4-c1215017a563",
   "metadata": {
    "tags": []
   },
   "outputs": [
    {
     "name": "stdout",
     "output_type": "stream",
     "text": [
      "Epoch 1/10\n",
      "WARNING:tensorflow:From C:\\Users\\user\\anaconda3\\Lib\\site-packages\\keras\\src\\utils\\tf_utils.py:492: The name tf.ragged.RaggedTensorValue is deprecated. Please use tf.compat.v1.ragged.RaggedTensorValue instead.\n",
      "\n",
      "WARNING:tensorflow:From C:\\Users\\user\\anaconda3\\Lib\\site-packages\\keras\\src\\engine\\base_layer_utils.py:384: The name tf.executing_eagerly_outside_functions is deprecated. Please use tf.compat.v1.executing_eagerly_outside_functions instead.\n",
      "\n",
      "3912/3912 [==============================] - 11s 2ms/step - loss: 1.7441 - accuracy: 0.5989\n",
      "Epoch 2/10\n",
      "3912/3912 [==============================] - 9s 2ms/step - loss: 1.0287 - accuracy: 0.7483\n",
      "Epoch 3/10\n",
      "3912/3912 [==============================] - 9s 2ms/step - loss: 0.8610 - accuracy: 0.7840\n",
      "Epoch 4/10\n",
      "3912/3912 [==============================] - 9s 2ms/step - loss: 0.7805 - accuracy: 0.7999\n",
      "Epoch 5/10\n",
      "3912/3912 [==============================] - 9s 2ms/step - loss: 0.7241 - accuracy: 0.8117\n",
      "Epoch 6/10\n",
      "3912/3912 [==============================] - 9s 2ms/step - loss: 0.6874 - accuracy: 0.8195\n",
      "Epoch 7/10\n",
      "3912/3912 [==============================] - 9s 2ms/step - loss: 0.6553 - accuracy: 0.8270\n",
      "Epoch 8/10\n",
      "3912/3912 [==============================] - 10s 3ms/step - loss: 0.6351 - accuracy: 0.8294\n",
      "Epoch 9/10\n",
      "3912/3912 [==============================] - 10s 3ms/step - loss: 0.6143 - accuracy: 0.8348\n",
      "Epoch 10/10\n",
      "3912/3912 [==============================] - 9s 2ms/step - loss: 0.5980 - accuracy: 0.8388\n"
     ]
    },
    {
     "data": {
      "text/plain": [
       "<keras.src.callbacks.History at 0x2068ba986d0>"
      ]
     },
     "execution_count": 109,
     "metadata": {},
     "output_type": "execute_result"
    }
   ],
   "source": [
    "model.fit(X,y,epochs=10)"
   ]
  },
  {
   "cell_type": "code",
   "execution_count": 152,
   "id": "990f29af-0399-4c1c-8006-989367073829",
   "metadata": {
    "tags": []
   },
   "outputs": [],
   "source": [
    "def make_subject_index(subject):\n",
    "    subject = okt.nouns(subject)\n",
    "    subject_list = []\n",
    "    for i in subject:\n",
    "        subject_list.append(word_to_index.get(i,0))\n",
    "    return pad_sequences(np.array([subject_list]),21)"
   ]
  },
  {
   "cell_type": "code",
   "execution_count": 222,
   "id": "9e43dc18-c8fd-434e-ae83-9ac003b002c3",
   "metadata": {
    "tags": []
   },
   "outputs": [],
   "source": [
    "subject = \"\""
   ]
  },
  {
   "cell_type": "code",
   "execution_count": 223,
   "id": "b1e946a1-f80e-46df-857e-d6b34ec05049",
   "metadata": {
    "tags": []
   },
   "outputs": [],
   "source": [
    "x = make_subject_index(subject)"
   ]
  },
  {
   "cell_type": "code",
   "execution_count": 224,
   "id": "0e65f043-b846-4a54-a9e8-890388fce36d",
   "metadata": {
    "tags": []
   },
   "outputs": [
    {
     "name": "stdout",
     "output_type": "stream",
     "text": [
      "1/1 [==============================] - 0s 32ms/step\n"
     ]
    }
   ],
   "source": [
    "result = model.predict(x)\n",
    "result = np.argmax(result)"
   ]
  },
  {
   "cell_type": "code",
   "execution_count": 225,
   "id": "bd92c46d-a3a2-42a5-854f-3728858cbd0d",
   "metadata": {
    "tags": []
   },
   "outputs": [
    {
     "data": {
      "text/plain": [
       "'일본어'"
      ]
     },
     "execution_count": 225,
     "metadata": {},
     "output_type": "execute_result"
    }
   ],
   "source": [
    "index_to_subject.get(result)"
   ]
  },
  {
   "cell_type": "code",
   "execution_count": 230,
   "id": "d1698917-79d8-4b92-b959-ace5d703c5e7",
   "metadata": {
    "tags": []
   },
   "outputs": [],
   "source": [
    "sentence = \"내가그린기린그림은잘그린기린그림이고\""
   ]
  },
  {
   "cell_type": "code",
   "execution_count": 231,
   "id": "ce92815d-5580-4747-af1f-e82dba0550fe",
   "metadata": {
    "tags": []
   },
   "outputs": [
    {
     "data": {
      "text/plain": [
       "[('내', 'Noun'),\n",
       " ('가', 'Josa'),\n",
       " ('그린', 'Noun'),\n",
       " ('기린', 'Noun'),\n",
       " ('그림', 'Noun'),\n",
       " ('은', 'Josa'),\n",
       " ('잘', 'Verb'),\n",
       " ('그린', 'Noun'),\n",
       " ('기린', 'Noun'),\n",
       " ('그림', 'Noun'),\n",
       " ('이고', 'Josa')]"
      ]
     },
     "execution_count": 231,
     "metadata": {},
     "output_type": "execute_result"
    }
   ],
   "source": [
    "okt.pos(sentence)"
   ]
  },
  {
   "cell_type": "code",
   "execution_count": 232,
   "id": "d137a140-b7f5-477c-9f15-d3047cb3f117",
   "metadata": {
    "tags": []
   },
   "outputs": [
    {
     "data": {
      "text/plain": [
       "[('내가', 'NNG'),\n",
       " ('그린', 'NNG'),\n",
       " ('기린', 'NNG'),\n",
       " ('그림', 'NNG'),\n",
       " ('은', 'JX'),\n",
       " ('잘', 'MAG'),\n",
       " ('그리', 'VV'),\n",
       " ('ㄴ', 'ETD'),\n",
       " ('기린', 'NNG'),\n",
       " ('그림', 'NNG'),\n",
       " ('이', 'VCP'),\n",
       " ('고', 'ECE')]"
      ]
     },
     "execution_count": 232,
     "metadata": {},
     "output_type": "execute_result"
    }
   ],
   "source": [
    "kkma.pos(sentence)"
   ]
  },
  {
   "cell_type": "code",
   "execution_count": null,
   "id": "6483ead4-079c-4d1b-8524-57f55f22ef56",
   "metadata": {},
   "outputs": [],
   "source": []
  }
 ],
 "metadata": {
  "kernelspec": {
   "display_name": "Python 3 (ipykernel)",
   "language": "python",
   "name": "python3"
  },
  "language_info": {
   "codemirror_mode": {
    "name": "ipython",
    "version": 3
   },
   "file_extension": ".py",
   "mimetype": "text/x-python",
   "name": "python",
   "nbconvert_exporter": "python",
   "pygments_lexer": "ipython3",
   "version": "3.11.4"
  }
 },
 "nbformat": 4,
 "nbformat_minor": 5
}
