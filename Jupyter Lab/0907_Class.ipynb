{
 "cells": [
  {
   "cell_type": "code",
   "execution_count": 6,
   "metadata": {},
   "outputs": [
    {
     "data": {
      "text/plain": [
       "20"
      ]
     },
     "execution_count": 6,
     "metadata": {},
     "output_type": "execute_result"
    }
   ],
   "source": [
    "## 객체 지향, 함수형 언어\n",
    "## 모든 것이 다 객체\n",
    "10 + 10"
   ]
  },
  {
   "cell_type": "code",
   "execution_count": 7,
   "metadata": {},
   "outputs": [
    {
     "name": "stdout",
     "output_type": "stream",
     "text": [
      "20\n"
     ]
    }
   ],
   "source": [
    "a = 10\n",
    "b = 10\n",
    "c = a+b\n",
    "print(c)"
   ]
  },
  {
   "cell_type": "code",
   "execution_count": 8,
   "metadata": {},
   "outputs": [
    {
     "data": {
      "text/plain": [
       "['__abs__',\n",
       " '__add__',\n",
       " '__and__',\n",
       " '__bool__',\n",
       " '__ceil__',\n",
       " '__class__',\n",
       " '__delattr__',\n",
       " '__dir__',\n",
       " '__divmod__',\n",
       " '__doc__',\n",
       " '__eq__',\n",
       " '__float__',\n",
       " '__floor__',\n",
       " '__floordiv__',\n",
       " '__format__',\n",
       " '__ge__',\n",
       " '__getattribute__',\n",
       " '__getnewargs__',\n",
       " '__getstate__',\n",
       " '__gt__',\n",
       " '__hash__',\n",
       " '__index__',\n",
       " '__init__',\n",
       " '__init_subclass__',\n",
       " '__int__',\n",
       " '__invert__',\n",
       " '__le__',\n",
       " '__lshift__',\n",
       " '__lt__',\n",
       " '__mod__',\n",
       " '__mul__',\n",
       " '__ne__',\n",
       " '__neg__',\n",
       " '__new__',\n",
       " '__or__',\n",
       " '__pos__',\n",
       " '__pow__',\n",
       " '__radd__',\n",
       " '__rand__',\n",
       " '__rdivmod__',\n",
       " '__reduce__',\n",
       " '__reduce_ex__',\n",
       " '__repr__',\n",
       " '__rfloordiv__',\n",
       " '__rlshift__',\n",
       " '__rmod__',\n",
       " '__rmul__',\n",
       " '__ror__',\n",
       " '__round__',\n",
       " '__rpow__',\n",
       " '__rrshift__',\n",
       " '__rshift__',\n",
       " '__rsub__',\n",
       " '__rtruediv__',\n",
       " '__rxor__',\n",
       " '__setattr__',\n",
       " '__sizeof__',\n",
       " '__str__',\n",
       " '__sub__',\n",
       " '__subclasshook__',\n",
       " '__truediv__',\n",
       " '__trunc__',\n",
       " '__xor__',\n",
       " 'as_integer_ratio',\n",
       " 'bit_count',\n",
       " 'bit_length',\n",
       " 'conjugate',\n",
       " 'denominator',\n",
       " 'from_bytes',\n",
       " 'imag',\n",
       " 'numerator',\n",
       " 'real',\n",
       " 'to_bytes']"
      ]
     },
     "execution_count": 8,
     "metadata": {},
     "output_type": "execute_result"
    }
   ],
   "source": [
    "dir(10)"
   ]
  },
  {
   "cell_type": "code",
   "execution_count": 9,
   "metadata": {},
   "outputs": [
    {
     "data": {
      "text/plain": [
       "['__abs__',\n",
       " '__add__',\n",
       " '__and__',\n",
       " '__bool__',\n",
       " '__ceil__',\n",
       " '__class__',\n",
       " '__delattr__',\n",
       " '__dir__',\n",
       " '__divmod__',\n",
       " '__doc__',\n",
       " '__eq__',\n",
       " '__float__',\n",
       " '__floor__',\n",
       " '__floordiv__',\n",
       " '__format__',\n",
       " '__ge__',\n",
       " '__getattribute__',\n",
       " '__getnewargs__',\n",
       " '__getstate__',\n",
       " '__gt__',\n",
       " '__hash__',\n",
       " '__index__',\n",
       " '__init__',\n",
       " '__init_subclass__',\n",
       " '__int__',\n",
       " '__invert__',\n",
       " '__le__',\n",
       " '__lshift__',\n",
       " '__lt__',\n",
       " '__mod__',\n",
       " '__mul__',\n",
       " '__ne__',\n",
       " '__neg__',\n",
       " '__new__',\n",
       " '__or__',\n",
       " '__pos__',\n",
       " '__pow__',\n",
       " '__radd__',\n",
       " '__rand__',\n",
       " '__rdivmod__',\n",
       " '__reduce__',\n",
       " '__reduce_ex__',\n",
       " '__repr__',\n",
       " '__rfloordiv__',\n",
       " '__rlshift__',\n",
       " '__rmod__',\n",
       " '__rmul__',\n",
       " '__ror__',\n",
       " '__round__',\n",
       " '__rpow__',\n",
       " '__rrshift__',\n",
       " '__rshift__',\n",
       " '__rsub__',\n",
       " '__rtruediv__',\n",
       " '__rxor__',\n",
       " '__setattr__',\n",
       " '__sizeof__',\n",
       " '__str__',\n",
       " '__sub__',\n",
       " '__subclasshook__',\n",
       " '__truediv__',\n",
       " '__trunc__',\n",
       " '__xor__',\n",
       " 'as_integer_ratio',\n",
       " 'bit_count',\n",
       " 'bit_length',\n",
       " 'conjugate',\n",
       " 'denominator',\n",
       " 'from_bytes',\n",
       " 'imag',\n",
       " 'numerator',\n",
       " 'real',\n",
       " 'to_bytes']"
      ]
     },
     "execution_count": 9,
     "metadata": {},
     "output_type": "execute_result"
    }
   ],
   "source": [
    "a = 10\n",
    "dir(a)"
   ]
  },
  {
   "cell_type": "code",
   "execution_count": 11,
   "metadata": {},
   "outputs": [
    {
     "data": {
      "text/plain": [
       "14"
      ]
     },
     "execution_count": 11,
     "metadata": {},
     "output_type": "execute_result"
    }
   ],
   "source": [
    "def name(x):\n",
    "    return 10 + x\n",
    "obj = 4\n",
    "name(obj)"
   ]
  },
  {
   "cell_type": "code",
   "execution_count": 12,
   "metadata": {},
   "outputs": [],
   "source": [
    "from datetime import datetime"
   ]
  },
  {
   "cell_type": "code",
   "execution_count": 19,
   "metadata": {},
   "outputs": [
    {
     "data": {
      "text/plain": [
       "'0309'"
      ]
     },
     "execution_count": 19,
     "metadata": {},
     "output_type": "execute_result"
    }
   ],
   "source": [
    "datetime.now().strftime(\"%Y%m\").replace('2','')"
   ]
  },
  {
   "cell_type": "code",
   "execution_count": 29,
   "metadata": {},
   "outputs": [
    {
     "name": "stdout",
     "output_type": "stream",
     "text": [
      "55\n"
     ]
    }
   ],
   "source": [
    "s = 0\n",
    "for i in range(1,11):\n",
    "    s = s + i\n",
    "print(s)"
   ]
  },
  {
   "cell_type": "code",
   "execution_count": 30,
   "metadata": {},
   "outputs": [
    {
     "data": {
      "text/plain": [
       "55"
      ]
     },
     "execution_count": 30,
     "metadata": {},
     "output_type": "execute_result"
    }
   ],
   "source": [
    "sum([i for i in range(1,11)])"
   ]
  },
  {
   "cell_type": "code",
   "execution_count": 31,
   "metadata": {},
   "outputs": [
    {
     "data": {
      "text/plain": [
       "55"
      ]
     },
     "execution_count": 31,
     "metadata": {},
     "output_type": "execute_result"
    }
   ],
   "source": [
    "sum(range(1,11))"
   ]
  },
  {
   "cell_type": "code",
   "execution_count": 36,
   "metadata": {},
   "outputs": [
    {
     "data": {
      "text/plain": [
       "{'key': 30}"
      ]
     },
     "execution_count": 36,
     "metadata": {},
     "output_type": "execute_result"
    }
   ],
   "source": [
    "{'key':20,'key':30}"
   ]
  },
  {
   "cell_type": "code",
   "execution_count": 43,
   "metadata": {},
   "outputs": [
    {
     "name": "stdout",
     "output_type": "stream",
     "text": [
      "실행\n"
     ]
    }
   ],
   "source": [
    "if True or abc:\n",
    "    print(\"실행\")"
   ]
  },
  {
   "cell_type": "code",
   "execution_count": 45,
   "metadata": {},
   "outputs": [
    {
     "data": {
      "text/plain": [
       "list"
      ]
     },
     "execution_count": 45,
     "metadata": {},
     "output_type": "execute_result"
    }
   ],
   "source": [
    "type([])"
   ]
  },
  {
   "cell_type": "code",
   "execution_count": 46,
   "metadata": {},
   "outputs": [
    {
     "name": "stdout",
     "output_type": "stream",
     "text": [
      "Collecting numpy\n",
      "  Downloading numpy-1.25.2-cp311-cp311-win_amd64.whl (15.5 MB)\n",
      "                                              0.0/15.5 MB ? eta -:--:--\n",
      "     -                                        0.5/15.5 MB 9.8 MB/s eta 0:00:02\n",
      "     --                                       1.0/15.5 MB 12.1 MB/s eta 0:00:02\n",
      "     ---                                      1.2/15.5 MB 9.7 MB/s eta 0:00:02\n",
      "     ---                                      1.3/15.5 MB 7.0 MB/s eta 0:00:03\n",
      "     ---                                      1.4/15.5 MB 6.4 MB/s eta 0:00:03\n",
      "     ---                                      1.5/15.5 MB 5.7 MB/s eta 0:00:03\n",
      "     ----                                     1.7/15.5 MB 5.3 MB/s eta 0:00:03\n",
      "     ----                                     1.8/15.5 MB 5.0 MB/s eta 0:00:03\n",
      "     -----                                    2.0/15.5 MB 4.9 MB/s eta 0:00:03\n",
      "     -----                                    2.2/15.5 MB 4.9 MB/s eta 0:00:03\n",
      "     ------                                   2.5/15.5 MB 4.9 MB/s eta 0:00:03\n",
      "     -------                                  2.7/15.5 MB 5.0 MB/s eta 0:00:03\n",
      "     -------                                  3.0/15.5 MB 5.1 MB/s eta 0:00:03\n",
      "     --------                                 3.3/15.5 MB 5.2 MB/s eta 0:00:03\n",
      "     --------                                 3.3/15.5 MB 4.9 MB/s eta 0:00:03\n",
      "     --------                                 3.4/15.5 MB 4.6 MB/s eta 0:00:03\n",
      "     ---------                                3.7/15.5 MB 4.8 MB/s eta 0:00:03\n",
      "     ----------                               4.1/15.5 MB 4.9 MB/s eta 0:00:03\n",
      "     -----------                              4.5/15.5 MB 5.1 MB/s eta 0:00:03\n",
      "     ------------                             4.9/15.5 MB 5.3 MB/s eta 0:00:03\n",
      "     -------------                            5.3/15.5 MB 5.5 MB/s eta 0:00:02\n",
      "     --------------                           5.8/15.5 MB 5.7 MB/s eta 0:00:02\n",
      "     ----------------                         6.3/15.5 MB 5.9 MB/s eta 0:00:02\n",
      "     -----------------                        6.8/15.5 MB 6.1 MB/s eta 0:00:02\n",
      "     ------------------                       7.3/15.5 MB 6.3 MB/s eta 0:00:02\n",
      "     --------------------                     7.9/15.5 MB 6.5 MB/s eta 0:00:02\n",
      "     ---------------------                    8.4/15.5 MB 6.7 MB/s eta 0:00:02\n",
      "     -----------------------                  9.0/15.5 MB 6.9 MB/s eta 0:00:01\n",
      "     ------------------------                 9.5/15.5 MB 7.1 MB/s eta 0:00:01\n",
      "     -------------------------                10.1/15.5 MB 7.2 MB/s eta 0:00:01\n",
      "     ---------------------------              10.6/15.5 MB 7.3 MB/s eta 0:00:01\n",
      "     ----------------------------             11.2/15.5 MB 7.3 MB/s eta 0:00:01\n",
      "     ------------------------------           11.7/15.5 MB 8.0 MB/s eta 0:00:01\n",
      "     -------------------------------          12.3/15.5 MB 8.8 MB/s eta 0:00:01\n",
      "     --------------------------------         12.8/15.5 MB 9.2 MB/s eta 0:00:01\n",
      "     ----------------------------------       13.4/15.5 MB 9.6 MB/s eta 0:00:01\n",
      "     ----------------------------------      13.9/15.5 MB 10.9 MB/s eta 0:00:01\n",
      "     ------------------------------------    14.5/15.5 MB 11.1 MB/s eta 0:00:01\n",
      "     -------------------------------------   15.0/15.5 MB 11.5 MB/s eta 0:00:01\n",
      "     --------------------------------------  15.5/15.5 MB 11.5 MB/s eta 0:00:01\n",
      "     --------------------------------------- 15.5/15.5 MB 11.1 MB/s eta 0:00:00\n",
      "Installing collected packages: numpy\n",
      "Successfully installed numpy-1.25.2\n"
     ]
    },
    {
     "name": "stderr",
     "output_type": "stream",
     "text": [
      "\n",
      "[notice] A new release of pip is available: 23.1.2 -> 23.2.1\n",
      "[notice] To update, run: python.exe -m pip install --upgrade pip\n"
     ]
    }
   ],
   "source": [
    "!pip install numpy"
   ]
  },
  {
   "cell_type": "code",
   "execution_count": 47,
   "metadata": {},
   "outputs": [],
   "source": [
    "import numpy as np"
   ]
  },
  {
   "cell_type": "code",
   "execution_count": 49,
   "metadata": {},
   "outputs": [
    {
     "data": {
      "text/plain": [
       "[6, 7, 8, 9]"
      ]
     },
     "execution_count": 49,
     "metadata": {},
     "output_type": "execute_result"
    }
   ],
   "source": [
    "a= [1,2,3,4]\n",
    "b= []\n",
    "for i in a:\n",
    "    b.append(i+5)\n",
    "b"
   ]
  },
  {
   "cell_type": "code",
   "execution_count": 50,
   "metadata": {},
   "outputs": [
    {
     "data": {
      "text/plain": [
       "[6, 7, 8, 9]"
      ]
     },
     "execution_count": 50,
     "metadata": {},
     "output_type": "execute_result"
    }
   ],
   "source": [
    "list(map(lambda x: x+5, a))"
   ]
  },
  {
   "cell_type": "code",
   "execution_count": 51,
   "metadata": {},
   "outputs": [
    {
     "data": {
      "text/plain": [
       "[6, 7, 8, 9]"
      ]
     },
     "execution_count": 51,
     "metadata": {},
     "output_type": "execute_result"
    }
   ],
   "source": [
    "[ i + 5 for i in a]"
   ]
  },
  {
   "cell_type": "code",
   "execution_count": 52,
   "metadata": {},
   "outputs": [
    {
     "data": {
      "text/plain": [
       "[6, 7, 8, 9]"
      ]
     },
     "execution_count": 52,
     "metadata": {},
     "output_type": "execute_result"
    }
   ],
   "source": [
    "def add_5(x):\n",
    "    return x+5\n",
    "list(map(add_5,a))"
   ]
  },
  {
   "cell_type": "code",
   "execution_count": 54,
   "metadata": {},
   "outputs": [
    {
     "data": {
      "text/plain": [
       "[-5, -5, -5, -5]"
      ]
     },
     "execution_count": 54,
     "metadata": {},
     "output_type": "execute_result"
    }
   ],
   "source": [
    "c = [ ]\n",
    "for i in range(len(a)):\n",
    "    c.append(a[i] - b[i])\n",
    "c"
   ]
  },
  {
   "cell_type": "code",
   "execution_count": 55,
   "metadata": {},
   "outputs": [
    {
     "data": {
      "text/plain": [
       "[-5, -5, -5, -5]"
      ]
     },
     "execution_count": 55,
     "metadata": {},
     "output_type": "execute_result"
    }
   ],
   "source": [
    "c = [ ]\n",
    "for i,j in zip(a,b):\n",
    "    c.append(i-j)\n",
    "c"
   ]
  },
  {
   "cell_type": "code",
   "execution_count": null,
   "metadata": {},
   "outputs": [],
   "source": [
    "# [1,2,3,4] = vector (collection)\n",
    "# 5 = scala\n",
    "# [5] = vector"
   ]
  },
  {
   "cell_type": "code",
   "execution_count": 58,
   "metadata": {},
   "outputs": [
    {
     "data": {
      "text/plain": [
       "1.25"
      ]
     },
     "execution_count": 58,
     "metadata": {},
     "output_type": "execute_result"
    }
   ],
   "source": [
    "X = [1,2,3,4]\n",
    "X_S = sum(X)\n",
    "X_M = X_S/len(X)\n",
    "\n",
    "X_SS = 0\n",
    "for i in range(len(X)):\n",
    "    X_SS += (X[i] - X_M)**2 \n",
    "\n",
    "X_var = X_SS / len(X)\n",
    "X_var"
   ]
  },
  {
   "cell_type": "code",
   "execution_count": 60,
   "metadata": {},
   "outputs": [
    {
     "data": {
      "text/plain": [
       "1.25"
      ]
     },
     "execution_count": 60,
     "metadata": {},
     "output_type": "execute_result"
    }
   ],
   "source": [
    "X = np.array(X)\n",
    "np.sum(np.square(X - np.mean(X)))/X.size\n"
   ]
  },
  {
   "cell_type": "code",
   "execution_count": 61,
   "metadata": {},
   "outputs": [],
   "source": [
    "import numpy as np"
   ]
  },
  {
   "cell_type": "code",
   "execution_count": 64,
   "metadata": {},
   "outputs": [
    {
     "data": {
      "text/plain": [
       "builtin_function_or_method"
      ]
     },
     "execution_count": 64,
     "metadata": {},
     "output_type": "execute_result"
    }
   ],
   "source": [
    "type(np.array)"
   ]
  },
  {
   "cell_type": "code",
   "execution_count": 70,
   "metadata": {},
   "outputs": [
    {
     "data": {
      "text/plain": [
       "(4,)"
      ]
     },
     "execution_count": 70,
     "metadata": {},
     "output_type": "execute_result"
    }
   ],
   "source": [
    "l = [1,2,3,4]\n",
    "arr = np.array(l)\n",
    "arr.shape"
   ]
  },
  {
   "cell_type": "code",
   "execution_count": 77,
   "metadata": {},
   "outputs": [
    {
     "data": {
      "text/plain": [
       "array([[[1]],\n",
       "\n",
       "       [[2]],\n",
       "\n",
       "       [[3]],\n",
       "\n",
       "       [[4]]])"
      ]
     },
     "execution_count": 77,
     "metadata": {},
     "output_type": "execute_result"
    }
   ],
   "source": [
    "arr.reshape(4,1,1) # axis == 축"
   ]
  },
  {
   "cell_type": "code",
   "execution_count": 75,
   "metadata": {},
   "outputs": [
    {
     "data": {
      "text/plain": [
       "[1, 2, 3, 4]"
      ]
     },
     "execution_count": 75,
     "metadata": {},
     "output_type": "execute_result"
    }
   ],
   "source": [
    "l"
   ]
  },
  {
   "cell_type": "code",
   "execution_count": 83,
   "metadata": {},
   "outputs": [],
   "source": [
    "np.random.seed(100)\n",
    "x = np.random.randint(50,100,size=(4,3)) #4는 데이터 개수 , 3은 변수 개수"
   ]
  },
  {
   "cell_type": "code",
   "execution_count": 90,
   "metadata": {},
   "outputs": [
    {
     "name": "stdout",
     "output_type": "stream",
     "text": [
      "[[58 74 53]\n",
      " [89 73 65]\n",
      " [98 60 80]\n",
      " [84 52 84]]\n",
      "(4, 3)\n",
      "2\n",
      "12\n",
      "[[58 89 98 84]\n",
      " [74 73 60 52]\n",
      " [53 65 80 84]]\n",
      "[[58 89 98 84]\n",
      " [74 73 60 52]\n",
      " [53 65 80 84]]\n",
      "[[58 74 53 89]\n",
      " [73 65 98 60]\n",
      " [80 84 52 84]]\n"
     ]
    }
   ],
   "source": [
    "print(x)\n",
    "print(x.shape)\n",
    "print(x.ndim) #차원\n",
    "print(x.size) #데이터개수\n",
    "print(x.T) #뒤집기 4,3 -> 3,4 로 #대각선으로 뒤집는거\n",
    "print(x.transpose())\n",
    "print(x.reshape(3,4)) #한줄로 쫙 피고 4개씩 끊음"
   ]
  },
  {
   "cell_type": "code",
   "execution_count": 91,
   "metadata": {},
   "outputs": [
    {
     "data": {
      "text/plain": [
       "array([[58, 74, 53],\n",
       "       [89, 73, 65],\n",
       "       [98, 60, 80],\n",
       "       [84, 52, 84]])"
      ]
     },
     "execution_count": 91,
     "metadata": {},
     "output_type": "execute_result"
    }
   ],
   "source": [
    "x"
   ]
  },
  {
   "cell_type": "code",
   "execution_count": 92,
   "metadata": {},
   "outputs": [
    {
     "data": {
      "text/plain": [
       "array([58, 74, 53, 89, 73, 65, 98, 60, 80, 84, 52, 84])"
      ]
     },
     "execution_count": 92,
     "metadata": {},
     "output_type": "execute_result"
    }
   ],
   "source": [
    "x.ravel()\n",
    "x.flatten()"
   ]
  },
  {
   "cell_type": "code",
   "execution_count": 107,
   "metadata": {},
   "outputs": [
    {
     "data": {
      "text/plain": [
       "array([58, 53, 89])"
      ]
     },
     "execution_count": 107,
     "metadata": {},
     "output_type": "execute_result"
    }
   ],
   "source": [
    "# fancy indexing\n",
    "[0,1]\n",
    "new_list = []\n",
    "for i in [0,2,3]:\n",
    "    new_list.append(list(np.ravel(x))[i])\n",
    "# fancy indexing\n",
    "np.ravel(x)[[0,2,3]]"
   ]
  },
  {
   "cell_type": "code",
   "execution_count": 108,
   "metadata": {},
   "outputs": [
    {
     "data": {
      "text/plain": [
       "array([[58, 74],\n",
       "       [89, 73]])"
      ]
     },
     "execution_count": 108,
     "metadata": {},
     "output_type": "execute_result"
    }
   ],
   "source": [
    "x[:2,:2] #앞이 행, 뒤가 열"
   ]
  },
  {
   "cell_type": "code",
   "execution_count": 109,
   "metadata": {},
   "outputs": [
    {
     "name": "stdout",
     "output_type": "stream",
     "text": [
      "Collecting pandas\n",
      "  Downloading pandas-2.1.0-cp311-cp311-win_amd64.whl (11.0 MB)\n",
      "                                              0.0/11.0 MB ? eta -:--:--\n",
      "                                              0.2/11.0 MB 6.9 MB/s eta 0:00:02\n",
      "     -                                        0.5/11.0 MB 6.4 MB/s eta 0:00:02\n",
      "     --                                       0.8/11.0 MB 6.3 MB/s eta 0:00:02\n",
      "     ----                                     1.1/11.0 MB 6.5 MB/s eta 0:00:02\n",
      "     -----                                    1.5/11.0 MB 6.6 MB/s eta 0:00:02\n",
      "     ------                                   1.8/11.0 MB 6.8 MB/s eta 0:00:02\n",
      "     -------                                  2.1/11.0 MB 6.8 MB/s eta 0:00:02\n",
      "     ---------                                2.5/11.0 MB 6.9 MB/s eta 0:00:02\n",
      "     ----------                               2.8/11.0 MB 6.9 MB/s eta 0:00:02\n",
      "     -----------                              3.1/11.0 MB 6.9 MB/s eta 0:00:02\n",
      "     ------------                             3.5/11.0 MB 6.9 MB/s eta 0:00:02\n",
      "     -------------                            3.8/11.0 MB 6.9 MB/s eta 0:00:02\n",
      "     --------------                           4.1/11.0 MB 6.9 MB/s eta 0:00:02\n",
      "     ---------------                          4.4/11.0 MB 6.9 MB/s eta 0:00:01\n",
      "     -----------------                        4.7/11.0 MB 6.9 MB/s eta 0:00:01\n",
      "     ------------------                       5.0/11.0 MB 6.8 MB/s eta 0:00:01\n",
      "     -------------------                      5.4/11.0 MB 6.8 MB/s eta 0:00:01\n",
      "     --------------------                     5.7/11.0 MB 6.8 MB/s eta 0:00:01\n",
      "     ---------------------                    6.0/11.0 MB 6.8 MB/s eta 0:00:01\n",
      "     ----------------------                   6.3/11.0 MB 6.8 MB/s eta 0:00:01\n",
      "     -----------------------                  6.6/11.0 MB 6.8 MB/s eta 0:00:01\n",
      "     -------------------------                7.0/11.0 MB 6.9 MB/s eta 0:00:01\n",
      "     --------------------------               7.4/11.0 MB 7.0 MB/s eta 0:00:01\n",
      "     ----------------------------             7.9/11.0 MB 7.1 MB/s eta 0:00:01\n",
      "     -----------------------------            8.2/11.0 MB 7.1 MB/s eta 0:00:01\n",
      "     -------------------------------          8.6/11.0 MB 7.2 MB/s eta 0:00:01\n",
      "     ---------------------------------        9.1/11.0 MB 7.3 MB/s eta 0:00:01\n",
      "     -----------------------------------      9.7/11.0 MB 7.4 MB/s eta 0:00:01\n",
      "     ------------------------------------     10.1/11.0 MB 7.5 MB/s eta 0:00:01\n",
      "     -------------------------------------    10.3/11.0 MB 7.4 MB/s eta 0:00:01\n",
      "     --------------------------------------   10.6/11.0 MB 7.4 MB/s eta 0:00:01\n",
      "     ---------------------------------------  10.8/11.0 MB 7.4 MB/s eta 0:00:01\n",
      "     ---------------------------------------  11.0/11.0 MB 7.4 MB/s eta 0:00:01\n",
      "     ---------------------------------------- 11.0/11.0 MB 7.3 MB/s eta 0:00:00\n",
      "Requirement already satisfied: numpy>=1.23.2 in c:\\users\\user\\appdata\\local\\programs\\python\\python311\\lib\\site-packages (from pandas) (1.25.2)\n",
      "Requirement already satisfied: python-dateutil>=2.8.2 in c:\\users\\user\\appdata\\roaming\\python\\python311\\site-packages (from pandas) (2.8.2)\n",
      "Collecting pytz>=2020.1 (from pandas)\n",
      "  Downloading pytz-2023.3.post1-py2.py3-none-any.whl (502 kB)\n",
      "                                              0.0/502.5 kB ? eta -:--:--\n",
      "     ---------------------                  286.7/502.5 kB 8.9 MB/s eta 0:00:01\n",
      "     -------------------------------------- 502.5/502.5 kB 7.8 MB/s eta 0:00:00\n",
      "Collecting tzdata>=2022.1 (from pandas)\n",
      "  Downloading tzdata-2023.3-py2.py3-none-any.whl (341 kB)\n",
      "                                              0.0/341.8 kB ? eta -:--:--\n",
      "     ------------------------------------   327.7/341.8 kB 6.8 MB/s eta 0:00:01\n",
      "     -------------------------------------- 341.8/341.8 kB 5.3 MB/s eta 0:00:00\n",
      "Requirement already satisfied: six>=1.5 in c:\\users\\user\\appdata\\roaming\\python\\python311\\site-packages (from python-dateutil>=2.8.2->pandas) (1.16.0)\n",
      "Installing collected packages: pytz, tzdata, pandas\n",
      "Successfully installed pandas-2.1.0 pytz-2023.3.post1 tzdata-2023.3\n"
     ]
    },
    {
     "name": "stderr",
     "output_type": "stream",
     "text": [
      "\n",
      "[notice] A new release of pip is available: 23.1.2 -> 23.2.1\n",
      "[notice] To update, run: python.exe -m pip install --upgrade pip\n"
     ]
    }
   ],
   "source": [
    "!pip install pandas"
   ]
  },
  {
   "cell_type": "code",
   "execution_count": 110,
   "metadata": {},
   "outputs": [],
   "source": [
    "import pandas as pd"
   ]
  },
  {
   "cell_type": "code",
   "execution_count": 114,
   "metadata": {},
   "outputs": [
    {
     "data": {
      "text/plain": [
       "array([[58, 74, 53],\n",
       "       [89, 73, 65],\n",
       "       [98, 60, 80],\n",
       "       [84, 52, 84]])"
      ]
     },
     "execution_count": 114,
     "metadata": {},
     "output_type": "execute_result"
    }
   ],
   "source": [
    "x"
   ]
  },
  {
   "cell_type": "code",
   "execution_count": 112,
   "metadata": {},
   "outputs": [
    {
     "data": {
      "text/html": [
       "<div>\n",
       "<style scoped>\n",
       "    .dataframe tbody tr th:only-of-type {\n",
       "        vertical-align: middle;\n",
       "    }\n",
       "\n",
       "    .dataframe tbody tr th {\n",
       "        vertical-align: top;\n",
       "    }\n",
       "\n",
       "    .dataframe thead th {\n",
       "        text-align: right;\n",
       "    }\n",
       "</style>\n",
       "<table border=\"1\" class=\"dataframe\">\n",
       "  <thead>\n",
       "    <tr style=\"text-align: right;\">\n",
       "      <th></th>\n",
       "      <th>0</th>\n",
       "      <th>1</th>\n",
       "    </tr>\n",
       "  </thead>\n",
       "  <tbody>\n",
       "    <tr>\n",
       "      <th>1</th>\n",
       "      <td>89</td>\n",
       "      <td>73</td>\n",
       "    </tr>\n",
       "    <tr>\n",
       "      <th>3</th>\n",
       "      <td>84</td>\n",
       "      <td>52</td>\n",
       "    </tr>\n",
       "  </tbody>\n",
       "</table>\n",
       "</div>"
      ],
      "text/plain": [
       "    0   1\n",
       "1  89  73\n",
       "3  84  52"
      ]
     },
     "execution_count": 112,
     "metadata": {},
     "output_type": "execute_result"
    }
   ],
   "source": [
    "pd.DataFrame(x).iloc[[1,3],[0,1]]"
   ]
  },
  {
   "cell_type": "code",
   "execution_count": 113,
   "metadata": {},
   "outputs": [
    {
     "data": {
      "text/plain": [
       "array([89, 52])"
      ]
     },
     "execution_count": 113,
     "metadata": {},
     "output_type": "execute_result"
    }
   ],
   "source": [
    "x[[1,3],[0,1]]"
   ]
  },
  {
   "cell_type": "code",
   "execution_count": 117,
   "metadata": {},
   "outputs": [
    {
     "data": {
      "text/plain": [
       "array([[89, 73],\n",
       "       [84, 52]])"
      ]
     },
     "execution_count": 117,
     "metadata": {},
     "output_type": "execute_result"
    }
   ],
   "source": [
    "x[[1,3],:][:,[0,1]]"
   ]
  }
 ],
 "metadata": {
  "kernelspec": {
   "display_name": "Python 3",
   "language": "python",
   "name": "python3"
  },
  "language_info": {
   "codemirror_mode": {
    "name": "ipython",
    "version": 3
   },
   "file_extension": ".py",
   "mimetype": "text/x-python",
   "name": "python",
   "nbconvert_exporter": "python",
   "pygments_lexer": "ipython3",
   "version": "3.11.4"
  },
  "orig_nbformat": 4
 },
 "nbformat": 4,
 "nbformat_minor": 2
}
