{
 "cells": [
  {
   "cell_type": "code",
   "execution_count": 9,
   "id": "5bb64c0f-0147-4eef-bb7b-1c967c981dbd",
   "metadata": {
    "tags": []
   },
   "outputs": [],
   "source": [
    "import numpy as np"
   ]
  },
  {
   "cell_type": "code",
   "execution_count": 10,
   "id": "3b1835d1-b57f-46c5-bfc6-766c13eec855",
   "metadata": {
    "tags": []
   },
   "outputs": [],
   "source": [
    "data = np.array([[0,0],[1,0],[0,1],[1,1]])"
   ]
  },
  {
   "cell_type": "code",
   "execution_count": 11,
   "id": "ac838033-f4f3-422a-b299-003dc5dacedb",
   "metadata": {
    "tags": []
   },
   "outputs": [],
   "source": [
    "def make_w(method):\n",
    "    method_dict = {\n",
    "        'And':[0,0,0,1],\n",
    "        'Or':[0,1,1,1],\n",
    "        'Nor':[1,0,0,0],\n",
    "        'Nand':[1,1,1,0]\n",
    "    }\n",
    "    data = np.array([[0,0],[1,0],[0,1],[1,1]])\n",
    "    for w1 in np.linspace(0,1,20):\n",
    "        for w2 in np.linspace(0,1,20):\n",
    "            for theta in np.linspace(-1,1,20):\n",
    "                if method in ['Nor', 'Nand']:\n",
    "                    if np.sum(np.where(data[:,0]*w1 + data[:,1]*w2 > theta,0,1) == method_dict.get(method)) == 4:\n",
    "                        return -w1, -w2, -theta\n",
    "                else:\n",
    "                    if np.sum(np.where(data[:,0]*w1 + data[:,1]*w2 < theta,0,1) == method_dict.get(method)) == 4:\n",
    "                        return w1, w2, theta"
   ]
  },
  {
   "cell_type": "code",
   "execution_count": 12,
   "id": "366155de-ae5a-4a99-8f00-363ed2421d3c",
   "metadata": {
    "tags": []
   },
   "outputs": [],
   "source": [
    "def sigmoid(x):\n",
    "    return 1/(1+np.exp(-x))"
   ]
  },
  {
   "cell_type": "code",
   "execution_count": 13,
   "id": "effc827f-e154-498f-a5e7-183bd2a3a93a",
   "metadata": {
    "tags": []
   },
   "outputs": [],
   "source": [
    "def loss(y_hat):\n",
    "    loss_val = np.sum(-((1-y)*np.log(1-y_hat) + y*np.log(y_hat)))\n",
    "    return loss_val"
   ]
  },
  {
   "cell_type": "code",
   "execution_count": 14,
   "id": "cf253e75-9903-4824-9840-098cc4f12799",
   "metadata": {
    "tags": []
   },
   "outputs": [],
   "source": [
    "def gradient(W,b):\n",
    "    cols = W.shape[1]\n",
    "    rows = W.shape[0]\n",
    "    dW = np.zeros_like(W)\n",
    "    db = np.zeros(1)\n",
    "    h = 1e-5\n",
    "    for col in range(cols):\n",
    "        for row in range(rows):\n",
    "            y_hat = sigmoid(np.dot(X,W)+b)\n",
    "            fx = loss(y_hat)\n",
    "            tmp = W[row,col]\n",
    "            W[row,col] += h\n",
    "            y_hat = sigmoid(np.dot(X,W)+b)\n",
    "            fxh = loss(y_hat)\n",
    "            dW[row,col] = (fxh-fx)/h\n",
    "            W[row,col] = tmp\n",
    "    for idx in range(b.size):\n",
    "        y_hat = sigmoid(np.dot(X,W)+b)\n",
    "        fx = loss(y_hat)\n",
    "        tmp = b[idx]\n",
    "        b[idx] += h\n",
    "        y_hat = sigmoid(np.dot(X,W)+b)\n",
    "        fxh = loss(y_hat)\n",
    "        db[idx] = (fxh-fx)/h\n",
    "        b[idx] = tmp\n",
    "    return dW, db"
   ]
  },
  {
   "cell_type": "code",
   "execution_count": 42,
   "id": "15537f7b-6b36-4d56-9631-8d3251c31757",
   "metadata": {
    "tags": []
   },
   "outputs": [],
   "source": [
    "X = np.array([[0,0],[1,0],[0,1],[1,1]])\n",
    "y = np.array([1,0,0,0]).reshape(4,1)"
   ]
  },
  {
   "cell_type": "code",
   "execution_count": 43,
   "id": "c137381c-e6e2-4349-9970-08074829b652",
   "metadata": {
    "tags": []
   },
   "outputs": [],
   "source": [
    "W = np.random.randn(2,1)\n",
    "b = np.zeros(1)"
   ]
  },
  {
   "cell_type": "code",
   "execution_count": 44,
   "id": "bf9510e9-7072-45cf-83c9-8365da1229e5",
   "metadata": {
    "tags": []
   },
   "outputs": [],
   "source": [
    "lr = 1e-3\n",
    "for _ in range(10000):\n",
    "    W -= gradient(W,b)[0]*lr\n",
    "    b -= gradient(W,b)[1]*lr"
   ]
  },
  {
   "cell_type": "code",
   "execution_count": 45,
   "id": "75102962-c020-4042-9ee9-195cb7501ba1",
   "metadata": {
    "tags": []
   },
   "outputs": [
    {
     "data": {
      "text/plain": [
       "array([[1],\n",
       "       [0],\n",
       "       [0],\n",
       "       [0]])"
      ]
     },
     "execution_count": 45,
     "metadata": {},
     "output_type": "execute_result"
    }
   ],
   "source": [
    "np.where(sigmoid(np.dot(X,W) + b) > 0.5,1,0)"
   ]
  },
  {
   "cell_type": "code",
   "execution_count": null,
   "id": "89ac1825-9232-4fb2-934f-cc862c211fe0",
   "metadata": {},
   "outputs": [],
   "source": []
  },
  {
   "cell_type": "code",
   "execution_count": 390,
   "id": "88aef325-7990-4c1e-9f18-b3b09433d0cf",
   "metadata": {
    "tags": []
   },
   "outputs": [],
   "source": [
    "X = np.array([[0,0],[0,1],[1,0],[1,1]])"
   ]
  },
  {
   "cell_type": "code",
   "execution_count": 48,
   "id": "112e1db1-bb6b-42e4-8faa-2d3e682e8f40",
   "metadata": {
    "tags": []
   },
   "outputs": [
    {
     "data": {
      "text/plain": [
       "(4, 2)"
      ]
     },
     "execution_count": 48,
     "metadata": {},
     "output_type": "execute_result"
    }
   ],
   "source": [
    "X.shape"
   ]
  },
  {
   "cell_type": "code",
   "execution_count": 49,
   "id": "c252b2dc-5507-45af-baef-ce16086b0082",
   "metadata": {
    "tags": []
   },
   "outputs": [],
   "source": [
    "X = np.array([[0,0],[0,1],[1,0],[1,1]])\n",
    "\n",
    "y1 = np.array([0,0,0,1]).reshape(4,1)\n",
    "y2 = np.array([1,1,1,0]).reshape(4,1)\n",
    "y3 = np.array([0,1,1,1]).reshape(4,1)\n",
    "y4 = np.array([1,0,0,0]).reshape(4,1)\n",
    "y5 = np.array([0,1,1,0]).reshape(4,1) \n",
    "y6 = np.array([1,0,0,1]).reshape(4,1)"
   ]
  },
  {
   "cell_type": "code",
   "execution_count": 52,
   "id": "5c41d8a1-6374-4ae5-a08a-aed64f961388",
   "metadata": {
    "tags": []
   },
   "outputs": [],
   "source": [
    "W = np.random.randn(X.shape[1],y1.shape[1])\n",
    "b = np.zeros(y1.shape[1])"
   ]
  },
  {
   "cell_type": "code",
   "execution_count": 53,
   "id": "ceeddd74-0681-49e8-a46f-4bddb87c99c8",
   "metadata": {
    "tags": []
   },
   "outputs": [],
   "source": [
    "y_hat = np.dot(X,W) + b\n",
    "y_hat = sigmoid(y_hat)"
   ]
  },
  {
   "cell_type": "code",
   "execution_count": 55,
   "id": "4e719e62-1356-4456-bed9-8125bb374342",
   "metadata": {
    "tags": []
   },
   "outputs": [],
   "source": [
    "def loss(y_hat, y):\n",
    "    return -np.sum((1-y)*np.log(1-y_hat) + y*np.log(y_hat))"
   ]
  },
  {
   "cell_type": "code",
   "execution_count": 56,
   "id": "ee4039cb-74f5-49d3-a372-e18cfc0c9234",
   "metadata": {
    "tags": []
   },
   "outputs": [
    {
     "data": {
      "text/plain": [
       "3.9388257796066153"
      ]
     },
     "execution_count": 56,
     "metadata": {},
     "output_type": "execute_result"
    }
   ],
   "source": [
    "loss(y_hat, y)"
   ]
  },
  {
   "cell_type": "code",
   "execution_count": 59,
   "id": "99e93561-bb07-40db-8de0-0b0cf26a8f39",
   "metadata": {
    "tags": []
   },
   "outputs": [
    {
     "data": {
      "text/plain": [
       "(0.6434523122008795, 0.34091516955861784)"
      ]
     },
     "execution_count": 59,
     "metadata": {},
     "output_type": "execute_result"
    }
   ],
   "source": [
    "W[0,0], W[1,0]"
   ]
  },
  {
   "cell_type": "code",
   "execution_count": 73,
   "id": "ea09e39e-89f5-4f25-9ae6-ed2854deca84",
   "metadata": {
    "tags": []
   },
   "outputs": [
    {
     "name": "stdout",
     "output_type": "stream",
     "text": [
      "[[0.64348231]\n",
      " [0.34097517]]\n",
      "[[0.38353412]\n",
      " [0.31242137]]\n"
     ]
    }
   ],
   "source": [
    "# (fxh - fx)/h --> gradient\n",
    "print(W)\n",
    "h = 1e-5\n",
    "y_hat = np.dot(X,W) + b\n",
    "y_hat = sigmoid(y_hat)\n",
    "fx = loss(y_hat, y1)\n",
    "\n",
    "tmp = W[0,0]\n",
    "W[0,0] += h\n",
    "y_hat = np.dot(X,W) + b\n",
    "y_hat = sigmoid(y_hat)\n",
    "fxh = loss(y_hat, y1)\n",
    "dW1 = (fxh - fx)/h\n",
    "W[0,0] = tmp\n",
    "\n",
    "tmp = W[1,0]\n",
    "W[1,0] += h\n",
    "y_hat = np.dot(X,W) + b\n",
    "y_hat = sigmoid(y_hat)\n",
    "fxh = loss(y_hat, y1)\n",
    "dW2 = (fxh - fx)/h\n",
    "dW = np.array([dW1, dW2]).reshape(2,1)\n",
    "print(dW)"
   ]
  },
  {
   "cell_type": "code",
   "execution_count": 74,
   "id": "83405abb-70af-4dd4-89c1-ad9fe36ed764",
   "metadata": {
    "tags": []
   },
   "outputs": [
    {
     "data": {
      "text/plain": [
       "2.9544916718299943"
      ]
     },
     "execution_count": 74,
     "metadata": {},
     "output_type": "execute_result"
    }
   ],
   "source": [
    "loss(y_hat, y1)"
   ]
  },
  {
   "cell_type": "code",
   "execution_count": 75,
   "id": "d53cf146-f9fc-42ae-a41a-f7491f3f5de4",
   "metadata": {
    "tags": []
   },
   "outputs": [
    {
     "data": {
      "text/plain": [
       "2.954247042084172"
      ]
     },
     "execution_count": 75,
     "metadata": {},
     "output_type": "execute_result"
    }
   ],
   "source": [
    "y_hat = np.dot(X, W-1e-3*dW) + b\n",
    "y_hat = sigmoid(y_hat)\n",
    "loss(y_hat, y1)"
   ]
  },
  {
   "cell_type": "code",
   "execution_count": null,
   "id": "9688965c-8964-4d11-b4d5-9f629f7f5403",
   "metadata": {},
   "outputs": [],
   "source": [
    "def sigmoid(x):\n",
    "    return 1/(1+np.exp(-x))"
   ]
  },
  {
   "cell_type": "code",
   "execution_count": 108,
   "id": "dace81bf-9a93-458c-99d6-87b3bdb89925",
   "metadata": {
    "tags": []
   },
   "outputs": [],
   "source": [
    "def predict(x,W,b):\n",
    "    return sigmoid(np.dot(x,W) + b)    "
   ]
  },
  {
   "cell_type": "code",
   "execution_count": 109,
   "id": "e586495d-a7f6-45a2-857b-e62f97952019",
   "metadata": {
    "tags": []
   },
   "outputs": [],
   "source": [
    "def loss(y_hat, y):\n",
    "    return -np.sum((1-y)*np.log(1-y_hat) + y*np.log(y_hat))"
   ]
  },
  {
   "cell_type": "code",
   "execution_count": 137,
   "id": "e4136ef5-f9c1-41c8-9994-019b7336c33d",
   "metadata": {
    "tags": []
   },
   "outputs": [],
   "source": [
    "# X * W + b\n",
    "def gradient(x, y, W, b):\n",
    "    h = 1e-5\n",
    "    dW = np.zeros_like(W)\n",
    "    db = np.zeros_like(b)\n",
    "    cols = range(W.shape[1])\n",
    "    rows = range(W.shape[0])\n",
    "    for col in cols:\n",
    "        for row in rows:\n",
    "            y_hat = predict(x,W,b)\n",
    "            fx = loss(y_hat,y)\n",
    "            tmp = W[row,col]\n",
    "            W[row,col] += h\n",
    "            y_hat = predict(x,W,b)\n",
    "            fxh = loss(y_hat, y)\n",
    "            dW[row,col] = (fxh - fx)/h\n",
    "            W[row,col] = tmp\n",
    "    for i in range(db.size):\n",
    "        y_hat = predict(x,W,b)\n",
    "        fx = loss(y_hat,y)\n",
    "        tmp = b[i]\n",
    "        b[i] += h\n",
    "        y_hat = predict(x,W,b)\n",
    "        fxh = loss(y_hat, y)\n",
    "        db[i] = (fxh - fx)/h\n",
    "        b[i] = tmp\n",
    "    return dW, db"
   ]
  },
  {
   "cell_type": "code",
   "execution_count": 138,
   "id": "b4995543-650c-4472-a787-7dc11e062ca6",
   "metadata": {
    "tags": []
   },
   "outputs": [],
   "source": [
    "W = np.random.randn(X.shape[1], y1.shape[1])\n",
    "b = np.zeros(y.shape[1])"
   ]
  },
  {
   "cell_type": "code",
   "execution_count": 173,
   "id": "b3012b20-89e7-4abb-a17e-748f6b22783c",
   "metadata": {
    "tags": []
   },
   "outputs": [],
   "source": [
    "def descent_gradient(x,y,lr = 1e-3, epochs = 30000):\n",
    "    W = np.random.randn(x.shape[1], y.shape[1])\n",
    "    b = np.zeros(y.shape[1])\n",
    "    for i in range(epochs):\n",
    "        W = W - gradient(x,y,W,b)[0] * lr\n",
    "        b = b - gradient(x,y,W,b)[1] * lr\n",
    "        y_hat = predict(x,W,b)\n",
    "        #if i % 100 == 0:\n",
    "        #    print(f'loss ===> {loss(y_hat, y)}')\n",
    "    print(y)\n",
    "    print(np.where(predict(x,W,b)>0.5,1,0))"
   ]
  },
  {
   "cell_type": "code",
   "execution_count": 175,
   "id": "f44951aa-2416-4cac-bf8d-3506a73fe1fb",
   "metadata": {
    "tags": []
   },
   "outputs": [
    {
     "name": "stdout",
     "output_type": "stream",
     "text": [
      "[[1]\n",
      " [0]\n",
      " [0]\n",
      " [1]]\n",
      "[[0]\n",
      " [1]\n",
      " [0]\n",
      " [1]]\n"
     ]
    }
   ],
   "source": [
    "descent_gradient(X,y6)"
   ]
  },
  {
   "cell_type": "code",
   "execution_count": 104,
   "id": "e248b6ae-98b7-4452-924a-bfd0093dce22",
   "metadata": {
    "tags": []
   },
   "outputs": [
    {
     "data": {
      "text/plain": [
       "(array([[-0.0803472 ],\n",
       "        [-0.08345837]]),\n",
       " array([0.11883273]))"
      ]
     },
     "execution_count": 104,
     "metadata": {},
     "output_type": "execute_result"
    }
   ],
   "source": [
    "gradient(X,y1)"
   ]
  },
  {
   "cell_type": "code",
   "execution_count": 181,
   "id": "e30a45a3-d914-43cb-a07c-d883563785dd",
   "metadata": {
    "tags": []
   },
   "outputs": [],
   "source": [
    "class Perceptron:\n",
    "    def __init__(self,x,y):\n",
    "        self.x = x\n",
    "        self.y = y\n",
    "        self.W = np.random.randn(x.shape[1], y.shape[1])\n",
    "        self.b = np.zeros(y.shape[1])\n",
    "    \n",
    "    def sigmoid(x):\n",
    "        return 1/(1+np.exp(-x))\n",
    "    \n",
    "    def predict(x,W,b):\n",
    "        return sigmoid(np.dot(x,W) + b)\n",
    "    \n",
    "    def loss(y_hat, y):\n",
    "        return -np.sum((1-y)*np.log(1-y_hat) + y*np.log(y_hat))\n",
    "    \n",
    "    def gradient(x, y, W, b):\n",
    "        h = 1e-5\n",
    "        dW = np.zeros_like(W)\n",
    "        db = np.zeros_like(b)\n",
    "        cols = range(W.shape[1])\n",
    "        rows = range(W.shape[0])\n",
    "        for col in cols:\n",
    "            for row in rows:\n",
    "                y_hat = predict(x,W,b)\n",
    "                fx = loss(y_hat,y)\n",
    "                tmp = W[row,col]\n",
    "                W[row,col] += h\n",
    "                y_hat = predict(x,W,b)\n",
    "                fxh = loss(y_hat, y)\n",
    "                dW[row,col] = (fxh - fx)/h\n",
    "                W[row,col] = tmp\n",
    "        for i in range(db.size):\n",
    "            y_hat = predict(x,W,b)\n",
    "            fx = loss(y_hat,y)\n",
    "            tmp = b[i]\n",
    "            b[i] += h\n",
    "            y_hat = predict(x,W,b)\n",
    "            fxh = loss(y_hat, y)\n",
    "            db[i] = (fxh - fx)/h\n",
    "            b[i] = tmp\n",
    "        return dW, db\n",
    "    \n",
    "    def descent_gradient(x,y,lr = 1e-3, epochs = 10000):\n",
    "        W = np.random.randn(x.shape[1], y.shape[1])\n",
    "        b = np.zeros(y.shape[1])\n",
    "        for i in range(epochs):\n",
    "            W = W - gradient(x,y,W,b)[0] * lr\n",
    "            b = b - gradient(x,y,W,b)[1] * lr\n",
    "            y_hat = predict(x,W,b)\n",
    "            #if i % 100 == 0:\n",
    "            #    print(f'loss ===> {loss(y_hat, y)}')\n",
    "        print(y)\n",
    "        print(np.where(predict(x,W,b)>0.5,1,0))"
   ]
  },
  {
   "cell_type": "code",
   "execution_count": null,
   "id": "61d99c00-3260-407d-9141-63682d4365a2",
   "metadata": {},
   "outputs": [],
   "source": []
  },
  {
   "cell_type": "code",
   "execution_count": 335,
   "id": "dc5dbc1e-e4f5-4a4b-88c3-27d8234d3ef5",
   "metadata": {
    "tags": []
   },
   "outputs": [
    {
     "data": {
      "text/plain": [
       "(426,)"
      ]
     },
     "execution_count": 335,
     "metadata": {},
     "output_type": "execute_result"
    }
   ],
   "source": [
    "y_train.shape"
   ]
  },
  {
   "cell_type": "code",
   "execution_count": 381,
   "id": "5f58db22-8454-407a-a799-3c0a8f9bf0d6",
   "metadata": {
    "tags": []
   },
   "outputs": [],
   "source": [
    "class Perceptron:\n",
    "    def __init__(self,x,y):\n",
    "        self.x = x\n",
    "        if y.ndim == 1:\n",
    "            y = y.reshape(-1,1)\n",
    "        self.y = y\n",
    "        self.W = np.random.randn(x.shape[1],y.shape[1])\n",
    "        self.b = np.zeros(y.shape[1])\n",
    "    \n",
    "    def predict_proba(self):\n",
    "        x = (self.x-self.x.min(0))/self.x.max(0)\n",
    "        self.y_hat = np.dot(x,self.W) + self.b\n",
    "        self.y_hat = sigmoid(self.y_hat)\n",
    "        return self.y_hat\n",
    "    \n",
    "    def loss(self):\n",
    "        result = self.predict_proba()\n",
    "        return -np.sum((1-self.y)*np.log(1-result)+self.y*np.log(result))\n",
    "    \n",
    "    def gradient(self):\n",
    "        h = 1e-5\n",
    "        self.dW = np.zeros_like(self.W)\n",
    "        self.db = np.zeros_like(self.b)\n",
    "        cols = range(self.W.shape[1])\n",
    "        rows = range(self.W.shape[0])\n",
    "        for col in cols:\n",
    "            for row in rows:\n",
    "                fx = self.loss()\n",
    "                tmp = self.W[row,col]\n",
    "                self.W[row,col] += h\n",
    "                fxh = self.loss()\n",
    "                self.dW[row,col] = (fxh-fx)/h\n",
    "                self.W[row,col] = tmp\n",
    "        for i in range(self.b.size):\n",
    "            fx = self.loss()\n",
    "            tmp = self.b[i]\n",
    "            self.b[i] += h\n",
    "            fxh = self.loss()\n",
    "            self.db[i] = (fxh-fx)/h\n",
    "            self.b[i] = tmp\n",
    "        return self.dW, self.db\n",
    "    \n",
    "    def desecnt_gradient(self):\n",
    "        lr = 1e-2\n",
    "        dW, db = self.gradient()\n",
    "        self.W -= dW*lr\n",
    "        self.b -= db*lr\n",
    "        \n",
    "    def fit(self,epochs=20000):\n",
    "        for epoch in range(epochs):\n",
    "            self.desecnt_gradient()\n",
    "            # if epoch & 2000 == 0:\n",
    "            #    print(self.loss())\n",
    "                \n",
    "    def predict(self,x):\n",
    "        x = (x-x.min(0))/x.max(0)\n",
    "        return np.where(sigmoid(np.dot(x,self.W)+self.b) > 0.5,1,0)\n",
    "    \n",
    "    def score(self,x,y):\n",
    "        if y.ndim == 1:\n",
    "            y = y.reshape(-1,1)\n",
    "        return np.sum(self.predict(x) == y)/x.shape[0]"
   ]
  },
  {
   "cell_type": "code",
   "execution_count": 320,
   "id": "51dc1b3d-a249-4d85-9850-97d9932487df",
   "metadata": {
    "tags": []
   },
   "outputs": [],
   "source": [
    "and_ = Perceptron(X,y1)"
   ]
  },
  {
   "cell_type": "code",
   "execution_count": 267,
   "id": "f5bfb964-c478-4668-a2f2-aa2cf2c4b3ab",
   "metadata": {
    "collapsed": true,
    "jupyter": {
     "outputs_hidden": true
    },
    "tags": []
   },
   "outputs": [
    {
     "data": {
      "text/plain": [
       "array([[0],\n",
       "       [0],\n",
       "       [0],\n",
       "       [1]])"
      ]
     },
     "execution_count": 267,
     "metadata": {},
     "output_type": "execute_result"
    }
   ],
   "source": [
    "and_.predict(X)"
   ]
  },
  {
   "cell_type": "code",
   "execution_count": 303,
   "id": "20e393ea-b90e-44c7-b7f2-95f67b9634c9",
   "metadata": {
    "tags": []
   },
   "outputs": [],
   "source": [
    "nand_ = Perceptron(X,y2)"
   ]
  },
  {
   "cell_type": "code",
   "execution_count": 306,
   "id": "1513a355-d22c-4770-a745-d8273e25ab8a",
   "metadata": {
    "collapsed": true,
    "jupyter": {
     "outputs_hidden": true
    },
    "tags": []
   },
   "outputs": [
    {
     "data": {
      "text/plain": [
       "array([[1],\n",
       "       [1],\n",
       "       [1],\n",
       "       [0]])"
      ]
     },
     "execution_count": 306,
     "metadata": {},
     "output_type": "execute_result"
    }
   ],
   "source": [
    "nand_.predict(X)"
   ]
  },
  {
   "cell_type": "code",
   "execution_count": 277,
   "id": "8797136f-1e03-495f-9910-ddebdbbf6423",
   "metadata": {
    "tags": []
   },
   "outputs": [],
   "source": [
    "or_ = Perceptron(X,y3)"
   ]
  },
  {
   "cell_type": "code",
   "execution_count": 279,
   "id": "8ad1c72a-be64-4356-b1e0-4b1d710c9ec2",
   "metadata": {
    "collapsed": true,
    "jupyter": {
     "outputs_hidden": true
    },
    "tags": []
   },
   "outputs": [
    {
     "data": {
      "text/plain": [
       "array([[0],\n",
       "       [1],\n",
       "       [1],\n",
       "       [1]])"
      ]
     },
     "execution_count": 279,
     "metadata": {},
     "output_type": "execute_result"
    }
   ],
   "source": [
    "or_.predict(X)"
   ]
  },
  {
   "cell_type": "code",
   "execution_count": 283,
   "id": "bfca477c-5bda-430a-b2aa-e5f5a9ddabb5",
   "metadata": {
    "tags": []
   },
   "outputs": [],
   "source": [
    "nor_ = Perceptron(X,y4)"
   ]
  },
  {
   "cell_type": "code",
   "execution_count": 285,
   "id": "1e8248fe-144f-4b01-8c87-da1261032901",
   "metadata": {
    "collapsed": true,
    "jupyter": {
     "outputs_hidden": true
    },
    "tags": []
   },
   "outputs": [
    {
     "data": {
      "text/plain": [
       "array([[1],\n",
       "       [0],\n",
       "       [0],\n",
       "       [0]])"
      ]
     },
     "execution_count": 285,
     "metadata": {},
     "output_type": "execute_result"
    }
   ],
   "source": [
    "nor_.predict(X)"
   ]
  },
  {
   "cell_type": "code",
   "execution_count": 287,
   "id": "0d4d8ed8-4eb6-4720-82d8-8c2851828858",
   "metadata": {
    "tags": []
   },
   "outputs": [],
   "source": [
    "xor_ = Perceptron(X,y5)"
   ]
  },
  {
   "cell_type": "code",
   "execution_count": 301,
   "id": "4f2c95b3-e993-4735-8c2f-afa0e06699ed",
   "metadata": {
    "collapsed": true,
    "jupyter": {
     "outputs_hidden": true
    },
    "tags": []
   },
   "outputs": [
    {
     "data": {
      "text/plain": [
       "array([[1],\n",
       "       [1],\n",
       "       [1],\n",
       "       [0]])"
      ]
     },
     "execution_count": 301,
     "metadata": {},
     "output_type": "execute_result"
    }
   ],
   "source": [
    "xor_.predict(X)"
   ]
  },
  {
   "cell_type": "code",
   "execution_count": 297,
   "id": "d03ce852-7cbe-479f-97a1-22b1c1ff2675",
   "metadata": {
    "tags": []
   },
   "outputs": [],
   "source": [
    "xnor_ = Perceptron(X,y6)"
   ]
  },
  {
   "cell_type": "code",
   "execution_count": 298,
   "id": "144c25de-9acf-4599-89bf-f3c6b606ee20",
   "metadata": {
    "collapsed": true,
    "jupyter": {
     "outputs_hidden": true
    },
    "tags": []
   },
   "outputs": [
    {
     "data": {
      "text/plain": [
       "array([[0],\n",
       "       [0],\n",
       "       [1],\n",
       "       [1]])"
      ]
     },
     "execution_count": 298,
     "metadata": {},
     "output_type": "execute_result"
    }
   ],
   "source": [
    "xnor_.predict(X)"
   ]
  },
  {
   "cell_type": "code",
   "execution_count": 367,
   "id": "cfa03fc6-49db-4007-807b-61c646580c03",
   "metadata": {
    "tags": []
   },
   "outputs": [],
   "source": [
    "from sklearn.datasets import load_breast_cancer\n",
    "from sklearn.tree import DecisionTreeClassifier\n",
    "from sklearn.model_selection import train_test_split"
   ]
  },
  {
   "cell_type": "code",
   "execution_count": 375,
   "id": "fa2a4c0f-1a26-4226-b2b6-d914e69de9e3",
   "metadata": {
    "tags": []
   },
   "outputs": [],
   "source": [
    "X = load_breast_cancer()['data']\n",
    "y = load_breast_cancer()['target']"
   ]
  },
  {
   "cell_type": "code",
   "execution_count": 376,
   "id": "fcc3c590-d851-4726-affa-a86476733189",
   "metadata": {
    "tags": []
   },
   "outputs": [],
   "source": [
    "X_train, X_test, y_train, y_test = train_test_split(X, y)"
   ]
  },
  {
   "cell_type": "code",
   "execution_count": 377,
   "id": "289b6399-bcc7-4e27-92ec-cf6b715b82be",
   "metadata": {
    "tags": []
   },
   "outputs": [
    {
     "data": {
      "text/plain": [
       "0.9230769230769231"
      ]
     },
     "execution_count": 377,
     "metadata": {},
     "output_type": "execute_result"
    }
   ],
   "source": [
    "tree_model = DecisionTreeClassifier()\n",
    "tree_model.fit(X_train, y_train)\n",
    "tree_model.score(X_test, y_test)"
   ]
  },
  {
   "cell_type": "code",
   "execution_count": 382,
   "id": "f40e8c89-7505-4415-8c20-4ebf8c6a459a",
   "metadata": {
    "tags": []
   },
   "outputs": [],
   "source": [
    "our_model = Perceptron(X_train, y_train)"
   ]
  },
  {
   "cell_type": "code",
   "execution_count": 383,
   "id": "2aabb04a-8213-4068-a7c1-031aeffdf872",
   "metadata": {
    "tags": []
   },
   "outputs": [],
   "source": [
    "our_model.fit()"
   ]
  },
  {
   "cell_type": "code",
   "execution_count": 384,
   "id": "813ec312-2e55-4e95-9554-8ae9a3731a09",
   "metadata": {
    "tags": []
   },
   "outputs": [
    {
     "data": {
      "text/plain": [
       "0.8461538461538461"
      ]
     },
     "execution_count": 384,
     "metadata": {},
     "output_type": "execute_result"
    }
   ],
   "source": [
    "our_model.score(X_test,y_test)"
   ]
  },
  {
   "cell_type": "code",
   "execution_count": 455,
   "id": "f0922624-eec2-4bc1-b9f9-bfce7a9b87b1",
   "metadata": {
    "tags": []
   },
   "outputs": [],
   "source": [
    "X = np.array([[0,0],[0,1],[1,0],[1,1]])\n",
    "\n",
    "y1 = np.array([0,0,0,1]).reshape(4,1)\n",
    "y2 = np.array([1,1,1,0]).reshape(4,1)\n",
    "y3 = np.array([0,1,1,1]).reshape(4,1)\n",
    "y4 = np.array([1,0,0,0]).reshape(4,1)\n",
    "y5 = np.array([0,1,1,0]).reshape(4,1) \n",
    "y6 = np.array([1,0,0,1]).reshape(4,1)"
   ]
  },
  {
   "cell_type": "code",
   "execution_count": 508,
   "id": "50c6e068-b912-41b5-8532-dee82b972d6b",
   "metadata": {
    "tags": []
   },
   "outputs": [],
   "source": [
    "class MultiLayer:\n",
    "    def __init__(self,x,y):\n",
    "        self.Activation = {\n",
    "            'sigmoid' : sigmoid\n",
    "        }\n",
    "        self.x = x\n",
    "        if y.ndim ==1:\n",
    "            y = y.reshape(-1,1)\n",
    "        self.y = y\n",
    "        self.W1 = np.random.randn(2,2)\n",
    "        self.b1 = np.zeros(2)\n",
    "        self.W2 = np.random.randn(2,1)\n",
    "        self.b2 = np.zeros(1)\n",
    "    \n",
    "    def predict_proba(self):\n",
    "        x = (self.x - self.x.min(0)) / self.x.max(0)\n",
    "        self.y_hat = np.dot(x, self.W1) + self.b1\n",
    "        self.y_hat = self.Activation['sigmoid'](self.y_hat)\n",
    "        self.y_hat = np.dot(self.y_hat,self.W2) + self.b2\n",
    "        self.y_hat = self.Activation['sigmoid'](self.y_hat)\n",
    "        return self.y_hat\n",
    "    \n",
    "    def loss(self):\n",
    "        result = self.predict_proba()\n",
    "        return -np.sum((1-self.y)*np.log(1-result) + self.y*np.log(result))\n",
    "    \n",
    "    def gradient(self):\n",
    "        h = 1e-5\n",
    "        self.dW1 = np.zeros_like(self.W1)\n",
    "        self.dW2 = np.zeros_like(self.W2)\n",
    "        self.db1 = np.zeros_like(self.b1)\n",
    "        self.db2 = np.zeros_like(self.b2)\n",
    "        \n",
    "        for row in range(self.W1.shape[0]):\n",
    "            for col in range(self.W1.shape[1]):\n",
    "                fx = self.loss()\n",
    "                tmp = self.W1[row,col]\n",
    "                self.W1[row,col] += h\n",
    "                fxh = self.loss()\n",
    "                self.dW1[row,col] = (fxh-fx)/h\n",
    "                self.W1[row,col] = tmp\n",
    "                \n",
    "        for row in range(self.W2.shape[0]):\n",
    "            for col in range(self.W2.shape[1]):\n",
    "                fx = self.loss()\n",
    "                tmp = self.W2[row,col]\n",
    "                self.W2[row,col] += h\n",
    "                fxh = self.loss()\n",
    "                self.dW2[row,col] = (fxh-fx)/h\n",
    "                self.W2[row,col] = tmp\n",
    "        \n",
    "        for i in range(self.b1.size):\n",
    "            fx = self.loss()\n",
    "            tmp = self.b1[i]\n",
    "            self.b1[i] += h\n",
    "            fxh = self.loss()\n",
    "            self.db1[i] = (fxh-fx)/h\n",
    "            self.b1[i] = tmp\n",
    "        \n",
    "        for i in range(self.b2.size):\n",
    "            fx = self.loss()\n",
    "            tmp = self.b2[i]\n",
    "            self.b2[i] += h\n",
    "            fxh = self.loss()\n",
    "            self.db2[i] = (fxh-fx)/h\n",
    "            self.b2[i] = tmp\n",
    "        \n",
    "        return self.dW1, self.dW2, self.db1, self.db2\n",
    "                \n",
    "    \n",
    "    def descent_gradient(self):\n",
    "        dW1, dW2, db1, db2 = self.gradient()\n",
    "        self.W1 -= dW1 * 1e-5\n",
    "        self.W2 -= dW2 * 1e-5\n",
    "        self.b1 -= db1 * 1e-5\n",
    "        self.b2 -= db2 * 1e-5\n",
    "        \n",
    "    def fit(self, epochs=100000):\n",
    "        self.history = []\n",
    "        for _ in range(epochs):\n",
    "            self.descent_gradient()\n",
    "            self.history.append(self.descent_gradient())\n",
    "    \n",
    "    def predict(self, x):\n",
    "        x = (x - x.min(0)) / x.max(0)\n",
    "        result = np.dot(x, self.W1) + self.b1\n",
    "        result = self.Activation['sigmoid'](result)\n",
    "        result = np.dot(result,self.W2) + self.b2\n",
    "        result = self.Activation['sigmoid'](result)\n",
    "        return np.where(result > 0.5,1,0)\n",
    "    \n",
    "    def score(self, x, y):\n",
    "        return np.sum(self.predict(x) == y)/x.shape[0]"
   ]
  },
  {
   "cell_type": "code",
   "execution_count": 509,
   "id": "1b0700fd-af2c-4df4-bacc-896017eb975a",
   "metadata": {
    "tags": []
   },
   "outputs": [],
   "source": [
    "model = MultiLayer(X, y5)"
   ]
  },
  {
   "cell_type": "code",
   "execution_count": 516,
   "id": "572ee21e-7d6a-46a8-ace2-25f1426fd7cd",
   "metadata": {
    "tags": []
   },
   "outputs": [],
   "source": [
    "model.fit()"
   ]
  },
  {
   "cell_type": "code",
   "execution_count": 517,
   "id": "a401ff13-3c42-46aa-83e8-2e9c6b1fecb3",
   "metadata": {
    "tags": []
   },
   "outputs": [
    {
     "data": {
      "text/plain": [
       "array([[1],\n",
       "       [0],\n",
       "       [1],\n",
       "       [0]])"
      ]
     },
     "execution_count": 517,
     "metadata": {},
     "output_type": "execute_result"
    }
   ],
   "source": [
    "model.predict(X)"
   ]
  },
  {
   "cell_type": "code",
   "execution_count": 465,
   "id": "3a479ee7-dae3-4ea7-ba2e-aa4ed7f1c07a",
   "metadata": {
    "tags": []
   },
   "outputs": [
    {
     "name": "stdout",
     "output_type": "stream",
     "text": [
      "WARNING:tensorflow:From C:\\Users\\user\\anaconda3\\Lib\\site-packages\\keras\\src\\losses.py:2976: The name tf.losses.sparse_softmax_cross_entropy is deprecated. Please use tf.compat.v1.losses.sparse_softmax_cross_entropy instead.\n",
      "\n"
     ]
    }
   ],
   "source": [
    "import tensorflow as tf"
   ]
  },
  {
   "cell_type": "code",
   "execution_count": 470,
   "id": "6f8dcdbf-7511-4d17-8601-6ab3e6ccf42e",
   "metadata": {
    "tags": []
   },
   "outputs": [],
   "source": [
    "from tensorflow.keras import Sequential"
   ]
  },
  {
   "cell_type": "code",
   "execution_count": 471,
   "id": "b3941b9e-5109-4595-9d04-3dee2adb59bd",
   "metadata": {
    "tags": []
   },
   "outputs": [],
   "source": [
    "from tensorflow.keras.layers import Dense"
   ]
  },
  {
   "cell_type": "code",
   "execution_count": 495,
   "id": "bb36f953-c662-4974-a67f-bd2f65a067dc",
   "metadata": {
    "tags": []
   },
   "outputs": [],
   "source": [
    "model_tf = Sequential()"
   ]
  },
  {
   "cell_type": "code",
   "execution_count": 496,
   "id": "9227f7cc-a623-4478-960a-6bf3a860493c",
   "metadata": {
    "tags": []
   },
   "outputs": [],
   "source": [
    "model_tf.add(Dense(10,activation='sigmoid',input_shape=(100,)))"
   ]
  },
  {
   "cell_type": "code",
   "execution_count": 497,
   "id": "adf5d74b-6a5c-417d-b4e9-aeab6075ca4a",
   "metadata": {
    "tags": []
   },
   "outputs": [
    {
     "name": "stdout",
     "output_type": "stream",
     "text": [
      "Model: \"sequential_2\"\n",
      "_________________________________________________________________\n",
      " Layer (type)                Output Shape              Param #   \n",
      "=================================================================\n",
      " dense_1 (Dense)             (None, 10)                1010      \n",
      "                                                                 \n",
      "=================================================================\n",
      "Total params: 1010 (3.95 KB)\n",
      "Trainable params: 1010 (3.95 KB)\n",
      "Non-trainable params: 0 (0.00 Byte)\n",
      "_________________________________________________________________\n"
     ]
    }
   ],
   "source": [
    "model_tf.summary()"
   ]
  },
  {
   "cell_type": "code",
   "execution_count": 499,
   "id": "d1880f55-dd13-4fb6-a5dd-2829fb0b0ab2",
   "metadata": {
    "tags": []
   },
   "outputs": [],
   "source": [
    "model_tf.add(Dense(250,activation='relu'))"
   ]
  },
  {
   "cell_type": "code",
   "execution_count": 501,
   "id": "80255d6b-f07d-4010-bc84-e25b93825def",
   "metadata": {
    "tags": []
   },
   "outputs": [
    {
     "name": "stdout",
     "output_type": "stream",
     "text": [
      "Model: \"sequential_2\"\n",
      "_________________________________________________________________\n",
      " Layer (type)                Output Shape              Param #   \n",
      "=================================================================\n",
      " dense_1 (Dense)             (None, 10)                1010      \n",
      "                                                                 \n",
      " dense_2 (Dense)             (None, 250)               2750      \n",
      "                                                                 \n",
      "=================================================================\n",
      "Total params: 3760 (14.69 KB)\n",
      "Trainable params: 3760 (14.69 KB)\n",
      "Non-trainable params: 0 (0.00 Byte)\n",
      "_________________________________________________________________\n"
     ]
    }
   ],
   "source": [
    "model_tf.summary()"
   ]
  },
  {
   "cell_type": "code",
   "execution_count": 515,
   "id": "e6589ad6-41fd-485b-ba6e-44e415974c44",
   "metadata": {
    "tags": []
   },
   "outputs": [
    {
     "data": {
      "text/plain": [
       "[<keras.src.layers.core.dense.Dense at 0x2c55c065790>,\n",
       " <keras.src.layers.core.dense.Dense at 0x2c55a94fdd0>]"
      ]
     },
     "execution_count": 515,
     "metadata": {},
     "output_type": "execute_result"
    }
   ],
   "source": [
    "model_tf.layers"
   ]
  },
  {
   "cell_type": "code",
   "execution_count": 521,
   "id": "ae582868-d879-4af5-ae4c-e533a5394d53",
   "metadata": {
    "tags": []
   },
   "outputs": [],
   "source": [
    "from tensorflow.keras.datasets import mnist\n",
    "from tensorflow.keras.utils import to_categorical"
   ]
  },
  {
   "cell_type": "code",
   "execution_count": null,
   "id": "3ec03682-a537-4999-bccd-f335e2a5c9c6",
   "metadata": {},
   "outputs": [],
   "source": [
    "(X_train, y_train), (X_test, y_test) = mnist.load_data()"
   ]
  },
  {
   "cell_type": "code",
   "execution_count": 522,
   "id": "bd33bc46-90ca-407b-885e-7ec2557b9e58",
   "metadata": {
    "tags": []
   },
   "outputs": [
    {
     "data": {
      "text/plain": [
       "(60000, 10)"
      ]
     },
     "execution_count": 522,
     "metadata": {},
     "output_type": "execute_result"
    }
   ],
   "source": [
    "to_categorical(y_train).shape"
   ]
  },
  {
   "cell_type": "code",
   "execution_count": 523,
   "id": "8b5bec14-d483-41b7-9c5d-92dd97436a05",
   "metadata": {
    "tags": []
   },
   "outputs": [],
   "source": [
    "X_train = X_train.reshape(-1,28*28)"
   ]
  },
  {
   "cell_type": "code",
   "execution_count": 524,
   "id": "d6193eea-a499-4348-bcc1-f917d63978f5",
   "metadata": {
    "tags": []
   },
   "outputs": [
    {
     "data": {
      "text/plain": [
       "(60000, 784)"
      ]
     },
     "execution_count": 524,
     "metadata": {},
     "output_type": "execute_result"
    }
   ],
   "source": [
    "X_train.shape"
   ]
  },
  {
   "cell_type": "code",
   "execution_count": 531,
   "id": "997b7f88-84fd-4ef0-980e-05e54523cbb8",
   "metadata": {
    "tags": []
   },
   "outputs": [],
   "source": [
    "y_train = to_categorical(y_train)"
   ]
  },
  {
   "cell_type": "code",
   "execution_count": 539,
   "id": "e94a21c5-4584-4f55-b89c-0af863897d82",
   "metadata": {
    "tags": []
   },
   "outputs": [],
   "source": [
    "model = Sequential()\n",
    "model.add(Dense(256,activation='sigmoid',input_shape=(784,)))\n",
    "model.add(Dense(100,activation='sigmoid'))\n",
    "model.add(Dense(10,activation='softmax'))"
   ]
  },
  {
   "cell_type": "code",
   "execution_count": 540,
   "id": "f543cb95-5c0c-415c-9a94-9dd0f387ab9e",
   "metadata": {
    "tags": []
   },
   "outputs": [],
   "source": [
    "opt = 'adam'\n",
    "loss = 'categorical_crossentropy'\n",
    "metrics = ['accuracy']\n",
    "model.compile(loss = loss, optimizer = opt, metrics = metrics)"
   ]
  },
  {
   "cell_type": "code",
   "execution_count": 541,
   "id": "f3d32a01-d9c8-475e-83f9-f93186e41e4b",
   "metadata": {
    "collapsed": true,
    "jupyter": {
     "outputs_hidden": true
    },
    "tags": []
   },
   "outputs": [
    {
     "name": "stdout",
     "output_type": "stream",
     "text": [
      "Epoch 1/100\n",
      "1206/1875 [==================>...........] - ETA: 1s - loss: 0.5406 - accuracy: 0.8605"
     ]
    },
    {
     "ename": "KeyboardInterrupt",
     "evalue": "",
     "output_type": "error",
     "traceback": [
      "\u001b[1;31m---------------------------------------------------------------------------\u001b[0m",
      "\u001b[1;31mKeyboardInterrupt\u001b[0m                         Traceback (most recent call last)",
      "Cell \u001b[1;32mIn[541], line 1\u001b[0m\n\u001b[1;32m----> 1\u001b[0m \u001b[43mmodel\u001b[49m\u001b[38;5;241;43m.\u001b[39;49m\u001b[43mfit\u001b[49m\u001b[43m(\u001b[49m\u001b[43mX_train\u001b[49m\u001b[43m,\u001b[49m\u001b[43m \u001b[49m\u001b[43my_train\u001b[49m\u001b[43m,\u001b[49m\u001b[43m \u001b[49m\u001b[43mepochs\u001b[49m\u001b[38;5;241;43m=\u001b[39;49m\u001b[38;5;241;43m100\u001b[39;49m\u001b[43m)\u001b[49m\n",
      "File \u001b[1;32m~\\anaconda3\\Lib\\site-packages\\keras\\src\\utils\\traceback_utils.py:65\u001b[0m, in \u001b[0;36mfilter_traceback.<locals>.error_handler\u001b[1;34m(*args, **kwargs)\u001b[0m\n\u001b[0;32m     63\u001b[0m filtered_tb \u001b[38;5;241m=\u001b[39m \u001b[38;5;28;01mNone\u001b[39;00m\n\u001b[0;32m     64\u001b[0m \u001b[38;5;28;01mtry\u001b[39;00m:\n\u001b[1;32m---> 65\u001b[0m     \u001b[38;5;28;01mreturn\u001b[39;00m \u001b[43mfn\u001b[49m\u001b[43m(\u001b[49m\u001b[38;5;241;43m*\u001b[39;49m\u001b[43margs\u001b[49m\u001b[43m,\u001b[49m\u001b[43m \u001b[49m\u001b[38;5;241;43m*\u001b[39;49m\u001b[38;5;241;43m*\u001b[39;49m\u001b[43mkwargs\u001b[49m\u001b[43m)\u001b[49m\n\u001b[0;32m     66\u001b[0m \u001b[38;5;28;01mexcept\u001b[39;00m \u001b[38;5;167;01mException\u001b[39;00m \u001b[38;5;28;01mas\u001b[39;00m e:\n\u001b[0;32m     67\u001b[0m     filtered_tb \u001b[38;5;241m=\u001b[39m _process_traceback_frames(e\u001b[38;5;241m.\u001b[39m__traceback__)\n",
      "File \u001b[1;32m~\\anaconda3\\Lib\\site-packages\\keras\\src\\engine\\training.py:1807\u001b[0m, in \u001b[0;36mModel.fit\u001b[1;34m(self, x, y, batch_size, epochs, verbose, callbacks, validation_split, validation_data, shuffle, class_weight, sample_weight, initial_epoch, steps_per_epoch, validation_steps, validation_batch_size, validation_freq, max_queue_size, workers, use_multiprocessing)\u001b[0m\n\u001b[0;32m   1799\u001b[0m \u001b[38;5;28;01mwith\u001b[39;00m tf\u001b[38;5;241m.\u001b[39mprofiler\u001b[38;5;241m.\u001b[39mexperimental\u001b[38;5;241m.\u001b[39mTrace(\n\u001b[0;32m   1800\u001b[0m     \u001b[38;5;124m\"\u001b[39m\u001b[38;5;124mtrain\u001b[39m\u001b[38;5;124m\"\u001b[39m,\n\u001b[0;32m   1801\u001b[0m     epoch_num\u001b[38;5;241m=\u001b[39mepoch,\n\u001b[1;32m   (...)\u001b[0m\n\u001b[0;32m   1804\u001b[0m     _r\u001b[38;5;241m=\u001b[39m\u001b[38;5;241m1\u001b[39m,\n\u001b[0;32m   1805\u001b[0m ):\n\u001b[0;32m   1806\u001b[0m     callbacks\u001b[38;5;241m.\u001b[39mon_train_batch_begin(step)\n\u001b[1;32m-> 1807\u001b[0m     tmp_logs \u001b[38;5;241m=\u001b[39m \u001b[38;5;28;43mself\u001b[39;49m\u001b[38;5;241;43m.\u001b[39;49m\u001b[43mtrain_function\u001b[49m\u001b[43m(\u001b[49m\u001b[43miterator\u001b[49m\u001b[43m)\u001b[49m\n\u001b[0;32m   1808\u001b[0m     \u001b[38;5;28;01mif\u001b[39;00m data_handler\u001b[38;5;241m.\u001b[39mshould_sync:\n\u001b[0;32m   1809\u001b[0m         context\u001b[38;5;241m.\u001b[39masync_wait()\n",
      "File \u001b[1;32m~\\anaconda3\\Lib\\site-packages\\tensorflow\\python\\util\\traceback_utils.py:150\u001b[0m, in \u001b[0;36mfilter_traceback.<locals>.error_handler\u001b[1;34m(*args, **kwargs)\u001b[0m\n\u001b[0;32m    148\u001b[0m filtered_tb \u001b[38;5;241m=\u001b[39m \u001b[38;5;28;01mNone\u001b[39;00m\n\u001b[0;32m    149\u001b[0m \u001b[38;5;28;01mtry\u001b[39;00m:\n\u001b[1;32m--> 150\u001b[0m   \u001b[38;5;28;01mreturn\u001b[39;00m \u001b[43mfn\u001b[49m\u001b[43m(\u001b[49m\u001b[38;5;241;43m*\u001b[39;49m\u001b[43margs\u001b[49m\u001b[43m,\u001b[49m\u001b[43m \u001b[49m\u001b[38;5;241;43m*\u001b[39;49m\u001b[38;5;241;43m*\u001b[39;49m\u001b[43mkwargs\u001b[49m\u001b[43m)\u001b[49m\n\u001b[0;32m    151\u001b[0m \u001b[38;5;28;01mexcept\u001b[39;00m \u001b[38;5;167;01mException\u001b[39;00m \u001b[38;5;28;01mas\u001b[39;00m e:\n\u001b[0;32m    152\u001b[0m   filtered_tb \u001b[38;5;241m=\u001b[39m _process_traceback_frames(e\u001b[38;5;241m.\u001b[39m__traceback__)\n",
      "File \u001b[1;32m~\\anaconda3\\Lib\\site-packages\\tensorflow\\python\\eager\\polymorphic_function\\polymorphic_function.py:832\u001b[0m, in \u001b[0;36mFunction.__call__\u001b[1;34m(self, *args, **kwds)\u001b[0m\n\u001b[0;32m    829\u001b[0m compiler \u001b[38;5;241m=\u001b[39m \u001b[38;5;124m\"\u001b[39m\u001b[38;5;124mxla\u001b[39m\u001b[38;5;124m\"\u001b[39m \u001b[38;5;28;01mif\u001b[39;00m \u001b[38;5;28mself\u001b[39m\u001b[38;5;241m.\u001b[39m_jit_compile \u001b[38;5;28;01melse\u001b[39;00m \u001b[38;5;124m\"\u001b[39m\u001b[38;5;124mnonXla\u001b[39m\u001b[38;5;124m\"\u001b[39m\n\u001b[0;32m    831\u001b[0m \u001b[38;5;28;01mwith\u001b[39;00m OptionalXlaContext(\u001b[38;5;28mself\u001b[39m\u001b[38;5;241m.\u001b[39m_jit_compile):\n\u001b[1;32m--> 832\u001b[0m   result \u001b[38;5;241m=\u001b[39m \u001b[38;5;28;43mself\u001b[39;49m\u001b[38;5;241;43m.\u001b[39;49m\u001b[43m_call\u001b[49m\u001b[43m(\u001b[49m\u001b[38;5;241;43m*\u001b[39;49m\u001b[43margs\u001b[49m\u001b[43m,\u001b[49m\u001b[43m \u001b[49m\u001b[38;5;241;43m*\u001b[39;49m\u001b[38;5;241;43m*\u001b[39;49m\u001b[43mkwds\u001b[49m\u001b[43m)\u001b[49m\n\u001b[0;32m    834\u001b[0m new_tracing_count \u001b[38;5;241m=\u001b[39m \u001b[38;5;28mself\u001b[39m\u001b[38;5;241m.\u001b[39mexperimental_get_tracing_count()\n\u001b[0;32m    835\u001b[0m without_tracing \u001b[38;5;241m=\u001b[39m (tracing_count \u001b[38;5;241m==\u001b[39m new_tracing_count)\n",
      "File \u001b[1;32m~\\anaconda3\\Lib\\site-packages\\tensorflow\\python\\eager\\polymorphic_function\\polymorphic_function.py:868\u001b[0m, in \u001b[0;36mFunction._call\u001b[1;34m(self, *args, **kwds)\u001b[0m\n\u001b[0;32m    865\u001b[0m   \u001b[38;5;28mself\u001b[39m\u001b[38;5;241m.\u001b[39m_lock\u001b[38;5;241m.\u001b[39mrelease()\n\u001b[0;32m    866\u001b[0m   \u001b[38;5;66;03m# In this case we have created variables on the first call, so we run the\u001b[39;00m\n\u001b[0;32m    867\u001b[0m   \u001b[38;5;66;03m# defunned version which is guaranteed to never create variables.\u001b[39;00m\n\u001b[1;32m--> 868\u001b[0m   \u001b[38;5;28;01mreturn\u001b[39;00m \u001b[43mtracing_compilation\u001b[49m\u001b[38;5;241;43m.\u001b[39;49m\u001b[43mcall_function\u001b[49m\u001b[43m(\u001b[49m\n\u001b[0;32m    869\u001b[0m \u001b[43m      \u001b[49m\u001b[43margs\u001b[49m\u001b[43m,\u001b[49m\u001b[43m \u001b[49m\u001b[43mkwds\u001b[49m\u001b[43m,\u001b[49m\u001b[43m \u001b[49m\u001b[38;5;28;43mself\u001b[39;49m\u001b[38;5;241;43m.\u001b[39;49m\u001b[43m_no_variable_creation_config\u001b[49m\n\u001b[0;32m    870\u001b[0m \u001b[43m  \u001b[49m\u001b[43m)\u001b[49m\n\u001b[0;32m    871\u001b[0m \u001b[38;5;28;01melif\u001b[39;00m \u001b[38;5;28mself\u001b[39m\u001b[38;5;241m.\u001b[39m_variable_creation_config \u001b[38;5;129;01mis\u001b[39;00m \u001b[38;5;129;01mnot\u001b[39;00m \u001b[38;5;28;01mNone\u001b[39;00m:\n\u001b[0;32m    872\u001b[0m   \u001b[38;5;66;03m# Release the lock early so that multiple threads can perform the call\u001b[39;00m\n\u001b[0;32m    873\u001b[0m   \u001b[38;5;66;03m# in parallel.\u001b[39;00m\n\u001b[0;32m    874\u001b[0m   \u001b[38;5;28mself\u001b[39m\u001b[38;5;241m.\u001b[39m_lock\u001b[38;5;241m.\u001b[39mrelease()\n",
      "File \u001b[1;32m~\\anaconda3\\Lib\\site-packages\\tensorflow\\python\\eager\\polymorphic_function\\tracing_compilation.py:139\u001b[0m, in \u001b[0;36mcall_function\u001b[1;34m(args, kwargs, tracing_options)\u001b[0m\n\u001b[0;32m    137\u001b[0m bound_args \u001b[38;5;241m=\u001b[39m function\u001b[38;5;241m.\u001b[39mfunction_type\u001b[38;5;241m.\u001b[39mbind(\u001b[38;5;241m*\u001b[39margs, \u001b[38;5;241m*\u001b[39m\u001b[38;5;241m*\u001b[39mkwargs)\n\u001b[0;32m    138\u001b[0m flat_inputs \u001b[38;5;241m=\u001b[39m function\u001b[38;5;241m.\u001b[39mfunction_type\u001b[38;5;241m.\u001b[39munpack_inputs(bound_args)\n\u001b[1;32m--> 139\u001b[0m \u001b[38;5;28;01mreturn\u001b[39;00m \u001b[43mfunction\u001b[49m\u001b[38;5;241;43m.\u001b[39;49m\u001b[43m_call_flat\u001b[49m\u001b[43m(\u001b[49m\u001b[43m  \u001b[49m\u001b[38;5;66;43;03m# pylint: disable=protected-access\u001b[39;49;00m\n\u001b[0;32m    140\u001b[0m \u001b[43m    \u001b[49m\u001b[43mflat_inputs\u001b[49m\u001b[43m,\u001b[49m\u001b[43m \u001b[49m\u001b[43mcaptured_inputs\u001b[49m\u001b[38;5;241;43m=\u001b[39;49m\u001b[43mfunction\u001b[49m\u001b[38;5;241;43m.\u001b[39;49m\u001b[43mcaptured_inputs\u001b[49m\n\u001b[0;32m    141\u001b[0m \u001b[43m\u001b[49m\u001b[43m)\u001b[49m\n",
      "File \u001b[1;32m~\\anaconda3\\Lib\\site-packages\\tensorflow\\python\\eager\\polymorphic_function\\concrete_function.py:1323\u001b[0m, in \u001b[0;36mConcreteFunction._call_flat\u001b[1;34m(self, tensor_inputs, captured_inputs)\u001b[0m\n\u001b[0;32m   1319\u001b[0m possible_gradient_type \u001b[38;5;241m=\u001b[39m gradients_util\u001b[38;5;241m.\u001b[39mPossibleTapeGradientTypes(args)\n\u001b[0;32m   1320\u001b[0m \u001b[38;5;28;01mif\u001b[39;00m (possible_gradient_type \u001b[38;5;241m==\u001b[39m gradients_util\u001b[38;5;241m.\u001b[39mPOSSIBLE_GRADIENT_TYPES_NONE\n\u001b[0;32m   1321\u001b[0m     \u001b[38;5;129;01mand\u001b[39;00m executing_eagerly):\n\u001b[0;32m   1322\u001b[0m   \u001b[38;5;66;03m# No tape is watching; skip to running the function.\u001b[39;00m\n\u001b[1;32m-> 1323\u001b[0m   \u001b[38;5;28;01mreturn\u001b[39;00m \u001b[38;5;28;43mself\u001b[39;49m\u001b[38;5;241;43m.\u001b[39;49m\u001b[43m_inference_function\u001b[49m\u001b[38;5;241;43m.\u001b[39;49m\u001b[43mcall_preflattened\u001b[49m\u001b[43m(\u001b[49m\u001b[43margs\u001b[49m\u001b[43m)\u001b[49m\n\u001b[0;32m   1324\u001b[0m forward_backward \u001b[38;5;241m=\u001b[39m \u001b[38;5;28mself\u001b[39m\u001b[38;5;241m.\u001b[39m_select_forward_and_backward_functions(\n\u001b[0;32m   1325\u001b[0m     args,\n\u001b[0;32m   1326\u001b[0m     possible_gradient_type,\n\u001b[0;32m   1327\u001b[0m     executing_eagerly)\n\u001b[0;32m   1328\u001b[0m forward_function, args_with_tangents \u001b[38;5;241m=\u001b[39m forward_backward\u001b[38;5;241m.\u001b[39mforward()\n",
      "File \u001b[1;32m~\\anaconda3\\Lib\\site-packages\\tensorflow\\python\\eager\\polymorphic_function\\atomic_function.py:216\u001b[0m, in \u001b[0;36mAtomicFunction.call_preflattened\u001b[1;34m(self, args)\u001b[0m\n\u001b[0;32m    214\u001b[0m \u001b[38;5;28;01mdef\u001b[39;00m \u001b[38;5;21mcall_preflattened\u001b[39m(\u001b[38;5;28mself\u001b[39m, args: Sequence[core\u001b[38;5;241m.\u001b[39mTensor]) \u001b[38;5;241m-\u001b[39m\u001b[38;5;241m>\u001b[39m Any:\n\u001b[0;32m    215\u001b[0m \u001b[38;5;250m  \u001b[39m\u001b[38;5;124;03m\"\"\"Calls with flattened tensor inputs and returns the structured output.\"\"\"\u001b[39;00m\n\u001b[1;32m--> 216\u001b[0m   flat_outputs \u001b[38;5;241m=\u001b[39m \u001b[38;5;28;43mself\u001b[39;49m\u001b[38;5;241;43m.\u001b[39;49m\u001b[43mcall_flat\u001b[49m\u001b[43m(\u001b[49m\u001b[38;5;241;43m*\u001b[39;49m\u001b[43margs\u001b[49m\u001b[43m)\u001b[49m\n\u001b[0;32m    217\u001b[0m   \u001b[38;5;28;01mreturn\u001b[39;00m \u001b[38;5;28mself\u001b[39m\u001b[38;5;241m.\u001b[39mfunction_type\u001b[38;5;241m.\u001b[39mpack_output(flat_outputs)\n",
      "File \u001b[1;32m~\\anaconda3\\Lib\\site-packages\\tensorflow\\python\\eager\\polymorphic_function\\atomic_function.py:251\u001b[0m, in \u001b[0;36mAtomicFunction.call_flat\u001b[1;34m(self, *args)\u001b[0m\n\u001b[0;32m    249\u001b[0m \u001b[38;5;28;01mwith\u001b[39;00m record\u001b[38;5;241m.\u001b[39mstop_recording():\n\u001b[0;32m    250\u001b[0m   \u001b[38;5;28;01mif\u001b[39;00m \u001b[38;5;28mself\u001b[39m\u001b[38;5;241m.\u001b[39m_bound_context\u001b[38;5;241m.\u001b[39mexecuting_eagerly():\n\u001b[1;32m--> 251\u001b[0m     outputs \u001b[38;5;241m=\u001b[39m \u001b[38;5;28;43mself\u001b[39;49m\u001b[38;5;241;43m.\u001b[39;49m\u001b[43m_bound_context\u001b[49m\u001b[38;5;241;43m.\u001b[39;49m\u001b[43mcall_function\u001b[49m\u001b[43m(\u001b[49m\n\u001b[0;32m    252\u001b[0m \u001b[43m        \u001b[49m\u001b[38;5;28;43mself\u001b[39;49m\u001b[38;5;241;43m.\u001b[39;49m\u001b[43mname\u001b[49m\u001b[43m,\u001b[49m\n\u001b[0;32m    253\u001b[0m \u001b[43m        \u001b[49m\u001b[38;5;28;43mlist\u001b[39;49m\u001b[43m(\u001b[49m\u001b[43margs\u001b[49m\u001b[43m)\u001b[49m\u001b[43m,\u001b[49m\n\u001b[0;32m    254\u001b[0m \u001b[43m        \u001b[49m\u001b[38;5;28;43mlen\u001b[39;49m\u001b[43m(\u001b[49m\u001b[38;5;28;43mself\u001b[39;49m\u001b[38;5;241;43m.\u001b[39;49m\u001b[43mfunction_type\u001b[49m\u001b[38;5;241;43m.\u001b[39;49m\u001b[43mflat_outputs\u001b[49m\u001b[43m)\u001b[49m\u001b[43m,\u001b[49m\n\u001b[0;32m    255\u001b[0m \u001b[43m    \u001b[49m\u001b[43m)\u001b[49m\n\u001b[0;32m    256\u001b[0m   \u001b[38;5;28;01melse\u001b[39;00m:\n\u001b[0;32m    257\u001b[0m     outputs \u001b[38;5;241m=\u001b[39m make_call_op_in_graph(\n\u001b[0;32m    258\u001b[0m         \u001b[38;5;28mself\u001b[39m,\n\u001b[0;32m    259\u001b[0m         \u001b[38;5;28mlist\u001b[39m(args),\n\u001b[0;32m    260\u001b[0m         \u001b[38;5;28mself\u001b[39m\u001b[38;5;241m.\u001b[39m_bound_context\u001b[38;5;241m.\u001b[39mfunction_call_options\u001b[38;5;241m.\u001b[39mas_attrs(),\n\u001b[0;32m    261\u001b[0m     )\n",
      "File \u001b[1;32m~\\anaconda3\\Lib\\site-packages\\tensorflow\\python\\eager\\context.py:1486\u001b[0m, in \u001b[0;36mContext.call_function\u001b[1;34m(self, name, tensor_inputs, num_outputs)\u001b[0m\n\u001b[0;32m   1484\u001b[0m cancellation_context \u001b[38;5;241m=\u001b[39m cancellation\u001b[38;5;241m.\u001b[39mcontext()\n\u001b[0;32m   1485\u001b[0m \u001b[38;5;28;01mif\u001b[39;00m cancellation_context \u001b[38;5;129;01mis\u001b[39;00m \u001b[38;5;28;01mNone\u001b[39;00m:\n\u001b[1;32m-> 1486\u001b[0m   outputs \u001b[38;5;241m=\u001b[39m \u001b[43mexecute\u001b[49m\u001b[38;5;241;43m.\u001b[39;49m\u001b[43mexecute\u001b[49m\u001b[43m(\u001b[49m\n\u001b[0;32m   1487\u001b[0m \u001b[43m      \u001b[49m\u001b[43mname\u001b[49m\u001b[38;5;241;43m.\u001b[39;49m\u001b[43mdecode\u001b[49m\u001b[43m(\u001b[49m\u001b[38;5;124;43m\"\u001b[39;49m\u001b[38;5;124;43mutf-8\u001b[39;49m\u001b[38;5;124;43m\"\u001b[39;49m\u001b[43m)\u001b[49m\u001b[43m,\u001b[49m\n\u001b[0;32m   1488\u001b[0m \u001b[43m      \u001b[49m\u001b[43mnum_outputs\u001b[49m\u001b[38;5;241;43m=\u001b[39;49m\u001b[43mnum_outputs\u001b[49m\u001b[43m,\u001b[49m\n\u001b[0;32m   1489\u001b[0m \u001b[43m      \u001b[49m\u001b[43minputs\u001b[49m\u001b[38;5;241;43m=\u001b[39;49m\u001b[43mtensor_inputs\u001b[49m\u001b[43m,\u001b[49m\n\u001b[0;32m   1490\u001b[0m \u001b[43m      \u001b[49m\u001b[43mattrs\u001b[49m\u001b[38;5;241;43m=\u001b[39;49m\u001b[43mattrs\u001b[49m\u001b[43m,\u001b[49m\n\u001b[0;32m   1491\u001b[0m \u001b[43m      \u001b[49m\u001b[43mctx\u001b[49m\u001b[38;5;241;43m=\u001b[39;49m\u001b[38;5;28;43mself\u001b[39;49m\u001b[43m,\u001b[49m\n\u001b[0;32m   1492\u001b[0m \u001b[43m  \u001b[49m\u001b[43m)\u001b[49m\n\u001b[0;32m   1493\u001b[0m \u001b[38;5;28;01melse\u001b[39;00m:\n\u001b[0;32m   1494\u001b[0m   outputs \u001b[38;5;241m=\u001b[39m execute\u001b[38;5;241m.\u001b[39mexecute_with_cancellation(\n\u001b[0;32m   1495\u001b[0m       name\u001b[38;5;241m.\u001b[39mdecode(\u001b[38;5;124m\"\u001b[39m\u001b[38;5;124mutf-8\u001b[39m\u001b[38;5;124m\"\u001b[39m),\n\u001b[0;32m   1496\u001b[0m       num_outputs\u001b[38;5;241m=\u001b[39mnum_outputs,\n\u001b[1;32m   (...)\u001b[0m\n\u001b[0;32m   1500\u001b[0m       cancellation_manager\u001b[38;5;241m=\u001b[39mcancellation_context,\n\u001b[0;32m   1501\u001b[0m   )\n",
      "File \u001b[1;32m~\\anaconda3\\Lib\\site-packages\\tensorflow\\python\\eager\\execute.py:53\u001b[0m, in \u001b[0;36mquick_execute\u001b[1;34m(op_name, num_outputs, inputs, attrs, ctx, name)\u001b[0m\n\u001b[0;32m     51\u001b[0m \u001b[38;5;28;01mtry\u001b[39;00m:\n\u001b[0;32m     52\u001b[0m   ctx\u001b[38;5;241m.\u001b[39mensure_initialized()\n\u001b[1;32m---> 53\u001b[0m   tensors \u001b[38;5;241m=\u001b[39m \u001b[43mpywrap_tfe\u001b[49m\u001b[38;5;241;43m.\u001b[39;49m\u001b[43mTFE_Py_Execute\u001b[49m\u001b[43m(\u001b[49m\u001b[43mctx\u001b[49m\u001b[38;5;241;43m.\u001b[39;49m\u001b[43m_handle\u001b[49m\u001b[43m,\u001b[49m\u001b[43m \u001b[49m\u001b[43mdevice_name\u001b[49m\u001b[43m,\u001b[49m\u001b[43m \u001b[49m\u001b[43mop_name\u001b[49m\u001b[43m,\u001b[49m\n\u001b[0;32m     54\u001b[0m \u001b[43m                                      \u001b[49m\u001b[43minputs\u001b[49m\u001b[43m,\u001b[49m\u001b[43m \u001b[49m\u001b[43mattrs\u001b[49m\u001b[43m,\u001b[49m\u001b[43m \u001b[49m\u001b[43mnum_outputs\u001b[49m\u001b[43m)\u001b[49m\n\u001b[0;32m     55\u001b[0m \u001b[38;5;28;01mexcept\u001b[39;00m core\u001b[38;5;241m.\u001b[39m_NotOkStatusException \u001b[38;5;28;01mas\u001b[39;00m e:\n\u001b[0;32m     56\u001b[0m   \u001b[38;5;28;01mif\u001b[39;00m name \u001b[38;5;129;01mis\u001b[39;00m \u001b[38;5;129;01mnot\u001b[39;00m \u001b[38;5;28;01mNone\u001b[39;00m:\n",
      "\u001b[1;31mKeyboardInterrupt\u001b[0m: "
     ]
    }
   ],
   "source": [
    "model.fit(X_train, y_train, epochs=100)"
   ]
  },
  {
   "cell_type": "code",
   "execution_count": 553,
   "id": "4fc3c835-3a71-4797-9c5a-6ed6a275e194",
   "metadata": {
    "tags": []
   },
   "outputs": [],
   "source": [
    "def linear(x):\n",
    "    return x\n",
    "\n",
    "def relu(x):\n",
    "    return np.where(x > 0, x, 0)"
   ]
  },
  {
   "cell_type": "code",
   "execution_count": 573,
   "id": "9a4eade7-4a2e-4b0a-806f-76a180281575",
   "metadata": {
    "tags": []
   },
   "outputs": [],
   "source": [
    "class SequentialModel:\n",
    "    def __init__(self,x,y,output_shape, activation='linear'):\n",
    "        self.activation_dic = {\n",
    "            'linear' : linear,\n",
    "            'sigmoid' : sigmoid,\n",
    "            'relu' : relu\n",
    "        }\n",
    "        self.x = x\n",
    "        self.y = y\n",
    "        self.activation = [activation]\n",
    "        # output_shape = y.shape[1]\n",
    "        self.W = [[np.random.randn(self.x.shape[1], output_shape), \n",
    "                  np.zeros(output_shape)]]\n",
    "    \n",
    "    def add(self,output,activation='linear'):\n",
    "        self.input = self.W[-1][0].shape[1]\n",
    "        self.W.append([np.random.randn(self.input,output),np.zeros(output)])\n",
    "        self.activation.append(activation)\n",
    "        \n",
    "    def predict(self, x):\n",
    "        self.y_hat = x.copy()\n",
    "        for i in range(len(self.W)):\n",
    "            self.y_hat = np.dot(self.y_hat, self.W[i][0]) + self.W[i][1]\n",
    "            self.y_hat = self.activation_dic[self.activation[i]](self.y_hat)\n",
    "        return self.y_hat\n",
    "    \n",
    "    def compile(self, loss):\n",
    "        \n",
    "        pass\n",
    "            "
   ]
  },
  {
   "cell_type": "code",
   "execution_count": 569,
   "id": "2fcf7a01-2a85-47f9-a0ac-77508062dd61",
   "metadata": {
    "tags": []
   },
   "outputs": [],
   "source": [
    "model = SequentialModel(np.random.randn(100,20), np.random.randn(100,5),50)"
   ]
  },
  {
   "cell_type": "code",
   "execution_count": 570,
   "id": "25759e73-575e-4e59-8864-e236b5b3b108",
   "metadata": {
    "tags": []
   },
   "outputs": [],
   "source": [
    "model.add(300,'sigmoid')\n",
    "model.add(150,'relu')\n",
    "model.add(5,'relu')"
   ]
  },
  {
   "cell_type": "code",
   "execution_count": 571,
   "id": "ec9f5393-7690-4b03-b04e-81c8581b7fe8",
   "metadata": {
    "tags": []
   },
   "outputs": [
    {
     "data": {
      "text/plain": [
       "array([[  0.        ,   0.        ,   0.        ,   0.        ,\n",
       "         28.4391368 ],\n",
       "       [  0.        ,   0.        ,   0.        ,  57.68332959,\n",
       "        101.60803912],\n",
       "       [  0.        ,   0.        ,   5.08173566,   0.        ,\n",
       "          0.        ],\n",
       "       [  0.        ,   0.        ,  13.42301642,   0.        ,\n",
       "        170.40175709],\n",
       "       [  0.        ,   0.        ,   0.        ,  34.98735888,\n",
       "        126.38626947],\n",
       "       [  0.        ,   0.        ,   0.        ,   0.        ,\n",
       "        125.08792415],\n",
       "       [  0.        ,   0.        ,   3.69725224,  43.35572314,\n",
       "        166.67577997],\n",
       "       [  0.        ,   0.        ,   0.        ,   0.        ,\n",
       "        102.38134595],\n",
       "       [  0.        ,   0.        ,   0.        ,   0.        ,\n",
       "        161.96346663],\n",
       "       [  0.        ,   0.        ,  15.68799133,   0.        ,\n",
       "        123.02515457]])"
      ]
     },
     "execution_count": 571,
     "metadata": {},
     "output_type": "execute_result"
    }
   ],
   "source": [
    "model.predict(np.random.randn(10,20))"
   ]
  },
  {
   "cell_type": "code",
   "execution_count": 574,
   "id": "c2c05b8f-4b5a-4604-854a-b61cc5ce656d",
   "metadata": {
    "tags": []
   },
   "outputs": [
    {
     "ename": "AttributeError",
     "evalue": "'SequentialModel' object has no attribute 'compile'",
     "output_type": "error",
     "traceback": [
      "\u001b[1;31m---------------------------------------------------------------------------\u001b[0m",
      "\u001b[1;31mAttributeError\u001b[0m                            Traceback (most recent call last)",
      "Cell \u001b[1;32mIn[574], line 1\u001b[0m\n\u001b[1;32m----> 1\u001b[0m \u001b[43mmodel\u001b[49m\u001b[38;5;241;43m.\u001b[39;49m\u001b[43mcompile\u001b[49m()\n",
      "\u001b[1;31mAttributeError\u001b[0m: 'SequentialModel' object has no attribute 'compile'"
     ]
    }
   ],
   "source": [
    "model.compile()"
   ]
  },
  {
   "cell_type": "code",
   "execution_count": 556,
   "id": "272b2ced-5b15-4431-85a0-21e574d493ca",
   "metadata": {
    "tags": []
   },
   "outputs": [],
   "source": [
    "model.add(256,activation='sigmoid')"
   ]
  },
  {
   "cell_type": "code",
   "execution_count": 558,
   "id": "1ca7e919-6c9b-4e04-8166-8e48d75d5b08",
   "metadata": {
    "tags": []
   },
   "outputs": [
    {
     "data": {
      "text/plain": [
       "([[array([[ 1.96117089,  0.69807651, -0.83225076, ..., -1.85027514,\n",
       "            0.65537162,  0.69051308],\n",
       "          [-1.72899532,  0.71629164, -0.25458445, ...,  0.45514864,\n",
       "            0.54172202, -0.14524139],\n",
       "          [-0.5210521 ,  0.1077967 , -0.97102892, ...,  0.00466994,\n",
       "           -0.6381946 , -0.27971172],\n",
       "          ...,\n",
       "          [ 0.76139387,  0.6298401 ,  0.09611707, ...,  0.97273082,\n",
       "            2.63429522,  0.80512648],\n",
       "          [-2.1844373 , -0.39863187,  0.18327245, ...,  1.25600288,\n",
       "           -0.56856501, -0.99857557],\n",
       "          [-1.17116897, -1.37121831,  0.1911763 , ...,  0.49262461,\n",
       "           -1.45590873, -0.10380217]]),\n",
       "   array([0., 0., 0., 0., 0., 0., 0., 0., 0., 0., 0., 0., 0., 0., 0., 0., 0.,\n",
       "          0., 0., 0., 0., 0., 0., 0., 0., 0., 0., 0., 0., 0., 0., 0., 0., 0.,\n",
       "          0., 0., 0., 0., 0., 0., 0., 0., 0., 0., 0., 0., 0., 0., 0., 0., 0.,\n",
       "          0., 0., 0., 0., 0., 0., 0., 0., 0., 0., 0., 0., 0., 0., 0., 0., 0.,\n",
       "          0., 0., 0., 0., 0., 0., 0., 0., 0., 0., 0., 0., 0., 0., 0., 0., 0.,\n",
       "          0., 0., 0., 0., 0., 0., 0., 0., 0., 0., 0., 0., 0., 0., 0.])],\n",
       "  [array([[-0.94091754, -0.16852418, -2.14761802, ..., -0.5098505 ,\n",
       "            0.8695147 ,  0.74106977],\n",
       "          [ 1.10196122, -0.96119951, -0.79259388, ...,  0.72884268,\n",
       "           -0.05060831,  0.33655545],\n",
       "          [ 0.31669083,  0.10505068,  0.06285772, ...,  0.9073823 ,\n",
       "            0.58229268, -0.22674613],\n",
       "          ...,\n",
       "          [ 0.64375294,  0.43805472,  0.01582799, ..., -1.0832251 ,\n",
       "            0.52552245, -0.00413485],\n",
       "          [ 0.72955291,  0.7344857 , -1.13649012, ...,  0.28360809,\n",
       "           -0.19171499, -0.12998073],\n",
       "          [-0.62846045,  0.13152851, -0.10493667, ..., -0.26765587,\n",
       "           -0.38768212, -0.94780336]]),\n",
       "   array([0., 0., 0., 0., 0., 0., 0., 0., 0., 0., 0., 0., 0., 0., 0., 0., 0.,\n",
       "          0., 0., 0., 0., 0., 0., 0., 0., 0., 0., 0., 0., 0., 0., 0., 0., 0.,\n",
       "          0., 0., 0., 0., 0., 0., 0., 0., 0., 0., 0., 0., 0., 0., 0., 0., 0.,\n",
       "          0., 0., 0., 0., 0., 0., 0., 0., 0., 0., 0., 0., 0., 0., 0., 0., 0.,\n",
       "          0., 0., 0., 0., 0., 0., 0., 0., 0., 0., 0., 0., 0., 0., 0., 0., 0.,\n",
       "          0., 0., 0., 0., 0., 0., 0., 0., 0., 0., 0., 0., 0., 0., 0., 0., 0.,\n",
       "          0., 0., 0., 0., 0., 0., 0., 0., 0., 0., 0., 0., 0., 0., 0., 0., 0.,\n",
       "          0., 0., 0., 0., 0., 0., 0., 0., 0., 0., 0., 0., 0., 0., 0., 0., 0.,\n",
       "          0., 0., 0., 0., 0., 0., 0., 0., 0., 0., 0., 0., 0., 0., 0., 0., 0.,\n",
       "          0., 0., 0., 0., 0., 0., 0., 0., 0., 0., 0., 0., 0., 0., 0., 0., 0.,\n",
       "          0., 0., 0., 0., 0., 0., 0., 0., 0., 0., 0., 0., 0., 0., 0., 0., 0.,\n",
       "          0., 0., 0., 0., 0., 0., 0., 0., 0., 0., 0., 0., 0., 0., 0., 0., 0.,\n",
       "          0., 0., 0., 0., 0., 0., 0., 0., 0., 0., 0., 0., 0., 0., 0., 0., 0.,\n",
       "          0., 0., 0., 0., 0., 0., 0., 0., 0., 0., 0., 0., 0., 0., 0., 0., 0.,\n",
       "          0., 0., 0., 0., 0., 0., 0., 0., 0., 0., 0., 0., 0., 0., 0., 0., 0.,\n",
       "          0.])]],\n",
       " ['sigmoid', 'sigmoid'])"
      ]
     },
     "execution_count": 558,
     "metadata": {},
     "output_type": "execute_result"
    }
   ],
   "source": [
    "model.W, model.activation"
   ]
  },
  {
   "cell_type": "code",
   "execution_count": 577,
   "id": "30420f38-202e-4341-b73a-42f7862c2470",
   "metadata": {
    "tags": []
   },
   "outputs": [],
   "source": [
    "import torch"
   ]
  },
  {
   "cell_type": "code",
   "execution_count": null,
   "id": "463d4f1e-94d8-4259-ae1b-45f30f8f39b1",
   "metadata": {},
   "outputs": [],
   "source": []
  }
 ],
 "metadata": {
  "kernelspec": {
   "display_name": "Python 3 (ipykernel)",
   "language": "python",
   "name": "python3"
  },
  "language_info": {
   "codemirror_mode": {
    "name": "ipython",
    "version": 3
   },
   "file_extension": ".py",
   "mimetype": "text/x-python",
   "name": "python",
   "nbconvert_exporter": "python",
   "pygments_lexer": "ipython3",
   "version": "3.11.4"
  }
 },
 "nbformat": 4,
 "nbformat_minor": 5
}
