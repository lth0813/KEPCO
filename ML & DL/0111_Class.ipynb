{
 "cells": [
  {
   "cell_type": "code",
   "execution_count": 1,
   "id": "cd634288-4adf-4ef8-b345-c59a56e6b0cb",
   "metadata": {
    "tags": []
   },
   "outputs": [],
   "source": [
    "import numpy as np\n",
    "from scipy.special import expit"
   ]
  },
  {
   "cell_type": "code",
   "execution_count": 2,
   "id": "3c8da0ed-fb3b-4a82-9a69-ba534f13aff4",
   "metadata": {
    "tags": []
   },
   "outputs": [
    {
     "name": "stdout",
     "output_type": "stream",
     "text": [
      "WARNING:tensorflow:From C:\\Users\\user\\anaconda3\\Lib\\site-packages\\keras\\src\\losses.py:2976: The name tf.losses.sparse_softmax_cross_entropy is deprecated. Please use tf.compat.v1.losses.sparse_softmax_cross_entropy instead.\n",
      "\n"
     ]
    }
   ],
   "source": [
    "from tensorflow.keras.datasets import mnist"
   ]
  },
  {
   "cell_type": "code",
   "execution_count": 3,
   "id": "6442daf1-901d-48aa-aca7-37132213d2aa",
   "metadata": {
    "tags": []
   },
   "outputs": [],
   "source": [
    "def sigmoid(x):\n",
    "    return 1/(1+np.exp(-x))\n",
    "\n",
    "(X_train, y_train), (X_test, y_test) = mnist.load_data()\n",
    "X_train = X_train.reshape(-1,784)\n",
    "\n",
    "\n",
    "# Normal\n",
    "#init1 = np.random.randn(784,256)\n",
    "\n",
    "# Xavier\n",
    "n_xaiver = 1/np.sqrt(np.prod(X_train.shape))\n",
    "init1 = np.random.normal(loc=0,scale=n_xaiver,size=(784,256))\n",
    "layer1 = np.dot(X_train, init1)\n",
    "\n",
    "# He\n",
    "n_he = 2/np.sqrt(np.prod(X_train.shape))\n",
    "init2 = np.random.normal(loc=0,scale=n_xaiver,size=(784,256))\n",
    "layer2 = np.dot(X_train, init2)\n",
    "\n",
    "# sigmoid\n",
    "layer1 = expit(layer1)\n",
    "\n",
    "# relu\n",
    "layer2 = np.where(layer2 > 0, layer2, 0)"
   ]
  },
  {
   "cell_type": "code",
   "execution_count": 4,
   "id": "86cd4ad5-a861-4b6a-baf5-a00d5b91b11e",
   "metadata": {
    "tags": []
   },
   "outputs": [
    {
     "data": {
      "text/plain": [
       "(array([[4.8708e+04, 6.9790e+03, 3.0940e+03, ..., 0.0000e+00, 0.0000e+00,\n",
       "         0.0000e+00],\n",
       "        [5.9076e+04, 7.6400e+02, 1.4200e+02, ..., 0.0000e+00, 0.0000e+00,\n",
       "         0.0000e+00],\n",
       "        [5.9962e+04, 3.8000e+01, 0.0000e+00, ..., 0.0000e+00, 0.0000e+00,\n",
       "         0.0000e+00],\n",
       "        ...,\n",
       "        [3.4618e+04, 1.3841e+04, 7.6850e+03, ..., 0.0000e+00, 0.0000e+00,\n",
       "         0.0000e+00],\n",
       "        [5.8753e+04, 1.1910e+03, 5.6000e+01, ..., 0.0000e+00, 0.0000e+00,\n",
       "         0.0000e+00],\n",
       "        [4.9811e+04, 7.6330e+03, 2.1170e+03, ..., 0.0000e+00, 0.0000e+00,\n",
       "         0.0000e+00]]),\n",
       " array([0.        , 0.1897784 , 0.3795568 , 0.56933519, 0.75911359,\n",
       "        0.94889199, 1.13867039, 1.32844879, 1.51822718, 1.70800558,\n",
       "        1.89778398]),\n",
       " <a list of 256 BarContainer objects>)"
      ]
     },
     "execution_count": 4,
     "metadata": {},
     "output_type": "execute_result"
    },
    {
     "data": {
      "image/png": "[encoded data removed]",
      "text/plain": [
       "<Figure size 640x480 with 1 Axes>"
      ]
     },
     "metadata": {},
     "output_type": "display_data"
    }
   ],
   "source": [
    "import matplotlib.pyplot as plt\n",
    "plt.hist(layer2)"
   ]
  },
  {
   "cell_type": "code",
   "execution_count": 5,
   "id": "7063e9a9-b7b9-44f3-bf1f-2c71f248fb49",
   "metadata": {
    "tags": []
   },
   "outputs": [],
   "source": [
    "from tensorflow.keras.datasets import cifar10"
   ]
  },
  {
   "cell_type": "code",
   "execution_count": 6,
   "id": "cb711bb3-6f73-45d6-b3ed-9aecba578b79",
   "metadata": {
    "tags": []
   },
   "outputs": [],
   "source": [
    "(X_train, y_train), (X_test, y_test) = cifar10.load_data()"
   ]
  },
  {
   "cell_type": "code",
   "execution_count": 7,
   "id": "ad4dbe9b-38da-4f63-a3b1-eceb39b81768",
   "metadata": {
    "tags": []
   },
   "outputs": [],
   "source": [
    "from tensorflow.keras.layers import Dense, Flatten, BatchNormalization, Dropout\n",
    "from tensorflow.keras.utils import to_categorical\n",
    "from tensorflow.keras.models import Sequential, load_model, save_model"
   ]
  },
  {
   "cell_type": "code",
   "execution_count": 8,
   "id": "9777875d-3313-483a-a236-1d17fb839487",
   "metadata": {
    "tags": []
   },
   "outputs": [
    {
     "data": {
      "text/plain": [
       "<matplotlib.image.AxesImage at 0x1a984208a90>"
      ]
     },
     "execution_count": 8,
     "metadata": {},
     "output_type": "execute_result"
    },
    {
     "data": {
      "image/png": "[encoded data removed]",
      "text/plain": [
       "<Figure size 640x480 with 1 Axes>"
      ]
     },
     "metadata": {},
     "output_type": "display_data"
    }
   ],
   "source": [
    "plt.imshow(X_test[10])"
   ]
  },
  {
   "cell_type": "code",
   "execution_count": 9,
   "id": "aa5b04da-2bdc-4869-88a1-88ae0a61b121",
   "metadata": {
    "tags": []
   },
   "outputs": [],
   "source": [
    "cifar10_dic = {\n",
    "    0 : \"airplane\",\n",
    "    1 : \"automobile\",\n",
    "    2 : \"bird\",\n",
    "    3 : \"cat\",\n",
    "    4 : \"deer\",\n",
    "    5 : \"dog\",\n",
    "    6 : \"frog\",\n",
    "    7 : \"horse\",\n",
    "    8 : \"ship\",\n",
    "    9 : \"truck\"\n",
    "}"
   ]
  },
  {
   "cell_type": "code",
   "execution_count": 38,
   "id": "545d0f84-9d55-4e3b-9e45-d4ab70861db4",
   "metadata": {
    "tags": []
   },
   "outputs": [
    {
     "data": {
      "text/plain": [
       "'airplane'"
      ]
     },
     "execution_count": 38,
     "metadata": {},
     "output_type": "execute_result"
    }
   ],
   "source": [
    "cifar10_dic[y_test[10][0]]"
   ]
  },
  {
   "cell_type": "code",
   "execution_count": 81,
   "id": "8d49fe40-8573-4251-a946-634723ee8781",
   "metadata": {
    "tags": []
   },
   "outputs": [],
   "source": [
    "y_train = to_categorical(y_train)\n",
    "y_test = to_categorical(y_test)"
   ]
  },
  {
   "cell_type": "code",
   "execution_count": 82,
   "id": "6c1ceff2-5152-42fe-b05e-160de605db09",
   "metadata": {
    "tags": []
   },
   "outputs": [],
   "source": [
    "input_shape = X_train.shape[1:]\n",
    "output_shape = y_train.shape[1]"
   ]
  },
  {
   "cell_type": "code",
   "execution_count": 83,
   "id": "98a43c55-c120-4d53-b311-1879b9df9614",
   "metadata": {
    "tags": []
   },
   "outputs": [],
   "source": [
    "model = Sequential(\n",
    "[\n",
    "    Flatten(input_shape=input_shape),\n",
    "    Dense(256, activation = 'relu'),\n",
    "    Dense(128, activation = 'relu'),\n",
    "    Dense(64, activation = 'relu'),\n",
    "    Dense(output_shape, activation = 'softmax')\n",
    "])"
   ]
  },
  {
   "cell_type": "code",
   "execution_count": 84,
   "id": "7694a84c-05c1-464a-8080-acf19aa33b04",
   "metadata": {
    "tags": []
   },
   "outputs": [],
   "source": [
    "model.compile(optimizer='adam',loss='categorical_crossentropy',metrics='accuracy')"
   ]
  },
  {
   "cell_type": "code",
   "execution_count": 85,
   "id": "d6967706-7630-40ed-a0c9-879a4587fd5b",
   "metadata": {
    "collapsed": true,
    "jupyter": {
     "outputs_hidden": true
    },
    "tags": []
   },
   "outputs": [
    {
     "name": "stdout",
     "output_type": "stream",
     "text": [
      "Epoch 1/100\n",
      "1563/1563 [==============================] - 9s 5ms/step - loss: 9.5241 - accuracy: 0.2109 - val_loss: 2.2394 - val_accuracy: 0.2357\n",
      "Epoch 2/100\n",
      "1563/1563 [==============================] - 8s 5ms/step - loss: 2.0775 - accuracy: 0.2693 - val_loss: 1.9699 - val_accuracy: 0.2862\n",
      "Epoch 3/100\n",
      "1563/1563 [==============================] - 8s 5ms/step - loss: 2.0451 - accuracy: 0.2748 - val_loss: 2.1197 - val_accuracy: 0.2098\n",
      "Epoch 4/100\n",
      "1563/1563 [==============================] - 8s 5ms/step - loss: 2.0198 - accuracy: 0.2486 - val_loss: 1.9550 - val_accuracy: 0.2649\n",
      "Epoch 5/100\n",
      "1563/1563 [==============================] - 8s 5ms/step - loss: 1.9850 - accuracy: 0.2515 - val_loss: 1.9634 - val_accuracy: 0.2429\n",
      "Epoch 6/100\n",
      "1563/1563 [==============================] - 8s 5ms/step - loss: 1.9702 - accuracy: 0.2526 - val_loss: 1.9698 - val_accuracy: 0.2476\n",
      "Epoch 7/100\n",
      "1563/1563 [==============================] - 8s 5ms/step - loss: 1.9375 - accuracy: 0.2717 - val_loss: 1.9137 - val_accuracy: 0.2816\n",
      "Epoch 8/100\n",
      "1563/1563 [==============================] - 8s 5ms/step - loss: 1.9435 - accuracy: 0.2681 - val_loss: 1.9049 - val_accuracy: 0.2721\n",
      "Epoch 9/100\n",
      "1563/1563 [==============================] - 8s 5ms/step - loss: 1.9061 - accuracy: 0.2838 - val_loss: 1.8967 - val_accuracy: 0.2796\n",
      "Epoch 10/100\n",
      "1563/1563 [==============================] - 8s 5ms/step - loss: 1.8970 - accuracy: 0.2885 - val_loss: 1.8803 - val_accuracy: 0.2832\n",
      "Epoch 11/100\n",
      "1563/1563 [==============================] - 8s 5ms/step - loss: 1.8945 - accuracy: 0.2910 - val_loss: 1.8985 - val_accuracy: 0.2861\n",
      "Epoch 12/100\n",
      "1563/1563 [==============================] - 8s 5ms/step - loss: 1.8841 - accuracy: 0.2985 - val_loss: 1.8654 - val_accuracy: 0.3003\n",
      "Epoch 13/100\n",
      "1563/1563 [==============================] - 8s 5ms/step - loss: 1.8740 - accuracy: 0.3006 - val_loss: 1.9321 - val_accuracy: 0.2843\n",
      "Epoch 14/100\n",
      "1563/1563 [==============================] - 8s 5ms/step - loss: 1.8794 - accuracy: 0.2996 - val_loss: 1.8524 - val_accuracy: 0.3025\n",
      "Epoch 15/100\n",
      "1563/1563 [==============================] - 8s 5ms/step - loss: 1.8642 - accuracy: 0.3074 - val_loss: 1.8871 - val_accuracy: 0.2786\n",
      "Epoch 16/100\n",
      "1563/1563 [==============================] - 8s 5ms/step - loss: 1.8644 - accuracy: 0.3057 - val_loss: 1.8408 - val_accuracy: 0.3148\n",
      "Epoch 17/100\n",
      "1563/1563 [==============================] - 8s 5ms/step - loss: 1.8611 - accuracy: 0.3072 - val_loss: 1.8590 - val_accuracy: 0.3091\n",
      "Epoch 18/100\n",
      "1563/1563 [==============================] - 8s 5ms/step - loss: 1.8781 - accuracy: 0.3039 - val_loss: 1.9923 - val_accuracy: 0.2637\n",
      "Epoch 19/100\n",
      "1563/1563 [==============================] - 8s 5ms/step - loss: 1.8731 - accuracy: 0.3053 - val_loss: 1.8438 - val_accuracy: 0.3179\n",
      "Epoch 20/100\n",
      "1563/1563 [==============================] - 8s 5ms/step - loss: 1.8544 - accuracy: 0.3124 - val_loss: 1.8367 - val_accuracy: 0.3139\n",
      "Epoch 21/100\n",
      "1563/1563 [==============================] - 8s 5ms/step - loss: 1.8521 - accuracy: 0.3129 - val_loss: 1.8384 - val_accuracy: 0.3138\n",
      "Epoch 22/100\n",
      "1563/1563 [==============================] - 8s 5ms/step - loss: 1.8551 - accuracy: 0.3107 - val_loss: 1.8436 - val_accuracy: 0.3163\n",
      "Epoch 23/100\n",
      "1563/1563 [==============================] - 8s 5ms/step - loss: 1.8555 - accuracy: 0.3093 - val_loss: 1.8963 - val_accuracy: 0.2782\n",
      "Epoch 24/100\n",
      "1563/1563 [==============================] - 8s 5ms/step - loss: 1.8512 - accuracy: 0.3072 - val_loss: 1.8566 - val_accuracy: 0.3045\n",
      "Epoch 25/100\n",
      "1563/1563 [==============================] - 8s 5ms/step - loss: 1.8598 - accuracy: 0.3085 - val_loss: 1.8501 - val_accuracy: 0.3080\n",
      "Epoch 26/100\n",
      "1563/1563 [==============================] - 8s 5ms/step - loss: 1.8457 - accuracy: 0.3155 - val_loss: 1.8451 - val_accuracy: 0.3104\n",
      "Epoch 27/100\n",
      "1563/1563 [==============================] - 8s 5ms/step - loss: 1.8428 - accuracy: 0.3134 - val_loss: 1.8484 - val_accuracy: 0.3124\n",
      "Epoch 28/100\n",
      "1563/1563 [==============================] - 8s 5ms/step - loss: 1.8442 - accuracy: 0.3144 - val_loss: 1.8395 - val_accuracy: 0.3089\n",
      "Epoch 29/100\n",
      "1563/1563 [==============================] - 8s 5ms/step - loss: 1.8866 - accuracy: 0.2925 - val_loss: 1.8360 - val_accuracy: 0.3104\n",
      "Epoch 30/100\n",
      "1563/1563 [==============================] - 8s 5ms/step - loss: 1.8448 - accuracy: 0.3112 - val_loss: 1.8513 - val_accuracy: 0.3036\n",
      "Epoch 31/100\n",
      "1563/1563 [==============================] - 8s 5ms/step - loss: 1.8419 - accuracy: 0.3137 - val_loss: 1.8285 - val_accuracy: 0.3121\n",
      "Epoch 32/100\n",
      "1563/1563 [==============================] - 8s 5ms/step - loss: 1.8420 - accuracy: 0.3133 - val_loss: 1.8708 - val_accuracy: 0.2889\n",
      "Epoch 33/100\n",
      "1563/1563 [==============================] - 8s 5ms/step - loss: 1.8416 - accuracy: 0.3146 - val_loss: 1.8686 - val_accuracy: 0.2984\n",
      "Epoch 34/100\n",
      "1563/1563 [==============================] - 8s 5ms/step - loss: 1.8468 - accuracy: 0.3174 - val_loss: 1.8423 - val_accuracy: 0.3138\n",
      "Epoch 35/100\n",
      "1563/1563 [==============================] - 8s 5ms/step - loss: 1.8335 - accuracy: 0.3195 - val_loss: 1.8304 - val_accuracy: 0.3129\n",
      "Epoch 36/100\n",
      "1563/1563 [==============================] - 8s 5ms/step - loss: 1.8436 - accuracy: 0.3116 - val_loss: 1.8377 - val_accuracy: 0.3183\n",
      "Epoch 37/100\n",
      "1563/1563 [==============================] - 8s 5ms/step - loss: 1.8318 - accuracy: 0.3199 - val_loss: 1.8727 - val_accuracy: 0.3009\n",
      "Epoch 38/100\n",
      "1563/1563 [==============================] - 8s 5ms/step - loss: 1.8344 - accuracy: 0.3198 - val_loss: 1.8559 - val_accuracy: 0.3062\n",
      "Epoch 39/100\n",
      "1563/1563 [==============================] - 8s 5ms/step - loss: 1.8343 - accuracy: 0.3184 - val_loss: 1.9317 - val_accuracy: 0.2888\n",
      "Epoch 40/100\n",
      "1563/1563 [==============================] - 8s 5ms/step - loss: 1.8785 - accuracy: 0.3009 - val_loss: 1.8641 - val_accuracy: 0.3080\n",
      "Epoch 41/100\n",
      "1563/1563 [==============================] - 8s 5ms/step - loss: 1.8526 - accuracy: 0.3108 - val_loss: 1.8338 - val_accuracy: 0.3174\n",
      "Epoch 42/100\n",
      "1563/1563 [==============================] - 8s 5ms/step - loss: 1.8279 - accuracy: 0.3190 - val_loss: 1.8368 - val_accuracy: 0.3141\n",
      "Epoch 43/100\n",
      "1563/1563 [==============================] - 8s 5ms/step - loss: 1.8408 - accuracy: 0.3132 - val_loss: 1.8395 - val_accuracy: 0.3119\n",
      "Epoch 44/100\n",
      "1563/1563 [==============================] - 8s 5ms/step - loss: 1.8253 - accuracy: 0.3226 - val_loss: 1.8261 - val_accuracy: 0.3132\n",
      "Epoch 45/100\n",
      "1563/1563 [==============================] - 8s 5ms/step - loss: 1.8295 - accuracy: 0.3198 - val_loss: 1.8431 - val_accuracy: 0.3119\n",
      "Epoch 46/100\n",
      "1563/1563 [==============================] - 8s 5ms/step - loss: 1.8401 - accuracy: 0.3150 - val_loss: 1.8475 - val_accuracy: 0.3050\n",
      "Epoch 47/100\n",
      "1563/1563 [==============================] - 8s 5ms/step - loss: 1.8225 - accuracy: 0.3227 - val_loss: 1.8425 - val_accuracy: 0.3157\n",
      "Epoch 48/100\n",
      "1563/1563 [==============================] - 8s 5ms/step - loss: 1.8166 - accuracy: 0.3268 - val_loss: 1.8284 - val_accuracy: 0.3188\n",
      "Epoch 49/100\n",
      "1563/1563 [==============================] - 8s 5ms/step - loss: 1.8316 - accuracy: 0.3169 - val_loss: 1.8409 - val_accuracy: 0.3097\n",
      "Epoch 50/100\n",
      "1563/1563 [==============================] - 8s 5ms/step - loss: 1.8191 - accuracy: 0.3244 - val_loss: 1.8589 - val_accuracy: 0.3007\n",
      "Epoch 51/100\n",
      "1563/1563 [==============================] - 8s 5ms/step - loss: 1.8240 - accuracy: 0.3237 - val_loss: 1.8335 - val_accuracy: 0.3094\n",
      "Epoch 52/100\n",
      "1563/1563 [==============================] - 8s 5ms/step - loss: 2.0314 - accuracy: 0.2286 - val_loss: 1.9617 - val_accuracy: 0.2546\n",
      "Epoch 53/100\n",
      "1563/1563 [==============================] - 8s 5ms/step - loss: 1.8398 - accuracy: 0.3172 - val_loss: 1.8312 - val_accuracy: 0.3122\n",
      "Epoch 54/100\n",
      "1563/1563 [==============================] - 8s 5ms/step - loss: 1.8274 - accuracy: 0.3217 - val_loss: 1.8398 - val_accuracy: 0.3177\n",
      "Epoch 55/100\n",
      "1563/1563 [==============================] - 8s 5ms/step - loss: 1.8350 - accuracy: 0.3175 - val_loss: 1.8459 - val_accuracy: 0.3119\n",
      "Epoch 56/100\n",
      "1563/1563 [==============================] - 8s 5ms/step - loss: 1.8269 - accuracy: 0.3222 - val_loss: 1.8294 - val_accuracy: 0.3147\n",
      "Epoch 57/100\n",
      "1563/1563 [==============================] - 8s 5ms/step - loss: 1.8301 - accuracy: 0.3201 - val_loss: 1.8399 - val_accuracy: 0.3151\n",
      "Epoch 58/100\n",
      "1563/1563 [==============================] - 8s 5ms/step - loss: 1.8273 - accuracy: 0.3221 - val_loss: 1.8642 - val_accuracy: 0.3069\n",
      "Epoch 59/100\n",
      "1563/1563 [==============================] - 8s 5ms/step - loss: 1.8225 - accuracy: 0.3226 - val_loss: 1.8275 - val_accuracy: 0.3158\n",
      "Epoch 60/100\n",
      "1563/1563 [==============================] - 8s 5ms/step - loss: 1.8383 - accuracy: 0.3183 - val_loss: 1.8992 - val_accuracy: 0.2971\n",
      "Epoch 61/100\n",
      "1563/1563 [==============================] - 8s 5ms/step - loss: 1.8214 - accuracy: 0.3242 - val_loss: 1.8258 - val_accuracy: 0.3178\n",
      "Epoch 62/100\n",
      "1563/1563 [==============================] - 8s 5ms/step - loss: 1.8537 - accuracy: 0.3084 - val_loss: 1.8599 - val_accuracy: 0.3097\n",
      "Epoch 63/100\n",
      "1563/1563 [==============================] - 8s 5ms/step - loss: 1.8342 - accuracy: 0.3194 - val_loss: 1.8325 - val_accuracy: 0.3213\n",
      "Epoch 64/100\n",
      "1563/1563 [==============================] - 8s 5ms/step - loss: 1.8372 - accuracy: 0.3168 - val_loss: 1.8661 - val_accuracy: 0.3044\n",
      "Epoch 65/100\n",
      "1563/1563 [==============================] - 8s 5ms/step - loss: 1.8148 - accuracy: 0.3275 - val_loss: 1.8194 - val_accuracy: 0.3237\n",
      "Epoch 66/100\n",
      "1563/1563 [==============================] - 8s 5ms/step - loss: 1.8264 - accuracy: 0.3227 - val_loss: 1.8468 - val_accuracy: 0.3055\n",
      "Epoch 67/100\n",
      "1563/1563 [==============================] - 8s 5ms/step - loss: 1.8313 - accuracy: 0.3194 - val_loss: 1.8531 - val_accuracy: 0.3050\n",
      "Epoch 68/100\n",
      "1563/1563 [==============================] - 8s 5ms/step - loss: 1.8776 - accuracy: 0.2949 - val_loss: 1.9425 - val_accuracy: 0.2545\n",
      "Epoch 69/100\n",
      "1563/1563 [==============================] - 8s 5ms/step - loss: 1.9164 - accuracy: 0.2589 - val_loss: 1.8591 - val_accuracy: 0.3010\n",
      "Epoch 70/100\n",
      "1563/1563 [==============================] - 8s 5ms/step - loss: 1.8220 - accuracy: 0.3236 - val_loss: 1.8268 - val_accuracy: 0.3243\n",
      "Epoch 71/100\n",
      "1563/1563 [==============================] - 8s 5ms/step - loss: 1.8360 - accuracy: 0.3210 - val_loss: 1.9726 - val_accuracy: 0.2689\n",
      "Epoch 72/100\n",
      "1563/1563 [==============================] - 9s 6ms/step - loss: 1.8736 - accuracy: 0.3028 - val_loss: 1.8674 - val_accuracy: 0.3038\n",
      "Epoch 73/100\n",
      "1563/1563 [==============================] - 9s 6ms/step - loss: 1.9344 - accuracy: 0.2748 - val_loss: 1.8733 - val_accuracy: 0.3007\n",
      "Epoch 74/100\n",
      "1563/1563 [==============================] - 9s 6ms/step - loss: 1.8309 - accuracy: 0.3248 - val_loss: 1.8325 - val_accuracy: 0.3195\n",
      "Epoch 75/100\n",
      "1563/1563 [==============================] - 9s 6ms/step - loss: 1.9058 - accuracy: 0.2871 - val_loss: 1.8689 - val_accuracy: 0.3048\n",
      "Epoch 76/100\n",
      "1563/1563 [==============================] - 9s 6ms/step - loss: 1.8175 - accuracy: 0.3283 - val_loss: 1.8472 - val_accuracy: 0.3104\n",
      "Epoch 77/100\n",
      "1563/1563 [==============================] - 9s 6ms/step - loss: 1.8369 - accuracy: 0.3183 - val_loss: 1.9091 - val_accuracy: 0.2895\n",
      "Epoch 78/100\n",
      "1563/1563 [==============================] - 9s 6ms/step - loss: 1.8438 - accuracy: 0.3126 - val_loss: 1.8738 - val_accuracy: 0.3118\n",
      "Epoch 79/100\n",
      "1563/1563 [==============================] - 9s 6ms/step - loss: 1.8150 - accuracy: 0.3255 - val_loss: 1.8399 - val_accuracy: 0.3049\n",
      "Epoch 80/100\n",
      "1563/1563 [==============================] - 10s 6ms/step - loss: 1.8834 - accuracy: 0.3043 - val_loss: 1.9823 - val_accuracy: 0.2616\n",
      "Epoch 81/100\n",
      "1563/1563 [==============================] - 9s 6ms/step - loss: 1.8733 - accuracy: 0.3019 - val_loss: 1.8261 - val_accuracy: 0.3170\n",
      "Epoch 82/100\n",
      "1563/1563 [==============================] - 9s 5ms/step - loss: 1.8352 - accuracy: 0.3190 - val_loss: 1.8469 - val_accuracy: 0.3154\n",
      "Epoch 83/100\n",
      "1563/1563 [==============================] - 8s 5ms/step - loss: 1.8682 - accuracy: 0.3094 - val_loss: 2.2989 - val_accuracy: 0.1032\n",
      "Epoch 84/100\n",
      "1563/1563 [==============================] - 8s 5ms/step - loss: 2.1066 - accuracy: 0.1715 - val_loss: 2.0598 - val_accuracy: 0.1807\n",
      "Epoch 85/100\n",
      "1563/1563 [==============================] - 8s 5ms/step - loss: 2.0197 - accuracy: 0.2055 - val_loss: 1.8818 - val_accuracy: 0.2992\n",
      "Epoch 86/100\n",
      "1563/1563 [==============================] - 8s 5ms/step - loss: 1.8298 - accuracy: 0.3230 - val_loss: 1.8900 - val_accuracy: 0.2888\n",
      "Epoch 87/100\n",
      "1563/1563 [==============================] - 8s 5ms/step - loss: 1.8182 - accuracy: 0.3261 - val_loss: 1.8283 - val_accuracy: 0.3210\n",
      "Epoch 88/100\n",
      "1563/1563 [==============================] - 8s 5ms/step - loss: 1.8289 - accuracy: 0.3236 - val_loss: 1.8382 - val_accuracy: 0.3161\n",
      "Epoch 89/100\n",
      "1563/1563 [==============================] - 8s 5ms/step - loss: 1.9140 - accuracy: 0.2807 - val_loss: 1.8724 - val_accuracy: 0.2979\n",
      "Epoch 90/100\n",
      "1563/1563 [==============================] - 8s 5ms/step - loss: 1.8190 - accuracy: 0.3228 - val_loss: 1.8457 - val_accuracy: 0.3139\n",
      "Epoch 91/100\n",
      "1563/1563 [==============================] - 8s 5ms/step - loss: 1.8169 - accuracy: 0.3252 - val_loss: 1.8302 - val_accuracy: 0.3227\n",
      "Epoch 92/100\n",
      "1563/1563 [==============================] - 8s 5ms/step - loss: 1.8303 - accuracy: 0.3203 - val_loss: 1.8579 - val_accuracy: 0.3141\n",
      "Epoch 93/100\n",
      "1563/1563 [==============================] - 8s 5ms/step - loss: 2.0017 - accuracy: 0.2557 - val_loss: 1.9805 - val_accuracy: 0.2505\n",
      "Epoch 94/100\n",
      "1563/1563 [==============================] - 8s 5ms/step - loss: 1.8830 - accuracy: 0.2976 - val_loss: 1.8291 - val_accuracy: 0.3169\n",
      "Epoch 95/100\n",
      "1563/1563 [==============================] - 8s 5ms/step - loss: 1.8159 - accuracy: 0.3263 - val_loss: 1.8340 - val_accuracy: 0.3134\n",
      "Epoch 96/100\n",
      "1563/1563 [==============================] - 8s 5ms/step - loss: 1.8645 - accuracy: 0.3044 - val_loss: 1.8465 - val_accuracy: 0.3104\n",
      "Epoch 97/100\n",
      "1563/1563 [==============================] - 8s 5ms/step - loss: 1.8409 - accuracy: 0.3202 - val_loss: 1.8412 - val_accuracy: 0.3176\n",
      "Epoch 98/100\n",
      "1563/1563 [==============================] - 8s 5ms/step - loss: 2.0000 - accuracy: 0.2544 - val_loss: 1.9916 - val_accuracy: 0.2545\n",
      "Epoch 99/100\n",
      "1563/1563 [==============================] - 8s 5ms/step - loss: 1.8344 - accuracy: 0.3212 - val_loss: 1.8644 - val_accuracy: 0.3046\n",
      "Epoch 100/100\n",
      "1563/1563 [==============================] - 8s 5ms/step - loss: 1.8534 - accuracy: 0.3082 - val_loss: 1.8386 - val_accuracy: 0.3087\n"
     ]
    },
    {
     "data": {
      "text/plain": [
       "<keras.src.callbacks.History at 0x29a07948f50>"
      ]
     },
     "execution_count": 85,
     "metadata": {},
     "output_type": "execute_result"
    }
   ],
   "source": [
    "model.fit(X_train,y_train,epochs=100,validation_data=(X_test,y_test))"
   ]
  },
  {
   "cell_type": "code",
   "execution_count": 192,
   "id": "d1f1efc2-8c1e-4c1a-a201-a42678be9162",
   "metadata": {
    "tags": []
   },
   "outputs": [],
   "source": [
    "def cifar_predict(x):\n",
    "    x1 = X_test[x]\n",
    "    y = y_test[x]\n",
    "    x2 = x1.reshape(-1,32,32,3)\n",
    "    answer = np.argmax(model.predict(x2))\n",
    "    print(f'예측한 그림은 {cifar10_dic[answer]} 입니다')\n",
    "    print(f'정답은 {cifar10_dic[np.argmax(y)]} 입니다')\n",
    "    if cifar10_dic[answer] == cifar10_dic[np.argmax(y)]:\n",
    "        print('예측 성공!')\n",
    "    else:\n",
    "        print('예측 실패..')\n",
    "    plt.imshow(x1)\n",
    "    plt.show()"
   ]
  },
  {
   "cell_type": "code",
   "execution_count": 202,
   "id": "9d57729c-c527-43ef-b7f6-c59d73777fa6",
   "metadata": {
    "tags": []
   },
   "outputs": [
    {
     "name": "stdout",
     "output_type": "stream",
     "text": [
      "1/1 [==============================] - 0s 17ms/step\n",
      "예측한 그림은 truck 입니다\n",
      "정답은 truck 입니다\n",
      "예측 성공!\n"
     ]
    },
    {
     "data": {
      "image/png": "[encoded data removed]",
      "text/plain": [
       "<Figure size 640x480 with 1 Axes>"
      ]
     },
     "metadata": {},
     "output_type": "display_data"
    }
   ],
   "source": [
    "cifar_predict(1104)"
   ]
  },
  {
   "cell_type": "code",
   "execution_count": 203,
   "id": "b35519d1-62b6-451e-b4cb-b4c883a33613",
   "metadata": {
    "tags": []
   },
   "outputs": [],
   "source": [
    "(X_train, y_train), (X_test, y_test) = cifar10.load_data()\n",
    "y_train = to_categorical(y_train)\n",
    "y_test = to_categorical(y_test)\n",
    "input_shape = X_train.shape[1:]\n",
    "output_shape = y_train.shape[1]"
   ]
  },
  {
   "cell_type": "code",
   "execution_count": 205,
   "id": "f6c60e16-aefd-4431-8c5d-1f70a8c12357",
   "metadata": {
    "tags": []
   },
   "outputs": [
    {
     "name": "stdout",
     "output_type": "stream",
     "text": [
      "Epoch 1/10\n",
      "1563/1563 [==============================] - 11s 6ms/step - loss: 1.7130 - accuracy: 0.3906 - val_loss: 1.5088 - val_accuracy: 0.4638\n",
      "Epoch 2/10\n",
      "1563/1563 [==============================] - 10s 7ms/step - loss: 1.5099 - accuracy: 0.4633 - val_loss: 1.4034 - val_accuracy: 0.5015\n",
      "Epoch 3/10\n",
      "1563/1563 [==============================] - 10s 7ms/step - loss: 1.4206 - accuracy: 0.4950 - val_loss: 1.3716 - val_accuracy: 0.5097\n",
      "Epoch 4/10\n",
      "1563/1563 [==============================] - 10s 7ms/step - loss: 1.3546 - accuracy: 0.5190 - val_loss: 1.3386 - val_accuracy: 0.5252\n",
      "Epoch 5/10\n",
      "1563/1563 [==============================] - 10s 7ms/step - loss: 1.2960 - accuracy: 0.5402 - val_loss: 1.3292 - val_accuracy: 0.5248\n",
      "Epoch 6/10\n",
      "1563/1563 [==============================] - 10s 7ms/step - loss: 1.2586 - accuracy: 0.5517 - val_loss: 1.3042 - val_accuracy: 0.5336\n",
      "Epoch 7/10\n",
      "1563/1563 [==============================] - 10s 7ms/step - loss: 1.2076 - accuracy: 0.5710 - val_loss: 1.2935 - val_accuracy: 0.5421\n",
      "Epoch 8/10\n",
      "1563/1563 [==============================] - 10s 6ms/step - loss: 1.1743 - accuracy: 0.5820 - val_loss: 1.2834 - val_accuracy: 0.5501\n",
      "Epoch 9/10\n",
      "1563/1563 [==============================] - 10s 7ms/step - loss: 1.1329 - accuracy: 0.5958 - val_loss: 1.2801 - val_accuracy: 0.5474\n",
      "Epoch 10/10\n",
      "1563/1563 [==============================] - 10s 6ms/step - loss: 1.1075 - accuracy: 0.6084 - val_loss: 1.2813 - val_accuracy: 0.5430\n"
     ]
    },
    {
     "data": {
      "text/plain": [
       "<keras.src.callbacks.History at 0x29a42982c10>"
      ]
     },
     "execution_count": 205,
     "metadata": {},
     "output_type": "execute_result"
    }
   ],
   "source": [
    "model = Sequential(\n",
    "[\n",
    "    Flatten(input_shape=input_shape),\n",
    "    BatchNormalization(),\n",
    "    Dense(256, activation = 'relu'),\n",
    "    BatchNormalization(),\n",
    "    Dense(128, activation = 'relu'),\n",
    "    BatchNormalization(),\n",
    "    Dense(64, activation = 'relu'),\n",
    "    BatchNormalization(),\n",
    "    Dense(output_shape, activation = 'softmax')\n",
    "])\n",
    "\n",
    "model.compile(optimizer='adam',loss='categorical_crossentropy',metrics='accuracy')\n",
    "model.fit(X_train,y_train,epochs=10,validation_data=(X_test,y_test))"
   ]
  },
  {
   "cell_type": "code",
   "execution_count": 228,
   "id": "33b342f0-8ccb-4ebf-83d4-74f56ad1f32e",
   "metadata": {
    "tags": []
   },
   "outputs": [
    {
     "name": "stdout",
     "output_type": "stream",
     "text": [
      "1/1 [==============================] - 0s 17ms/step\n",
      "예측한 그림은 truck 입니다\n",
      "정답은 truck 입니다\n",
      "예측 성공!\n"
     ]
    },
    {
     "data": {
      "image/png": "[encoded data removed]",
      "text/plain": [
       "<Figure size 640x480 with 1 Axes>"
      ]
     },
     "metadata": {},
     "output_type": "display_data"
    }
   ],
   "source": [
    "cifar_predict(23)"
   ]
  },
  {
   "cell_type": "code",
   "execution_count": 236,
   "id": "def63e3e-4928-4142-a26f-ad972c04a718",
   "metadata": {
    "tags": []
   },
   "outputs": [
    {
     "name": "stdout",
     "output_type": "stream",
     "text": [
      "INFO:tensorflow:Assets written to: model/model.h6\\assets\n"
     ]
    },
    {
     "name": "stderr",
     "output_type": "stream",
     "text": [
      "INFO:tensorflow:Assets written to: model/model.h6\\assets\n"
     ]
    }
   ],
   "source": [
    "save_model(model,'model/model.h6')"
   ]
  },
  {
   "cell_type": "code",
   "execution_count": 237,
   "id": "c1e5a497-80b8-4476-ada1-d30de47969e7",
   "metadata": {
    "tags": []
   },
   "outputs": [],
   "source": [
    "cifar_model = load_model('model/model.h5')"
   ]
  },
  {
   "cell_type": "code",
   "execution_count": 241,
   "id": "ef5a9154-f088-4056-816a-eba233bb28e9",
   "metadata": {
    "tags": []
   },
   "outputs": [
    {
     "name": "stdout",
     "output_type": "stream",
     "text": [
      "1/1 [==============================] - 0s 16ms/step\n"
     ]
    },
    {
     "data": {
      "text/plain": [
       "9"
      ]
     },
     "execution_count": 241,
     "metadata": {},
     "output_type": "execute_result"
    }
   ],
   "source": [
    "np.argmax(cifar_model.predict(X_test[[1]]))"
   ]
  },
  {
   "cell_type": "code",
   "execution_count": 242,
   "id": "23912099-08ac-4097-8e24-b2755dd97527",
   "metadata": {
    "tags": []
   },
   "outputs": [
    {
     "name": "stdout",
     "output_type": "stream",
     "text": [
      "1/1 [==============================] - 0s 17ms/step\n"
     ]
    },
    {
     "data": {
      "text/plain": [
       "'truck'"
      ]
     },
     "execution_count": 242,
     "metadata": {},
     "output_type": "execute_result"
    }
   ],
   "source": [
    "cifar10_dic[np.argmax(cifar_model.predict(X_test[[1]]))]"
   ]
  },
  {
   "cell_type": "code",
   "execution_count": 278,
   "id": "bd3d5327-7ca1-4ed3-8108-ad4cbeb6135c",
   "metadata": {
    "tags": []
   },
   "outputs": [
    {
     "name": "stdout",
     "output_type": "stream",
     "text": [
      "1/1 [==============================] - 0s 17ms/step\n",
      "예측한 그림은 ship 입니다\n",
      "정답은 truck 입니다\n",
      "예측 실패..\n"
     ]
    },
    {
     "data": {
      "image/png": "[encoded data removed]",
      "text/plain": [
       "<Figure size 640x480 with 1 Axes>"
      ]
     },
     "metadata": {},
     "output_type": "display_data"
    }
   ],
   "source": [
    "cifar_predict(222)"
   ]
  },
  {
   "cell_type": "code",
   "execution_count": null,
   "id": "b4b337aa-a360-4163-b12b-c92411061dfc",
   "metadata": {},
   "outputs": [],
   "source": []
  }
 ],
 "metadata": {
  "kernelspec": {
   "display_name": "Python 3 (ipykernel)",
   "language": "python",
   "name": "python3"
  },
  "language_info": {
   "codemirror_mode": {
    "name": "ipython",
    "version": 3
   },
   "file_extension": ".py",
   "mimetype": "text/x-python",
   "name": "python",
   "nbconvert_exporter": "python",
   "pygments_lexer": "ipython3",
   "version": "3.11.4"
  }
 },
 "nbformat": 4,
 "nbformat_minor": 5
}
