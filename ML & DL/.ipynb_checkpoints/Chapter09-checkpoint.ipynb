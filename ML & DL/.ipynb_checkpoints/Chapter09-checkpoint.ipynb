{
 "cells": [
  {
   "cell_type": "markdown",
   "metadata": {
    "id": "sINh67_u7xPs"
   },
   "source": [
    "# 09 - 1"
   ]
  },
  {
   "cell_type": "code",
   "execution_count": 1,
   "metadata": {
    "executionInfo": {
     "elapsed": 3,
     "status": "ok",
     "timestamp": 1704989178545,
     "user": {
      "displayName": "TaeHwan Lim",
      "userId": "04481610122305672280"
     },
     "user_tz": -540
    },
    "id": "c_2GspRh70PW"
   },
   "outputs": [],
   "source": [
    "## 순차 데이터"
   ]
  },
  {
   "cell_type": "code",
   "execution_count": 2,
   "metadata": {
    "executionInfo": {
     "elapsed": 4,
     "status": "ok",
     "timestamp": 1704989178546,
     "user": {
      "displayName": "TaeHwan Lim",
      "userId": "04481610122305672280"
     },
     "user_tz": -540
    },
    "id": "7Za9QGS3Gkn7"
   },
   "outputs": [],
   "source": [
    "# 순차 데이터는 텍스트나 시계열 데이터와 같이 순서에 의미가 있는 데이터\n",
    "# 지금까지 했던 데이터는 순서가 상관 없었지만 순차 데이터를 다룰 때는 이전에 입력한 데이터를 기억하는 기능이 필요\n",
    "# 완전 연결 신경망이나 합성곱 신경망은 기억 장치가 없어서 정방향 계산을 수행하고 나면 샘플은 버려지고 재사용하지 않음 : 피드포워드 신경망"
   ]
  },
  {
   "cell_type": "code",
   "execution_count": 3,
   "metadata": {
    "executionInfo": {
     "elapsed": 4,
     "status": "ok",
     "timestamp": 1704989178546,
     "user": {
      "displayName": "TaeHwan Lim",
      "userId": "04481610122305672280"
     },
     "user_tz": -540
    },
    "id": "ciU3GsOcHgiD"
   },
   "outputs": [],
   "source": [
    "# 예를 들어 A, B, C 3개의 샘플을 처리하여 O 를 출력한다고 하면\n",
    "# A를 처리하고 출력된 OA 가 다시 뉴런으로 돌아가서 B 를 처리할 때 사용하여 OB 를 만듬\n",
    "# 그럼 OB에는 A에 관한 정보도 들어있음, 그 후 OB 가 다시 뉴런으로 돌아가 C 를 처리할 때 사용됨\n",
    "# 그렇게 출력된 OC에는 A와 B에 관한 정보가 어느 정도 포함되어 있을 것임\n",
    "# 이렇게 샘플을 처리하는 한 단계를 타임스텝이라고 부름"
   ]
  },
  {
   "cell_type": "code",
   "execution_count": 4,
   "metadata": {
    "executionInfo": {
     "elapsed": 3,
     "status": "ok",
     "timestamp": 1704989178546,
     "user": {
      "displayName": "TaeHwan Lim",
      "userId": "04481610122305672280"
     },
     "user_tz": -540
    },
    "id": "g5ldkikTIErA"
   },
   "outputs": [],
   "source": [
    "# 순환 신경망에서는 층을 셀이라고 부르고 여러 개의 뉴런을 모두 표시하지 않고 하나의 셀로 층을 표한함 또한 셀의 출력을 은닉 상태라고 부름\n",
    "# 일반적으로 은닉층의 활성화 함수로는 tanh를 사용함 : -1 ~ 1 사이의 범위를 가짐"
   ]
  },
  {
   "cell_type": "code",
   "execution_count": 5,
   "metadata": {
    "executionInfo": {
     "elapsed": 3,
     "status": "ok",
     "timestamp": 1704989178546,
     "user": {
      "displayName": "TaeHwan Lim",
      "userId": "04481610122305672280"
     },
     "user_tz": -540
    },
    "id": "vNJA-HJlI74k"
   },
   "outputs": [],
   "source": [
    "# 예를 들어 타임스텝 1에서 셀의 출력 h1이 타임스텝 2의 셀로 주입됨, 이 때 wh와 곱해짐, 마찬가지로 타임스텝 2에서 셀의 출력 h2가 타임스텝 3의 셀로 주입됨. 이떄도 wh와 곱해짐\n",
    "# 모든 타임스텝에서 사용되는 가중치는 wb 하나임\n",
    "# 타임스텝 1에서 사용되는 이전 은닉 상태 h0은 이전 타임스텝이 없기 때문에 h0은 간단하게 0으로 초기화됨"
   ]
  },
  {
   "cell_type": "code",
   "execution_count": 6,
   "metadata": {
    "executionInfo": {
     "elapsed": 3,
     "status": "ok",
     "timestamp": 1704989178546,
     "user": {
      "displayName": "TaeHwan Lim",
      "userId": "04481610122305672280"
     },
     "user_tz": -540
    },
    "id": "hMUX6rclIvve"
   },
   "outputs": [],
   "source": [
    "## 셀의 가중치와 입출력"
   ]
  },
  {
   "cell_type": "code",
   "execution_count": 7,
   "metadata": {
    "executionInfo": {
     "elapsed": 3,
     "status": "ok",
     "timestamp": 1704989178546,
     "user": {
      "displayName": "TaeHwan Lim",
      "userId": "04481610122305672280"
     },
     "user_tz": -540
    },
    "id": "s5InTtUSJioC"
   },
   "outputs": [],
   "source": [
    "# 예를 들어 입력 특성의 개수가 4개고 순환층의 뉴런이 3개라면\n",
    "# wx의 크기는 4 * 3 = 12개임\n",
    "# 순환층에서 다음 타임스텝에 재사용되는 은닉 상태를 위한 가중치 wh는 첫 번째 뉴런인 r1의 은닉상태가 r2, r3에도 전달되고, r2, r3도 마찬가지로 적용되므로 3 * 3 = 9개\n",
    "# 각 뉴런마다 하나의 절편이 있기에 총 모델 파라미터의 개수는 12 + 9 + 3 = 24\n",
    "# 순환층은 일반적으로 샘플마다 2개의 차원을 가짐, 하나의 샘플을 하나의 시퀀스라고 말함\n",
    "# 시퀀스 안에는 여러 개의 아이템이 들어 있으며, 시퀀스의 길이가 바로 타임스텝의 길이가 됨"
   ]
  },
  {
   "cell_type": "code",
   "execution_count": 8,
   "metadata": {
    "executionInfo": {
     "elapsed": 3,
     "status": "ok",
     "timestamp": 1704989178546,
     "user": {
      "displayName": "TaeHwan Lim",
      "userId": "04481610122305672280"
     },
     "user_tz": -540
    },
    "id": "nHhcMjovIu_N"
   },
   "outputs": [],
   "source": [
    "# 입력된 시퀀스 길이를 모두 읽어서 정보를 마지막 은닉 상태에 전달하는 느낌\n",
    "# 만약 층이 여러개라면 마지막 이외의 셀은 모든 타임스텝의 은닉 상태를 출력\n",
    "# 마지막 출력층은 다중 분류일 경우에는 출력층에 클래스 개수만큼 뉴런을 두고 소프트맥스\n",
    "# 이진 분류일 경우에는 하나의 뉴런을 두고 시그모이드 활성화 함수 사용"
   ]
  },
  {
   "cell_type": "markdown",
   "metadata": {
    "id": "CRmucAMfJSVh"
   },
   "source": [
    "# 09 - 2"
   ]
  },
  {
   "cell_type": "code",
   "execution_count": 9,
   "metadata": {
    "executionInfo": {
     "elapsed": 3,
     "status": "ok",
     "timestamp": 1704989178546,
     "user": {
      "displayName": "TaeHwan Lim",
      "userId": "04481610122305672280"
     },
     "user_tz": -540
    },
    "id": "Ge6IGT7LJRgk"
   },
   "outputs": [],
   "source": [
    "## IMDB 리뷰 데이터셋"
   ]
  },
  {
   "cell_type": "code",
   "execution_count": 10,
   "metadata": {
    "executionInfo": {
     "elapsed": 3,
     "status": "ok",
     "timestamp": 1704989178546,
     "user": {
      "displayName": "TaeHwan Lim",
      "userId": "04481610122305672280"
     },
     "user_tz": -540
    },
    "id": "JaODiR6MJuLj"
   },
   "outputs": [],
   "source": [
    "# 텍스트 자체가 신경망에 전달되는 것이 아닌 단어 당 하나의 정수 픽셀을 부여\n",
    "# 정수의 크기와 중요도와는 아무 관계가 없음\n",
    "# 이렇게 분리된 단어를 토큰 이라고 부름\n",
    "# 토큰에 할당되는 정수 중에서는 몇 개는 특정한 용도로 예약되어 있음\n",
    "# 예를 들어 0은 패딩, 1은 문장의 시작, 2는 어휘 사전에 없는 토큰임\n",
    "# 어휘 사전에 없는 토큰이란 훈련 세트에는 있지만 테스트 세트에는 없는 단어에는 2가 부여됨"
   ]
  },
  {
   "cell_type": "code",
   "execution_count": 11,
   "metadata": {
    "colab": {
     "base_uri": "https://localhost:8080/"
    },
    "executionInfo": {
     "elapsed": 19374,
     "status": "ok",
     "timestamp": 1704989197917,
     "user": {
      "displayName": "TaeHwan Lim",
      "userId": "04481610122305672280"
     },
     "user_tz": -540
    },
    "id": "3APUA8waKajF",
    "outputId": "7af1603e-2263-4b40-d799-d4824a34bbb5"
   },
   "outputs": [
    {
     "name": "stdout",
     "output_type": "stream",
     "text": [
      "WARNING:tensorflow:From C:\\Users\\user\\anaconda3\\Lib\\site-packages\\keras\\src\\losses.py:2976: The name tf.losses.sparse_softmax_cross_entropy is deprecated. Please use tf.compat.v1.losses.sparse_softmax_cross_entropy instead.\n",
      "\n"
     ]
    }
   ],
   "source": [
    "from tensorflow.keras.datasets import imdb\n",
    "(train_input, train_target), (test_input, test_target) = imdb.load_data(num_words=300)\n",
    "# 이미 정수로 바꾼 데이터를 가져옴\n",
    "# 전체 데이터셋에서 가장 자주 등장하는 단어 300개만 사용하기 위해 num_words의 매개변수를 300으로 지정"
   ]
  },
  {
   "cell_type": "code",
   "execution_count": 12,
   "metadata": {
    "colab": {
     "base_uri": "https://localhost:8080/"
    },
    "executionInfo": {
     "elapsed": 11,
     "status": "ok",
     "timestamp": 1704989197917,
     "user": {
      "displayName": "TaeHwan Lim",
      "userId": "04481610122305672280"
     },
     "user_tz": -540
    },
    "id": "saKByeFzKyud",
    "outputId": "afb86b24-b6de-40f6-f7a5-56b1eed9aac1"
   },
   "outputs": [
    {
     "data": {
      "text/plain": [
       "((25000,), (25000,))"
      ]
     },
     "execution_count": 12,
     "metadata": {},
     "output_type": "execute_result"
    }
   ],
   "source": [
    "train_input.shape, test_input.shape\n",
    "# IMDB 리뷰 텍스트는 길이가 제각각이므로 고정 크기의 2차원 배열보다는 리뷰마다 별도의 파이썬 리스트로 담아야 효율적으로 사용가능"
   ]
  },
  {
   "cell_type": "code",
   "execution_count": 13,
   "metadata": {
    "colab": {
     "base_uri": "https://localhost:8080/"
    },
    "executionInfo": {
     "elapsed": 2,
     "status": "ok",
     "timestamp": 1704989197917,
     "user": {
      "displayName": "TaeHwan Lim",
      "userId": "04481610122305672280"
     },
     "user_tz": -540
    },
    "id": "BmA0oCurK55b",
    "outputId": "d8cad894-87d8-4a9a-f20d-71f2c5ed61b4"
   },
   "outputs": [
    {
     "data": {
      "text/plain": [
       "218"
      ]
     },
     "execution_count": 13,
     "metadata": {},
     "output_type": "execute_result"
    }
   ],
   "source": [
    "# 첫 번째 리뷰의 길이\n",
    "len(train_input[0])"
   ]
  },
  {
   "cell_type": "code",
   "execution_count": 14,
   "metadata": {
    "colab": {
     "base_uri": "https://localhost:8080/"
    },
    "executionInfo": {
     "elapsed": 5,
     "status": "ok",
     "timestamp": 1704989198652,
     "user": {
      "displayName": "TaeHwan Lim",
      "userId": "04481610122305672280"
     },
     "user_tz": -540
    },
    "id": "QC-RSMtcLJ16",
    "outputId": "bf4c07a4-533a-4b79-9984-52634efcf5b0"
   },
   "outputs": [
    {
     "data": {
      "text/plain": [
       "189"
      ]
     },
     "execution_count": 14,
     "metadata": {},
     "output_type": "execute_result"
    }
   ],
   "source": [
    "# 두 번째 리뷰의 길이\n",
    "len(train_input[1])"
   ]
  },
  {
   "cell_type": "code",
   "execution_count": 15,
   "metadata": {
    "colab": {
     "base_uri": "https://localhost:8080/"
    },
    "executionInfo": {
     "elapsed": 4,
     "status": "ok",
     "timestamp": 1704989198652,
     "user": {
      "displayName": "TaeHwan Lim",
      "userId": "04481610122305672280"
     },
     "user_tz": -540
    },
    "id": "nhJ0I4RCLK8r",
    "outputId": "aa324eb0-c89f-4ecd-8fc8-2ce78e26bef4"
   },
   "outputs": [
    {
     "data": {
      "text/plain": [
       "[1,\n",
       " 14,\n",
       " 22,\n",
       " 16,\n",
       " 43,\n",
       " 2,\n",
       " 2,\n",
       " 2,\n",
       " 2,\n",
       " 65,\n",
       " 2,\n",
       " 2,\n",
       " 66,\n",
       " 2,\n",
       " 4,\n",
       " 173,\n",
       " 36,\n",
       " 256,\n",
       " 5,\n",
       " 25,\n",
       " 100,\n",
       " 43,\n",
       " 2,\n",
       " 112,\n",
       " 50,\n",
       " 2,\n",
       " 2,\n",
       " 9,\n",
       " 35,\n",
       " 2,\n",
       " 284,\n",
       " 5,\n",
       " 150,\n",
       " 4,\n",
       " 172,\n",
       " 112,\n",
       " 167,\n",
       " 2,\n",
       " 2,\n",
       " 2,\n",
       " 39,\n",
       " 4,\n",
       " 172,\n",
       " 2,\n",
       " 2,\n",
       " 17,\n",
       " 2,\n",
       " 38,\n",
       " 13,\n",
       " 2,\n",
       " 4,\n",
       " 192,\n",
       " 50,\n",
       " 16,\n",
       " 6,\n",
       " 147,\n",
       " 2,\n",
       " 19,\n",
       " 14,\n",
       " 22,\n",
       " 4,\n",
       " 2,\n",
       " 2,\n",
       " 2,\n",
       " 4,\n",
       " 22,\n",
       " 71,\n",
       " 87,\n",
       " 12,\n",
       " 16,\n",
       " 43,\n",
       " 2,\n",
       " 38,\n",
       " 76,\n",
       " 15,\n",
       " 13,\n",
       " 2,\n",
       " 4,\n",
       " 22,\n",
       " 17,\n",
       " 2,\n",
       " 17,\n",
       " 12,\n",
       " 16,\n",
       " 2,\n",
       " 18,\n",
       " 2,\n",
       " 5,\n",
       " 62,\n",
       " 2,\n",
       " 12,\n",
       " 8,\n",
       " 2,\n",
       " 8,\n",
       " 106,\n",
       " 5,\n",
       " 4,\n",
       " 2,\n",
       " 2,\n",
       " 16,\n",
       " 2,\n",
       " 66,\n",
       " 2,\n",
       " 33,\n",
       " 4,\n",
       " 130,\n",
       " 12,\n",
       " 16,\n",
       " 38,\n",
       " 2,\n",
       " 5,\n",
       " 25,\n",
       " 124,\n",
       " 51,\n",
       " 36,\n",
       " 135,\n",
       " 48,\n",
       " 25,\n",
       " 2,\n",
       " 33,\n",
       " 6,\n",
       " 22,\n",
       " 12,\n",
       " 215,\n",
       " 28,\n",
       " 77,\n",
       " 52,\n",
       " 5,\n",
       " 14,\n",
       " 2,\n",
       " 16,\n",
       " 82,\n",
       " 2,\n",
       " 8,\n",
       " 4,\n",
       " 107,\n",
       " 117,\n",
       " 2,\n",
       " 15,\n",
       " 256,\n",
       " 4,\n",
       " 2,\n",
       " 7,\n",
       " 2,\n",
       " 5,\n",
       " 2,\n",
       " 36,\n",
       " 71,\n",
       " 43,\n",
       " 2,\n",
       " 2,\n",
       " 26,\n",
       " 2,\n",
       " 2,\n",
       " 46,\n",
       " 7,\n",
       " 4,\n",
       " 2,\n",
       " 2,\n",
       " 13,\n",
       " 104,\n",
       " 88,\n",
       " 4,\n",
       " 2,\n",
       " 15,\n",
       " 297,\n",
       " 98,\n",
       " 32,\n",
       " 2,\n",
       " 56,\n",
       " 26,\n",
       " 141,\n",
       " 6,\n",
       " 194,\n",
       " 2,\n",
       " 18,\n",
       " 4,\n",
       " 226,\n",
       " 22,\n",
       " 21,\n",
       " 134,\n",
       " 2,\n",
       " 26,\n",
       " 2,\n",
       " 5,\n",
       " 144,\n",
       " 30,\n",
       " 2,\n",
       " 18,\n",
       " 51,\n",
       " 36,\n",
       " 28,\n",
       " 224,\n",
       " 92,\n",
       " 25,\n",
       " 104,\n",
       " 4,\n",
       " 226,\n",
       " 65,\n",
       " 16,\n",
       " 38,\n",
       " 2,\n",
       " 88,\n",
       " 12,\n",
       " 16,\n",
       " 283,\n",
       " 5,\n",
       " 16,\n",
       " 2,\n",
       " 113,\n",
       " 103,\n",
       " 32,\n",
       " 15,\n",
       " 16,\n",
       " 2,\n",
       " 19,\n",
       " 178,\n",
       " 32]"
      ]
     },
     "execution_count": 15,
     "metadata": {},
     "output_type": "execute_result"
    }
   ],
   "source": [
    "# 218 단어로 이루어진 첫 번째 리뷰 출력\n",
    "train_input[0]\n",
    "# 어휘 사전을 300으로 지정했기에 그 사전에 없는 단어들은 전부 2로 출력됨"
   ]
  },
  {
   "cell_type": "code",
   "execution_count": 16,
   "metadata": {
    "colab": {
     "base_uri": "https://localhost:8080/"
    },
    "executionInfo": {
     "elapsed": 3,
     "status": "ok",
     "timestamp": 1704989198652,
     "user": {
      "displayName": "TaeHwan Lim",
      "userId": "04481610122305672280"
     },
     "user_tz": -540
    },
    "id": "UyuUJORYLVJk",
    "outputId": "88b3d727-e8cf-42f7-bbbf-e7f7143e0b4b"
   },
   "outputs": [
    {
     "data": {
      "text/plain": [
       "array([1, 0, 0, 1, 0, 0, 1, 0, 1, 0, 1, 0, 0, 0, 0, 0, 1, 1, 0, 1],\n",
       "      dtype=int64)"
      ]
     },
     "execution_count": 16,
     "metadata": {},
     "output_type": "execute_result"
    }
   ],
   "source": [
    "train_target[:20]\n",
    "# 해당 리뷰가 긍정인지 부정인지 판단하는 것으로 타깃 값이 0과 1인 이진 분류 문제로 볼 수 있음"
   ]
  },
  {
   "cell_type": "code",
   "execution_count": 17,
   "metadata": {
    "executionInfo": {
     "elapsed": 1130,
     "status": "ok",
     "timestamp": 1704989199781,
     "user": {
      "displayName": "TaeHwan Lim",
      "userId": "04481610122305672280"
     },
     "user_tz": -540
    },
    "id": "kxTnjeG3LisJ"
   },
   "outputs": [],
   "source": [
    "from sklearn.model_selection import train_test_split\n",
    "train_input, val_input, train_target, val_target = train_test_split(train_input, train_target, test_size=0.2, random_state=42)"
   ]
  },
  {
   "cell_type": "code",
   "execution_count": 18,
   "metadata": {
    "executionInfo": {
     "elapsed": 3,
     "status": "ok",
     "timestamp": 1704989199781,
     "user": {
      "displayName": "TaeHwan Lim",
      "userId": "04481610122305672280"
     },
     "user_tz": -540
    },
    "id": "OFxojCnkL0RE"
   },
   "outputs": [],
   "source": [
    "# 평균적인 리뷰의 길이와 가장 짧은, 긴 리뷰의 길이를 확인하기 위해 리뷰의 길이를 계산해서 넘파이 배열에 담기\n",
    "import numpy as np\n",
    "lengths = np.array([len(x) for x in train_input])"
   ]
  },
  {
   "cell_type": "code",
   "execution_count": 19,
   "metadata": {
    "colab": {
     "base_uri": "https://localhost:8080/"
    },
    "executionInfo": {
     "elapsed": 4,
     "status": "ok",
     "timestamp": 1704989199782,
     "user": {
      "displayName": "TaeHwan Lim",
      "userId": "04481610122305672280"
     },
     "user_tz": -540
    },
    "id": "hSjo2Q5JMDjq",
    "outputId": "12599537-f5e2-4e09-a893-3ef600bed7a1"
   },
   "outputs": [
    {
     "data": {
      "text/plain": [
       "(239.00925, 178.0)"
      ]
     },
     "execution_count": 19,
     "metadata": {},
     "output_type": "execute_result"
    }
   ],
   "source": [
    "np.mean(lengths), np.median(lengths)\n",
    "# 리뷰의 평균 단어 개수가 239개이고 중간값이 178이므로 이 데이터는 한쪽이 치우쳐진 느낌"
   ]
  },
  {
   "cell_type": "code",
   "execution_count": 20,
   "metadata": {
    "colab": {
     "base_uri": "https://localhost:8080/",
     "height": 449
    },
    "executionInfo": {
     "elapsed": 795,
     "status": "ok",
     "timestamp": 1704989200574,
     "user": {
      "displayName": "TaeHwan Lim",
      "userId": "04481610122305672280"
     },
     "user_tz": -540
    },
    "id": "3SbHfGvFMHLZ",
    "outputId": "3c392eaa-6b40-4781-fe2b-c2ce7cc77a2f"
   },
   "outputs": [
    {
     "data": {
      "image/png": "[encoded data removed]",
      "text/plain": [
       "<Figure size 640x480 with 1 Axes>"
      ]
     },
     "metadata": {},
     "output_type": "display_data"
    }
   ],
   "source": [
    "import matplotlib.pyplot as plt\n",
    "plt.hist(lengths)\n",
    "plt.xlabel('length')\n",
    "plt.ylabel('frequency')\n",
    "plt.show()"
   ]
  },
  {
   "cell_type": "code",
   "execution_count": 21,
   "metadata": {
    "executionInfo": {
     "elapsed": 7,
     "status": "ok",
     "timestamp": 1704989200575,
     "user": {
      "displayName": "TaeHwan Lim",
      "userId": "04481610122305672280"
     },
     "user_tz": -540
    },
    "id": "ka3MjenjMbH7"
   },
   "outputs": [],
   "source": [
    "# 리뷰가 대부분 짧기 때문에 중간값보다 짧은 100개의 단어만 사용할 것이며, 100개의 단어보다 더 작은 리뷰들이 있기에 이런 리뷰들의 길이를 맞추기 위해 패딩을 사용하여 0 값을 넣음\n",
    "from tensorflow.keras.preprocessing.sequence import pad_sequences\n",
    "train_seq = pad_sequences(train_input, maxlen=100)\n",
    "# pad_sequences() 메서드에 maxlen 매개변수를 지정하면 이보다 긴 경우는 자르고 짧은 경우는 0으로 패딩함"
   ]
  },
  {
   "cell_type": "code",
   "execution_count": 22,
   "metadata": {
    "colab": {
     "base_uri": "https://localhost:8080/"
    },
    "executionInfo": {
     "elapsed": 7,
     "status": "ok",
     "timestamp": 1704989200575,
     "user": {
      "displayName": "TaeHwan Lim",
      "userId": "04481610122305672280"
     },
     "user_tz": -540
    },
    "id": "1bovM8aINCRk",
    "outputId": "6d837b0c-4382-41ea-afb1-c1fc04755fbf"
   },
   "outputs": [
    {
     "data": {
      "text/plain": [
       "(20000, 100)"
      ]
     },
     "execution_count": 22,
     "metadata": {},
     "output_type": "execute_result"
    }
   ],
   "source": [
    "train_seq.shape\n",
    "# train_input은 파이썬 리스트였지만 길이를 100으로 맞춰서 train_seq는 2차원 배열이 되었음"
   ]
  },
  {
   "cell_type": "code",
   "execution_count": 23,
   "metadata": {
    "colab": {
     "base_uri": "https://localhost:8080/"
    },
    "executionInfo": {
     "elapsed": 6,
     "status": "ok",
     "timestamp": 1704989200575,
     "user": {
      "displayName": "TaeHwan Lim",
      "userId": "04481610122305672280"
     },
     "user_tz": -540
    },
    "id": "H5T7c3jeND2r",
    "outputId": "203ee197-98a6-42ae-b0b7-d1dfc2b514cd"
   },
   "outputs": [
    {
     "data": {
      "text/plain": [
       "(array([ 10,   4,  20,   9,   2,   2,   2,   5,  45,   6,   2,   2,  33,\n",
       "        269,   8,   2, 142,   2,   5,   2,  17,  73,  17, 204,   5,   2,\n",
       "         19,  55,   2,   2,  92,  66, 104,  14,  20,  93,  76,   2, 151,\n",
       "         33,   4,  58,  12, 188,   2, 151,  12, 215,  69, 224, 142,  73,\n",
       "        237,   6,   2,   7,   2,   2, 188,   2, 103,  14,  31,  10,  10,\n",
       "          2,   7,   2,   5,   2,  80,  91,   2,  30,   2,  34,  14,  20,\n",
       "        151,  50,  26, 131,  49,   2,  84,  46,  50,  37,  80,  79,   6,\n",
       "          2,  46,   7,  14,  20,  10,  10,   2, 158]),\n",
       " [6, 2, 46, 7, 14, 20, 10, 10, 2, 158])"
      ]
     },
     "execution_count": 23,
     "metadata": {},
     "output_type": "execute_result"
    }
   ],
   "source": [
    "train_seq[0], train_input[0][-10:]\n",
    "# 첫 번째 데이터는 100자보다 많아서 잘렸으며 원래 데이터와 비교했을 시 샘플의 앞부분이 잘렸다는 것을 확인할 수 있음"
   ]
  },
  {
   "cell_type": "code",
   "execution_count": 24,
   "metadata": {
    "executionInfo": {
     "elapsed": 5,
     "status": "ok",
     "timestamp": 1704989200575,
     "user": {
      "displayName": "TaeHwan Lim",
      "userId": "04481610122305672280"
     },
     "user_tz": -540
    },
    "id": "CrOi6XM-NbrT"
   },
   "outputs": [],
   "source": [
    "# pad_sequences 는 기본적으로 앞부분을 자르지만 만약 뒷부분을 자르고 싶다면 truncating 매개변수 값을 pre가 아닌 post로 바꾸면 됨"
   ]
  },
  {
   "cell_type": "code",
   "execution_count": 25,
   "metadata": {
    "colab": {
     "base_uri": "https://localhost:8080/"
    },
    "executionInfo": {
     "elapsed": 5,
     "status": "ok",
     "timestamp": 1704989200575,
     "user": {
      "displayName": "TaeHwan Lim",
      "userId": "04481610122305672280"
     },
     "user_tz": -540
    },
    "id": "SOlAIGlTNwIs",
    "outputId": "a8624e74-848e-4337-84b5-5efc0aabc507"
   },
   "outputs": [
    {
     "data": {
      "text/plain": [
       "array([  0,   0,   0,   0,   1,   2, 195,  19,  49,   2,   2, 190,   4,\n",
       "         2,   2,   2, 183,  10,  10,  13,  82,  79,   4,   2,  36,  71,\n",
       "       269,   8,   2,  25,  19,  49,   7,   4,   2,   2,   2,   2,   2,\n",
       "        10,  10,  48,  25,  40,   2,  11,   2,   2,  40,   2,   2,   5,\n",
       "         4,   2,   2,  95,  14, 238,  56, 129,   2,  10,  10,  21,   2,\n",
       "        94,   2,   2,   2,   2,  11, 190,  24,   2,   2,   7,  94, 205,\n",
       "         2,  10,  10,  87,   2,  34,  49,   2,   7,   2,   2,   2,   2,\n",
       "         2, 290,   2,  46,  48,  64,  18,   4,   2])"
      ]
     },
     "execution_count": 25,
     "metadata": {},
     "output_type": "execute_result"
    }
   ],
   "source": [
    "train_seq[5]\n",
    "# 여섯 번째 데이터를 보면 100자보다 짧았던 리뷰라서 앞 부분이 0 패딩으로 채워진 것을 확인 할 수 있음"
   ]
  },
  {
   "cell_type": "code",
   "execution_count": 26,
   "metadata": {
    "executionInfo": {
     "elapsed": 4,
     "status": "ok",
     "timestamp": 1704989200575,
     "user": {
      "displayName": "TaeHwan Lim",
      "userId": "04481610122305672280"
     },
     "user_tz": -540
    },
    "id": "NcusNTJHN20T"
   },
   "outputs": [],
   "source": [
    "val_seq = pad_sequences(val_input, maxlen=100)"
   ]
  },
  {
   "cell_type": "code",
   "execution_count": 27,
   "metadata": {
    "executionInfo": {
     "elapsed": 4,
     "status": "ok",
     "timestamp": 1704989200575,
     "user": {
      "displayName": "TaeHwan Lim",
      "userId": "04481610122305672280"
     },
     "user_tz": -540
    },
    "id": "1t8a2hXzN9vC"
   },
   "outputs": [],
   "source": [
    "## 순환 신경망 만들기"
   ]
  },
  {
   "cell_type": "code",
   "execution_count": 28,
   "metadata": {
    "executionInfo": {
     "elapsed": 2134,
     "status": "ok",
     "timestamp": 1704989202705,
     "user": {
      "displayName": "TaeHwan Lim",
      "userId": "04481610122305672280"
     },
     "user_tz": -540
    },
    "id": "rZRELiwXN_Gr"
   },
   "outputs": [
    {
     "name": "stdout",
     "output_type": "stream",
     "text": [
      "WARNING:tensorflow:From C:\\Users\\user\\anaconda3\\Lib\\site-packages\\keras\\src\\backend.py:873: The name tf.get_default_graph is deprecated. Please use tf.compat.v1.get_default_graph instead.\n",
      "\n"
     ]
    }
   ],
   "source": [
    "from tensorflow import keras\n",
    "model = keras.Sequential()\n",
    "model.add(keras.layers.SimpleRNN(8, input_shape=(100,300)))\n",
    "model.add(keras.layers.Dense(1, activation='sigmoid'))\n",
    "# SimpleRNN의 첫 번째 매개변수는 사용할 뉴런의 개수, input_shape에서는 입력 차원 지정\n",
    "# 입력 차윈이 100,300인 것은 앞서 샘플의 길이를 100으로 지정했기 때문\n",
    "# 순환층의 활성화 함수는 대부분 tanh를 사용하며 기본값으로 적용되어 있음\n",
    "# 입력 차원의 300이란 숫자에 대해서 살펴보면\n",
    "# train_seq와 val_seq는 정수로 변환되어 있기 때문에 정수가 크면 활성화 출력도 커짐\n",
    "# 하지만 정수간에는 아무 관련이 없기에 크기 속성을 없애고 각 정수를 고유하게 표현해야함\n",
    "# 그러기 위해서 원-핫 인코딩을 사용할 예정이며\n",
    "# 여기서는 300개의 단어만을 사용하기로 했으므로 고유한 단어는 300개이고 이를 원-핫 인코딩으로 표현하려면 배열의 길이가 300이어야함"
   ]
  },
  {
   "cell_type": "code",
   "execution_count": 29,
   "metadata": {
    "colab": {
     "base_uri": "https://localhost:8080/"
    },
    "executionInfo": {
     "elapsed": 1080,
     "status": "ok",
     "timestamp": 1704989203783,
     "user": {
      "displayName": "TaeHwan Lim",
      "userId": "04481610122305672280"
     },
     "user_tz": -540
    },
    "id": "AE3M-JIJPn07",
    "outputId": "86b2608e-9267-4dc5-b13d-be964ae2bbb9"
   },
   "outputs": [
    {
     "data": {
      "text/plain": [
       "(20000, 100, 300)"
      ]
     },
     "execution_count": 29,
     "metadata": {},
     "output_type": "execute_result"
    }
   ],
   "source": [
    "train_oh = keras.utils.to_categorical(train_seq)\n",
    "train_oh.shape"
   ]
  },
  {
   "cell_type": "code",
   "execution_count": 30,
   "metadata": {
    "colab": {
     "base_uri": "https://localhost:8080/"
    },
    "executionInfo": {
     "elapsed": 3,
     "status": "ok",
     "timestamp": 1704989203783,
     "user": {
      "displayName": "TaeHwan Lim",
      "userId": "04481610122305672280"
     },
     "user_tz": -540
    },
    "id": "9sl_pPELPtdy",
    "outputId": "578e7278-7f13-4f8c-9b2e-33ab3bd37669"
   },
   "outputs": [
    {
     "data": {
      "text/plain": [
       "(array([0., 0., 0., 0., 0., 0., 0., 0., 0., 0., 1., 0.], dtype=float32), 1.0)"
      ]
     },
     "execution_count": 30,
     "metadata": {},
     "output_type": "execute_result"
    }
   ],
   "source": [
    "# 제대로 잘 변환 되었는가 테스트\n",
    "train_oh[0][0][:12], np.sum(train_oh[0][0])"
   ]
  },
  {
   "cell_type": "code",
   "execution_count": 31,
   "metadata": {
    "executionInfo": {
     "elapsed": 593,
     "status": "ok",
     "timestamp": 1704989204374,
     "user": {
      "displayName": "TaeHwan Lim",
      "userId": "04481610122305672280"
     },
     "user_tz": -540
    },
    "id": "USoqXFY8PzwK"
   },
   "outputs": [],
   "source": [
    "val_oh = keras.utils.to_categorical(val_seq)"
   ]
  },
  {
   "cell_type": "code",
   "execution_count": 32,
   "metadata": {
    "colab": {
     "base_uri": "https://localhost:8080/"
    },
    "executionInfo": {
     "elapsed": 4,
     "status": "ok",
     "timestamp": 1704989204374,
     "user": {
      "displayName": "TaeHwan Lim",
      "userId": "04481610122305672280"
     },
     "user_tz": -540
    },
    "id": "BJnGLou9QAEq",
    "outputId": "900fd887-6bed-49a2-bad0-fc7de1375603"
   },
   "outputs": [
    {
     "name": "stdout",
     "output_type": "stream",
     "text": [
      "Model: \"sequential\"\n",
      "_________________________________________________________________\n",
      " Layer (type)                Output Shape              Param #   \n",
      "=================================================================\n",
      " simple_rnn (SimpleRNN)      (None, 8)                 2472      \n",
      "                                                                 \n",
      " dense (Dense)               (None, 1)                 9         \n",
      "                                                                 \n",
      "=================================================================\n",
      "Total params: 2481 (9.69 KB)\n",
      "Trainable params: 2481 (9.69 KB)\n",
      "Non-trainable params: 0 (0.00 Byte)\n",
      "_________________________________________________________________\n"
     ]
    }
   ],
   "source": [
    "model.summary()"
   ]
  },
  {
   "cell_type": "code",
   "execution_count": 33,
   "metadata": {
    "executionInfo": {
     "elapsed": 3,
     "status": "ok",
     "timestamp": 1704989204374,
     "user": {
      "displayName": "TaeHwan Lim",
      "userId": "04481610122305672280"
     },
     "user_tz": -540
    },
    "id": "6_9rcBcxQBlq"
   },
   "outputs": [],
   "source": [
    "# 순환층의 마지막 타임스텝은 은닉 상태만 출력하기 때문에 뉴런 개수와 같은 8개\n",
    "# 파라미터 개수를 생각해보면 300차원의 토큰이 뉴런 8개와 연결되기 때문에 300 * 8 인 2400\n",
    "# 순환층의 은닉 상태는 다른 순환층의 뉴런과 연결되므로 8 * 8 인 64\n",
    "# 마지막으로 각 뉴런마다 절편이 하나씩 있으므로 8\n",
    "# 2400 + 64 + 8 = 2472 라는 결과가 나옴"
   ]
  },
  {
   "cell_type": "code",
   "execution_count": 34,
   "metadata": {
    "executionInfo": {
     "elapsed": 2,
     "status": "ok",
     "timestamp": 1704989204374,
     "user": {
      "displayName": "TaeHwan Lim",
      "userId": "04481610122305672280"
     },
     "user_tz": -540
    },
    "id": "dGwIAPzRQq5z"
   },
   "outputs": [],
   "source": [
    "## 순환 신경망 훈련하기"
   ]
  },
  {
   "cell_type": "code",
   "execution_count": 35,
   "metadata": {
    "colab": {
     "base_uri": "https://localhost:8080/"
    },
    "executionInfo": {
     "elapsed": 1362685,
     "status": "ok",
     "timestamp": 1704990567057,
     "user": {
      "displayName": "TaeHwan Lim",
      "userId": "04481610122305672280"
     },
     "user_tz": -540
    },
    "id": "AVLrimWkQr6L",
    "outputId": "5c6728ca-7316-407c-d31f-4614b9404002"
   },
   "outputs": [],
   "source": [
    "# # RMSproop의 기본 학습률은 0.001이므로 여기서는 0.0001로 지정하기 위해 따로 객체를 만듬\n",
    "rmsprop = keras.optimizers.RMSprop(learning_rate = 1e-4)\n",
    "model.compile(optimizer = rmsprop, loss='binary_crossentropy',metrics=['accuracy'])\n",
    "checkpoint_cb = keras.callbacks.ModelCheckpoint('best-simplernn-model.h5', save_best_only=True)\n",
    "early_stopping_cb = keras.callbacks.EarlyStopping(patience=3, restore_best_weights=True)\n",
    "history = model.fit(train_oh, train_target, epochs=100, batch_size=64, validation_data=(val_oh, val_target), callbacks=[checkpoint_cb, early_stopping_cb])\n"
   ]
  },
  {
   "cell_type": "code",
   "execution_count": 37,
   "metadata": {
    "executionInfo": {
     "elapsed": 11,
     "status": "ok",
     "timestamp": 1704990567057,
     "user": {
      "displayName": "TaeHwan Lim",
      "userId": "04481610122305672280"
     },
     "user_tz": -540
    },
    "id": "4ZH_r6cVReli"
   },
   "outputs": [],
   "source": [
    "plt.plot(history.history['loss'])\n",
    "plt.plot(history.history['val_loss'])\n",
    "plt.xlabel('epoch')\n",
    "plt.ylabel('loss')\n",
    "plt.legend(['train','val'])\n",
    "plt.show()"
   ]
  },
  {
   "cell_type": "code",
   "execution_count": 38,
   "metadata": {
    "colab": {
     "base_uri": "https://localhost:8080/"
    },
    "executionInfo": {
     "elapsed": 2,
     "status": "ok",
     "timestamp": 1704990614252,
     "user": {
      "displayName": "TaeHwan Lim",
      "userId": "04481610122305672280"
     },
     "user_tz": -540
    },
    "id": "EhN74M4KR-ci",
    "outputId": "6975031c-fad3-4148-b3dd-ea3151864dbe"
   },
   "outputs": [
    {
     "data": {
      "text/plain": [
       "(8000000, 2400000000)"
      ]
     },
     "execution_count": 38,
     "metadata": {},
     "output_type": "execute_result"
    }
   ],
   "source": [
    "# 여기서 이 작업을 하기위해서 토큰 한개 마다 원핫인코딩을 해서 입력 데이터가 너무 커짐\n",
    "train_seq.nbytes, train_oh.nbytes"
   ]
  },
  {
   "cell_type": "code",
   "execution_count": 39,
   "metadata": {
    "executionInfo": {
     "elapsed": 5,
     "status": "ok",
     "timestamp": 1704990614787,
     "user": {
      "displayName": "TaeHwan Lim",
      "userId": "04481610122305672280"
     },
     "user_tz": -540
    },
    "id": "HA6K03QwSRlA"
   },
   "outputs": [],
   "source": [
    "## 단어 임베딩을 사용하기"
   ]
  },
  {
   "cell_type": "code",
   "execution_count": 40,
   "metadata": {
    "executionInfo": {
     "elapsed": 4,
     "status": "ok",
     "timestamp": 1704990614787,
     "user": {
      "displayName": "TaeHwan Lim",
      "userId": "04481610122305672280"
     },
     "user_tz": -540
    },
    "id": "aLyPcWzASTGS"
   },
   "outputs": [],
   "source": [
    "# 단어 임베딩은 각 단어를 고정된 크기의 실수 벡터로 바꾸어 줌\n",
    "# keras.layers의 패키지 아래 Embedding 클래스로 임베딩 기능을 제공\n",
    "# 장점으로는 입력으로 정수 데이터를 받음으로 메모리를 훨씬 효율적으로 사용할 수 있다는 것\n",
    "# 앞에서 한 원-핫 인코딩은 크기의 샘플이 (100,300) 으로 커졌지만\n",
    "# 임베딩은 샘플을 (100,20) 으로 늘림으로써 훨씬 작은 크기로도 단어를 잘 표현 가능"
   ]
  },
  {
   "cell_type": "code",
   "execution_count": 41,
   "metadata": {
    "executionInfo": {
     "elapsed": 4,
     "status": "ok",
     "timestamp": 1704990614787,
     "user": {
      "displayName": "TaeHwan Lim",
      "userId": "04481610122305672280"
     },
     "user_tz": -540
    },
    "id": "3G8AyqBzS4uE"
   },
   "outputs": [],
   "source": [
    "model2 = keras.Sequential()\n",
    "model2.add(keras.layers.Embedding(300, 16, input_length=100))\n",
    "model2.add(keras.layers.SimpleRNN(8))\n",
    "model2.add(keras.layers.Dense(1, activation='sigmoid'))\n",
    "# Embedding의 첫 번째 매개변수 300 은 어휘 사전의 크기, 두 번째 매개변수 16은 임베딩 벡터의 크기, 세 번째 매개변수는 입력 시퀀스의 길이"
   ]
  },
  {
   "cell_type": "code",
   "execution_count": 42,
   "metadata": {
    "colab": {
     "base_uri": "https://localhost:8080/"
    },
    "executionInfo": {
     "elapsed": 4,
     "status": "ok",
     "timestamp": 1704990614787,
     "user": {
      "displayName": "TaeHwan Lim",
      "userId": "04481610122305672280"
     },
     "user_tz": -540
    },
    "id": "C3Nwy2XVTU4z",
    "outputId": "531ff31c-3351-44f0-8093-b52156282c4c"
   },
   "outputs": [
    {
     "name": "stdout",
     "output_type": "stream",
     "text": [
      "Model: \"sequential_1\"\n",
      "_________________________________________________________________\n",
      " Layer (type)                Output Shape              Param #   \n",
      "=================================================================\n",
      " embedding (Embedding)       (None, 100, 16)           4800      \n",
      "                                                                 \n",
      " simple_rnn_1 (SimpleRNN)    (None, 8)                 200       \n",
      "                                                                 \n",
      " dense_1 (Dense)             (None, 1)                 9         \n",
      "                                                                 \n",
      "=================================================================\n",
      "Total params: 5009 (19.57 KB)\n",
      "Trainable params: 5009 (19.57 KB)\n",
      "Non-trainable params: 0 (0.00 Byte)\n",
      "_________________________________________________________________\n"
     ]
    }
   ],
   "source": [
    "model2.summary()"
   ]
  },
  {
   "cell_type": "code",
   "execution_count": 43,
   "metadata": {
    "executionInfo": {
     "elapsed": 3,
     "status": "ok",
     "timestamp": 1704990614787,
     "user": {
      "displayName": "TaeHwan Lim",
      "userId": "04481610122305672280"
     },
     "user_tz": -540
    },
    "id": "Si0Gf0bbTWOp"
   },
   "outputs": [],
   "source": [
    "# 임베딩 층은 (100,) 크기를 입력받아 (100,16)크기의 출력을 만듬\n",
    "# Embedding 클래스는 300개의 토큰을 크기가 16인 벡터로 변경해서 총 300 * 16 = 4800\n",
    "# 그 후에 벡터의 크기인 16과 순환층의 뉴런 개수 8로 16 * 8 = 128\n",
    "# 그리고 각 은닉 상태 8개에 곱해지는 가중치 8개로 8 * 8 = 64\n",
    "# 마지막으로 각 뉴런마다 절편이 있으므로 8\n",
    "# 총 128 + 64 + 8 이므로 200\n",
    "# 마지막 Dense 층의 가중치 개수는 9개"
   ]
  },
  {
   "cell_type": "code",
   "execution_count": 44,
   "metadata": {
    "colab": {
     "base_uri": "https://localhost:8080/"
    },
    "executionInfo": {
     "elapsed": 448697,
     "status": "ok",
     "timestamp": 1704991210906,
     "user": {
      "displayName": "TaeHwan Lim",
      "userId": "04481610122305672280"
     },
     "user_tz": -540
    },
    "id": "p5f394r2UM9k",
    "outputId": "0a7047c4-b1e2-49e6-f45d-ae111cb0efe0"
   },
   "outputs": [
    {
     "name": "stdout",
     "output_type": "stream",
     "text": [
      "Epoch 1/100\n",
      "WARNING:tensorflow:From C:\\Users\\user\\anaconda3\\Lib\\site-packages\\keras\\src\\utils\\tf_utils.py:492: The name tf.ragged.RaggedTensorValue is deprecated. Please use tf.compat.v1.ragged.RaggedTensorValue instead.\n",
      "\n",
      "WARNING:tensorflow:From C:\\Users\\user\\anaconda3\\Lib\\site-packages\\keras\\src\\engine\\base_layer_utils.py:384: The name tf.executing_eagerly_outside_functions is deprecated. Please use tf.compat.v1.executing_eagerly_outside_functions instead.\n",
      "\n",
      "313/313 [==============================] - 5s 12ms/step - loss: 0.6958 - accuracy: 0.5047 - val_loss: 0.6913 - val_accuracy: 0.5234\n",
      "Epoch 2/100\n",
      " 12/313 [>.............................] - ETA: 3s - loss: 0.6885 - accuracy: 0.5182"
     ]
    },
    {
     "name": "stderr",
     "output_type": "stream",
     "text": [
      "C:\\Users\\user\\anaconda3\\Lib\\site-packages\\keras\\src\\engine\\training.py:3103: UserWarning: You are saving your model as an HDF5 file via `model.save()`. This file format is considered legacy. We recommend using instead the native Keras format, e.g. `model.save('my_model.keras')`.\n",
      "  saving_api.save_model(\n"
     ]
    },
    {
     "name": "stdout",
     "output_type": "stream",
     "text": [
      "313/313 [==============================] - 4s 12ms/step - loss: 0.6886 - accuracy: 0.5402 - val_loss: 0.6869 - val_accuracy: 0.5528\n",
      "Epoch 3/100\n",
      "313/313 [==============================] - 4s 11ms/step - loss: 0.6811 - accuracy: 0.5742 - val_loss: 0.6754 - val_accuracy: 0.5946\n",
      "Epoch 4/100\n",
      "313/313 [==============================] - 4s 11ms/step - loss: 0.6415 - accuracy: 0.6486 - val_loss: 0.6118 - val_accuracy: 0.6796\n",
      "Epoch 5/100\n",
      "313/313 [==============================] - 4s 12ms/step - loss: 0.5936 - accuracy: 0.7028 - val_loss: 0.5858 - val_accuracy: 0.7062\n",
      "Epoch 6/100\n",
      "313/313 [==============================] - 4s 12ms/step - loss: 0.5701 - accuracy: 0.7237 - val_loss: 0.5684 - val_accuracy: 0.7190\n",
      "Epoch 7/100\n",
      "313/313 [==============================] - 4s 11ms/step - loss: 0.5541 - accuracy: 0.7358 - val_loss: 0.5582 - val_accuracy: 0.7214\n",
      "Epoch 8/100\n",
      "313/313 [==============================] - 4s 12ms/step - loss: 0.5433 - accuracy: 0.7418 - val_loss: 0.5484 - val_accuracy: 0.7340\n",
      "Epoch 9/100\n",
      "313/313 [==============================] - 4s 12ms/step - loss: 0.5355 - accuracy: 0.7466 - val_loss: 0.5470 - val_accuracy: 0.7272\n",
      "Epoch 10/100\n",
      "313/313 [==============================] - 4s 11ms/step - loss: 0.5300 - accuracy: 0.7487 - val_loss: 0.5385 - val_accuracy: 0.7368\n",
      "Epoch 11/100\n",
      "313/313 [==============================] - 4s 11ms/step - loss: 0.5239 - accuracy: 0.7536 - val_loss: 0.5340 - val_accuracy: 0.7382\n",
      "Epoch 12/100\n",
      "313/313 [==============================] - 4s 12ms/step - loss: 0.5195 - accuracy: 0.7571 - val_loss: 0.5300 - val_accuracy: 0.7442\n",
      "Epoch 13/100\n",
      "313/313 [==============================] - 4s 12ms/step - loss: 0.5151 - accuracy: 0.7590 - val_loss: 0.5272 - val_accuracy: 0.7438\n",
      "Epoch 14/100\n",
      "313/313 [==============================] - 4s 11ms/step - loss: 0.5107 - accuracy: 0.7604 - val_loss: 0.5244 - val_accuracy: 0.7458\n",
      "Epoch 15/100\n",
      "313/313 [==============================] - 4s 12ms/step - loss: 0.5074 - accuracy: 0.7629 - val_loss: 0.5233 - val_accuracy: 0.7440\n",
      "Epoch 16/100\n",
      "313/313 [==============================] - 4s 11ms/step - loss: 0.5045 - accuracy: 0.7654 - val_loss: 0.5230 - val_accuracy: 0.7428\n",
      "Epoch 17/100\n",
      "313/313 [==============================] - 4s 12ms/step - loss: 0.5019 - accuracy: 0.7654 - val_loss: 0.5176 - val_accuracy: 0.7500\n",
      "Epoch 18/100\n",
      "313/313 [==============================] - 4s 11ms/step - loss: 0.4994 - accuracy: 0.7678 - val_loss: 0.5169 - val_accuracy: 0.7516\n",
      "Epoch 19/100\n",
      "313/313 [==============================] - 4s 12ms/step - loss: 0.4970 - accuracy: 0.7689 - val_loss: 0.5157 - val_accuracy: 0.7484\n",
      "Epoch 20/100\n",
      "313/313 [==============================] - 4s 11ms/step - loss: 0.4953 - accuracy: 0.7698 - val_loss: 0.5164 - val_accuracy: 0.7520\n",
      "Epoch 21/100\n",
      "313/313 [==============================] - 4s 11ms/step - loss: 0.4922 - accuracy: 0.7734 - val_loss: 0.5122 - val_accuracy: 0.7484\n",
      "Epoch 22/100\n",
      "313/313 [==============================] - 4s 11ms/step - loss: 0.4907 - accuracy: 0.7739 - val_loss: 0.5377 - val_accuracy: 0.7332\n",
      "Epoch 23/100\n",
      "313/313 [==============================] - 4s 11ms/step - loss: 0.4891 - accuracy: 0.7734 - val_loss: 0.5111 - val_accuracy: 0.7530\n",
      "Epoch 24/100\n",
      "313/313 [==============================] - 4s 11ms/step - loss: 0.4877 - accuracy: 0.7762 - val_loss: 0.5147 - val_accuracy: 0.7472\n",
      "Epoch 25/100\n",
      "313/313 [==============================] - 4s 11ms/step - loss: 0.4861 - accuracy: 0.7753 - val_loss: 0.5123 - val_accuracy: 0.7536\n",
      "Epoch 26/100\n",
      "313/313 [==============================] - 4s 11ms/step - loss: 0.4846 - accuracy: 0.7764 - val_loss: 0.5203 - val_accuracy: 0.7446\n"
     ]
    }
   ],
   "source": [
    "rmsprop = keras.optimizers.RMSprop(learning_rate = 1e-4)\n",
    "model2.compile(optimizer = rmsprop, loss='binary_crossentropy',metrics=['accuracy'])\n",
    "checkpoint_cb = keras.callbacks.ModelCheckpoint('best-embedding-model.h5', save_best_only=True)\n",
    "early_stopping_cb = keras.callbacks.EarlyStopping(patience=3, restore_best_weights=True)\n",
    "history = model2.fit(train_seq, train_target, epochs=100, batch_size=64, validation_data=(val_seq, val_target), callbacks=[checkpoint_cb, early_stopping_cb])"
   ]
  },
  {
   "cell_type": "code",
   "execution_count": 45,
   "metadata": {
    "colab": {
     "base_uri": "https://localhost:8080/",
     "height": 449
    },
    "executionInfo": {
     "elapsed": 13,
     "status": "ok",
     "timestamp": 1704991210906,
     "user": {
      "displayName": "TaeHwan Lim",
      "userId": "04481610122305672280"
     },
     "user_tz": -540
    },
    "id": "pRzveJ-nUfqw",
    "outputId": "b7850d6d-e267-4788-ef4f-07c5bb6886a1"
   },
   "outputs": [
    {
     "data": {
      "image/png": "[encoded data removed]",
      "text/plain": [
       "<Figure size 640x480 with 1 Axes>"
      ]
     },
     "metadata": {},
     "output_type": "display_data"
    }
   ],
   "source": [
    "plt.plot(history.history['loss'])\n",
    "plt.plot(history.history['val_loss'])\n",
    "plt.xlabel('epoch')\n",
    "plt.ylabel('loss')\n",
    "plt.legend(['train','val'])\n",
    "plt.show()"
   ]
  },
  {
   "cell_type": "code",
   "execution_count": null,
   "metadata": {
    "executionInfo": {
     "elapsed": 4,
     "status": "ok",
     "timestamp": 1704991210906,
     "user": {
      "displayName": "TaeHwan Lim",
      "userId": "04481610122305672280"
     },
     "user_tz": -540
    },
    "id": "QXqnBjUyUimx"
   },
   "outputs": [],
   "source": [
    "# 검증 손실이 더 감소하지 않아 훈련이 적절히 조기 종료 되었으나 훈련 손실은 계속 감소함"
   ]
  },
  {
   "cell_type": "markdown",
   "metadata": {
    "id": "kt7iToC5UsXM"
   },
   "source": [
    "# 09 - 3"
   ]
  },
  {
   "cell_type": "code",
   "execution_count": null,
   "metadata": {
    "id": "VZiyZtQ9Urse"
   },
   "outputs": [],
   "source": []
  }
 ],
 "metadata": {
  "accelerator": "GPU",
  "colab": {
   "authorship_tag": "ABX9TyN0aYPkp8Ptl/FQc6qgmupd",
   "gpuType": "T4",
   "provenance": []
  },
  "kernelspec": {
   "display_name": "Python 3 (ipykernel)",
   "language": "python",
   "name": "python3"
  },
  "language_info": {
   "codemirror_mode": {
    "name": "ipython",
    "version": 3
   },
   "file_extension": ".py",
   "mimetype": "text/x-python",
   "name": "python",
   "nbconvert_exporter": "python",
   "pygments_lexer": "ipython3",
   "version": "3.11.4"
  }
 },
 "nbformat": 4,
 "nbformat_minor": 4
}
