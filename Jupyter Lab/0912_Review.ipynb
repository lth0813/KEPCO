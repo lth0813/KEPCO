{
 "cells": [
  {
   "cell_type": "code",
   "execution_count": 1,
   "id": "6253aae5-e706-4c0c-bb47-8658fdb95122",
   "metadata": {
    "tags": []
   },
   "outputs": [],
   "source": [
    "import pandas as pd\n",
    "import numpy as np"
   ]
  },
  {
   "cell_type": "code",
   "execution_count": null,
   "id": "0204ea21-28dd-44b2-b713-19b2f5767c38",
   "metadata": {},
   "outputs": [],
   "source": [
    "origin_df = pd.DataFrame({'A':['강다솜','김나영','이강욱'],'B':['A','A','A'],'C':[1,2,3]})\n",
    "update_df = pd.DataFrame({'A':['강다솜','김나영','이강욱'],'B':['A','A','B'],'C':[10,20,30]})"
   ]
  },
  {
   "cell_type": "code",
   "execution_count": null,
   "id": "fe1ca431-66cf-4cf8-a76e-585c09f09cba",
   "metadata": {},
   "outputs": [],
   "source": [
    "# DataFrame 업데이트 하기"
   ]
  },
  {
   "cell_type": "code",
   "execution_count": null,
   "id": "5a28b866-4165-4c3d-b3b5-253043e2d1cb",
   "metadata": {},
   "outputs": [],
   "source": [
    "# Merge 함수로 합치기"
   ]
  },
  {
   "cell_type": "code",
   "execution_count": null,
   "id": "01a748ce-3c33-42b0-be36-e90ee88db13b",
   "metadata": {},
   "outputs": [],
   "source": [
    "# Replace 함수로 변수 바꾸기"
   ]
  },
  {
   "cell_type": "code",
   "execution_count": null,
   "id": "acdff553-cc4f-4634-bd93-6bb6c141c4c2",
   "metadata": {},
   "outputs": [],
   "source": [
    "df = pd.read_csv('https://bit.ly/3RhoNho')"
   ]
  },
  {
   "cell_type": "code",
   "execution_count": null,
   "id": "cb1d0bf2-3ac6-4102-ab64-3704342ca89a",
   "metadata": {},
   "outputs": [],
   "source": [
    "# drop 함수로 한 줄 삭제하기"
   ]
  },
  {
   "cell_type": "code",
   "execution_count": null,
   "id": "dc0fdb92-373f-40f5-be15-514a028b6695",
   "metadata": {},
   "outputs": [],
   "source": [
    "# NaN 개수 구하기"
   ]
  },
  {
   "cell_type": "code",
   "execution_count": null,
   "id": "bf76b8dd-a673-4537-b154-3f41b67df892",
   "metadata": {},
   "outputs": [],
   "source": [
    "# 정보 보고 Not NaN 개수 구하기"
   ]
  },
  {
   "cell_type": "code",
   "execution_count": null,
   "id": "f8168827-4cb5-44a6-8266-71a2947381ff",
   "metadata": {},
   "outputs": [],
   "source": [
    "# NaN을 다른 값으로 대체하기"
   ]
  },
  {
   "cell_type": "code",
   "execution_count": null,
   "id": "7c892918-1522-4aec-b5dc-5e91e0ea6565",
   "metadata": {},
   "outputs": [],
   "source": [
    "# '인공지능'이 들어간 값의 개수"
   ]
  },
  {
   "cell_type": "code",
   "execution_count": null,
   "id": "1e48ed33-03d0-496d-bc9c-dae82df121f7",
   "metadata": {},
   "outputs": [],
   "source": [
    "person = np.random.choice(['female','male'],size=10000)\n",
    "score = np.random.randint(50,100,size=(10000,4))\n",
    "columns = ['Gender','Korean','English','Math','Science']\n",
    "person = pd.DataFrame(person)\n",
    "person = pd.concat([person,pd.DataFrame(score)],axis=1)\n",
    "person.columns = columns\n",
    "total = person.Korean + person.English + person.Math + person.Science\n",
    "avg = total / 4"
   ]
  },
  {
   "cell_type": "code",
   "execution_count": null,
   "id": "d9b396e4-b5e9-4da0-be19-4f325cd48503",
   "metadata": {},
   "outputs": [],
   "source": [
    "# total, avg 행 추가하고 np.where 함수로 grade행 만들기"
   ]
  },
  {
   "cell_type": "code",
   "execution_count": null,
   "id": "783dc1c5-a59f-4440-b303-188e40a009ab",
   "metadata": {},
   "outputs": [],
   "source": [
    "# 평균값 내림차순으로 정렬하기"
   ]
  },
  {
   "cell_type": "code",
   "execution_count": null,
   "id": "46ae770d-cc45-43e9-901d-93139f1a75d6",
   "metadata": {},
   "outputs": [],
   "source": [
    "# 국어 시험 성적이 제일 높은 사람의 점수 출력하기"
   ]
  },
  {
   "cell_type": "code",
   "execution_count": null,
   "id": "35bc47c2-3ac8-4961-9e47-a94dc56260e0",
   "metadata": {},
   "outputs": [],
   "source": [
    "# 평균 점수 내림차순으로 데이터프레임 정렬하기"
   ]
  },
  {
   "cell_type": "code",
   "execution_count": null,
   "id": "322721ad-23eb-4c26-bf4f-0058c0538146",
   "metadata": {},
   "outputs": [],
   "source": [
    "# 제일 잘한 과목의 점수를 Best_Score 행으로 만들어 추가\n",
    "# 제일 잘한과목명을 Best_Subject 행으로 만들어 추가\n",
    "# 잘한 과목명 순서대로 Subject_Order 행으로 만들어 추가"
   ]
  },
  {
   "cell_type": "code",
   "execution_count": null,
   "id": "0df2cb7a-645a-4d72-9a7a-3e5a808adcf3",
   "metadata": {},
   "outputs": [],
   "source": [
    "# 성별, Grade로 합쳐서 각 행의 평균, 합, 개수 구하기"
   ]
  },
  {
   "cell_type": "code",
   "execution_count": null,
   "id": "67958c5e-b1fa-4583-b459-71f5d6c55649",
   "metadata": {},
   "outputs": [],
   "source": [
    "# person 데이터에서 가장 잘한 과목이 영어와 국어인 데이터를 제외하고 남자 여자의 영어, 수학의 평균을 구하기"
   ]
  },
  {
   "cell_type": "code",
   "execution_count": null,
   "id": "895cf7f8-9db1-4ae8-b27a-12a0e1750d48",
   "metadata": {},
   "outputs": [],
   "source": [
    "# 가장 잘하는 과목 명으로 병합 후 한국어와 영어 점수의 합 구하기"
   ]
  },
  {
   "cell_type": "code",
   "execution_count": null,
   "id": "3ddb0754-925c-4b02-b184-e09e56c9f7a2",
   "metadata": {},
   "outputs": [],
   "source": [
    "# 각 항목의 수치형 정보, object 형 정보 구하기"
   ]
  },
  {
   "cell_type": "code",
   "execution_count": null,
   "id": "eea76d2f-a697-4fb9-b9d7-dc60752fa96e",
   "metadata": {},
   "outputs": [],
   "source": [
    "# 수치형 정보에서 30% 60% 90%의 값 구하기"
   ]
  },
  {
   "cell_type": "code",
   "execution_count": null,
   "id": "9569a882-2d05-4fac-929d-8098bae44e82",
   "metadata": {},
   "outputs": [],
   "source": [
    "import matplotlib.pyplot as plt"
   ]
  },
  {
   "cell_type": "code",
   "execution_count": null,
   "id": "a27dd0da-f4e2-4868-9dd0-cb7c71b9b71f",
   "metadata": {},
   "outputs": [],
   "source": [
    "# 한국어 점수 그래프로 그리기"
   ]
  }
 ],
 "metadata": {
  "kernelspec": {
   "display_name": "Python 3 (ipykernel)",
   "language": "python",
   "name": "python3"
  },
  "language_info": {
   "codemirror_mode": {
    "name": "ipython",
    "version": 3
   },
   "file_extension": ".py",
   "mimetype": "text/x-python",
   "name": "python",
   "nbconvert_exporter": "python",
   "pygments_lexer": "ipython3",
   "version": "3.11.4"
  }
 },
 "nbformat": 4,
 "nbformat_minor": 5
}
